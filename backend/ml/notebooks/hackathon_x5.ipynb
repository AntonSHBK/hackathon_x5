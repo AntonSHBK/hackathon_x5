{
 "cells": [
  {
   "cell_type": "markdown",
   "id": "cce5d94a",
   "metadata": {},
   "source": [
    "# X5"
   ]
  },
  {
   "cell_type": "code",
   "execution_count": 76,
   "id": "837ebf48",
   "metadata": {},
   "outputs": [],
   "source": [
    "import random\n",
    "\n",
    "import numpy as np\n",
    "import pandas as pd\n",
    "\n",
    "import torch\n",
    "\n",
    "torch.cuda.empty_cache()\n",
    "\n",
    "def seed_all(seed: int) -> None:\n",
    "    np.random.seed(seed)\n",
    "    torch.manual_seed(seed)\n",
    "    torch.cuda.manual_seed(seed)\n",
    "    torch.cuda.manual_seed_all(seed)\n",
    "    torch.backends.cudnn.deterministic = True\n",
    "    torch.backends.cudnn.benchmark = False\n",
    "    random.seed(seed)"
   ]
  },
  {
   "cell_type": "code",
   "execution_count": 77,
   "id": "36e0b595",
   "metadata": {},
   "outputs": [],
   "source": [
    "SEED = 42\n",
    "# seed_all(SEED)"
   ]
  },
  {
   "cell_type": "code",
   "execution_count": 78,
   "id": "ed2f6b4c",
   "metadata": {},
   "outputs": [],
   "source": [
    "from pathlib import Path\n",
    "\n",
    "DATA_PATH = Path('../../../data/')\n",
    "DATA_PATH.mkdir(parents=True, exist_ok=True)\n",
    "\n",
    "DATA_PATH_DOWNLOAD = DATA_PATH / Path('download/')\n",
    "DATA_PATH_DOWNLOAD.mkdir(parents=True, exist_ok=True)\n",
    "\n",
    "DATA_PATH_DATASET = DATA_PATH / Path('datasets/')\n",
    "DATA_PATH_DATASET.mkdir(parents=True, exist_ok=True)\n",
    "\n",
    "DATA_SYNTHETICS = DATA_PATH / Path('synthetics/')\n",
    "DATA_PATH_DATASET.mkdir(parents=True, exist_ok=True)\n",
    "\n",
    "DATA_CACHE = DATA_PATH / Path('cache_dir/')\n",
    "DATA_CACHE.mkdir(parents=True, exist_ok=True)\n",
    "\n",
    "DATA_PATH_SAVE_MODELS = DATA_PATH / Path('models/')\n",
    "DATA_PATH_SAVE_MODELS.mkdir(parents=True, exist_ok=True)\n",
    "\n",
    "DATA_IMGS = DATA_PATH /  Path('imgs/')\n",
    "DATA_IMGS.mkdir(parents=True, exist_ok=True)\n",
    "\n",
    "import pandas as pd\n",
    "\n",
    "pd.set_option('display.max_colwidth', 500) "
   ]
  },
  {
   "cell_type": "code",
   "execution_count": 79,
   "id": "d7fcec7a",
   "metadata": {},
   "outputs": [],
   "source": [
    "import sys\n",
    "import os\n",
    "\n",
    "project_path = os.path.abspath(os.path.join(os.getcwd(), \"../../\"))\n",
    "sys.path.append(project_path)"
   ]
  },
  {
   "cell_type": "code",
   "execution_count": 80,
   "id": "db7ff8fb",
   "metadata": {},
   "outputs": [],
   "source": [
    "BASE_MODEL_NAME = 'cointegrated/rubert-tiny2'\n",
    "# BASE_MODEL_NAME = 'MoritzLaurer/mDeBERTa-v3-base-mnli-xnli'\n",
    "# BASE_MODEL_NAME = 'DeepPavlov/rubert-base-cased'\n",
    "MODEL_NAME_SAVE = \"ner_x5\"\n",
    "MODEL_CHECKPOINT_PATH = \"ner_x5_checkpoint\""
   ]
  },
  {
   "cell_type": "code",
   "execution_count": 81,
   "id": "66775d5f",
   "metadata": {},
   "outputs": [],
   "source": [
    "from datetime import datetime\n",
    "\n",
    "current_date = datetime.now().strftime(\"%d-%m-%Y\")\n",
    "DATA_LOG = DATA_PATH / Path(f'../logs/{MODEL_NAME_SAVE}_{current_date}')\n",
    "DATA_LOG.mkdir(parents=True, exist_ok=True)"
   ]
  },
  {
   "cell_type": "code",
   "execution_count": null,
   "id": "5a7fed11",
   "metadata": {},
   "outputs": [],
   "source": [
    "MAX_LENGTH = 16\n",
    "BATCH_SIZE = 128"
   ]
  },
  {
   "cell_type": "markdown",
   "id": "a008b155",
   "metadata": {},
   "source": [
    "# Данные"
   ]
  },
  {
   "cell_type": "code",
   "execution_count": 83,
   "id": "4db66fba",
   "metadata": {},
   "outputs": [],
   "source": [
    "df_x5 = pd.read_csv(DATA_PATH_DATASET / \"train.csv\", sep=\";\")"
   ]
  },
  {
   "cell_type": "code",
   "execution_count": 84,
   "id": "462ecef9",
   "metadata": {},
   "outputs": [
    {
     "data": {
      "text/html": [
       "<div>\n",
       "<style scoped>\n",
       "    .dataframe tbody tr th:only-of-type {\n",
       "        vertical-align: middle;\n",
       "    }\n",
       "\n",
       "    .dataframe tbody tr th {\n",
       "        vertical-align: top;\n",
       "    }\n",
       "\n",
       "    .dataframe thead th {\n",
       "        text-align: right;\n",
       "    }\n",
       "</style>\n",
       "<table border=\"1\" class=\"dataframe\">\n",
       "  <thead>\n",
       "    <tr style=\"text-align: right;\">\n",
       "      <th></th>\n",
       "      <th>sample</th>\n",
       "      <th>annotation</th>\n",
       "    </tr>\n",
       "  </thead>\n",
       "  <tbody>\n",
       "    <tr>\n",
       "      <th>4180</th>\n",
       "      <td>бургер соус</td>\n",
       "      <td>[(0, 6, 'B-TYPE'), (7, 11, 'I-TYPE')]</td>\n",
       "    </tr>\n",
       "    <tr>\n",
       "      <th>18737</th>\n",
       "      <td>ромовая баба</td>\n",
       "      <td>[(0, 7, 'B-TYPE'), (8, 12, 'I-TYPE')]</td>\n",
       "    </tr>\n",
       "    <tr>\n",
       "      <th>1762</th>\n",
       "      <td>paterra тряпк</td>\n",
       "      <td>[(0, 7, 'B-BRAND'), (8, 13, 'B-TYPE')]</td>\n",
       "    </tr>\n",
       "    <tr>\n",
       "      <th>12038</th>\n",
       "      <td>макаронеы</td>\n",
       "      <td>[(0, 9, 'B-TYPE')]</td>\n",
       "    </tr>\n",
       "    <tr>\n",
       "      <th>2893</th>\n",
       "      <td>аэрозо</td>\n",
       "      <td>[(0, 6, 'B-TYPE')]</td>\n",
       "    </tr>\n",
       "  </tbody>\n",
       "</table>\n",
       "</div>"
      ],
      "text/plain": [
       "              sample                              annotation\n",
       "4180     бургер соус   [(0, 6, 'B-TYPE'), (7, 11, 'I-TYPE')]\n",
       "18737   ромовая баба   [(0, 7, 'B-TYPE'), (8, 12, 'I-TYPE')]\n",
       "1762   paterra тряпк  [(0, 7, 'B-BRAND'), (8, 13, 'B-TYPE')]\n",
       "12038      макаронеы                      [(0, 9, 'B-TYPE')]\n",
       "2893          аэрозо                      [(0, 6, 'B-TYPE')]"
      ]
     },
     "execution_count": 84,
     "metadata": {},
     "output_type": "execute_result"
    }
   ],
   "source": [
    "df_x5.sample(5)"
   ]
  },
  {
   "cell_type": "code",
   "execution_count": 85,
   "id": "f19774fb",
   "metadata": {},
   "outputs": [],
   "source": [
    "def normalize_annotations(ann_list):\n",
    "    if isinstance(ann_list, str):\n",
    "        ann_list = eval(ann_list)\n",
    "    new_list = []\n",
    "    for start, end, label in ann_list:\n",
    "        if label == \"0\":\n",
    "            label = \"O\"\n",
    "        new_list.append((start, end, label))\n",
    "    return new_list\n",
    "\n",
    "df_x5[\"annotation\"] = df_x5[\"annotation\"].apply(normalize_annotations)"
   ]
  },
  {
   "cell_type": "code",
   "execution_count": 86,
   "id": "b0514259",
   "metadata": {},
   "outputs": [
    {
     "data": {
      "text/plain": [
       "['B-BRAND',\n",
       " 'B-PERCENT',\n",
       " 'B-TYPE',\n",
       " 'B-VOLUME',\n",
       " 'I-BRAND',\n",
       " 'I-PERCENT',\n",
       " 'I-TYPE',\n",
       " 'I-VOLUME',\n",
       " 'O']"
      ]
     },
     "execution_count": 86,
     "metadata": {},
     "output_type": "execute_result"
    }
   ],
   "source": [
    "all_labels = set()\n",
    "\n",
    "for ann_list in df_x5[\"annotation\"]:\n",
    "    if isinstance(ann_list, str):\n",
    "        ann_list = eval(ann_list)\n",
    "    for _, _, label in ann_list:\n",
    "        all_labels.add(label)\n",
    "\n",
    "unique_labels = sorted(all_labels)\n",
    "unique_labels"
   ]
  },
  {
   "cell_type": "code",
   "execution_count": 87,
   "id": "1bce1723",
   "metadata": {},
   "outputs": [],
   "source": [
    "import ast\n",
    "\n",
    "def fix_annotations(ann):\n",
    "    if isinstance(ann, str):\n",
    "        ann = ast.literal_eval(ann)\n",
    "\n",
    "    new_ann = []\n",
    "    prev_label = None\n",
    "\n",
    "    for start, end, label in ann:\n",
    "        if label == \"O\":\n",
    "            if prev_label is None:\n",
    "                new_label = \"B-TYPE\"\n",
    "            elif prev_label.startswith((\"B-\", \"I-\")):\n",
    "                ent_type = prev_label.split(\"-\", 1)[-1]\n",
    "                new_label = f\"I-{ent_type}\"\n",
    "            else:\n",
    "                new_label = \"B-TYPE\"\n",
    "        else:\n",
    "            new_label = label\n",
    "\n",
    "        new_ann.append((start, end, new_label))\n",
    "        prev_label = new_label\n",
    "\n",
    "    return new_ann\n"
   ]
  },
  {
   "cell_type": "code",
   "execution_count": 88,
   "id": "90aeb8ef",
   "metadata": {},
   "outputs": [],
   "source": [
    "\n",
    "\n",
    "df_x5[\"annotation\"] = df_x5[\"annotation\"].apply(fix_annotations)\n"
   ]
  },
  {
   "cell_type": "code",
   "execution_count": 89,
   "id": "27c13579",
   "metadata": {},
   "outputs": [
    {
     "data": {
      "text/html": [
       "<div>\n",
       "<style scoped>\n",
       "    .dataframe tbody tr th:only-of-type {\n",
       "        vertical-align: middle;\n",
       "    }\n",
       "\n",
       "    .dataframe tbody tr th {\n",
       "        vertical-align: top;\n",
       "    }\n",
       "\n",
       "    .dataframe thead th {\n",
       "        text-align: right;\n",
       "    }\n",
       "</style>\n",
       "<table border=\"1\" class=\"dataframe\">\n",
       "  <thead>\n",
       "    <tr style=\"text-align: right;\">\n",
       "      <th></th>\n",
       "      <th>sample</th>\n",
       "      <th>annotation</th>\n",
       "    </tr>\n",
       "  </thead>\n",
       "  <tbody>\n",
       "    <tr>\n",
       "      <th>7106</th>\n",
       "      <td>журнаыл</td>\n",
       "      <td>[(0, 7, B-TYPE)]</td>\n",
       "    </tr>\n",
       "    <tr>\n",
       "      <th>5618</th>\n",
       "      <td>говядина охлажденная</td>\n",
       "      <td>[(0, 8, B-TYPE), (9, 20, I-TYPE)]</td>\n",
       "    </tr>\n",
       "    <tr>\n",
       "      <th>8563</th>\n",
       "      <td>картофешь</td>\n",
       "      <td>[(0, 9, B-TYPE)]</td>\n",
       "    </tr>\n",
       "    <tr>\n",
       "      <th>19828</th>\n",
       "      <td>селедка под хубой</td>\n",
       "      <td>[(0, 7, B-TYPE), (8, 11, I-TYPE), (12, 17, I-TYPE)]</td>\n",
       "    </tr>\n",
       "    <tr>\n",
       "      <th>2126</th>\n",
       "      <td>sweet box</td>\n",
       "      <td>[(0, 5, B-TYPE), (6, 9, I-TYPE)]</td>\n",
       "    </tr>\n",
       "  </tbody>\n",
       "</table>\n",
       "</div>"
      ],
      "text/plain": [
       "                     sample  \\\n",
       "7106                журнаыл   \n",
       "5618   говядина охлажденная   \n",
       "8563              картофешь   \n",
       "19828     селедка под хубой   \n",
       "2126              sweet box   \n",
       "\n",
       "                                                annotation  \n",
       "7106                                      [(0, 7, B-TYPE)]  \n",
       "5618                     [(0, 8, B-TYPE), (9, 20, I-TYPE)]  \n",
       "8563                                      [(0, 9, B-TYPE)]  \n",
       "19828  [(0, 7, B-TYPE), (8, 11, I-TYPE), (12, 17, I-TYPE)]  \n",
       "2126                      [(0, 5, B-TYPE), (6, 9, I-TYPE)]  "
      ]
     },
     "execution_count": 89,
     "metadata": {},
     "output_type": "execute_result"
    }
   ],
   "source": [
    "df_x5.sample(5)"
   ]
  },
  {
   "cell_type": "code",
   "execution_count": 90,
   "id": "bb33251a",
   "metadata": {},
   "outputs": [],
   "source": [
    "df_submission = pd.read_csv(DATA_PATH_DATASET / \"submission.csv\", sep=\";\")\n",
    "df_submission[\"annotation\"] = df_submission[\"annotation\"].apply(normalize_annotations)"
   ]
  },
  {
   "cell_type": "code",
   "execution_count": 91,
   "id": "52c18957",
   "metadata": {},
   "outputs": [],
   "source": [
    "import pandas as pd\n",
    "from pathlib import Path\n",
    "import ast\n",
    "\n",
    "def load_synthetic_file(file_path: str | Path) -> pd.DataFrame:\n",
    "    file_path = Path(file_path)\n",
    "    data = []\n",
    "\n",
    "    with open(file_path, \"r\", encoding=\"utf-8\") as f:\n",
    "        for line in f:\n",
    "            line = line.strip()\n",
    "            if not line:\n",
    "                continue\n",
    "\n",
    "            try:\n",
    "                text, ann_str = line.split(\";\", 1)\n",
    "                text = text.strip()\n",
    "                annotation = ast.literal_eval(ann_str.strip())\n",
    "                data.append({\"sample\": text, \"annotation\": annotation})\n",
    "            except Exception as e:\n",
    "                print(f\"Ошибка при обработке строки в {file_path}: {line}\\n{e}\")\n",
    "\n",
    "    return pd.DataFrame(data)\n"
   ]
  },
  {
   "cell_type": "code",
   "execution_count": 92,
   "id": "71e4679c",
   "metadata": {},
   "outputs": [],
   "source": [
    "def load_synthetic_dataset(data_dir: str | Path) -> pd.DataFrame:\n",
    "    data_dir = Path(data_dir)\n",
    "    all_dfs = []\n",
    "\n",
    "    for file_path in data_dir.glob(\"*.txt\"):\n",
    "        df_file = load_synthetic_file(file_path)\n",
    "        all_dfs.append(df_file)\n",
    "\n",
    "    if all_dfs:\n",
    "        return pd.concat(all_dfs).reset_index(drop=True)\n",
    "    else:\n",
    "        return pd.DataFrame(columns=[\"sample\", \"annotation\"])\n"
   ]
  },
  {
   "cell_type": "code",
   "execution_count": 93,
   "id": "c6838138",
   "metadata": {},
   "outputs": [],
   "source": [
    "df_synthetic = load_synthetic_dataset(DATA_SYNTHETICS)"
   ]
  },
  {
   "cell_type": "code",
   "execution_count": 94,
   "id": "ce666f8a",
   "metadata": {},
   "outputs": [],
   "source": [
    "df_x5[\"df_label\"] = \"x5\"\n",
    "df_synthetic[\"df_label\"] = \"synthetic\"\n",
    "\n",
    "dfs = []\n",
    "dfs.append(df_x5)\n",
    "# dfs.append(df_synthetic)"
   ]
  },
  {
   "cell_type": "code",
   "execution_count": 95,
   "id": "bcba52db",
   "metadata": {},
   "outputs": [
    {
     "name": "stdout",
     "output_type": "stream",
     "text": [
      "Размеры датафреймов. df_x5: (27251, 3) , df_synthetic: (4004, 3)\n"
     ]
    }
   ],
   "source": [
    "print(\"Размеры датафреймов. df_x5:\", df_x5.shape, \", df_synthetic:\", df_synthetic.shape)"
   ]
  },
  {
   "cell_type": "code",
   "execution_count": 96,
   "id": "0fe5c506",
   "metadata": {},
   "outputs": [],
   "source": [
    "df_train = pd.concat(dfs, ignore_index=True)\n",
    "# df_train = df_train.drop_duplicates(subset=[\"sample\"]).reset_index(drop=True)"
   ]
  },
  {
   "cell_type": "code",
   "execution_count": 97,
   "id": "b11f7180",
   "metadata": {},
   "outputs": [
    {
     "data": {
      "text/html": [
       "<div>\n",
       "<style scoped>\n",
       "    .dataframe tbody tr th:only-of-type {\n",
       "        vertical-align: middle;\n",
       "    }\n",
       "\n",
       "    .dataframe tbody tr th {\n",
       "        vertical-align: top;\n",
       "    }\n",
       "\n",
       "    .dataframe thead th {\n",
       "        text-align: right;\n",
       "    }\n",
       "</style>\n",
       "<table border=\"1\" class=\"dataframe\">\n",
       "  <thead>\n",
       "    <tr style=\"text-align: right;\">\n",
       "      <th></th>\n",
       "      <th>sample</th>\n",
       "      <th>annotation</th>\n",
       "      <th>df_label</th>\n",
       "    </tr>\n",
       "  </thead>\n",
       "  <tbody>\n",
       "    <tr>\n",
       "      <th>3810</th>\n",
       "      <td>свинина говядина</td>\n",
       "      <td>[(0, 7, B-TYPE), (8, 16, B-TYPE)]</td>\n",
       "      <td>synthetic</td>\n",
       "    </tr>\n",
       "    <tr>\n",
       "      <th>1888</th>\n",
       "      <td>корзинка плетёная милка</td>\n",
       "      <td>[(0, 8, B-TYPE), (9, 17, I-TYPE), (18, 23, B-BRAND)]</td>\n",
       "      <td>synthetic</td>\n",
       "    </tr>\n",
       "    <tr>\n",
       "      <th>2043</th>\n",
       "      <td>фарш куричий сочн</td>\n",
       "      <td>[(0, 4, B-TYPE), (5, 13, I-TYPE), (14, 18, I-TYPE)]</td>\n",
       "      <td>synthetic</td>\n",
       "    </tr>\n",
       "    <tr>\n",
       "      <th>988</th>\n",
       "      <td>сыр моцарелла галбани шарики 45% 125 г</td>\n",
       "      <td>[(0, 3, B-TYPE), (4, 13, I-TYPE), (14, 21, B-BRAND), (35, 39, B-PERCENT), (40, 45, B-VOLUME)]</td>\n",
       "      <td>synthetic</td>\n",
       "    </tr>\n",
       "    <tr>\n",
       "      <th>805</th>\n",
       "      <td>пиво три медведя 0.45 л</td>\n",
       "      <td>[(0, 4, B-TYPE), (5, 16, B-BRAND), (17, 22, B-VOLUME)]</td>\n",
       "      <td>synthetic</td>\n",
       "    </tr>\n",
       "  </tbody>\n",
       "</table>\n",
       "</div>"
      ],
      "text/plain": [
       "                                      sample  \\\n",
       "3810                        свинина говядина   \n",
       "1888                 корзинка плетёная милка   \n",
       "2043                       фарш куричий сочн   \n",
       "988   сыр моцарелла галбани шарики 45% 125 г   \n",
       "805                  пиво три медведя 0.45 л   \n",
       "\n",
       "                                                                                         annotation  \\\n",
       "3810                                                              [(0, 7, B-TYPE), (8, 16, B-TYPE)]   \n",
       "1888                                           [(0, 8, B-TYPE), (9, 17, I-TYPE), (18, 23, B-BRAND)]   \n",
       "2043                                            [(0, 4, B-TYPE), (5, 13, I-TYPE), (14, 18, I-TYPE)]   \n",
       "988   [(0, 3, B-TYPE), (4, 13, I-TYPE), (14, 21, B-BRAND), (35, 39, B-PERCENT), (40, 45, B-VOLUME)]   \n",
       "805                                          [(0, 4, B-TYPE), (5, 16, B-BRAND), (17, 22, B-VOLUME)]   \n",
       "\n",
       "       df_label  \n",
       "3810  synthetic  \n",
       "1888  synthetic  \n",
       "2043  synthetic  \n",
       "988   synthetic  \n",
       "805   synthetic  "
      ]
     },
     "execution_count": 97,
     "metadata": {},
     "output_type": "execute_result"
    }
   ],
   "source": [
    "df_synthetic.sample(5)"
   ]
  },
  {
   "cell_type": "markdown",
   "id": "362e3993",
   "metadata": {},
   "source": [
    "# Словари"
   ]
  },
  {
   "cell_type": "code",
   "execution_count": 98,
   "id": "97c21ffd",
   "metadata": {},
   "outputs": [
    {
     "name": "stdout",
     "output_type": "stream",
     "text": [
      "label2idx: {'O': 0, 'B-BRAND': 1, 'I-BRAND': 2, 'B-PERCENT': 3, 'I-PERCENT': 4, 'B-TYPE': 5, 'I-TYPE': 6, 'B-VOLUME': 7, 'I-VOLUME': 8}\n",
      "idx2label: {0: 'O', 1: 'B-BRAND', 2: 'I-BRAND', 3: 'B-PERCENT', 4: 'I-PERCENT', 5: 'B-TYPE', 6: 'I-TYPE', 7: 'B-VOLUME', 8: 'I-VOLUME'}\n"
     ]
    }
   ],
   "source": [
    "unique_labels = {label for anns in df_train[\"annotation\"] for _, _, label in anns if label != \"O\"}\n",
    "\n",
    "b_labels = sorted([lbl for lbl in unique_labels if lbl.startswith(\"B-\")])\n",
    "i_labels = {lbl[2:]: lbl for lbl in unique_labels if lbl.startswith(\"I-\")}\n",
    "\n",
    "all_labels = [\"O\"]\n",
    "for b in b_labels:\n",
    "    all_labels.append(b)\n",
    "    base = b[2:]\n",
    "    if base in i_labels:\n",
    "        all_labels.append(i_labels[base])\n",
    "\n",
    "label2idx = {label: idx for idx, label in enumerate(all_labels)}\n",
    "idx2label = {idx: label for label, idx in label2idx.items()}\n",
    "\n",
    "print(\"label2idx:\", label2idx)\n",
    "print(\"idx2label:\", idx2label)\n"
   ]
  },
  {
   "cell_type": "code",
   "execution_count": 99,
   "id": "d4c72237",
   "metadata": {},
   "outputs": [
    {
     "name": "stdout",
     "output_type": "stream",
     "text": [
      "Словарь label2idx сохранён в ..\\..\\..\\data\\models\\label2idx.json\n",
      "Словарь idx2label сохранён в ..\\..\\..\\data\\models\\idx2label.json\n"
     ]
    }
   ],
   "source": [
    "import json\n",
    "\n",
    "label2idx_path = DATA_PATH_SAVE_MODELS / \"label2idx.json\"\n",
    "idx2label_path = DATA_PATH_SAVE_MODELS / \"idx2label.json\"\n",
    "\n",
    "with open(label2idx_path, \"w\", encoding=\"utf-8\") as f:\n",
    "    json.dump(label2idx, f, ensure_ascii=False, indent=4)\n",
    "\n",
    "with open(idx2label_path, \"w\", encoding=\"utf-8\") as f:\n",
    "    json.dump(idx2label, f, ensure_ascii=False, indent=4)\n",
    "\n",
    "print(f\"Словарь label2idx сохранён в {label2idx_path}\")\n",
    "print(f\"Словарь idx2label сохранён в {idx2label_path}\")"
   ]
  },
  {
   "cell_type": "markdown",
   "id": "d56d0c1a",
   "metadata": {},
   "source": [
    "# Датасет"
   ]
  },
  {
   "cell_type": "code",
   "execution_count": 100,
   "id": "3dc707e6",
   "metadata": {},
   "outputs": [],
   "source": [
    "import pandas as pd\n",
    "from sklearn.model_selection import train_test_split\n",
    "\n",
    "train_data: pd.DataFrame\n",
    "val_data: pd.DataFrame\n",
    "train_data, test_data = train_test_split(\n",
    "    df_train,\n",
    "    test_size=0.1,\n",
    "    shuffle=True,\n",
    "    random_state=42,\n",
    ")\n",
    "\n",
    "train_data, val_data = train_test_split(\n",
    "    train_data,\n",
    "    test_size=0.05,\n",
    "    shuffle=True,\n",
    "    random_state=42,\n",
    ")\n"
   ]
  },
  {
   "cell_type": "code",
   "execution_count": 101,
   "id": "0bd1735e",
   "metadata": {},
   "outputs": [
    {
     "data": {
      "text/html": [
       "<div>\n",
       "<style scoped>\n",
       "    .dataframe tbody tr th:only-of-type {\n",
       "        vertical-align: middle;\n",
       "    }\n",
       "\n",
       "    .dataframe tbody tr th {\n",
       "        vertical-align: top;\n",
       "    }\n",
       "\n",
       "    .dataframe thead th {\n",
       "        text-align: right;\n",
       "    }\n",
       "</style>\n",
       "<table border=\"1\" class=\"dataframe\">\n",
       "  <thead>\n",
       "    <tr style=\"text-align: right;\">\n",
       "      <th></th>\n",
       "      <th>sample</th>\n",
       "      <th>annotation</th>\n",
       "      <th>df_label</th>\n",
       "    </tr>\n",
       "  </thead>\n",
       "  <tbody>\n",
       "    <tr>\n",
       "      <th>11884</th>\n",
       "      <td>мажитеоь</td>\n",
       "      <td>[(0, 8, B-TYPE)]</td>\n",
       "      <td>x5</td>\n",
       "    </tr>\n",
       "    <tr>\n",
       "      <th>6990</th>\n",
       "      <td>желетин</td>\n",
       "      <td>[(0, 7, B-TYPE)]</td>\n",
       "      <td>x5</td>\n",
       "    </tr>\n",
       "    <tr>\n",
       "      <th>12075</th>\n",
       "      <td>макароны рожки</td>\n",
       "      <td>[(0, 8, B-TYPE), (9, 14, I-TYPE)]</td>\n",
       "      <td>x5</td>\n",
       "    </tr>\n",
       "    <tr>\n",
       "      <th>4020</th>\n",
       "      <td>булочки для гаи</td>\n",
       "      <td>[(0, 7, B-TYPE), (8, 11, I-TYPE), (12, 15, I-TYPE)]</td>\n",
       "      <td>x5</td>\n",
       "    </tr>\n",
       "    <tr>\n",
       "      <th>2332</th>\n",
       "      <td>yelly</td>\n",
       "      <td>[(0, 5, B-BRAND)]</td>\n",
       "      <td>x5</td>\n",
       "    </tr>\n",
       "    <tr>\n",
       "      <th>1625</th>\n",
       "      <td>nestle желе</td>\n",
       "      <td>[(0, 6, B-BRAND), (7, 11, B-TYPE)]</td>\n",
       "      <td>x5</td>\n",
       "    </tr>\n",
       "    <tr>\n",
       "      <th>11348</th>\n",
       "      <td>лампы прочие</td>\n",
       "      <td>[(0, 5, B-TYPE), (6, 12, I-TYPE)]</td>\n",
       "      <td>x5</td>\n",
       "    </tr>\n",
       "    <tr>\n",
       "      <th>272</th>\n",
       "      <td>biomax та</td>\n",
       "      <td>[(0, 6, B-BRAND), (7, 9, B-TYPE)]</td>\n",
       "      <td>x5</td>\n",
       "    </tr>\n",
       "    <tr>\n",
       "      <th>15610</th>\n",
       "      <td>панировлчная</td>\n",
       "      <td>[(0, 12, B-TYPE)]</td>\n",
       "      <td>x5</td>\n",
       "    </tr>\n",
       "    <tr>\n",
       "      <th>20088</th>\n",
       "      <td>сигареты bs</td>\n",
       "      <td>[(0, 8, B-TYPE), (9, 11, B-BRAND)]</td>\n",
       "      <td>x5</td>\n",
       "    </tr>\n",
       "  </tbody>\n",
       "</table>\n",
       "</div>"
      ],
      "text/plain": [
       "                sample                                           annotation  \\\n",
       "11884         мажитеоь                                     [(0, 8, B-TYPE)]   \n",
       "6990           желетин                                     [(0, 7, B-TYPE)]   \n",
       "12075   макароны рожки                    [(0, 8, B-TYPE), (9, 14, I-TYPE)]   \n",
       "4020   булочки для гаи  [(0, 7, B-TYPE), (8, 11, I-TYPE), (12, 15, I-TYPE)]   \n",
       "2332             yelly                                    [(0, 5, B-BRAND)]   \n",
       "1625       nestle желе                   [(0, 6, B-BRAND), (7, 11, B-TYPE)]   \n",
       "11348     лампы прочие                    [(0, 5, B-TYPE), (6, 12, I-TYPE)]   \n",
       "272          biomax та                    [(0, 6, B-BRAND), (7, 9, B-TYPE)]   \n",
       "15610     панировлчная                                    [(0, 12, B-TYPE)]   \n",
       "20088      сигареты bs                   [(0, 8, B-TYPE), (9, 11, B-BRAND)]   \n",
       "\n",
       "      df_label  \n",
       "11884       x5  \n",
       "6990        x5  \n",
       "12075       x5  \n",
       "4020        x5  \n",
       "2332        x5  \n",
       "1625        x5  \n",
       "11348       x5  \n",
       "272         x5  \n",
       "15610       x5  \n",
       "20088       x5  "
      ]
     },
     "execution_count": 101,
     "metadata": {},
     "output_type": "execute_result"
    }
   ],
   "source": [
    "train_data.sample(10)"
   ]
  },
  {
   "cell_type": "code",
   "execution_count": 102,
   "id": "b2696211",
   "metadata": {},
   "outputs": [
    {
     "data": {
      "text/html": [
       "<div>\n",
       "<style scoped>\n",
       "    .dataframe tbody tr th:only-of-type {\n",
       "        vertical-align: middle;\n",
       "    }\n",
       "\n",
       "    .dataframe tbody tr th {\n",
       "        vertical-align: top;\n",
       "    }\n",
       "\n",
       "    .dataframe thead th {\n",
       "        text-align: right;\n",
       "    }\n",
       "</style>\n",
       "<table border=\"1\" class=\"dataframe\">\n",
       "  <thead>\n",
       "    <tr style=\"text-align: right;\">\n",
       "      <th></th>\n",
       "      <th>sample</th>\n",
       "      <th>annotation</th>\n",
       "    </tr>\n",
       "  </thead>\n",
       "  <tbody>\n",
       "    <tr>\n",
       "      <th>0</th>\n",
       "      <td>форма для выпечки</td>\n",
       "      <td>[(0, 5, B-TYPE), (6, 9, I-TYPE), (10, 17, I-TYPE)]</td>\n",
       "    </tr>\n",
       "    <tr>\n",
       "      <th>1</th>\n",
       "      <td>фарш свиной</td>\n",
       "      <td>[(0, 4, B-TYPE), (5, 11, I-TYPE)]</td>\n",
       "    </tr>\n",
       "    <tr>\n",
       "      <th>2</th>\n",
       "      <td>сок ананасовый без сахара</td>\n",
       "      <td>[(0, 3, B-TYPE), (4, 14, I-TYPE), (15, 18, I-TYPE), (19, 25, I-TYPE)]</td>\n",
       "    </tr>\n",
       "    <tr>\n",
       "      <th>3</th>\n",
       "      <td>еринги</td>\n",
       "      <td>[(0, 6, B-TYPE)]</td>\n",
       "    </tr>\n",
       "    <tr>\n",
       "      <th>4</th>\n",
       "      <td>молооко</td>\n",
       "      <td>[(0, 7, B-TYPE)]</td>\n",
       "    </tr>\n",
       "  </tbody>\n",
       "</table>\n",
       "</div>"
      ],
      "text/plain": [
       "                      sample  \\\n",
       "0          форма для выпечки   \n",
       "1                фарш свиной   \n",
       "2  сок ананасовый без сахара   \n",
       "3                     еринги   \n",
       "4                    молооко   \n",
       "\n",
       "                                                              annotation  \n",
       "0                     [(0, 5, B-TYPE), (6, 9, I-TYPE), (10, 17, I-TYPE)]  \n",
       "1                                      [(0, 4, B-TYPE), (5, 11, I-TYPE)]  \n",
       "2  [(0, 3, B-TYPE), (4, 14, I-TYPE), (15, 18, I-TYPE), (19, 25, I-TYPE)]  \n",
       "3                                                       [(0, 6, B-TYPE)]  \n",
       "4                                                       [(0, 7, B-TYPE)]  "
      ]
     },
     "execution_count": 102,
     "metadata": {},
     "output_type": "execute_result"
    }
   ],
   "source": [
    "df_submission.head()"
   ]
  },
  {
   "cell_type": "code",
   "execution_count": 103,
   "id": "b253a6a4",
   "metadata": {},
   "outputs": [
    {
     "name": "stderr",
     "output_type": "stream",
     "text": [
      "Tokenizing data: 100%|██████████████████████████████████████| 23298/23298 [00:03<00:00, 6519.89it/s]\n",
      "Tokenizing data: 100%|████████████████████████████████████████| 1227/1227 [00:00<00:00, 7574.05it/s]\n",
      "Tokenizing data: 100%|████████████████████████████████████████| 2726/2726 [00:01<00:00, 1706.95it/s]\n"
     ]
    }
   ],
   "source": [
    "from ml.dataset import NerDataSet\n",
    "\n",
    "dtype_input = torch.long\n",
    "dtype_labels = torch.long\n",
    "\n",
    "train_dataset = NerDataSet(\n",
    "    df=train_data, \n",
    "    max_length=MAX_LENGTH, \n",
    "    tokenizer_path=BASE_MODEL_NAME,\n",
    "    cache_dir=DATA_CACHE,\n",
    "    label2idx=label2idx,\n",
    "    text_label='sample',\n",
    "    target_label='annotation',\n",
    "    dtype_input_ids=dtype_input,\n",
    "    dtype_token_type_ids=dtype_input,\n",
    "    dtype_attention_mask=dtype_input,\n",
    "    dtype_labels=dtype_labels,\n",
    "    debug=True    \n",
    ")\n",
    "\n",
    "val_dataset = NerDataSet(\n",
    "    df=val_data,\n",
    "    max_length=MAX_LENGTH, \n",
    "    tokenizer_path=BASE_MODEL_NAME,\n",
    "    cache_dir=DATA_CACHE,\n",
    "    label2idx=label2idx,\n",
    "    text_label='sample',\n",
    "    target_label='annotation',\n",
    "    dtype_input_ids=dtype_input,\n",
    "    dtype_token_type_ids=dtype_input,\n",
    "    dtype_attention_mask=dtype_input,\n",
    "    dtype_labels=dtype_labels,\n",
    "    debug=True\n",
    ")\n",
    "\n",
    "test_dataset = NerDataSet(\n",
    "    df=test_data, \n",
    "    max_length=MAX_LENGTH, \n",
    "    tokenizer_path=BASE_MODEL_NAME,\n",
    "    cache_dir=DATA_CACHE,\n",
    "    label2idx=label2idx,\n",
    "    text_label='sample',\n",
    "    target_label='annotation',\n",
    "    dtype_input_ids=dtype_input,\n",
    "    dtype_token_type_ids=dtype_input,\n",
    "    dtype_attention_mask=dtype_input,\n",
    "    dtype_labels=dtype_labels,\n",
    "    debug=True\n",
    ")\n"
   ]
  },
  {
   "cell_type": "code",
   "execution_count": 104,
   "id": "f4924c55",
   "metadata": {},
   "outputs": [
    {
     "name": "stdout",
     "output_type": "stream",
     "text": [
      "O               : 46596\n",
      "B-BRAND         : 6185\n",
      "I-BRAND         : 8658\n",
      "B-PERCENT       : 25\n",
      "I-PERCENT       : 16\n",
      "B-TYPE          : 21661\n",
      "I-TYPE          : 40169\n",
      "B-VOLUME        : 42\n",
      "I-VOLUME        : 46\n"
     ]
    }
   ],
   "source": [
    "import torch\n",
    "from collections import Counter\n",
    "import numpy as np\n",
    "\n",
    "def count_labels(dataset, idx2label):\n",
    "    all_labels = []\n",
    "    for labels in dataset.labels.tolist():\n",
    "        for l in labels:\n",
    "            if l != -100:\n",
    "                all_labels.append(l)\n",
    "    counts = Counter(all_labels)\n",
    "\n",
    "    label_counts = {idx2label[i]: counts.get(i, 0) for i in range(len(idx2label))}\n",
    "    return label_counts\n",
    "\n",
    "label_counts = count_labels(train_dataset, idx2label)\n",
    "for label, cnt in label_counts.items():\n",
    "    print(f\"{label:15s} : {cnt}\")\n"
   ]
  },
  {
   "cell_type": "code",
   "execution_count": 105,
   "id": "b39f90ab",
   "metadata": {},
   "outputs": [
    {
     "data": {
      "text/plain": [
       "{'input_ids': tensor([    2, 20387,   335,     3,     0,     0,     0,     0,     0,     0]),\n",
       " 'attention_mask': tensor([1, 1, 1, 1, 0, 0, 0, 0, 0, 0]),\n",
       " 'token_type_ids': tensor([0, 0, 0, 0, 0, 0, 0, 0, 0, 0]),\n",
       " 'labels': tensor([   0,    5,    6,    0, -100, -100, -100, -100, -100, -100])}"
      ]
     },
     "execution_count": 105,
     "metadata": {},
     "output_type": "execute_result"
    }
   ],
   "source": [
    "train_dataset[0]"
   ]
  },
  {
   "cell_type": "code",
   "execution_count": 106,
   "id": "0f0ff487",
   "metadata": {},
   "outputs": [
    {
     "data": {
      "text/html": [
       "<div>\n",
       "<style scoped>\n",
       "    .dataframe tbody tr th:only-of-type {\n",
       "        vertical-align: middle;\n",
       "    }\n",
       "\n",
       "    .dataframe tbody tr th {\n",
       "        vertical-align: top;\n",
       "    }\n",
       "\n",
       "    .dataframe thead th {\n",
       "        text-align: right;\n",
       "    }\n",
       "</style>\n",
       "<table border=\"1\" class=\"dataframe\">\n",
       "  <thead>\n",
       "    <tr style=\"text-align: right;\">\n",
       "      <th></th>\n",
       "      <th>sample</th>\n",
       "      <th>annotation</th>\n",
       "      <th>df_label</th>\n",
       "      <th>tokens_ids_debug</th>\n",
       "      <th>tokens_text_debug</th>\n",
       "      <th>labels_debug</th>\n",
       "    </tr>\n",
       "  </thead>\n",
       "  <tbody>\n",
       "    <tr>\n",
       "      <th>3803</th>\n",
       "      <td>биолакиь</td>\n",
       "      <td>[(0, 8, B-TYPE)]</td>\n",
       "      <td>x5</td>\n",
       "      <td>[2, 3168, 23921, 613, 1090, 3, 0, 0, 0, 0]</td>\n",
       "      <td>[[CLS], био, ##лак, ##и, ##ь, [SEP], [PAD], [PAD], [PAD], [PAD]]</td>\n",
       "      <td>[O, B-TYPE, I-TYPE, I-TYPE, I-TYPE, O, O, O, O, O]</td>\n",
       "    </tr>\n",
       "    <tr>\n",
       "      <th>11795</th>\n",
       "      <td>жевательны</td>\n",
       "      <td>[(0, 10, B-TYPE)]</td>\n",
       "      <td>x5</td>\n",
       "      <td>[2, 78580, 61458, 3, 0, 0, 0, 0, 0, 0]</td>\n",
       "      <td>[[CLS], жеват, ##ельны, [SEP], [PAD], [PAD], [PAD], [PAD], [PAD], [PAD]]</td>\n",
       "      <td>[O, B-TYPE, I-TYPE, O, O, O, O, O, O, O]</td>\n",
       "    </tr>\n",
       "    <tr>\n",
       "      <th>21268</th>\n",
       "      <td>совко</td>\n",
       "      <td>[(0, 5, B-TYPE)]</td>\n",
       "      <td>x5</td>\n",
       "      <td>[2, 27180, 1597, 3, 0, 0, 0, 0, 0, 0]</td>\n",
       "      <td>[[CLS], сов, ##ко, [SEP], [PAD], [PAD], [PAD], [PAD], [PAD], [PAD]]</td>\n",
       "      <td>[O, B-TYPE, I-TYPE, O, O, O, O, O, O, O]</td>\n",
       "    </tr>\n",
       "    <tr>\n",
       "      <th>11341</th>\n",
       "      <td>мармеладк</td>\n",
       "      <td>[(0, 9, B-TYPE)]</td>\n",
       "      <td>x5</td>\n",
       "      <td>[2, 33839, 3277, 15510, 865, 3, 0, 0, 0, 0]</td>\n",
       "      <td>[[CLS], мар, ##ме, ##лад, ##к, [SEP], [PAD], [PAD], [PAD], [PAD]]</td>\n",
       "      <td>[O, B-TYPE, I-TYPE, I-TYPE, I-TYPE, O, O, O, O, O]</td>\n",
       "    </tr>\n",
       "    <tr>\n",
       "      <th>12552</th>\n",
       "      <td>руккьола</td>\n",
       "      <td>[(0, 8, B-TYPE)]</td>\n",
       "      <td>x5</td>\n",
       "      <td>[2, 24095, 865, 19011, 971, 3, 0, 0, 0, 0]</td>\n",
       "      <td>[[CLS], рук, ##к, ##ьо, ##ла, [SEP], [PAD], [PAD], [PAD], [PAD]]</td>\n",
       "      <td>[O, B-TYPE, I-TYPE, I-TYPE, I-TYPE, O, O, O, O, O]</td>\n",
       "    </tr>\n",
       "    <tr>\n",
       "      <th>5605</th>\n",
       "      <td>сок прямого отжима</td>\n",
       "      <td>[(0, 3, B-TYPE), (4, 11, I-TYPE), (12, 18, I-TYPE)]</td>\n",
       "      <td>x5</td>\n",
       "      <td>[2, 29724, 39354, 72914, 603, 3, 0, 0, 0, 0]</td>\n",
       "      <td>[[CLS], сок, прямого, отжим, ##а, [SEP], [PAD], [PAD], [PAD], [PAD]]</td>\n",
       "      <td>[O, B-TYPE, I-TYPE, I-TYPE, I-TYPE, O, O, O, O, O]</td>\n",
       "    </tr>\n",
       "    <tr>\n",
       "      <th>13802</th>\n",
       "      <td>лапша рамен</td>\n",
       "      <td>[(0, 5, B-TYPE), (6, 11, I-TYPE)]</td>\n",
       "      <td>x5</td>\n",
       "      <td>[2, 50814, 2506, 32774, 1139, 3, 0, 0, 0, 0]</td>\n",
       "      <td>[[CLS], лап, ##ша, рам, ##ен, [SEP], [PAD], [PAD], [PAD], [PAD]]</td>\n",
       "      <td>[O, B-TYPE, I-TYPE, I-TYPE, I-TYPE, O, O, O, O, O]</td>\n",
       "    </tr>\n",
       "    <tr>\n",
       "      <th>7459</th>\n",
       "      <td>сок вишня яблоко</td>\n",
       "      <td>[(0, 3, B-TYPE), (4, 9, B-TYPE), (10, 16, I-TYPE)]</td>\n",
       "      <td>x5</td>\n",
       "      <td>[2, 29724, 25040, 21036, 64168, 3, 0, 0, 0, 0]</td>\n",
       "      <td>[[CLS], сок, ви, ##шня, яблоко, [SEP], [PAD], [PAD], [PAD], [PAD]]</td>\n",
       "      <td>[O, B-TYPE, B-TYPE, I-TYPE, I-TYPE, O, O, O, O, O]</td>\n",
       "    </tr>\n",
       "    <tr>\n",
       "      <th>7431</th>\n",
       "      <td>ряжегкп</td>\n",
       "      <td>[(0, 7, B-TYPE)]</td>\n",
       "      <td>x5</td>\n",
       "      <td>[2, 58003, 55198, 865, 1231, 3, 0, 0, 0, 0]</td>\n",
       "      <td>[[CLS], ря, ##жег, ##к, ##п, [SEP], [PAD], [PAD], [PAD], [PAD]]</td>\n",
       "      <td>[O, B-TYPE, I-TYPE, I-TYPE, I-TYPE, O, O, O, O, O]</td>\n",
       "    </tr>\n",
       "    <tr>\n",
       "      <th>7767</th>\n",
       "      <td>defort отвертк</td>\n",
       "      <td>[(0, 6, B-BRAND), (7, 14, B-TYPE)]</td>\n",
       "      <td>x5</td>\n",
       "      <td>[2, 27548, 4061, 31109, 36863, 3, 0, 0, 0, 0]</td>\n",
       "      <td>[[CLS], def, ##ort, отвер, ##тк, [SEP], [PAD], [PAD], [PAD], [PAD]]</td>\n",
       "      <td>[O, B-BRAND, I-BRAND, B-TYPE, I-TYPE, O, O, O, O, O]</td>\n",
       "    </tr>\n",
       "  </tbody>\n",
       "</table>\n",
       "</div>"
      ],
      "text/plain": [
       "                   sample  \\\n",
       "3803             биолакиь   \n",
       "11795          жевательны   \n",
       "21268               совко   \n",
       "11341           мармеладк   \n",
       "12552            руккьола   \n",
       "5605   сок прямого отжима   \n",
       "13802         лапша рамен   \n",
       "7459     сок вишня яблоко   \n",
       "7431              ряжегкп   \n",
       "7767       defort отвертк   \n",
       "\n",
       "                                                annotation df_label  \\\n",
       "3803                                      [(0, 8, B-TYPE)]       x5   \n",
       "11795                                    [(0, 10, B-TYPE)]       x5   \n",
       "21268                                     [(0, 5, B-TYPE)]       x5   \n",
       "11341                                     [(0, 9, B-TYPE)]       x5   \n",
       "12552                                     [(0, 8, B-TYPE)]       x5   \n",
       "5605   [(0, 3, B-TYPE), (4, 11, I-TYPE), (12, 18, I-TYPE)]       x5   \n",
       "13802                    [(0, 5, B-TYPE), (6, 11, I-TYPE)]       x5   \n",
       "7459    [(0, 3, B-TYPE), (4, 9, B-TYPE), (10, 16, I-TYPE)]       x5   \n",
       "7431                                      [(0, 7, B-TYPE)]       x5   \n",
       "7767                    [(0, 6, B-BRAND), (7, 14, B-TYPE)]       x5   \n",
       "\n",
       "                                     tokens_ids_debug  \\\n",
       "3803       [2, 3168, 23921, 613, 1090, 3, 0, 0, 0, 0]   \n",
       "11795          [2, 78580, 61458, 3, 0, 0, 0, 0, 0, 0]   \n",
       "21268           [2, 27180, 1597, 3, 0, 0, 0, 0, 0, 0]   \n",
       "11341     [2, 33839, 3277, 15510, 865, 3, 0, 0, 0, 0]   \n",
       "12552      [2, 24095, 865, 19011, 971, 3, 0, 0, 0, 0]   \n",
       "5605     [2, 29724, 39354, 72914, 603, 3, 0, 0, 0, 0]   \n",
       "13802    [2, 50814, 2506, 32774, 1139, 3, 0, 0, 0, 0]   \n",
       "7459   [2, 29724, 25040, 21036, 64168, 3, 0, 0, 0, 0]   \n",
       "7431      [2, 58003, 55198, 865, 1231, 3, 0, 0, 0, 0]   \n",
       "7767    [2, 27548, 4061, 31109, 36863, 3, 0, 0, 0, 0]   \n",
       "\n",
       "                                                              tokens_text_debug  \\\n",
       "3803           [[CLS], био, ##лак, ##и, ##ь, [SEP], [PAD], [PAD], [PAD], [PAD]]   \n",
       "11795  [[CLS], жеват, ##ельны, [SEP], [PAD], [PAD], [PAD], [PAD], [PAD], [PAD]]   \n",
       "21268       [[CLS], сов, ##ко, [SEP], [PAD], [PAD], [PAD], [PAD], [PAD], [PAD]]   \n",
       "11341         [[CLS], мар, ##ме, ##лад, ##к, [SEP], [PAD], [PAD], [PAD], [PAD]]   \n",
       "12552          [[CLS], рук, ##к, ##ьо, ##ла, [SEP], [PAD], [PAD], [PAD], [PAD]]   \n",
       "5605       [[CLS], сок, прямого, отжим, ##а, [SEP], [PAD], [PAD], [PAD], [PAD]]   \n",
       "13802          [[CLS], лап, ##ша, рам, ##ен, [SEP], [PAD], [PAD], [PAD], [PAD]]   \n",
       "7459         [[CLS], сок, ви, ##шня, яблоко, [SEP], [PAD], [PAD], [PAD], [PAD]]   \n",
       "7431            [[CLS], ря, ##жег, ##к, ##п, [SEP], [PAD], [PAD], [PAD], [PAD]]   \n",
       "7767        [[CLS], def, ##ort, отвер, ##тк, [SEP], [PAD], [PAD], [PAD], [PAD]]   \n",
       "\n",
       "                                               labels_debug  \n",
       "3803     [O, B-TYPE, I-TYPE, I-TYPE, I-TYPE, O, O, O, O, O]  \n",
       "11795              [O, B-TYPE, I-TYPE, O, O, O, O, O, O, O]  \n",
       "21268              [O, B-TYPE, I-TYPE, O, O, O, O, O, O, O]  \n",
       "11341    [O, B-TYPE, I-TYPE, I-TYPE, I-TYPE, O, O, O, O, O]  \n",
       "12552    [O, B-TYPE, I-TYPE, I-TYPE, I-TYPE, O, O, O, O, O]  \n",
       "5605     [O, B-TYPE, I-TYPE, I-TYPE, I-TYPE, O, O, O, O, O]  \n",
       "13802    [O, B-TYPE, I-TYPE, I-TYPE, I-TYPE, O, O, O, O, O]  \n",
       "7459     [O, B-TYPE, B-TYPE, I-TYPE, I-TYPE, O, O, O, O, O]  \n",
       "7431     [O, B-TYPE, I-TYPE, I-TYPE, I-TYPE, O, O, O, O, O]  \n",
       "7767   [O, B-BRAND, I-BRAND, B-TYPE, I-TYPE, O, O, O, O, O]  "
      ]
     },
     "execution_count": 106,
     "metadata": {},
     "output_type": "execute_result"
    }
   ],
   "source": [
    "train_dataset.df.sample(10)"
   ]
  },
  {
   "cell_type": "code",
   "execution_count": 107,
   "id": "af35ff9c",
   "metadata": {},
   "outputs": [],
   "source": [
    "# lolpop = train_dataset.df\n",
    "# lolpop[lolpop[\"df_label\"]==\"synthetic\"].sample(10)"
   ]
  },
  {
   "cell_type": "code",
   "execution_count": 108,
   "id": "12d39e8e",
   "metadata": {},
   "outputs": [
    {
     "data": {
      "image/png": "[encoded data removed]",
      "text/plain": [
       "<Figure size 1000x600 with 1 Axes>"
      ]
     },
     "metadata": {},
     "output_type": "display_data"
    }
   ],
   "source": [
    "train_dataset.plot_token_length_distribution()"
   ]
  },
  {
   "cell_type": "markdown",
   "id": "26f5b27d",
   "metadata": {},
   "source": [
    "# Модель"
   ]
  },
  {
   "cell_type": "code",
   "execution_count": 109,
   "id": "66d58953",
   "metadata": {},
   "outputs": [],
   "source": [
    "num_labels = len(label2idx)"
   ]
  },
  {
   "cell_type": "code",
   "execution_count": 110,
   "id": "fe9dc2de",
   "metadata": {},
   "outputs": [
    {
     "name": "stderr",
     "output_type": "stream",
     "text": [
      "Some weights of AutoModelForTokenClassificationWithCRF were not initialized from the model checkpoint at cointegrated/rubert-tiny2 and are newly initialized: ['backbone.embeddings.LayerNorm.bias', 'backbone.embeddings.LayerNorm.weight', 'backbone.embeddings.position_embeddings.weight', 'backbone.embeddings.token_type_embeddings.weight', 'backbone.embeddings.word_embeddings.weight', 'backbone.encoder.layer.0.attention.output.LayerNorm.bias', 'backbone.encoder.layer.0.attention.output.LayerNorm.weight', 'backbone.encoder.layer.0.attention.output.dense.bias', 'backbone.encoder.layer.0.attention.output.dense.weight', 'backbone.encoder.layer.0.attention.self.key.bias', 'backbone.encoder.layer.0.attention.self.key.weight', 'backbone.encoder.layer.0.attention.self.query.bias', 'backbone.encoder.layer.0.attention.self.query.weight', 'backbone.encoder.layer.0.attention.self.value.bias', 'backbone.encoder.layer.0.attention.self.value.weight', 'backbone.encoder.layer.0.intermediate.dense.bias', 'backbone.encoder.layer.0.intermediate.dense.weight', 'backbone.encoder.layer.0.output.LayerNorm.bias', 'backbone.encoder.layer.0.output.LayerNorm.weight', 'backbone.encoder.layer.0.output.dense.bias', 'backbone.encoder.layer.0.output.dense.weight', 'backbone.encoder.layer.1.attention.output.LayerNorm.bias', 'backbone.encoder.layer.1.attention.output.LayerNorm.weight', 'backbone.encoder.layer.1.attention.output.dense.bias', 'backbone.encoder.layer.1.attention.output.dense.weight', 'backbone.encoder.layer.1.attention.self.key.bias', 'backbone.encoder.layer.1.attention.self.key.weight', 'backbone.encoder.layer.1.attention.self.query.bias', 'backbone.encoder.layer.1.attention.self.query.weight', 'backbone.encoder.layer.1.attention.self.value.bias', 'backbone.encoder.layer.1.attention.self.value.weight', 'backbone.encoder.layer.1.intermediate.dense.bias', 'backbone.encoder.layer.1.intermediate.dense.weight', 'backbone.encoder.layer.1.output.LayerNorm.bias', 'backbone.encoder.layer.1.output.LayerNorm.weight', 'backbone.encoder.layer.1.output.dense.bias', 'backbone.encoder.layer.1.output.dense.weight', 'backbone.encoder.layer.2.attention.output.LayerNorm.bias', 'backbone.encoder.layer.2.attention.output.LayerNorm.weight', 'backbone.encoder.layer.2.attention.output.dense.bias', 'backbone.encoder.layer.2.attention.output.dense.weight', 'backbone.encoder.layer.2.attention.self.key.bias', 'backbone.encoder.layer.2.attention.self.key.weight', 'backbone.encoder.layer.2.attention.self.query.bias', 'backbone.encoder.layer.2.attention.self.query.weight', 'backbone.encoder.layer.2.attention.self.value.bias', 'backbone.encoder.layer.2.attention.self.value.weight', 'backbone.encoder.layer.2.intermediate.dense.bias', 'backbone.encoder.layer.2.intermediate.dense.weight', 'backbone.encoder.layer.2.output.LayerNorm.bias', 'backbone.encoder.layer.2.output.LayerNorm.weight', 'backbone.encoder.layer.2.output.dense.bias', 'backbone.encoder.layer.2.output.dense.weight', 'backbone.pooler.dense.bias', 'backbone.pooler.dense.weight', 'classifier.bias', 'classifier.weight', 'crf.end_transitions', 'crf.start_transitions', 'crf.transitions']\n",
      "You should probably TRAIN this model on a down-stream task to be able to use it for predictions and inference.\n"
     ]
    },
    {
     "data": {
      "text/plain": [
       "AutoModelForTokenClassificationWithCRF(\n",
       "  (backbone): BertModel(\n",
       "    (embeddings): BertEmbeddings(\n",
       "      (word_embeddings): Embedding(83828, 312, padding_idx=0)\n",
       "      (position_embeddings): Embedding(2048, 312)\n",
       "      (token_type_embeddings): Embedding(2, 312)\n",
       "      (LayerNorm): LayerNorm((312,), eps=1e-12, elementwise_affine=True)\n",
       "      (dropout): Dropout(p=0.1, inplace=False)\n",
       "    )\n",
       "    (encoder): BertEncoder(\n",
       "      (layer): ModuleList(\n",
       "        (0-2): 3 x BertLayer(\n",
       "          (attention): BertAttention(\n",
       "            (self): BertSelfAttention(\n",
       "              (query): Linear(in_features=312, out_features=312, bias=True)\n",
       "              (key): Linear(in_features=312, out_features=312, bias=True)\n",
       "              (value): Linear(in_features=312, out_features=312, bias=True)\n",
       "              (dropout): Dropout(p=0.1, inplace=False)\n",
       "            )\n",
       "            (output): BertSelfOutput(\n",
       "              (dense): Linear(in_features=312, out_features=312, bias=True)\n",
       "              (LayerNorm): LayerNorm((312,), eps=1e-12, elementwise_affine=True)\n",
       "              (dropout): Dropout(p=0.1, inplace=False)\n",
       "            )\n",
       "          )\n",
       "          (intermediate): BertIntermediate(\n",
       "            (dense): Linear(in_features=312, out_features=600, bias=True)\n",
       "            (intermediate_act_fn): GELUActivation()\n",
       "          )\n",
       "          (output): BertOutput(\n",
       "            (dense): Linear(in_features=600, out_features=312, bias=True)\n",
       "            (LayerNorm): LayerNorm((312,), eps=1e-12, elementwise_affine=True)\n",
       "            (dropout): Dropout(p=0.1, inplace=False)\n",
       "          )\n",
       "        )\n",
       "      )\n",
       "    )\n",
       "    (pooler): BertPooler(\n",
       "      (dense): Linear(in_features=312, out_features=312, bias=True)\n",
       "      (activation): Tanh()\n",
       "    )\n",
       "  )\n",
       "  (dropout): Dropout(p=0.1, inplace=False)\n",
       "  (classifier): Linear(in_features=312, out_features=9, bias=True)\n",
       "  (crf): CRF(num_tags=9)\n",
       ")"
      ]
     },
     "execution_count": 110,
     "metadata": {},
     "output_type": "execute_result"
    }
   ],
   "source": [
    "from transformers import AutoConfig\n",
    "from ml.model import AutoModelForTokenClassificationWithCRF, TokenClassifierCRFOutput\n",
    "\n",
    "config = AutoConfig.from_pretrained(\n",
    "    BASE_MODEL_NAME,\n",
    "    num_labels=num_labels,\n",
    "    id2label=idx2label,\n",
    "    label2id=label2idx,\n",
    "    cache_dir=DATA_CACHE,\n",
    ")\n",
    "\n",
    "model = AutoModelForTokenClassificationWithCRF.from_pretrained(\n",
    "    BASE_MODEL_NAME,\n",
    "    cache_dir=DATA_CACHE,\n",
    "    config=config,\n",
    "    ignore_mismatched_sizes=True,\n",
    ")\n",
    "\n",
    "model.reset_crf_parameters()\n",
    "# model.crf.init_bio_bias(label2idx, strength=0.7)\n",
    "model"
   ]
  },
  {
   "cell_type": "code",
   "execution_count": 111,
   "id": "94d0033c",
   "metadata": {},
   "outputs": [
    {
     "name": "stdout",
     "output_type": "stream",
     "text": [
      "CRF transitions nan? tensor(False)\n",
      "CRF transitions min/max: tensor(-0.0999, grad_fn=<MinBackward1>) tensor(0.0979, grad_fn=<MaxBackward1>)\n"
     ]
    }
   ],
   "source": [
    "print(\"CRF transitions nan?\", torch.isnan(model.crf.transitions).any())\n",
    "print(\"CRF transitions min/max:\", model.crf.transitions.min(), model.crf.transitions.max())"
   ]
  },
  {
   "cell_type": "markdown",
   "id": "3236b230",
   "metadata": {},
   "source": [
    "# Обучение"
   ]
  },
  {
   "cell_type": "code",
   "execution_count": 112,
   "id": "4ec50deb",
   "metadata": {},
   "outputs": [],
   "source": [
    "from transformers import TrainingArguments\n",
    "\n",
    "training_args = TrainingArguments(\n",
    "    output_dir=DATA_PATH_SAVE_MODELS / MODEL_CHECKPOINT_PATH,  # Папка для сохранения моделей\n",
    "    num_train_epochs=6,  # Количество эпох\n",
    "\n",
    "    eval_strategy=\"epoch\",  # Оценка модели после каждой эпохи\n",
    "    # eval_strategy=\"steps\",\n",
    "    # eval_steps=50,  # Оценка модели каждый шаг\n",
    "    logging_strategy=\"epoch\",  # Логирование каждые N шагов\n",
    "    # logging_strategy=\"steps\",\n",
    "    # logging_steps=50,  # Как часто логировать\n",
    "    disable_tqdm=False,  # Отключить tqdm (нужно для работы в Colab/Kaggle)\n",
    "    report_to=\"tensorboard\",  # Логируем в TensorBoard\n",
    "    logging_dir=DATA_LOG,  # Папка для логов\n",
    "\n",
    "    save_strategy=\"epoch\",  # Сохранение модели после каждой эпохи\n",
    "    # save_strategy=\"steps\",\n",
    "    # save_steps=50, # Если save_strategy=\"steps\"\n",
    "    save_total_limit=2,  # Храним все\n",
    "    load_best_model_at_end=True,  # Загружать лучшую модель после обучения\n",
    "    metric_for_best_model=\"eval_f1_macro\",  # Выбираем лучшую модель по eval_f1_macro\n",
    "    greater_is_better=True,  # Чем меньше eval_loss, тем лучше модель\n",
    "\n",
    "\n",
    "    per_device_train_batch_size=BATCH_SIZE,  # Размер батча на одно устройство (GPU/CPU)\n",
    "    per_device_eval_batch_size=BATCH_SIZE,  # Размер батча для валидации\n",
    ")\n"
   ]
  },
  {
   "cell_type": "code",
   "execution_count": null,
   "id": "f31cc7b9",
   "metadata": {},
   "outputs": [],
   "source": [
    "optimizer = torch.optim.AdamW(model.parameters(), lr=1e-4, weight_decay=1e-6)\n",
    "\n",
    "steps_per_epoch = len(train_dataset.df) // training_args.per_device_train_batch_size\n",
    "total_steps = steps_per_epoch * training_args.num_train_epochs\n"
   ]
  },
  {
   "cell_type": "code",
   "execution_count": 114,
   "id": "86d18ec2",
   "metadata": {},
   "outputs": [],
   "source": [
    "from transformers import get_cosine_schedule_with_warmup\n",
    "\n",
    "scheduler = get_cosine_schedule_with_warmup(\n",
    "    optimizer,\n",
    "    num_warmup_steps=int(0.2 * total_steps),\n",
    "    num_training_steps=total_steps \n",
    ")"
   ]
  },
  {
   "cell_type": "code",
   "execution_count": 115,
   "id": "43074382",
   "metadata": {},
   "outputs": [],
   "source": [
    "# from transformers import get_cosine_with_hard_restarts_schedule_with_warmup\n",
    "\n",
    "# scheduler = get_cosine_with_hard_restarts_schedule_with_warmup(\n",
    "#     optimizer,\n",
    "#     num_warmup_steps=int(0.1 * total_steps),\n",
    "#     num_training_steps=total_steps,\n",
    "#     num_cycles=2,\n",
    "# )\n"
   ]
  },
  {
   "cell_type": "code",
   "execution_count": 116,
   "id": "7d303396",
   "metadata": {},
   "outputs": [],
   "source": [
    "# from transformers import get_polynomial_decay_schedule_with_warmup\n",
    "\n",
    "# scheduler = get_polynomial_decay_schedule_with_warmup(\n",
    "#     optimizer,\n",
    "#     num_warmup_steps=int(0.1 * total_steps),\n",
    "#     num_training_steps=total_steps,\n",
    "#     lr_end=1e-6,\n",
    "#     power=2.0,\n",
    "# )\n"
   ]
  },
  {
   "cell_type": "code",
   "execution_count": 117,
   "id": "6e670f8e",
   "metadata": {},
   "outputs": [],
   "source": [
    "# from transformers import get_constant_schedule_with_warmup\n",
    "\n",
    "# scheduler = get_constant_schedule_with_warmup(\n",
    "#     optimizer,\n",
    "#     num_warmup_steps=int(0.1 * total_steps),\n",
    "# )\n"
   ]
  },
  {
   "cell_type": "code",
   "execution_count": 118,
   "id": "03d2cfaa",
   "metadata": {},
   "outputs": [],
   "source": [
    "def preprocess_logits_for_metrics(logits, labels):\n",
    "    if isinstance(logits, tuple):\n",
    "        logits = logits[0]\n",
    "    return torch.argmax(logits, dim=-1)"
   ]
  },
  {
   "cell_type": "code",
   "execution_count": 119,
   "id": "97371426",
   "metadata": {},
   "outputs": [],
   "source": [
    "from collections import Counter\n",
    "\n",
    "\n",
    "def compute_class_weights(train_dataset, num_labels):\n",
    "    all_labels = [l for labels in train_dataset.labels.tolist() for l in labels if l != -100]\n",
    "    counts = Counter(all_labels)\n",
    "    total = sum(counts.values())\n",
    "    class_weights = [total / (num_labels * counts.get(i, 1)) for i in range(num_labels)]\n",
    "    return torch.tensor(class_weights, dtype=torch.float32)\n"
   ]
  },
  {
   "cell_type": "code",
   "execution_count": 120,
   "id": "5b6b21ad",
   "metadata": {},
   "outputs": [
    {
     "data": {
      "text/plain": [
       "tensor([2.9425e-01, 2.2168e+00, 1.5836e+00, 5.4844e+02, 8.5693e+02, 6.3298e-01,\n",
       "        3.4133e-01, 3.2645e+02, 2.9806e+02])"
      ]
     },
     "execution_count": 120,
     "metadata": {},
     "output_type": "execute_result"
    }
   ],
   "source": [
    "class_weights_tensor = compute_class_weights(train_dataset, num_labels)\n",
    "class_weights_tensor"
   ]
  },
  {
   "cell_type": "code",
   "execution_count": 121,
   "id": "230cf5d1",
   "metadata": {},
   "outputs": [],
   "source": [
    "from collections import Counter\n",
    "\n",
    "def show_class_counts_and_ready_weights(train_dataset, idx2label, class_weights_tensor):\n",
    "    all_labels = []\n",
    "    for labels in train_dataset.labels.tolist():\n",
    "        for l in labels:\n",
    "            if l != -100:\n",
    "                all_labels.append(l)\n",
    "\n",
    "    counts = Counter(all_labels)\n",
    "\n",
    "    print(f\"{'Класс':20s} | {'Кол-во':10s} | {'Вес'}\")\n",
    "    print(\"-\"*50)\n",
    "    for i in range(len(class_weights_tensor)):\n",
    "        label = idx2label[i]\n",
    "        count = counts.get(i, 0)\n",
    "        weight = class_weights_tensor[i].item()\n",
    "        print(f\"{label:20s} | {count:<10d} | {weight:.6f}\")\n"
   ]
  },
  {
   "cell_type": "code",
   "execution_count": 122,
   "id": "88ce3ac6",
   "metadata": {},
   "outputs": [
    {
     "name": "stdout",
     "output_type": "stream",
     "text": [
      "Класс                | Кол-во     | Вес\n",
      "--------------------------------------------------\n",
      "O                    | 46596      | 0.294250\n",
      "B-BRAND              | 6185       | 2.216797\n",
      "I-BRAND              | 8658       | 1.583609\n",
      "B-PERCENT            | 25         | 548.435547\n",
      "I-PERCENT            | 16         | 856.930542\n",
      "B-TYPE               | 21661      | 0.632976\n",
      "I-TYPE               | 40169      | 0.341330\n",
      "B-VOLUME             | 42         | 326.449738\n",
      "I-VOLUME             | 46         | 298.062805\n"
     ]
    }
   ],
   "source": [
    "show_class_counts_and_ready_weights(train_dataset, idx2label, class_weights_tensor)\n"
   ]
  },
  {
   "cell_type": "code",
   "execution_count": 123,
   "id": "74d590b9",
   "metadata": {},
   "outputs": [],
   "source": [
    "from collections import Counter\n",
    "\n",
    "import numpy as np\n",
    "import torch\n",
    "from torch.nn import CrossEntropyLoss\n",
    "\n",
    "\n",
    "def weighted_crf_loss(\n",
    "    emissions,\n",
    "    labels,\n",
    "    attention_mask,\n",
    "    crf,\n",
    "    class_weights_tensor,\n",
    "    alpha=0.7,\n",
    "):\n",
    "    labels_for_crf = labels.clone().long()\n",
    "    labels_for_crf[labels_for_crf == -100] = 0\n",
    "\n",
    "    crf_loss = -crf(\n",
    "        emissions,\n",
    "        labels_for_crf,\n",
    "        mask=attention_mask.bool(),\n",
    "        reduction=\"token_mean\"\n",
    "    )\n",
    "\n",
    "    logits_flat = emissions.view(-1, emissions.size(-1))\n",
    "    labels_flat = labels.view(-1)\n",
    "    ce_loss_fn = CrossEntropyLoss(\n",
    "        weight=class_weights_tensor.to(emissions.device),\n",
    "        ignore_index=-100\n",
    "    )\n",
    "    ce_loss = ce_loss_fn(logits_flat, labels_flat)\n",
    "    total_loss = alpha * crf_loss + (1 - alpha) * ce_loss\n",
    "    return total_loss\n",
    "\n",
    "\n",
    "def weighted_loss(\n",
    "    outputs: \"TokenClassifierCRFOutput\",\n",
    "    labels,\n",
    "    model,\n",
    "    class_weights_tensor,\n",
    "    alpha=0.7,\n",
    "    num_items_in_batch=None,\n",
    "):\n",
    "    emissions = outputs.logits\n",
    "    loss = weighted_crf_loss(\n",
    "        emissions=emissions,\n",
    "        labels=labels,\n",
    "        attention_mask=outputs.attention_mask,\n",
    "        crf=model.crf,\n",
    "        class_weights_tensor=class_weights_tensor,\n",
    "        alpha=alpha,\n",
    "    )\n",
    "    return loss\n"
   ]
  },
  {
   "cell_type": "code",
   "execution_count": 124,
   "id": "68fbdea9",
   "metadata": {},
   "outputs": [],
   "source": [
    "from functools import partial\n",
    "\n",
    "from ml.trainer import CustomBaseTrainer\n",
    "from ml.metrics import compute_metrics\n",
    "\n",
    "trainer = CustomBaseTrainer(\n",
    "    model=model,\n",
    "    args=training_args,\n",
    "    train_dataset=train_dataset,\n",
    "    eval_dataset=val_dataset,\n",
    "    optimizers=(optimizer, scheduler),\n",
    "    compute_metrics=partial(compute_metrics, idx2label=idx2label),\n",
    "    processing_class=train_dataset.tokenizer,\n",
    "    preprocess_logits_for_metrics=preprocess_logits_for_metrics,\n",
    "    compute_loss_func=partial(weighted_loss, model=model, class_weights_tensor=class_weights_tensor, alpha=0.5)\n",
    ")"
   ]
  },
  {
   "cell_type": "code",
   "execution_count": 125,
   "id": "6f0de557",
   "metadata": {},
   "outputs": [
    {
     "name": "stderr",
     "output_type": "stream",
     "text": [
      "d:\\Projects\\env_ml\\.venv\\Lib\\site-packages\\torch\\utils\\data\\dataloader.py:666: UserWarning:\n",
      "\n",
      "'pin_memory' argument is set as true but no accelerator is found, then device pinned memory won't be used.\n",
      "\n"
     ]
    },
    {
     "data": {
      "text/html": [
       "\n",
       "    <div>\n",
       "      \n",
       "      <progress value='1098' max='1098' style='width:300px; height:20px; vertical-align: middle;'></progress>\n",
       "      [1098/1098 06:16, Epoch 6/6]\n",
       "    </div>\n",
       "    <table border=\"1\" class=\"dataframe\">\n",
       "  <thead>\n",
       " <tr style=\"text-align: left;\">\n",
       "      <th>Epoch</th>\n",
       "      <th>Training Loss</th>\n",
       "      <th>Validation Loss</th>\n",
       "      <th>Precision</th>\n",
       "      <th>Recall</th>\n",
       "      <th>F1 Micro</th>\n",
       "      <th>F1 Macro</th>\n",
       "      <th>Accuracy</th>\n",
       "    </tr>\n",
       "  </thead>\n",
       "  <tbody>\n",
       "    <tr>\n",
       "      <td>1</td>\n",
       "      <td>1.397700</td>\n",
       "      <td>0.911661</td>\n",
       "      <td>0.503432</td>\n",
       "      <td>0.596206</td>\n",
       "      <td>0.545906</td>\n",
       "      <td>0.272904</td>\n",
       "      <td>0.868818</td>\n",
       "    </tr>\n",
       "    <tr>\n",
       "      <td>2</td>\n",
       "      <td>0.610800</td>\n",
       "      <td>0.592837</td>\n",
       "      <td>0.719212</td>\n",
       "      <td>0.791328</td>\n",
       "      <td>0.753548</td>\n",
       "      <td>0.579559</td>\n",
       "      <td>0.934257</td>\n",
       "    </tr>\n",
       "    <tr>\n",
       "      <td>3</td>\n",
       "      <td>0.301400</td>\n",
       "      <td>0.493179</td>\n",
       "      <td>0.773072</td>\n",
       "      <td>0.828591</td>\n",
       "      <td>0.799869</td>\n",
       "      <td>0.576974</td>\n",
       "      <td>0.945975</td>\n",
       "    </tr>\n",
       "    <tr>\n",
       "      <td>4</td>\n",
       "      <td>0.180100</td>\n",
       "      <td>0.500313</td>\n",
       "      <td>0.770795</td>\n",
       "      <td>0.847561</td>\n",
       "      <td>0.807357</td>\n",
       "      <td>0.681182</td>\n",
       "      <td>0.948105</td>\n",
       "    </tr>\n",
       "    <tr>\n",
       "      <td>5</td>\n",
       "      <td>0.132100</td>\n",
       "      <td>0.478607</td>\n",
       "      <td>0.817606</td>\n",
       "      <td>0.874661</td>\n",
       "      <td>0.845172</td>\n",
       "      <td>0.706007</td>\n",
       "      <td>0.957845</td>\n",
       "    </tr>\n",
       "    <tr>\n",
       "      <td>6</td>\n",
       "      <td>0.109200</td>\n",
       "      <td>0.485429</td>\n",
       "      <td>0.829923</td>\n",
       "      <td>0.879404</td>\n",
       "      <td>0.853947</td>\n",
       "      <td>0.711834</td>\n",
       "      <td>0.959215</td>\n",
       "    </tr>\n",
       "  </tbody>\n",
       "</table><p>"
      ],
      "text/plain": [
       "<IPython.core.display.HTML object>"
      ]
     },
     "metadata": {},
     "output_type": "display_data"
    },
    {
     "name": "stderr",
     "output_type": "stream",
     "text": [
      "d:\\Projects\\env_ml\\.venv\\Lib\\site-packages\\seqeval\\metrics\\v1.py:57: UndefinedMetricWarning:\n",
      "\n",
      "Precision and F-score are ill-defined and being set to 0.0 in labels with no predicted samples. Use `zero_division` parameter to control this behavior.\n",
      "\n",
      "d:\\Projects\\env_ml\\.venv\\Lib\\site-packages\\torch\\utils\\data\\dataloader.py:666: UserWarning:\n",
      "\n",
      "'pin_memory' argument is set as true but no accelerator is found, then device pinned memory won't be used.\n",
      "\n",
      "d:\\Projects\\env_ml\\.venv\\Lib\\site-packages\\torch\\utils\\data\\dataloader.py:666: UserWarning:\n",
      "\n",
      "'pin_memory' argument is set as true but no accelerator is found, then device pinned memory won't be used.\n",
      "\n",
      "d:\\Projects\\env_ml\\.venv\\Lib\\site-packages\\torch\\utils\\data\\dataloader.py:666: UserWarning:\n",
      "\n",
      "'pin_memory' argument is set as true but no accelerator is found, then device pinned memory won't be used.\n",
      "\n",
      "d:\\Projects\\env_ml\\.venv\\Lib\\site-packages\\torch\\utils\\data\\dataloader.py:666: UserWarning:\n",
      "\n",
      "'pin_memory' argument is set as true but no accelerator is found, then device pinned memory won't be used.\n",
      "\n",
      "d:\\Projects\\env_ml\\.venv\\Lib\\site-packages\\torch\\utils\\data\\dataloader.py:666: UserWarning:\n",
      "\n",
      "'pin_memory' argument is set as true but no accelerator is found, then device pinned memory won't be used.\n",
      "\n"
     ]
    },
    {
     "data": {
      "text/plain": [
       "TrainOutput(global_step=1098, training_loss=0.4552126173981769, metrics={'train_runtime': 377.0291, 'train_samples_per_second': 370.762, 'train_steps_per_second': 2.912, 'total_flos': 20152520245440.0, 'train_loss': 0.4552126173981769, 'epoch': 6.0})"
      ]
     },
     "execution_count": 125,
     "metadata": {},
     "output_type": "execute_result"
    }
   ],
   "source": [
    "trainer.train()"
   ]
  },
  {
   "cell_type": "code",
   "execution_count": 126,
   "id": "33452675",
   "metadata": {},
   "outputs": [
    {
     "data": {
      "image/png": "[encoded data removed]",
      "text/plain": [
       "<Figure size 800x4000 with 10 Axes>"
      ]
     },
     "metadata": {},
     "output_type": "display_data"
    }
   ],
   "source": [
    "trainer.plot_results()"
   ]
  },
  {
   "cell_type": "code",
   "execution_count": 127,
   "id": "25824222",
   "metadata": {},
   "outputs": [
    {
     "name": "stderr",
     "output_type": "stream",
     "text": [
      "d:\\Projects\\env_ml\\.venv\\Lib\\site-packages\\torch\\utils\\data\\dataloader.py:666: UserWarning:\n",
      "\n",
      "'pin_memory' argument is set as true but no accelerator is found, then device pinned memory won't be used.\n",
      "\n"
     ]
    },
    {
     "data": {
      "text/html": [],
      "text/plain": [
       "<IPython.core.display.HTML object>"
      ]
     },
     "metadata": {},
     "output_type": "display_data"
    },
    {
     "name": "stdout",
     "output_type": "stream",
     "text": [
      "{'test_loss': 0.3672468662261963, 'test_precision': 0.8460859329017069, 'test_recall': 0.8837995696280356, 'test_f1_micro': 0.8645316493760336, 'test_f1_macro': 0.6621069031055056, 'test_accuracy': 0.958879536359873, 'test_runtime': 1.5909, 'test_samples_per_second': 1713.469, 'test_steps_per_second': 13.828}\n"
     ]
    }
   ],
   "source": [
    "test_results = trainer.predict(test_dataset)\n",
    "print(test_results.metrics)"
   ]
  },
  {
   "cell_type": "code",
   "execution_count": 129,
   "id": "c5b28b04",
   "metadata": {},
   "outputs": [],
   "source": [
    "trainer.save_model(DATA_PATH_SAVE_MODELS / MODEL_NAME_SAVE)"
   ]
  },
  {
   "cell_type": "markdown",
   "id": "3ab6c60b",
   "metadata": {},
   "source": [
    "# Тестирование модели"
   ]
  },
  {
   "cell_type": "code",
   "execution_count": 130,
   "id": "40422331",
   "metadata": {},
   "outputs": [],
   "source": [
    "from regex import D\n",
    "from transformers import AutoConfig\n",
    "from ml.model import AutoModelForTokenClassificationWithCRF, TokenClassifierCRFOutput\n",
    "\n",
    "num_labels = len(label2idx)\n",
    "\n",
    "config = AutoConfig.from_pretrained(\n",
    "    DATA_PATH_SAVE_MODELS / \"ner_x5\",\n",
    "    num_labels=num_labels,\n",
    "    id2label=idx2label,\n",
    "    label2id=label2idx,\n",
    "    cache_dir=DATA_CACHE,\n",
    ")\n",
    "\n",
    "model = AutoModelForTokenClassificationWithCRF.from_pretrained(\n",
    "    DATA_PATH_SAVE_MODELS / \"ner_x5\",\n",
    "    cache_dir=DATA_CACHE,\n",
    "    config=config,\n",
    "    ignore_mismatched_sizes=True,\n",
    ")"
   ]
  },
  {
   "cell_type": "code",
   "execution_count": 131,
   "id": "6605670b",
   "metadata": {},
   "outputs": [
    {
     "name": "stderr",
     "output_type": "stream",
     "text": [
      "Analyzing with model: 100%|█████████████████████████████████████████| 43/43 [00:02<00:00, 15.49it/s]\n"
     ]
    }
   ],
   "source": [
    "test_dataset.analyze_with_model(\n",
    "    model=model, \n",
    "    idx2label=idx2label, \n",
    "    batch_size=64, \n",
    "    device=\"cuda\" if torch.cuda.is_available() else \"cpu\", \n",
    "    layer=-1\n",
    ")"
   ]
  },
  {
   "cell_type": "code",
   "execution_count": 132,
   "id": "66fa62f5",
   "metadata": {},
   "outputs": [],
   "source": [
    "# test_dataset.df.sample(10)"
   ]
  },
  {
   "cell_type": "code",
   "execution_count": 133,
   "id": "203bf962",
   "metadata": {},
   "outputs": [
    {
     "name": "stdout",
     "output_type": "stream",
     "text": [
      "is_correct\n",
      "True     2456\n",
      "False     270\n",
      "Name: count, dtype: int64\n"
     ]
    }
   ],
   "source": [
    "print(test_dataset.df[\"is_correct\"].value_counts())"
   ]
  },
  {
   "cell_type": "code",
   "execution_count": 134,
   "id": "f328aa7a",
   "metadata": {},
   "outputs": [
    {
     "data": {
      "text/html": [
       "<div>\n",
       "<style scoped>\n",
       "    .dataframe tbody tr th:only-of-type {\n",
       "        vertical-align: middle;\n",
       "    }\n",
       "\n",
       "    .dataframe tbody tr th {\n",
       "        vertical-align: top;\n",
       "    }\n",
       "\n",
       "    .dataframe thead th {\n",
       "        text-align: right;\n",
       "    }\n",
       "</style>\n",
       "<table border=\"1\" class=\"dataframe\">\n",
       "  <thead>\n",
       "    <tr style=\"text-align: right;\">\n",
       "      <th></th>\n",
       "      <th>sample</th>\n",
       "      <th>annotation</th>\n",
       "      <th>df_label</th>\n",
       "      <th>tokens_ids_debug</th>\n",
       "      <th>tokens_text_debug</th>\n",
       "      <th>labels_debug</th>\n",
       "      <th>pred_labels</th>\n",
       "      <th>entities</th>\n",
       "      <th>is_correct</th>\n",
       "    </tr>\n",
       "  </thead>\n",
       "  <tbody>\n",
       "    <tr>\n",
       "      <th>1458</th>\n",
       "      <td>капюртофель</td>\n",
       "      <td>[(0, 11, B-TYPE)]</td>\n",
       "      <td>x5</td>\n",
       "      <td>[2, 33008, 36471, 1026, 53019, 3, 0, 0, 0, 0]</td>\n",
       "      <td>[[CLS], кап, ##юр, ##то, ##фель, [SEP], [PAD], [PAD], [PAD], [PAD]]</td>\n",
       "      <td>[O, B-TYPE, I-TYPE, I-TYPE, I-TYPE, O, O, O, O, O]</td>\n",
       "      <td>[O, B-TYPE, I-TYPE, I-TYPE, I-TYPE, O, O, O, O, O]</td>\n",
       "      <td>[{'start_index': 0, 'end_index': 11, 'entity': 'B-TYPE', 'word': 'капюртофель'}]</td>\n",
       "      <td>True</td>\n",
       "    </tr>\n",
       "    <tr>\n",
       "      <th>710</th>\n",
       "      <td>сосиську</td>\n",
       "      <td>[(0, 8, B-TYPE)]</td>\n",
       "      <td>x5</td>\n",
       "      <td>[2, 71131, 20953, 3, 0, 0, 0, 0, 0, 0]</td>\n",
       "      <td>[[CLS], сосис, ##ьку, [SEP], [PAD], [PAD], [PAD], [PAD], [PAD], [PAD]]</td>\n",
       "      <td>[O, B-TYPE, I-TYPE, O, O, O, O, O, O, O]</td>\n",
       "      <td>[O, B-TYPE, I-TYPE, O, O, O, O, O, O, O]</td>\n",
       "      <td>[{'start_index': 0, 'end_index': 8, 'entity': 'B-TYPE', 'word': 'сосиську'}]</td>\n",
       "      <td>True</td>\n",
       "    </tr>\n",
       "    <tr>\n",
       "      <th>2063</th>\n",
       "      <td>темьо для чебурек</td>\n",
       "      <td>[(0, 5, B-TYPE), (6, 9, I-TYPE), (10, 17, I-TYPE)]</td>\n",
       "      <td>x5</td>\n",
       "      <td>[2, 5624, 19011, 871, 3342, 19110, 3807, 3, 0, 0]</td>\n",
       "      <td>[[CLS], тем, ##ьо, для, че, ##бур, ##ек, [SEP], [PAD], [PAD]]</td>\n",
       "      <td>[O, B-TYPE, I-TYPE, I-TYPE, I-TYPE, I-TYPE, I-TYPE, O, O, O]</td>\n",
       "      <td>[O, B-TYPE, I-TYPE, I-TYPE, I-TYPE, I-TYPE, I-TYPE, O, O, O]</td>\n",
       "      <td>[{'start_index': 0, 'end_index': 5, 'entity': 'B-TYPE', 'word': 'темьо'}, {'start_index': 6, 'end_index': 9, 'entity': 'I-TYPE', 'word': 'для'}, {'start_index': 10, 'end_index': 17, 'entity': 'I-TYPE', 'word': 'чебурек'}]</td>\n",
       "      <td>True</td>\n",
       "    </tr>\n",
       "    <tr>\n",
       "      <th>741</th>\n",
       "      <td>печенеье</td>\n",
       "      <td>[(0, 8, B-TYPE)]</td>\n",
       "      <td>x5</td>\n",
       "      <td>[2, 35933, 987, 5976, 3, 0, 0, 0, 0, 0]</td>\n",
       "      <td>[[CLS], пече, ##не, ##ье, [SEP], [PAD], [PAD], [PAD], [PAD], [PAD]]</td>\n",
       "      <td>[O, B-TYPE, I-TYPE, I-TYPE, O, O, O, O, O, O]</td>\n",
       "      <td>[O, B-TYPE, I-TYPE, I-TYPE, O, O, O, O, O, O]</td>\n",
       "      <td>[{'start_index': 0, 'end_index': 8, 'entity': 'B-TYPE', 'word': 'печенеье'}]</td>\n",
       "      <td>True</td>\n",
       "    </tr>\n",
       "    <tr>\n",
       "      <th>865</th>\n",
       "      <td>слоное</td>\n",
       "      <td>[(0, 6, B-TYPE)]</td>\n",
       "      <td>x5</td>\n",
       "      <td>[2, 72144, 4427, 3, 0, 0, 0, 0, 0, 0]</td>\n",
       "      <td>[[CLS], слон, ##ое, [SEP], [PAD], [PAD], [PAD], [PAD], [PAD], [PAD]]</td>\n",
       "      <td>[O, B-TYPE, I-TYPE, O, O, O, O, O, O, O]</td>\n",
       "      <td>[O, B-TYPE, I-TYPE, O, O, O, O, O, O, O]</td>\n",
       "      <td>[{'start_index': 0, 'end_index': 6, 'entity': 'B-TYPE', 'word': 'слоное'}]</td>\n",
       "      <td>True</td>\n",
       "    </tr>\n",
       "  </tbody>\n",
       "</table>\n",
       "</div>"
      ],
      "text/plain": [
       "                 sample                                          annotation  \\\n",
       "1458        капюртофель                                   [(0, 11, B-TYPE)]   \n",
       "710            сосиську                                    [(0, 8, B-TYPE)]   \n",
       "2063  темьо для чебурек  [(0, 5, B-TYPE), (6, 9, I-TYPE), (10, 17, I-TYPE)]   \n",
       "741            печенеье                                    [(0, 8, B-TYPE)]   \n",
       "865              слоное                                    [(0, 6, B-TYPE)]   \n",
       "\n",
       "     df_label                                   tokens_ids_debug  \\\n",
       "1458       x5      [2, 33008, 36471, 1026, 53019, 3, 0, 0, 0, 0]   \n",
       "710        x5             [2, 71131, 20953, 3, 0, 0, 0, 0, 0, 0]   \n",
       "2063       x5  [2, 5624, 19011, 871, 3342, 19110, 3807, 3, 0, 0]   \n",
       "741        x5            [2, 35933, 987, 5976, 3, 0, 0, 0, 0, 0]   \n",
       "865        x5              [2, 72144, 4427, 3, 0, 0, 0, 0, 0, 0]   \n",
       "\n",
       "                                                           tokens_text_debug  \\\n",
       "1458     [[CLS], кап, ##юр, ##то, ##фель, [SEP], [PAD], [PAD], [PAD], [PAD]]   \n",
       "710   [[CLS], сосис, ##ьку, [SEP], [PAD], [PAD], [PAD], [PAD], [PAD], [PAD]]   \n",
       "2063           [[CLS], тем, ##ьо, для, че, ##бур, ##ек, [SEP], [PAD], [PAD]]   \n",
       "741      [[CLS], пече, ##не, ##ье, [SEP], [PAD], [PAD], [PAD], [PAD], [PAD]]   \n",
       "865     [[CLS], слон, ##ое, [SEP], [PAD], [PAD], [PAD], [PAD], [PAD], [PAD]]   \n",
       "\n",
       "                                                      labels_debug  \\\n",
       "1458            [O, B-TYPE, I-TYPE, I-TYPE, I-TYPE, O, O, O, O, O]   \n",
       "710                       [O, B-TYPE, I-TYPE, O, O, O, O, O, O, O]   \n",
       "2063  [O, B-TYPE, I-TYPE, I-TYPE, I-TYPE, I-TYPE, I-TYPE, O, O, O]   \n",
       "741                  [O, B-TYPE, I-TYPE, I-TYPE, O, O, O, O, O, O]   \n",
       "865                       [O, B-TYPE, I-TYPE, O, O, O, O, O, O, O]   \n",
       "\n",
       "                                                       pred_labels  \\\n",
       "1458            [O, B-TYPE, I-TYPE, I-TYPE, I-TYPE, O, O, O, O, O]   \n",
       "710                       [O, B-TYPE, I-TYPE, O, O, O, O, O, O, O]   \n",
       "2063  [O, B-TYPE, I-TYPE, I-TYPE, I-TYPE, I-TYPE, I-TYPE, O, O, O]   \n",
       "741                  [O, B-TYPE, I-TYPE, I-TYPE, O, O, O, O, O, O]   \n",
       "865                       [O, B-TYPE, I-TYPE, O, O, O, O, O, O, O]   \n",
       "\n",
       "                                                                                                                                                                                                                           entities  \\\n",
       "1458                                                                                                                                               [{'start_index': 0, 'end_index': 11, 'entity': 'B-TYPE', 'word': 'капюртофель'}]   \n",
       "710                                                                                                                                                    [{'start_index': 0, 'end_index': 8, 'entity': 'B-TYPE', 'word': 'сосиську'}]   \n",
       "2063  [{'start_index': 0, 'end_index': 5, 'entity': 'B-TYPE', 'word': 'темьо'}, {'start_index': 6, 'end_index': 9, 'entity': 'I-TYPE', 'word': 'для'}, {'start_index': 10, 'end_index': 17, 'entity': 'I-TYPE', 'word': 'чебурек'}]   \n",
       "741                                                                                                                                                    [{'start_index': 0, 'end_index': 8, 'entity': 'B-TYPE', 'word': 'печенеье'}]   \n",
       "865                                                                                                                                                      [{'start_index': 0, 'end_index': 6, 'entity': 'B-TYPE', 'word': 'слоное'}]   \n",
       "\n",
       "      is_correct  \n",
       "1458        True  \n",
       "710         True  \n",
       "2063        True  \n",
       "741         True  \n",
       "865         True  "
      ]
     },
     "execution_count": 134,
     "metadata": {},
     "output_type": "execute_result"
    }
   ],
   "source": [
    "df_true = test_dataset.df[test_dataset.df[\"is_correct\"] == True]\n",
    "df_true.sample(5)"
   ]
  },
  {
   "cell_type": "code",
   "execution_count": 135,
   "id": "a61a5208",
   "metadata": {},
   "outputs": [
    {
     "data": {
      "text/html": [
       "<div>\n",
       "<style scoped>\n",
       "    .dataframe tbody tr th:only-of-type {\n",
       "        vertical-align: middle;\n",
       "    }\n",
       "\n",
       "    .dataframe tbody tr th {\n",
       "        vertical-align: top;\n",
       "    }\n",
       "\n",
       "    .dataframe thead th {\n",
       "        text-align: right;\n",
       "    }\n",
       "</style>\n",
       "<table border=\"1\" class=\"dataframe\">\n",
       "  <thead>\n",
       "    <tr style=\"text-align: right;\">\n",
       "      <th></th>\n",
       "      <th>sample</th>\n",
       "      <th>annotation</th>\n",
       "      <th>df_label</th>\n",
       "      <th>tokens_ids_debug</th>\n",
       "      <th>tokens_text_debug</th>\n",
       "      <th>labels_debug</th>\n",
       "      <th>pred_labels</th>\n",
       "      <th>entities</th>\n",
       "      <th>is_correct</th>\n",
       "    </tr>\n",
       "  </thead>\n",
       "  <tbody>\n",
       "    <tr>\n",
       "      <th>2102</th>\n",
       "      <td>экзо</td>\n",
       "      <td>[(0, 4, B-BRAND)]</td>\n",
       "      <td>x5</td>\n",
       "      <td>[2, 4486, 721, 3, 0, 0, 0, 0, 0, 0]</td>\n",
       "      <td>[[CLS], экз, ##о, [SEP], [PAD], [PAD], [PAD], [PAD], [PAD], [PAD]]</td>\n",
       "      <td>[O, B-BRAND, I-BRAND, O, O, O, O, O, O, O]</td>\n",
       "      <td>[O, B-TYPE, I-TYPE, O, O, O, O, O, O, O]</td>\n",
       "      <td>[{'start_index': 0, 'end_index': 4, 'entity': 'B-TYPE', 'word': 'экзо'}]</td>\n",
       "      <td>False</td>\n",
       "    </tr>\n",
       "    <tr>\n",
       "      <th>2611</th>\n",
       "      <td>груша вильямс</td>\n",
       "      <td>[(0, 5, B-TYPE), (6, 13, I-TYPE)]</td>\n",
       "      <td>x5</td>\n",
       "      <td>[2, 82371, 603, 25040, 24819, 15480, 3, 0, 0, 0]</td>\n",
       "      <td>[[CLS], груш, ##а, ви, ##лья, ##мс, [SEP], [PAD], [PAD], [PAD]]</td>\n",
       "      <td>[O, B-TYPE, I-TYPE, I-TYPE, I-TYPE, I-TYPE, O, O, O, O]</td>\n",
       "      <td>[O, B-TYPE, I-TYPE, B-BRAND, I-TYPE, I-TYPE, O, O, O, O]</td>\n",
       "      <td>[{'start_index': 0, 'end_index': 5, 'entity': 'B-TYPE', 'word': 'груша'}, {'start_index': 6, 'end_index': 13, 'entity': 'B-BRAND', 'word': 'вильямс'}]</td>\n",
       "      <td>False</td>\n",
       "    </tr>\n",
       "    <tr>\n",
       "      <th>1548</th>\n",
       "      <td>селяночка</td>\n",
       "      <td>[(0, 9, B-BRAND)]</td>\n",
       "      <td>x5</td>\n",
       "      <td>[2, 28496, 27320, 3, 0, 0, 0, 0, 0, 0]</td>\n",
       "      <td>[[CLS], селян, ##очка, [SEP], [PAD], [PAD], [PAD], [PAD], [PAD], [PAD]]</td>\n",
       "      <td>[O, B-BRAND, I-BRAND, O, O, O, O, O, O, O]</td>\n",
       "      <td>[O, B-TYPE, I-BRAND, O, O, O, O, O, O, O]</td>\n",
       "      <td>[{'start_index': 0, 'end_index': 9, 'entity': 'B-TYPE', 'word': 'селяночка'}]</td>\n",
       "      <td>False</td>\n",
       "    </tr>\n",
       "    <tr>\n",
       "      <th>335</th>\n",
       "      <td>дэмка паштет</td>\n",
       "      <td>[(0, 5, B-BRAND), (6, 12, B-TYPE)]</td>\n",
       "      <td>x5</td>\n",
       "      <td>[2, 316, 12447, 872, 2189, 10850, 751, 3, 0, 0]</td>\n",
       "      <td>[[CLS], д, ##эм, ##ка, па, ##ште, ##т, [SEP], [PAD], [PAD]]</td>\n",
       "      <td>[O, B-BRAND, I-BRAND, I-BRAND, B-TYPE, I-TYPE, I-TYPE, O, O, O]</td>\n",
       "      <td>[O, B-TYPE, I-TYPE, I-TYPE, I-TYPE, I-TYPE, I-TYPE, O, O, O]</td>\n",
       "      <td>[{'start_index': 0, 'end_index': 5, 'entity': 'B-TYPE', 'word': 'дэмка'}, {'start_index': 6, 'end_index': 12, 'entity': 'I-TYPE', 'word': 'паштет'}]</td>\n",
       "      <td>False</td>\n",
       "    </tr>\n",
       "    <tr>\n",
       "      <th>1618</th>\n",
       "      <td>кофе mild fresco</td>\n",
       "      <td>[(0, 4, B-TYPE), (5, 9, B-BRAND), (10, 16, I-BRAND)]</td>\n",
       "      <td>x5</td>\n",
       "      <td>[2, 32912, 25181, 1911, 13941, 559, 3, 0, 0, 0]</td>\n",
       "      <td>[[CLS], кофе, mild, fr, ##esc, ##o, [SEP], [PAD], [PAD], [PAD]]</td>\n",
       "      <td>[O, B-TYPE, B-BRAND, I-BRAND, I-BRAND, I-BRAND, O, O, O, O]</td>\n",
       "      <td>[O, B-TYPE, B-BRAND, B-BRAND, I-BRAND, I-BRAND, O, O, O, O]</td>\n",
       "      <td>[{'start_index': 0, 'end_index': 4, 'entity': 'B-TYPE', 'word': 'кофе'}, {'start_index': 5, 'end_index': 9, 'entity': 'B-BRAND', 'word': 'mild'}, {'start_index': 10, 'end_index': 16, 'entity': 'B-BRAND', 'word': 'fresco'}]</td>\n",
       "      <td>False</td>\n",
       "    </tr>\n",
       "    <tr>\n",
       "      <th>1640</th>\n",
       "      <td>кому-нибудь letto</td>\n",
       "      <td>[(0, 11, B-TYPE), (12, 17, B-BRAND)]</td>\n",
       "      <td>x5</td>\n",
       "      <td>[2, 30411, 17, 30027, 3353, 559, 3, 0, 0, 0]</td>\n",
       "      <td>[[CLS], кому, -, нибудь, lett, ##o, [SEP], [PAD], [PAD], [PAD]]</td>\n",
       "      <td>[O, B-TYPE, I-TYPE, I-TYPE, B-BRAND, I-BRAND, O, O, O, O]</td>\n",
       "      <td>[O, B-TYPE, I-TYPE, I-TYPE, I-TYPE, I-BRAND, O, O, O, O]</td>\n",
       "      <td>[{'start_index': 0, 'end_index': 11, 'entity': 'B-TYPE', 'word': 'кому-нибудь'}, {'start_index': 12, 'end_index': 17, 'entity': 'I-TYPE', 'word': 'letto'}]</td>\n",
       "      <td>False</td>\n",
       "    </tr>\n",
       "    <tr>\n",
       "      <th>63</th>\n",
       "      <td>фейр</td>\n",
       "      <td>[(0, 4, B-BRAND)]</td>\n",
       "      <td>x5</td>\n",
       "      <td>[2, 36276, 870, 3, 0, 0, 0, 0, 0, 0]</td>\n",
       "      <td>[[CLS], фей, ##р, [SEP], [PAD], [PAD], [PAD], [PAD], [PAD], [PAD]]</td>\n",
       "      <td>[O, B-BRAND, I-BRAND, O, O, O, O, O, O, O]</td>\n",
       "      <td>[O, B-TYPE, I-TYPE, O, O, O, O, O, O, O]</td>\n",
       "      <td>[{'start_index': 0, 'end_index': 4, 'entity': 'B-TYPE', 'word': 'фейр'}]</td>\n",
       "      <td>False</td>\n",
       "    </tr>\n",
       "    <tr>\n",
       "      <th>2712</th>\n",
       "      <td>нож мистери</td>\n",
       "      <td>[(0, 3, B-TYPE), (4, 11, B-BRAND)]</td>\n",
       "      <td>x5</td>\n",
       "      <td>[2, 42547, 45012, 613, 3, 0, 0, 0, 0, 0]</td>\n",
       "      <td>[[CLS], нож, мистер, ##и, [SEP], [PAD], [PAD], [PAD], [PAD], [PAD]]</td>\n",
       "      <td>[O, B-TYPE, B-BRAND, I-BRAND, O, O, O, O, O, O]</td>\n",
       "      <td>[O, B-TYPE, I-TYPE, I-TYPE, O, O, O, O, O, O]</td>\n",
       "      <td>[{'start_index': 0, 'end_index': 3, 'entity': 'B-TYPE', 'word': 'нож'}, {'start_index': 4, 'end_index': 11, 'entity': 'I-TYPE', 'word': 'мистери'}]</td>\n",
       "      <td>False</td>\n",
       "    </tr>\n",
       "    <tr>\n",
       "      <th>520</th>\n",
       "      <td>шпикачки  окраи</td>\n",
       "      <td>[(0, 9, B-TYPE), (10, 15, B-BRAND)]</td>\n",
       "      <td>x5</td>\n",
       "      <td>[2, 2690, 3544, 3432, 36106, 3, 0, 0, 0, 0]</td>\n",
       "      <td>[[CLS], шп, ##ика, ##чки, окраи, [SEP], [PAD], [PAD], [PAD], [PAD]]</td>\n",
       "      <td>[O, B-TYPE, I-TYPE, I-TYPE, B-BRAND, O, O, O, O, O]</td>\n",
       "      <td>[O, B-TYPE, I-TYPE, I-TYPE, B-BRAND, O, O, O, O, O]</td>\n",
       "      <td>[{'start_index': 0, 'end_index': 8, 'entity': 'B-TYPE', 'word': 'шпикачки'}, {'start_index': 10, 'end_index': 15, 'entity': 'B-BRAND', 'word': 'окраи'}]</td>\n",
       "      <td>False</td>\n",
       "    </tr>\n",
       "    <tr>\n",
       "      <th>1559</th>\n",
       "      <td>сухой корм для кошек пурина</td>\n",
       "      <td>[(0, 5, B-TYPE), (6, 10, I-TYPE), (11, 14, I-TYPE), (15, 20, I-TYPE), (21, 27, B-BRAND)]</td>\n",
       "      <td>x5</td>\n",
       "      <td>[2, 39436, 38962, 871, 38396, 65905, 2462, 3, 0, 0]</td>\n",
       "      <td>[[CLS], сухой, корм, для, кошек, пур, ##ина, [SEP], [PAD], [PAD]]</td>\n",
       "      <td>[O, B-TYPE, I-TYPE, I-TYPE, I-TYPE, B-BRAND, I-BRAND, O, O, O]</td>\n",
       "      <td>[O, B-TYPE, I-TYPE, I-TYPE, I-TYPE, I-TYPE, I-TYPE, O, O, O]</td>\n",
       "      <td>[{'start_index': 0, 'end_index': 5, 'entity': 'B-TYPE', 'word': 'сухой'}, {'start_index': 6, 'end_index': 10, 'entity': 'I-TYPE', 'word': 'корм'}, {'start_index': 11, 'end_index': 14, 'entity': 'I-TYPE', 'word': 'для'}, {'start_index': 15, 'end_index': 20, 'entity': 'I-TYPE', 'word': 'кошек'}, {'start_index': 21, 'end_index': 27, 'entity': 'I-TYPE', 'word': 'пурина'}]</td>\n",
       "      <td>False</td>\n",
       "    </tr>\n",
       "  </tbody>\n",
       "</table>\n",
       "</div>"
      ],
      "text/plain": [
       "                           sample  \\\n",
       "2102                         экзо   \n",
       "2611                груша вильямс   \n",
       "1548                    селяночка   \n",
       "335                  дэмка паштет   \n",
       "1618             кофе mild fresco   \n",
       "1640            кому-нибудь letto   \n",
       "63                           фейр   \n",
       "2712                  нож мистери   \n",
       "520               шпикачки  окраи   \n",
       "1559  сухой корм для кошек пурина   \n",
       "\n",
       "                                                                                    annotation  \\\n",
       "2102                                                                         [(0, 4, B-BRAND)]   \n",
       "2611                                                         [(0, 5, B-TYPE), (6, 13, I-TYPE)]   \n",
       "1548                                                                         [(0, 9, B-BRAND)]   \n",
       "335                                                         [(0, 5, B-BRAND), (6, 12, B-TYPE)]   \n",
       "1618                                      [(0, 4, B-TYPE), (5, 9, B-BRAND), (10, 16, I-BRAND)]   \n",
       "1640                                                      [(0, 11, B-TYPE), (12, 17, B-BRAND)]   \n",
       "63                                                                           [(0, 4, B-BRAND)]   \n",
       "2712                                                        [(0, 3, B-TYPE), (4, 11, B-BRAND)]   \n",
       "520                                                        [(0, 9, B-TYPE), (10, 15, B-BRAND)]   \n",
       "1559  [(0, 5, B-TYPE), (6, 10, I-TYPE), (11, 14, I-TYPE), (15, 20, I-TYPE), (21, 27, B-BRAND)]   \n",
       "\n",
       "     df_label                                     tokens_ids_debug  \\\n",
       "2102       x5                  [2, 4486, 721, 3, 0, 0, 0, 0, 0, 0]   \n",
       "2611       x5     [2, 82371, 603, 25040, 24819, 15480, 3, 0, 0, 0]   \n",
       "1548       x5               [2, 28496, 27320, 3, 0, 0, 0, 0, 0, 0]   \n",
       "335        x5      [2, 316, 12447, 872, 2189, 10850, 751, 3, 0, 0]   \n",
       "1618       x5      [2, 32912, 25181, 1911, 13941, 559, 3, 0, 0, 0]   \n",
       "1640       x5         [2, 30411, 17, 30027, 3353, 559, 3, 0, 0, 0]   \n",
       "63         x5                 [2, 36276, 870, 3, 0, 0, 0, 0, 0, 0]   \n",
       "2712       x5             [2, 42547, 45012, 613, 3, 0, 0, 0, 0, 0]   \n",
       "520        x5          [2, 2690, 3544, 3432, 36106, 3, 0, 0, 0, 0]   \n",
       "1559       x5  [2, 39436, 38962, 871, 38396, 65905, 2462, 3, 0, 0]   \n",
       "\n",
       "                                                            tokens_text_debug  \\\n",
       "2102       [[CLS], экз, ##о, [SEP], [PAD], [PAD], [PAD], [PAD], [PAD], [PAD]]   \n",
       "2611          [[CLS], груш, ##а, ви, ##лья, ##мс, [SEP], [PAD], [PAD], [PAD]]   \n",
       "1548  [[CLS], селян, ##очка, [SEP], [PAD], [PAD], [PAD], [PAD], [PAD], [PAD]]   \n",
       "335               [[CLS], д, ##эм, ##ка, па, ##ште, ##т, [SEP], [PAD], [PAD]]   \n",
       "1618          [[CLS], кофе, mild, fr, ##esc, ##o, [SEP], [PAD], [PAD], [PAD]]   \n",
       "1640          [[CLS], кому, -, нибудь, lett, ##o, [SEP], [PAD], [PAD], [PAD]]   \n",
       "63         [[CLS], фей, ##р, [SEP], [PAD], [PAD], [PAD], [PAD], [PAD], [PAD]]   \n",
       "2712      [[CLS], нож, мистер, ##и, [SEP], [PAD], [PAD], [PAD], [PAD], [PAD]]   \n",
       "520       [[CLS], шп, ##ика, ##чки, окраи, [SEP], [PAD], [PAD], [PAD], [PAD]]   \n",
       "1559        [[CLS], сухой, корм, для, кошек, пур, ##ина, [SEP], [PAD], [PAD]]   \n",
       "\n",
       "                                                         labels_debug  \\\n",
       "2102                       [O, B-BRAND, I-BRAND, O, O, O, O, O, O, O]   \n",
       "2611          [O, B-TYPE, I-TYPE, I-TYPE, I-TYPE, I-TYPE, O, O, O, O]   \n",
       "1548                       [O, B-BRAND, I-BRAND, O, O, O, O, O, O, O]   \n",
       "335   [O, B-BRAND, I-BRAND, I-BRAND, B-TYPE, I-TYPE, I-TYPE, O, O, O]   \n",
       "1618      [O, B-TYPE, B-BRAND, I-BRAND, I-BRAND, I-BRAND, O, O, O, O]   \n",
       "1640        [O, B-TYPE, I-TYPE, I-TYPE, B-BRAND, I-BRAND, O, O, O, O]   \n",
       "63                         [O, B-BRAND, I-BRAND, O, O, O, O, O, O, O]   \n",
       "2712                  [O, B-TYPE, B-BRAND, I-BRAND, O, O, O, O, O, O]   \n",
       "520               [O, B-TYPE, I-TYPE, I-TYPE, B-BRAND, O, O, O, O, O]   \n",
       "1559   [O, B-TYPE, I-TYPE, I-TYPE, I-TYPE, B-BRAND, I-BRAND, O, O, O]   \n",
       "\n",
       "                                                       pred_labels  \\\n",
       "2102                      [O, B-TYPE, I-TYPE, O, O, O, O, O, O, O]   \n",
       "2611      [O, B-TYPE, I-TYPE, B-BRAND, I-TYPE, I-TYPE, O, O, O, O]   \n",
       "1548                     [O, B-TYPE, I-BRAND, O, O, O, O, O, O, O]   \n",
       "335   [O, B-TYPE, I-TYPE, I-TYPE, I-TYPE, I-TYPE, I-TYPE, O, O, O]   \n",
       "1618   [O, B-TYPE, B-BRAND, B-BRAND, I-BRAND, I-BRAND, O, O, O, O]   \n",
       "1640      [O, B-TYPE, I-TYPE, I-TYPE, I-TYPE, I-BRAND, O, O, O, O]   \n",
       "63                        [O, B-TYPE, I-TYPE, O, O, O, O, O, O, O]   \n",
       "2712                 [O, B-TYPE, I-TYPE, I-TYPE, O, O, O, O, O, O]   \n",
       "520            [O, B-TYPE, I-TYPE, I-TYPE, B-BRAND, O, O, O, O, O]   \n",
       "1559  [O, B-TYPE, I-TYPE, I-TYPE, I-TYPE, I-TYPE, I-TYPE, O, O, O]   \n",
       "\n",
       "                                                                                                                                                                                                                                                                                                                                                                                entities  \\\n",
       "2102                                                                                                                                                                                                                                                                                                            [{'start_index': 0, 'end_index': 4, 'entity': 'B-TYPE', 'word': 'экзо'}]   \n",
       "2611                                                                                                                                                                                                                              [{'start_index': 0, 'end_index': 5, 'entity': 'B-TYPE', 'word': 'груша'}, {'start_index': 6, 'end_index': 13, 'entity': 'B-BRAND', 'word': 'вильямс'}]   \n",
       "1548                                                                                                                                                                                                                                                                                                       [{'start_index': 0, 'end_index': 9, 'entity': 'B-TYPE', 'word': 'селяночка'}]   \n",
       "335                                                                                                                                                                                                                                 [{'start_index': 0, 'end_index': 5, 'entity': 'B-TYPE', 'word': 'дэмка'}, {'start_index': 6, 'end_index': 12, 'entity': 'I-TYPE', 'word': 'паштет'}]   \n",
       "1618                                                                                                                                                      [{'start_index': 0, 'end_index': 4, 'entity': 'B-TYPE', 'word': 'кофе'}, {'start_index': 5, 'end_index': 9, 'entity': 'B-BRAND', 'word': 'mild'}, {'start_index': 10, 'end_index': 16, 'entity': 'B-BRAND', 'word': 'fresco'}]   \n",
       "1640                                                                                                                                                                                                                         [{'start_index': 0, 'end_index': 11, 'entity': 'B-TYPE', 'word': 'кому-нибудь'}, {'start_index': 12, 'end_index': 17, 'entity': 'I-TYPE', 'word': 'letto'}]   \n",
       "63                                                                                                                                                                                                                                                                                                              [{'start_index': 0, 'end_index': 4, 'entity': 'B-TYPE', 'word': 'фейр'}]   \n",
       "2712                                                                                                                                                                                                                                 [{'start_index': 0, 'end_index': 3, 'entity': 'B-TYPE', 'word': 'нож'}, {'start_index': 4, 'end_index': 11, 'entity': 'I-TYPE', 'word': 'мистери'}]   \n",
       "520                                                                                                                                                                                                                             [{'start_index': 0, 'end_index': 8, 'entity': 'B-TYPE', 'word': 'шпикачки'}, {'start_index': 10, 'end_index': 15, 'entity': 'B-BRAND', 'word': 'окраи'}]   \n",
       "1559  [{'start_index': 0, 'end_index': 5, 'entity': 'B-TYPE', 'word': 'сухой'}, {'start_index': 6, 'end_index': 10, 'entity': 'I-TYPE', 'word': 'корм'}, {'start_index': 11, 'end_index': 14, 'entity': 'I-TYPE', 'word': 'для'}, {'start_index': 15, 'end_index': 20, 'entity': 'I-TYPE', 'word': 'кошек'}, {'start_index': 21, 'end_index': 27, 'entity': 'I-TYPE', 'word': 'пурина'}]   \n",
       "\n",
       "      is_correct  \n",
       "2102       False  \n",
       "2611       False  \n",
       "1548       False  \n",
       "335        False  \n",
       "1618       False  \n",
       "1640       False  \n",
       "63         False  \n",
       "2712       False  \n",
       "520        False  \n",
       "1559       False  "
      ]
     },
     "execution_count": 135,
     "metadata": {},
     "output_type": "execute_result"
    }
   ],
   "source": [
    "df_false = test_dataset.df[test_dataset.df[\"is_correct\"] == False]\n",
    "df_false.sample(10)"
   ]
  },
  {
   "cell_type": "markdown",
   "id": "9564de35",
   "metadata": {},
   "source": [
    "# Визуализация по типам"
   ]
  },
  {
   "cell_type": "code",
   "execution_count": 136,
   "id": "fdea6a1e",
   "metadata": {},
   "outputs": [],
   "source": [
    "def aggregate_entities(dataset):\n",
    "    entity_embs = []\n",
    "    entity_labels = []\n",
    "    entity_texts = []\n",
    "\n",
    "    for i, row in dataset.df.iterrows():\n",
    "        words = dataset._embeddings[i][\"words\"]\n",
    "        entropies = dataset._entropies[i][\"words\"]\n",
    "        entities = row[\"entities\"]\n",
    "\n",
    "        for ent in entities:\n",
    "            if ent[\"entity\"] == \"O\":\n",
    "                continue\n",
    "\n",
    "            start, end = ent[\"start_index\"], ent[\"end_index\"]\n",
    "            ent_label = ent[\"entity\"].split(\"-\", 1)[-1]\n",
    "            ent_text = ent.get(\"word\", row[\"sample\"][start:end])\n",
    "\n",
    "            word_vecs = [w[\"emb\"] for w in words if w[\"start\"] >= start and w[\"end\"] <= end]\n",
    "            if not word_vecs:\n",
    "                continue\n",
    "\n",
    "            ent_vec = torch.stack(word_vecs).mean(dim=0).numpy()\n",
    "            entity_embs.append(ent_vec)\n",
    "            entity_labels.append(ent_label)\n",
    "            entity_texts.append(ent_text)\n",
    "\n",
    "    entity_df = pd.DataFrame({\n",
    "        \"entity_text\": entity_texts,\n",
    "        \"entity_label\": entity_labels\n",
    "    })\n",
    "    return np.stack(entity_embs), entity_df\n"
   ]
  },
  {
   "cell_type": "code",
   "execution_count": 137,
   "id": "b04df8f3",
   "metadata": {},
   "outputs": [
    {
     "name": "stdout",
     "output_type": "stream",
     "text": [
      "[t-SNE] Computing 91 nearest neighbors...\n",
      "[t-SNE] Indexed 4257 samples in 0.001s...\n",
      "[t-SNE] Computed neighbors for 4257 samples in 0.208s...\n",
      "[t-SNE] Computed conditional probabilities for sample 1000 / 4257\n",
      "[t-SNE] Computed conditional probabilities for sample 2000 / 4257\n",
      "[t-SNE] Computed conditional probabilities for sample 3000 / 4257\n",
      "[t-SNE] Computed conditional probabilities for sample 4000 / 4257\n",
      "[t-SNE] Computed conditional probabilities for sample 4257 / 4257\n",
      "[t-SNE] Mean sigma: 1.584002\n",
      "[t-SNE] KL divergence after 250 iterations with early exaggeration: 69.479057\n",
      "[t-SNE] KL divergence after 1000 iterations: 1.225722\n"
     ]
    },
    {
     "data": {
      "application/vnd.plotly.v1+json": {
       "config": {
        "plotlyServerURL": "https://plot.ly"
       },
       "data": [
        {
         "customdata": [
          [
           "останкинск",
           "BRAND"
          ],
          [
           "столичный",
           "BRAND"
          ],
          [
           "сады",
           "BRAND"
          ],
          [
           "при",
           "BRAND"
          ],
          [
           "pringles",
           "BRAND"
          ],
          [
           "tog",
           "BRAND"
          ],
          [
           "огородник",
           "BRAND"
          ],
          [
           "greenfield",
           "BRAND"
          ],
          [
           "турецки",
           "BRAND"
          ],
          [
           "смак",
           "BRAND"
          ],
          [
           "вкус",
           "BRAND"
          ],
          [
           "и",
           "BRAND"
          ],
          [
           "польза",
           "BRAND"
          ],
          [
           "декоративная",
           "BRAND"
          ],
          [
           "космети",
           "BRAND"
          ],
          [
           "саперави",
           "BRAND"
          ],
          [
           "greentek",
           "BRAND"
          ],
          [
           "слав",
           "BRAND"
          ],
          [
           "сладо",
           "BRAND"
          ],
          [
           "tampax",
           "BRAND"
          ],
          [
           "главхлеб",
           "BRAND"
          ],
          [
           "xturbo",
           "BRAND"
          ],
          [
           "botanic",
           "BRAND"
          ],
          [
           "колиандрка",
           "BRAND"
          ],
          [
           "мас",
           "BRAND"
          ],
          [
           "персиковый",
           "BRAND"
          ],
          [
           "агро",
           "BRAND"
          ],
          [
           "альянс",
           "BRAND"
          ],
          [
           "тенд",
           "BRAND"
          ],
          [
           "eco",
           "BRAND"
          ],
          [
           "триммеры",
           "BRAND"
          ],
          [
           "коллекци",
           "BRAND"
          ],
          [
           "dicki",
           "BRAND"
          ],
          [
           "первый",
           "BRAND"
          ],
          [
           "славм",
           "BRAND"
          ],
          [
           "milford",
           "BRAND"
          ],
          [
           "нф",
           "BRAND"
          ],
          [
           "optioro",
           "BRAND"
          ],
          [
           "слобода",
           "BRAND"
          ],
          [
           "старорусский",
           "BRAND"
          ],
          [
           "royal",
           "BRAND"
          ],
          [
           "elled",
           "BRAND"
          ],
          [
           "гелио",
           "BRAND"
          ],
          [
           "sk",
           "BRAND"
          ],
          [
           "spicexpert",
           "BRAND"
          ],
          [
           "zewa",
           "BRAND"
          ],
          [
           "бмк",
           "BRAND"
          ],
          [
           "br",
           "BRAND"
          ],
          [
           "тенд",
           "BRAND"
          ],
          [
           "карамбола",
           "BRAND"
          ],
          [
           "vio",
           "BRAND"
          ],
          [
           "atlanti",
           "BRAND"
          ],
          [
           "зерница",
           "BRAND"
          ],
          [
           "окраина",
           "BRAND"
          ],
          [
           "брауншвей",
           "BRAND"
          ],
          [
           "j7",
           "BRAND"
          ],
          [
           "карапу",
           "BRAND"
          ],
          [
           "маркет",
           "BRAND"
          ],
          [
           "био",
           "BRAND"
          ],
          [
           "celesta",
           "BRAND"
          ],
          [
           "инкант",
           "BRAND"
          ],
          [
           "ken",
           "BRAND"
          ],
          [
           "lovmak",
           "BRAND"
          ],
          [
           "jelli",
           "BRAND"
          ],
          [
           "фруто",
           "BRAND"
          ],
          [
           "вологодское",
           "BRAND"
          ],
          [
           "галант",
           "BRAND"
          ],
          [
           "spicexpe",
           "BRAND"
          ],
          [
           "lay",
           "BRAND"
          ],
          [
           "б.ю.александров",
           "BRAND"
          ],
          [
           "badyart",
           "BRAND"
          ],
          [
           "владхл",
           "BRAND"
          ],
          [
           "paclan",
           "BRAND"
          ],
          [
           "cherkizovo",
           "BRAND"
          ],
          [
           "liberhaus",
           "BRAND"
          ],
          [
           "arkhangel'sk",
           "BRAND"
          ],
          [
           "naturella",
           "BRAND"
          ],
          [
           "слав",
           "BRAND"
          ],
          [
           "oelki",
           "BRAND"
          ],
          [
           "нумик",
           "BRAND"
          ],
          [
           "бояринъ",
           "BRAND"
          ],
          [
           "papadimitriou",
           "BRAND"
          ],
          [
           "artfruit",
           "BRAND"
          ],
          [
           "водный",
           "BRAND"
          ],
          [
           "спорт",
           "BRAND"
          ],
          [
           "останкинский",
           "BRAND"
          ],
          [
           "60",
           "BRAND"
          ],
          [
           "аиви",
           "BRAND"
          ],
          [
           "veross",
           "BRAND"
          ],
          [
           "familia",
           "BRAND"
          ],
          [
           "самс",
           "BRAND"
          ],
          [
           "disne",
           "BRAND"
          ],
          [
           "чистая",
           "BRAND"
          ],
          [
           "линия",
           "BRAND"
          ],
          [
           "гриьбы",
           "BRAND"
          ],
          [
           "toppe",
           "BRAND"
          ],
          [
           "милки",
           "BRAND"
          ],
          [
           "сывортка",
           "BRAND"
          ],
          [
           "красная",
           "BRAND"
          ],
          [
           "цена",
           "BRAND"
          ],
          [
           "ocean",
           "BRAND"
          ],
          [
           "сит",
           "BRAND"
          ],
          [
           "bos",
           "BRAND"
          ],
          [
           "colgon",
           "BRAND"
          ],
          [
           "ex",
           "BRAND"
          ],
          [
           "fru",
           "BRAND"
          ],
          [
           "arcopal",
           "BRAND"
          ],
          [
           "bonfet",
           "BRAND"
          ],
          [
           "аст",
           "BRAND"
          ],
          [
           "зерненый",
           "BRAND"
          ],
          [
           "савушкин",
           "BRAND"
          ],
          [
           "производство",
           "BRAND"
          ],
          [
           "megel",
           "BRAND"
          ],
          [
           "kop",
           "BRAND"
          ],
          [
           "станция",
           "BRAND"
          ],
          [
           "три",
           "BRAND"
          ],
          [
           "кота",
           "BRAND"
          ],
          [
           "айдиго",
           "BRAND"
          ],
          [
           "бежин",
           "BRAND"
          ],
          [
           "луг",
           "BRAND"
          ],
          [
           "тенде",
           "BRAND"
          ],
          [
           "молочная",
           "BRAND"
          ],
          [
           "станция",
           "BRAND"
          ],
          [
           "макияжа",
           "BRAND"
          ],
          [
           "mikado",
           "BRAND"
          ],
          [
           "красно",
           "BRAND"
          ],
          [
           "красная",
           "BRAND"
          ],
          [
           "цена",
           "BRAND"
          ],
          [
           "морозово",
           "BRAND"
          ],
          [
           "батоша",
           "BRAND"
          ],
          [
           "мирато",
           "BRAND"
          ],
          [
           "intex",
           "BRAND"
          ],
          [
           "тендер",
           "BRAND"
          ],
          [
           "melle",
           "BRAND"
          ],
          [
           "слово",
           "BRAND"
          ],
          [
           "мяс",
           "BRAND"
          ],
          [
           "вязанка",
           "BRAND"
          ],
          [
           "prima",
           "BRAND"
          ],
          [
           "mto",
           "BRAND"
          ],
          [
           "thermos",
           "BRAND"
          ],
          [
           "кто-нибудь",
           "BRAND"
          ],
          [
           "миратор",
           "BRAND"
          ],
          [
           "белуга",
           "BRAND"
          ],
          [
           "borg",
           "BRAND"
          ],
          [
           "dee",
           "BRAND"
          ],
          [
           "нутри",
           "BRAND"
          ],
          [
           "чистю",
           "BRAND"
          ],
          [
           "тендер",
           "BRAND"
          ],
          [
           "феникс",
           "BRAND"
          ],
          [
           "парф",
           "BRAND"
          ],
          [
           "игр",
           "BRAND"
          ],
          [
           "тархун",
           "BRAND"
          ],
          [
           "путин",
           "BRAND"
          ],
          [
           "fruittella",
           "BRAND"
          ],
          [
           "технически",
           "BRAND"
          ],
          [
           "salton",
           "BRAND"
          ],
          [
           "berli",
           "BRAND"
          ],
          [
           "greenola",
           "BRAND"
          ],
          [
           "maccofee",
           "BRAND"
          ],
          [
           "желе",
           "BRAND"
          ],
          [
           "ростагроэкспор",
           "BRAND"
          ],
          [
           "biomio",
           "BRAND"
          ],
          [
           "союзмультфиль",
           "BRAND"
          ],
          [
           "эйца",
           "BRAND"
          ],
          [
           "балаковохл",
           "BRAND"
          ],
          [
           "магия",
           "BRAND"
          ],
          [
           "черного",
           "BRAND"
          ],
          [
           "окраи",
           "BRAND"
          ],
          [
           "вемо",
           "BRAND"
          ],
          [
           "джем",
           "BRAND"
          ],
          [
           "petr",
           "BRAND"
          ],
          [
           "maestro",
           "BRAND"
          ],
          [
           "domesto",
           "BRAND"
          ],
          [
           "б.ю.алексанрв",
           "BRAND"
          ],
          [
           "kozelki",
           "BRAND"
          ],
          [
           "доми",
           "BRAND"
          ],
          [
           "чуд",
           "BRAND"
          ],
          [
           "makfa",
           "BRAND"
          ],
          [
           "pomsticks",
           "BRAND"
          ],
          [
           "балтийский",
           "BRAND"
          ],
          [
           "bref",
           "BRAND"
          ],
          [
           "twiggi",
           "BRAND"
          ],
          [
           "kitejat",
           "BRAND"
          ],
          [
           "сте",
           "BRAND"
          ],
          [
           "midori",
           "BRAND"
          ],
          [
           "пр!",
           "BRAND"
          ],
          [
           "сызрань",
           "BRAND"
          ],
          [
           "kitikat",
           "BRAND"
          ],
          [
           "koopma",
           "BRAND"
          ],
          [
           "мойв",
           "BRAND"
          ],
          [
           "окраина",
           "BRAND"
          ],
          [
           "ростагроэкспо",
           "BRAND"
          ],
          [
           "асто",
           "BRAND"
          ],
          [
           "маковым",
           "BRAND"
          ],
          [
           "botanica",
           "BRAND"
          ],
          [
           "российский",
           "BRAND"
          ],
          [
           "very",
           "BRAND"
          ],
          [
           "красная",
           "BRAND"
          ],
          [
           "цена",
           "BRAND"
          ],
          [
           "айди",
           "BRAND"
          ],
          [
           "росинка",
           "BRAND"
          ],
          [
           "ахелит",
           "BRAND"
          ],
          [
           "версон",
           "BRAND"
          ],
          [
           "svasso",
           "BRAND"
          ],
          [
           "чтобы",
           "BRAND"
          ],
          [
           "а.ростагрокомплекс",
           "BRAND"
          ],
          [
           "bigb",
           "BRAND"
          ],
          [
           "атяшево",
           "BRAND"
          ],
          [
           "карельский",
           "BRAND"
          ],
          [
           "например",
           "BRAND"
          ],
          [
           "societe",
           "BRAND"
          ],
          [
           "minerale",
           "BRAND"
          ],
          [
           "espeesso",
           "BRAND"
          ],
          [
           "акконд",
           "BRAND"
          ],
          [
           "птица",
           "BRAND"
          ],
          [
           "марк",
           "BRAND"
          ],
          [
           "glob",
           "BRAND"
          ],
          [
           "garnir",
           "BRAND"
          ],
          [
           "феник",
           "BRAND"
          ],
          [
           "sonne",
           "BRAND"
          ],
          [
           "air",
           "BRAND"
          ],
          [
           "wike",
           "BRAND"
          ],
          [
           "sladk",
           "BRAND"
          ],
          [
           "старославянский",
           "BRAND"
          ],
          [
           "нескафе",
           "BRAND"
          ],
          [
           "в",
           "BRAND"
          ],
          [
           "tamaki",
           "BRAND"
          ],
          [
           "sanpellegrino",
           "BRAND"
          ],
          [
           "ми",
           "BRAND"
          ],
          [
           "тагилхле",
           "BRAND"
          ],
          [
           "рычаслу",
           "BRAND"
          ],
          [
           "сызра",
           "BRAND"
          ],
          [
           "прямого",
           "BRAND"
          ],
          [
           "vici",
           "BRAND"
          ],
          [
           "globa",
           "BRAND"
          ],
          [
           "vasileosrovskoe",
           "BRAND"
          ],
          [
           "hortex",
           "BRAND"
          ],
          [
           "merletto",
           "BRAND"
          ],
          [
           "агро-альянс",
           "BRAND"
          ],
          [
           "бользам",
           "BRAND"
          ],
          [
           "stay",
           "BRAND"
          ],
          [
           "криста",
           "BRAND"
          ],
          [
           "увелк",
           "BRAND"
          ],
          [
           "maxwell",
           "BRAND"
          ],
          [
           "clipstudio",
           "BRAND"
          ],
          [
           "альб",
           "BRAND"
          ],
          [
           "сытый",
           "BRAND"
          ],
          [
           "папа",
           "BRAND"
          ],
          [
           "papadimitriou",
           "BRAND"
          ],
          [
           "melissa",
           "BRAND"
          ],
          [
           "еще",
           "BRAND"
          ],
          [
           "джем",
           "BRAND"
          ],
          [
           "малышок",
           "BRAND"
          ],
          [
           "амперса",
           "BRAND"
          ],
          [
           "экс",
           "BRAND"
          ],
          [
           "cupa",
           "BRAND"
          ],
          [
           "фрутотнвня",
           "BRAND"
          ],
          [
           "беллини",
           "BRAND"
          ],
          [
           "em",
           "BRAND"
          ],
          [
           "дубайски",
           "BRAND"
          ],
          [
           "комацо",
           "BRAND"
          ],
          [
           "агромясопром",
           "BRAND"
          ],
          [
           "amo",
           "BRAND"
          ],
          [
           "краснобор",
           "BRAND"
          ],
          [
           "рита",
           "BRAND"
          ],
          [
           "спорт",
           "BRAND"
          ],
          [
           "добрый",
           "BRAND"
          ],
          [
           "апельсин",
           "BRAND"
          ],
          [
           "cookies",
           "BRAND"
          ],
          [
           "пека",
           "BRAND"
          ],
          [
           "байховый",
           "BRAND"
          ],
          [
           "noir",
           "BRAND"
          ],
          [
           "абрикосовое",
           "BRAND"
          ],
          [
           "абрау-дюр",
           "BRAND"
          ],
          [
           "chappie",
           "BRAND"
          ],
          [
           "фруто",
           "BRAND"
          ],
          [
           "няня",
           "BRAND"
          ],
          [
           "herli",
           "BRAND"
          ],
          [
           "славянка",
           "BRAND"
          ],
          [
           "fialco",
           "BRAND"
          ],
          [
           "uncn",
           "BRAND"
          ],
          [
           "chirton",
           "BRAND"
          ],
          [
           "agama",
           "BRAND"
          ],
          [
           "purederm",
           "BRAND"
          ],
          [
           "сейчас",
           "BRAND"
          ],
          [
           "impor",
           "BRAND"
          ],
          [
           "ostro",
           "BRAND"
          ],
          [
           "lakalute",
           "BRAND"
          ],
          [
           "maxibar",
           "BRAND"
          ],
          [
           "давлеканов",
           "BRAND"
          ],
          [
           "олим",
           "BRAND"
          ],
          [
           "santal",
           "BRAND"
          ],
          [
           "журавли",
           "BRAND"
          ],
          [
           "русский",
           "BRAND"
          ],
          [
           "хлеб",
           "BRAND"
          ],
          [
           "irit",
           "BRAND"
          ],
          [
           "агуша",
           "BRAND"
          ],
          [
           "аленка",
           "BRAND"
          ],
          [
           "sanifor",
           "BRAND"
          ],
          [
           "ilka",
           "BRAND"
          ],
          [
           "чери",
           "BRAND"
          ],
          [
           "эко",
           "BRAND"
          ],
          [
           "sweza",
           "BRAND"
          ],
          [
           "mon",
           "BRAND"
          ],
          [
           "scandics",
           "BRAND"
          ],
          [
           "бабушкино",
           "BRAND"
          ],
          [
           "лу",
           "BRAND"
          ],
          [
           "cnorr",
           "BRAND"
          ],
          [
           "gillet",
           "BRAND"
          ],
          [
           "севок",
           "BRAND"
          ],
          [
           "хор",
           "BRAND"
          ],
          [
           "sonnent",
           "BRAND"
          ],
          [
           "зенит",
           "BRAND"
          ],
          [
           "coco",
           "BRAND"
          ],
          [
           "neff",
           "BRAND"
          ],
          [
           "chooco",
           "BRAND"
          ],
          [
           "arko",
           "BRAND"
          ],
          [
           "nestle",
           "BRAND"
          ],
          [
           "бел",
           "BRAND"
          ],
          [
           "fisher-price",
           "BRAND"
          ],
          [
           "холодуш",
           "BRAND"
          ],
          [
           "хо",
           "BRAND"
          ],
          [
           "астори",
           "BRAND"
          ],
          [
           "marta",
           "BRAND"
          ],
          [
           "belvito",
           "BRAND"
          ],
          [
           "tefa",
           "BRAND"
          ],
          [
           "хо",
           "BRAND"
          ],
          [
           "colcola",
           "BRAND"
          ],
          [
           "аст",
           "BRAND"
          ],
          [
           "econiva",
           "BRAND"
          ],
          [
           "sonnen",
           "BRAND"
          ],
          [
           "dr.aktiv",
           "BRAND"
          ],
          [
           "ремит",
           "BRAND"
          ],
          [
           "gorill",
           "BRAND"
          ],
          [
           "boyscout",
           "BRAND"
          ],
          [
           "milkiv",
           "BRAND"
          ],
          [
           "массандра",
           "BRAND"
          ],
          [
           "черн.",
           "BRAND"
          ],
          [
           "активиа",
           "BRAND"
          ],
          [
           "бона",
           "BRAND"
          ],
          [
           "cherkizov",
           "BRAND"
          ],
          [
           "ро",
           "BRAND"
          ],
          [
           "comazo",
           "BRAND"
          ],
          [
           "имунелли",
           "BRAND"
          ],
          [
           "ar",
           "BRAND"
          ],
          [
           "архиме",
           "BRAND"
          ],
          [
           "пензенский",
           "BRAND"
          ],
          [
           "агуша",
           "BRAND"
          ],
          [
           "нестожен",
           "BRAND"
          ],
          [
           "confeestory",
           "BRAND"
          ],
          [
           "милко",
           "BRAND"
          ],
          [
           "premia",
           "BRAND"
          ],
          [
           "дома",
           "BRAND"
          ],
          [
           "gardenvision",
           "BRAND"
          ],
          [
           "звездочка",
           "BRAND"
          ],
          [
           "маркет",
           "BRAND"
          ],
          [
           "belavita",
           "BRAND"
          ],
          [
           "mallony",
           "BRAND"
          ],
          [
           "волжан",
           "BRAND"
          ],
          [
           "каравай",
           "BRAND"
          ],
          [
           "еще",
           "BRAND"
          ],
          [
           "декоративная",
           "BRAND"
          ],
          [
           "косметика",
           "BRAND"
          ],
          [
           "амперсанд",
           "BRAND"
          ],
          [
           "миф",
           "BRAND"
          ],
          [
           "касс",
           "BRAND"
          ],
          [
           "курскхлеб",
           "BRAND"
          ],
          [
           "jazzway",
           "BRAND"
          ],
          [
           "мериди",
           "BRAND"
          ],
          [
           "kotanyi",
           "BRAND"
          ],
          [
           "лакомка",
           "BRAND"
          ],
          [
           "атру",
           "BRAND"
          ],
          [
           "artfru",
           "BRAND"
          ],
          [
           "viola",
           "BRAND"
          ],
          [
           "toni",
           "BRAND"
          ],
          [
           "экохлеб",
           "BRAND"
          ],
          [
           "вкус",
           "BRAND"
          ],
          [
           "детства",
           "BRAND"
          ],
          [
           "производство",
           "BRAND"
          ],
          [
           "expo",
           "BRAND"
          ],
          [
           "взбиванмя",
           "BRAND"
          ],
          [
           "ukler",
           "BRAND"
          ],
          [
           "saltle",
           "BRAND"
          ],
          [
           "nemirof",
           "BRAND"
          ],
          [
           "aquaftesh",
           "BRAND"
          ],
          [
           "mouline",
           "BRAND"
          ],
          [
           "nuttilak",
           "BRAND"
          ],
          [
           "hipp",
           "BRAND"
          ],
          [
           "дядя",
           "BRAND"
          ],
          [
           "brabantia",
           "BRAND"
          ],
          [
           "фруто",
           "BRAND"
          ],
          [
           "няня",
           "BRAND"
          ],
          [
           "сызран",
           "BRAND"
          ],
          [
           "bosch",
           "BRAND"
          ],
          [
           "tef",
           "BRAND"
          ],
          [
           "gol",
           "BRAND"
          ],
          [
           "ратим",
           "BRAND"
          ],
          [
           "коло",
           "BRAND"
          ],
          [
           "центрум",
           "BRAND"
          ],
          [
           "vicenzi",
           "BRAND"
          ],
          [
           "bolsius",
           "BRAND"
          ],
          [
           "перекрест",
           "BRAND"
          ],
          [
           "машло",
           "BRAND"
          ],
          [
           "jacobs",
           "BRAND"
          ],
          [
           "мэт",
           "BRAND"
          ],
          [
           "гурман",
           "BRAND"
          ],
          [
           "белли",
           "BRAND"
          ],
          [
           "стевиа",
           "BRAND"
          ],
          [
           "нпро",
           "BRAND"
          ],
          [
           "rokler",
           "BRAND"
          ],
          [
           "восход",
           "BRAND"
          ],
          [
           "carsar",
           "BRAND"
          ],
          [
           "рба(кроме",
           "BRAND"
          ],
          [
           "биифдок",
           "BRAND"
          ],
          [
           "ум",
           "BRAND"
          ],
          [
           "absolu",
           "BRAND"
          ],
          [
           "гуруша",
           "BRAND"
          ],
          [
           "royal",
           "BRAND"
          ],
          [
           "рестория",
           "BRAND"
          ],
          [
           "универсальная",
           "BRAND"
          ],
          [
           "пр!ст",
           "BRAND"
          ],
          [
           "агуш",
           "BRAND"
          ],
          [
           "манго",
           "BRAND"
          ],
          [
           "absol",
           "BRAND"
          ],
          [
           "сит",
           "BRAND"
          ],
          [
           "gerb",
           "BRAND"
          ],
          [
           "grazia",
           "BRAND"
          ],
          [
           "cykoria",
           "BRAND"
          ],
          [
           "носк",
           "BRAND"
          ],
          [
           "marabu",
           "BRAND"
          ],
          [
           "рибай",
           "BRAND"
          ],
          [
           "huggi",
           "BRAND"
          ],
          [
           "марке",
           "BRAND"
          ],
          [
           "whiskad",
           "BRAND"
          ],
          [
           "centrum",
           "BRAND"
          ],
          [
           "fresco",
           "BRAND"
          ],
          [
           "реди",
           "BRAND"
          ],
          [
           "маркет",
           "BRAND"
          ],
          [
           "ковшик",
           "BRAND"
          ],
          [
           "увелк",
           "BRAND"
          ],
          [
           "laima",
           "BRAND"
          ],
          [
           "фистошки",
           "BRAND"
          ],
          [
           "eld",
           "BRAND"
          ],
          [
           "пр!ст",
           "BRAND"
          ],
          [
           "essa",
           "BRAND"
          ],
          [
           "blueber",
           "BRAND"
          ],
          [
           "большемясов",
           "BRAND"
          ],
          [
           "с.пудо",
           "BRAND"
          ],
          [
           "cityk",
           "BRAND"
          ],
          [
           "тенде",
           "BRAND"
          ],
          [
           "сгиариллы",
           "BRAND"
          ],
          [
           "merries",
           "BRAND"
          ],
          [
           "rost",
           "BRAND"
          ],
          [
           "mul",
           "BRAND"
          ],
          [
           "н",
           "BRAND"
          ],
          [
           "мой",
           "BRAND"
          ],
          [
           "picknik",
           "BRAND"
          ],
          [
           "тысяча",
           "BRAND"
          ],
          [
           "озер",
           "BRAND"
          ],
          [
           "легкий",
           "BRAND"
          ],
          [
           "maest",
           "BRAND"
          ],
          [
           "spicexper",
           "BRAND"
          ],
          [
           "парк",
           "BRAND"
          ],
          [
           "чтобы",
           "BRAND"
          ],
          [
           "царь",
           "BRAND"
          ],
          [
           "снежская",
           "BRAND"
          ],
          [
           "boyari",
           "BRAND"
          ],
          [
           "эл",
           "BRAND"
          ],
          [
           "архимед",
           "BRAND"
          ],
          [
           "seasons",
           "BRAND"
          ],
          [
           "джем",
           "BRAND"
          ],
          [
           "фрутоняня",
           "BRAND"
          ],
          [
           "tess",
           "BRAND"
          ],
          [
           "biomio",
           "BRAND"
          ],
          [
           "baical",
           "BRAND"
          ],
          [
           "trilobit",
           "BRAND"
          ],
          [
           "три",
           "BRAND"
          ],
          [
           "коровы",
           "BRAND"
          ],
          [
           "два",
           "BRAND"
          ],
          [
           "кота",
           "BRAND"
          ],
          [
           "mild",
           "BRAND"
          ],
          [
           "fresco",
           "BRAND"
          ],
          [
           "удмуртрыб",
           "BRAND"
          ],
          [
           "лаком",
           "BRAND"
          ],
          [
           "nadi",
           "BRAND"
          ],
          [
           "окраина",
           "BRAND"
          ],
          [
           "писка",
           "BRAND"
          ],
          [
           "атр",
           "BRAND"
          ],
          [
           "слово",
           "BRAND"
          ],
          [
           "мясника",
           "BRAND"
          ],
          [
           "grand",
           "BRAND"
          ],
          [
           "tami",
           "BRAND"
          ],
          [
           "vilor",
           "BRAND"
          ],
          [
           "абрау-дюрс",
           "BRAND"
          ],
          [
           "frutti",
           "BRAND"
          ],
          [
           "gal",
           "BRAND"
          ],
          [
           "trio",
           "BRAND"
          ],
          [
           "пр!ст",
           "BRAND"
          ],
          [
           "pioneer",
           "BRAND"
          ],
          [
           "conf",
           "BRAND"
          ],
          [
           "phili",
           "BRAND"
          ],
          [
           "kind",
           "BRAND"
          ],
          [
           "symphon",
           "BRAND"
          ],
          [
           "нф",
           "BRAND"
          ],
          [
           "bratz",
           "BRAND"
          ],
          [
           "пятерочка",
           "BRAND"
          ],
          [
           "artfruit",
           "BRAND"
          ],
          [
           "производство",
           "BRAND"
          ],
          [
           "glade",
           "BRAND"
          ],
          [
           "брест",
           "BRAND"
          ],
          [
           "gabriel",
           "BRAND"
          ],
          [
           "relance",
           "BRAND"
          ],
          [
           "ti",
           "BRAND"
          ],
          [
           "synergeti",
           "BRAND"
          ],
          [
           "сихарики",
           "BRAND"
          ],
          [
           "рр",
           "BRAND"
          ],
          [
           "беллин",
           "BRAND"
          ],
          [
           "производств",
           "BRAND"
          ],
          [
           "плетенка",
           "BRAND"
          ],
          [
           "zanussi",
           "BRAND"
          ],
          [
           "дружба",
           "BRAND"
          ],
          [
           "sunergeti",
           "BRAND"
          ],
          [
           "almetta",
           "BRAND"
          ],
          [
           "наша",
           "BRAND"
          ],
          [
           "маша",
           "BRAND"
          ],
          [
           "frutt",
           "BRAND"
          ],
          [
           "зола",
           "BRAND"
          ],
          [
           "gudmix",
           "BRAND"
          ],
          [
           "производств",
           "BRAND"
          ],
          [
           "liberha",
           "BRAND"
          ],
          [
           "nistogen",
           "BRAND"
          ],
          [
           "элемент",
           "BRAND"
          ],
          [
           "сливки",
           "BRAND"
          ],
          [
           "lacalut",
           "BRAND"
          ],
          [
           "нф",
           "BRAND"
          ],
          [
           "celesta",
           "BRAND"
          ],
          [
           "и",
           "BRAND"
          ],
          [
           "лим",
           "BRAND"
          ],
          [
           "пекарь",
           "BRAND"
          ],
          [
           "альм",
           "BRAND"
          ],
          [
           "garling",
           "BRAND"
          ],
          [
           "маковый",
           "BRAND"
          ],
          [
           "silva",
           "BRAND"
          ],
          [
           "бабочк",
           "BRAND"
          ],
          [
           "рафаэлло",
           "BRAND"
          ],
          [
           "premial",
           "BRAND"
          ],
          [
           "российск",
           "BRAND"
          ],
          [
           "бел",
           "BRAND"
          ],
          [
           "хвостеры",
           "BRAND"
          ],
          [
           "славянский",
           "BRAND"
          ],
          [
           "агуш",
           "BRAND"
          ],
          [
           "curti",
           "BRAND"
          ],
          [
           "зоо",
           "BRAND"
          ],
          [
           "мисо",
           "BRAND"
          ],
          [
           "перекресто",
           "BRAND"
          ],
          [
           "lind",
           "BRAND"
          ],
          [
           "lieberdorf",
           "BRAND"
          ],
          [
           "слобода",
           "BRAND"
          ],
          [
           "эстонский",
           "BRAND"
          ],
          [
           "driv",
           "BRAND"
          ],
          [
           "marc&фиса",
           "BRAND"
          ],
          [
           "домик",
           "BRAND"
          ],
          [
           "в",
           "BRAND"
          ],
          [
           "деревн",
           "BRAND"
          ],
          [
           "fres",
           "BRAND"
          ],
          [
           "красная",
           "BRAND"
          ],
          [
           "цена",
           "BRAND"
          ],
          [
           "sca",
           "BRAND"
          ],
          [
           "нумик",
           "BRAND"
          ],
          [
           "романти",
           "BRAND"
          ],
          [
           "лазовское",
           "BRAND"
          ],
          [
           "sobran",
           "BRAND"
          ],
          [
           "дзержинскхлеб",
           "BRAND"
          ],
          [
           "н",
           "BRAND"
          ],
          [
           "рам",
           "BRAND"
          ],
          [
           "pacl",
           "BRAND"
          ],
          [
           "maxfan",
           "BRAND"
          ],
          [
           "abtoys",
           "BRAND"
          ],
          [
           "бон",
           "BRAND"
          ],
          [
           "пари",
           "BRAND"
          ],
          [
           "twisters",
           "BRAND"
          ],
          [
           "океан",
           "BRAND"
          ],
          [
           "ahmad",
           "BRAND"
          ],
          [
           "tea",
           "BRAND"
          ],
          [
           "mirel",
           "BRAND"
          ],
          [
           "tolly",
           "BRAND"
          ],
          [
           "окраина",
           "BRAND"
          ],
          [
           "phanto",
           "BRAND"
          ],
          [
           "афанасий",
           "BRAND"
          ],
          [
           "greenfield",
           "BRAND"
          ],
          [
           "парфэ",
           "BRAND"
          ],
          [
           "джульвит",
           "BRAND"
          ],
          [
           "schwarta",
           "BRAND"
          ],
          [
           "lo",
           "BRAND"
          ],
          [
           "россия",
           "BRAND"
          ],
          [
           "sortex",
           "BRAND"
          ],
          [
           "pupa",
           "BRAND"
          ],
          [
           "всесл",
           "BRAND"
          ],
          [
           "jard",
           "BRAND"
          ],
          [
           "с.пудовъ",
           "BRAND"
          ],
          [
           "парфэ",
           "BRAND"
          ],
          [
           "сам",
           "BRAND"
          ],
          [
           "artfruit",
           "BRAND"
          ],
          [
           "бк",
           "BRAND"
          ],
          [
           "атрус",
           "BRAND"
          ],
          [
           "я",
           "BRAND"
          ],
          [
           "люблю",
           "BRAND"
          ],
          [
           "готовить",
           "BRAND"
          ],
          [
           "econt",
           "BRAND"
          ],
          [
           "oreo",
           "BRAND"
          ],
          [
           "нф",
           "BRAND"
          ],
          [
           "милков",
           "BRAND"
          ],
          [
           "econta",
           "BRAND"
          ],
          [
           "маандарины",
           "BRAND"
          ],
          [
           "дарида",
           "BRAND"
          ],
          [
           "каберне",
           "BRAND"
          ],
          [
           "бело",
           "BRAND"
          ],
          [
           "фанагория",
           "BRAND"
          ],
          [
           "рестория",
           "BRAND"
          ],
          [
           "чистюля",
           "BRAND"
          ],
          [
           "ростагроэкспорт",
           "BRAND"
          ],
          [
           "корнерс",
           "BRAND"
          ],
          [
           "массандра",
           "BRAND"
          ],
          [
           "royal",
           "BRAND"
          ],
          [
           "редмон",
           "BRAND"
          ],
          [
           "перекресток",
           "BRAND"
          ],
          [
           "nemiroff",
           "BRAND"
          ],
          [
           "домик",
           "BRAND"
          ],
          [
           "в",
           "BRAND"
          ],
          [
           "дер",
           "BRAND"
          ],
          [
           "короткопло",
           "BRAND"
          ],
          [
           "метатр",
           "BRAND"
          ],
          [
           "фруто",
           "BRAND"
          ],
          [
           "няня",
           "BRAND"
          ],
          [
           "julius",
           "BRAND"
          ],
          [
           "topperr",
           "BRAND"
          ],
          [
           "vivi",
           "BRAND"
          ],
          [
           "владимирский",
           "BRAND"
          ],
          [
           "стандарт",
           "BRAND"
          ],
          [
           "pant",
           "BRAND"
          ],
          [
           "scoch-brit",
           "BRAND"
          ],
          [
           "winsto",
           "BRAND"
          ],
          [
           "celest",
           "BRAND"
          ],
          [
           "astoria",
           "BRAND"
          ],
          [
           "nordik",
           "BRAND"
          ],
          [
           "eco",
           "BRAND"
          ],
          [
           "larse",
           "BRAND"
          ],
          [
           "bergner",
           "BRAND"
          ],
          [
           "papadimitrio",
           "BRAND"
          ],
          [
           "чаппи",
           "BRAND"
          ],
          [
           "viled",
           "BRAND"
          ],
          [
           "coca",
           "BRAND"
          ],
          [
           "cola",
           "BRAND"
          ],
          [
           "zero",
           "BRAND"
          ],
          [
           "cherkizovo",
           "BRAND"
          ],
          [
           "vici",
           "BRAND"
          ],
          [
           "jagguar",
           "BRAND"
          ],
          [
           "каберн",
           "BRAND"
          ],
          [
           "choco",
           "BRAND"
          ],
          [
           "pie",
           "BRAND"
          ],
          [
           "nuttys",
           "BRAND"
          ],
          [
           "астория",
           "BRAND"
          ],
          [
           "cherkizovo",
           "BRAND"
          ],
          [
           "домик",
           "BRAND"
          ],
          [
           "вемол",
           "BRAND"
          ],
          [
           "дымов",
           "BRAND"
          ],
          [
           "берн",
           "BRAND"
          ],
          [
           "красно",
           "BRAND"
          ],
          [
           "кондитерский",
           "BRAND"
          ],
          [
           "тис",
           "BRAND"
          ],
          [
           "коробка",
           "BRAND"
          ],
          [
           "blombar",
           "BRAND"
          ],
          [
           "domesti",
           "BRAND"
          ],
          [
           "производств",
           "BRAND"
          ],
          [
           "союзмультфильм",
           "BRAND"
          ],
          [
           "il",
           "BRAND"
          ],
          [
           "primo",
           "BRAND"
          ],
          [
           "санекс",
           "BRAND"
          ],
          [
           "аак",
           "BRAND"
          ],
          [
           "сдобушка",
           "BRAND"
          ],
          [
           "красавчи",
           "BRAND"
          ],
          [
           "растиш",
           "BRAND"
          ],
          [
           "essen",
           "BRAND"
          ],
          [
           "реж-хл",
           "BRAND"
          ],
          [
           "сады",
           "BRAND"
          ],
          [
           "придонья",
           "BRAND"
          ],
          [
           "мульти",
           "BRAND"
          ],
          [
           "homepet",
           "BRAND"
          ],
          [
           "liberhaus",
           "BRAND"
          ],
          [
           "махао",
           "BRAND"
          ],
          [
           "коровенка",
           "BRAND"
          ],
          [
           "ol",
           "BRAND"
          ],
          [
           "нуте",
           "BRAND"
          ],
          [
           "моло",
           "BRAND"
          ],
          [
           "gezer",
           "BRAND"
          ],
          [
           "botanica",
           "BRAND"
          ],
          [
           "dent",
           "BRAND"
          ],
          [
           "нежный",
           "BRAND"
          ],
          [
           "возраст",
           "BRAND"
          ],
          [
           "cerve",
           "BRAND"
          ],
          [
           "петрохлеб",
           "BRAND"
          ],
          [
           "carat",
           "BRAND"
          ],
          [
           "afanas",
           "BRAND"
          ],
          [
           "pronto",
           "BRAND"
          ],
          [
           "pr.choi",
           "BRAND"
          ],
          [
           "iska",
           "BRAND"
          ],
          [
           "th",
           "BRAND"
          ],
          [
           "сладояр",
           "BRAND"
          ],
          [
           "производство",
           "BRAND"
          ],
          [
           "cherk",
           "BRAND"
          ],
          [
           "черноголовкк",
           "BRAND"
          ],
          [
           "lorenz",
           "BRAND"
          ],
          [
           "insolit",
           "BRAND"
          ],
          [
           "limpopo",
           "BRAND"
          ],
          [
           "grazi",
           "BRAND"
          ],
          [
           "ски",
           "BRAND"
          ],
          [
           "belevita",
           "BRAND"
          ],
          [
           "ферреро",
           "BRAND"
          ],
          [
           "н",
           "BRAND"
          ],
          [
           "пекарь",
           "BRAND"
          ],
          [
           "ambassado",
           "BRAND"
          ],
          [
           "itl",
           "BRAND"
          ],
          [
           "faiy",
           "BRAND"
          ],
          [
           "twix",
           "BRAND"
          ],
          [
           "тендер",
           "BRAND"
          ],
          [
           "мартин",
           "BRAND"
          ],
          [
           "с",
           "BRAND"
          ],
          [
           "солью",
           "BRAND"
          ],
          [
           "нудинг",
           "BRAND"
          ],
          [
           "evervesse",
           "BRAND"
          ],
          [
           "vaffix",
           "BRAND"
          ],
          [
           "бело",
           "BRAND"
          ],
          [
           "zeptolab",
           "BRAND"
          ],
          [
           "помада",
           "BRAND"
          ],
          [
           "clipstudio",
           "BRAND"
          ],
          [
           "золотой",
           "BRAND"
          ],
          [
           "петушок",
           "BRAND"
          ],
          [
           "biff",
           "BRAND"
          ],
          [
           "стекле",
           "BRAND"
          ],
          [
           "стэлмас",
           "BRAND"
          ],
          [
           "мо",
           "BRAND"
          ],
          [
           "с.пудовъ",
           "BRAND"
          ],
          [
           "kamis",
           "BRAND"
          ],
          [
           "bref",
           "BRAND"
          ],
          [
           "астория",
           "BRAND"
          ],
          [
           "nouvelle",
           "BRAND"
          ],
          [
           "красавчи",
           "BRAND"
          ],
          [
           "дюшес",
           "BRAND"
          ],
          [
           "grange",
           "BRAND"
          ],
          [
           "атрус",
           "BRAND"
          ],
          [
           "студн",
           "BRAND"
          ],
          [
           "пингв",
           "BRAND"
          ],
          [
           "нф",
           "BRAND"
          ],
          [
           "vites",
           "BRAND"
          ],
          [
           "вискас",
           "BRAND"
          ],
          [
           "unic",
           "BRAND"
          ],
          [
           "недалеко",
           "BRAND"
          ],
          [
           "lnd",
           "BRAND"
          ],
          [
           "supra",
           "BRAND"
          ],
          [
           "ф",
           "BRAND"
          ],
          [
           "artfruit",
           "BRAND"
          ],
          [
           "j7",
           "BRAND"
          ],
          [
           "umka",
           "BRAND"
          ],
          [
           "zebratoys",
           "BRAND"
          ],
          [
           "альпен",
           "BRAND"
          ],
          [
           "голд",
           "BRAND"
          ],
          [
           "essa",
           "BRAND"
          ],
          [
           "artfruit",
           "BRAND"
          ],
          [
           "taft",
           "BRAND"
          ],
          [
           "titbit",
           "BRAND"
          ],
          [
           "absol",
           "BRAND"
          ],
          [
           "dalan",
           "BRAND"
          ],
          [
           "линда",
           "BRAND"
          ],
          [
           "van",
           "BRAND"
          ],
          [
           "kot",
           "BRAND"
          ],
          [
           "ключ",
           "BRAND"
          ],
          [
           "сбор",
           "BRAND"
          ],
          [
           "стм",
           "BRAND"
          ],
          [
           "тендер",
           "BRAND"
          ],
          [
           "orodo",
           "BRAND"
          ],
          [
           "dr.bakers",
           "BRAND"
          ],
          [
           "vitesse",
           "BRAND"
          ],
          [
           "babygo",
           "BRAND"
          ],
          [
           "производство",
           "BRAND"
          ],
          [
           "cherry",
           "BRAND"
          ],
          [
           "dr.oetker",
           "BRAND"
          ],
          [
           "вятский",
           "BRAND"
          ],
          [
           "mar",
           "BRAND"
          ],
          [
           "дю",
           "BRAND"
          ],
          [
           "вильямс",
           "BRAND"
          ],
          [
           "papstar",
           "BRAND"
          ],
          [
           "hoghland",
           "BRAND"
          ],
          [
           "унисо",
           "BRAND"
          ],
          [
           "русский",
           "BRAND"
          ],
          [
           "холод",
           "BRAND"
          ],
          [
           "конфитре",
           "BRAND"
          ],
          [
           "greenol",
           "BRAND"
          ],
          [
           "maderno",
           "BRAND"
          ],
          [
           "парм",
           "BRAND"
          ],
          [
           "podravka",
           "BRAND"
          ],
          [
           "emborg",
           "BRAND"
          ],
          [
           "белоручка",
           "BRAND"
          ],
          [
           "тенд",
           "BRAND"
          ],
          [
           "herbin",
           "BRAND"
          ],
          [
           "темная",
           "BRAND"
          ],
          [
           "дары",
           "BRAND"
          ],
          [
           "кубани",
           "BRAND"
          ],
          [
           "global",
           "BRAND"
          ],
          [
           "баунт",
           "BRAND"
          ],
          [
           "martadel",
           "BRAND"
          ],
          [
           "актим",
           "BRAND"
          ],
          [
           "ясно",
           "BRAND"
          ],
          [
           "солнышко",
           "BRAND"
          ],
          [
           "seaso",
           "BRAND"
          ],
          [
           "обыкновенное",
           "BRAND"
          ],
          [
           "чудо",
           "BRAND"
          ],
          [
           "нутрил",
           "BRAND"
          ],
          [
           "беллини",
           "BRAND"
          ],
          [
           "зерни",
           "BRAND"
          ],
          [
           "herbaru",
           "BRAND"
          ],
          [
           "active",
           "BRAND"
          ]
         ],
         "hovertemplate": "<b>entity_text:</b> %{customdata[0]}<br><b>entity_label:</b> %{customdata[1]}",
         "marker": {
          "color": "rgb(127, 60, 141)",
          "opacity": 1,
          "size": 8
         },
         "mode": "markers",
         "name": "BRAND",
         "type": "scatter",
         "x": {
          "bdata": "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",
          "dtype": "f4"
         },
         "y": {
          "bdata": "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",
          "dtype": "f4"
         }
        },
        {
         "customdata": [
          [
           "жирные",
           "PERCENT"
          ],
          [
           "20",
           "PERCENT"
          ],
          [
           "молоко",
           "PERCENT"
          ]
         ],
         "hovertemplate": "<b>entity_text:</b> %{customdata[0]}<br><b>entity_label:</b> %{customdata[1]}",
         "marker": {
          "color": "rgb(17, 165, 121)",
          "opacity": 1,
          "size": 8
         },
         "mode": "markers",
         "name": "PERCENT",
         "type": "scatter",
         "x": {
          "bdata": "ehcoQX/VGkF3Fw5B",
          "dtype": "f4"
         },
         "y": {
          "bdata": "u7k+QriqR0LQhbnA",
          "dtype": "f4"
         }
        },
        {
         "customdata": [
          [
           "лсвежитель",
           "TYPE"
          ],
          [
           "варенец",
           "TYPE"
          ],
          [
           "кабачковая",
           "TYPE"
          ],
          [
           "икра",
           "TYPE"
          ],
          [
           "фитики",
           "TYPE"
          ],
          [
           "ресень",
           "TYPE"
          ],
          [
           "салато",
           "TYPE"
          ],
          [
           "виноград",
           "TYPE"
          ],
          [
           "ваиные",
           "TYPE"
          ],
          [
           "йогурт",
           "TYPE"
          ],
          [
           "много",
           "TYPE"
          ],
          [
           "манго",
           "TYPE"
          ],
          [
           "печенье",
           "TYPE"
          ],
          [
           "с",
           "TYPE"
          ],
          [
           "цукатами",
           "TYPE"
          ],
          [
           "слоцка",
           "TYPE"
          ],
          [
           "ядра",
           "TYPE"
          ],
          [
           "подсолнечника",
           "TYPE"
          ],
          [
           "жидкос",
           "TYPE"
          ],
          [
           "грейпфруты",
           "TYPE"
          ],
          [
           "ийонурт",
           "TYPE"
          ],
          [
           "со",
           "TYPE"
          ],
          [
           "злаками",
           "TYPE"
          ],
          [
           "чипсы",
           "TYPE"
          ],
          [
           "одеяла",
           "TYPE"
          ],
          [
           "лечо",
           "TYPE"
          ],
          [
           "багет.",
           "TYPE"
          ],
          [
           "хлопья",
           "TYPE"
          ],
          [
           "кукурузные",
           "TYPE"
          ],
          [
           "пудра",
           "TYPE"
          ],
          [
           "сахарная",
           "TYPE"
          ],
          [
           "грушевы",
           "TYPE"
          ],
          [
           "люстры,",
           "TYPE"
          ],
          [
           "светильники",
           "TYPE"
          ],
          [
           "сырок",
           "TYPE"
          ],
          [
           "суфле",
           "TYPE"
          ],
          [
           "вода",
           "TYPE"
          ],
          [
           "питьевая",
           "TYPE"
          ],
          [
           "нег",
           "TYPE"
          ],
          [
           "булгур",
           "TYPE"
          ],
          [
           "по",
           "TYPE"
          ],
          [
           "консев",
           "TYPE"
          ],
          [
           "пирожные",
           "TYPE"
          ],
          [
           "приправа",
           "TYPE"
          ],
          [
           "к",
           "TYPE"
          ],
          [
           "мя",
           "TYPE"
          ],
          [
           "рощмарин",
           "TYPE"
          ],
          [
           "газе",
           "TYPE"
          ],
          [
           "хлеб",
           "TYPE"
          ],
          [
           "голубмка",
           "TYPE"
          ],
          [
           "тонометры,темрометры",
           "TYPE"
          ],
          [
           "гвоздикв",
           "TYPE"
          ],
          [
           "йошурт",
           "TYPE"
          ],
          [
           "напиток",
           "TYPE"
          ],
          [
           "газированный",
           "TYPE"
          ],
          [
           "со",
           "TYPE"
          ],
          [
           "вкусом",
           "TYPE"
          ],
          [
           "коилеты",
           "TYPE"
          ],
          [
           "энергеттик",
           "TYPE"
          ],
          [
           "картофле",
           "TYPE"
          ],
          [
           "коуассаны",
           "TYPE"
          ],
          [
           "энергерик",
           "TYPE"
          ],
          [
           "саженцы",
           "TYPE"
          ],
          [
           "детское",
           "TYPE"
          ],
          [
           "молоко",
           "TYPE"
          ],
          [
           "сахар",
           "TYPE"
          ],
          [
           "ваниль",
           "TYPE"
          ],
          [
           "майонез",
           "TYPE"
          ],
          [
           "карп",
           "TYPE"
          ],
          [
           "мороженное",
           "TYPE"
          ],
          [
           "с",
           "TYPE"
          ],
          [
           "ор",
           "TYPE"
          ],
          [
           "яблочный",
           "TYPE"
          ],
          [
           "уксус",
           "TYPE"
          ],
          [
           "ребра",
           "TYPE"
          ],
          [
           "свинные",
           "TYPE"
          ],
          [
           "зелень",
           "TYPE"
          ],
          [
           "асорти",
           "TYPE"
          ],
          [
           "разрыхлытель",
           "TYPE"
          ],
          [
           "вторые",
           "TYPE"
          ],
          [
           "блюда",
           "TYPE"
          ],
          [
           "малн",
           "TYPE"
          ],
          [
           "сливи",
           "TYPE"
          ],
          [
           "нивея",
           "TYPE"
          ],
          [
           "гранд",
           "TYPE"
          ],
          [
           "зефира",
           "TYPE"
          ],
          [
           "семече",
           "TYPE"
          ],
          [
           "поенка",
           "TYPE"
          ],
          [
           "рцы",
           "TYPE"
          ],
          [
           "фейр",
           "TYPE"
          ],
          [
           "калачик",
           "TYPE"
          ],
          [
           "петелинка",
           "TYPE"
          ],
          [
           "морковь",
           "TYPE"
          ],
          [
           "натуров",
           "TYPE"
          ],
          [
           "орехи",
           "TYPE"
          ],
          [
           "лукойл",
           "TYPE"
          ],
          [
           "сок",
           "TYPE"
          ],
          [
           "свливки",
           "TYPE"
          ],
          [
           "рис",
           "TYPE"
          ],
          [
           "карп",
           "TYPE"
          ],
          [
           "сырникр",
           "TYPE"
          ],
          [
           "солфктки",
           "TYPE"
          ],
          [
           "батони",
           "TYPE"
          ],
          [
           "гтиошек",
           "TYPE"
          ],
          [
           "корм",
           "TYPE"
          ],
          [
           "паучи",
           "TYPE"
          ],
          [
           "для",
           "TYPE"
          ],
          [
           "собак",
           "TYPE"
          ],
          [
           "яйы",
           "TYPE"
          ],
          [
           "сыр",
           "TYPE"
          ],
          [
           "рассольный",
           "TYPE"
          ],
          [
           "лечо",
           "TYPE"
          ],
          [
           "средства",
           "TYPE"
          ],
          [
           "доя",
           "TYPE"
          ],
          [
           "унитаза",
           "TYPE"
          ],
          [
           "приправа",
           "TYPE"
          ],
          [
           "для",
           "TYPE"
          ],
          [
           "мас",
           "TYPE"
          ],
          [
           "патока",
           "TYPE"
          ],
          [
           "крахмальная",
           "TYPE"
          ],
          [
           "жачка",
           "TYPE"
          ],
          [
           "грибно",
           "TYPE"
          ],
          [
           "бритвы,",
           "TYPE"
          ],
          [
           "йикорий",
           "TYPE"
          ],
          [
           "арахисы",
           "TYPE"
          ],
          [
           "перчатки",
           "TYPE"
          ],
          [
           "ксточки",
           "TYPE"
          ],
          [
           "замороженные",
           "TYPE"
          ],
          [
           "фрукты",
           "TYPE"
          ],
          [
           "ножей",
           "TYPE"
          ],
          [
           "кухонн",
           "TYPE"
          ],
          [
           "халваю",
           "TYPE"
          ],
          [
           "аннанасы",
           "TYPE"
          ],
          [
           "голландские",
           "TYPE"
          ],
          [
           "краюшки",
           "TYPE"
          ],
          [
           "конструктором",
           "TYPE"
          ],
          [
           "томатная",
           "TYPE"
          ],
          [
           "шоколадв",
           "TYPE"
          ],
          [
           "супер",
           "TYPE"
          ],
          [
           "контик",
           "TYPE"
          ],
          [
           "сырок",
           "TYPE"
          ],
          [
           "средство",
           "TYPE"
          ],
          [
           "для",
           "TYPE"
          ],
          [
           "рола",
           "TYPE"
          ],
          [
           "колбаса",
           "TYPE"
          ],
          [
           "полукопченая",
           "TYPE"
          ],
          [
           "зефи",
           "TYPE"
          ],
          [
           "крабовые",
           "TYPE"
          ],
          [
           "палки",
           "TYPE"
          ],
          [
           "овощи",
           "TYPE"
          ],
          [
           "смесь",
           "TYPE"
          ],
          [
           "булочкиг",
           "TYPE"
          ],
          [
           "пельмини",
           "TYPE"
          ],
          [
           "кола",
           "TYPE"
          ],
          [
           "без",
           "TYPE"
          ],
          [
           "спхара",
           "TYPE"
          ],
          [
           "сэльди",
           "TYPE"
          ],
          [
           "слабосоленое",
           "TYPE"
          ],
          [
           "табл",
           "TYPE"
          ],
          [
           "майонез",
           "TYPE"
          ],
          [
           "ча",
           "TYPE"
          ],
          [
           "пирожк",
           "TYPE"
          ],
          [
           "сало",
           "TYPE"
          ],
          [
           "сав",
           "TYPE"
          ],
          [
           "скребки",
           "TYPE"
          ],
          [
           "горохо",
           "TYPE"
          ],
          [
           "для",
           "TYPE"
          ],
          [
           "ванны",
           "TYPE"
          ],
          [
           "соль",
           "TYPE"
          ],
          [
           "редбу",
           "TYPE"
          ],
          [
           "моллоко",
           "TYPE"
          ],
          [
           "печенье",
           "TYPE"
          ],
          [
           "сладкая",
           "TYPE"
          ],
          [
           "хххлебцы",
           "TYPE"
          ],
          [
           "сырокопченые",
           "TYPE"
          ],
          [
           "колбас",
           "TYPE"
          ],
          [
           "си",
           "TYPE"
          ],
          [
           "сыр",
           "TYPE"
          ],
          [
           "плавлен",
           "TYPE"
          ],
          [
           "для",
           "TYPE"
          ],
          [
           "хот",
           "TYPE"
          ],
          [
           "носки",
           "TYPE"
          ],
          [
           "мохито",
           "TYPE"
          ],
          [
           "в",
           "TYPE"
          ],
          [
           "банке",
           "TYPE"
          ],
          [
           "пива",
           "TYPE"
          ],
          [
           "игиеничсая",
           "TYPE"
          ],
          [
           "сыр",
           "TYPE"
          ],
          [
           "моцарела",
           "TYPE"
          ],
          [
           "голубцы",
           "TYPE"
          ],
          [
           "блоки",
           "TYPE"
          ],
          [
           "для",
           "TYPE"
          ],
          [
           "унитаза",
           "TYPE"
          ],
          [
           "перцев",
           "TYPE"
          ],
          [
           "капустка",
           "TYPE"
          ],
          [
           "сыр",
           "TYPE"
          ],
          [
           "адыге",
           "TYPE"
          ],
          [
           "оливки",
           "TYPE"
          ],
          [
           "без",
           "TYPE"
          ],
          [
           "косточек",
           "TYPE"
          ],
          [
           "соковая",
           "TYPE"
          ],
          [
           "продукц",
           "TYPE"
          ],
          [
           "сэнки",
           "TYPE"
          ],
          [
           "варено-копчены",
           "TYPE"
          ],
          [
           "мягкие",
           "TYPE"
          ],
          [
           "вафли",
           "TYPE"
          ],
          [
           "брокколли",
           "TYPE"
          ],
          [
           "манкан",
           "TYPE"
          ],
          [
           "горьк",
           "TYPE"
          ],
          [
           "гель",
           "TYPE"
          ],
          [
           "спаржа",
           "TYPE"
          ],
          [
           "алыча",
           "TYPE"
          ],
          [
           "соломкащ",
           "TYPE"
          ],
          [
           "ефир",
           "TYPE"
          ],
          [
           "борщщ",
           "TYPE"
          ],
          [
           "творожнве",
           "TYPE"
          ],
          [
           "кислом",
           "TYPE"
          ],
          [
           "кислорот",
           "TYPE"
          ],
          [
           "лозанья",
           "TYPE"
          ],
          [
           "паштет.",
           "TYPE"
          ],
          [
           "майка",
           "TYPE"
          ],
          [
           "сосисы",
           "TYPE"
          ],
          [
           "консераы",
           "TYPE"
          ],
          [
           "крекер",
           "TYPE"
          ],
          [
           "цветок",
           "TYPE"
          ],
          [
           "новогоних",
           "TYPE"
          ],
          [
           "украшеий",
           "TYPE"
          ],
          [
           "сгущенеа",
           "TYPE"
          ],
          [
           "батончки",
           "TYPE"
          ],
          [
           "колбаса",
           "TYPE"
          ],
          [
           "пивные",
           "TYPE"
          ],
          [
           "напитки",
           "TYPE"
          ],
          [
           "щницель",
           "TYPE"
          ],
          [
           "ловаш",
           "TYPE"
          ],
          [
           "помтжоры",
           "TYPE"
          ],
          [
           "тушка",
           "TYPE"
          ],
          [
           "куриная",
           "TYPE"
          ],
          [
           "хлеб",
           "TYPE"
          ],
          [
           "для",
           "TYPE"
          ],
          [
           "сендвич",
           "TYPE"
          ],
          [
           "лепёшка",
           "TYPE"
          ],
          [
           "хлеюцы",
           "TYPE"
          ],
          [
           "сосист",
           "TYPE"
          ],
          [
           "фхруто",
           "TYPE"
          ],
          [
           "крабовые",
           "TYPE"
          ],
          [
           "палочки",
           "TYPE"
          ],
          [
           "за",
           "TYPE"
          ],
          [
           "э",
           "TYPE"
          ],
          [
           "кроликов",
           "TYPE"
          ],
          [
           "охлажденны",
           "TYPE"
          ],
          [
           "шампунь",
           "TYPE"
          ],
          [
           "твороб",
           "TYPE"
          ],
          [
           "паштет",
           "TYPE"
          ],
          [
           "вного",
           "TYPE"
          ],
          [
           "набор",
           "TYPE"
          ],
          [
           "конфетный",
           "TYPE"
          ],
          [
           "колбаса",
           "TYPE"
          ],
          [
           "мясная",
           "TYPE"
          ],
          [
           "вибромассажеры",
           "TYPE"
          ],
          [
           "крем",
           "TYPE"
          ],
          [
           "творожный",
           "TYPE"
          ],
          [
           "иогурт",
           "TYPE"
          ],
          [
           "без",
           "TYPE"
          ],
          [
           "сахора",
           "TYPE"
          ],
          [
           "йогурт",
           "TYPE"
          ],
          [
           "круглозерновой",
           "TYPE"
          ],
          [
           "ополаскиватель",
           "TYPE"
          ],
          [
           "екапуста",
           "TYPE"
          ],
          [
           "шампиньоня",
           "TYPE"
          ],
          [
           "воздушн",
           "TYPE"
          ],
          [
           "смягчители",
           "TYPE"
          ],
          [
           "во",
           "TYPE"
          ],
          [
           "наборы",
           "TYPE"
          ],
          [
           "электроник",
           "TYPE"
          ],
          [
           "увлажнители",
           "TYPE"
          ],
          [
           "воздух",
           "TYPE"
          ],
          [
           "курт",
           "TYPE"
          ],
          [
           "суфле",
           "TYPE"
          ],
          [
           "творожное",
           "TYPE"
          ],
          [
           "трусы",
           "TYPE"
          ],
          [
           "кальмапы",
           "TYPE"
          ],
          [
           "кунжуи",
           "TYPE"
          ],
          [
           "колбач",
           "TYPE"
          ],
          [
           "тунец",
           "TYPE"
          ],
          [
           "в",
           "TYPE"
          ],
          [
           "собственном",
           "TYPE"
          ],
          [
           "соку",
           "TYPE"
          ],
          [
           "свекле",
           "TYPE"
          ],
          [
           "сигары",
           "TYPE"
          ],
          [
           "ели",
           "TYPE"
          ],
          [
           "тыквенные",
           "TYPE"
          ],
          [
           "семечки",
           "TYPE"
          ],
          [
           "картофель",
           "TYPE"
          ],
          [
           "б",
           "TYPE"
          ],
          [
           "салфетуи",
           "TYPE"
          ],
          [
           "булочки",
           "TYPE"
          ],
          [
           "с",
           "TYPE"
          ],
          [
           "вареной",
           "TYPE"
          ],
          [
           "сумки",
           "TYPE"
          ],
          [
           "бумага",
           "TYPE"
          ],
          [
           "для",
           "TYPE"
          ],
          [
           "запеканки",
           "TYPE"
          ],
          [
           "плрошок",
           "TYPE"
          ],
          [
           "сироп",
           "TYPE"
          ],
          [
           "срочно",
           "TYPE"
          ],
          [
           "мапормелад",
           "TYPE"
          ],
          [
           "молочный",
           "TYPE"
          ],
          [
           "коктейль",
           "TYPE"
          ],
          [
           "масло",
           "TYPE"
          ],
          [
           "сливочное",
           "TYPE"
          ],
          [
           "молоко́",
           "TYPE"
          ],
          [
           "очки",
           "TYPE"
          ],
          [
           "корнешоны",
           "TYPE"
          ],
          [
           "перец",
           "TYPE"
          ],
          [
           "щётка",
           "TYPE"
          ],
          [
           "зубная",
           "TYPE"
          ],
          [
           "пельмеени",
           "TYPE"
          ],
          [
           "капус",
           "TYPE"
          ],
          [
           "кондите",
           "TYPE"
          ],
          [
           "мороденое",
           "TYPE"
          ],
          [
           "спаггетт",
           "TYPE"
          ],
          [
           "моро",
           "TYPE"
          ],
          [
           "карандашо",
           "TYPE"
          ],
          [
           "кофи",
           "TYPE"
          ],
          [
           "хлтб",
           "TYPE"
          ],
          [
           "plolive",
           "TYPE"
          ],
          [
           "кисломолочные",
           "TYPE"
          ],
          [
           "сме",
           "TYPE"
          ],
          [
           "льненая",
           "TYPE"
          ],
          [
           "бумажно-целюлозная",
           "TYPE"
          ],
          [
           "продук",
           "TYPE"
          ],
          [
           "артишок",
           "TYPE"
          ],
          [
           "льга",
           "TYPE"
          ],
          [
           "морожнго",
           "TYPE"
          ],
          [
           "булочное",
           "TYPE"
          ],
          [
           "рышек",
           "TYPE"
          ],
          [
           "капс",
           "TYPE"
          ],
          [
           "багеь",
           "TYPE"
          ],
          [
           "рассоль",
           "TYPE"
          ],
          [
           "грунт",
           "TYPE"
          ],
          [
           "сырокопчены",
           "TYPE"
          ],
          [
           "сельди",
           "TYPE"
          ],
          [
           "слабосолен",
           "TYPE"
          ],
          [
           "перчатки",
           "TYPE"
          ],
          [
           "карнавальные",
           "TYPE"
          ],
          [
           "аксессуары",
           "TYPE"
          ],
          [
           "арахисова",
           "TYPE"
          ],
          [
           "слойка",
           "TYPE"
          ],
          [
           "коул",
           "TYPE"
          ],
          [
           "колбаса",
           "TYPE"
          ],
          [
           "нарезка",
           "TYPE"
          ],
          [
           "с",
           "TYPE"
          ],
          [
           "перцем",
           "TYPE"
          ],
          [
           "соду",
           "TYPE"
          ],
          [
           "морса",
           "TYPE"
          ],
          [
           "варены",
           "TYPE"
          ],
          [
           "сыр",
           "TYPE"
          ],
          [
           "монастырский",
           "TYPE"
          ],
          [
           "бтаон",
           "TYPE"
          ],
          [
           "орехо",
           "TYPE"
          ],
          [
           "мясо",
           "TYPE"
          ],
          [
           "охлажденное",
           "TYPE"
          ],
          [
           "прочие",
           "TYPE"
          ],
          [
           "тампон",
           "TYPE"
          ],
          [
           "маринованная",
           "TYPE"
          ],
          [
           "фольга",
           "TYPE"
          ],
          [
           "для",
           "TYPE"
          ],
          [
           "выпе",
           "TYPE"
          ],
          [
           "жидкость",
           "TYPE"
          ],
          [
           "с",
           "TYPE"
          ],
          [
           "ацетоном",
           "TYPE"
          ],
          [
           "белое",
           "TYPE"
          ],
          [
           "плодово",
           "TYPE"
          ],
          [
           "эмкимо",
           "TYPE"
          ],
          [
           "бутылочки,",
           "TYPE"
          ],
          [
           "поильник",
           "TYPE"
          ],
          [
           "груши",
           "TYPE"
          ],
          [
           "коровка",
           "TYPE"
          ],
          [
           "с",
           "TYPE"
          ],
          [
           "корено",
           "TYPE"
          ],
          [
           "жвачкп",
           "TYPE"
          ],
          [
           "галоши",
           "TYPE"
          ],
          [
           "защитны",
           "TYPE"
          ],
          [
           "бата",
           "TYPE"
          ],
          [
           "молютка",
           "TYPE"
          ],
          [
           "греческийй",
           "TYPE"
          ],
          [
           "конфетым",
           "TYPE"
          ],
          [
           "каша",
           "TYPE"
          ],
          [
           "рисо",
           "TYPE"
          ],
          [
           "чырок",
           "TYPE"
          ],
          [
           "осминоги",
           "TYPE"
          ],
          [
           "пастеризованная",
           "TYPE"
          ],
          [
           "сюяйцо",
           "TYPE"
          ],
          [
           "тартателки",
           "TYPE"
          ],
          [
           "баллзамический",
           "TYPE"
          ],
          [
           "фондю",
           "TYPE"
          ],
          [
           "мешки",
           "TYPE"
          ],
          [
           "водоасли",
           "TYPE"
          ],
          [
           "зевачка",
           "TYPE"
          ],
          [
           "наволочка",
           "TYPE"
          ],
          [
           "кваш",
           "TYPE"
          ],
          [
           "тарталеьки",
           "TYPE"
          ],
          [
           "наггетцы",
           "TYPE"
          ],
          [
           "плавки",
           "TYPE"
          ],
          [
           "талрожок",
           "TYPE"
          ],
          [
           "лосьон",
           "TYPE"
          ],
          [
           "растилка",
           "TYPE"
          ],
          [
           "тряпки",
           "TYPE"
          ],
          [
           "шоколад",
           "TYPE"
          ],
          [
           "вей",
           "TYPE"
          ],
          [
           "држжи",
           "TYPE"
          ],
          [
           "винегрета",
           "TYPE"
          ],
          [
           "макароны",
           "TYPE"
          ],
          [
           "отрубям",
           "TYPE"
          ],
          [
           "индейки",
           "TYPE"
          ],
          [
           "ох",
           "TYPE"
          ],
          [
           "птитим",
           "TYPE"
          ],
          [
           "ьунец",
           "TYPE"
          ],
          [
           "мясные",
           "TYPE"
          ],
          [
           "консерв",
           "TYPE"
          ],
          [
           "булнур",
           "TYPE"
          ],
          [
           "картофель.",
           "TYPE"
          ],
          [
           "сельд",
           "TYPE"
          ],
          [
           "тан",
           "TYPE"
          ],
          [
           "пылесосов",
           "TYPE"
          ],
          [
           "морож,",
           "TYPE"
          ],
          [
           "подушкчки",
           "TYPE"
          ],
          [
           "капусто",
           "TYPE"
          ],
          [
           "перепелиное",
           "TYPE"
          ],
          [
           "яйцо",
           "TYPE"
          ],
          [
           "вина",
           "TYPE"
          ],
          [
           "игристое",
           "TYPE"
          ],
          [
           "дэмка",
           "TYPE"
          ],
          [
           "паштет",
           "TYPE"
          ],
          [
           "сарденьки",
           "TYPE"
          ],
          [
           "бритья",
           "TYPE"
          ],
          [
           "жчупс",
           "TYPE"
          ],
          [
           "торт",
           "TYPE"
          ],
          [
           "наполеон",
           "TYPE"
          ],
          [
           "бутылочка",
           "TYPE"
          ],
          [
           "для",
           "TYPE"
          ],
          [
           "воды",
           "TYPE"
          ],
          [
           "слоено",
           "TYPE"
          ],
          [
           "пищевая",
           "TYPE"
          ],
          [
           "сода",
           "TYPE"
          ],
          [
           "решетка",
           "TYPE"
          ],
          [
           "белковая",
           "TYPE"
          ],
          [
           "продукци",
           "TYPE"
          ],
          [
           "тертые",
           "TYPE"
          ],
          [
           "томаты",
           "TYPE"
          ],
          [
           "салатники",
           "TYPE"
          ],
          [
           "горошеа",
           "TYPE"
          ],
          [
           "мючли",
           "TYPE"
          ],
          [
           "ципленок",
           "TYPE"
          ],
          [
           "велосипе",
           "TYPE"
          ],
          [
           "яетакса",
           "TYPE"
          ],
          [
           "морские",
           "TYPE"
          ],
          [
           "клом",
           "TYPE"
          ],
          [
           "доя",
           "TYPE"
          ],
          [
           "собак",
           "TYPE"
          ],
          [
           "шокоалд",
           "TYPE"
          ],
          [
           "бренди",
           "TYPE"
          ],
          [
           "яцйца",
           "TYPE"
          ],
          [
           "творог",
           "TYPE"
          ],
          [
           "курица",
           "TYPE"
          ],
          [
           "тсметана",
           "TYPE"
          ],
          [
           "хачиаури",
           "TYPE"
          ],
          [
           "рис",
           "TYPE"
          ],
          [
           "шлифованный",
           "TYPE"
          ],
          [
           "молочная",
           "TYPE"
          ],
          [
           "имбирн",
           "TYPE"
          ],
          [
           "икна",
           "TYPE"
          ],
          [
           "гаполнитель",
           "TYPE"
          ],
          [
           "йогурт",
           "TYPE"
          ],
          [
           "кренделки",
           "TYPE"
          ],
          [
           "кардамон",
           "TYPE"
          ],
          [
           "масло",
           "TYPE"
          ],
          [
           "базилик",
           "TYPE"
          ],
          [
           "snak",
           "TYPE"
          ],
          [
           "тыквау",
           "TYPE"
          ],
          [
           "протейновое",
           "TYPE"
          ],
          [
           "молоко",
           "TYPE"
          ],
          [
           "сдобы",
           "TYPE"
          ],
          [
           "крабовые,",
           "TYPE"
          ],
          [
           "картиофель",
           "TYPE"
          ],
          [
           "семяки",
           "TYPE"
          ],
          [
           "сырный",
           "TYPE"
          ],
          [
           "проду",
           "TYPE"
          ],
          [
           "маонез",
           "TYPE"
          ],
          [
           "вода",
           "TYPE"
          ],
          [
           "газировпнная",
           "TYPE"
          ],
          [
           "цесарка",
           "TYPE"
          ],
          [
           "сметанеа",
           "TYPE"
          ],
          [
           "бклажн",
           "TYPE"
          ],
          [
           "ролик",
           "TYPE"
          ],
          [
           "для",
           "TYPE"
          ],
          [
           "очистки",
           "TYPE"
          ],
          [
           "смешанный",
           "TYPE"
          ],
          [
           "р",
           "TYPE"
          ],
          [
           "морепродуктыд",
           "TYPE"
          ],
          [
           "сдобы",
           "TYPE"
          ],
          [
           "сокосоде",
           "TYPE"
          ],
          [
           "пирожок",
           "TYPE"
          ],
          [
           "с",
           "TYPE"
          ],
          [
           "яйцом",
           "TYPE"
          ],
          [
           "зубочичтки",
           "TYPE"
          ],
          [
           "сырники",
           "TYPE"
          ],
          [
           "будьиени",
           "TYPE"
          ],
          [
           "подсвечники",
           "TYPE"
          ],
          [
           "рыбное",
           "TYPE"
          ],
          [
           "переходники",
           "TYPE"
          ],
          [
           "курица",
           "TYPE"
          ],
          [
           "бедро",
           "TYPE"
          ],
          [
           "чай",
           "TYPE"
          ],
          [
           "с",
           "TYPE"
          ],
          [
           "ягодами",
           "TYPE"
          ],
          [
           "шпината",
           "TYPE"
          ],
          [
           "стиральный",
           "TYPE"
          ],
          [
           "порошок",
           "TYPE"
          ],
          [
           "грйепфрут",
           "TYPE"
          ],
          [
           "булуа",
           "TYPE"
          ],
          [
           "котлеты",
           "TYPE"
          ],
          [
           "точтовый",
           "TYPE"
          ],
          [
           "колбаса",
           "TYPE"
          ],
          [
           "докторская",
           "TYPE"
          ],
          [
           "губок",
           "TYPE"
          ],
          [
           "средство",
           "TYPE"
          ],
          [
           "для",
           "TYPE"
          ],
          [
           "ковров",
           "TYPE"
          ],
          [
           "таблетк",
           "TYPE"
          ],
          [
           "рис",
           "TYPE"
          ],
          [
           "в",
           "TYPE"
          ],
          [
           "покетике",
           "TYPE"
          ],
          [
           "охотничий",
           "TYPE"
          ],
          [
           "сырники",
           "TYPE"
          ],
          [
           "бптарейк",
           "TYPE"
          ],
          [
           "кисломолочные",
           "TYPE"
          ],
          [
           "смеси",
           "TYPE"
          ],
          [
           "риккота",
           "TYPE"
          ],
          [
           "яицок",
           "TYPE"
          ],
          [
           "ликер",
           "TYPE"
          ],
          [
           "миндаля",
           "TYPE"
          ],
          [
           "кефир",
           "TYPE"
          ],
          [
           "обезжиренный",
           "TYPE"
          ],
          [
           "гречневая",
           "TYPE"
          ],
          [
           "каша",
           "TYPE"
          ],
          [
           "marker",
           "TYPE"
          ],
          [
           "без",
           "TYPE"
          ],
          [
           "кабачок",
           "TYPE"
          ],
          [
           "пюре",
           "TYPE"
          ],
          [
           "пакеты",
           "TYPE"
          ],
          [
           "60",
           "TYPE"
          ],
          [
           "зубочистка",
           "TYPE"
          ],
          [
           "тарельки",
           "TYPE"
          ],
          [
           "сыр",
           "TYPE"
          ],
          [
           "рассольны",
           "TYPE"
          ],
          [
           "пергамент",
           "TYPE"
          ],
          [
           "пловн",
           "TYPE"
          ],
          [
           "сыр",
           "TYPE"
          ],
          [
           "твороженный",
           "TYPE"
          ],
          [
           "натуральная",
           "TYPE"
          ],
          [
           "уксусная",
           "TYPE"
          ],
          [
           "кислота",
           "TYPE"
          ],
          [
           "огурецз",
           "TYPE"
          ],
          [
           "цкиорий",
           "TYPE"
          ],
          [
           "электрчиеской",
           "TYPE"
          ],
          [
           "панч",
           "TYPE"
          ],
          [
           "стакална",
           "TYPE"
          ],
          [
           "мясной",
           "TYPE"
          ],
          [
           "хлебец",
           "TYPE"
          ],
          [
           "томаты",
           "TYPE"
          ],
          [
           "коктейльные",
           "TYPE"
          ],
          [
           "сыр",
           "TYPE"
          ],
          [
           "топленочка",
           "TYPE"
          ],
          [
           "нутеооа",
           "TYPE"
          ],
          [
           "грейпрут",
           "TYPE"
          ],
          [
           "газировку",
           "TYPE"
          ],
          [
           "хлеб",
           "TYPE"
          ],
          [
           "с",
           "TYPE"
          ],
          [
           "пооро",
           "TYPE"
          ],
          [
           "мука",
           "TYPE"
          ],
          [
           "кукурузн",
           "TYPE"
          ],
          [
           "питьевой",
           "TYPE"
          ],
          [
           "йогурт",
           "TYPE"
          ],
          [
           "в",
           "TYPE"
          ],
          [
           "мягкой",
           "TYPE"
          ],
          [
           "дринкес",
           "TYPE"
          ],
          [
           "полуфабрикаты",
           "TYPE"
          ],
          [
           "хлебобулочн",
           "TYPE"
          ],
          [
           "чеч",
           "TYPE"
          ],
          [
           "мультисид",
           "TYPE"
          ],
          [
           "фонар",
           "TYPE"
          ],
          [
           "схущенка",
           "TYPE"
          ],
          [
           "суп",
           "TYPE"
          ],
          [
           "грибной",
           "TYPE"
          ],
          [
           "трстовый",
           "TYPE"
          ],
          [
           "разрыхлитель",
           "TYPE"
          ],
          [
           "зелен",
           "TYPE"
          ],
          [
           "патассу",
           "TYPE"
          ],
          [
           "радиоуправляемые",
           "TYPE"
          ],
          [
           "мягкмй",
           "TYPE"
          ],
          [
           "ромашк",
           "TYPE"
          ],
          [
           "сог",
           "TYPE"
          ],
          [
           "чай",
           "TYPE"
          ],
          [
           "черный",
           "TYPE"
          ],
          [
           "крупно",
           "TYPE"
          ],
          [
           "стелвьки",
           "TYPE"
          ],
          [
           "тхк",
           "TYPE"
          ],
          [
           "лепешки",
           "TYPE"
          ],
          [
           "лимонад",
           "TYPE"
          ],
          [
           "сельдь",
           "TYPE"
          ],
          [
           "замороженная",
           "TYPE"
          ],
          [
           "охлажденное",
           "TYPE"
          ],
          [
           "драже",
           "TYPE"
          ],
          [
           "арахисовоя",
           "TYPE"
          ],
          [
           "булка",
           "TYPE"
          ],
          [
           "со",
           "TYPE"
          ],
          [
           "сгущёнкой",
           "TYPE"
          ],
          [
           "малмелад",
           "TYPE"
          ],
          [
           "фены",
           "TYPE"
          ],
          [
           "молокосо",
           "TYPE"
          ],
          [
           "лэйс",
           "TYPE"
          ],
          [
           "с",
           "TYPE"
          ],
          [
           "крабом",
           "TYPE"
          ],
          [
           "средство",
           "TYPE"
          ],
          [
           "для",
           "TYPE"
          ],
          [
           "мыться",
           "TYPE"
          ],
          [
           "посуды",
           "TYPE"
          ],
          [
           "капучино",
           "TYPE"
          ],
          [
           "с",
           "TYPE"
          ],
          [
           "пенкой",
           "TYPE"
          ],
          [
           "чай",
           "TYPE"
          ],
          [
           "с",
           "TYPE"
          ],
          [
           "малиной",
           "TYPE"
          ],
          [
           "галантерейные",
           "TYPE"
          ],
          [
           "аксессуа",
           "TYPE"
          ],
          [
           "очиститель",
           "TYPE"
          ],
          [
           "множитель",
           "TYPE"
          ],
          [
           "ват",
           "TYPE"
          ],
          [
           "грейфрук",
           "TYPE"
          ],
          [
           "малика",
           "TYPE"
          ],
          [
           "то",
           "TYPE"
          ],
          [
           "рулетики",
           "TYPE"
          ],
          [
           "творобышки",
           "TYPE"
          ],
          [
           "кукуруза",
           "TYPE"
          ],
          [
           "моркоуь",
           "TYPE"
          ],
          [
           "белое",
           "TYPE"
          ],
          [
           "виноградное",
           "TYPE"
          ],
          [
           "зерненеый",
           "TYPE"
          ],
          [
           "пятновыводители",
           "TYPE"
          ],
          [
           "овсяные",
           "TYPE"
          ],
          [
           "курку",
           "TYPE"
          ],
          [
           "сооеные",
           "TYPE"
          ],
          [
           "ганриры",
           "TYPE"
          ],
          [
           "краски",
           "TYPE"
          ],
          [
           "приправаа",
           "TYPE"
          ],
          [
           "для",
           "TYPE"
          ],
          [
           "мяса",
           "TYPE"
          ],
          [
           "чай",
           "TYPE"
          ],
          [
           "краснодарский",
           "TYPE"
          ],
          [
           "губок",
           "TYPE"
          ],
          [
           "плкопчено",
           "TYPE"
          ],
          [
           "клбаски",
           "TYPE"
          ],
          [
           "черный",
           "TYPE"
          ],
          [
           "рис",
           "TYPE"
          ],
          [
           "тиреяки",
           "TYPE"
          ],
          [
           "шоколадный",
           "TYPE"
          ],
          [
           "коктейль",
           "TYPE"
          ],
          [
           "сухари",
           "TYPE"
          ],
          [
           "гель",
           "TYPE"
          ],
          [
           "шпикачки",
           "TYPE"
          ],
          [
           "сметаной",
           "TYPE"
          ],
          [
           "твороожок",
           "TYPE"
          ],
          [
           "варена",
           "TYPE"
          ],
          [
           "брынща",
           "TYPE"
          ],
          [
           "пахлава",
           "TYPE"
          ],
          [
           "галстук",
           "TYPE"
          ],
          [
           "курица&",
           "TYPE"
          ],
          [
           "варено-копчен",
           "TYPE"
          ],
          [
           "электрические",
           "TYPE"
          ],
          [
           "палатки,",
           "TYPE"
          ],
          [
           "вафел",
           "TYPE"
          ],
          [
           "жвачкка",
           "TYPE"
          ],
          [
           "компоты",
           "TYPE"
          ],
          [
           "хлебцы",
           "TYPE"
          ],
          [
           "забегай",
           "TYPE"
          ],
          [
           "на",
           "TYPE"
          ],
          [
           "чай",
           "TYPE"
          ],
          [
           "круа",
           "TYPE"
          ],
          [
           "морской",
           "TYPE"
          ],
          [
           "коктейль",
           "TYPE"
          ],
          [
           "в",
           "TYPE"
          ],
          [
           "рассоле",
           "TYPE"
          ],
          [
           "пксто",
           "TYPE"
          ],
          [
           "икра",
           "TYPE"
          ],
          [
           "кабачк",
           "TYPE"
          ],
          [
           "капбонад",
           "TYPE"
          ],
          [
           "ктнфеты",
           "TYPE"
          ],
          [
           "кукус",
           "TYPE"
          ],
          [
           "торт",
           "TYPE"
          ],
          [
           "сыворотка",
           "TYPE"
          ],
          [
           "питьевая",
           "TYPE"
          ],
          [
           "стике",
           "TYPE"
          ],
          [
           "сырокэ",
           "TYPE"
          ],
          [
           "листв",
           "TYPE"
          ],
          [
           "для",
           "TYPE"
          ],
          [
           "грудки",
           "TYPE"
          ],
          [
           "корм",
           "TYPE"
          ],
          [
           "длч",
           "TYPE"
          ],
          [
           "кощек",
           "TYPE"
          ],
          [
           "нут",
           "TYPE"
          ],
          [
           "вэнергетик",
           "TYPE"
          ],
          [
           "стикеры",
           "TYPE"
          ],
          [
           "для",
           "TYPE"
          ],
          [
           "унитаза",
           "TYPE"
          ],
          [
           "чайный",
           "TYPE"
          ],
          [
           "ассорти",
           "TYPE"
          ],
          [
           "гигиеническая",
           "TYPE"
          ],
          [
           "панировачные",
           "TYPE"
          ],
          [
           "сухари",
           "TYPE"
          ],
          [
           "аорошок",
           "TYPE"
          ],
          [
           "студень",
           "TYPE"
          ],
          [
           "творог",
           "TYPE"
          ],
          [
           "питахайя",
           "TYPE"
          ],
          [
           "мредство",
           "TYPE"
          ],
          [
           "цооурт",
           "TYPE"
          ],
          [
           "слоенше",
           "TYPE"
          ],
          [
           "менеральн",
           "TYPE"
          ],
          [
           "ветчмна",
           "TYPE"
          ],
          [
           "бумага",
           "TYPE"
          ],
          [
           "омечка",
           "TYPE"
          ],
          [
           "порционые",
           "TYPE"
          ],
          [
           "слики",
           "TYPE"
          ],
          [
           "икра",
           "TYPE"
          ],
          [
           "кисломолочные",
           "TYPE"
          ],
          [
           "коктейл",
           "TYPE"
          ],
          [
           "заливные",
           "TYPE"
          ],
          [
           "прочие",
           "TYPE"
          ],
          [
           "электроинструмент",
           "TYPE"
          ],
          [
           "пуденг",
           "TYPE"
          ],
          [
           "картоыель",
           "TYPE"
          ],
          [
           "компот",
           "TYPE"
          ],
          [
           "сельд",
           "TYPE"
          ],
          [
           "капсулах",
           "TYPE"
          ],
          [
           "оливки",
           "TYPE"
          ],
          [
           "сыр",
           "TYPE"
          ],
          [
           "люницы",
           "TYPE"
          ],
          [
           "каркадеи",
           "TYPE"
          ],
          [
           "бюстгальтер",
           "TYPE"
          ],
          [
           "чебурек",
           "TYPE"
          ],
          [
           "вода",
           "TYPE"
          ],
          [
           "фарша",
           "TYPE"
          ],
          [
           "чеюупицца",
           "TYPE"
          ],
          [
           "ванили",
           "TYPE"
          ],
          [
           "вишня",
           "TYPE"
          ],
          [
           "соломкой",
           "TYPE"
          ],
          [
           "удобреия,",
           "TYPE"
          ],
          [
           "подкорма",
           "TYPE"
          ],
          [
           "скумбрия",
           "TYPE"
          ],
          [
           "копченая",
           "TYPE"
          ],
          [
           "гречака",
           "TYPE"
          ],
          [
           "биоллакт",
           "TYPE"
          ],
          [
           "микрофиб",
           "TYPE"
          ],
          [
           "корзиночки",
           "TYPE"
          ],
          [
           "кристалл",
           "TYPE"
          ],
          [
           "очки",
           "TYPE"
          ],
          [
           "крендеьки",
           "TYPE"
          ],
          [
           "рмакароны",
           "TYPE"
          ],
          [
           "смеанк",
           "TYPE"
          ],
          [
           "мандиринв",
           "TYPE"
          ],
          [
           "гречиха",
           "TYPE"
          ],
          [
           "мокос",
           "TYPE"
          ],
          [
           "пальто",
           "TYPE"
          ],
          [
           "айх",
           "TYPE"
          ],
          [
           "карточшка",
           "TYPE"
          ],
          [
           "нагетчы",
           "TYPE"
          ],
          [
           "комплекты",
           "TYPE"
          ],
          [
           "одежд",
           "TYPE"
          ],
          [
           "вафли",
           "TYPE"
          ],
          [
           "голландские",
           "TYPE"
          ],
          [
           "скребок",
           "TYPE"
          ],
          [
           "бличики",
           "TYPE"
          ],
          [
           "алоэ",
           "TYPE"
          ],
          [
           "вера",
           "TYPE"
          ],
          [
           "жевачка",
           "TYPE"
          ],
          [
           "без",
           "TYPE"
          ],
          [
           "сахара",
           "TYPE"
          ],
          [
           "череослив",
           "TYPE"
          ],
          [
           "аблепиха",
           "TYPE"
          ],
          [
           "кив",
           "TYPE"
          ],
          [
           "плавленый",
           "TYPE"
          ],
          [
           "с",
           "TYPE"
          ],
          [
           "шрибами",
           "TYPE"
          ],
          [
           "вода",
           "TYPE"
          ],
          [
           "копченый",
           "TYPE"
          ],
          [
           "йонцрт",
           "TYPE"
          ],
          [
           "рис",
           "TYPE"
          ],
          [
           "в",
           "TYPE"
          ],
          [
           "пакет",
           "TYPE"
          ],
          [
           "груудка",
           "TYPE"
          ],
          [
           "водпа",
           "TYPE"
          ],
          [
           "сгушоное",
           "TYPE"
          ],
          [
           "безлактознон",
           "TYPE"
          ],
          [
           "лечебн",
           "TYPE"
          ],
          [
           "завтракй",
           "TYPE"
          ],
          [
           "крутоны",
           "TYPE"
          ],
          [
           "конфеты",
           "TYPE"
          ],
          [
           "подушек",
           "TYPE"
          ],
          [
           "ккофе",
           "TYPE"
          ],
          [
           "фогурт",
           "TYPE"
          ],
          [
           "погремушки",
           "TYPE"
          ],
          [
           "панчо",
           "TYPE"
          ],
          [
           "шашлычныц",
           "TYPE"
          ],
          [
           "конфеты",
           "TYPE"
          ],
          [
           "кочет",
           "TYPE"
          ],
          [
           "кочеток",
           "TYPE"
          ],
          [
           "минаралка",
           "TYPE"
          ],
          [
           "спички",
           "TYPE"
          ],
          [
           "голень",
           "TYPE"
          ],
          [
           "индейки",
           "TYPE"
          ],
          [
           "капсулц",
           "TYPE"
          ],
          [
           "арахир",
           "TYPE"
          ],
          [
           "лебный",
           "TYPE"
          ],
          [
           "жюльен",
           "TYPE"
          ],
          [
           "фрикадель",
           "TYPE"
          ],
          [
           "микс",
           "TYPE"
          ],
          [
           "салат",
           "TYPE"
          ],
          [
           "основа",
           "TYPE"
          ],
          [
           "для",
           "TYPE"
          ],
          [
           "пицы",
           "TYPE"
          ],
          [
           "мнущенка",
           "TYPE"
          ],
          [
           "уддинитель",
           "TYPE"
          ],
          [
           "булки",
           "TYPE"
          ],
          [
           "с",
           "TYPE"
          ],
          [
           "корицей",
           "TYPE"
          ],
          [
           "чепрек",
           "TYPE"
          ],
          [
           "удлинители",
           "TYPE"
          ],
          [
           "кофей",
           "TYPE"
          ],
          [
           "подсолнечгое",
           "TYPE"
          ],
          [
           "освежитель",
           "TYPE"
          ],
          [
           "рпомидор",
           "TYPE"
          ],
          [
           "баклажаны",
           "TYPE"
          ],
          [
           "пато",
           "TYPE"
          ],
          [
           "памидорки",
           "TYPE"
          ],
          [
           "полгузники",
           "TYPE"
          ],
          [
           "батон",
           "TYPE"
          ],
          [
           "домашний",
           "TYPE"
          ],
          [
           "сок",
           "TYPE"
          ],
          [
           "морковный",
           "TYPE"
          ],
          [
           "укроп",
           "TYPE"
          ],
          [
           "сушёный",
           "TYPE"
          ],
          [
           "майки",
           "TYPE"
          ],
          [
           "горошек",
           "TYPE"
          ],
          [
           "рафинад",
           "TYPE"
          ],
          [
           "кабачик",
           "TYPE"
          ],
          [
           "миеералка",
           "TYPE"
          ],
          [
           "каша",
           "TYPE"
          ],
          [
           "льняная",
           "TYPE"
          ],
          [
           "маринлад",
           "TYPE"
          ],
          [
           "слойка",
           "TYPE"
          ],
          [
           "с",
           "TYPE"
          ],
          [
           "по",
           "TYPE"
          ],
          [
           "флайчипсы",
           "TYPE"
          ],
          [
           "пустышки,",
           "TYPE"
          ],
          [
           "соски",
           "TYPE"
          ],
          [
           "бунаны",
           "TYPE"
          ],
          [
           "огруцв",
           "TYPE"
          ],
          [
           "календари",
           "TYPE"
          ],
          [
           "семечки",
           "TYPE"
          ],
          [
           "чищенные",
           "TYPE"
          ],
          [
           "масса",
           "TYPE"
          ],
          [
           "творожна",
           "TYPE"
          ],
          [
           "брусничны",
           "TYPE"
          ],
          [
           "пельмени",
           "TYPE"
          ],
          [
           "сочные",
           "TYPE"
          ],
          [
           "маслян",
           "TYPE"
          ],
          [
           "марожение",
           "TYPE"
          ],
          [
           "хлеб",
           "TYPE"
          ],
          [
           "зер",
           "TYPE"
          ],
          [
           "билакт",
           "TYPE"
          ],
          [
           "сыр",
           "TYPE"
          ],
          [
           "омичка",
           "TYPE"
          ],
          [
           "чиабата",
           "TYPE"
          ],
          [
           "блинчик",
           "TYPE"
          ],
          [
           "сок",
           "TYPE"
          ],
          [
           "яблоко",
           "TYPE"
          ],
          [
           "отжима",
           "TYPE"
          ],
          [
           "треска",
           "TYPE"
          ],
          [
           "туаоетная",
           "TYPE"
          ],
          [
           "погремушки",
           "TYPE"
          ],
          [
           "кусков",
           "TYPE"
          ],
          [
           "картоыфнль",
           "TYPE"
          ],
          [
           "ква",
           "TYPE"
          ],
          [
           "сосиську",
           "TYPE"
          ],
          [
           "замородзка",
           "TYPE"
          ],
          [
           "черешня",
           "TYPE"
          ],
          [
           "ветчи",
           "TYPE"
          ],
          [
           "ну",
           "TYPE"
          ],
          [
           "гель",
           "TYPE"
          ],
          [
           "для",
           "TYPE"
          ],
          [
           "за",
           "TYPE"
          ],
          [
           "тест",
           "TYPE"
          ],
          [
           "на",
           "TYPE"
          ],
          [
           "беременность",
           "TYPE"
          ],
          [
           "пирожеоое",
           "TYPE"
          ],
          [
           "пашт",
           "TYPE"
          ],
          [
           "ткмпоны",
           "TYPE"
          ],
          [
           "рис",
           "TYPE"
          ],
          [
           "кинуа",
           "TYPE"
          ],
          [
           "сырнички",
           "TYPE"
          ],
          [
           "гречька",
           "TYPE"
          ],
          [
           "шокооадка",
           "TYPE"
          ],
          [
           "отвертки",
           "TYPE"
          ],
          [
           "сухарки",
           "TYPE"
          ],
          [
           "углоль",
           "TYPE"
          ],
          [
           "йоурпитьевое",
           "TYPE"
          ],
          [
           "мясорубски",
           "TYPE"
          ],
          [
           "горбуша",
           "TYPE"
          ],
          [
           "консервы",
           "TYPE"
          ],
          [
           "диолакт",
           "TYPE"
          ],
          [
           "специи",
           "TYPE"
          ],
          [
           "для",
           "TYPE"
          ],
          [
           "кортошки",
           "TYPE"
          ],
          [
           "отверток",
           "TYPE"
          ],
          [
           "сдоба",
           "TYPE"
          ],
          [
           "садовый",
           "TYPE"
          ],
          [
           "дек",
           "TYPE"
          ],
          [
           "дрожжди",
           "TYPE"
          ],
          [
           "нут",
           "TYPE"
          ],
          [
           "любимчик",
           "TYPE"
          ],
          [
           "фе",
           "TYPE"
          ],
          [
           "печенеье",
           "TYPE"
          ],
          [
           "смесь",
           "TYPE"
          ],
          [
           "овощно",
           "TYPE"
          ],
          [
           "вареники",
           "TYPE"
          ],
          [
           "маойне",
           "TYPE"
          ],
          [
           "конфетиюы",
           "TYPE"
          ],
          [
           "персик",
           "TYPE"
          ],
          [
           "шапиньоны",
           "TYPE"
          ],
          [
           "клубничный",
           "TYPE"
          ],
          [
           "сухапики",
           "TYPE"
          ],
          [
           "салат",
           "TYPE"
          ],
          [
           "морденное",
           "TYPE"
          ],
          [
           "конлиционер",
           "TYPE"
          ],
          [
           "для",
           "TYPE"
          ],
          [
           "белья",
           "TYPE"
          ],
          [
           "крупа",
           "TYPE"
          ],
          [
           "гречнева",
           "TYPE"
          ],
          [
           "хачапкри",
           "TYPE"
          ],
          [
           "песенье",
           "TYPE"
          ],
          [
           "с",
           "TYPE"
          ],
          [
           "сахаром",
           "TYPE"
          ],
          [
           "сок",
           "TYPE"
          ],
          [
           "специя",
           "TYPE"
          ],
          [
           "для",
           "TYPE"
          ],
          [
           "маса",
           "TYPE"
          ],
          [
           "хнергетик",
           "TYPE"
          ],
          [
           "яичная",
           "TYPE"
          ],
          [
           "лапша",
           "TYPE"
          ],
          [
           "пергамент",
           "TYPE"
          ],
          [
           "рвкола",
           "TYPE"
          ],
          [
           "ультрапастеризованное",
           "TYPE"
          ],
          [
           "эго",
           "TYPE"
          ],
          [
           "блокнотов",
           "TYPE"
          ],
          [
           "грудка",
           "TYPE"
          ],
          [
           "копченая",
           "TYPE"
          ],
          [
           "водк",
           "TYPE"
          ],
          [
           "без",
           "TYPE"
          ],
          [
           "газа",
           "TYPE"
          ],
          [
           "сгущный",
           "TYPE"
          ],
          [
           "молчный",
           "TYPE"
          ],
          [
           "раститнльное",
           "TYPE"
          ],
          [
           "чай",
           "TYPE"
          ],
          [
           "черный",
           "TYPE"
          ],
          [
           "25",
           "TYPE"
          ],
          [
           "майоенез",
           "TYPE"
          ],
          [
           "сокопай",
           "TYPE"
          ],
          [
           "улитка",
           "TYPE"
          ],
          [
           "с",
           "TYPE"
          ],
          [
           "корице",
           "TYPE"
          ],
          [
           "творожна",
           "TYPE"
          ],
          [
           "приправа",
           "TYPE"
          ],
          [
           "для",
           "TYPE"
          ],
          [
           "мяса",
           "TYPE"
          ],
          [
           "капсулы",
           "TYPE"
          ],
          [
           "для",
           "TYPE"
          ],
          [
           "стрики",
           "TYPE"
          ],
          [
           "просныня",
           "TYPE"
          ],
          [
           "льняна",
           "TYPE"
          ],
          [
           "краситель",
           "TYPE"
          ],
          [
           "морса",
           "TYPE"
          ],
          [
           "гранолла",
           "TYPE"
          ],
          [
           "лазерная",
           "TYPE"
          ],
          [
           "pls",
           "TYPE"
          ],
          [
           "детский",
           "TYPE"
          ],
          [
           "творожок",
           "TYPE"
          ],
          [
           "молочным",
           "TYPE"
          ],
          [
           "коктейл",
           "TYPE"
          ],
          [
           "vegeta",
           "TYPE"
          ],
          [
           "леденцыл",
           "TYPE"
          ],
          [
           "огрурец",
           "TYPE"
          ],
          [
           "морковь",
           "TYPE"
          ],
          [
           "натуро",
           "TYPE"
          ],
          [
           "котлетное",
           "TYPE"
          ],
          [
           "клртофель",
           "TYPE"
          ],
          [
           "селедка",
           "TYPE"
          ],
          [
           "матиас",
           "TYPE"
          ],
          [
           "иоматная",
           "TYPE"
          ],
          [
           "напиток",
           "TYPE"
          ],
          [
           "кофейный",
           "TYPE"
          ],
          [
           "хреновина",
           "TYPE"
          ],
          [
           "сврный",
           "TYPE"
          ],
          [
           "сыр",
           "TYPE"
          ],
          [
           "по",
           "TYPE"
          ],
          [
           "российски",
           "TYPE"
          ],
          [
           "колпа",
           "TYPE"
          ],
          [
           "треск,",
           "TYPE"
          ],
          [
           "руколоа",
           "TYPE"
          ],
          [
           "маслята",
           "TYPE"
          ],
          [
           "кольаса",
           "TYPE"
          ],
          [
           "в",
           "TYPE"
          ],
          [
           "нарезке",
           "TYPE"
          ],
          [
           "повседневная",
           "TYPE"
          ],
          [
           "одежда",
           "TYPE"
          ],
          [
           "салфеткиу",
           "TYPE"
          ],
          [
           "масло",
           "TYPE"
          ],
          [
           "с",
           "TYPE"
          ],
          [
           "чипсы",
           "TYPE"
          ],
          [
           "острые",
           "TYPE"
          ],
          [
           "\\ud83c\\",
           "TYPE"
          ],
          [
           "майка",
           "TYPE"
          ],
          [
           "яйцо",
           "TYPE"
          ],
          [
           "перепело",
           "TYPE"
          ],
          [
           "тебе",
           "TYPE"
          ],
          [
           "млдом",
           "TYPE"
          ],
          [
           "рулет",
           "TYPE"
          ],
          [
           "из",
           "TYPE"
          ],
          [
           "мяса",
           "TYPE"
          ],
          [
           "сдобые",
           "TYPE"
          ],
          [
           "винные",
           "TYPE"
          ],
          [
           "хлопьяв",
           "TYPE"
          ],
          [
           "пельмеш",
           "TYPE"
          ],
          [
           "зонтик",
           "TYPE"
          ],
          [
           "кофе",
           "TYPE"
          ],
          [
           "растворимы",
           "TYPE"
          ],
          [
           "овощное",
           "TYPE"
          ],
          [
           "анагасы",
           "TYPE"
          ],
          [
           "шоколад",
           "TYPE"
          ],
          [
           "мали",
           "TYPE"
          ],
          [
           "оладьи",
           "TYPE"
          ],
          [
           "с",
           "TYPE"
          ],
          [
           "волоросли",
           "TYPE"
          ],
          [
           "моцарелла",
           "TYPE"
          ],
          [
           "кокосовой",
           "TYPE"
          ],
          [
           "вареная",
           "TYPE"
          ],
          [
           "колбаса",
           "TYPE"
          ],
          [
           "кукурущные",
           "TYPE"
          ],
          [
           "соломка",
           "TYPE"
          ],
          [
           "чай",
           "TYPE"
          ],
          [
           "черный",
           "TYPE"
          ],
          [
           "салат",
           "TYPE"
          ],
          [
           "морковь",
           "TYPE"
          ],
          [
           "по",
           "TYPE"
          ],
          [
           "сем5чки",
           "TYPE"
          ],
          [
           "свежесть",
           "TYPE"
          ],
          [
           "обжарка",
           "TYPE"
          ],
          [
           "варенье",
           "TYPE"
          ],
          [
           "инжейка",
           "TYPE"
          ],
          [
           "овсянный",
           "TYPE"
          ],
          [
           "шампанское",
           "TYPE"
          ],
          [
           "натурбуфет",
           "TYPE"
          ],
          [
           "лейкопластыр",
           "TYPE"
          ],
          [
           "аза",
           "TYPE"
          ],
          [
           "набор",
           "TYPE"
          ],
          [
           "чайный",
           "TYPE"
          ],
          [
           "морожоное",
           "TYPE"
          ],
          [
           "батон",
           "TYPE"
          ],
          [
           "с",
           "TYPE"
          ],
          [
           "печи",
           "TYPE"
          ],
          [
           "сметанк",
           "TYPE"
          ],
          [
           "немтлок",
           "TYPE"
          ],
          [
           "яблоко",
           "TYPE"
          ],
          [
           "колечки",
           "TYPE"
          ],
          [
           "печенье",
           "TYPE"
          ],
          [
           "рыбки",
           "TYPE"
          ],
          [
           "альбомов",
           "TYPE"
          ],
          [
           "апельчи",
           "TYPE"
          ],
          [
           "глаеты",
           "TYPE"
          ],
          [
           "майонез",
           "TYPE"
          ],
          [
           "лёгкий",
           "TYPE"
          ],
          [
           "пломбир",
           "TYPE"
          ],
          [
           "как",
           "TYPE"
          ],
          [
           "ра",
           "TYPE"
          ],
          [
           "рис",
           "TYPE"
          ],
          [
           "пропа",
           "TYPE"
          ],
          [
           "патчи",
           "TYPE"
          ],
          [
           "для",
           "TYPE"
          ],
          [
           "глаз",
           "TYPE"
          ],
          [
           "тарелка",
           "TYPE"
          ],
          [
           "слоное",
           "TYPE"
          ],
          [
           "манная",
           "TYPE"
          ],
          [
           "кру",
           "TYPE"
          ],
          [
           "саше",
           "TYPE"
          ],
          [
           "шампинбоны",
           "TYPE"
          ],
          [
           "сырнмки",
           "TYPE"
          ],
          [
           "отвсяное",
           "TYPE"
          ],
          [
           "настольные",
           "TYPE"
          ],
          [
           "коври",
           "TYPE"
          ],
          [
           "средство",
           "TYPE"
          ],
          [
           "для",
           "TYPE"
          ],
          [
           "око",
           "TYPE"
          ],
          [
           "сувени",
           "TYPE"
          ],
          [
           "нопирожное",
           "TYPE"
          ],
          [
           "рудет",
           "TYPE"
          ],
          [
           "голозерновое",
           "TYPE"
          ],
          [
           "попк",
           "TYPE"
          ],
          [
           "куриа",
           "TYPE"
          ],
          [
           "игрушки",
           "TYPE"
          ],
          [
           "для",
           "TYPE"
          ],
          [
           "детей",
           "TYPE"
          ],
          [
           "трески",
           "TYPE"
          ],
          [
           "горшок",
           "TYPE"
          ],
          [
           "eix",
           "TYPE"
          ],
          [
           "гамак",
           "TYPE"
          ],
          [
           "огурдцы",
           "TYPE"
          ],
          [
           "порошёк",
           "TYPE"
          ],
          [
           "огорцу",
           "TYPE"
          ],
          [
           "лук",
           "TYPE"
          ],
          [
           "шалот",
           "TYPE"
          ],
          [
           "элериесой",
           "TYPE"
          ],
          [
           "огруры",
           "TYPE"
          ],
          [
           "еельмени",
           "TYPE"
          ],
          [
           "котьеты",
           "TYPE"
          ],
          [
           "зефиры",
           "TYPE"
          ],
          [
           "яблочны",
           "TYPE"
          ],
          [
           "сметана",
           "TYPE"
          ],
          [
           "шампанское",
           "TYPE"
          ],
          [
           "билецное",
           "TYPE"
          ],
          [
           "моющие",
           "TYPE"
          ],
          [
           "для",
           "TYPE"
          ],
          [
           "полов",
           "TYPE"
          ],
          [
           "фичташки",
           "TYPE"
          ],
          [
           "сгущее",
           "TYPE"
          ],
          [
           "цельнозерновой",
           "TYPE"
          ],
          [
           "хлеб",
           "TYPE"
          ],
          [
           "карамелька",
           "TYPE"
          ],
          [
           "майонр",
           "TYPE"
          ],
          [
           "водка",
           "TYPE"
          ],
          [
           "субпродуеты",
           "TYPE"
          ],
          [
           "печенье",
           "TYPE"
          ],
          [
           "кофевар",
           "TYPE"
          ],
          [
           "яйцо",
           "TYPE"
          ],
          [
           "шоко",
           "TYPE"
          ],
          [
           "рыба",
           "TYPE"
          ],
          [
           "мас",
           "TYPE"
          ],
          [
           "тарталеткт",
           "TYPE"
          ],
          [
           "кефир",
           "TYPE"
          ],
          [
           "детский",
           "TYPE"
          ],
          [
           "шампиньны",
           "TYPE"
          ],
          [
           "еельмен",
           "TYPE"
          ],
          [
           "хлебные",
           "TYPE"
          ],
          [
           "палоч",
           "TYPE"
          ],
          [
           "аязанк",
           "TYPE"
          ],
          [
           "свеч",
           "TYPE"
          ],
          [
           "морожнное",
           "TYPE"
          ],
          [
           "фунчозу",
           "TYPE"
          ],
          [
           "уие",
           "TYPE"
          ],
          [
           "сеси",
           "TYPE"
          ],
          [
           "луук",
           "TYPE"
          ],
          [
           "млавленный",
           "TYPE"
          ],
          [
           "ипроги",
           "TYPE"
          ],
          [
           "еченье",
           "TYPE"
          ],
          [
           "рф-сервис",
           "TYPE"
          ],
          [
           "бумаг",
           "TYPE"
          ],
          [
           "слойки",
           "TYPE"
          ],
          [
           "с",
           "TYPE"
          ],
          [
           "макрм",
           "TYPE"
          ],
          [
           "масло",
           "TYPE"
          ],
          [
           "корзиночка",
           "TYPE"
          ],
          [
           "сироп",
           "TYPE"
          ],
          [
           "рольон",
           "TYPE"
          ],
          [
           "клюква",
           "TYPE"
          ],
          [
           "в",
           "TYPE"
          ],
          [
           "сахаре",
           "TYPE"
          ],
          [
           "туалетна12",
           "TYPE"
          ],
          [
           "шампиньеон",
           "TYPE"
          ],
          [
           "хдлпья",
           "TYPE"
          ],
          [
           "чай",
           "TYPE"
          ],
          [
           "гематоген",
           "TYPE"
          ],
          [
           "приправа",
           "TYPE"
          ],
          [
           "для",
           "TYPE"
          ],
          [
           "курицы",
           "TYPE"
          ],
          [
           "рис",
           "TYPE"
          ],
          [
           "в",
           "TYPE"
          ],
          [
           "пакетиках",
           "TYPE"
          ],
          [
           "нутпилон",
           "TYPE"
          ],
          [
           "чиабат",
           "TYPE"
          ],
          [
           "камамбер",
           "TYPE"
          ],
          [
           "укуруза",
           "TYPE"
          ],
          [
           "энергнти",
           "TYPE"
          ],
          [
           "вишневвй",
           "TYPE"
          ],
          [
           "бритва",
           "TYPE"
          ],
          [
           "петрушки",
           "TYPE"
          ],
          [
           "книга",
           "TYPE"
          ],
          [
           "пуддинги",
           "TYPE"
          ],
          [
           "ванили",
           "TYPE"
          ],
          [
           "хлеб",
           "TYPE"
          ],
          [
           "боро",
           "TYPE"
          ],
          [
           "конфееты",
           "TYPE"
          ],
          [
           "грибы",
           "TYPE"
          ],
          [
           "вешенки",
           "TYPE"
          ],
          [
           "крупа",
           "TYPE"
          ],
          [
           "сумка",
           "TYPE"
          ],
          [
           "орзотто",
           "TYPE"
          ],
          [
           "ла9анья",
           "TYPE"
          ],
          [
           "альбом",
           "TYPE"
          ],
          [
           "янтарь",
           "TYPE"
          ],
          [
           "хлеб",
           "TYPE"
          ],
          [
           "сыр",
           "TYPE"
          ],
          [
           "копченая",
           "TYPE"
          ],
          [
           "редиска.",
           "TYPE"
          ],
          [
           "манеа",
           "TYPE"
          ],
          [
           "мюслии",
           "TYPE"
          ],
          [
           "журоудалитель",
           "TYPE"
          ],
          [
           "крем-мыло",
           "TYPE"
          ],
          [
           "лакомства",
           "TYPE"
          ],
          [
           "для",
           "TYPE"
          ],
          [
           "кошек",
           "TYPE"
          ],
          [
           "сацеьели",
           "TYPE"
          ],
          [
           "мела",
           "TYPE"
          ],
          [
           "окун",
           "TYPE"
          ],
          [
           "курциа",
           "TYPE"
          ],
          [
           "стакон",
           "TYPE"
          ],
          [
           "брынзп",
           "TYPE"
          ],
          [
           "приправа",
           "TYPE"
          ],
          [
           "бульон",
           "TYPE"
          ],
          [
           "корм",
           "TYPE"
          ],
          [
           "жидк",
           "TYPE"
          ],
          [
           "сткао",
           "TYPE"
          ],
          [
           "халэль",
           "TYPE"
          ],
          [
           "салфотки",
           "TYPE"
          ],
          [
           "дн",
           "TYPE"
          ],
          [
           "цветочки",
           "TYPE"
          ],
          [
           "медиа",
           "TYPE"
          ],
          [
           "сок",
           "TYPE"
          ],
          [
           "мармелад",
           "TYPE"
          ],
          [
           "шарл",
           "TYPE"
          ],
          [
           "балыек",
           "TYPE"
          ],
          [
           "эскимо",
           "TYPE"
          ],
          [
           "майзонез",
           "TYPE"
          ],
          [
           "садатный",
           "TYPE"
          ],
          [
           "коровен",
           "TYPE"
          ],
          [
           "хлеб",
           "TYPE"
          ],
          [
           "укропа",
           "TYPE"
          ],
          [
           "смеатны",
           "TYPE"
          ],
          [
           "конва",
           "TYPE"
          ],
          [
           "онигори",
           "TYPE"
          ],
          [
           "петрушкп",
           "TYPE"
          ],
          [
           "мариновонные",
           "TYPE"
          ],
          [
           "каша",
           "TYPE"
          ],
          [
           "злаков",
           "TYPE"
          ],
          [
           "блины",
           "TYPE"
          ],
          [
           "для",
           "TYPE"
          ],
          [
           "начинки",
           "TYPE"
          ],
          [
           "сыртк",
           "TYPE"
          ],
          [
           "конфеьы",
           "TYPE"
          ],
          [
           "квас",
           "TYPE"
          ],
          [
           "чаабата",
           "TYPE"
          ],
          [
           "погремушки",
           "TYPE"
          ],
          [
           "заливное",
           "TYPE"
          ],
          [
           "шоколадные",
           "TYPE"
          ],
          [
           "пузырьки",
           "TYPE"
          ],
          [
           "булочки",
           "TYPE"
          ],
          [
           "под",
           "TYPE"
          ],
          [
           "имби",
           "TYPE"
          ],
          [
           "овощной",
           "TYPE"
          ],
          [
           "пюре",
           "TYPE"
          ],
          [
           "каольвадос",
           "TYPE"
          ],
          [
           "проклодки",
           "TYPE"
          ],
          [
           "майонез",
           "TYPE"
          ],
          [
           "мини",
           "TYPE"
          ],
          [
           "маф",
           "TYPE"
          ],
          [
           "лбуза",
           "TYPE"
          ],
          [
           "фены",
           "TYPE"
          ],
          [
           "смечка",
           "TYPE"
          ],
          [
           "макаронные",
           "TYPE"
          ],
          [
           "издели",
           "TYPE"
          ],
          [
           "картояель",
           "TYPE"
          ],
          [
           "са0ар",
           "TYPE"
          ],
          [
           "кола",
           "TYPE"
          ],
          [
           "бес",
           "TYPE"
          ],
          [
           "сахара",
           "TYPE"
          ],
          [
           "хлеб.",
           "TYPE"
          ],
          [
           "картоыель",
           "TYPE"
          ],
          [
           "для",
           "TYPE"
          ],
          [
           "жарки",
           "TYPE"
          ],
          [
           "экзотика",
           "TYPE"
          ],
          [
           "мультиварки",
           "TYPE"
          ],
          [
           "сыр",
           "TYPE"
          ],
          [
           "тертый",
           "TYPE"
          ],
          [
           "дезедарант",
           "TYPE"
          ],
          [
           "хайц",
           "TYPE"
          ],
          [
           "лхебопечи",
           "TYPE"
          ],
          [
           "морковть",
           "TYPE"
          ],
          [
           "картоыелт",
           "TYPE"
          ],
          [
           "домшим",
           "TYPE"
          ],
          [
           "с",
           "TYPE"
          ],
          [
           "грибами",
           "TYPE"
          ],
          [
           "картошкс",
           "TYPE"
          ],
          [
           "масло",
           "TYPE"
          ],
          [
           "пакароны",
           "TYPE"
          ],
          [
           "крабовые0",
           "TYPE"
          ],
          [
           "икра",
           "TYPE"
          ],
          [
           "баклажанн",
           "TYPE"
          ],
          [
           "тортн",
           "TYPE"
          ],
          [
           "морошено",
           "TYPE"
          ],
          [
           "не",
           "TYPE"
          ],
          [
           "дорогое",
           "TYPE"
          ],
          [
           "почики",
           "TYPE"
          ],
          [
           "мороже",
           "TYPE"
          ],
          [
           "айва",
           "TYPE"
          ],
          [
           "баклажаны",
           "TYPE"
          ],
          [
           "в",
           "TYPE"
          ],
          [
           "банки",
           "TYPE"
          ],
          [
           "бедра",
           "TYPE"
          ],
          [
           "куриные",
           "TYPE"
          ],
          [
           "депиля",
           "TYPE"
          ],
          [
           "пчыж",
           "TYPE"
          ],
          [
           "абсент",
           "TYPE"
          ],
          [
           "деревенски",
           "TYPE"
          ],
          [
           "весы",
           "TYPE"
          ],
          [
           "напольные",
           "TYPE"
          ],
          [
           "биокерная",
           "TYPE"
          ],
          [
           "спмечки",
           "TYPE"
          ],
          [
           "подова",
           "TYPE"
          ],
          [
           "батарейки",
           "TYPE"
          ],
          [
           "геркулес",
           "TYPE"
          ],
          [
           "быстрого",
           "TYPE"
          ],
          [
           "приготовления",
           "TYPE"
          ],
          [
           "мороженное",
           "TYPE"
          ],
          [
           "мачло",
           "TYPE"
          ],
          [
           "слив",
           "TYPE"
          ],
          [
           "кефие",
           "TYPE"
          ],
          [
           "тпяпка",
           "TYPE"
          ],
          [
           "таблетки",
           "TYPE"
          ],
          [
           "для",
           "TYPE"
          ],
          [
           "посу",
           "TYPE"
          ],
          [
           "специи",
           "TYPE"
          ],
          [
           "для",
           "TYPE"
          ],
          [
           "курицы",
           "TYPE"
          ],
          [
           "колбасы",
           "TYPE"
          ],
          [
           "р",
           "TYPE"
          ],
          [
           "тортыю",
           "TYPE"
          ],
          [
           "творжные",
           "TYPE"
          ],
          [
           "полуфабрекаты",
           "TYPE"
          ],
          [
           "сыровялены",
           "TYPE"
          ],
          [
           "спичк",
           "TYPE"
          ],
          [
           "ростишка",
           "TYPE"
          ],
          [
           "чо",
           "TYPE"
          ],
          [
           "меи",
           "TYPE"
          ],
          [
           "розов",
           "TYPE"
          ],
          [
           "молочные",
           "TYPE"
          ],
          [
           "коктейл",
           "TYPE"
          ],
          [
           "ч",
           "TYPE"
          ],
          [
           "ватруш",
           "TYPE"
          ],
          [
           "пюре",
           "TYPE"
          ],
          [
           "яблоко",
           "TYPE"
          ],
          [
           "банан",
           "TYPE"
          ],
          [
           "шарики",
           "TYPE"
          ],
          [
           "кукурузные",
           "TYPE"
          ],
          [
           "майнонез",
           "TYPE"
          ],
          [
           "ассорти",
           "TYPE"
          ],
          [
           "из",
           "TYPE"
          ],
          [
           "рыбы",
           "TYPE"
          ],
          [
           "купаты",
           "TYPE"
          ],
          [
           "ультрапастеризованный",
           "TYPE"
          ],
          [
           "оыощи",
           "TYPE"
          ],
          [
           "подушечки",
           "TYPE"
          ],
          [
           "уарбонат",
           "TYPE"
          ],
          [
           "сафлетки",
           "TYPE"
          ],
          [
           "гель",
           "TYPE"
          ],
          [
           "отбеливате",
           "TYPE"
          ],
          [
           "молочный",
           "TYPE"
          ],
          [
           "коктель",
           "TYPE"
          ],
          [
           "сыр",
           "TYPE"
          ],
          [
           "тил",
           "TYPE"
          ],
          [
           "лвк",
           "TYPE"
          ],
          [
           "коклейль",
           "TYPE"
          ],
          [
           "мороженое",
           "TYPE"
          ],
          [
           "в",
           "TYPE"
          ],
          [
           "ст",
           "TYPE"
          ],
          [
           "нежинская",
           "TYPE"
          ],
          [
           "паприкп",
           "TYPE"
          ],
          [
           "кому-нибудь",
           "TYPE"
          ],
          [
           "ряжежнка",
           "TYPE"
          ],
          [
           "цвеы",
           "TYPE"
          ],
          [
           "сеикерс",
           "TYPE"
          ],
          [
           "удлинители",
           "TYPE"
          ],
          [
           "камелион",
           "TYPE"
          ],
          [
           "сыр",
           "TYPE"
          ],
          [
           "легкий",
           "TYPE"
          ],
          [
           "огурец.",
           "TYPE"
          ],
          [
           "щшоколад",
           "TYPE"
          ],
          [
           "жаачки",
           "TYPE"
          ],
          [
           "nemoloki",
           "TYPE"
          ],
          [
           "лепешеа",
           "TYPE"
          ],
          [
           "филе",
           "TYPE"
          ],
          [
           "сельди",
           "TYPE"
          ],
          [
           "тряпки",
           "TYPE"
          ],
          [
           "картошечка",
           "TYPE"
          ],
          [
           "лапка",
           "TYPE"
          ],
          [
           "рожок",
           "TYPE"
          ],
          [
           "сноуеборды",
           "TYPE"
          ],
          [
           "паштеты",
           "TYPE"
          ],
          [
           "энерг",
           "TYPE"
          ],
          [
           "домашняя",
           "TYPE"
          ],
          [
           "лапша",
           "TYPE"
          ],
          [
           "пельмее",
           "TYPE"
          ],
          [
           "приправа",
           "TYPE"
          ],
          [
           "доя",
           "TYPE"
          ],
          [
           "картофеля",
           "TYPE"
          ],
          [
           "сыровяленн",
           "TYPE"
          ],
          [
           "очиститель",
           "TYPE"
          ],
          [
           "укроп",
           "TYPE"
          ],
          [
           "сушеный",
           "TYPE"
          ],
          [
           "древесн",
           "TYPE"
          ],
          [
           "китайская",
           "TYPE"
          ],
          [
           "капуста",
           "TYPE"
          ],
          [
           "фруктовое",
           "TYPE"
          ],
          [
           "пюре",
           "TYPE"
          ],
          [
           "резинка",
           "TYPE"
          ],
          [
           "жевательна",
           "TYPE"
          ],
          [
           "легкий",
           "TYPE"
          ],
          [
           "смесь",
           "TYPE"
          ],
          [
           "безлактозноеу",
           "TYPE"
          ],
          [
           "коробки,",
           "TYPE"
          ],
          [
           "корзи",
           "TYPE"
          ],
          [
           "тан",
           "TYPE"
          ],
          [
           "сулугуги",
           "TYPE"
          ],
          [
           "гречневвя",
           "TYPE"
          ],
          [
           "охотничья",
           "TYPE"
          ],
          [
           "палочка",
           "TYPE"
          ],
          [
           "сжндвич",
           "TYPE"
          ],
          [
           "коыейный",
           "TYPE"
          ],
          [
           "котлет",
           "TYPE"
          ],
          [
           "буше",
           "TYPE"
          ],
          [
           "волчёк",
           "TYPE"
          ],
          [
           "капу",
           "TYPE"
          ],
          [
           "шарфы,",
           "TYPE"
          ],
          [
           "палантин",
           "TYPE"
          ],
          [
           "зелень.",
           "TYPE"
          ],
          [
           "лампада",
           "TYPE"
          ],
          [
           "говдина",
           "TYPE"
          ],
          [
           "капуста",
           "TYPE"
          ],
          [
           "ранняя",
           "TYPE"
          ],
          [
           "крпы",
           "TYPE"
          ],
          [
           "саженец",
           "TYPE"
          ],
          [
           "творог",
           "TYPE"
          ],
          [
           "в",
           "TYPE"
          ],
          [
           "слив",
           "TYPE"
          ],
          [
           "плрошок",
           "TYPE"
          ],
          [
           "для",
           "TYPE"
          ],
          [
           "стирки",
           "TYPE"
          ],
          [
           "пеьмени",
           "TYPE"
          ],
          [
           "арбуз",
           "TYPE"
          ],
          [
           "багет",
           "TYPE"
          ],
          [
           "с",
           "TYPE"
          ],
          [
           "че",
           "TYPE"
          ],
          [
           "кпоейка",
           "TYPE"
          ],
          [
           "полукопченые",
           "TYPE"
          ],
          [
           "колба",
           "TYPE"
          ],
          [
           "крендельуи",
           "TYPE"
          ],
          [
           "корм",
           "TYPE"
          ],
          [
           "сухой",
           "TYPE"
          ],
          [
           "для",
           "TYPE"
          ],
          [
           "котов",
           "TYPE"
          ],
          [
           "проростков",
           "TYPE"
          ],
          [
           "сосискти",
           "TYPE"
          ],
          [
           "краск",
           "TYPE"
          ],
          [
           "арбузин",
           "TYPE"
          ],
          [
           "камбалообразны",
           "TYPE"
          ],
          [
           "пюре",
           "TYPE"
          ],
          [
           "дой",
           "TYPE"
          ],
          [
           "пак",
           "TYPE"
          ],
          [
           "крыш",
           "TYPE"
          ],
          [
           "карамели",
           "TYPE"
          ],
          [
           "цельное",
           "TYPE"
          ],
          [
           "сметанное",
           "TYPE"
          ],
          [
           "ноловы",
           "TYPE"
          ],
          [
           "чернослив",
           "TYPE"
          ],
          [
           "филе",
           "TYPE"
          ],
          [
           "рыба",
           "TYPE"
          ],
          [
           "рыбные",
           "TYPE"
          ],
          [
           "нагетсы",
           "TYPE"
          ],
          [
           "стике",
           "TYPE"
          ],
          [
           "приправы",
           "TYPE"
          ],
          [
           "для",
           "TYPE"
          ],
          [
           "рыбы",
           "TYPE"
          ],
          [
           "календарь",
           "TYPE"
          ],
          [
           "козел",
           "TYPE"
          ],
          [
           "бумжй",
           "TYPE"
          ],
          [
           "подарочный",
           "TYPE"
          ],
          [
           "майоненый",
           "TYPE"
          ],
          [
           "масло",
           "TYPE"
          ],
          [
           "оливковое",
           "TYPE"
          ],
          [
           "холодного",
           "TYPE"
          ],
          [
           "отжима",
           "TYPE"
          ],
          [
           "годжи",
           "TYPE"
          ],
          [
           "кеба",
           "TYPE"
          ],
          [
           "специи",
           "TYPE"
          ],
          [
           "для",
           "TYPE"
          ],
          [
           "карточки",
           "TYPE"
          ],
          [
           "бишбармак",
           "TYPE"
          ],
          [
           "приправф",
           "TYPE"
          ],
          [
           "каламбер",
           "TYPE"
          ],
          [
           "погремушха",
           "TYPE"
          ],
          [
           "рогалик",
           "TYPE"
          ],
          [
           "платья,",
           "TYPE"
          ],
          [
           "сарафа",
           "TYPE"
          ],
          [
           "яблоео",
           "TYPE"
          ],
          [
           "товорожок",
           "TYPE"
          ],
          [
           "удлинитель",
           "TYPE"
          ],
          [
           "тоатная",
           "TYPE"
          ],
          [
           "маннюка",
           "TYPE"
          ],
          [
           "йогурт",
           "TYPE"
          ],
          [
           "с",
           "TYPE"
          ],
          [
           "кокос",
           "TYPE"
          ],
          [
           "конфеты",
           "TYPE"
          ],
          [
           "карамель",
           "TYPE"
          ],
          [
           "землчника",
           "TYPE"
          ],
          [
           "кашаа",
           "TYPE"
          ],
          [
           "бефстро",
           "TYPE"
          ],
          [
           "колбаса",
           "TYPE"
          ],
          [
           "копч",
           "TYPE"
          ],
          [
           "переяц",
           "TYPE"
          ],
          [
           "из",
           "TYPE"
          ],
          [
           "тун",
           "TYPE"
          ],
          [
           "шампеньон",
           "TYPE"
          ],
          [
           "капсульн",
           "TYPE"
          ],
          [
           "охлажденная",
           "TYPE"
          ],
          [
           "зеелень",
           "TYPE"
          ],
          [
           "блины",
           "TYPE"
          ],
          [
           "с",
           "TYPE"
          ],
          [
           "клубникой",
           "TYPE"
          ],
          [
           "картофнлг",
           "TYPE"
          ],
          [
           "шампунь",
           "TYPE"
          ],
          [
           "гель",
           "TYPE"
          ],
          [
           "для",
           "TYPE"
          ],
          [
           "душа",
           "TYPE"
          ],
          [
           "индейку",
           "TYPE"
          ],
          [
           "корзиноч",
           "TYPE"
          ],
          [
           "немоло",
           "TYPE"
          ],
          [
           "булочка",
           "TYPE"
          ],
          [
           "зерненнвй",
           "TYPE"
          ],
          [
           "манго",
           "TYPE"
          ],
          [
           "грейпфруто",
           "TYPE"
          ],
          [
           "сыр",
           "TYPE"
          ],
          [
           "плавленный",
           "TYPE"
          ],
          [
           "энергкиики",
           "TYPE"
          ],
          [
           "мороженое",
           "TYPE"
          ],
          [
           "солёная",
           "TYPE"
          ],
          [
           "карамель",
           "TYPE"
          ],
          [
           "творог",
           "TYPE"
          ],
          [
           "детский",
           "TYPE"
          ],
          [
           "капуста",
           "TYPE"
          ],
          [
           "цветн",
           "TYPE"
          ],
          [
           "фил",
           "TYPE"
          ],
          [
           "мускат",
           "TYPE"
          ],
          [
           "краковск",
           "TYPE"
          ],
          [
           "лапша",
           "TYPE"
          ],
          [
           "яичная",
           "TYPE"
          ],
          [
           "залапеньо",
           "TYPE"
          ],
          [
           "торт",
           "TYPE"
          ],
          [
           "минеральная",
           "TYPE"
          ],
          [
           "вода",
           "TYPE"
          ],
          [
           "газированная",
           "TYPE"
          ],
          [
           "до",
           "TYPE"
          ],
          [
           "козинаки",
           "TYPE"
          ],
          [
           "сафетки",
           "TYPE"
          ],
          [
           "в",
           "TYPE"
          ],
          [
           "рулоне",
           "TYPE"
          ],
          [
           "варение",
           "TYPE"
          ],
          [
           "сукши",
           "TYPE"
          ],
          [
           "блины",
           "TYPE"
          ],
          [
           "с",
           "TYPE"
          ],
          [
           "мяс",
           "TYPE"
          ],
          [
           "сыр",
           "TYPE"
          ],
          [
           "ломтики",
           "TYPE"
          ],
          [
           "яблокл",
           "TYPE"
          ],
          [
           "твожок",
           "TYPE"
          ],
          [
           "индейки",
           "TYPE"
          ],
          [
           "охл",
           "TYPE"
          ],
          [
           "вырезк",
           "TYPE"
          ],
          [
           "маргарин",
           "TYPE"
          ],
          [
           "петрушкаа",
           "TYPE"
          ],
          [
           "вода",
           "TYPE"
          ],
          [
           "в",
           "TYPE"
          ],
          [
           "бутылке",
           "TYPE"
          ],
          [
           "сливки",
           "TYPE"
          ],
          [
           "для",
           "TYPE"
          ],
          [
           "мята",
           "TYPE"
          ],
          [
           "апельсинф",
           "TYPE"
          ],
          [
           "сахаесок",
           "TYPE"
          ],
          [
           "кола",
           "TYPE"
          ],
          [
           "без",
           "TYPE"
          ],
          [
           "газа",
           "TYPE"
          ],
          [
           "миф",
           "TYPE"
          ],
          [
           "календа",
           "TYPE"
          ],
          [
           "папирос",
           "TYPE"
          ],
          [
           "конфти",
           "TYPE"
          ],
          [
           "язычек",
           "TYPE"
          ],
          [
           "средство",
           "TYPE"
          ],
          [
           "для.",
           "TYPE"
          ],
          [
           "туалета",
           "TYPE"
          ],
          [
           "молокт",
           "TYPE"
          ],
          [
           "подгузники",
           "TYPE"
          ],
          [
           "трусы",
           "TYPE"
          ],
          [
           "ликер",
           "TYPE"
          ],
          [
           "аскор",
           "TYPE"
          ],
          [
           "комплекты",
           "TYPE"
          ],
          [
           "проотеиновы",
           "TYPE"
          ],
          [
           "недлительного",
           "TYPE"
          ],
          [
           "хранения",
           "TYPE"
          ],
          [
           "перец",
           "TYPE"
          ],
          [
           "черный",
           "TYPE"
          ],
          [
           "горошком",
           "TYPE"
          ],
          [
           "лепелка",
           "TYPE"
          ],
          [
           "для",
           "TYPE"
          ],
          [
           "мытья",
           "TYPE"
          ],
          [
           "акриловых",
           "TYPE"
          ],
          [
           "ванн",
           "TYPE"
          ],
          [
           "хлебцы",
           "TYPE"
          ],
          [
           "фитнес",
           "TYPE"
          ],
          [
           "копчёности",
           "TYPE"
          ],
          [
           "тостеры",
           "TYPE"
          ],
          [
           "ряжяенка",
           "TYPE"
          ],
          [
           "чилли",
           "TYPE"
          ],
          [
           "фарш",
           "TYPE"
          ],
          [
           "говядина",
           "TYPE"
          ],
          [
           "личи",
           "TYPE"
          ],
          [
           "вареники",
           "TYPE"
          ],
          [
           "ежедневки.",
           "TYPE"
          ],
          [
           "воздушный",
           "TYPE"
          ],
          [
           "зефир",
           "TYPE"
          ],
          [
           "фульон",
           "TYPE"
          ],
          [
           "салат",
           "TYPE"
          ],
          [
           "огурцы",
           "TYPE"
          ],
          [
           "маринованные",
           "TYPE"
          ],
          [
           "ваня",
           "TYPE"
          ],
          [
           "оогурцы",
           "TYPE"
          ],
          [
           "сырцееды",
           "TYPE"
          ],
          [
           "уткорий",
           "TYPE"
          ],
          [
           "перецбо",
           "TYPE"
          ],
          [
           "майонед",
           "TYPE"
          ],
          [
           "перловка",
           "TYPE"
          ],
          [
           "хлебницы",
           "TYPE"
          ],
          [
           "сулугун",
           "TYPE"
          ],
          [
           "форнакс",
           "TYPE"
          ],
          [
           "шоколад",
           "TYPE"
          ],
          [
           "победа",
           "TYPE"
          ],
          [
           "чеснот",
           "TYPE"
          ],
          [
           "пелльмени",
           "TYPE"
          ],
          [
           "пемолю",
           "TYPE"
          ],
          [
           "приправа",
           "TYPE"
          ],
          [
           "кари",
           "TYPE"
          ],
          [
           "плееры",
           "TYPE"
          ],
          [
           "переносные",
           "TYPE"
          ],
          [
           "соусы",
           "TYPE"
          ],
          [
           "прочие",
           "TYPE"
          ],
          [
           "бужееона",
           "TYPE"
          ],
          [
           "гречка",
           "TYPE"
          ],
          [
           "с",
           "TYPE"
          ],
          [
           "солой",
           "TYPE"
          ],
          [
           "сухиарики",
           "TYPE"
          ],
          [
           "детское",
           "TYPE"
          ],
          [
           "блинчик",
           "TYPE"
          ],
          [
           "бумага",
           "TYPE"
          ],
          [
           "для",
           "TYPE"
          ],
          [
           "выпечк",
           "TYPE"
          ],
          [
           "фены",
           "TYPE"
          ],
          [
           "запеканка",
           "TYPE"
          ],
          [
           "осноорская",
           "TYPE"
          ],
          [
           "глазированн",
           "TYPE"
          ],
          [
           "мороженне",
           "TYPE"
          ],
          [
           "фен",
           "TYPE"
          ],
          [
           "сырнички",
           "TYPE"
          ],
          [
           "капусты",
           "TYPE"
          ],
          [
           "фейх",
           "TYPE"
          ],
          [
           "без",
           "TYPE"
          ],
          [
           "сахара",
           "TYPE"
          ],
          [
           "тесто",
           "TYPE"
          ],
          [
           "для",
           "TYPE"
          ],
          [
           "ма",
           "TYPE"
          ],
          [
           "мюсли",
           "TYPE"
          ],
          [
           "с",
           "TYPE"
          ],
          [
           "бананом",
           "TYPE"
          ],
          [
           "водка",
           "TYPE"
          ],
          [
           "сыроск",
           "TYPE"
          ],
          [
           "сахоро",
           "TYPE"
          ],
          [
           "топт",
           "TYPE"
          ],
          [
           "блокно",
           "TYPE"
          ],
          [
           "трубочк",
           "TYPE"
          ],
          [
           "свр",
           "TYPE"
          ],
          [
           "творож",
           "TYPE"
          ],
          [
           "чырки",
           "TYPE"
          ],
          [
           "томаты",
           "TYPE"
          ],
          [
           "консервированные",
           "TYPE"
          ],
          [
           "украшения,",
           "TYPE"
          ],
          [
           "ароматизация",
           "TYPE"
          ],
          [
           "спагетм",
           "TYPE"
          ],
          [
           "лук",
           "TYPE"
          ],
          [
           "репчат",
           "TYPE"
          ],
          [
           "палчки",
           "TYPE"
          ],
          [
           "йагурт",
           "TYPE"
          ],
          [
           "тефте",
           "TYPE"
          ],
          [
           "сухие",
           "TYPE"
          ],
          [
           "завтраки",
           "TYPE"
          ],
          [
           "зололец",
           "TYPE"
          ],
          [
           "петрущ",
           "TYPE"
          ],
          [
           "диффузор",
           "TYPE"
          ],
          [
           "щипцы,бегуди",
           "TYPE"
          ],
          [
           "электрические",
           "TYPE"
          ],
          [
           "чернослив",
           "TYPE"
          ],
          [
           "рисов",
           "TYPE"
          ],
          [
           "ялыча",
           "TYPE"
          ],
          [
           "сухариаи",
           "TYPE"
          ],
          [
           "мятой",
           "TYPE"
          ],
          [
           "помидоры",
           "TYPE"
          ],
          [
           "свеж",
           "TYPE"
          ],
          [
           "вытные",
           "TYPE"
          ],
          [
           "кофе",
           "TYPE"
          ],
          [
           "ailtero",
           "TYPE"
          ],
          [
           "агурца",
           "TYPE"
          ],
          [
           "сендвичь",
           "TYPE"
          ],
          [
           "салфетки",
           "TYPE"
          ],
          [
           "для",
           "TYPE"
          ],
          [
           "кухни",
           "TYPE"
          ],
          [
           "вернослив",
           "TYPE"
          ],
          [
           "сырокопченый",
           "TYPE"
          ],
          [
           "колба",
           "TYPE"
          ],
          [
           "тмин",
           "TYPE"
          ],
          [
           "сусы",
           "TYPE"
          ],
          [
           "болрньезе",
           "TYPE"
          ],
          [
           "пищевых",
           "TYPE"
          ],
          [
           "пленка",
           "TYPE"
          ],
          [
           "тунец",
           "TYPE"
          ],
          [
           "в",
           "TYPE"
          ],
          [
           "собст",
           "TYPE"
          ],
          [
           "снэки",
           "TYPE"
          ],
          [
           "майанез",
           "TYPE"
          ],
          [
           "шырокопченная",
           "TYPE"
          ],
          [
           "творобушк",
           "TYPE"
          ],
          [
           "банананы",
           "TYPE"
          ],
          [
           "проч",
           "TYPE"
          ],
          [
           "пельмени",
           "TYPE"
          ],
          [
           "мини",
           "TYPE"
          ],
          [
           "карты",
           "TYPE"
          ],
          [
           "памя",
           "TYPE"
          ],
          [
           "для",
           "TYPE"
          ],
          [
           "стирки",
           "TYPE"
          ],
          [
           "белого",
           "TYPE"
          ],
          [
           "хмелм",
           "TYPE"
          ],
          [
           "набор",
           "TYPE"
          ],
          [
           "для",
           "TYPE"
          ],
          [
           "рагу",
           "TYPE"
          ],
          [
           "свечи",
           "TYPE"
          ],
          [
           "для",
           "TYPE"
          ],
          [
           "торта",
           "TYPE"
          ],
          [
           "бананаааа",
           "TYPE"
          ],
          [
           "творажек",
           "TYPE"
          ],
          [
           "хлеб",
           "TYPE"
          ],
          [
           "трио",
           "TYPE"
          ],
          [
           "шоколадные",
           "TYPE"
          ],
          [
           "батончи",
           "TYPE"
          ],
          [
           "сеьди)",
           "TYPE"
          ],
          [
           "гурме",
           "TYPE"
          ],
          [
           "для",
           "TYPE"
          ],
          [
           "кошек",
           "TYPE"
          ],
          [
           "пухляк",
           "TYPE"
          ],
          [
           "халвой",
           "TYPE"
          ],
          [
           "рыба",
           "TYPE"
          ],
          [
           "сельдь",
           "TYPE"
          ],
          [
           "журналы",
           "TYPE"
          ],
          [
           "печенки",
           "TYPE"
          ],
          [
           "сушеные",
           "TYPE"
          ],
          [
           "крестьянск",
           "TYPE"
          ],
          [
           "свртаки",
           "TYPE"
          ],
          [
           "джин",
           "TYPE"
          ],
          [
           "борш",
           "TYPE"
          ],
          [
           "кольбаса",
           "TYPE"
          ],
          [
           "фруьо",
           "TYPE"
          ],
          [
           "колбаски",
           "TYPE"
          ],
          [
           "охотничьи",
           "TYPE"
          ],
          [
           "сидр",
           "TYPE"
          ],
          [
           "нарезно",
           "TYPE"
          ],
          [
           "перфикт",
           "TYPE"
          ],
          [
           "с",
           "TYPE"
          ],
          [
           "индейкой",
           "TYPE"
          ],
          [
           "горчая",
           "TYPE"
          ],
          [
           "реброш",
           "TYPE"
          ],
          [
           "мандаоины",
           "TYPE"
          ],
          [
           "мармелады",
           "TYPE"
          ],
          [
           "газироку",
           "TYPE"
          ],
          [
           "приправа",
           "TYPE"
          ],
          [
           "яицы",
           "TYPE"
          ],
          [
           "кетчуп",
           "TYPE"
          ],
          [
           "томатный",
           "TYPE"
          ],
          [
           "макароын",
           "TYPE"
          ],
          [
           "хлеб",
           "TYPE"
          ],
          [
           "наборы",
           "TYPE"
          ],
          [
           "инструменто",
           "TYPE"
          ],
          [
           "семеяяки",
           "TYPE"
          ],
          [
           "соки",
           "TYPE"
          ],
          [
           "сгущоное",
           "TYPE"
          ],
          [
           "йогурт",
           "TYPE"
          ],
          [
           "виола",
           "TYPE"
          ],
          [
           "омарт",
           "TYPE"
          ],
          [
           "мовсло",
           "TYPE"
          ],
          [
           "попкормг",
           "TYPE"
          ],
          [
           "фенл",
           "TYPE"
          ],
          [
           "гелт",
           "TYPE"
          ],
          [
           "для",
           "TYPE"
          ],
          [
           "стирки",
           "TYPE"
          ],
          [
           "простыни",
           "TYPE"
          ],
          [
           "желати",
           "TYPE"
          ],
          [
           "медальо",
           "TYPE"
          ],
          [
           "моркоыка",
           "TYPE"
          ],
          [
           "булочки",
           "TYPE"
          ],
          [
           "напалеон",
           "TYPE"
          ],
          [
           "кисточк",
           "TYPE"
          ],
          [
           "тыорожи",
           "TYPE"
          ],
          [
           "салямчики",
           "TYPE"
          ],
          [
           "зубатка",
           "TYPE"
          ],
          [
           "йооурт",
           "TYPE"
          ],
          [
           "юогурт",
           "TYPE"
          ],
          [
           "мясо",
           "TYPE"
          ],
          [
           "животны",
           "TYPE"
          ],
          [
           "майонезж",
           "TYPE"
          ],
          [
           "макаронных",
           "TYPE"
          ],
          [
           "кур",
           "TYPE"
          ],
          [
           "о",
           "TYPE"
          ],
          [
           "нагетсв",
           "TYPE"
          ],
          [
           "омичк",
           "TYPE"
          ],
          [
           "гусиные",
           "TYPE"
          ],
          [
           "лапки",
           "TYPE"
          ],
          [
           "состськи",
           "TYPE"
          ],
          [
           "семе",
           "TYPE"
          ],
          [
           "прочие",
           "TYPE"
          ],
          [
           "бобов",
           "TYPE"
          ],
          [
           "плав",
           "TYPE"
          ],
          [
           "капюртофель",
           "TYPE"
          ],
          [
           "фрукты",
           "TYPE"
          ],
          [
           "свежие",
           "TYPE"
          ],
          [
           "йогурт",
           "TYPE"
          ],
          [
           "детский",
           "TYPE"
          ],
          [
           "соус",
           "TYPE"
          ],
          [
           "кислосладкий",
           "TYPE"
          ],
          [
           "ясн",
           "TYPE"
          ],
          [
           "мрложеное",
           "TYPE"
          ],
          [
           "кохеварок",
           "TYPE"
          ],
          [
           "конфэеты",
           "TYPE"
          ],
          [
           "паштет",
           "TYPE"
          ],
          [
           "с",
           "TYPE"
          ],
          [
           "индейкой",
           "TYPE"
          ],
          [
           "тонометры,термометр",
           "TYPE"
          ],
          [
           "рамено",
           "TYPE"
          ],
          [
           "дис",
           "TYPE"
          ],
          [
           "жито",
           "TYPE"
          ],
          [
           "топленочка",
           "TYPE"
          ],
          [
           "насадка",
           "TYPE"
          ],
          [
           "для",
           "TYPE"
          ],
          [
           "швабры",
           "TYPE"
          ],
          [
           "варены",
           "TYPE"
          ],
          [
           "селеде",
           "TYPE"
          ],
          [
           "ча1",
           "TYPE"
          ],
          [
           "подгузники",
           "TYPE"
          ],
          [
           "перец",
           "TYPE"
          ],
          [
           "бол",
           "TYPE"
          ],
          [
           "апеоьсины",
           "TYPE"
          ],
          [
           "вареньн",
           "TYPE"
          ],
          [
           "стельки",
           "TYPE"
          ],
          [
           "соус.",
           "TYPE"
          ],
          [
           "мелк",
           "TYPE"
          ],
          [
           "котлеьт",
           "TYPE"
          ],
          [
           "бана",
           "TYPE"
          ],
          [
           "паштет",
           "TYPE"
          ],
          [
           "мясной",
           "TYPE"
          ],
          [
           "сливочный",
           "TYPE"
          ],
          [
           "мацоне",
           "TYPE"
          ],
          [
           "ацидобифилин",
           "TYPE"
          ],
          [
           "подушк",
           "TYPE"
          ],
          [
           "рулоны",
           "TYPE"
          ],
          [
           "дрожевое",
           "TYPE"
          ],
          [
           "тесто",
           "TYPE"
          ],
          [
           "пакетики",
           "TYPE"
          ],
          [
           "для",
           "TYPE"
          ],
          [
           "мусора",
           "TYPE"
          ],
          [
           "сырок",
           "TYPE"
          ],
          [
           "для,",
           "TYPE"
          ],
          [
           "супа",
           "TYPE"
          ],
          [
           "сврокопченая",
           "TYPE"
          ],
          [
           "пшено",
           "TYPE"
          ],
          [
           "крем",
           "TYPE"
          ],
          [
           "суп",
           "TYPE"
          ],
          [
           "огурцч",
           "TYPE"
          ],
          [
           "нож",
           "TYPE"
          ],
          [
           "творожкиэ",
           "TYPE"
          ],
          [
           "чай",
           "TYPE"
          ],
          [
           "мохито",
           "TYPE"
          ],
          [
           "простоквашино",
           "TYPE"
          ],
          [
           "молочная",
           "TYPE"
          ],
          [
           "смесь",
           "TYPE"
          ],
          [
           "солыетки",
           "TYPE"
          ],
          [
           "бюстгальтера",
           "TYPE"
          ],
          [
           "гигиеническая",
           "TYPE"
          ],
          [
           "тортиоья",
           "TYPE"
          ],
          [
           "розово",
           "TYPE"
          ],
          [
           "колбаса",
           "TYPE"
          ],
          [
           "докторс",
           "TYPE"
          ],
          [
           "сыр",
           "TYPE"
          ],
          [
           "полутвердый",
           "TYPE"
          ],
          [
           "пиво",
           "TYPE"
          ],
          [
           "шауома",
           "TYPE"
          ],
          [
           "сахарозаменртель",
           "TYPE"
          ],
          [
           "пряност",
           "TYPE"
          ],
          [
           "штроты",
           "TYPE"
          ],
          [
           "пнтиперспирпнт",
           "TYPE"
          ],
          [
           "запеченные",
           "TYPE"
          ],
          [
           "сыр",
           "TYPE"
          ],
          [
           "плесени",
           "TYPE"
          ],
          [
           "творог",
           "TYPE"
          ],
          [
           "с",
           "TYPE"
          ],
          [
           "курагой",
           "TYPE"
          ],
          [
           "напиток",
           "TYPE"
          ],
          [
           "кофе",
           "TYPE"
          ],
          [
           "разрыхлитель",
           "TYPE"
          ],
          [
           "зонты",
           "TYPE"
          ],
          [
           "минеральная",
           "TYPE"
          ],
          [
           "вода",
           "TYPE"
          ],
          [
           "яиса",
           "TYPE"
          ],
          [
           "сигар",
           "TYPE"
          ],
          [
           "шуруповирт",
           "TYPE"
          ],
          [
           "кинза",
           "TYPE"
          ],
          [
           "шампанско",
           "TYPE"
          ],
          [
           "лимоны",
           "TYPE"
          ],
          [
           "липкая",
           "TYPE"
          ],
          [
           "лента",
           "TYPE"
          ],
          [
           "от",
           "TYPE"
          ],
          [
           "мух",
           "TYPE"
          ],
          [
           "лапша",
           "TYPE"
          ],
          [
           "лагман",
           "TYPE"
          ],
          [
           "подгузники",
           "TYPE"
          ],
          [
           "газировке",
           "TYPE"
          ],
          [
           "спетана",
           "TYPE"
          ],
          [
           "уксу",
           "TYPE"
          ],
          [
           "талица",
           "TYPE"
          ],
          [
           "зубнаяпа",
           "TYPE"
          ],
          [
           "подовые",
           "TYPE"
          ],
          [
           "коетчатка",
           "TYPE"
          ],
          [
           "шарики",
           "TYPE"
          ],
          [
           "первая",
           "TYPE"
          ],
          [
           "све",
           "TYPE"
          ],
          [
           "селяночка",
           "TYPE"
          ],
          [
           "перчатки",
           "TYPE"
          ],
          [
           "рис",
           "TYPE"
          ],
          [
           "круглозерный",
           "TYPE"
          ],
          [
           "саженец",
           "TYPE"
          ],
          [
           "степеры",
           "TYPE"
          ],
          [
           "тыородок",
           "TYPE"
          ],
          [
           "механические",
           "TYPE"
          ],
          [
           "сок",
           "TYPE"
          ],
          [
           "кобачков",
           "TYPE"
          ],
          [
           "сухой",
           "TYPE"
          ],
          [
           "корм",
           "TYPE"
          ],
          [
           "для",
           "TYPE"
          ],
          [
           "кошек",
           "TYPE"
          ],
          [
           "пурина",
           "TYPE"
          ],
          [
           "лисич4и",
           "TYPE"
          ],
          [
           "галстук",
           "TYPE"
          ],
          [
           "бадьян",
           "TYPE"
          ],
          [
           "соус",
           "TYPE"
          ],
          [
           "на",
           "TYPE"
          ],
          [
           "пиццу",
           "TYPE"
          ],
          [
           "средство",
           "TYPE"
          ],
          [
           "для",
           "TYPE"
          ],
          [
           "посуд",
           "TYPE"
          ],
          [
           "пше",
           "TYPE"
          ],
          [
           "краетки",
           "TYPE"
          ],
          [
           "оеденцы",
           "TYPE"
          ],
          [
           "прян",
           "TYPE"
          ],
          [
           "напитки",
           "TYPE"
          ],
          [
           "сокосодержащи",
           "TYPE"
          ],
          [
           "мармеладка",
           "TYPE"
          ],
          [
           "нппитки",
           "TYPE"
          ],
          [
           "трубочкв",
           "TYPE"
          ],
          [
           "биола",
           "TYPE"
          ],
          [
           "тарталетки",
           "TYPE"
          ],
          [
           "с",
           "TYPE"
          ],
          [
           "вишней",
           "TYPE"
          ],
          [
           "крахмар",
           "TYPE"
          ],
          [
           "эгергетики",
           "TYPE"
          ],
          [
           "патиссон",
           "TYPE"
          ],
          [
           "коксовая",
           "TYPE"
          ],
          [
           "мармелат",
           "TYPE"
          ],
          [
           "миски",
           "TYPE"
          ],
          [
           "макарно",
           "TYPE"
          ],
          [
           "курицу",
           "TYPE"
          ],
          [
           "гель",
           "TYPE"
          ],
          [
           "отбеливател",
           "TYPE"
          ],
          [
           "сухарикид",
           "TYPE"
          ],
          [
           "сырья",
           "TYPE"
          ],
          [
           "чеичевица",
           "TYPE"
          ],
          [
           "соды",
           "TYPE"
          ],
          [
           "колбаск",
           "TYPE"
          ],
          [
           "коржей",
           "TYPE"
          ],
          [
           "простоквашо",
           "TYPE"
          ],
          [
           "сусе",
           "TYPE"
          ],
          [
           "брусничн",
           "TYPE"
          ],
          [
           "щетки",
           "TYPE"
          ],
          [
           "малиновый",
           "TYPE"
          ],
          [
           "гель",
           "TYPE"
          ],
          [
           "доя",
           "TYPE"
          ],
          [
           "бритья",
           "TYPE"
          ],
          [
           "мокрроны",
           "TYPE"
          ],
          [
           "ванилинт",
           "TYPE"
          ],
          [
           "кола",
           "TYPE"
          ],
          [
           "без",
           "TYPE"
          ],
          [
           "саахара",
           "TYPE"
          ],
          [
           "муки",
           "TYPE"
          ],
          [
           "палочки",
           "TYPE"
          ],
          [
           "кукурузные",
           "TYPE"
          ],
          [
           "чай",
           "TYPE"
          ],
          [
           "в",
           "TYPE"
          ],
          [
           "пакетиках",
           "TYPE"
          ],
          [
           "згущенка",
           "TYPE"
          ],
          [
           "крем-мы",
           "TYPE"
          ],
          [
           "переходник",
           "TYPE"
          ],
          [
           "газмрованая",
           "TYPE"
          ],
          [
           "хала",
           "TYPE"
          ],
          [
           "пивной",
           "TYPE"
          ],
          [
           "напит",
           "TYPE"
          ],
          [
           "айсбеп",
           "TYPE"
          ],
          [
           "тверд",
           "TYPE"
          ],
          [
           "грудка",
           "TYPE"
          ],
          [
           "куринная",
           "TYPE"
          ],
          [
           "ручки",
           "TYPE"
          ],
          [
           "попикорн",
           "TYPE"
          ],
          [
           "кофе",
           "TYPE"
          ],
          [
           "салат",
           "TYPE"
          ],
          [
           "рашу",
           "TYPE"
          ],
          [
           "из",
           "TYPE"
          ],
          [
           "свинины",
           "TYPE"
          ],
          [
           "дезодорантз",
           "TYPE"
          ],
          [
           "чашки",
           "TYPE"
          ],
          [
           "овощная",
           "TYPE"
          ],
          [
           "смесь",
           "TYPE"
          ],
          [
           "колбасок",
           "TYPE"
          ],
          [
           "грушы",
           "TYPE"
          ],
          [
           "окмкое",
           "TYPE"
          ],
          [
           "сосиски",
           "TYPE"
          ],
          [
           "копченые",
           "TYPE"
          ],
          [
           "молоко",
           "TYPE"
          ],
          [
           "иинеральн",
           "TYPE"
          ],
          [
           "апетитка",
           "TYPE"
          ],
          [
           "яблоки",
           "TYPE"
          ],
          [
           "семиренко",
           "TYPE"
          ],
          [
           "заправка",
           "TYPE"
          ],
          [
           "для",
           "TYPE"
          ],
          [
           "ф",
           "TYPE"
          ],
          [
           "холодец",
           "TYPE"
          ],
          [
           "окорок",
           "TYPE"
          ],
          [
           "кубики",
           "TYPE"
          ],
          [
           "для",
           "TYPE"
          ],
          [
           "супа",
           "TYPE"
          ],
          [
           "кому-нибудь",
           "TYPE"
          ],
          [
           "letto",
           "TYPE"
          ],
          [
           "пирожных",
           "TYPE"
          ],
          [
           "зель",
           "TYPE"
          ],
          [
           "для",
           "TYPE"
          ],
          [
           "салата",
           "TYPE"
          ],
          [
           "мандариры",
           "TYPE"
          ],
          [
           "шампанское",
           "TYPE"
          ],
          [
           "пудинг",
           "TYPE"
          ],
          [
           "есенутки",
           "TYPE"
          ],
          [
           "соленны",
           "TYPE"
          ],
          [
           "карандаш",
           "TYPE"
          ],
          [
           "рис",
           "TYPE"
          ],
          [
           "пропарен",
           "TYPE"
          ],
          [
           "дернвенски",
           "TYPE"
          ],
          [
           "миски",
           "TYPE"
          ],
          [
           "цикор",
           "TYPE"
          ],
          [
           "пылесосы",
           "TYPE"
          ],
          [
           "бензин",
           "TYPE"
          ],
          [
           "помидьры",
           "TYPE"
          ],
          [
           "сыж",
           "TYPE"
          ],
          [
           "биоквас",
           "TYPE"
          ],
          [
           "драже",
           "TYPE"
          ],
          [
           "томя",
           "TYPE"
          ],
          [
           "яйуц",
           "TYPE"
          ],
          [
           "дрзодорант",
           "TYPE"
          ],
          [
           "пылесосов",
           "TYPE"
          ],
          [
           "тушенки",
           "TYPE"
          ],
          [
           "очистите",
           "TYPE"
          ],
          [
           "аэрозоль",
           "TYPE"
          ],
          [
           "журн",
           "TYPE"
          ],
          [
           "воды",
           "TYPE"
          ],
          [
           "минеральной",
           "TYPE"
          ],
          [
           "журнал",
           "TYPE"
          ],
          [
           "книг",
           "TYPE"
          ],
          [
           "корюшка",
           "TYPE"
          ],
          [
           "орех",
           "TYPE"
          ],
          [
           "в",
           "TYPE"
          ],
          [
           "шоколаде",
           "TYPE"
          ],
          [
           "холодця",
           "TYPE"
          ],
          [
           "ряженек",
           "TYPE"
          ],
          [
           "оливковое",
           "TYPE"
          ],
          [
           "масло",
           "TYPE"
          ],
          [
           "копченая",
           "TYPE"
          ],
          [
           "рыб",
           "TYPE"
          ],
          [
           "детская",
           "TYPE"
          ],
          [
           "фисташк",
           "TYPE"
          ],
          [
           "перепелинны",
           "TYPE"
          ],
          [
           "яйцо",
           "TYPE"
          ],
          [
           "куриное",
           "TYPE"
          ],
          [
           "с2",
           "TYPE"
          ],
          [
           "овсянкн",
           "TYPE"
          ],
          [
           "ребраа",
           "TYPE"
          ],
          [
           "зонт",
           "TYPE"
          ],
          [
           "зонтик",
           "TYPE"
          ],
          [
           "бирсая",
           "TYPE"
          ],
          [
           "мандари",
           "TYPE"
          ],
          [
           "ос",
           "TYPE"
          ],
          [
           "ореха",
           "TYPE"
          ],
          [
           "бананц",
           "TYPE"
          ],
          [
           "саш",
           "TYPE"
          ],
          [
           "закуска",
           "TYPE"
          ],
          [
           "по",
           "TYPE"
          ],
          [
           "венгерски",
           "TYPE"
          ],
          [
           "каруста",
           "TYPE"
          ],
          [
           "квашеная",
           "TYPE"
          ],
          [
           "с",
           "TYPE"
          ],
          [
           "клю",
           "TYPE"
          ],
          [
           "сыр",
           "TYPE"
          ],
          [
           "легкий",
           "TYPE"
          ],
          [
           "пшёнка",
           "TYPE"
          ],
          [
           "колгот.",
           "TYPE"
          ],
          [
           "кастрюли",
           "TYPE"
          ],
          [
           "гель",
           "TYPE"
          ],
          [
           "иогурьы",
           "TYPE"
          ],
          [
           "крол",
           "TYPE"
          ],
          [
           "дамплинг",
           "TYPE"
          ],
          [
           "митнай",
           "TYPE"
          ],
          [
           "гель",
           "TYPE"
          ],
          [
           "посое",
           "TYPE"
          ],
          [
           "бритья",
           "TYPE"
          ],
          [
           "хек",
           "TYPE"
          ],
          [
           "приправа",
           "TYPE"
          ],
          [
           "длч",
           "TYPE"
          ],
          [
           "плова",
           "TYPE"
          ],
          [
           "мармелад",
           "TYPE"
          ],
          [
           "с",
           "TYPE"
          ],
          [
           "плавленн",
           "TYPE"
          ],
          [
           "пудин",
           "TYPE"
          ],
          [
           "паштеты",
           "TYPE"
          ],
          [
           "мясные",
           "TYPE"
          ],
          [
           "карп",
           "TYPE"
          ],
          [
           "чай",
           "TYPE"
          ],
          [
           "зава",
           "TYPE"
          ],
          [
           "для",
           "TYPE"
          ],
          [
           "сок",
           "TYPE"
          ],
          [
           "дет",
           "TYPE"
          ],
          [
           "чистолан",
           "TYPE"
          ],
          [
           "пылесо",
           "TYPE"
          ],
          [
           "сыр",
           "TYPE"
          ],
          [
           "плавленый",
           "TYPE"
          ],
          [
           "рассольника",
           "TYPE"
          ],
          [
           "маная",
           "TYPE"
          ],
          [
           "сахарозаме",
           "TYPE"
          ],
          [
           "простокуашино",
           "TYPE"
          ],
          [
           "пломбирныц",
           "TYPE"
          ],
          [
           "морожна",
           "TYPE"
          ],
          [
           "полатенце",
           "TYPE"
          ],
          [
           "молоео",
           "TYPE"
          ],
          [
           "бутербродная",
           "TYPE"
          ],
          [
           "глази",
           "TYPE"
          ],
          [
           "петрущка",
           "TYPE"
          ],
          [
           "прокладкий",
           "TYPE"
          ],
          [
           "иасло",
           "TYPE"
          ],
          [
           "сливочное",
           "TYPE"
          ],
          [
           "масло",
           "TYPE"
          ],
          [
           "растительное",
           "TYPE"
          ],
          [
           "скороварак",
           "TYPE"
          ],
          [
           "кардамон",
           "TYPE"
          ],
          [
           "специи",
           "TYPE"
          ],
          [
           "для",
           "TYPE"
          ],
          [
           "супа",
           "TYPE"
          ],
          [
           "ветчинс",
           "TYPE"
          ],
          [
           "кокос",
           "TYPE"
          ],
          [
           "кременкульское",
           "TYPE"
          ],
          [
           "моокоо",
           "TYPE"
          ],
          [
           "сардельк",
           "TYPE"
          ],
          [
           "соленой",
           "TYPE"
          ],
          [
           "лимоннач",
           "TYPE"
          ],
          [
           "кастрюли",
           "TYPE"
          ],
          [
           "кокосы",
           "TYPE"
          ],
          [
           "греческв",
           "TYPE"
          ],
          [
           "чеснок",
           "TYPE"
          ],
          [
           "сушоный",
           "TYPE"
          ],
          [
           "пиво",
           "TYPE"
          ],
          [
           "нефильтрованное",
           "TYPE"
          ],
          [
           "руккола",
           "TYPE"
          ],
          [
           "подсвечнико",
           "TYPE"
          ],
          [
           "пергаме",
           "TYPE"
          ],
          [
           "риет",
           "TYPE"
          ],
          [
           "с",
           "TYPE"
          ],
          [
           "горбу",
           "TYPE"
          ],
          [
           "пюре",
           "TYPE"
          ],
          [
           "с",
           "TYPE"
          ],
          [
           "сухариками",
           "TYPE"
          ],
          [
           "разрыхлитель",
           "TYPE"
          ],
          [
           "ванилин",
           "TYPE"
          ],
          [
           "трубочка",
           "TYPE"
          ],
          [
           "соломка",
           "TYPE"
          ],
          [
           "сосис.",
           "TYPE"
          ],
          [
           "крёкер",
           "TYPE"
          ],
          [
           "глобал",
           "TYPE"
          ],
          [
           "сок",
           "TYPE"
          ],
          [
           "гранат",
           "TYPE"
          ],
          [
           "конья",
           "TYPE"
          ],
          [
           "греческого",
           "TYPE"
          ],
          [
           "карторшка",
           "TYPE"
          ],
          [
           "рулет",
           "TYPE"
          ],
          [
           "планирвщики",
           "TYPE"
          ],
          [
           "пемок",
           "TYPE"
          ],
          [
           "томленое",
           "TYPE"
          ],
          [
           "вода",
           "TYPE"
          ],
          [
           "без",
           "TYPE"
          ],
          [
           "газа",
           "TYPE"
          ],
          [
           "чипсы",
           "TYPE"
          ],
          [
           "лейс",
           "TYPE"
          ],
          [
           "зонты",
           "TYPE"
          ],
          [
           "мини",
           "TYPE"
          ],
          [
           "хлеб",
           "TYPE"
          ],
          [
           "злака",
           "TYPE"
          ],
          [
           "минтай",
           "TYPE"
          ],
          [
           "без",
           "TYPE"
          ],
          [
           "кожи",
           "TYPE"
          ],
          [
           "перчатки",
           "TYPE"
          ],
          [
           "сырнрки",
           "TYPE"
          ],
          [
           "пельмениг",
           "TYPE"
          ],
          [
           "мельница",
           "TYPE"
          ],
          [
           "ог2рцы",
           "TYPE"
          ],
          [
           "диск",
           "TYPE"
          ],
          [
           "мермеладки",
           "TYPE"
          ],
          [
           "календа",
           "TYPE"
          ],
          [
           "мешки",
           "TYPE"
          ],
          [
           "для",
           "TYPE"
          ],
          [
           "мусора",
           "TYPE"
          ],
          [
           "крабоаые",
           "TYPE"
          ],
          [
           "красное",
           "TYPE"
          ],
          [
           "серфилат",
           "TYPE"
          ],
          [
           "ветчина",
           "TYPE"
          ],
          [
           "из",
           "TYPE"
          ],
          [
           "грудки",
           "TYPE"
          ],
          [
           "саженец",
           "TYPE"
          ],
          [
           "бананыц",
           "TYPE"
          ],
          [
           "рассольный",
           "TYPE"
          ],
          [
           "икра",
           "TYPE"
          ],
          [
           "лососево",
           "TYPE"
          ],
          [
           "ежэдневные",
           "TYPE"
          ],
          [
           "шпмпиньоны",
           "TYPE"
          ],
          [
           "тыквв",
           "TYPE"
          ],
          [
           "перец",
           "TYPE"
          ],
          [
           "горошком",
           "TYPE"
          ],
          [
           "деликат",
           "TYPE"
          ],
          [
           "чипсы",
           "TYPE"
          ],
          [
           "бат",
           "TYPE"
          ],
          [
           "прочий",
           "TYPE"
          ],
          [
           "освежитель",
           "TYPE"
          ],
          [
           "шафран",
           "TYPE"
          ],
          [
           "сельдеоей",
           "TYPE"
          ],
          [
           "компо",
           "TYPE"
          ],
          [
           "иогуит",
           "TYPE"
          ],
          [
           "чечевицан",
           "TYPE"
          ],
          [
           "компот",
           "TYPE"
          ],
          [
           "охлажденное",
           "TYPE"
          ],
          [
           "маслом",
           "TYPE"
          ],
          [
           "маслок",
           "TYPE"
          ],
          [
           "ананнас",
           "TYPE"
          ],
          [
           "удаление",
           "TYPE"
          ],
          [
           "ско",
           "TYPE"
          ],
          [
           "кофенйик",
           "TYPE"
          ],
          [
           "охотничнье",
           "TYPE"
          ],
          [
           "сыр",
           "TYPE"
          ],
          [
           "тертый",
           "TYPE"
          ],
          [
           "сулугуни",
           "TYPE"
          ],
          [
           "газирово",
           "TYPE"
          ],
          [
           "оматы",
           "TYPE"
          ],
          [
           "шампиноны",
           "TYPE"
          ],
          [
           "хлеб",
           "TYPE"
          ],
          [
           "пюре",
           "TYPE"
          ],
          [
           "фруктовое",
           "TYPE"
          ],
          [
           "сыр",
           "TYPE"
          ],
          [
           "полутверд",
           "TYPE"
          ],
          [
           "сапожки",
           "TYPE"
          ],
          [
           "котфет",
           "TYPE"
          ],
          [
           "пурина",
           "TYPE"
          ],
          [
           "для",
           "TYPE"
          ],
          [
           "собак",
           "TYPE"
          ],
          [
           "прягик",
           "TYPE"
          ],
          [
           "фрикаделтки",
           "TYPE"
          ],
          [
           "крабое",
           "TYPE"
          ],
          [
           "яйогурт",
           "TYPE"
          ],
          [
           "без",
           "TYPE"
          ],
          [
           "дрожжевой",
           "TYPE"
          ],
          [
           "хлеб",
           "TYPE"
          ],
          [
           "клубникк",
           "TYPE"
          ],
          [
           "завтраки",
           "TYPE"
          ],
          [
           "рись",
           "TYPE"
          ],
          [
           "для",
           "TYPE"
          ],
          [
           "плов",
           "TYPE"
          ],
          [
           "мандарины",
           "TYPE"
          ],
          [
           "сельдь",
           "TYPE"
          ],
          [
           "куринный",
           "TYPE"
          ],
          [
           "бумажные",
           "TYPE"
          ],
          [
           "салфет",
           "TYPE"
          ],
          [
           "крабоавые",
           "TYPE"
          ],
          [
           "печенье",
           "TYPE"
          ],
          [
           "овсяное",
           "TYPE"
          ],
          [
           "с",
           "TYPE"
          ],
          [
           "изюмом",
           "TYPE"
          ],
          [
           "вареные",
           "TYPE"
          ],
          [
           "хозяйствкнное",
           "TYPE"
          ],
          [
           "шоколпдку",
           "TYPE"
          ],
          [
           "салчичен",
           "TYPE"
          ],
          [
           "кукурузная",
           "TYPE"
          ],
          [
           "крупа",
           "TYPE"
          ],
          [
           "сардельки",
           "TYPE"
          ],
          [
           "льнян",
           "TYPE"
          ],
          [
           "приправа",
           "TYPE"
          ],
          [
           "для",
           "TYPE"
          ],
          [
           "макорон",
           "TYPE"
          ],
          [
           "сигареты",
           "TYPE"
          ],
          [
           "спагеити",
           "TYPE"
          ],
          [
           "мишки",
           "TYPE"
          ],
          [
           "для",
           "TYPE"
          ],
          [
           "мо",
           "TYPE"
          ],
          [
           "м&m",
           "TYPE"
          ],
          [
           "лукумы",
           "TYPE"
          ],
          [
           "добрые",
           "TYPE"
          ],
          [
           "трески",
           "TYPE"
          ],
          [
           "прочие",
           "TYPE"
          ],
          [
           "пирожн",
           "TYPE"
          ],
          [
           "виногре",
           "TYPE"
          ],
          [
           "печень",
           "TYPE"
          ],
          [
           "цыпленка",
           "TYPE"
          ],
          [
           "приправа",
           "TYPE"
          ],
          [
           "лимон",
           "TYPE"
          ],
          [
           "саженцы",
           "TYPE"
          ],
          [
           "топленное",
           "TYPE"
          ],
          [
           "пряди",
           "TYPE"
          ],
          [
           "ополаскиватель",
           "TYPE"
          ],
          [
           "руассаны",
           "TYPE"
          ],
          [
           "полукпчене",
           "TYPE"
          ],
          [
           "колбасное",
           "TYPE"
          ],
          [
           "кокосово",
           "TYPE"
          ],
          [
           "водага",
           "TYPE"
          ],
          [
           "каклеты",
           "TYPE"
          ],
          [
           "желатрн",
           "TYPE"
          ],
          [
           "менералка",
           "TYPE"
          ],
          [
           "игрушк",
           "TYPE"
          ],
          [
           "кондиционер",
           "TYPE"
          ],
          [
           "доя",
           "TYPE"
          ],
          [
           "стирки",
           "TYPE"
          ],
          [
           "сордство",
           "TYPE"
          ],
          [
           "вяблоки",
           "TYPE"
          ],
          [
           "вино6рад",
           "TYPE"
          ],
          [
           "кофе",
           "TYPE"
          ],
          [
           "зерна",
           "TYPE"
          ],
          [
           "черный",
           "TYPE"
          ],
          [
           "кабан",
           "TYPE"
          ],
          [
           "крек",
           "TYPE"
          ],
          [
           "шоколад",
           "TYPE"
          ],
          [
           "с",
           "TYPE"
          ],
          [
           "вафлей",
           "TYPE"
          ],
          [
           "сливики",
           "TYPE"
          ],
          [
           "одноразовые",
           "TYPE"
          ],
          [
           "пакеты",
           "TYPE"
          ],
          [
           "чпрноголовка",
           "TYPE"
          ],
          [
           "супы",
           "TYPE"
          ],
          [
           "замороженные",
           "TYPE"
          ],
          [
           "вяленый",
           "TYPE"
          ],
          [
           "брогс",
           "TYPE"
          ],
          [
           "солонина",
           "TYPE"
          ],
          [
           "томатныц",
           "TYPE"
          ],
          [
           "акрдамон",
           "TYPE"
          ],
          [
           "виногрмд",
           "TYPE"
          ],
          [
           "рассо",
           "TYPE"
          ],
          [
           "суфле",
           "TYPE"
          ],
          [
           "газированная",
           "TYPE"
          ],
          [
           "минералка",
           "TYPE"
          ],
          [
           "фрккты",
           "TYPE"
          ],
          [
           "жаркое",
           "TYPE"
          ],
          [
           "помидори",
           "TYPE"
          ],
          [
           "средство",
           "TYPE"
          ],
          [
           "для",
           "TYPE"
          ],
          [
           "окон",
           "TYPE"
          ],
          [
           "фруа",
           "TYPE"
          ],
          [
           "клубуника",
           "TYPE"
          ],
          [
           "grosse",
           "TYPE"
          ],
          [
           "тесто",
           "TYPE"
          ],
          [
           "для",
           "TYPE"
          ],
          [
           "пел",
           "TYPE"
          ],
          [
           "помидора",
           "TYPE"
          ],
          [
           "булоча",
           "TYPE"
          ],
          [
           "тростниковый",
           "TYPE"
          ],
          [
           "сахар",
           "TYPE"
          ],
          [
           "суаре",
           "TYPE"
          ],
          [
           "сухие",
           "TYPE"
          ],
          [
           "салфетки",
           "TYPE"
          ],
          [
           "ацидофильн",
           "TYPE"
          ],
          [
           "диетице",
           "TYPE"
          ],
          [
           "гречеевая",
           "TYPE"
          ],
          [
           "колбасо",
           "TYPE"
          ],
          [
           "витаминная",
           "TYPE"
          ],
          [
           "стекломои",
           "TYPE"
          ],
          [
           "заливные",
           "TYPE"
          ],
          [
           "саше",
           "TYPE"
          ],
          [
           "овсянкп",
           "TYPE"
          ],
          [
           "оья",
           "TYPE"
          ],
          [
           "ятца",
           "TYPE"
          ],
          [
           "кесс-салата",
           "TYPE"
          ],
          [
           "огурцн",
           "TYPE"
          ],
          [
           "суханики",
           "TYPE"
          ],
          [
           "желат",
           "TYPE"
          ],
          [
           "ультрапастеризованное",
           "TYPE"
          ],
          [
           "эг",
           "TYPE"
          ],
          [
           "коз",
           "TYPE"
          ],
          [
           "компоь",
           "TYPE"
          ],
          [
           "ароматизатор",
           "TYPE"
          ],
          [
           "для",
           "TYPE"
          ],
          [
           "унитаза",
           "TYPE"
          ],
          [
           "компьюте",
           "TYPE"
          ],
          [
           "ваненики",
           "TYPE"
          ],
          [
           "носки",
           "TYPE"
          ],
          [
           "мрорженое",
           "TYPE"
          ],
          [
           "бумажные",
           "TYPE"
          ],
          [
           "скатерт",
           "TYPE"
          ],
          [
           "слики",
           "TYPE"
          ],
          [
           "схе",
           "TYPE"
          ],
          [
           "энергетиа",
           "TYPE"
          ],
          [
           "икра",
           "TYPE"
          ],
          [
           "имит",
           "TYPE"
          ],
          [
           "макарнв",
           "TYPE"
          ],
          [
           "томатов",
           "TYPE"
          ],
          [
           "сосисаи",
           "TYPE"
          ],
          [
           "туалетная",
           "TYPE"
          ],
          [
           "бума",
           "TYPE"
          ],
          [
           "брокколл",
           "TYPE"
          ],
          [
           "горчичный",
           "TYPE"
          ],
          [
           "наборы",
           "TYPE"
          ],
          [
           "электрони",
           "TYPE"
          ],
          [
           "бургерная",
           "TYPE"
          ],
          [
           "мюсли",
           "TYPE"
          ],
          [
           "тан",
           "TYPE"
          ],
          [
           "свитлогорь",
           "TYPE"
          ],
          [
           "рассады",
           "TYPE"
          ],
          [
           "тесто",
           "TYPE"
          ],
          [
           "дл",
           "TYPE"
          ],
          [
           "пельменей",
           "TYPE"
          ],
          [
           "шампиньона",
           "TYPE"
          ],
          [
           "еса",
           "TYPE"
          ],
          [
           "бумажные",
           "TYPE"
          ],
          [
           "полотен",
           "TYPE"
          ],
          [
           "сок",
           "TYPE"
          ],
          [
           "с",
           "TYPE"
          ],
          [
           "мякот",
           "TYPE"
          ],
          [
           "котлкты",
           "TYPE"
          ],
          [
           "айсюерг",
           "TYPE"
          ],
          [
           "соления",
           "TYPE"
          ],
          [
           "рубашки,",
           "TYPE"
          ],
          [
           "сорочки",
           "TYPE"
          ],
          [
           "ирис",
           "TYPE"
          ],
          [
           "одеял",
           "TYPE"
          ],
          [
           "сушка",
           "TYPE"
          ],
          [
           "капченая",
           "TYPE"
          ],
          [
           "наволочек",
           "TYPE"
          ],
          [
           "соус",
           "TYPE"
          ],
          [
           "для",
           "TYPE"
          ],
          [
           "р",
           "TYPE"
          ],
          [
           "сливки",
           "TYPE"
          ],
          [
           "питьево",
           "TYPE"
          ],
          [
           "тортни",
           "TYPE"
          ],
          [
           "прочие",
           "TYPE"
          ],
          [
           "средст",
           "TYPE"
          ],
          [
           "кавказский",
           "TYPE"
          ],
          [
           "сода",
           "TYPE"
          ],
          [
           "тыорок",
           "TYPE"
          ],
          [
           "сыр",
           "TYPE"
          ],
          [
           "твердый",
           "TYPE"
          ],
          [
           "ванильный",
           "TYPE"
          ],
          [
           "сыр",
           "TYPE"
          ],
          [
           "президент",
           "TYPE"
          ],
          [
           "бри",
           "TYPE"
          ],
          [
           "папки",
           "TYPE"
          ],
          [
           "канцелярски",
           "TYPE"
          ],
          [
           "крусассан",
           "TYPE"
          ],
          [
           "посуд",
           "TYPE"
          ],
          [
           "перец",
           "TYPE"
          ],
          [
           "мельница",
           "TYPE"
          ],
          [
           "аппльсины",
           "TYPE"
          ],
          [
           "одеяла",
           "TYPE"
          ],
          [
           "мороженое",
           "TYPE"
          ],
          [
           "пломбир",
           "TYPE"
          ],
          [
           "масляная",
           "TYPE"
          ],
          [
           "рыба",
           "TYPE"
          ],
          [
           "яйццо",
           "TYPE"
          ],
          [
           "средство",
           "TYPE"
          ],
          [
           "чистящее",
           "TYPE"
          ],
          [
           "лотте",
           "TYPE"
          ],
          [
           "помидоор",
           "TYPE"
          ],
          [
           "клюкв",
           "TYPE"
          ],
          [
           "жквачка",
           "TYPE"
          ],
          [
           "нектари",
           "TYPE"
          ],
          [
           "калачи",
           "TYPE"
          ],
          [
           "бублики",
           "TYPE"
          ],
          [
           "желатмн",
           "TYPE"
          ],
          [
           "апельсинв",
           "TYPE"
          ],
          [
           "майонез",
           "TYPE"
          ],
          [
           "таблетк",
           "TYPE"
          ],
          [
           "горбушка",
           "TYPE"
          ],
          [
           "тарталеткию",
           "TYPE"
          ],
          [
           "какуруза",
           "TYPE"
          ],
          [
           "вбтесливки",
           "TYPE"
          ],
          [
           "эеергетик",
           "TYPE"
          ],
          [
           "эдомамэ",
           "TYPE"
          ],
          [
           "тетрдаь",
           "TYPE"
          ],
          [
           "наполнитель",
           "TYPE"
          ],
          [
           "для",
           "TYPE"
          ],
          [
           "коша",
           "TYPE"
          ],
          [
           "прочая",
           "TYPE"
          ],
          [
           "замороженна",
           "TYPE"
          ],
          [
           "чай",
           "TYPE"
          ],
          [
           "листо",
           "TYPE"
          ],
          [
           "туалетны",
           "TYPE"
          ],
          [
           "хлопья",
           "TYPE"
          ],
          [
           "овсян",
           "TYPE"
          ],
          [
           "яйцо",
           "TYPE"
          ],
          [
           "куринно",
           "TYPE"
          ],
          [
           "стирательный",
           "TYPE"
          ],
          [
           "ошейник",
           "TYPE"
          ],
          [
           "томям",
           "TYPE"
          ],
          [
           "влажный",
           "TYPE"
          ],
          [
           "корм",
           "TYPE"
          ],
          [
           "кошкам",
           "TYPE"
          ],
          [
           "тортилиль",
           "TYPE"
          ],
          [
           "яослал",
           "TYPE"
          ],
          [
           "сулугуни",
           "TYPE"
          ],
          [
           "сердце",
           "TYPE"
          ],
          [
           "куриное",
           "TYPE"
          ],
          [
           "медальены",
           "TYPE"
          ],
          [
           "пирожнни",
           "TYPE"
          ],
          [
           "хлорьч",
           "TYPE"
          ],
          [
           "зубная",
           "TYPE"
          ],
          [
           "паст",
           "TYPE"
          ],
          [
           "чая",
           "TYPE"
          ],
          [
           "ассорт",
           "TYPE"
          ],
          [
           "фрогурт",
           "TYPE"
          ],
          [
           "крабовы",
           "TYPE"
          ],
          [
           "корм",
           "TYPE"
          ],
          [
           "дл",
           "TYPE"
          ],
          [
           "собак",
           "TYPE"
          ],
          [
           "слойка",
           "TYPE"
          ],
          [
           "с",
           "TYPE"
          ],
          [
           "ветч",
           "TYPE"
          ],
          [
           "гранулы",
           "TYPE"
          ],
          [
           "белезн",
           "TYPE"
          ],
          [
           "соевы",
           "TYPE"
          ],
          [
           "эинкали",
           "TYPE"
          ],
          [
           "кукурущ",
           "TYPE"
          ],
          [
           "онигирии",
           "TYPE"
          ],
          [
           "ребра",
           "TYPE"
          ],
          [
           "копчёные",
           "TYPE"
          ],
          [
           "рен",
           "TYPE"
          ],
          [
           "гтовы",
           "TYPE"
          ],
          [
           "диптон",
           "TYPE"
          ],
          [
           "пельбени",
           "TYPE"
          ],
          [
           "сырки",
           "TYPE"
          ],
          [
           "творожн",
           "TYPE"
          ],
          [
           "бренди",
           "TYPE"
          ],
          [
           "мармелада",
           "TYPE"
          ],
          [
           "желейног",
           "TYPE"
          ],
          [
           "ежедневник",
           "TYPE"
          ],
          [
           "прочие",
           "TYPE"
          ],
          [
           "поводки",
           "TYPE"
          ],
          [
           "попорн",
           "TYPE"
          ],
          [
           "укроп",
           "TYPE"
          ],
          [
           "зубочистка",
           "TYPE"
          ],
          [
           "бриошь",
           "TYPE"
          ],
          [
           "колбаса9",
           "TYPE"
          ],
          [
           "зарядные",
           "TYPE"
          ],
          [
           "устройства",
           "TYPE"
          ],
          [
           "темьо",
           "TYPE"
          ],
          [
           "для",
           "TYPE"
          ],
          [
           "чебурек",
           "TYPE"
          ],
          [
           "антипеспирант",
           "TYPE"
          ],
          [
           "черносли",
           "TYPE"
          ],
          [
           "майонез",
           "TYPE"
          ],
          [
           "птица",
           "TYPE"
          ],
          [
           "жел",
           "TYPE"
          ],
          [
           "саххар",
           "TYPE"
          ],
          [
           "розовы",
           "TYPE"
          ],
          [
           "моркрвт",
           "TYPE"
          ],
          [
           "кукурузные",
           "TYPE"
          ],
          [
           "палочк",
           "TYPE"
          ],
          [
           "облепихи",
           "TYPE"
          ],
          [
           "круж",
           "TYPE"
          ],
          [
           "амун",
           "TYPE"
          ],
          [
           "холбаса",
           "TYPE"
          ],
          [
           "nvgaor",
           "TYPE"
          ],
          [
           "семечкг",
           "TYPE"
          ],
          [
           "пюре",
           "TYPE"
          ],
          [
           "кролик",
           "TYPE"
          ],
          [
           "грили",
           "TYPE"
          ],
          [
           "целень",
           "TYPE"
          ],
          [
           "сесечки",
           "TYPE"
          ],
          [
           "нутклл",
           "TYPE"
          ],
          [
           "яйцо",
           "TYPE"
          ],
          [
           "ку",
           "TYPE"
          ],
          [
           "сельду",
           "TYPE"
          ],
          [
           "фруктоз",
           "TYPE"
          ],
          [
           "кукурузой",
           "TYPE"
          ],
          [
           "сухарие",
           "TYPE"
          ],
          [
           "кольца",
           "TYPE"
          ],
          [
           "творожные",
           "TYPE"
          ],
          [
           "фарфа",
           "TYPE"
          ],
          [
           "коньяк",
           "TYPE"
          ],
          [
           "оаденое",
           "TYPE"
          ],
          [
           "салфеткт",
           "TYPE"
          ],
          [
           "молоко",
           "TYPE"
          ],
          [
           "блинчики",
           "TYPE"
          ],
          [
           "шампань",
           "TYPE"
          ],
          [
           "сухой",
           "TYPE"
          ],
          [
           "корм",
           "TYPE"
          ],
          [
           "доя",
           "TYPE"
          ],
          [
           "собак",
           "TYPE"
          ],
          [
           "пельмееи",
           "TYPE"
          ],
          [
           "вишка",
           "TYPE"
          ],
          [
           "огуреец",
           "TYPE"
          ],
          [
           "экзо",
           "TYPE"
          ],
          [
           "оладу",
           "TYPE"
          ],
          [
           "белый",
           "TYPE"
          ],
          [
           "йогурт",
           "TYPE"
          ],
          [
           "калбасу",
           "TYPE"
          ],
          [
           "кефирр",
           "TYPE"
          ],
          [
           "слойка",
           "TYPE"
          ],
          [
           "с",
           "TYPE"
          ],
          [
           "вишне",
           "TYPE"
          ],
          [
           "фитнес-яксессуары",
           "TYPE"
          ],
          [
           "мыло",
           "TYPE"
          ],
          [
           "дет",
           "TYPE"
          ],
          [
           "грановый",
           "TYPE"
          ],
          [
           "ополаскиватель",
           "TYPE"
          ],
          [
           "лоя",
           "TYPE"
          ],
          [
           "белья",
           "TYPE"
          ],
          [
           "оладьи",
           "TYPE"
          ],
          [
           "корм",
           "TYPE"
          ],
          [
           "бля",
           "TYPE"
          ],
          [
           "собак",
           "TYPE"
          ],
          [
           "сыр",
           "TYPE"
          ],
          [
           "колбасный",
           "TYPE"
          ],
          [
           "tabl",
           "TYPE"
          ],
          [
           "наггетвы",
           "TYPE"
          ],
          [
           "грунты,",
           "TYPE"
          ],
          [
           "торф",
           "TYPE"
          ],
          [
           "улт",
           "TYPE"
          ],
          [
           "майонещ",
           "TYPE"
          ],
          [
           "ка",
           "TYPE"
          ],
          [
           "ветчинные",
           "TYPE"
          ],
          [
           "прочее",
           "TYPE"
          ],
          [
           "молок",
           "TYPE"
          ],
          [
           "онигирин",
           "TYPE"
          ],
          [
           "тряпки",
           "TYPE"
          ],
          [
           "кантофель",
           "TYPE"
          ],
          [
           "перец",
           "TYPE"
          ],
          [
           "душистый",
           "TYPE"
          ],
          [
           "бомбар",
           "TYPE"
          ],
          [
           "сосиски",
           "TYPE"
          ],
          [
           "колбаса",
           "TYPE"
          ],
          [
           "док",
           "TYPE"
          ],
          [
           "ватружки",
           "TYPE"
          ],
          [
           "уневерсальная",
           "TYPE"
          ],
          [
           "оладиь",
           "TYPE"
          ],
          [
           "кариофел",
           "TYPE"
          ],
          [
           "табак",
           "TYPE"
          ],
          [
           "хрен",
           "TYPE"
          ],
          [
           "столовый",
           "TYPE"
          ],
          [
           "жвачки",
           "TYPE"
          ],
          [
           "зубочистки",
           "TYPE"
          ],
          [
           "кабачковпя",
           "TYPE"
          ],
          [
           "малино",
           "TYPE"
          ],
          [
           "пюре",
           "TYPE"
          ],
          [
           "детское",
           "TYPE"
          ],
          [
           "фруктовое",
           "TYPE"
          ],
          [
           "чипсы",
           "TYPE"
          ],
          [
           "с",
           "TYPE"
          ],
          [
           "соломкой",
           "TYPE"
          ],
          [
           "крувссаны",
           "TYPE"
          ],
          [
           "фольга",
           "TYPE"
          ],
          [
           "чудо",
           "TYPE"
          ],
          [
           "шоколадное",
           "TYPE"
          ],
          [
           "котлета",
           "TYPE"
          ],
          [
           "по",
           "TYPE"
          ],
          [
           "киевски",
           "TYPE"
          ],
          [
           "оусы",
           "TYPE"
          ],
          [
           "банановый",
           "TYPE"
          ],
          [
           "дворники",
           "TYPE"
          ],
          [
           "мяч",
           "TYPE"
          ],
          [
           "сочники",
           "TYPE"
          ],
          [
           "желатие",
           "TYPE"
          ],
          [
           "чухарики",
           "TYPE"
          ],
          [
           "грюнландер",
           "TYPE"
          ],
          [
           "кофейн",
           "TYPE"
          ],
          [
           "сыр",
           "TYPE"
          ],
          [
           "творожный",
           "TYPE"
          ],
          [
           "с",
           "TYPE"
          ],
          [
           "авокадо",
           "TYPE"
          ],
          [
           "груши",
           "TYPE"
          ],
          [
           "сухой",
           "TYPE"
          ],
          [
           "корм",
           "TYPE"
          ],
          [
           "слойка",
           "TYPE"
          ],
          [
           "совком",
           "TYPE"
          ],
          [
           "мят",
           "TYPE"
          ],
          [
           "олив",
           "TYPE"
          ],
          [
           "средство",
           "TYPE"
          ],
          [
           "для",
           "TYPE"
          ],
          [
           "мытья",
           "TYPE"
          ],
          [
           "пос",
           "TYPE"
          ],
          [
           "купаты",
           "TYPE"
          ],
          [
           "пирож",
           "TYPE"
          ],
          [
           "кеичуп",
           "TYPE"
          ],
          [
           "ощна",
           "TYPE"
          ],
          [
           "смсь",
           "TYPE"
          ],
          [
           "огуурцы",
           "TYPE"
          ],
          [
           "капсульный",
           "TYPE"
          ],
          [
           "скумбри",
           "TYPE"
          ],
          [
           "оасянка",
           "TYPE"
          ],
          [
           "сметана",
           "TYPE"
          ],
          [
           "творог",
           "TYPE"
          ],
          [
           "зер",
           "TYPE"
          ],
          [
           "сузофрукты",
           "TYPE"
          ],
          [
           "соевый",
           "TYPE"
          ],
          [
           "соус",
           "TYPE"
          ],
          [
           "миниралкка",
           "TYPE"
          ],
          [
           "сыр",
           "TYPE"
          ],
          [
           "творожный",
           "TYPE"
          ],
          [
           "овощи",
           "TYPE"
          ],
          [
           "гриль",
           "TYPE"
          ],
          [
           "белое",
           "TYPE"
          ],
          [
           "кортофель",
           "TYPE"
          ],
          [
           "сахар",
           "TYPE"
          ],
          [
           "рафинат",
           "TYPE"
          ],
          [
           "аартофель",
           "TYPE"
          ],
          [
           "сосчиски",
           "TYPE"
          ],
          [
           "жидкость",
           "TYPE"
          ],
          [
           "для",
           "TYPE"
          ],
          [
           "роз",
           "TYPE"
          ],
          [
           "сладкий",
           "TYPE"
          ],
          [
           "чили",
           "TYPE"
          ],
          [
           "шоколад",
           "TYPE"
          ],
          [
           "без",
           "TYPE"
          ],
          [
           "сахар",
           "TYPE"
          ],
          [
           "стерилизованное",
           "TYPE"
          ],
          [
           "молоко",
           "TYPE"
          ],
          [
           "хагис",
           "TYPE"
          ],
          [
           "прочая",
           "TYPE"
          ],
          [
           "технич",
           "TYPE"
          ],
          [
           "шампиньонф",
           "TYPE"
          ],
          [
           "грушк",
           "TYPE"
          ],
          [
           "колбаски",
           "TYPE"
          ],
          [
           "молоко",
           "TYPE"
          ],
          [
           "тест",
           "TYPE"
          ],
          [
           "на",
           "TYPE"
          ],
          [
           "растения",
           "TYPE"
          ],
          [
           "сыровялен",
           "TYPE"
          ],
          [
           "тортилий",
           "TYPE"
          ],
          [
           "отб",
           "TYPE"
          ],
          [
           "чай",
           "TYPE"
          ],
          [
           "чер",
           "TYPE"
          ],
          [
           "грудка",
           "TYPE"
          ],
          [
           "куриная",
           "TYPE"
          ],
          [
           "копченая",
           "TYPE"
          ],
          [
           "индейка",
           "TYPE"
          ],
          [
           "грудка",
           "TYPE"
          ],
          [
           "панировочны",
           "TYPE"
          ],
          [
           "взбитые",
           "TYPE"
          ],
          [
           "сливки",
           "TYPE"
          ],
          [
           "рис",
           "TYPE"
          ],
          [
           "мак",
           "TYPE"
          ],
          [
           "тампо",
           "TYPE"
          ],
          [
           "сельдь",
           "TYPE"
          ],
          [
           "под",
           "TYPE"
          ],
          [
           "шубрй",
           "TYPE"
          ],
          [
           "бумаг",
           "TYPE"
          ],
          [
           "сыр",
           "TYPE"
          ],
          [
           "тер",
           "TYPE"
          ],
          [
           "пельмене",
           "TYPE"
          ],
          [
           "обложки",
           "TYPE"
          ],
          [
           "карри",
           "TYPE"
          ],
          [
           "муравь",
           "TYPE"
          ],
          [
           "маринованные",
           "TYPE"
          ],
          [
           "опята",
           "TYPE"
          ],
          [
           "сеедвичи",
           "TYPE"
          ],
          [
           "стержни,",
           "TYPE"
          ],
          [
           "грифел",
           "TYPE"
          ],
          [
           "хачарури",
           "TYPE"
          ],
          [
           "чаибата",
           "TYPE"
          ],
          [
           "рф-сервис",
           "TYPE"
          ],
          [
           "мффин",
           "TYPE"
          ],
          [
           "знергети",
           "TYPE"
          ],
          [
           "метелица",
           "TYPE"
          ],
          [
           "суп",
           "TYPE"
          ],
          [
           "заожнное",
           "TYPE"
          ],
          [
           "пальчики",
           "TYPE"
          ],
          [
           "тояпка",
           "TYPE"
          ],
          [
           "перецу",
           "TYPE"
          ],
          [
           "фенхель",
           "TYPE"
          ],
          [
           "моочны",
           "TYPE"
          ],
          [
           "знк",
           "TYPE"
          ],
          [
           "крило",
           "TYPE"
          ],
          [
           "перепелиные",
           "TYPE"
          ],
          [
           "яйца",
           "TYPE"
          ],
          [
           "кориандр",
           "TYPE"
          ],
          [
           "каптофель",
           "TYPE"
          ],
          [
           "краски",
           "TYPE"
          ],
          [
           "хулуми",
           "TYPE"
          ],
          [
           "сопти",
           "TYPE"
          ],
          [
           "творошки",
           "TYPE"
          ],
          [
           "чайник",
           "TYPE"
          ],
          [
           "электрически",
           "TYPE"
          ],
          [
           "икра",
           "TYPE"
          ],
          [
           "копченая",
           "TYPE"
          ],
          [
           "аджига",
           "TYPE"
          ],
          [
           "курица",
           "TYPE"
          ],
          [
           "бедра",
           "TYPE"
          ],
          [
           "смесь",
           "TYPE"
          ],
          [
           "перца",
           "TYPE"
          ],
          [
           "макароно",
           "TYPE"
          ],
          [
           "бомбочка",
           "TYPE"
          ],
          [
           "для",
           "TYPE"
          ],
          [
           "ванной",
           "TYPE"
          ],
          [
           "творожники",
           "TYPE"
          ],
          [
           "безлактозеле",
           "TYPE"
          ],
          [
           "подовая",
           "TYPE"
          ],
          [
           "батон",
           "TYPE"
          ],
          [
           "московский",
           "TYPE"
          ],
          [
           "специального",
           "TYPE"
          ],
          [
           "посола",
           "TYPE"
          ],
          [
           "нектары",
           "TYPE"
          ],
          [
           "пасха",
           "TYPE"
          ],
          [
           "овсянув",
           "TYPE"
          ],
          [
           "кинги",
           "TYPE"
          ],
          [
           "ьедро",
           "TYPE"
          ],
          [
           "круассаны",
           "TYPE"
          ],
          [
           "рогали",
           "TYPE"
          ],
          [
           "переноски",
           "TYPE"
          ],
          [
           "колбаски",
           "TYPE"
          ],
          [
           "для",
           "TYPE"
          ],
          [
           "дарки",
           "TYPE"
          ],
          [
           "салатнико",
           "TYPE"
          ],
          [
           "сметанны",
           "TYPE"
          ],
          [
           "пирогов",
           "TYPE"
          ],
          [
           "тепирияки",
           "TYPE"
          ],
          [
           "овсяны",
           "TYPE"
          ],
          [
           "плимеы",
           "TYPE"
          ],
          [
           "межовик",
           "TYPE"
          ],
          [
           "хлебный",
           "TYPE"
          ],
          [
           "гигиеническая",
           "TYPE"
          ],
          [
           "мчяи",
           "TYPE"
          ],
          [
           "лооье",
           "TYPE"
          ],
          [
           "соль",
           "TYPE"
          ],
          [
           "для",
           "TYPE"
          ],
          [
           "вып",
           "TYPE"
          ],
          [
           "сыр",
           "TYPE"
          ],
          [
           "фета",
           "TYPE"
          ],
          [
           "сметана",
           "TYPE"
          ],
          [
           "кисломоло",
           "TYPE"
          ],
          [
           "ботинки",
           "TYPE"
          ],
          [
           "маслины",
           "TYPE"
          ],
          [
           "лепешу",
           "TYPE"
          ],
          [
           "зерниста",
           "TYPE"
          ],
          [
           "творожные",
           "TYPE"
          ],
          [
           "кольца",
           "TYPE"
          ],
          [
           "смесьь",
           "TYPE"
          ],
          [
           "для",
           "TYPE"
          ],
          [
           "компота",
           "TYPE"
          ],
          [
           "молоко",
           "TYPE"
          ],
          [
           "сухкрики",
           "TYPE"
          ],
          [
           "каремель",
           "TYPE"
          ],
          [
           "стака",
           "TYPE"
          ],
          [
           "арйан",
           "TYPE"
          ],
          [
           "порнвейны",
           "TYPE"
          ],
          [
           "йола",
           "TYPE"
          ],
          [
           "купаты",
           "TYPE"
          ],
          [
           "баранки.",
           "TYPE"
          ],
          [
           "ерстов",
           "TYPE"
          ],
          [
           "томат",
           "TYPE"
          ],
          [
           "сухари",
           "TYPE"
          ],
          [
           "ufe",
           "TYPE"
          ],
          [
           "сыр",
           "TYPE"
          ],
          [
           "ч",
           "TYPE"
          ],
          [
           "ветчиной",
           "TYPE"
          ],
          [
           "зелит",
           "TYPE"
          ],
          [
           "стейк",
           "TYPE"
          ],
          [
           "из",
           "TYPE"
          ],
          [
           "го",
           "TYPE"
          ],
          [
           "вареное",
           "TYPE"
          ],
          [
           "сгущеное",
           "TYPE"
          ],
          [
           "фунду",
           "TYPE"
          ],
          [
           "куртяевская",
           "TYPE"
          ],
          [
           "кресс-салат",
           "TYPE"
          ],
          [
           "смесь",
           "TYPE"
          ],
          [
           "овощна",
           "TYPE"
          ],
          [
           "буллчк",
           "TYPE"
          ],
          [
           "крупы",
           "TYPE"
          ],
          [
           "гречнево",
           "TYPE"
          ],
          [
           "хлеб",
           "TYPE"
          ],
          [
           "без",
           "TYPE"
          ],
          [
           "дражевой",
           "TYPE"
          ],
          [
           "панир",
           "TYPE"
          ],
          [
           "йогурт0",
           "TYPE"
          ],
          [
           "пирог",
           "TYPE"
          ],
          [
           "милке",
           "TYPE"
          ],
          [
           "водка",
           "TYPE"
          ],
          [
           "кизель",
           "TYPE"
          ],
          [
           "приправа",
           "TYPE"
          ],
          [
           "травы",
           "TYPE"
          ],
          [
           "орех",
           "TYPE"
          ],
          [
           "крылышки",
           "TYPE"
          ],
          [
           "замороженное",
           "TYPE"
          ],
          [
           "компоты",
           "TYPE"
          ],
          [
           "кефыр",
           "TYPE"
          ],
          [
           "салветки",
           "TYPE"
          ],
          [
           "ct",
           "TYPE"
          ],
          [
           "пряни",
           "TYPE"
          ],
          [
           "баранина",
           "TYPE"
          ],
          [
           "мороженая",
           "TYPE"
          ],
          [
           "пастилла",
           "TYPE"
          ],
          [
           "сушеное",
           "TYPE"
          ],
          [
           "шоколад",
           "TYPE"
          ],
          [
           "горький",
           "TYPE"
          ],
          [
           "без",
           "TYPE"
          ],
          [
           "сахара",
           "TYPE"
          ],
          [
           "шоколмдка",
           "TYPE"
          ],
          [
           "маеароны",
           "TYPE"
          ],
          [
           "нашраб",
           "TYPE"
          ],
          [
           "майнеоз",
           "TYPE"
          ],
          [
           "груши",
           "TYPE"
          ],
          [
           "варено-копченые",
           "TYPE"
          ],
          [
           "коом",
           "TYPE"
          ],
          [
           "филле",
           "TYPE"
          ],
          [
           "мет",
           "TYPE"
          ],
          [
           "сыо+",
           "TYPE"
          ],
          [
           "гречаа",
           "TYPE"
          ],
          [
           "соломка",
           "TYPE"
          ],
          [
           "наггетмы",
           "TYPE"
          ],
          [
           "панамы",
           "TYPE"
          ],
          [
           "суховфрукты",
           "TYPE"
          ],
          [
           "бумага",
           "TYPE"
          ],
          [
           "плавки",
           "TYPE"
          ],
          [
           "бальзамичемкий",
           "TYPE"
          ],
          [
           "печенб",
           "TYPE"
          ],
          [
           "йогурт",
           "TYPE"
          ],
          [
           "натур",
           "TYPE"
          ],
          [
           "поминдора",
           "TYPE"
          ],
          [
           "сливочное,",
           "TYPE"
          ],
          [
           "капуста",
           "TYPE"
          ],
          [
           "медову",
           "TYPE"
          ],
          [
           "дольки",
           "TYPE"
          ],
          [
           "благояр",
           "TYPE"
          ],
          [
           "зупальца",
           "TYPE"
          ],
          [
           "сачок",
           "TYPE"
          ],
          [
           "яйцо",
           "TYPE"
          ],
          [
           "куриное",
           "TYPE"
          ],
          [
           "30шт",
           "TYPE"
          ],
          [
           "колбаски",
           "TYPE"
          ],
          [
           "булека",
           "TYPE"
          ],
          [
           "мамлины",
           "TYPE"
          ],
          [
           "сырки",
           "TYPE"
          ],
          [
           "глаз",
           "TYPE"
          ],
          [
           "сахар",
           "TYPE"
          ],
          [
           "кальмпр",
           "TYPE"
          ],
          [
           "куриной",
           "TYPE"
          ],
          [
           "хлеб",
           "TYPE"
          ],
          [
           "с",
           "TYPE"
          ],
          [
           "злака",
           "TYPE"
          ],
          [
           "ультрапастеризованное",
           "TYPE"
          ],
          [
           "сапог",
           "TYPE"
          ],
          [
           "дикий",
           "TYPE"
          ],
          [
           "рис",
           "TYPE"
          ],
          [
           "бабулин",
           "TYPE"
          ],
          [
           "продукт",
           "TYPE"
          ],
          [
           "карпачч",
           "TYPE"
          ],
          [
           "тесто",
           "TYPE"
          ],
          [
           "для",
           "TYPE"
          ],
          [
           "чуб",
           "TYPE"
          ],
          [
           "сметанпа",
           "TYPE"
          ],
          [
           "галстуки",
           "TYPE"
          ],
          [
           "круассан",
           "TYPE"
          ],
          [
           "пнанас",
           "TYPE"
          ],
          [
           "каппуста",
           "TYPE"
          ],
          [
           "сельдт",
           "TYPE"
          ],
          [
           "тушонка",
           "TYPE"
          ],
          [
           "сметвнв",
           "TYPE"
          ],
          [
           "чесн",
           "TYPE"
          ],
          [
           "семечки",
           "TYPE"
          ],
          [
           "сметана",
           "TYPE"
          ],
          [
           "освижитель",
           "TYPE"
          ],
          [
           "взбиые",
           "TYPE"
          ],
          [
           "свки",
           "TYPE"
          ],
          [
           "помидор,",
           "TYPE"
          ],
          [
           "яблочеый",
           "TYPE"
          ],
          [
           "молочной",
           "TYPE"
          ],
          [
           "смес",
           "TYPE"
          ],
          [
           "труба",
           "TYPE"
          ],
          [
           "гигиеническая",
           "TYPE"
          ],
          [
           "хлебны",
           "TYPE"
          ],
          [
           "сорти",
           "TYPE"
          ],
          [
           "альбом",
           "TYPE"
          ],
          [
           "мел",
           "TYPE"
          ],
          [
           "зеир",
           "TYPE"
          ],
          [
           "мроженое",
           "TYPE"
          ],
          [
           "хурна",
           "TYPE"
          ],
          [
           "лимонад",
           "TYPE"
          ],
          [
           "в",
           "TYPE"
          ],
          [
           "горчичный",
           "TYPE"
          ],
          [
           "порош",
           "TYPE"
          ],
          [
           "пюре",
           "TYPE"
          ],
          [
           "персик",
           "TYPE"
          ],
          [
           "крупнолистовой",
           "TYPE"
          ],
          [
           "ча",
           "TYPE"
          ],
          [
           "слойка",
           "TYPE"
          ],
          [
           "с",
           "TYPE"
          ],
          [
           "свром",
           "TYPE"
          ],
          [
           "протеиновый",
           "TYPE"
          ],
          [
           "пудинг",
           "TYPE"
          ],
          [
           "нектар",
           "TYPE"
          ],
          [
           "укроп",
           "TYPE"
          ],
          [
           "фрутгняня",
           "TYPE"
          ],
          [
           "снике",
           "TYPE"
          ],
          [
           "ядрк",
           "TYPE"
          ],
          [
           "блит",
           "TYPE"
          ],
          [
           "милкв",
           "TYPE"
          ],
          [
           "шафран",
           "TYPE"
          ],
          [
           "стикер",
           "TYPE"
          ],
          [
           "майонез",
           "TYPE"
          ],
          [
           "свинина",
           "TYPE"
          ],
          [
           "тушенн",
           "TYPE"
          ],
          [
           "овощи",
           "TYPE"
          ],
          [
           "чашки",
           "TYPE"
          ],
          [
           "увлажнители",
           "TYPE"
          ],
          [
           "возду",
           "TYPE"
          ],
          [
           "тросниковы",
           "TYPE"
          ],
          [
           "омл",
           "TYPE"
          ],
          [
           "палетт",
           "TYPE"
          ],
          [
           "морс",
           "TYPE"
          ],
          [
           "спрей",
           "TYPE"
          ],
          [
           "для",
           "TYPE"
          ],
          [
           "стекол",
           "TYPE"
          ],
          [
           "омичеа",
           "TYPE"
          ],
          [
           "йогк",
           "TYPE"
          ],
          [
           "персил",
           "TYPE"
          ],
          [
           "для",
           "TYPE"
          ],
          [
           "черного",
           "TYPE"
          ],
          [
           "каша",
           "TYPE"
          ],
          [
           "мульти",
           "TYPE"
          ],
          [
           "вязпнка",
           "TYPE"
          ],
          [
           "мячи",
           "TYPE"
          ],
          [
           "гуляша",
           "TYPE"
          ],
          [
           "майннез",
           "TYPE"
          ],
          [
           "скумбрия",
           "TYPE"
          ],
          [
           "журнал",
           "TYPE"
          ],
          [
           "йорурт",
           "TYPE"
          ],
          [
           "салт",
           "TYPE"
          ],
          [
           "блани",
           "TYPE"
          ],
          [
           "чай",
           "TYPE"
          ],
          [
           "мята",
           "TYPE"
          ],
          [
           "зеркала",
           "TYPE"
          ],
          [
           "вермишкль",
           "TYPE"
          ],
          [
           "кофейник",
           "TYPE"
          ],
          [
           "саахар",
           "TYPE"
          ],
          [
           "белй",
           "TYPE"
          ],
          [
           "мвдь",
           "TYPE"
          ],
          [
           "пич",
           "TYPE"
          ],
          [
           "семена",
           "TYPE"
          ],
          [
           "эконом",
           "TYPE"
          ],
          [
           "корм",
           "TYPE"
          ],
          [
           "влажный",
           "TYPE"
          ],
          [
           "гороховая",
           "TYPE"
          ],
          [
           "бумага",
           "TYPE"
          ],
          [
           "туалетная",
           "TYPE"
          ],
          [
           "12",
           "TYPE"
          ],
          [
           "наполнительн",
           "TYPE"
          ],
          [
           "колбаса",
           "TYPE"
          ],
          [
           "без",
           "TYPE"
          ],
          [
           "жира",
           "TYPE"
          ],
          [
           "блокноты",
           "TYPE"
          ],
          [
           "айбкрг",
           "TYPE"
          ],
          [
           "икра",
           "TYPE"
          ],
          [
           "из",
           "TYPE"
          ],
          [
           "ка",
           "TYPE"
          ],
          [
           "сосиску",
           "TYPE"
          ],
          [
           "геркулес",
           "TYPE"
          ],
          [
           "монастырский",
           "TYPE"
          ],
          [
           "коротошка",
           "TYPE"
          ],
          [
           "рисовый",
           "TYPE"
          ],
          [
           "маленький",
           "TYPE"
          ],
          [
           "тортик",
           "TYPE"
          ],
          [
           "красивый",
           "TYPE"
          ],
          [
           "юбиленое",
           "TYPE"
          ],
          [
           "шоколад",
           "TYPE"
          ],
          [
           "коые",
           "TYPE"
          ],
          [
           "с",
           "TYPE"
          ],
          [
           "молоком",
           "TYPE"
          ],
          [
           "маннал",
           "TYPE"
          ],
          [
           "кукурузой",
           "TYPE"
          ],
          [
           "локолад",
           "TYPE"
          ],
          [
           "сок",
           "TYPE"
          ],
          [
           "панам",
           "TYPE"
          ],
          [
           "свинное",
           "TYPE"
          ],
          [
           "ил",
           "TYPE"
          ],
          [
           "шпинана",
           "TYPE"
          ],
          [
           "дрожжн",
           "TYPE"
          ],
          [
           "цебупицца",
           "TYPE"
          ],
          [
           "блинчики",
           "TYPE"
          ],
          [
           "для",
           "TYPE"
          ],
          [
           "ш",
           "TYPE"
          ],
          [
           "ванидин",
           "TYPE"
          ],
          [
           "свпдельки",
           "TYPE"
          ],
          [
           "кельки",
           "TYPE"
          ],
          [
           "печене",
           "TYPE"
          ],
          [
           "рыба(кроме",
           "TYPE"
          ],
          [
           "сельди",
           "TYPE"
          ],
          [
           "облепйха",
           "TYPE"
          ],
          [
           "сырокопченое",
           "TYPE"
          ],
          [
           "мороженное",
           "TYPE"
          ],
          [
           "фасоль",
           "TYPE"
          ],
          [
           "красная",
           "TYPE"
          ],
          [
           "в",
           "TYPE"
          ],
          [
           "салфеткие",
           "TYPE"
          ],
          [
           "погремуш",
           "TYPE"
          ],
          [
           "компле",
           "TYPE"
          ],
          [
           "пельсени",
           "TYPE"
          ],
          [
           "песочное",
           "TYPE"
          ],
          [
           "печенье",
           "TYPE"
          ],
          [
           "юбко",
           "TYPE"
          ],
          [
           "щаурма",
           "TYPE"
          ],
          [
           "каба",
           "TYPE"
          ],
          [
           "соус",
           "TYPE"
          ],
          [
           "сладкий",
           "TYPE"
          ],
          [
           "чил",
           "TYPE"
          ],
          [
           "кашр",
           "TYPE"
          ],
          [
           "прочие",
           "TYPE"
          ],
          [
           "мясоовощн",
           "TYPE"
          ],
          [
           "пеирушка",
           "TYPE"
          ],
          [
           "молоко",
           "TYPE"
          ],
          [
           "сгущённое",
           "TYPE"
          ],
          [
           "пи",
           "TYPE"
          ],
          [
           "свиная",
           "TYPE"
          ],
          [
           "шея",
           "TYPE"
          ],
          [
           "ман",
           "TYPE"
          ],
          [
           "тебе",
           "TYPE"
          ],
          [
           "бездрожевой",
           "TYPE"
          ],
          [
           "нагеты",
           "TYPE"
          ],
          [
           "яйки",
           "TYPE"
          ],
          [
           "алтн",
           "TYPE"
          ],
          [
           "й",
           "TYPE"
          ],
          [
           "переноска",
           "TYPE"
          ],
          [
           "подушек",
           "TYPE"
          ],
          [
           "маслл",
           "TYPE"
          ],
          [
           "суп",
           "TYPE"
          ],
          [
           "из",
           "TYPE"
          ],
          [
           "пачки",
           "TYPE"
          ],
          [
           "скумбоия",
           "TYPE"
          ],
          [
           "свекла",
           "TYPE"
          ],
          [
           "маринованная",
           "TYPE"
          ],
          [
           "помодиры",
           "TYPE"
          ],
          [
           "вга",
           "TYPE"
          ],
          [
           "й",
           "TYPE"
          ],
          [
           "пельмкни",
           "TYPE"
          ],
          [
           "дома",
           "TYPE"
          ],
          [
           "круосаны",
           "TYPE"
          ],
          [
           "фисташково",
           "TYPE"
          ],
          [
           "сыр",
           "TYPE"
          ],
          [
           "красная",
           "TYPE"
          ],
          [
           "яблоко",
           "TYPE"
          ],
          [
           "сыр",
           "TYPE"
          ],
          [
           "шоколадный",
           "TYPE"
          ],
          [
           "ркк",
           "TYPE"
          ],
          [
           "круасани",
           "TYPE"
          ],
          [
           "пудрв",
           "TYPE"
          ],
          [
           "масса",
           "TYPE"
          ],
          [
           "творожн",
           "TYPE"
          ],
          [
           "пргтеин",
           "TYPE"
          ],
          [
           "тирамиссо",
           "TYPE"
          ],
          [
           "колбасы",
           "TYPE"
          ],
          [
           "рм",
           "TYPE"
          ],
          [
           "паста",
           "TYPE"
          ],
          [
           "том",
           "TYPE"
          ],
          [
           "ям",
           "TYPE"
          ],
          [
           "маслг",
           "TYPE"
          ],
          [
           "моркавка",
           "TYPE"
          ],
          [
           "медальоны",
           "TYPE"
          ],
          [
           "маршмалооу",
           "TYPE"
          ],
          [
           "твородный",
           "TYPE"
          ],
          [
           "naitori",
           "TYPE"
          ],
          [
           "тыквенный",
           "TYPE"
          ],
          [
           "сок",
           "TYPE"
          ],
          [
           "медведка",
           "TYPE"
          ],
          [
           "milkey",
           "TYPE"
          ],
          [
           "слив",
           "TYPE"
          ],
          [
           "масло",
           "TYPE"
          ],
          [
           "иаедарины",
           "TYPE"
          ],
          [
           "гранулы",
           "TYPE"
          ],
          [
           "тянучка",
           "TYPE"
          ],
          [
           "кабачо",
           "TYPE"
          ],
          [
           "плавденый",
           "TYPE"
          ],
          [
           "гольфы",
           "TYPE"
          ],
          [
           "панировочные",
           "TYPE"
          ],
          [
           "сухари",
           "TYPE"
          ],
          [
           "сырокюз",
           "TYPE"
          ],
          [
           "круассын",
           "TYPE"
          ],
          [
           "разрыхлите",
           "TYPE"
          ],
          [
           "яеитца",
           "TYPE"
          ],
          [
           "ванилина",
           "TYPE"
          ],
          [
           "чашки",
           "TYPE"
          ],
          [
           "кресс-салата",
           "TYPE"
          ],
          [
           "салат",
           "TYPE"
          ],
          [
           "с",
           "TYPE"
          ],
          [
           "чесноком",
           "TYPE"
          ],
          [
           "лук0",
           "TYPE"
          ],
          [
           "кашка",
           "TYPE"
          ],
          [
           "безмолочна",
           "TYPE"
          ],
          [
           "свёкла",
           "TYPE"
          ],
          [
           "отварная",
           "TYPE"
          ],
          [
           "национальный",
           "TYPE"
          ],
          [
           "хлеб",
           "TYPE"
          ],
          [
           "студен",
           "TYPE"
          ],
          [
           "заливн",
           "TYPE"
          ],
          [
           "мыло",
           "TYPE"
          ],
          [
           "банное",
           "TYPE"
          ],
          [
           "майнез",
           "TYPE"
          ],
          [
           "крем-мыло",
           "TYPE"
          ],
          [
           "куриное",
           "TYPE"
          ],
          [
           "яйцо",
           "TYPE"
          ],
          [
           "шампунь",
           "TYPE"
          ],
          [
           "гель",
           "TYPE"
          ],
          [
           "пельммени",
           "TYPE"
          ],
          [
           "мармилат",
           "TYPE"
          ],
          [
           "ванильный",
           "TYPE"
          ],
          [
           "шихан",
           "TYPE"
          ],
          [
           "разрышлитель",
           "TYPE"
          ],
          [
           "слоёное",
           "TYPE"
          ],
          [
           "тесто",
           "TYPE"
          ],
          [
           "ручках",
           "TYPE"
          ],
          [
           "л",
           "TYPE"
          ],
          [
           "тостер",
           "TYPE"
          ],
          [
           "тарелки",
           "TYPE"
          ],
          [
           "печенье",
           "TYPE"
          ],
          [
           "без",
           "TYPE"
          ],
          [
           "са",
           "TYPE"
          ],
          [
           "маршмела",
           "TYPE"
          ],
          [
           "груша",
           "TYPE"
          ],
          [
           "нож",
           "TYPE"
          ],
          [
           "овсянуа",
           "TYPE"
          ],
          [
           "колбаса",
           "TYPE"
          ],
          [
           "из",
           "TYPE"
          ],
          [
           "индейки",
           "TYPE"
          ],
          [
           "питевой",
           "TYPE"
          ],
          [
           "кабачко",
           "TYPE"
          ],
          [
           "апельсины",
           "TYPE"
          ],
          [
           "зы",
           "TYPE"
          ],
          [
           "редис",
           "TYPE"
          ],
          [
           "красный",
           "TYPE"
          ],
          [
           "кальмаров",
           "TYPE"
          ],
          [
           "тартооетки",
           "TYPE"
          ],
          [
           "дезедорант",
           "TYPE"
          ],
          [
           "орех",
           "TYPE"
          ],
          [
           "мускатн",
           "TYPE"
          ],
          [
           "наволочка",
           "TYPE"
          ],
          [
           "мороженое",
           "TYPE"
          ],
          [
           "чай",
           "TYPE"
          ],
          [
           "зелёный",
           "TYPE"
          ],
          [
           "ссатиж,пинцеты",
           "TYPE"
          ],
          [
           "желейка",
           "TYPE"
          ],
          [
           "рожуи",
           "TYPE"
          ],
          [
           "кукуруза",
           "TYPE"
          ],
          [
           "прочие",
           "TYPE"
          ],
          [
           "овощны",
           "TYPE"
          ],
          [
           "полотеец",
           "TYPE"
          ],
          [
           "крышка",
           "TYPE"
          ],
          [
           "фишташки",
           "TYPE"
          ],
          [
           "сахаро",
           "TYPE"
          ],
          [
           "куасаны",
           "TYPE"
          ],
          [
           "бюсткальтер",
           "TYPE"
          ],
          [
           "каьачки",
           "TYPE"
          ],
          [
           "стикеры",
           "TYPE"
          ],
          [
           "маргарын",
           "TYPE"
          ],
          [
           "фонели",
           "TYPE"
          ],
          [
           "отбеливатели",
           "TYPE"
          ],
          [
           "теяпка",
           "TYPE"
          ],
          [
           "чай",
           "TYPE"
          ],
          [
           "травяной",
           "TYPE"
          ],
          [
           "маринованный",
           "TYPE"
          ],
          [
           "мицелляреая",
           "TYPE"
          ],
          [
           "трес",
           "TYPE"
          ],
          [
           "кариоыель",
           "TYPE"
          ],
          [
           "яблок",
           "TYPE"
          ],
          [
           "хрусстим",
           "TYPE"
          ],
          [
           "специи",
           "TYPE"
          ],
          [
           "для",
           "TYPE"
          ],
          [
           "карто",
           "TYPE"
          ],
          [
           "сардельку",
           "TYPE"
          ],
          [
           "морковка",
           "TYPE"
          ],
          [
           "шпиеат",
           "TYPE"
          ],
          [
           "уксус",
           "TYPE"
          ],
          [
           "конфеты",
           "TYPE"
          ],
          [
           "сок",
           "TYPE"
          ],
          [
           "руккола",
           "TYPE"
          ],
          [
           "village",
           "TYPE"
          ],
          [
           "базилики",
           "TYPE"
          ],
          [
           "иегурт",
           "TYPE"
          ],
          [
           "яецо",
           "TYPE"
          ],
          [
           "ополаскиватель",
           "TYPE"
          ],
          [
           "доя",
           "TYPE"
          ],
          [
           "белья",
           "TYPE"
          ],
          [
           "нерафинированное",
           "TYPE"
          ],
          [
           "йогур",
           "TYPE"
          ],
          [
           "греческий",
           "TYPE"
          ],
          [
           "масол",
           "TYPE"
          ],
          [
           "геркулес",
           "TYPE"
          ],
          [
           "наггетсы",
           "TYPE"
          ],
          [
           "концентрированный",
           "TYPE"
          ],
          [
           "со",
           "TYPE"
          ],
          [
           "минралкк",
           "TYPE"
          ],
          [
           "творожнк",
           "TYPE"
          ],
          [
           "фены",
           "TYPE"
          ],
          [
           "ровента",
           "TYPE"
          ],
          [
           "печень",
           "TYPE"
          ],
          [
           "цыплят",
           "TYPE"
          ],
          [
           "саженцы",
           "TYPE"
          ],
          [
           "шампаньон",
           "TYPE"
          ],
          [
           "перец",
           "TYPE"
          ],
          [
           "красный",
           "TYPE"
          ],
          [
           "молотый",
           "TYPE"
          ],
          [
           "варчная",
           "TYPE"
          ],
          [
           "поврхноть",
           "TYPE"
          ],
          [
           "тартолетеи",
           "TYPE"
          ],
          [
           "макароны",
           "TYPE"
          ],
          [
           "спагетти",
           "TYPE"
          ],
          [
           "безлакиозное",
           "TYPE"
          ],
          [
           "рубашки,",
           "TYPE"
          ],
          [
           "сороч",
           "TYPE"
          ],
          [
           "таьлетк",
           "TYPE"
          ],
          [
           "грущи",
           "TYPE"
          ],
          [
           "багет",
           "TYPE"
          ],
          [
           "дранисимо",
           "TYPE"
          ],
          [
           "кофе",
           "TYPE"
          ],
          [
           "ла",
           "TYPE"
          ],
          [
           "крема",
           "TYPE"
          ],
          [
           "салат",
           "TYPE"
          ],
          [
           "селедка",
           "TYPE"
          ],
          [
           "под",
           "TYPE"
          ],
          [
           "шубой",
           "TYPE"
          ],
          [
           "перчики",
           "TYPE"
          ],
          [
           "зерновик",
           "TYPE"
          ],
          [
           "мороженое",
           "TYPE"
          ],
          [
           "крыжовник",
           "TYPE"
          ],
          [
           "ванильлин",
           "TYPE"
          ],
          [
           "микрозелень",
           "TYPE"
          ],
          [
           "курица",
           "TYPE"
          ],
          [
           "у",
           "TYPE"
          ],
          [
           "специях",
           "TYPE"
          ],
          [
           "салао",
           "TYPE"
          ],
          [
           "печеньи",
           "TYPE"
          ],
          [
           "огорцы",
           "TYPE"
          ],
          [
           "одежда",
           "TYPE"
          ],
          [
           "бальзам",
           "TYPE"
          ],
          [
           "для",
           "TYPE"
          ],
          [
           "бритья",
           "TYPE"
          ],
          [
           "мармел",
           "TYPE"
          ],
          [
           "белое",
           "TYPE"
          ],
          [
           "энергаи",
           "TYPE"
          ],
          [
           "крекеры",
           "TYPE"
          ],
          [
           "одеколо",
           "TYPE"
          ],
          [
           "корм",
           "TYPE"
          ],
          [
           "для",
           "TYPE"
          ],
          [
           "кошеу",
           "TYPE"
          ],
          [
           "нож",
           "TYPE"
          ],
          [
           "мистери",
           "TYPE"
          ],
          [
           "творржны",
           "TYPE"
          ],
          [
           "молоок",
           "TYPE"
          ],
          [
           "яйц0",
           "TYPE"
          ],
          [
           "приправа",
           "TYPE"
          ],
          [
           "для",
           "TYPE"
          ],
          [
           "к",
           "TYPE"
          ],
          [
           "сгущенный",
           "TYPE"
          ],
          [
           "молочные",
           "TYPE"
          ],
          [
           "молоко",
           "TYPE"
          ],
          [
           "резной",
           "TYPE"
          ],
          [
           "пали",
           "TYPE"
          ],
          [
           "приправа",
           "TYPE"
          ],
          [
           "ддя",
           "TYPE"
          ],
          [
           "макарон",
           "TYPE"
          ],
          [
           "фасоли",
           "TYPE"
          ],
          [
           "череи",
           "TYPE"
          ],
          [
           "пелтмени",
           "TYPE"
          ],
          [
           "месок",
           "TYPE"
          ]
         ],
         "hovertemplate": "<b>entity_text:</b> %{customdata[0]}<br><b>entity_label:</b> %{customdata[1]}",
         "marker": {
          "color": "rgb(57, 105, 172)",
          "opacity": 1,
          "size": 8
         },
         "mode": "markers",
         "name": "TYPE",
         "type": "scatter",
         "x": {
          "bdata": "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",
          "dtype": "f4"
         },
         "y": {
          "bdata": "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",
          "dtype": "f4"
         }
        },
        {
         "customdata": [
          [
           "л",
           "VOLUME"
          ],
          [
           "л",
           "VOLUME"
          ],
          [
           "1",
           "VOLUME"
          ],
          [
           "кг",
           "VOLUME"
          ],
          [
           "5л",
           "VOLUME"
          ],
          [
           "3",
           "VOLUME"
          ],
          [
           "1",
           "VOLUME"
          ],
          [
           "2л",
           "VOLUME"
          ],
          [
           "5",
           "VOLUME"
          ],
          [
           "1",
           "VOLUME"
          ],
          [
           "5л.",
           "VOLUME"
          ],
          [
           "3",
           "VOLUME"
          ],
          [
           "1",
           "VOLUME"
          ],
          [
           "кг",
           "VOLUME"
          ],
          [
           "1t",
           "VOLUME"
          ]
         ],
         "hovertemplate": "<b>entity_text:</b> %{customdata[0]}<br><b>entity_label:</b> %{customdata[1]}",
         "marker": {
          "color": "rgb(242, 183, 1)",
          "opacity": 1,
          "size": 8
         },
         "mode": "markers",
         "name": "VOLUME",
         "type": "scatter",
         "x": {
          "bdata": "S3OmwIvxpsA/ZlrBM5elwNeUCMFD6y5BuJZBQffzCMEfKmLBsTxCQZrlCMFpq2LB3uRbweMppsDG3i1B",
          "dtype": "f4"
         },
         "y": {
          "bdata": "NI+oQScsqEE2h0pC4KytQai5J0JVa0pCOrhLQmKzJ0Jn3kxC+s9LQi+FJ0KSgk1CduBKQpyErUFPzklC",
          "dtype": "f4"
         }
        }
       ],
       "layout": {
        "height": 800,
        "legend": {
         "title": {
          "text": "Class Labels"
         }
        },
        "template": {
         "data": {
          "bar": [
           {
            "error_x": {
             "color": "#2a3f5f"
            },
            "error_y": {
             "color": "#2a3f5f"
            },
            "marker": {
             "line": {
              "color": "white",
              "width": 0.5
             },
             "pattern": {
              "fillmode": "overlay",
              "size": 10,
              "solidity": 0.2
             }
            },
            "type": "bar"
           }
          ],
          "barpolar": [
           {
            "marker": {
             "line": {
              "color": "white",
              "width": 0.5
             },
             "pattern": {
              "fillmode": "overlay",
              "size": 10,
              "solidity": 0.2
             }
            },
            "type": "barpolar"
           }
          ],
          "carpet": [
           {
            "aaxis": {
             "endlinecolor": "#2a3f5f",
             "gridcolor": "#C8D4E3",
             "linecolor": "#C8D4E3",
             "minorgridcolor": "#C8D4E3",
             "startlinecolor": "#2a3f5f"
            },
            "baxis": {
             "endlinecolor": "#2a3f5f",
             "gridcolor": "#C8D4E3",
             "linecolor": "#C8D4E3",
             "minorgridcolor": "#C8D4E3",
             "startlinecolor": "#2a3f5f"
            },
            "type": "carpet"
           }
          ],
          "choropleth": [
           {
            "colorbar": {
             "outlinewidth": 0,
             "ticks": ""
            },
            "type": "choropleth"
           }
          ],
          "contour": [
           {
            "colorbar": {
             "outlinewidth": 0,
             "ticks": ""
            },
            "colorscale": [
             [
              0,
              "#0d0887"
             ],
             [
              0.1111111111111111,
              "#46039f"
             ],
             [
              0.2222222222222222,
              "#7201a8"
             ],
             [
              0.3333333333333333,
              "#9c179e"
             ],
             [
              0.4444444444444444,
              "#bd3786"
             ],
             [
              0.5555555555555556,
              "#d8576b"
             ],
             [
              0.6666666666666666,
              "#ed7953"
             ],
             [
              0.7777777777777778,
              "#fb9f3a"
             ],
             [
              0.8888888888888888,
              "#fdca26"
             ],
             [
              1,
              "#f0f921"
             ]
            ],
            "type": "contour"
           }
          ],
          "contourcarpet": [
           {
            "colorbar": {
             "outlinewidth": 0,
             "ticks": ""
            },
            "type": "contourcarpet"
           }
          ],
          "heatmap": [
           {
            "colorbar": {
             "outlinewidth": 0,
             "ticks": ""
            },
            "colorscale": [
             [
              0,
              "#0d0887"
             ],
             [
              0.1111111111111111,
              "#46039f"
             ],
             [
              0.2222222222222222,
              "#7201a8"
             ],
             [
              0.3333333333333333,
              "#9c179e"
             ],
             [
              0.4444444444444444,
              "#bd3786"
             ],
             [
              0.5555555555555556,
              "#d8576b"
             ],
             [
              0.6666666666666666,
              "#ed7953"
             ],
             [
              0.7777777777777778,
              "#fb9f3a"
             ],
             [
              0.8888888888888888,
              "#fdca26"
             ],
             [
              1,
              "#f0f921"
             ]
            ],
            "type": "heatmap"
           }
          ],
          "histogram": [
           {
            "marker": {
             "pattern": {
              "fillmode": "overlay",
              "size": 10,
              "solidity": 0.2
             }
            },
            "type": "histogram"
           }
          ],
          "histogram2d": [
           {
            "colorbar": {
             "outlinewidth": 0,
             "ticks": ""
            },
            "colorscale": [
             [
              0,
              "#0d0887"
             ],
             [
              0.1111111111111111,
              "#46039f"
             ],
             [
              0.2222222222222222,
              "#7201a8"
             ],
             [
              0.3333333333333333,
              "#9c179e"
             ],
             [
              0.4444444444444444,
              "#bd3786"
             ],
             [
              0.5555555555555556,
              "#d8576b"
             ],
             [
              0.6666666666666666,
              "#ed7953"
             ],
             [
              0.7777777777777778,
              "#fb9f3a"
             ],
             [
              0.8888888888888888,
              "#fdca26"
             ],
             [
              1,
              "#f0f921"
             ]
            ],
            "type": "histogram2d"
           }
          ],
          "histogram2dcontour": [
           {
            "colorbar": {
             "outlinewidth": 0,
             "ticks": ""
            },
            "colorscale": [
             [
              0,
              "#0d0887"
             ],
             [
              0.1111111111111111,
              "#46039f"
             ],
             [
              0.2222222222222222,
              "#7201a8"
             ],
             [
              0.3333333333333333,
              "#9c179e"
             ],
             [
              0.4444444444444444,
              "#bd3786"
             ],
             [
              0.5555555555555556,
              "#d8576b"
             ],
             [
              0.6666666666666666,
              "#ed7953"
             ],
             [
              0.7777777777777778,
              "#fb9f3a"
             ],
             [
              0.8888888888888888,
              "#fdca26"
             ],
             [
              1,
              "#f0f921"
             ]
            ],
            "type": "histogram2dcontour"
           }
          ],
          "mesh3d": [
           {
            "colorbar": {
             "outlinewidth": 0,
             "ticks": ""
            },
            "type": "mesh3d"
           }
          ],
          "parcoords": [
           {
            "line": {
             "colorbar": {
              "outlinewidth": 0,
              "ticks": ""
             }
            },
            "type": "parcoords"
           }
          ],
          "pie": [
           {
            "automargin": true,
            "type": "pie"
           }
          ],
          "scatter": [
           {
            "fillpattern": {
             "fillmode": "overlay",
             "size": 10,
             "solidity": 0.2
            },
            "type": "scatter"
           }
          ],
          "scatter3d": [
           {
            "line": {
             "colorbar": {
              "outlinewidth": 0,
              "ticks": ""
             }
            },
            "marker": {
             "colorbar": {
              "outlinewidth": 0,
              "ticks": ""
             }
            },
            "type": "scatter3d"
           }
          ],
          "scattercarpet": [
           {
            "marker": {
             "colorbar": {
              "outlinewidth": 0,
              "ticks": ""
             }
            },
            "type": "scattercarpet"
           }
          ],
          "scattergeo": [
           {
            "marker": {
             "colorbar": {
              "outlinewidth": 0,
              "ticks": ""
             }
            },
            "type": "scattergeo"
           }
          ],
          "scattergl": [
           {
            "marker": {
             "colorbar": {
              "outlinewidth": 0,
              "ticks": ""
             }
            },
            "type": "scattergl"
           }
          ],
          "scattermap": [
           {
            "marker": {
             "colorbar": {
              "outlinewidth": 0,
              "ticks": ""
             }
            },
            "type": "scattermap"
           }
          ],
          "scattermapbox": [
           {
            "marker": {
             "colorbar": {
              "outlinewidth": 0,
              "ticks": ""
             }
            },
            "type": "scattermapbox"
           }
          ],
          "scatterpolar": [
           {
            "marker": {
             "colorbar": {
              "outlinewidth": 0,
              "ticks": ""
             }
            },
            "type": "scatterpolar"
           }
          ],
          "scatterpolargl": [
           {
            "marker": {
             "colorbar": {
              "outlinewidth": 0,
              "ticks": ""
             }
            },
            "type": "scatterpolargl"
           }
          ],
          "scatterternary": [
           {
            "marker": {
             "colorbar": {
              "outlinewidth": 0,
              "ticks": ""
             }
            },
            "type": "scatterternary"
           }
          ],
          "surface": [
           {
            "colorbar": {
             "outlinewidth": 0,
             "ticks": ""
            },
            "colorscale": [
             [
              0,
              "#0d0887"
             ],
             [
              0.1111111111111111,
              "#46039f"
             ],
             [
              0.2222222222222222,
              "#7201a8"
             ],
             [
              0.3333333333333333,
              "#9c179e"
             ],
             [
              0.4444444444444444,
              "#bd3786"
             ],
             [
              0.5555555555555556,
              "#d8576b"
             ],
             [
              0.6666666666666666,
              "#ed7953"
             ],
             [
              0.7777777777777778,
              "#fb9f3a"
             ],
             [
              0.8888888888888888,
              "#fdca26"
             ],
             [
              1,
              "#f0f921"
             ]
            ],
            "type": "surface"
           }
          ],
          "table": [
           {
            "cells": {
             "fill": {
              "color": "#EBF0F8"
             },
             "line": {
              "color": "white"
             }
            },
            "header": {
             "fill": {
              "color": "#C8D4E3"
             },
             "line": {
              "color": "white"
             }
            },
            "type": "table"
           }
          ]
         },
         "layout": {
          "annotationdefaults": {
           "arrowcolor": "#2a3f5f",
           "arrowhead": 0,
           "arrowwidth": 1
          },
          "autotypenumbers": "strict",
          "coloraxis": {
           "colorbar": {
            "outlinewidth": 0,
            "ticks": ""
           }
          },
          "colorscale": {
           "diverging": [
            [
             0,
             "#8e0152"
            ],
            [
             0.1,
             "#c51b7d"
            ],
            [
             0.2,
             "#de77ae"
            ],
            [
             0.3,
             "#f1b6da"
            ],
            [
             0.4,
             "#fde0ef"
            ],
            [
             0.5,
             "#f7f7f7"
            ],
            [
             0.6,
             "#e6f5d0"
            ],
            [
             0.7,
             "#b8e186"
            ],
            [
             0.8,
             "#7fbc41"
            ],
            [
             0.9,
             "#4d9221"
            ],
            [
             1,
             "#276419"
            ]
           ],
           "sequential": [
            [
             0,
             "#0d0887"
            ],
            [
             0.1111111111111111,
             "#46039f"
            ],
            [
             0.2222222222222222,
             "#7201a8"
            ],
            [
             0.3333333333333333,
             "#9c179e"
            ],
            [
             0.4444444444444444,
             "#bd3786"
            ],
            [
             0.5555555555555556,
             "#d8576b"
            ],
            [
             0.6666666666666666,
             "#ed7953"
            ],
            [
             0.7777777777777778,
             "#fb9f3a"
            ],
            [
             0.8888888888888888,
             "#fdca26"
            ],
            [
             1,
             "#f0f921"
            ]
           ],
           "sequentialminus": [
            [
             0,
             "#0d0887"
            ],
            [
             0.1111111111111111,
             "#46039f"
            ],
            [
             0.2222222222222222,
             "#7201a8"
            ],
            [
             0.3333333333333333,
             "#9c179e"
            ],
            [
             0.4444444444444444,
             "#bd3786"
            ],
            [
             0.5555555555555556,
             "#d8576b"
            ],
            [
             0.6666666666666666,
             "#ed7953"
            ],
            [
             0.7777777777777778,
             "#fb9f3a"
            ],
            [
             0.8888888888888888,
             "#fdca26"
            ],
            [
             1,
             "#f0f921"
            ]
           ]
          },
          "colorway": [
           "#636efa",
           "#EF553B",
           "#00cc96",
           "#ab63fa",
           "#FFA15A",
           "#19d3f3",
           "#FF6692",
           "#B6E880",
           "#FF97FF",
           "#FECB52"
          ],
          "font": {
           "color": "#2a3f5f"
          },
          "geo": {
           "bgcolor": "white",
           "lakecolor": "white",
           "landcolor": "white",
           "showlakes": true,
           "showland": true,
           "subunitcolor": "#C8D4E3"
          },
          "hoverlabel": {
           "align": "left"
          },
          "hovermode": "closest",
          "mapbox": {
           "style": "light"
          },
          "paper_bgcolor": "white",
          "plot_bgcolor": "white",
          "polar": {
           "angularaxis": {
            "gridcolor": "#EBF0F8",
            "linecolor": "#EBF0F8",
            "ticks": ""
           },
           "bgcolor": "white",
           "radialaxis": {
            "gridcolor": "#EBF0F8",
            "linecolor": "#EBF0F8",
            "ticks": ""
           }
          },
          "scene": {
           "xaxis": {
            "backgroundcolor": "white",
            "gridcolor": "#DFE8F3",
            "gridwidth": 2,
            "linecolor": "#EBF0F8",
            "showbackground": true,
            "ticks": "",
            "zerolinecolor": "#EBF0F8"
           },
           "yaxis": {
            "backgroundcolor": "white",
            "gridcolor": "#DFE8F3",
            "gridwidth": 2,
            "linecolor": "#EBF0F8",
            "showbackground": true,
            "ticks": "",
            "zerolinecolor": "#EBF0F8"
           },
           "zaxis": {
            "backgroundcolor": "white",
            "gridcolor": "#DFE8F3",
            "gridwidth": 2,
            "linecolor": "#EBF0F8",
            "showbackground": true,
            "ticks": "",
            "zerolinecolor": "#EBF0F8"
           }
          },
          "shapedefaults": {
           "line": {
            "color": "#2a3f5f"
           }
          },
          "ternary": {
           "aaxis": {
            "gridcolor": "#DFE8F3",
            "linecolor": "#A2B1C6",
            "ticks": ""
           },
           "baxis": {
            "gridcolor": "#DFE8F3",
            "linecolor": "#A2B1C6",
            "ticks": ""
           },
           "bgcolor": "white",
           "caxis": {
            "gridcolor": "#DFE8F3",
            "linecolor": "#A2B1C6",
            "ticks": ""
           }
          },
          "title": {
           "x": 0.05
          },
          "xaxis": {
           "automargin": true,
           "gridcolor": "#EBF0F8",
           "linecolor": "#EBF0F8",
           "ticks": "",
           "title": {
            "standoff": 15
           },
           "zerolinecolor": "#EBF0F8",
           "zerolinewidth": 2
          },
          "yaxis": {
           "automargin": true,
           "gridcolor": "#EBF0F8",
           "linecolor": "#EBF0F8",
           "ticks": "",
           "title": {
            "standoff": 15
           },
           "zerolinecolor": "#EBF0F8",
           "zerolinewidth": 2
          }
         }
        },
        "title": {
         "text": "Entity-level Embeddings"
        },
        "width": 1200,
        "xaxis": {
         "gridcolor": "lightgray",
         "gridwidth": 0.5,
         "linecolor": "black",
         "linewidth": 2,
         "mirror": true,
         "showline": true,
         "title": {
          "text": "TSNE 1 →"
         },
         "zeroline": true,
         "zerolinecolor": "black",
         "zerolinewidth": 1.2
        },
        "yaxis": {
         "gridcolor": "lightgray",
         "gridwidth": 0.5,
         "linecolor": "black",
         "linewidth": 2,
         "mirror": true,
         "showline": true,
         "title": {
          "text": "TSNE 2 →"
         },
         "zeroline": true,
         "zerolinecolor": "black",
         "zerolinewidth": 1.2
        }
       }
      }
     },
     "metadata": {},
     "output_type": "display_data"
    }
   ],
   "source": [
    "from sklearn.preprocessing import LabelEncoder\n",
    "\n",
    "from ml.visualizer import DynamicEmbeddingVisualizer\n",
    "\n",
    "entity_embs, entity_df = aggregate_entities(test_dataset)\n",
    "\n",
    "le = LabelEncoder()\n",
    "labels = le.fit_transform(entity_df[\"entity_label\"].tolist())\n",
    "\n",
    "vis = DynamicEmbeddingVisualizer(entity_embs, entity_df, labels=labels)\n",
    "\n",
    "vis.reduce_dimensionality(method=\"tsne\", n_components=2)\n",
    "\n",
    "vis.visualize(\n",
    "    method=\"tsne\",\n",
    "    title=\"Entity-level Embeddings\",\n",
    "    hover_columns=[\"entity_text\", \"entity_label\"],\n",
    "    idx2label={i: lbl for i, lbl in enumerate(le.classes_)}\n",
    ")\n"
   ]
  },
  {
   "cell_type": "markdown",
   "id": "125053f8",
   "metadata": {},
   "source": [
    "# Энтропии"
   ]
  },
  {
   "cell_type": "code",
   "execution_count": 138,
   "id": "b223e9c8",
   "metadata": {},
   "outputs": [
    {
     "name": "stderr",
     "output_type": "stream",
     "text": [
      "d:\\Projects\\env_ml\\.venv\\Lib\\site-packages\\sklearn\\metrics\\_ranking.py:1046: UserWarning:\n",
      "\n",
      "No positive class found in y_true, recall is set to one for all thresholds.\n",
      "\n",
      "d:\\Projects\\env_ml\\.venv\\Lib\\site-packages\\sklearn\\metrics\\_ranking.py:1046: UserWarning:\n",
      "\n",
      "No positive class found in y_true, recall is set to one for all thresholds.\n",
      "\n",
      "d:\\Projects\\env_ml\\.venv\\Lib\\site-packages\\sklearn\\metrics\\_ranking.py:1046: UserWarning:\n",
      "\n",
      "No positive class found in y_true, recall is set to one for all thresholds.\n",
      "\n",
      "d:\\Projects\\env_ml\\.venv\\Lib\\site-packages\\sklearn\\metrics\\_ranking.py:1046: UserWarning:\n",
      "\n",
      "No positive class found in y_true, recall is set to one for all thresholds.\n",
      "\n",
      "d:\\Projects\\env_ml\\.venv\\Lib\\site-packages\\sklearn\\metrics\\_ranking.py:1046: UserWarning:\n",
      "\n",
      "No positive class found in y_true, recall is set to one for all thresholds.\n",
      "\n",
      "d:\\Projects\\env_ml\\.venv\\Lib\\site-packages\\sklearn\\metrics\\_ranking.py:1046: UserWarning:\n",
      "\n",
      "No positive class found in y_true, recall is set to one for all thresholds.\n",
      "\n",
      "d:\\Projects\\env_ml\\.venv\\Lib\\site-packages\\sklearn\\metrics\\_ranking.py:1046: UserWarning:\n",
      "\n",
      "No positive class found in y_true, recall is set to one for all thresholds.\n",
      "\n"
     ]
    }
   ],
   "source": [
    "thresholds = test_dataset.compute_entropy_thresholds(\n",
    "    idx2label=idx2label,\n",
    "    method=\"prc\"\n",
    ")\n",
    "\n"
   ]
  },
  {
   "cell_type": "code",
   "execution_count": 139,
   "id": "bd02605d",
   "metadata": {},
   "outputs": [
    {
     "name": "stdout",
     "output_type": "stream",
     "text": [
      "Entropy thresholds per class:\n",
      "B-BRAND: 0.0310\n",
      "I-BRAND: 0.0338\n",
      "B-PERCENT: 0.4081\n",
      "B-TYPE: 0.0115\n",
      "I-TYPE: 0.0185\n",
      "B-VOLUME: 0.2077\n",
      "I-VOLUME: 0.3945\n"
     ]
    }
   ],
   "source": [
    "print(\"Entropy thresholds per class:\")\n",
    "for k, v in thresholds.items():\n",
    "    print(f\"{k}: {v:.4f}\")"
   ]
  },
  {
   "cell_type": "code",
   "execution_count": 140,
   "id": "e44ea002",
   "metadata": {},
   "outputs": [
    {
     "name": "stdout",
     "output_type": "stream",
     "text": [
      "Samples selected: 3117\n",
      "Accuracy (confident): 98.17%\n",
      "Coverage: 114.34%\n",
      "\n",
      "=== Уверенные предсказания ===\n",
      "Точность: 98.17%\n"
     ]
    }
   ],
   "source": [
    "avg_threshold = np.mean(list(thresholds.values()))\n",
    "\n",
    "results_confident = test_dataset.evaluate_accuracy_by_entropy_thresholds(\n",
    "    thresholds=thresholds,\n",
    "    avg_threshold=avg_threshold,\n",
    "    confident=True,\n",
    "    idx2label=idx2label\n",
    ")\n",
    "print(\"\\n=== Уверенные предсказания ===\")\n",
    "print(f\"Точность: {results_confident['accuracy']:.2%}\")\n"
   ]
  },
  {
   "cell_type": "code",
   "execution_count": 166,
   "id": "e1b59afa",
   "metadata": {},
   "outputs": [
    {
     "data": {
      "text/html": [
       "<div>\n",
       "<style scoped>\n",
       "    .dataframe tbody tr th:only-of-type {\n",
       "        vertical-align: middle;\n",
       "    }\n",
       "\n",
       "    .dataframe tbody tr th {\n",
       "        vertical-align: top;\n",
       "    }\n",
       "\n",
       "    .dataframe thead th {\n",
       "        text-align: right;\n",
       "    }\n",
       "</style>\n",
       "<table border=\"1\" class=\"dataframe\">\n",
       "  <thead>\n",
       "    <tr style=\"text-align: right;\">\n",
       "      <th></th>\n",
       "      <th>text</th>\n",
       "      <th>entity_text</th>\n",
       "      <th>true_entities</th>\n",
       "      <th>pred_entity</th>\n",
       "      <th>entropy</th>\n",
       "      <th>threshold</th>\n",
       "      <th>correct</th>\n",
       "    </tr>\n",
       "  </thead>\n",
       "  <tbody>\n",
       "    <tr>\n",
       "      <th>113</th>\n",
       "      <td>йикорий</td>\n",
       "      <td>йикорий</td>\n",
       "      <td>[(0, 7, B-TYPE)]</td>\n",
       "      <td>B-TYPE</td>\n",
       "      <td>0.039521</td>\n",
       "      <td>0.157873</td>\n",
       "      <td>1</td>\n",
       "    </tr>\n",
       "    <tr>\n",
       "      <th>2824</th>\n",
       "      <td>кофейник vites</td>\n",
       "      <td>кофейник</td>\n",
       "      <td>[(9, 14, B-BRAND), (0, 8, B-TYPE)]</td>\n",
       "      <td>B-TYPE</td>\n",
       "      <td>0.031297</td>\n",
       "      <td>0.157873</td>\n",
       "      <td>1</td>\n",
       "    </tr>\n",
       "    <tr>\n",
       "      <th>1685</th>\n",
       "      <td>йогурт детский</td>\n",
       "      <td>йогурт</td>\n",
       "      <td>[(7, 14, I-TYPE), (0, 6, B-TYPE)]</td>\n",
       "      <td>B-TYPE</td>\n",
       "      <td>0.019398</td>\n",
       "      <td>0.157873</td>\n",
       "      <td>1</td>\n",
       "    </tr>\n",
       "    <tr>\n",
       "      <th>1482</th>\n",
       "      <td>копчёности</td>\n",
       "      <td>копчёности</td>\n",
       "      <td>[(0, 10, B-TYPE)]</td>\n",
       "      <td>B-TYPE</td>\n",
       "      <td>0.030618</td>\n",
       "      <td>0.157873</td>\n",
       "      <td>1</td>\n",
       "    </tr>\n",
       "    <tr>\n",
       "      <th>2556</th>\n",
       "      <td>рис красно</td>\n",
       "      <td>рис</td>\n",
       "      <td>[(4, 10, I-TYPE), (0, 3, B-TYPE)]</td>\n",
       "      <td>B-TYPE</td>\n",
       "      <td>0.024860</td>\n",
       "      <td>0.157873</td>\n",
       "      <td>1</td>\n",
       "    </tr>\n",
       "    <tr>\n",
       "      <th>1886</th>\n",
       "      <td>окорок слово мясника</td>\n",
       "      <td>слово</td>\n",
       "      <td>[(7, 12, I-TYPE), (13, 20, I-TYPE), (0, 6, B-TYPE)]</td>\n",
       "      <td>B-BRAND</td>\n",
       "      <td>0.107561</td>\n",
       "      <td>0.157873</td>\n",
       "      <td>0</td>\n",
       "    </tr>\n",
       "    <tr>\n",
       "      <th>2090</th>\n",
       "      <td>lind</td>\n",
       "      <td>lind</td>\n",
       "      <td>[(0, 4, B-BRAND)]</td>\n",
       "      <td>B-BRAND</td>\n",
       "      <td>0.106300</td>\n",
       "      <td>0.157873</td>\n",
       "      <td>1</td>\n",
       "    </tr>\n",
       "    <tr>\n",
       "      <th>209</th>\n",
       "      <td>колбаса окраина брауншвейгская</td>\n",
       "      <td>окраина</td>\n",
       "      <td>[(16, 30, I-BRAND), (0, 7, B-TYPE), (8, 15, B-BRAND)]</td>\n",
       "      <td>B-BRAND</td>\n",
       "      <td>0.074999</td>\n",
       "      <td>0.157873</td>\n",
       "      <td>1</td>\n",
       "    </tr>\n",
       "    <tr>\n",
       "      <th>2198</th>\n",
       "      <td>булоча</td>\n",
       "      <td>булоча</td>\n",
       "      <td>[(0, 6, B-TYPE)]</td>\n",
       "      <td>B-TYPE</td>\n",
       "      <td>0.020616</td>\n",
       "      <td>0.157873</td>\n",
       "      <td>1</td>\n",
       "    </tr>\n",
       "    <tr>\n",
       "      <th>2296</th>\n",
       "      <td>artfruit нектари</td>\n",
       "      <td>нектари</td>\n",
       "      <td>[(9, 16, B-TYPE), (0, 8, B-BRAND)]</td>\n",
       "      <td>B-TYPE</td>\n",
       "      <td>0.118901</td>\n",
       "      <td>0.157873</td>\n",
       "      <td>1</td>\n",
       "    </tr>\n",
       "  </tbody>\n",
       "</table>\n",
       "</div>"
      ],
      "text/plain": [
       "                                text entity_text  \\\n",
       "113                          йикорий     йикорий   \n",
       "2824                  кофейник vites    кофейник   \n",
       "1685                  йогурт детский      йогурт   \n",
       "1482                      копчёности  копчёности   \n",
       "2556                      рис красно         рис   \n",
       "1886            окорок слово мясника       слово   \n",
       "2090                            lind        lind   \n",
       "209   колбаса окраина брауншвейгская     окраина   \n",
       "2198                          булоча      булоча   \n",
       "2296                artfruit нектари     нектари   \n",
       "\n",
       "                                              true_entities pred_entity  \\\n",
       "113                                        [(0, 7, B-TYPE)]      B-TYPE   \n",
       "2824                     [(9, 14, B-BRAND), (0, 8, B-TYPE)]      B-TYPE   \n",
       "1685                      [(7, 14, I-TYPE), (0, 6, B-TYPE)]      B-TYPE   \n",
       "1482                                      [(0, 10, B-TYPE)]      B-TYPE   \n",
       "2556                      [(4, 10, I-TYPE), (0, 3, B-TYPE)]      B-TYPE   \n",
       "1886    [(7, 12, I-TYPE), (13, 20, I-TYPE), (0, 6, B-TYPE)]     B-BRAND   \n",
       "2090                                      [(0, 4, B-BRAND)]     B-BRAND   \n",
       "209   [(16, 30, I-BRAND), (0, 7, B-TYPE), (8, 15, B-BRAND)]     B-BRAND   \n",
       "2198                                       [(0, 6, B-TYPE)]      B-TYPE   \n",
       "2296                     [(9, 16, B-TYPE), (0, 8, B-BRAND)]      B-TYPE   \n",
       "\n",
       "       entropy  threshold  correct  \n",
       "113   0.039521   0.157873        1  \n",
       "2824  0.031297   0.157873        1  \n",
       "1685  0.019398   0.157873        1  \n",
       "1482  0.030618   0.157873        1  \n",
       "2556  0.024860   0.157873        1  \n",
       "1886  0.107561   0.157873        0  \n",
       "2090  0.106300   0.157873        1  \n",
       "209   0.074999   0.157873        1  \n",
       "2198  0.020616   0.157873        1  \n",
       "2296  0.118901   0.157873        1  "
      ]
     },
     "execution_count": 166,
     "metadata": {},
     "output_type": "execute_result"
    }
   ],
   "source": [
    "results_confident[\"predictions_df\"].sample(10)"
   ]
  },
  {
   "cell_type": "code",
   "execution_count": 142,
   "id": "615b1341",
   "metadata": {},
   "outputs": [
    {
     "name": "stdout",
     "output_type": "stream",
     "text": [
      "Samples selected: 1140\n",
      "Accuracy (uncertain): 78.77%\n",
      "Coverage: 41.82%\n",
      "\n",
      "=== Неуверенные предсказания ===\n",
      "Точность: 78.77%\n"
     ]
    }
   ],
   "source": [
    "results_uncertain = test_dataset.evaluate_accuracy_by_entropy_thresholds(\n",
    "    thresholds=thresholds,\n",
    "    avg_threshold=avg_threshold,\n",
    "    confident=False,\n",
    "    idx2label=idx2label\n",
    ")\n",
    "\n",
    "print(\"\\n=== Неуверенные предсказания ===\")\n",
    "print(f\"Точность: {results_uncertain['accuracy']:.2%}\")"
   ]
  },
  {
   "cell_type": "code",
   "execution_count": 143,
   "id": "61da4435",
   "metadata": {},
   "outputs": [
    {
     "data": {
      "text/html": [
       "<div>\n",
       "<style scoped>\n",
       "    .dataframe tbody tr th:only-of-type {\n",
       "        vertical-align: middle;\n",
       "    }\n",
       "\n",
       "    .dataframe tbody tr th {\n",
       "        vertical-align: top;\n",
       "    }\n",
       "\n",
       "    .dataframe thead th {\n",
       "        text-align: right;\n",
       "    }\n",
       "</style>\n",
       "<table border=\"1\" class=\"dataframe\">\n",
       "  <thead>\n",
       "    <tr style=\"text-align: right;\">\n",
       "      <th></th>\n",
       "      <th>text</th>\n",
       "      <th>entity_text</th>\n",
       "      <th>true_entities</th>\n",
       "      <th>pred_entity</th>\n",
       "      <th>entropy</th>\n",
       "      <th>threshold</th>\n",
       "      <th>correct</th>\n",
       "    </tr>\n",
       "  </thead>\n",
       "  <tbody>\n",
       "    <tr>\n",
       "      <th>766</th>\n",
       "      <td>маслом</td>\n",
       "      <td>маслом</td>\n",
       "      <td>[(0, 6, B-TYPE)]</td>\n",
       "      <td>B-TYPE</td>\n",
       "      <td>0.203328</td>\n",
       "      <td>0.157873</td>\n",
       "      <td>1</td>\n",
       "    </tr>\n",
       "    <tr>\n",
       "      <th>230</th>\n",
       "      <td>пахлава petr</td>\n",
       "      <td>пахлава</td>\n",
       "      <td>[(0, 7, B-TYPE), (8, 12, B-BRAND)]</td>\n",
       "      <td>B-TYPE</td>\n",
       "      <td>0.341908</td>\n",
       "      <td>0.157873</td>\n",
       "      <td>1</td>\n",
       "    </tr>\n",
       "    <tr>\n",
       "      <th>883</th>\n",
       "      <td>бомбар</td>\n",
       "      <td>бомбар</td>\n",
       "      <td>[(0, 6, B-BRAND)]</td>\n",
       "      <td>B-TYPE</td>\n",
       "      <td>0.289808</td>\n",
       "      <td>0.157873</td>\n",
       "      <td>0</td>\n",
       "    </tr>\n",
       "    <tr>\n",
       "      <th>543</th>\n",
       "      <td>aquaftesh</td>\n",
       "      <td>aquaftesh</td>\n",
       "      <td>[(0, 9, B-BRAND)]</td>\n",
       "      <td>B-BRAND</td>\n",
       "      <td>0.418888</td>\n",
       "      <td>0.157873</td>\n",
       "      <td>1</td>\n",
       "    </tr>\n",
       "    <tr>\n",
       "      <th>1068</th>\n",
       "      <td>сыр красная</td>\n",
       "      <td>красная</td>\n",
       "      <td>[(4, 11, I-TYPE), (0, 3, B-TYPE)]</td>\n",
       "      <td>I-TYPE</td>\n",
       "      <td>0.455666</td>\n",
       "      <td>0.157873</td>\n",
       "      <td>1</td>\n",
       "    </tr>\n",
       "    <tr>\n",
       "      <th>852</th>\n",
       "      <td>эинкали</td>\n",
       "      <td>эинкали</td>\n",
       "      <td>[(0, 7, B-TYPE)]</td>\n",
       "      <td>B-TYPE</td>\n",
       "      <td>0.223967</td>\n",
       "      <td>0.157873</td>\n",
       "      <td>1</td>\n",
       "    </tr>\n",
       "    <tr>\n",
       "      <th>913</th>\n",
       "      <td>хагис</td>\n",
       "      <td>хагис</td>\n",
       "      <td>[(0, 5, B-BRAND)]</td>\n",
       "      <td>B-TYPE</td>\n",
       "      <td>0.536469</td>\n",
       "      <td>0.157873</td>\n",
       "      <td>0</td>\n",
       "    </tr>\n",
       "    <tr>\n",
       "      <th>162</th>\n",
       "      <td>snak</td>\n",
       "      <td>snak</td>\n",
       "      <td>[(0, 4, B-TYPE)]</td>\n",
       "      <td>B-TYPE</td>\n",
       "      <td>0.662781</td>\n",
       "      <td>0.157873</td>\n",
       "      <td>1</td>\n",
       "    </tr>\n",
       "    <tr>\n",
       "      <th>4</th>\n",
       "      <td>печенье с цукатами</td>\n",
       "      <td>с</td>\n",
       "      <td>[(10, 18, I-TYPE), (0, 7, B-TYPE), (8, 9, I-TYPE)]</td>\n",
       "      <td>I-TYPE</td>\n",
       "      <td>0.480432</td>\n",
       "      <td>0.157873</td>\n",
       "      <td>1</td>\n",
       "    </tr>\n",
       "    <tr>\n",
       "      <th>437</th>\n",
       "      <td>хлеб.</td>\n",
       "      <td>хлеб.</td>\n",
       "      <td>[(0, 5, B-TYPE)]</td>\n",
       "      <td>B-TYPE</td>\n",
       "      <td>0.167756</td>\n",
       "      <td>0.157873</td>\n",
       "      <td>1</td>\n",
       "    </tr>\n",
       "  </tbody>\n",
       "</table>\n",
       "</div>"
      ],
      "text/plain": [
       "                    text entity_text  \\\n",
       "766               маслом      маслом   \n",
       "230         пахлава petr     пахлава   \n",
       "883               бомбар      бомбар   \n",
       "543            aquaftesh   aquaftesh   \n",
       "1068         сыр красная     красная   \n",
       "852              эинкали     эинкали   \n",
       "913                хагис       хагис   \n",
       "162                 snak        snak   \n",
       "4     печенье с цукатами           с   \n",
       "437                хлеб.       хлеб.   \n",
       "\n",
       "                                           true_entities pred_entity  \\\n",
       "766                                     [(0, 6, B-TYPE)]      B-TYPE   \n",
       "230                   [(0, 7, B-TYPE), (8, 12, B-BRAND)]      B-TYPE   \n",
       "883                                    [(0, 6, B-BRAND)]      B-TYPE   \n",
       "543                                    [(0, 9, B-BRAND)]     B-BRAND   \n",
       "1068                   [(4, 11, I-TYPE), (0, 3, B-TYPE)]      I-TYPE   \n",
       "852                                     [(0, 7, B-TYPE)]      B-TYPE   \n",
       "913                                    [(0, 5, B-BRAND)]      B-TYPE   \n",
       "162                                     [(0, 4, B-TYPE)]      B-TYPE   \n",
       "4     [(10, 18, I-TYPE), (0, 7, B-TYPE), (8, 9, I-TYPE)]      I-TYPE   \n",
       "437                                     [(0, 5, B-TYPE)]      B-TYPE   \n",
       "\n",
       "       entropy  threshold  correct  \n",
       "766   0.203328   0.157873        1  \n",
       "230   0.341908   0.157873        1  \n",
       "883   0.289808   0.157873        0  \n",
       "543   0.418888   0.157873        1  \n",
       "1068  0.455666   0.157873        1  \n",
       "852   0.223967   0.157873        1  \n",
       "913   0.536469   0.157873        0  \n",
       "162   0.662781   0.157873        1  \n",
       "4     0.480432   0.157873        1  \n",
       "437   0.167756   0.157873        1  "
      ]
     },
     "execution_count": 143,
     "metadata": {},
     "output_type": "execute_result"
    }
   ],
   "source": [
    "results_uncertain[\"predictions_df\"].sample(10)"
   ]
  },
  {
   "cell_type": "markdown",
   "id": "2f5d6a98",
   "metadata": {},
   "source": [
    "# Ручное тестирование"
   ]
  },
  {
   "cell_type": "code",
   "execution_count": 144,
   "id": "0a303d9e",
   "metadata": {},
   "outputs": [],
   "source": [
    "import json\n",
    "from pathlib import Path\n",
    "\n",
    "from ml.pipline import NERPipelineCRF\n",
    "\n",
    "model_dir = DATA_PATH_SAVE_MODELS / \"ner_x5\"\n",
    "label2idx_path = DATA_PATH_SAVE_MODELS / \"label2idx.json\"\n",
    "idx2label_path = DATA_PATH_SAVE_MODELS / \"idx2label.json\"\n",
    "\n",
    "with open(label2idx_path, \"r\", encoding=\"utf-8\") as f:\n",
    "    label2idx = json.load(f)\n",
    "\n",
    "with open(idx2label_path, \"r\", encoding=\"utf-8\") as f:\n",
    "    idx2label = {int(k): v for k, v in json.load(f).items()}\n",
    "\n",
    "pipeline = NERPipelineCRF(\n",
    "    model_path=model_dir,\n",
    "    label2idx=label2idx,\n",
    "    idx2label=idx2label,\n",
    "    max_length=16\n",
    ")\n"
   ]
  },
  {
   "cell_type": "code",
   "execution_count": 145,
   "id": "3670b02f",
   "metadata": {},
   "outputs": [
    {
     "name": "stdout",
     "output_type": "stream",
     "text": [
      "Текст: йогурт данисимо фантазия\n",
      "[{'start_index': 0, 'end_index': 6, 'entity': 'B-TYPE', 'word': 'йогурт'}, {'start_index': 7, 'end_index': 15, 'entity': 'B-BRAND', 'word': 'данисимо'}, {'start_index': 16, 'end_index': 24, 'entity': 'I-BRAND', 'word': 'фантазия'}]\n",
      "Текст: молоко простоквашино 3.2% 930г\n",
      "[{'start_index': 0, 'end_index': 6, 'entity': 'B-TYPE', 'word': 'молоко'}, {'start_index': 7, 'end_index': 20, 'entity': 'B-BRAND', 'word': 'простоквашино'}, {'start_index': 21, 'end_index': 25, 'entity': 'B-PERCENT', 'word': '3.2%'}, {'start_index': 26, 'end_index': 30, 'entity': 'B-BRAND', 'word': '930г'}]\n",
      "Текст: хлеб бородинский нарезка 300г\n",
      "[{'start_index': 0, 'end_index': 4, 'entity': 'B-TYPE', 'word': 'хлеб'}, {'start_index': 5, 'end_index': 16, 'entity': 'I-TYPE', 'word': 'бородинский'}, {'start_index': 17, 'end_index': 24, 'entity': 'I-TYPE', 'word': 'нарезка'}, {'start_index': 25, 'end_index': 29, 'entity': 'I-BRAND', 'word': '300г'}]\n",
      "Текст: мороженнае как бы его взтять\n",
      "[{'start_index': 0, 'end_index': 10, 'entity': 'B-TYPE', 'word': 'мороженнае'}, {'start_index': 11, 'end_index': 14, 'entity': 'I-TYPE', 'word': 'как'}, {'start_index': 15, 'end_index': 17, 'entity': 'I-TYPE', 'word': 'бы'}, {'start_index': 18, 'end_index': 21, 'entity': 'I-TYPE', 'word': 'его'}, {'start_index': 22, 'end_index': 28, 'entity': 'I-BRAND', 'word': 'взтять'}]\n",
      "Текст: молоко⁷ цельное\n",
      "[{'start_index': 8, 'end_index': 15, 'entity': 'I-TYPE', 'word': 'цельное'}]\n",
      "Текст: паштет для кошки\n",
      "[{'start_index': 0, 'end_index': 6, 'entity': 'B-TYPE', 'word': 'паштет'}, {'start_index': 7, 'end_index': 10, 'entity': 'I-TYPE', 'word': 'для'}, {'start_index': 11, 'end_index': 16, 'entity': 'I-TYPE', 'word': 'кошки'}]\n",
      "Текст: погремушки fisher-pri\n",
      "[{'start_index': 0, 'end_index': 10, 'entity': 'B-TYPE', 'word': 'погремушки'}, {'start_index': 11, 'end_index': 21, 'entity': 'B-BRAND', 'word': 'fisher-pri'}]\n",
      "Текст: сырокопченая-колбаск\n",
      "[{'start_index': 0, 'end_index': 20, 'entity': 'B-TYPE', 'word': 'сырокопченая-колбаск'}]\n",
      "Текст: мясное пюре для пупсов, 250г,\n",
      "[{'start_index': 0, 'end_index': 6, 'entity': 'B-TYPE', 'word': 'мясное'}, {'start_index': 7, 'end_index': 11, 'entity': 'I-TYPE', 'word': 'пюре'}, {'start_index': 12, 'end_index': 15, 'entity': 'I-TYPE', 'word': 'для'}, {'start_index': 16, 'end_index': 23, 'entity': 'I-TYPE', 'word': 'пупсов,'}, {'start_index': 24, 'end_index': 29, 'entity': 'I-TYPE', 'word': '250г,'}]\n"
     ]
    }
   ],
   "source": [
    "text = [\n",
    "    \"йогурт данисимо фантазия\",\n",
    "    \"молоко простоквашино 3.2% 930г\",\n",
    "    \"хлеб бородинский нарезка 300г\",\n",
    "    \"мороженнае как бы его взтять\",\n",
    "    \"молоко⁷ цельное\",\n",
    "    \"паштет для кошки\",\n",
    "    \"погремушки fisher-pri\",   \n",
    "    \"сырокопченая-колбаск\",\n",
    "    \"мясное пюре для пупсов, 250г,\",\n",
    "]\n",
    "entities = pipeline.predict(text, return_word=True)\n",
    "\n",
    "for i, entity in enumerate(entities):\n",
    "    print(f\"Текст: {text[i]}\")\n",
    "    print(entity)"
   ]
  },
  {
   "cell_type": "code",
   "execution_count": 146,
   "id": "80260521",
   "metadata": {},
   "outputs": [],
   "source": [
    "import pandas as pd\n",
    "from tqdm import tqdm\n",
    "\n",
    "def run_inference_on_dataframe(\n",
    "    pipeline, \n",
    "    df: pd.DataFrame,\n",
    "    text_col: str = \"sample\", \n",
    "    batch_size: int = 64\n",
    ") -> pd.DataFrame:\n",
    "    \n",
    "    texts = df[text_col].tolist()\n",
    "    all_entities = []\n",
    "\n",
    "    for i in tqdm(range(0, len(texts), batch_size), desc=\"Running inference\", ncols=100):\n",
    "        batch_texts = texts[i:i+batch_size]\n",
    "        batch_entities = pipeline.predict(batch_texts, batch_size=batch_size)\n",
    "        all_entities.extend(batch_entities)\n",
    "\n",
    "    formatted_entities = [\n",
    "        [(ent[\"start_index\"], ent[\"end_index\"], ent[\"entity\"]) for ent in ents]\n",
    "        for ents in all_entities\n",
    "    ]\n",
    "\n",
    "    df_result = pd.DataFrame({\n",
    "        \"id\": range(1, len(texts) + 1),\n",
    "        \"search_query\": texts,\n",
    "        \"annotation\": formatted_entities\n",
    "    })\n",
    "\n",
    "    return df_result\n"
   ]
  },
  {
   "cell_type": "code",
   "execution_count": 147,
   "id": "2d7e89c5",
   "metadata": {},
   "outputs": [
    {
     "name": "stderr",
     "output_type": "stream",
     "text": [
      "Running inference: 100%|████████████████████████████████████████████| 79/79 [00:03<00:00, 23.31it/s]\n"
     ]
    }
   ],
   "source": [
    "df_result = run_inference_on_dataframe(pipeline, df_submission, text_col=\"sample\", batch_size=64)\n"
   ]
  },
  {
   "cell_type": "code",
   "execution_count": 148,
   "id": "4858d928",
   "metadata": {},
   "outputs": [
    {
     "data": {
      "text/html": [
       "<div>\n",
       "<style scoped>\n",
       "    .dataframe tbody tr th:only-of-type {\n",
       "        vertical-align: middle;\n",
       "    }\n",
       "\n",
       "    .dataframe tbody tr th {\n",
       "        vertical-align: top;\n",
       "    }\n",
       "\n",
       "    .dataframe thead th {\n",
       "        text-align: right;\n",
       "    }\n",
       "</style>\n",
       "<table border=\"1\" class=\"dataframe\">\n",
       "  <thead>\n",
       "    <tr style=\"text-align: right;\">\n",
       "      <th></th>\n",
       "      <th>id</th>\n",
       "      <th>search_query</th>\n",
       "      <th>annotation</th>\n",
       "    </tr>\n",
       "  </thead>\n",
       "  <tbody>\n",
       "    <tr>\n",
       "      <th>1431</th>\n",
       "      <td>1432</td>\n",
       "      <td>mol</td>\n",
       "      <td>[(0, 3, B-TYPE)]</td>\n",
       "    </tr>\n",
       "    <tr>\n",
       "      <th>2309</th>\n",
       "      <td>2310</td>\n",
       "      <td>осетровые</td>\n",
       "      <td>[(0, 9, B-TYPE)]</td>\n",
       "    </tr>\n",
       "    <tr>\n",
       "      <th>3952</th>\n",
       "      <td>3953</td>\n",
       "      <td>олейна</td>\n",
       "      <td>[(0, 6, B-TYPE)]</td>\n",
       "    </tr>\n",
       "    <tr>\n",
       "      <th>360</th>\n",
       "      <td>361</td>\n",
       "      <td>яблоко вишня</td>\n",
       "      <td>[(0, 6, B-TYPE), (7, 12, I-TYPE)]</td>\n",
       "    </tr>\n",
       "    <tr>\n",
       "      <th>3781</th>\n",
       "      <td>3782</td>\n",
       "      <td>погремушки плейгр</td>\n",
       "      <td>[(0, 10, B-TYPE), (11, 17, B-BRAND)]</td>\n",
       "    </tr>\n",
       "  </tbody>\n",
       "</table>\n",
       "</div>"
      ],
      "text/plain": [
       "        id       search_query                            annotation\n",
       "1431  1432                mol                      [(0, 3, B-TYPE)]\n",
       "2309  2310          осетровые                      [(0, 9, B-TYPE)]\n",
       "3952  3953             олейна                      [(0, 6, B-TYPE)]\n",
       "360    361       яблоко вишня     [(0, 6, B-TYPE), (7, 12, I-TYPE)]\n",
       "3781  3782  погремушки плейгр  [(0, 10, B-TYPE), (11, 17, B-BRAND)]"
      ]
     },
     "execution_count": 148,
     "metadata": {},
     "output_type": "execute_result"
    }
   ],
   "source": [
    "df_result.sample(5)"
   ]
  },
  {
   "cell_type": "code",
   "execution_count": 151,
   "id": "09516199",
   "metadata": {},
   "outputs": [],
   "source": [
    "df_result.to_csv(DATA_PATH_DOWNLOAD /  \"submission.csv\", index=False, sep=\";\")\n"
   ]
  }
 ],
 "metadata": {
  "kernelspec": {
   "display_name": ".venv",
   "language": "python",
   "name": "python3"
  },
  "language_info": {
   "codemirror_mode": {
    "name": "ipython",
    "version": 3
   },
   "file_extension": ".py",
   "mimetype": "text/x-python",
   "name": "python",
   "nbconvert_exporter": "python",
   "pygments_lexer": "ipython3",
   "version": "3.11.5"
  }
 },
 "nbformat": 4,
 "nbformat_minor": 5
}
