{
 "cells": [
  {
   "cell_type": "markdown",
   "id": "cce5d94a",
   "metadata": {},
   "source": [
    "# X5"
   ]
  },
  {
   "cell_type": "code",
   "execution_count": 137,
   "id": "837ebf48",
   "metadata": {},
   "outputs": [],
   "source": [
    "import random\n",
    "\n",
    "import numpy as np\n",
    "import pandas as pd\n",
    "\n",
    "import torch\n",
    "\n",
    "torch.cuda.empty_cache()\n",
    "\n",
    "def seed_all(seed: int) -> None:\n",
    "    np.random.seed(seed)\n",
    "    torch.manual_seed(seed)\n",
    "    torch.cuda.manual_seed(seed)\n",
    "    torch.cuda.manual_seed_all(seed)\n",
    "    torch.backends.cudnn.deterministic = True\n",
    "    torch.backends.cudnn.benchmark = False\n",
    "    random.seed(seed)"
   ]
  },
  {
   "cell_type": "code",
   "execution_count": 138,
   "id": "36e0b595",
   "metadata": {},
   "outputs": [],
   "source": [
    "SEED = 42\n",
    "# seed_all(SEED)"
   ]
  },
  {
   "cell_type": "code",
   "execution_count": 139,
   "id": "ed2f6b4c",
   "metadata": {},
   "outputs": [],
   "source": [
    "from pathlib import Path\n",
    "\n",
    "DATA_PATH = Path('../../../data/')\n",
    "DATA_PATH.mkdir(parents=True, exist_ok=True)\n",
    "\n",
    "DATA_PATH_DOWNLOAD = DATA_PATH / Path('download/')\n",
    "DATA_PATH_DOWNLOAD.mkdir(parents=True, exist_ok=True)\n",
    "\n",
    "DATA_PATH_DATASET = DATA_PATH / Path('datasets/')\n",
    "DATA_PATH_DATASET.mkdir(parents=True, exist_ok=True)\n",
    "\n",
    "DATA_SYNTHETICS = DATA_PATH / Path('synthetics/')\n",
    "DATA_PATH_DATASET.mkdir(parents=True, exist_ok=True)\n",
    "\n",
    "DATA_CACHE = DATA_PATH / Path('cache_dir/')\n",
    "DATA_CACHE.mkdir(parents=True, exist_ok=True)\n",
    "\n",
    "DATA_PATH_SAVE_MODELS = DATA_PATH / Path('models/')\n",
    "DATA_PATH_SAVE_MODELS.mkdir(parents=True, exist_ok=True)\n",
    "\n",
    "DATA_IMGS = DATA_PATH /  Path('imgs/')\n",
    "DATA_IMGS.mkdir(parents=True, exist_ok=True)\n",
    "\n",
    "import pandas as pd\n",
    "\n",
    "pd.set_option('display.max_colwidth', 500) "
   ]
  },
  {
   "cell_type": "code",
   "execution_count": 140,
   "id": "d7fcec7a",
   "metadata": {},
   "outputs": [],
   "source": [
    "import sys\n",
    "import os\n",
    "\n",
    "project_path = os.path.abspath(os.path.join(os.getcwd(), \"../../\"))\n",
    "sys.path.append(project_path)"
   ]
  },
  {
   "cell_type": "code",
   "execution_count": 141,
   "id": "db7ff8fb",
   "metadata": {},
   "outputs": [],
   "source": [
    "BASE_MODEL_NAME = 'cointegrated/rubert-tiny2'\n",
    "# BASE_MODEL_NAME = 'MoritzLaurer/mDeBERTa-v3-base-mnli-xnli'\n",
    "# BASE_MODEL_NAME = 'DeepPavlov/rubert-base-cased'\n",
    "MODEL_NAME_SAVE = \"ner_x5\"\n",
    "MODEL_CHECKPOINT_PATH = \"ner_x5_checkpoint\""
   ]
  },
  {
   "cell_type": "code",
   "execution_count": 142,
   "id": "66775d5f",
   "metadata": {},
   "outputs": [],
   "source": [
    "from datetime import datetime\n",
    "\n",
    "current_date = datetime.now().strftime(\"%d-%m-%Y\")\n",
    "DATA_LOG = DATA_PATH / Path(f'../logs/{MODEL_NAME_SAVE}_{current_date}')\n",
    "DATA_LOG.mkdir(parents=True, exist_ok=True)"
   ]
  },
  {
   "cell_type": "code",
   "execution_count": 143,
   "id": "5a7fed11",
   "metadata": {},
   "outputs": [],
   "source": [
    "MAX_LENGTH = 16\n",
    "BATCH_SIZE = 128"
   ]
  },
  {
   "cell_type": "markdown",
   "id": "a008b155",
   "metadata": {},
   "source": [
    "# Данные"
   ]
  },
  {
   "cell_type": "code",
   "execution_count": 144,
   "id": "4db66fba",
   "metadata": {},
   "outputs": [],
   "source": [
    "df_x5 = pd.read_csv(DATA_PATH_DATASET / \"train.csv\", sep=\";\")"
   ]
  },
  {
   "cell_type": "code",
   "execution_count": 145,
   "id": "462ecef9",
   "metadata": {},
   "outputs": [
    {
     "data": {
      "text/html": [
       "<div>\n",
       "<style scoped>\n",
       "    .dataframe tbody tr th:only-of-type {\n",
       "        vertical-align: middle;\n",
       "    }\n",
       "\n",
       "    .dataframe tbody tr th {\n",
       "        vertical-align: top;\n",
       "    }\n",
       "\n",
       "    .dataframe thead th {\n",
       "        text-align: right;\n",
       "    }\n",
       "</style>\n",
       "<table border=\"1\" class=\"dataframe\">\n",
       "  <thead>\n",
       "    <tr style=\"text-align: right;\">\n",
       "      <th></th>\n",
       "      <th>sample</th>\n",
       "      <th>annotation</th>\n",
       "    </tr>\n",
       "  </thead>\n",
       "  <tbody>\n",
       "    <tr>\n",
       "      <th>12616</th>\n",
       "      <td>масоины</td>\n",
       "      <td>[(0, 7, 'B-TYPE')]</td>\n",
       "    </tr>\n",
       "    <tr>\n",
       "      <th>6863</th>\n",
       "      <td>ермкая кф</td>\n",
       "      <td>[(0, 6, 'O'), (7, 9, 'O')]</td>\n",
       "    </tr>\n",
       "    <tr>\n",
       "      <th>15929</th>\n",
       "      <td>пельмени с маслом</td>\n",
       "      <td>[(0, 8, 'B-TYPE'), (9, 10, 'O'), (11, 17, 'O')]</td>\n",
       "    </tr>\n",
       "    <tr>\n",
       "      <th>217</th>\n",
       "      <td>basilur ча</td>\n",
       "      <td>[(0, 7, 'B-BRAND'), (8, 10, 'B-TYPE')]</td>\n",
       "    </tr>\n",
       "    <tr>\n",
       "      <th>21923</th>\n",
       "      <td>сулугн</td>\n",
       "      <td>[(0, 6, 'B-TYPE')]</td>\n",
       "    </tr>\n",
       "  </tbody>\n",
       "</table>\n",
       "</div>"
      ],
      "text/plain": [
       "                  sample                                       annotation\n",
       "12616            масоины                               [(0, 7, 'B-TYPE')]\n",
       "6863           ермкая кф                       [(0, 6, 'O'), (7, 9, 'O')]\n",
       "15929  пельмени с маслом  [(0, 8, 'B-TYPE'), (9, 10, 'O'), (11, 17, 'O')]\n",
       "217           basilur ча           [(0, 7, 'B-BRAND'), (8, 10, 'B-TYPE')]\n",
       "21923             сулугн                               [(0, 6, 'B-TYPE')]"
      ]
     },
     "execution_count": 145,
     "metadata": {},
     "output_type": "execute_result"
    }
   ],
   "source": [
    "df_x5.sample(5)"
   ]
  },
  {
   "cell_type": "code",
   "execution_count": 146,
   "id": "f19774fb",
   "metadata": {},
   "outputs": [],
   "source": [
    "def normalize_annotations(ann_list):\n",
    "    if isinstance(ann_list, str):\n",
    "        ann_list = eval(ann_list)\n",
    "    new_list = []\n",
    "    for start, end, label in ann_list:\n",
    "        if label == \"0\":\n",
    "            label = \"O\"\n",
    "        new_list.append((start, end, label))\n",
    "    return new_list\n",
    "\n",
    "df_x5[\"annotation\"] = df_x5[\"annotation\"].apply(normalize_annotations)"
   ]
  },
  {
   "cell_type": "code",
   "execution_count": 147,
   "id": "b0514259",
   "metadata": {},
   "outputs": [
    {
     "data": {
      "text/plain": [
       "['B-BRAND',\n",
       " 'B-PERCENT',\n",
       " 'B-TYPE',\n",
       " 'B-VOLUME',\n",
       " 'I-BRAND',\n",
       " 'I-PERCENT',\n",
       " 'I-TYPE',\n",
       " 'I-VOLUME',\n",
       " 'O']"
      ]
     },
     "execution_count": 147,
     "metadata": {},
     "output_type": "execute_result"
    }
   ],
   "source": [
    "all_labels = set()\n",
    "\n",
    "for ann_list in df_x5[\"annotation\"]:\n",
    "    if isinstance(ann_list, str):\n",
    "        ann_list = eval(ann_list)\n",
    "    for _, _, label in ann_list:\n",
    "        all_labels.add(label)\n",
    "\n",
    "unique_labels = sorted(all_labels)\n",
    "unique_labels"
   ]
  },
  {
   "cell_type": "code",
   "execution_count": 148,
   "id": "1bce1723",
   "metadata": {},
   "outputs": [],
   "source": [
    "import ast\n",
    "\n",
    "def fix_annotations(ann):\n",
    "    if isinstance(ann, str):\n",
    "        ann = ast.literal_eval(ann)\n",
    "\n",
    "    new_ann = []\n",
    "    prev_label = None\n",
    "\n",
    "    for start, end, label in ann:\n",
    "        if label == \"O\":\n",
    "            if prev_label is None:\n",
    "                new_label = \"B-TYPE\"\n",
    "            elif prev_label.startswith((\"B-\", \"I-\")):\n",
    "                ent_type = prev_label.split(\"-\", 1)[-1]\n",
    "                new_label = f\"I-{ent_type}\"\n",
    "            else:\n",
    "                new_label = \"B-TYPE\"\n",
    "        else:\n",
    "            new_label = label\n",
    "\n",
    "        new_ann.append((start, end, new_label))\n",
    "        prev_label = new_label\n",
    "\n",
    "    return new_ann\n"
   ]
  },
  {
   "cell_type": "code",
   "execution_count": 149,
   "id": "90aeb8ef",
   "metadata": {},
   "outputs": [],
   "source": [
    "\n",
    "\n",
    "df_x5[\"annotation\"] = df_x5[\"annotation\"].apply(fix_annotations)\n"
   ]
  },
  {
   "cell_type": "code",
   "execution_count": 150,
   "id": "27c13579",
   "metadata": {},
   "outputs": [
    {
     "data": {
      "text/html": [
       "<div>\n",
       "<style scoped>\n",
       "    .dataframe tbody tr th:only-of-type {\n",
       "        vertical-align: middle;\n",
       "    }\n",
       "\n",
       "    .dataframe tbody tr th {\n",
       "        vertical-align: top;\n",
       "    }\n",
       "\n",
       "    .dataframe thead th {\n",
       "        text-align: right;\n",
       "    }\n",
       "</style>\n",
       "<table border=\"1\" class=\"dataframe\">\n",
       "  <thead>\n",
       "    <tr style=\"text-align: right;\">\n",
       "      <th></th>\n",
       "      <th>sample</th>\n",
       "      <th>annotation</th>\n",
       "    </tr>\n",
       "  </thead>\n",
       "  <tbody>\n",
       "    <tr>\n",
       "      <th>7277</th>\n",
       "      <td>зарядные устройств</td>\n",
       "      <td>[(0, 8, B-TYPE), (9, 18, I-TYPE)]</td>\n",
       "    </tr>\n",
       "    <tr>\n",
       "      <th>14165</th>\n",
       "      <td>наггитсы</td>\n",
       "      <td>[(0, 8, B-TYPE)]</td>\n",
       "    </tr>\n",
       "    <tr>\n",
       "      <th>5577</th>\n",
       "      <td>глазированные сырки</td>\n",
       "      <td>[(0, 13, B-TYPE), (14, 19, I-TYPE)]</td>\n",
       "    </tr>\n",
       "    <tr>\n",
       "      <th>2267</th>\n",
       "      <td>vicenzi трубочка</td>\n",
       "      <td>[(0, 7, B-BRAND), (8, 16, B-TYPE)]</td>\n",
       "    </tr>\n",
       "    <tr>\n",
       "      <th>6285</th>\n",
       "      <td>губкк</td>\n",
       "      <td>[(0, 5, B-TYPE)]</td>\n",
       "    </tr>\n",
       "  </tbody>\n",
       "</table>\n",
       "</div>"
      ],
      "text/plain": [
       "                    sample                           annotation\n",
       "7277    зарядные устройств    [(0, 8, B-TYPE), (9, 18, I-TYPE)]\n",
       "14165             наггитсы                     [(0, 8, B-TYPE)]\n",
       "5577   глазированные сырки  [(0, 13, B-TYPE), (14, 19, I-TYPE)]\n",
       "2267      vicenzi трубочка   [(0, 7, B-BRAND), (8, 16, B-TYPE)]\n",
       "6285                 губкк                     [(0, 5, B-TYPE)]"
      ]
     },
     "execution_count": 150,
     "metadata": {},
     "output_type": "execute_result"
    }
   ],
   "source": [
    "df_x5.sample(5)"
   ]
  },
  {
   "cell_type": "code",
   "execution_count": 151,
   "id": "bb33251a",
   "metadata": {},
   "outputs": [],
   "source": [
    "df_submission = pd.read_csv(DATA_PATH_DATASET / \"submission.csv\", sep=\";\")\n",
    "df_submission[\"annotation\"] = df_submission[\"annotation\"].apply(normalize_annotations)"
   ]
  },
  {
   "cell_type": "code",
   "execution_count": 152,
   "id": "52c18957",
   "metadata": {},
   "outputs": [],
   "source": [
    "import pandas as pd\n",
    "from pathlib import Path\n",
    "import ast\n",
    "\n",
    "def load_synthetic_file(file_path: str | Path) -> pd.DataFrame:\n",
    "    file_path = Path(file_path)\n",
    "    data = []\n",
    "\n",
    "    with open(file_path, \"r\", encoding=\"utf-8\") as f:\n",
    "        for line in f:\n",
    "            line = line.strip()\n",
    "            if not line:\n",
    "                continue\n",
    "\n",
    "            try:\n",
    "                text, ann_str = line.split(\";\", 1)\n",
    "                text = text.strip()\n",
    "                annotation = ast.literal_eval(ann_str.strip())\n",
    "                data.append({\"sample\": text, \"annotation\": annotation})\n",
    "            except Exception as e:\n",
    "                print(f\"Ошибка при обработке строки в {file_path}: {line}\\n{e}\")\n",
    "\n",
    "    return pd.DataFrame(data)\n"
   ]
  },
  {
   "cell_type": "code",
   "execution_count": 153,
   "id": "71e4679c",
   "metadata": {},
   "outputs": [],
   "source": [
    "def load_synthetic_dataset(data_dir: str | Path) -> pd.DataFrame:\n",
    "    data_dir = Path(data_dir)\n",
    "    all_dfs = []\n",
    "\n",
    "    for file_path in data_dir.glob(\"*.txt\"):\n",
    "        df_file = load_synthetic_file(file_path)\n",
    "        all_dfs.append(df_file)\n",
    "\n",
    "    if all_dfs:\n",
    "        return pd.concat(all_dfs).reset_index(drop=True)\n",
    "    else:\n",
    "        return pd.DataFrame(columns=[\"sample\", \"annotation\"])\n"
   ]
  },
  {
   "cell_type": "code",
   "execution_count": 154,
   "id": "c6838138",
   "metadata": {},
   "outputs": [],
   "source": [
    "df_synthetic = load_synthetic_dataset(DATA_SYNTHETICS)"
   ]
  },
  {
   "cell_type": "code",
   "execution_count": 155,
   "id": "ce666f8a",
   "metadata": {},
   "outputs": [],
   "source": [
    "df_x5[\"df_label\"] = \"x5\"\n",
    "df_synthetic[\"df_label\"] = \"synthetic\"\n",
    "\n",
    "dfs = []\n",
    "dfs.append(df_x5)\n",
    "dfs.append(df_synthetic)"
   ]
  },
  {
   "cell_type": "code",
   "execution_count": 156,
   "id": "bcba52db",
   "metadata": {},
   "outputs": [
    {
     "name": "stdout",
     "output_type": "stream",
     "text": [
      "Размеры датафреймов. df_x5: (27251, 3) , df_synthetic: (3784, 3)\n"
     ]
    }
   ],
   "source": [
    "print(\"Размеры датафреймов. df_x5:\", df_x5.shape, \", df_synthetic:\", df_synthetic.shape)"
   ]
  },
  {
   "cell_type": "code",
   "execution_count": 157,
   "id": "0fe5c506",
   "metadata": {},
   "outputs": [],
   "source": [
    "df_train = pd.concat(dfs, ignore_index=True)\n",
    "# df_train = df_train.drop_duplicates(subset=[\"sample\"]).reset_index(drop=True)"
   ]
  },
  {
   "cell_type": "code",
   "execution_count": 158,
   "id": "b11f7180",
   "metadata": {},
   "outputs": [
    {
     "data": {
      "text/html": [
       "<div>\n",
       "<style scoped>\n",
       "    .dataframe tbody tr th:only-of-type {\n",
       "        vertical-align: middle;\n",
       "    }\n",
       "\n",
       "    .dataframe tbody tr th {\n",
       "        vertical-align: top;\n",
       "    }\n",
       "\n",
       "    .dataframe thead th {\n",
       "        text-align: right;\n",
       "    }\n",
       "</style>\n",
       "<table border=\"1\" class=\"dataframe\">\n",
       "  <thead>\n",
       "    <tr style=\"text-align: right;\">\n",
       "      <th></th>\n",
       "      <th>sample</th>\n",
       "      <th>annotation</th>\n",
       "      <th>df_label</th>\n",
       "    </tr>\n",
       "  </thead>\n",
       "  <tbody>\n",
       "    <tr>\n",
       "      <th>2187</th>\n",
       "      <td>снек рыбн остры</td>\n",
       "      <td>[(0, 4, B-TYPE), (5, 10, I-TYPE), (11, 16, I-TYPE)]</td>\n",
       "      <td>synthetic</td>\n",
       "    </tr>\n",
       "    <tr>\n",
       "      <th>2979</th>\n",
       "      <td>сметана 15 %</td>\n",
       "      <td>[(0, 7, B-TYPE), (8, 10, B-PERCENT), (11, 12, I-PERCENT)]</td>\n",
       "      <td>synthetic</td>\n",
       "    </tr>\n",
       "    <tr>\n",
       "      <th>325</th>\n",
       "      <td>hortex</td>\n",
       "      <td>[(0, 6, B-BRAND)]</td>\n",
       "      <td>synthetic</td>\n",
       "    </tr>\n",
       "    <tr>\n",
       "      <th>1420</th>\n",
       "      <td>творг зернёный клаассический</td>\n",
       "      <td>[(0, 5, B-TYPE), (6, 15, I-TYPE), (16, 31, I-TYPE)]</td>\n",
       "      <td>synthetic</td>\n",
       "    </tr>\n",
       "    <tr>\n",
       "      <th>1677</th>\n",
       "      <td>салт цезр куриц</td>\n",
       "      <td>[(0, 4, B-TYPE), (5, 10, I-TYPE), (11, 16, I-TYPE)]</td>\n",
       "      <td>synthetic</td>\n",
       "    </tr>\n",
       "  </tbody>\n",
       "</table>\n",
       "</div>"
      ],
      "text/plain": [
       "                            sample  \\\n",
       "2187               снек рыбн остры   \n",
       "2979                  сметана 15 %   \n",
       "325                         hortex   \n",
       "1420  творг зернёный клаассический   \n",
       "1677               салт цезр куриц   \n",
       "\n",
       "                                                     annotation   df_label  \n",
       "2187        [(0, 4, B-TYPE), (5, 10, I-TYPE), (11, 16, I-TYPE)]  synthetic  \n",
       "2979  [(0, 7, B-TYPE), (8, 10, B-PERCENT), (11, 12, I-PERCENT)]  synthetic  \n",
       "325                                           [(0, 6, B-BRAND)]  synthetic  \n",
       "1420        [(0, 5, B-TYPE), (6, 15, I-TYPE), (16, 31, I-TYPE)]  synthetic  \n",
       "1677        [(0, 4, B-TYPE), (5, 10, I-TYPE), (11, 16, I-TYPE)]  synthetic  "
      ]
     },
     "execution_count": 158,
     "metadata": {},
     "output_type": "execute_result"
    }
   ],
   "source": [
    "df_synthetic.sample(5)"
   ]
  },
  {
   "cell_type": "markdown",
   "id": "362e3993",
   "metadata": {},
   "source": [
    "# Словари"
   ]
  },
  {
   "cell_type": "code",
   "execution_count": 159,
   "id": "97c21ffd",
   "metadata": {},
   "outputs": [
    {
     "name": "stdout",
     "output_type": "stream",
     "text": [
      "label2idx: {'O': 0, 'B-BRAND': 1, 'I-BRAND': 2, 'B-PERCENT': 3, 'I-PERCENT': 4, 'B-TYPE': 5, 'I-TYPE': 6, 'B-VOLUME': 7, 'I-VOLUME': 8}\n",
      "idx2label: {0: 'O', 1: 'B-BRAND', 2: 'I-BRAND', 3: 'B-PERCENT', 4: 'I-PERCENT', 5: 'B-TYPE', 6: 'I-TYPE', 7: 'B-VOLUME', 8: 'I-VOLUME'}\n"
     ]
    }
   ],
   "source": [
    "unique_labels = {label for anns in df_train[\"annotation\"] for _, _, label in anns if label != \"O\"}\n",
    "\n",
    "b_labels = sorted([lbl for lbl in unique_labels if lbl.startswith(\"B-\")])\n",
    "i_labels = {lbl[2:]: lbl for lbl in unique_labels if lbl.startswith(\"I-\")}\n",
    "\n",
    "all_labels = [\"O\"]\n",
    "for b in b_labels:\n",
    "    all_labels.append(b)\n",
    "    base = b[2:]\n",
    "    if base in i_labels:\n",
    "        all_labels.append(i_labels[base])\n",
    "\n",
    "label2idx = {label: idx for idx, label in enumerate(all_labels)}\n",
    "idx2label = {idx: label for label, idx in label2idx.items()}\n",
    "\n",
    "print(\"label2idx:\", label2idx)\n",
    "print(\"idx2label:\", idx2label)\n"
   ]
  },
  {
   "cell_type": "code",
   "execution_count": 160,
   "id": "d4c72237",
   "metadata": {},
   "outputs": [
    {
     "name": "stdout",
     "output_type": "stream",
     "text": [
      "Словарь label2idx сохранён в ..\\..\\..\\data\\models\\label2idx.json\n",
      "Словарь idx2label сохранён в ..\\..\\..\\data\\models\\idx2label.json\n"
     ]
    }
   ],
   "source": [
    "import json\n",
    "\n",
    "label2idx_path = DATA_PATH_SAVE_MODELS / \"label2idx.json\"\n",
    "idx2label_path = DATA_PATH_SAVE_MODELS / \"idx2label.json\"\n",
    "\n",
    "with open(label2idx_path, \"w\", encoding=\"utf-8\") as f:\n",
    "    json.dump(label2idx, f, ensure_ascii=False, indent=4)\n",
    "\n",
    "with open(idx2label_path, \"w\", encoding=\"utf-8\") as f:\n",
    "    json.dump(idx2label, f, ensure_ascii=False, indent=4)\n",
    "\n",
    "print(f\"Словарь label2idx сохранён в {label2idx_path}\")\n",
    "print(f\"Словарь idx2label сохранён в {idx2label_path}\")"
   ]
  },
  {
   "cell_type": "markdown",
   "id": "d56d0c1a",
   "metadata": {},
   "source": [
    "# Датасет"
   ]
  },
  {
   "cell_type": "code",
   "execution_count": 161,
   "id": "3dc707e6",
   "metadata": {},
   "outputs": [],
   "source": [
    "import pandas as pd\n",
    "from sklearn.model_selection import train_test_split\n",
    "\n",
    "train_data: pd.DataFrame\n",
    "val_data: pd.DataFrame\n",
    "train_data, val_data = train_test_split(\n",
    "    df_train,\n",
    "    test_size=0.1,\n",
    "    shuffle=True,\n",
    "    random_state=42,\n",
    ")\n"
   ]
  },
  {
   "cell_type": "code",
   "execution_count": 162,
   "id": "0bd1735e",
   "metadata": {},
   "outputs": [
    {
     "data": {
      "text/html": [
       "<div>\n",
       "<style scoped>\n",
       "    .dataframe tbody tr th:only-of-type {\n",
       "        vertical-align: middle;\n",
       "    }\n",
       "\n",
       "    .dataframe tbody tr th {\n",
       "        vertical-align: top;\n",
       "    }\n",
       "\n",
       "    .dataframe thead th {\n",
       "        text-align: right;\n",
       "    }\n",
       "</style>\n",
       "<table border=\"1\" class=\"dataframe\">\n",
       "  <thead>\n",
       "    <tr style=\"text-align: right;\">\n",
       "      <th></th>\n",
       "      <th>sample</th>\n",
       "      <th>annotation</th>\n",
       "      <th>df_label</th>\n",
       "    </tr>\n",
       "  </thead>\n",
       "  <tbody>\n",
       "    <tr>\n",
       "      <th>22249</th>\n",
       "      <td>сывялнна</td>\n",
       "      <td>[(0, 8, B-TYPE)]</td>\n",
       "      <td>x5</td>\n",
       "    </tr>\n",
       "    <tr>\n",
       "      <th>28017</th>\n",
       "      <td>печенье барни медвежонок 150 г</td>\n",
       "      <td>[(0, 7, B-TYPE), (8, 13, B-BRAND), (26, 31, B-VOLUME)]</td>\n",
       "      <td>synthetic</td>\n",
       "    </tr>\n",
       "    <tr>\n",
       "      <th>8505</th>\n",
       "      <td>картиофель</td>\n",
       "      <td>[(0, 10, B-TYPE)]</td>\n",
       "      <td>x5</td>\n",
       "    </tr>\n",
       "    <tr>\n",
       "      <th>4589</th>\n",
       "      <td>вектор дома</td>\n",
       "      <td>[(0, 6, B-BRAND), (7, 11, I-BRAND)]</td>\n",
       "      <td>x5</td>\n",
       "    </tr>\n",
       "    <tr>\n",
       "      <th>26694</th>\n",
       "      <td>энаргетик</td>\n",
       "      <td>[(0, 9, B-TYPE)]</td>\n",
       "      <td>x5</td>\n",
       "    </tr>\n",
       "  </tbody>\n",
       "</table>\n",
       "</div>"
      ],
      "text/plain": [
       "                               sample  \\\n",
       "22249                        сывялнна   \n",
       "28017  печенье барни медвежонок 150 г   \n",
       "8505                       картиофель   \n",
       "4589                      вектор дома   \n",
       "26694                       энаргетик   \n",
       "\n",
       "                                                   annotation   df_label  \n",
       "22249                                        [(0, 8, B-TYPE)]         x5  \n",
       "28017  [(0, 7, B-TYPE), (8, 13, B-BRAND), (26, 31, B-VOLUME)]  synthetic  \n",
       "8505                                        [(0, 10, B-TYPE)]         x5  \n",
       "4589                      [(0, 6, B-BRAND), (7, 11, I-BRAND)]         x5  \n",
       "26694                                        [(0, 9, B-TYPE)]         x5  "
      ]
     },
     "execution_count": 162,
     "metadata": {},
     "output_type": "execute_result"
    }
   ],
   "source": [
    "train_data.head()"
   ]
  },
  {
   "cell_type": "code",
   "execution_count": 163,
   "id": "b2696211",
   "metadata": {},
   "outputs": [
    {
     "data": {
      "text/html": [
       "<div>\n",
       "<style scoped>\n",
       "    .dataframe tbody tr th:only-of-type {\n",
       "        vertical-align: middle;\n",
       "    }\n",
       "\n",
       "    .dataframe tbody tr th {\n",
       "        vertical-align: top;\n",
       "    }\n",
       "\n",
       "    .dataframe thead th {\n",
       "        text-align: right;\n",
       "    }\n",
       "</style>\n",
       "<table border=\"1\" class=\"dataframe\">\n",
       "  <thead>\n",
       "    <tr style=\"text-align: right;\">\n",
       "      <th></th>\n",
       "      <th>sample</th>\n",
       "      <th>annotation</th>\n",
       "    </tr>\n",
       "  </thead>\n",
       "  <tbody>\n",
       "    <tr>\n",
       "      <th>0</th>\n",
       "      <td>форма для выпечки</td>\n",
       "      <td>[(0, 5, B-TYPE), (6, 9, I-TYPE), (10, 17, I-TYPE)]</td>\n",
       "    </tr>\n",
       "    <tr>\n",
       "      <th>1</th>\n",
       "      <td>фарш свиной</td>\n",
       "      <td>[(0, 4, B-TYPE), (5, 11, I-TYPE)]</td>\n",
       "    </tr>\n",
       "    <tr>\n",
       "      <th>2</th>\n",
       "      <td>сок ананасовый без сахара</td>\n",
       "      <td>[(0, 3, B-TYPE), (4, 14, I-TYPE), (15, 18, I-TYPE), (19, 25, I-TYPE)]</td>\n",
       "    </tr>\n",
       "    <tr>\n",
       "      <th>3</th>\n",
       "      <td>еринги</td>\n",
       "      <td>[(0, 6, B-TYPE)]</td>\n",
       "    </tr>\n",
       "    <tr>\n",
       "      <th>4</th>\n",
       "      <td>молооко</td>\n",
       "      <td>[(0, 7, B-TYPE)]</td>\n",
       "    </tr>\n",
       "  </tbody>\n",
       "</table>\n",
       "</div>"
      ],
      "text/plain": [
       "                      sample  \\\n",
       "0          форма для выпечки   \n",
       "1                фарш свиной   \n",
       "2  сок ананасовый без сахара   \n",
       "3                     еринги   \n",
       "4                    молооко   \n",
       "\n",
       "                                                              annotation  \n",
       "0                     [(0, 5, B-TYPE), (6, 9, I-TYPE), (10, 17, I-TYPE)]  \n",
       "1                                      [(0, 4, B-TYPE), (5, 11, I-TYPE)]  \n",
       "2  [(0, 3, B-TYPE), (4, 14, I-TYPE), (15, 18, I-TYPE), (19, 25, I-TYPE)]  \n",
       "3                                                       [(0, 6, B-TYPE)]  \n",
       "4                                                       [(0, 7, B-TYPE)]  "
      ]
     },
     "execution_count": 163,
     "metadata": {},
     "output_type": "execute_result"
    }
   ],
   "source": [
    "df_submission.head()"
   ]
  },
  {
   "cell_type": "code",
   "execution_count": 164,
   "id": "b253a6a4",
   "metadata": {},
   "outputs": [
    {
     "name": "stderr",
     "output_type": "stream",
     "text": [
      "Tokenizing data: 100%|██████████████████████████████████████| 27931/27931 [00:04<00:00, 6562.64it/s]\n",
      "Tokenizing data: 100%|████████████████████████████████████████| 3104/3104 [00:00<00:00, 8501.17it/s]\n",
      "Tokenizing data: 100%|████████████████████████████████████████| 5000/5000 [00:00<00:00, 8669.45it/s]\n"
     ]
    }
   ],
   "source": [
    "from ml.dataset import NerDataSet\n",
    "\n",
    "dtype_input = torch.long\n",
    "dtype_labels = torch.long\n",
    "\n",
    "train_dataset = NerDataSet(\n",
    "    df=train_data, \n",
    "    max_length=MAX_LENGTH, \n",
    "    tokenizer_path=BASE_MODEL_NAME,\n",
    "    cache_dir=DATA_CACHE,\n",
    "    label2idx=label2idx,\n",
    "    text_label='sample',\n",
    "    target_label='annotation',\n",
    "    dtype_input_ids=dtype_input,\n",
    "    dtype_token_type_ids=dtype_input,\n",
    "    dtype_attention_mask=dtype_input,\n",
    "    dtype_labels=dtype_labels,\n",
    "    debug=True    \n",
    ")\n",
    "\n",
    "val_dataset = NerDataSet(\n",
    "    df=val_data,\n",
    "    max_length=MAX_LENGTH, \n",
    "    tokenizer_path=BASE_MODEL_NAME,\n",
    "    cache_dir=DATA_CACHE,\n",
    "    label2idx=label2idx,\n",
    "    text_label='sample',\n",
    "    target_label='annotation',\n",
    "    dtype_input_ids=dtype_input,\n",
    "    dtype_token_type_ids=dtype_input,\n",
    "    dtype_attention_mask=dtype_input,\n",
    "    dtype_labels=dtype_labels,\n",
    "    debug=True\n",
    ")\n",
    "\n",
    "test_dataset = NerDataSet(\n",
    "    df=df_submission, \n",
    "    max_length=MAX_LENGTH, \n",
    "    tokenizer_path=BASE_MODEL_NAME,\n",
    "    cache_dir=DATA_CACHE,\n",
    "    label2idx=label2idx,\n",
    "    text_label='sample',\n",
    "    target_label='annotation',\n",
    "    dtype_input_ids=dtype_input,\n",
    "    dtype_token_type_ids=dtype_input,\n",
    "    dtype_attention_mask=dtype_input,\n",
    "    dtype_labels=dtype_labels,\n",
    "    debug=True\n",
    ")\n"
   ]
  },
  {
   "cell_type": "code",
   "execution_count": 165,
   "id": "f4924c55",
   "metadata": {},
   "outputs": [
    {
     "name": "stdout",
     "output_type": "stream",
     "text": [
      "O               : 57569\n",
      "B-BRAND         : 8088\n",
      "I-BRAND         : 11639\n",
      "B-PERCENT       : 160\n",
      "I-PERCENT       : 170\n",
      "B-TYPE          : 26092\n",
      "I-TYPE          : 51734\n",
      "B-VOLUME        : 665\n",
      "I-VOLUME        : 599\n"
     ]
    }
   ],
   "source": [
    "import torch\n",
    "from collections import Counter\n",
    "import numpy as np\n",
    "\n",
    "def count_labels(dataset, idx2label):\n",
    "    all_labels = []\n",
    "    for labels in dataset.labels.tolist():\n",
    "        for l in labels:\n",
    "            if l != -100:\n",
    "                all_labels.append(l)\n",
    "    counts = Counter(all_labels)\n",
    "\n",
    "    label_counts = {idx2label[i]: counts.get(i, 0) for i in range(len(idx2label))}\n",
    "    return label_counts\n",
    "\n",
    "label_counts = count_labels(train_dataset, idx2label)\n",
    "for label, cnt in label_counts.items():\n",
    "    print(f\"{label:15s} : {cnt}\")\n"
   ]
  },
  {
   "cell_type": "code",
   "execution_count": 166,
   "id": "b39f90ab",
   "metadata": {},
   "outputs": [
    {
     "data": {
      "text/plain": [
       "{'input_ids': tensor([    2, 44352, 24155, 38230,   794,     3,     0,     0,     0,     0,\n",
       "             0,     0,     0,     0,     0,     0]),\n",
       " 'attention_mask': tensor([1, 1, 1, 1, 1, 1, 0, 0, 0, 0, 0, 0, 0, 0, 0, 0]),\n",
       " 'token_type_ids': tensor([0, 0, 0, 0, 0, 0, 0, 0, 0, 0, 0, 0, 0, 0, 0, 0]),\n",
       " 'labels': tensor([   0,    5,    6,    6,    6,    0, -100, -100, -100, -100, -100, -100,\n",
       "         -100, -100, -100, -100])}"
      ]
     },
     "execution_count": 166,
     "metadata": {},
     "output_type": "execute_result"
    }
   ],
   "source": [
    "train_dataset[0]"
   ]
  },
  {
   "cell_type": "code",
   "execution_count": 167,
   "id": "0f0ff487",
   "metadata": {},
   "outputs": [
    {
     "data": {
      "text/html": [
       "<div>\n",
       "<style scoped>\n",
       "    .dataframe tbody tr th:only-of-type {\n",
       "        vertical-align: middle;\n",
       "    }\n",
       "\n",
       "    .dataframe tbody tr th {\n",
       "        vertical-align: top;\n",
       "    }\n",
       "\n",
       "    .dataframe thead th {\n",
       "        text-align: right;\n",
       "    }\n",
       "</style>\n",
       "<table border=\"1\" class=\"dataframe\">\n",
       "  <thead>\n",
       "    <tr style=\"text-align: right;\">\n",
       "      <th></th>\n",
       "      <th>sample</th>\n",
       "      <th>annotation</th>\n",
       "      <th>df_label</th>\n",
       "      <th>tokens_ids_debug</th>\n",
       "      <th>tokens_text_debug</th>\n",
       "      <th>labels_debug</th>\n",
       "    </tr>\n",
       "  </thead>\n",
       "  <tbody>\n",
       "    <tr>\n",
       "      <th>16839</th>\n",
       "      <td>shoock</td>\n",
       "      <td>[(0, 6, B-BRAND)]</td>\n",
       "      <td>x5</td>\n",
       "      <td>[2, 15218, 6856, 1350, 3, 0, 0, 0, 0, 0, 0, 0, 0, 0, 0, 0]</td>\n",
       "      <td>[[CLS], sh, ##oo, ##ck, [SEP], [PAD], [PAD], [PAD], [PAD], [PAD], [PAD], [PAD], [PAD], [PAD], [PAD], [PAD]]</td>\n",
       "      <td>[O, B-BRAND, I-BRAND, I-BRAND, O, O, O, O, O, O, O, O, O, O, O, O]</td>\n",
       "    </tr>\n",
       "    <tr>\n",
       "      <th>7298</th>\n",
       "      <td>бритва</td>\n",
       "      <td>[(0, 6, B-TYPE)]</td>\n",
       "      <td>x5</td>\n",
       "      <td>[2, 69503, 1091, 3, 0, 0, 0, 0, 0, 0, 0, 0, 0, 0, 0, 0]</td>\n",
       "      <td>[[CLS], брит, ##ва, [SEP], [PAD], [PAD], [PAD], [PAD], [PAD], [PAD], [PAD], [PAD], [PAD], [PAD], [PAD], [PAD]]</td>\n",
       "      <td>[O, B-TYPE, I-TYPE, O, O, O, O, O, O, O, O, O, O, O, O, O]</td>\n",
       "    </tr>\n",
       "    <tr>\n",
       "      <th>7284</th>\n",
       "      <td>ветчинпые</td>\n",
       "      <td>[(0, 9, B-TYPE)]</td>\n",
       "      <td>x5</td>\n",
       "      <td>[2, 30431, 10319, 8086, 626, 3, 0, 0, 0, 0, 0, 0, 0, 0, 0, 0]</td>\n",
       "      <td>[[CLS], вет, ##чин, ##пы, ##е, [SEP], [PAD], [PAD], [PAD], [PAD], [PAD], [PAD], [PAD], [PAD], [PAD], [PAD]]</td>\n",
       "      <td>[O, B-TYPE, I-TYPE, I-TYPE, I-TYPE, O, O, O, O, O, O, O, O, O, O, O]</td>\n",
       "    </tr>\n",
       "    <tr>\n",
       "      <th>721</th>\n",
       "      <td>крупа гречнева</td>\n",
       "      <td>[(0, 5, B-TYPE), (6, 14, I-TYPE)]</td>\n",
       "      <td>x5</td>\n",
       "      <td>[2, 30197, 603, 20613, 66894, 3, 0, 0, 0, 0, 0, 0, 0, 0, 0, 0]</td>\n",
       "      <td>[[CLS], круп, ##а, греч, ##нева, [SEP], [PAD], [PAD], [PAD], [PAD], [PAD], [PAD], [PAD], [PAD], [PAD], [PAD]]</td>\n",
       "      <td>[O, B-TYPE, I-TYPE, I-TYPE, I-TYPE, O, O, O, O, O, O, O, O, O, O, O]</td>\n",
       "    </tr>\n",
       "    <tr>\n",
       "      <th>6479</th>\n",
       "      <td>брянк</td>\n",
       "      <td>[(0, 5, B-TYPE)]</td>\n",
       "      <td>x5</td>\n",
       "      <td>[2, 29231, 5290, 865, 3, 0, 0, 0, 0, 0, 0, 0, 0, 0, 0, 0]</td>\n",
       "      <td>[[CLS], бр, ##ян, ##к, [SEP], [PAD], [PAD], [PAD], [PAD], [PAD], [PAD], [PAD], [PAD], [PAD], [PAD], [PAD]]</td>\n",
       "      <td>[O, B-TYPE, I-TYPE, I-TYPE, O, O, O, O, O, O, O, O, O, O, O, O]</td>\n",
       "    </tr>\n",
       "    <tr>\n",
       "      <th>9512</th>\n",
       "      <td>майонез молоко соусы</td>\n",
       "      <td>[(0, 7, B-TYPE), (8, 14, I-TYPE), (15, 20, I-TYPE)]</td>\n",
       "      <td>x5</td>\n",
       "      <td>[2, 66392, 1556, 38747, 66039, 700, 3, 0, 0, 0, 0, 0, 0, 0, 0, 0]</td>\n",
       "      <td>[[CLS], майоне, ##з, молоко, соус, ##ы, [SEP], [PAD], [PAD], [PAD], [PAD], [PAD], [PAD], [PAD], [PAD], [PAD]]</td>\n",
       "      <td>[O, B-TYPE, I-TYPE, I-TYPE, I-TYPE, I-TYPE, O, O, O, O, O, O, O, O, O, O]</td>\n",
       "    </tr>\n",
       "    <tr>\n",
       "      <th>15301</th>\n",
       "      <td>пекарь крекеры</td>\n",
       "      <td>[(0, 6, B-BRAND), (7, 14, B-TYPE)]</td>\n",
       "      <td>x5</td>\n",
       "      <td>[2, 53235, 8958, 30004, 68111, 3, 0, 0, 0, 0, 0, 0, 0, 0, 0, 0]</td>\n",
       "      <td>[[CLS], пека, ##рь, кре, ##керы, [SEP], [PAD], [PAD], [PAD], [PAD], [PAD], [PAD], [PAD], [PAD], [PAD], [PAD]]</td>\n",
       "      <td>[O, B-BRAND, I-BRAND, B-TYPE, I-TYPE, O, O, O, O, O, O, O, O, O, O, O]</td>\n",
       "    </tr>\n",
       "    <tr>\n",
       "      <th>16260</th>\n",
       "      <td>птица</td>\n",
       "      <td>[(0, 5, B-TYPE)]</td>\n",
       "      <td>x5</td>\n",
       "      <td>[2, 17586, 3, 0, 0, 0, 0, 0, 0, 0, 0, 0, 0, 0, 0, 0]</td>\n",
       "      <td>[[CLS], птица, [SEP], [PAD], [PAD], [PAD], [PAD], [PAD], [PAD], [PAD], [PAD], [PAD], [PAD], [PAD], [PAD], [PAD]]</td>\n",
       "      <td>[O, B-TYPE, O, O, O, O, O, O, O, O, O, O, O, O, O, O]</td>\n",
       "    </tr>\n",
       "    <tr>\n",
       "      <th>23150</th>\n",
       "      <td>лепк</td>\n",
       "      <td>[(0, 4, B-TYPE)]</td>\n",
       "      <td>x5</td>\n",
       "      <td>[2, 52074, 865, 3, 0, 0, 0, 0, 0, 0, 0, 0, 0, 0, 0, 0]</td>\n",
       "      <td>[[CLS], леп, ##к, [SEP], [PAD], [PAD], [PAD], [PAD], [PAD], [PAD], [PAD], [PAD], [PAD], [PAD], [PAD], [PAD]]</td>\n",
       "      <td>[O, B-TYPE, I-TYPE, O, O, O, O, O, O, O, O, O, O, O, O, O]</td>\n",
       "    </tr>\n",
       "    <tr>\n",
       "      <th>459</th>\n",
       "      <td>чай с лаймом</td>\n",
       "      <td>[(0, 3, B-TYPE), (4, 5, I-TYPE), (6, 12, I-TYPE)]</td>\n",
       "      <td>x5</td>\n",
       "      <td>[2, 36971, 329, 8394, 19589, 761, 3, 0, 0, 0, 0, 0, 0, 0, 0, 0]</td>\n",
       "      <td>[[CLS], чай, с, ла, ##йм, ##ом, [SEP], [PAD], [PAD], [PAD], [PAD], [PAD], [PAD], [PAD], [PAD], [PAD]]</td>\n",
       "      <td>[O, B-TYPE, I-TYPE, I-TYPE, I-TYPE, I-TYPE, O, O, O, O, O, O, O, O, O, O]</td>\n",
       "    </tr>\n",
       "  </tbody>\n",
       "</table>\n",
       "</div>"
      ],
      "text/plain": [
       "                     sample  \\\n",
       "16839                shoock   \n",
       "7298                 бритва   \n",
       "7284              ветчинпые   \n",
       "721          крупа гречнева   \n",
       "6479                  брянк   \n",
       "9512   майонез молоко соусы   \n",
       "15301        пекарь крекеры   \n",
       "16260                 птица   \n",
       "23150                  лепк   \n",
       "459            чай с лаймом   \n",
       "\n",
       "                                                annotation df_label  \\\n",
       "16839                                    [(0, 6, B-BRAND)]       x5   \n",
       "7298                                      [(0, 6, B-TYPE)]       x5   \n",
       "7284                                      [(0, 9, B-TYPE)]       x5   \n",
       "721                      [(0, 5, B-TYPE), (6, 14, I-TYPE)]       x5   \n",
       "6479                                      [(0, 5, B-TYPE)]       x5   \n",
       "9512   [(0, 7, B-TYPE), (8, 14, I-TYPE), (15, 20, I-TYPE)]       x5   \n",
       "15301                   [(0, 6, B-BRAND), (7, 14, B-TYPE)]       x5   \n",
       "16260                                     [(0, 5, B-TYPE)]       x5   \n",
       "23150                                     [(0, 4, B-TYPE)]       x5   \n",
       "459      [(0, 3, B-TYPE), (4, 5, I-TYPE), (6, 12, I-TYPE)]       x5   \n",
       "\n",
       "                                                        tokens_ids_debug  \\\n",
       "16839         [2, 15218, 6856, 1350, 3, 0, 0, 0, 0, 0, 0, 0, 0, 0, 0, 0]   \n",
       "7298             [2, 69503, 1091, 3, 0, 0, 0, 0, 0, 0, 0, 0, 0, 0, 0, 0]   \n",
       "7284       [2, 30431, 10319, 8086, 626, 3, 0, 0, 0, 0, 0, 0, 0, 0, 0, 0]   \n",
       "721       [2, 30197, 603, 20613, 66894, 3, 0, 0, 0, 0, 0, 0, 0, 0, 0, 0]   \n",
       "6479           [2, 29231, 5290, 865, 3, 0, 0, 0, 0, 0, 0, 0, 0, 0, 0, 0]   \n",
       "9512   [2, 66392, 1556, 38747, 66039, 700, 3, 0, 0, 0, 0, 0, 0, 0, 0, 0]   \n",
       "15301    [2, 53235, 8958, 30004, 68111, 3, 0, 0, 0, 0, 0, 0, 0, 0, 0, 0]   \n",
       "16260               [2, 17586, 3, 0, 0, 0, 0, 0, 0, 0, 0, 0, 0, 0, 0, 0]   \n",
       "23150             [2, 52074, 865, 3, 0, 0, 0, 0, 0, 0, 0, 0, 0, 0, 0, 0]   \n",
       "459      [2, 36971, 329, 8394, 19589, 761, 3, 0, 0, 0, 0, 0, 0, 0, 0, 0]   \n",
       "\n",
       "                                                                                                      tokens_text_debug  \\\n",
       "16839       [[CLS], sh, ##oo, ##ck, [SEP], [PAD], [PAD], [PAD], [PAD], [PAD], [PAD], [PAD], [PAD], [PAD], [PAD], [PAD]]   \n",
       "7298     [[CLS], брит, ##ва, [SEP], [PAD], [PAD], [PAD], [PAD], [PAD], [PAD], [PAD], [PAD], [PAD], [PAD], [PAD], [PAD]]   \n",
       "7284        [[CLS], вет, ##чин, ##пы, ##е, [SEP], [PAD], [PAD], [PAD], [PAD], [PAD], [PAD], [PAD], [PAD], [PAD], [PAD]]   \n",
       "721       [[CLS], круп, ##а, греч, ##нева, [SEP], [PAD], [PAD], [PAD], [PAD], [PAD], [PAD], [PAD], [PAD], [PAD], [PAD]]   \n",
       "6479         [[CLS], бр, ##ян, ##к, [SEP], [PAD], [PAD], [PAD], [PAD], [PAD], [PAD], [PAD], [PAD], [PAD], [PAD], [PAD]]   \n",
       "9512      [[CLS], майоне, ##з, молоко, соус, ##ы, [SEP], [PAD], [PAD], [PAD], [PAD], [PAD], [PAD], [PAD], [PAD], [PAD]]   \n",
       "15301     [[CLS], пека, ##рь, кре, ##керы, [SEP], [PAD], [PAD], [PAD], [PAD], [PAD], [PAD], [PAD], [PAD], [PAD], [PAD]]   \n",
       "16260  [[CLS], птица, [SEP], [PAD], [PAD], [PAD], [PAD], [PAD], [PAD], [PAD], [PAD], [PAD], [PAD], [PAD], [PAD], [PAD]]   \n",
       "23150      [[CLS], леп, ##к, [SEP], [PAD], [PAD], [PAD], [PAD], [PAD], [PAD], [PAD], [PAD], [PAD], [PAD], [PAD], [PAD]]   \n",
       "459               [[CLS], чай, с, ла, ##йм, ##ом, [SEP], [PAD], [PAD], [PAD], [PAD], [PAD], [PAD], [PAD], [PAD], [PAD]]   \n",
       "\n",
       "                                                                    labels_debug  \n",
       "16839         [O, B-BRAND, I-BRAND, I-BRAND, O, O, O, O, O, O, O, O, O, O, O, O]  \n",
       "7298                  [O, B-TYPE, I-TYPE, O, O, O, O, O, O, O, O, O, O, O, O, O]  \n",
       "7284        [O, B-TYPE, I-TYPE, I-TYPE, I-TYPE, O, O, O, O, O, O, O, O, O, O, O]  \n",
       "721         [O, B-TYPE, I-TYPE, I-TYPE, I-TYPE, O, O, O, O, O, O, O, O, O, O, O]  \n",
       "6479             [O, B-TYPE, I-TYPE, I-TYPE, O, O, O, O, O, O, O, O, O, O, O, O]  \n",
       "9512   [O, B-TYPE, I-TYPE, I-TYPE, I-TYPE, I-TYPE, O, O, O, O, O, O, O, O, O, O]  \n",
       "15301     [O, B-BRAND, I-BRAND, B-TYPE, I-TYPE, O, O, O, O, O, O, O, O, O, O, O]  \n",
       "16260                      [O, B-TYPE, O, O, O, O, O, O, O, O, O, O, O, O, O, O]  \n",
       "23150                 [O, B-TYPE, I-TYPE, O, O, O, O, O, O, O, O, O, O, O, O, O]  \n",
       "459    [O, B-TYPE, I-TYPE, I-TYPE, I-TYPE, I-TYPE, O, O, O, O, O, O, O, O, O, O]  "
      ]
     },
     "execution_count": 167,
     "metadata": {},
     "output_type": "execute_result"
    }
   ],
   "source": [
    "train_dataset.df.sample(10)"
   ]
  },
  {
   "cell_type": "code",
   "execution_count": 168,
   "id": "12d39e8e",
   "metadata": {},
   "outputs": [
    {
     "data": {
      "image/png": "[encoded data removed]",
      "text/plain": [
       "<Figure size 1000x600 with 1 Axes>"
      ]
     },
     "metadata": {},
     "output_type": "display_data"
    }
   ],
   "source": [
    "train_dataset.plot_token_length_distribution()"
   ]
  },
  {
   "cell_type": "markdown",
   "id": "26f5b27d",
   "metadata": {},
   "source": [
    "# Модель"
   ]
  },
  {
   "cell_type": "code",
   "execution_count": 169,
   "id": "66d58953",
   "metadata": {},
   "outputs": [],
   "source": [
    "num_labels = len(label2idx)"
   ]
  },
  {
   "cell_type": "code",
   "execution_count": 170,
   "id": "fe9dc2de",
   "metadata": {},
   "outputs": [
    {
     "name": "stderr",
     "output_type": "stream",
     "text": [
      "Some weights of AutoModelForTokenClassificationWithCRF were not initialized from the model checkpoint at cointegrated/rubert-tiny2 and are newly initialized: ['backbone.embeddings.LayerNorm.bias', 'backbone.embeddings.LayerNorm.weight', 'backbone.embeddings.position_embeddings.weight', 'backbone.embeddings.token_type_embeddings.weight', 'backbone.embeddings.word_embeddings.weight', 'backbone.encoder.layer.0.attention.output.LayerNorm.bias', 'backbone.encoder.layer.0.attention.output.LayerNorm.weight', 'backbone.encoder.layer.0.attention.output.dense.bias', 'backbone.encoder.layer.0.attention.output.dense.weight', 'backbone.encoder.layer.0.attention.self.key.bias', 'backbone.encoder.layer.0.attention.self.key.weight', 'backbone.encoder.layer.0.attention.self.query.bias', 'backbone.encoder.layer.0.attention.self.query.weight', 'backbone.encoder.layer.0.attention.self.value.bias', 'backbone.encoder.layer.0.attention.self.value.weight', 'backbone.encoder.layer.0.intermediate.dense.bias', 'backbone.encoder.layer.0.intermediate.dense.weight', 'backbone.encoder.layer.0.output.LayerNorm.bias', 'backbone.encoder.layer.0.output.LayerNorm.weight', 'backbone.encoder.layer.0.output.dense.bias', 'backbone.encoder.layer.0.output.dense.weight', 'backbone.encoder.layer.1.attention.output.LayerNorm.bias', 'backbone.encoder.layer.1.attention.output.LayerNorm.weight', 'backbone.encoder.layer.1.attention.output.dense.bias', 'backbone.encoder.layer.1.attention.output.dense.weight', 'backbone.encoder.layer.1.attention.self.key.bias', 'backbone.encoder.layer.1.attention.self.key.weight', 'backbone.encoder.layer.1.attention.self.query.bias', 'backbone.encoder.layer.1.attention.self.query.weight', 'backbone.encoder.layer.1.attention.self.value.bias', 'backbone.encoder.layer.1.attention.self.value.weight', 'backbone.encoder.layer.1.intermediate.dense.bias', 'backbone.encoder.layer.1.intermediate.dense.weight', 'backbone.encoder.layer.1.output.LayerNorm.bias', 'backbone.encoder.layer.1.output.LayerNorm.weight', 'backbone.encoder.layer.1.output.dense.bias', 'backbone.encoder.layer.1.output.dense.weight', 'backbone.encoder.layer.2.attention.output.LayerNorm.bias', 'backbone.encoder.layer.2.attention.output.LayerNorm.weight', 'backbone.encoder.layer.2.attention.output.dense.bias', 'backbone.encoder.layer.2.attention.output.dense.weight', 'backbone.encoder.layer.2.attention.self.key.bias', 'backbone.encoder.layer.2.attention.self.key.weight', 'backbone.encoder.layer.2.attention.self.query.bias', 'backbone.encoder.layer.2.attention.self.query.weight', 'backbone.encoder.layer.2.attention.self.value.bias', 'backbone.encoder.layer.2.attention.self.value.weight', 'backbone.encoder.layer.2.intermediate.dense.bias', 'backbone.encoder.layer.2.intermediate.dense.weight', 'backbone.encoder.layer.2.output.LayerNorm.bias', 'backbone.encoder.layer.2.output.LayerNorm.weight', 'backbone.encoder.layer.2.output.dense.bias', 'backbone.encoder.layer.2.output.dense.weight', 'backbone.pooler.dense.bias', 'backbone.pooler.dense.weight', 'classifier.bias', 'classifier.weight', 'crf.end_transitions', 'crf.start_transitions', 'crf.transitions']\n",
      "You should probably TRAIN this model on a down-stream task to be able to use it for predictions and inference.\n"
     ]
    },
    {
     "data": {
      "text/plain": [
       "AutoModelForTokenClassificationWithCRF(\n",
       "  (backbone): BertModel(\n",
       "    (embeddings): BertEmbeddings(\n",
       "      (word_embeddings): Embedding(83828, 312, padding_idx=0)\n",
       "      (position_embeddings): Embedding(2048, 312)\n",
       "      (token_type_embeddings): Embedding(2, 312)\n",
       "      (LayerNorm): LayerNorm((312,), eps=1e-12, elementwise_affine=True)\n",
       "      (dropout): Dropout(p=0.1, inplace=False)\n",
       "    )\n",
       "    (encoder): BertEncoder(\n",
       "      (layer): ModuleList(\n",
       "        (0-2): 3 x BertLayer(\n",
       "          (attention): BertAttention(\n",
       "            (self): BertSelfAttention(\n",
       "              (query): Linear(in_features=312, out_features=312, bias=True)\n",
       "              (key): Linear(in_features=312, out_features=312, bias=True)\n",
       "              (value): Linear(in_features=312, out_features=312, bias=True)\n",
       "              (dropout): Dropout(p=0.1, inplace=False)\n",
       "            )\n",
       "            (output): BertSelfOutput(\n",
       "              (dense): Linear(in_features=312, out_features=312, bias=True)\n",
       "              (LayerNorm): LayerNorm((312,), eps=1e-12, elementwise_affine=True)\n",
       "              (dropout): Dropout(p=0.1, inplace=False)\n",
       "            )\n",
       "          )\n",
       "          (intermediate): BertIntermediate(\n",
       "            (dense): Linear(in_features=312, out_features=600, bias=True)\n",
       "            (intermediate_act_fn): GELUActivation()\n",
       "          )\n",
       "          (output): BertOutput(\n",
       "            (dense): Linear(in_features=600, out_features=312, bias=True)\n",
       "            (LayerNorm): LayerNorm((312,), eps=1e-12, elementwise_affine=True)\n",
       "            (dropout): Dropout(p=0.1, inplace=False)\n",
       "          )\n",
       "        )\n",
       "      )\n",
       "    )\n",
       "    (pooler): BertPooler(\n",
       "      (dense): Linear(in_features=312, out_features=312, bias=True)\n",
       "      (activation): Tanh()\n",
       "    )\n",
       "  )\n",
       "  (dropout): Dropout(p=0.1, inplace=False)\n",
       "  (classifier): Linear(in_features=312, out_features=9, bias=True)\n",
       "  (crf): CRF(num_tags=9)\n",
       ")"
      ]
     },
     "execution_count": 170,
     "metadata": {},
     "output_type": "execute_result"
    }
   ],
   "source": [
    "from transformers import AutoConfig\n",
    "from ml.model import AutoModelForTokenClassificationWithCRF, TokenClassifierCRFOutput\n",
    "\n",
    "config = AutoConfig.from_pretrained(\n",
    "    BASE_MODEL_NAME,\n",
    "    num_labels=num_labels,\n",
    "    id2label=idx2label,\n",
    "    label2id=label2idx,\n",
    "    cache_dir=DATA_CACHE,\n",
    ")\n",
    "\n",
    "model = AutoModelForTokenClassificationWithCRF.from_pretrained(\n",
    "    BASE_MODEL_NAME,\n",
    "    cache_dir=DATA_CACHE,\n",
    "    config=config,\n",
    "    ignore_mismatched_sizes=True,\n",
    ")\n",
    "\n",
    "# model.gradient_checkpointing_enable()\n",
    "model.reset_crf_parameters()\n",
    "model.crf.init_bio_bias(label2idx, strength=0.7)\n",
    "model"
   ]
  },
  {
   "cell_type": "code",
   "execution_count": 171,
   "id": "94d0033c",
   "metadata": {},
   "outputs": [
    {
     "name": "stdout",
     "output_type": "stream",
     "text": [
      "CRF transitions nan? tensor(False)\n",
      "CRF transitions min/max: tensor(-0.7909, grad_fn=<MinBackward1>) tensor(0.7983, grad_fn=<MaxBackward1>)\n"
     ]
    }
   ],
   "source": [
    "print(\"CRF transitions nan?\", torch.isnan(model.crf.transitions).any())\n",
    "print(\"CRF transitions min/max:\", model.crf.transitions.min(), model.crf.transitions.max())"
   ]
  },
  {
   "cell_type": "markdown",
   "id": "3236b230",
   "metadata": {},
   "source": [
    "# Обучение"
   ]
  },
  {
   "cell_type": "code",
   "execution_count": null,
   "id": "4ec50deb",
   "metadata": {},
   "outputs": [],
   "source": [
    "from transformers import TrainingArguments\n",
    "\n",
    "training_args = TrainingArguments(\n",
    "    output_dir=DATA_PATH_SAVE_MODELS / MODEL_CHECKPOINT_PATH,  # Папка для сохранения моделей\n",
    "    num_train_epochs=4,  # Количество эпох\n",
    "\n",
    "    # eval_strategy=\"epoch\",  # Оценка модели после каждой эпохи\n",
    "    eval_strategy=\"steps\",\n",
    "    eval_steps=50,  # Оценка модели каждый шаг\n",
    "    # logging_strategy=\"epoch\",  # Логирование каждые N шагов\n",
    "    logging_strategy=\"steps\",\n",
    "    logging_steps=50,  # Как часто логировать\n",
    "    disable_tqdm=False,  # Отключить tqdm (нужно для работы в Colab/Kaggle)\n",
    "    report_to=\"tensorboard\",  # Логируем в TensorBoard\n",
    "    logging_dir=DATA_LOG,  # Папка для логов\n",
    "\n",
    "    # save_strategy=\"epoch\",  # Сохранение модели после каждой эпохи\n",
    "    save_strategy=\"steps\",\n",
    "    save_steps=50, # Если save_strategy=\"steps\"\n",
    "    save_total_limit=2,  # Храним все\n",
    "    load_best_model_at_end=True,  # Загружать лучшую модель после обучения\n",
    "    metric_for_best_model=\"eval_f1_macro\",  # Выбираем лучшую модель по eval_f1_macro\n",
    "    greater_is_better=True,  # Чем меньше eval_loss, тем лучше модель\n",
    "\n",
    "\n",
    "    per_device_train_batch_size=BATCH_SIZE,  # Размер батча на одно устройство (GPU/CPU)\n",
    "    per_device_eval_batch_size=BATCH_SIZE,  # Размер батча для валидации\n",
    ")\n"
   ]
  },
  {
   "cell_type": "code",
   "execution_count": 173,
   "id": "f31cc7b9",
   "metadata": {},
   "outputs": [],
   "source": [
    "optimizer = torch.optim.AdamW(model.parameters(), lr=2e-4, weight_decay=1e-2)\n",
    "\n",
    "steps_per_epoch = len(train_dataset.df) // training_args.per_device_train_batch_size\n",
    "total_steps = steps_per_epoch * training_args.num_train_epochs\n"
   ]
  },
  {
   "cell_type": "code",
   "execution_count": 174,
   "id": "86d18ec2",
   "metadata": {},
   "outputs": [],
   "source": [
    "from transformers import get_cosine_schedule_with_warmup\n",
    "\n",
    "scheduler = get_cosine_schedule_with_warmup(\n",
    "    optimizer,\n",
    "    num_warmup_steps=int(0.1 * total_steps),\n",
    "    num_training_steps=total_steps \n",
    ")"
   ]
  },
  {
   "cell_type": "code",
   "execution_count": 175,
   "id": "43074382",
   "metadata": {},
   "outputs": [],
   "source": [
    "# from transformers import get_cosine_with_hard_restarts_schedule_with_warmup\n",
    "\n",
    "# scheduler = get_cosine_with_hard_restarts_schedule_with_warmup(\n",
    "#     optimizer,\n",
    "#     num_warmup_steps=int(0.1 * total_steps),\n",
    "#     num_training_steps=total_steps,\n",
    "#     num_cycles=2,\n",
    "# )\n"
   ]
  },
  {
   "cell_type": "code",
   "execution_count": 176,
   "id": "7d303396",
   "metadata": {},
   "outputs": [],
   "source": [
    "# from transformers import get_polynomial_decay_schedule_with_warmup\n",
    "\n",
    "# scheduler = get_polynomial_decay_schedule_with_warmup(\n",
    "#     optimizer,\n",
    "#     num_warmup_steps=int(0.1 * total_steps),\n",
    "#     num_training_steps=total_steps,\n",
    "#     lr_end=1e-6,\n",
    "#     power=2.0,\n",
    "# )\n"
   ]
  },
  {
   "cell_type": "code",
   "execution_count": 177,
   "id": "6e670f8e",
   "metadata": {},
   "outputs": [],
   "source": [
    "# from transformers import get_constant_schedule_with_warmup\n",
    "\n",
    "# scheduler = get_constant_schedule_with_warmup(\n",
    "#     optimizer,\n",
    "#     num_warmup_steps=int(0.1 * total_steps),\n",
    "# )\n"
   ]
  },
  {
   "cell_type": "code",
   "execution_count": 178,
   "id": "03d2cfaa",
   "metadata": {},
   "outputs": [],
   "source": [
    "def preprocess_logits_for_metrics(logits, labels):\n",
    "    if isinstance(logits, tuple):\n",
    "        logits = logits[0]\n",
    "    return torch.argmax(logits, dim=-1)"
   ]
  },
  {
   "cell_type": "code",
   "execution_count": 179,
   "id": "97371426",
   "metadata": {},
   "outputs": [],
   "source": [
    "from collections import Counter\n",
    "\n",
    "\n",
    "def compute_class_weights(train_dataset, num_labels, max_weight: float = 10.0, smoothing: float = 1.0):\n",
    "    all_labels = []\n",
    "    for labels in train_dataset.labels.tolist():\n",
    "        for l in labels:\n",
    "            if l != -100:\n",
    "                all_labels.append(l)\n",
    "    counts = Counter(all_labels)\n",
    "    total = sum(counts.values())\n",
    "    class_weights = [total / (counts.get(i, 0) + smoothing) for i in range(num_labels)]\n",
    "    class_weights = np.array(class_weights, dtype=np.float32)\n",
    "    class_weights = class_weights / class_weights.sum()\n",
    "    class_weights = np.clip(class_weights, 0.0, max_weight)\n",
    "    return torch.tensor(class_weights, dtype=torch.float32)"
   ]
  },
  {
   "cell_type": "code",
   "execution_count": 180,
   "id": "5b6b21ad",
   "metadata": {},
   "outputs": [
    {
     "data": {
      "text/plain": [
       "tensor([0.0011, 0.0080, 0.0055, 0.1000, 0.1000, 0.0025, 0.0012, 0.0968, 0.1000])"
      ]
     },
     "execution_count": 180,
     "metadata": {},
     "output_type": "execute_result"
    }
   ],
   "source": [
    "class_weights_tensor = compute_class_weights(train_dataset, num_labels, max_weight=0.1, smoothing=1.0)\n",
    "class_weights_tensor"
   ]
  },
  {
   "cell_type": "code",
   "execution_count": 181,
   "id": "230cf5d1",
   "metadata": {},
   "outputs": [],
   "source": [
    "from collections import Counter\n",
    "\n",
    "def show_class_counts_and_ready_weights(train_dataset, idx2label, class_weights_tensor):\n",
    "    all_labels = []\n",
    "    for labels in train_dataset.labels.tolist():\n",
    "        for l in labels:\n",
    "            if l != -100:\n",
    "                all_labels.append(l)\n",
    "\n",
    "    counts = Counter(all_labels)\n",
    "\n",
    "    print(f\"{'Класс':20s} | {'Кол-во':10s} | {'Вес'}\")\n",
    "    print(\"-\"*50)\n",
    "    for i in range(len(class_weights_tensor)):\n",
    "        label = idx2label[i]\n",
    "        count = counts.get(i, 0)\n",
    "        weight = class_weights_tensor[i].item()\n",
    "        print(f\"{label:20s} | {count:<10d} | {weight:.6f}\")\n"
   ]
  },
  {
   "cell_type": "code",
   "execution_count": 182,
   "id": "88ce3ac6",
   "metadata": {},
   "outputs": [
    {
     "name": "stdout",
     "output_type": "stream",
     "text": [
      "Класс                | Кол-во     | Вес\n",
      "--------------------------------------------------\n",
      "O                    | 57569      | 0.001120\n",
      "B-BRAND              | 8088       | 0.007970\n",
      "I-BRAND              | 11639      | 0.005538\n",
      "B-PERCENT            | 160        | 0.100000\n",
      "I-PERCENT            | 170        | 0.100000\n",
      "B-TYPE               | 26092      | 0.002471\n",
      "I-TYPE               | 51734      | 0.001246\n",
      "B-VOLUME             | 665        | 0.096797\n",
      "I-VOLUME             | 599        | 0.100000\n"
     ]
    }
   ],
   "source": [
    "show_class_counts_and_ready_weights(train_dataset, idx2label, class_weights_tensor)\n"
   ]
  },
  {
   "cell_type": "code",
   "execution_count": 183,
   "id": "74d590b9",
   "metadata": {},
   "outputs": [],
   "source": [
    "from collections import Counter\n",
    "\n",
    "import numpy as np\n",
    "import torch\n",
    "from torch.nn import CrossEntropyLoss\n",
    "\n",
    "\n",
    "def weighted_crf_loss(\n",
    "    emissions,\n",
    "    labels,\n",
    "    attention_mask,\n",
    "    crf,\n",
    "    class_weights_tensor,\n",
    "    alpha=0.7,\n",
    "):\n",
    "    labels_for_crf = labels.clone().long()\n",
    "    labels_for_crf[labels_for_crf == -100] = 0\n",
    "\n",
    "    crf_loss = -crf(\n",
    "        emissions,\n",
    "        labels_for_crf,\n",
    "        mask=attention_mask.bool(),\n",
    "        reduction=\"token_mean\"\n",
    "    )\n",
    "\n",
    "    logits_flat = emissions.view(-1, emissions.size(-1))\n",
    "    labels_flat = labels.view(-1)\n",
    "    ce_loss_fn = CrossEntropyLoss(\n",
    "        weight=class_weights_tensor.to(emissions.device),\n",
    "        ignore_index=-100\n",
    "    )\n",
    "    ce_loss = ce_loss_fn(logits_flat, labels_flat)\n",
    "    total_loss = alpha * crf_loss + (1 - alpha) * ce_loss\n",
    "    return total_loss\n",
    "\n",
    "\n",
    "def weighted_loss(\n",
    "    outputs: \"TokenClassifierCRFOutput\",\n",
    "    labels,\n",
    "    model,\n",
    "    class_weights_tensor,\n",
    "    alpha=0.7,\n",
    "    num_items_in_batch=None,\n",
    "):\n",
    "    emissions = outputs.logits\n",
    "    loss = weighted_crf_loss(\n",
    "        emissions=emissions,\n",
    "        labels=labels,\n",
    "        attention_mask=outputs.attention_mask,\n",
    "        crf=model.crf,\n",
    "        class_weights_tensor=class_weights_tensor,\n",
    "        alpha=alpha,\n",
    "    )\n",
    "    return loss\n"
   ]
  },
  {
   "cell_type": "code",
   "execution_count": 184,
   "id": "68fbdea9",
   "metadata": {},
   "outputs": [],
   "source": [
    "from functools import partial\n",
    "\n",
    "from ml.trainer import CustomBaseTrainer\n",
    "from ml.metrics import compute_metrics\n",
    "\n",
    "trainer = CustomBaseTrainer(\n",
    "    model=model,\n",
    "    args=training_args,\n",
    "    train_dataset=train_dataset,\n",
    "    eval_dataset=val_dataset,\n",
    "    optimizers=(optimizer, scheduler),\n",
    "    compute_metrics=partial(compute_metrics, idx2label=idx2label),\n",
    "    processing_class=train_dataset.tokenizer,\n",
    "    preprocess_logits_for_metrics=preprocess_logits_for_metrics,\n",
    "    compute_loss_func=partial(weighted_loss, model=model, class_weights_tensor=class_weights_tensor, alpha=0.8)\n",
    ")"
   ]
  },
  {
   "cell_type": "code",
   "execution_count": 185,
   "id": "6f0de557",
   "metadata": {},
   "outputs": [
    {
     "name": "stderr",
     "output_type": "stream",
     "text": [
      "d:\\Projects\\env_ml\\.venv\\Lib\\site-packages\\torch\\utils\\data\\dataloader.py:666: UserWarning: 'pin_memory' argument is set as true but no accelerator is found, then device pinned memory won't be used.\n",
      "  warnings.warn(warn_msg)\n"
     ]
    },
    {
     "data": {
      "text/html": [
       "\n",
       "    <div>\n",
       "      \n",
       "      <progress value='438' max='438' style='width:300px; height:20px; vertical-align: middle;'></progress>\n",
       "      [438/438 02:49, Epoch 2/2]\n",
       "    </div>\n",
       "    <table border=\"1\" class=\"dataframe\">\n",
       "  <thead>\n",
       " <tr style=\"text-align: left;\">\n",
       "      <th>Step</th>\n",
       "      <th>Training Loss</th>\n",
       "      <th>Validation Loss</th>\n",
       "      <th>Precision</th>\n",
       "      <th>Recall</th>\n",
       "      <th>F1 Micro</th>\n",
       "      <th>F1 Macro</th>\n",
       "      <th>Accuracy</th>\n",
       "    </tr>\n",
       "  </thead>\n",
       "  <tbody>\n",
       "    <tr>\n",
       "      <td>50</td>\n",
       "      <td>1.227400</td>\n",
       "      <td>0.550323</td>\n",
       "      <td>0.569676</td>\n",
       "      <td>0.563355</td>\n",
       "      <td>0.566498</td>\n",
       "      <td>0.236717</td>\n",
       "      <td>0.849307</td>\n",
       "    </tr>\n",
       "    <tr>\n",
       "      <td>100</td>\n",
       "      <td>0.468900</td>\n",
       "      <td>0.367433</td>\n",
       "      <td>0.595172</td>\n",
       "      <td>0.668129</td>\n",
       "      <td>0.629544</td>\n",
       "      <td>0.357984</td>\n",
       "      <td>0.887009</td>\n",
       "    </tr>\n",
       "    <tr>\n",
       "      <td>150</td>\n",
       "      <td>0.345000</td>\n",
       "      <td>0.275909</td>\n",
       "      <td>0.615335</td>\n",
       "      <td>0.735226</td>\n",
       "      <td>0.669959</td>\n",
       "      <td>0.482871</td>\n",
       "      <td>0.911201</td>\n",
       "    </tr>\n",
       "    <tr>\n",
       "      <td>200</td>\n",
       "      <td>0.264900</td>\n",
       "      <td>0.235985</td>\n",
       "      <td>0.641042</td>\n",
       "      <td>0.761806</td>\n",
       "      <td>0.696226</td>\n",
       "      <td>0.505212</td>\n",
       "      <td>0.921998</td>\n",
       "    </tr>\n",
       "    <tr>\n",
       "      <td>250</td>\n",
       "      <td>0.214500</td>\n",
       "      <td>0.217207</td>\n",
       "      <td>0.667553</td>\n",
       "      <td>0.777806</td>\n",
       "      <td>0.718474</td>\n",
       "      <td>0.531430</td>\n",
       "      <td>0.926790</td>\n",
       "    </tr>\n",
       "    <tr>\n",
       "      <td>300</td>\n",
       "      <td>0.187400</td>\n",
       "      <td>0.203775</td>\n",
       "      <td>0.714088</td>\n",
       "      <td>0.800516</td>\n",
       "      <td>0.754836</td>\n",
       "      <td>0.572356</td>\n",
       "      <td>0.935970</td>\n",
       "    </tr>\n",
       "    <tr>\n",
       "      <td>350</td>\n",
       "      <td>0.173700</td>\n",
       "      <td>0.190360</td>\n",
       "      <td>0.712341</td>\n",
       "      <td>0.810323</td>\n",
       "      <td>0.758179</td>\n",
       "      <td>0.567871</td>\n",
       "      <td>0.937760</td>\n",
       "    </tr>\n",
       "    <tr>\n",
       "      <td>400</td>\n",
       "      <td>0.169500</td>\n",
       "      <td>0.187922</td>\n",
       "      <td>0.722464</td>\n",
       "      <td>0.814194</td>\n",
       "      <td>0.765591</td>\n",
       "      <td>0.590326</td>\n",
       "      <td>0.939607</td>\n",
       "    </tr>\n",
       "  </tbody>\n",
       "</table><p>"
      ],
      "text/plain": [
       "<IPython.core.display.HTML object>"
      ]
     },
     "metadata": {},
     "output_type": "display_data"
    },
    {
     "name": "stderr",
     "output_type": "stream",
     "text": [
      "d:\\Projects\\env_ml\\.venv\\Lib\\site-packages\\torch\\utils\\data\\dataloader.py:666: UserWarning: 'pin_memory' argument is set as true but no accelerator is found, then device pinned memory won't be used.\n",
      "  warnings.warn(warn_msg)\n",
      "d:\\Projects\\env_ml\\.venv\\Lib\\site-packages\\torch\\utils\\data\\dataloader.py:666: UserWarning: 'pin_memory' argument is set as true but no accelerator is found, then device pinned memory won't be used.\n",
      "  warnings.warn(warn_msg)\n",
      "d:\\Projects\\env_ml\\.venv\\Lib\\site-packages\\torch\\utils\\data\\dataloader.py:666: UserWarning: 'pin_memory' argument is set as true but no accelerator is found, then device pinned memory won't be used.\n",
      "  warnings.warn(warn_msg)\n",
      "d:\\Projects\\env_ml\\.venv\\Lib\\site-packages\\torch\\utils\\data\\dataloader.py:666: UserWarning: 'pin_memory' argument is set as true but no accelerator is found, then device pinned memory won't be used.\n",
      "  warnings.warn(warn_msg)\n",
      "d:\\Projects\\env_ml\\.venv\\Lib\\site-packages\\torch\\utils\\data\\dataloader.py:666: UserWarning: 'pin_memory' argument is set as true but no accelerator is found, then device pinned memory won't be used.\n",
      "  warnings.warn(warn_msg)\n",
      "d:\\Projects\\env_ml\\.venv\\Lib\\site-packages\\torch\\utils\\data\\dataloader.py:666: UserWarning: 'pin_memory' argument is set as true but no accelerator is found, then device pinned memory won't be used.\n",
      "  warnings.warn(warn_msg)\n",
      "d:\\Projects\\env_ml\\.venv\\Lib\\site-packages\\torch\\utils\\data\\dataloader.py:666: UserWarning: 'pin_memory' argument is set as true but no accelerator is found, then device pinned memory won't be used.\n",
      "  warnings.warn(warn_msg)\n"
     ]
    },
    {
     "data": {
      "text/plain": [
       "TrainOutput(global_step=438, training_loss=0.36267607506007365, metrics={'train_runtime': 170.2678, 'train_samples_per_second': 328.083, 'train_steps_per_second': 2.572, 'total_flos': 12885341642496.0, 'train_loss': 0.36267607506007365, 'epoch': 2.0})"
      ]
     },
     "execution_count": 185,
     "metadata": {},
     "output_type": "execute_result"
    }
   ],
   "source": [
    "trainer.train()"
   ]
  },
  {
   "cell_type": "code",
   "execution_count": 186,
   "id": "33452675",
   "metadata": {},
   "outputs": [
    {
     "data": {
      "image/png": "[encoded data removed]",
      "text/plain": [
       "<Figure size 800x4000 with 10 Axes>"
      ]
     },
     "metadata": {},
     "output_type": "display_data"
    }
   ],
   "source": [
    "trainer.plot_results()"
   ]
  },
  {
   "cell_type": "code",
   "execution_count": 187,
   "id": "25824222",
   "metadata": {},
   "outputs": [
    {
     "name": "stderr",
     "output_type": "stream",
     "text": [
      "d:\\Projects\\env_ml\\.venv\\Lib\\site-packages\\torch\\utils\\data\\dataloader.py:666: UserWarning: 'pin_memory' argument is set as true but no accelerator is found, then device pinned memory won't be used.\n",
      "  warnings.warn(warn_msg)\n"
     ]
    },
    {
     "data": {
      "text/html": [],
      "text/plain": [
       "<IPython.core.display.HTML object>"
      ]
     },
     "metadata": {},
     "output_type": "display_data"
    },
    {
     "name": "stderr",
     "output_type": "stream",
     "text": [
      "d:\\Projects\\env_ml\\.venv\\Lib\\site-packages\\seqeval\\metrics\\v1.py:57: UndefinedMetricWarning: Recall and F-score are ill-defined and being set to 0.0 in labels with no true samples. Use `zero_division` parameter to control this behavior.\n",
      "  _warn_prf(average, modifier, msg_start, len(result))\n"
     ]
    },
    {
     "name": "stdout",
     "output_type": "stream",
     "text": [
      "{'test_loss': 0.1840175837278366, 'test_precision': 0.6802939825447865, 'test_recall': 0.8168781025923884, 'test_f1_micro': 0.7423558897243108, 'test_f1_macro': 0.38079770058711476, 'test_accuracy': 0.9307820048309179, 'test_runtime': 3.205, 'test_samples_per_second': 1560.043, 'test_steps_per_second': 12.48}\n"
     ]
    }
   ],
   "source": [
    "test_results = trainer.predict(test_dataset)\n",
    "print(test_results.metrics)"
   ]
  },
  {
   "cell_type": "code",
   "execution_count": 188,
   "id": "c5b28b04",
   "metadata": {},
   "outputs": [
    {
     "ename": "SafetensorError",
     "evalue": "Error while serializing: IoError(Os { code: 1224, kind: Uncategorized, message: \"Запрошенную операцию нельзя выполнить для файла с открытой пользователем сопоставленной секцией.\" })",
     "output_type": "error",
     "traceback": [
      "\u001b[1;31m---------------------------------------------------------------------------\u001b[0m",
      "\u001b[1;31mSafetensorError\u001b[0m                           Traceback (most recent call last)",
      "Cell \u001b[1;32mIn[188], line 1\u001b[0m\n\u001b[1;32m----> 1\u001b[0m \u001b[43mtrainer\u001b[49m\u001b[38;5;241;43m.\u001b[39;49m\u001b[43msave_model\u001b[49m\u001b[43m(\u001b[49m\u001b[43mDATA_PATH_SAVE_MODELS\u001b[49m\u001b[43m \u001b[49m\u001b[38;5;241;43m/\u001b[39;49m\u001b[43m \u001b[49m\u001b[43mMODEL_NAME_SAVE\u001b[49m\u001b[43m)\u001b[49m\n",
      "File \u001b[1;32md:\\Projects\\env_ml\\.venv\\Lib\\site-packages\\transformers\\trainer.py:4207\u001b[0m, in \u001b[0;36mTrainer.save_model\u001b[1;34m(self, output_dir, _internal_call)\u001b[0m\n\u001b[0;32m   4204\u001b[0m         \u001b[38;5;28mself\u001b[39m\u001b[38;5;241m.\u001b[39mmodel_wrapped\u001b[38;5;241m.\u001b[39msave_checkpoint(output_dir)\n\u001b[0;32m   4206\u001b[0m \u001b[38;5;28;01melif\u001b[39;00m \u001b[38;5;28mself\u001b[39m\u001b[38;5;241m.\u001b[39margs\u001b[38;5;241m.\u001b[39mshould_save:\n\u001b[1;32m-> 4207\u001b[0m     \u001b[38;5;28;43mself\u001b[39;49m\u001b[38;5;241;43m.\u001b[39;49m\u001b[43m_save\u001b[49m\u001b[43m(\u001b[49m\u001b[43moutput_dir\u001b[49m\u001b[43m)\u001b[49m\n\u001b[0;32m   4209\u001b[0m \u001b[38;5;66;03m# Push to the Hub when `save_model` is called by the user.\u001b[39;00m\n\u001b[0;32m   4210\u001b[0m \u001b[38;5;28;01mif\u001b[39;00m \u001b[38;5;28mself\u001b[39m\u001b[38;5;241m.\u001b[39margs\u001b[38;5;241m.\u001b[39mpush_to_hub \u001b[38;5;129;01mand\u001b[39;00m \u001b[38;5;129;01mnot\u001b[39;00m _internal_call:\n",
      "File \u001b[1;32md:\\Projects\\env_ml\\.venv\\Lib\\site-packages\\transformers\\trainer.py:4311\u001b[0m, in \u001b[0;36mTrainer._save\u001b[1;34m(self, output_dir, state_dict)\u001b[0m\n\u001b[0;32m   4309\u001b[0m             torch\u001b[38;5;241m.\u001b[39msave(state_dict, os\u001b[38;5;241m.\u001b[39mpath\u001b[38;5;241m.\u001b[39mjoin(output_dir, WEIGHTS_NAME))\n\u001b[0;32m   4310\u001b[0m \u001b[38;5;28;01melse\u001b[39;00m:\n\u001b[1;32m-> 4311\u001b[0m     \u001b[38;5;28;43mself\u001b[39;49m\u001b[38;5;241;43m.\u001b[39;49m\u001b[43mmodel\u001b[49m\u001b[38;5;241;43m.\u001b[39;49m\u001b[43msave_pretrained\u001b[49m\u001b[43m(\u001b[49m\n\u001b[0;32m   4312\u001b[0m \u001b[43m        \u001b[49m\u001b[43moutput_dir\u001b[49m\u001b[43m,\u001b[49m\u001b[43m \u001b[49m\u001b[43mstate_dict\u001b[49m\u001b[38;5;241;43m=\u001b[39;49m\u001b[43mstate_dict\u001b[49m\u001b[43m,\u001b[49m\u001b[43m \u001b[49m\u001b[43msafe_serialization\u001b[49m\u001b[38;5;241;43m=\u001b[39;49m\u001b[38;5;28;43mself\u001b[39;49m\u001b[38;5;241;43m.\u001b[39;49m\u001b[43margs\u001b[49m\u001b[38;5;241;43m.\u001b[39;49m\u001b[43msave_safetensors\u001b[49m\n\u001b[0;32m   4313\u001b[0m \u001b[43m    \u001b[49m\u001b[43m)\u001b[49m\n\u001b[0;32m   4315\u001b[0m \u001b[38;5;28;01mif\u001b[39;00m \u001b[38;5;28mself\u001b[39m\u001b[38;5;241m.\u001b[39mprocessing_class \u001b[38;5;129;01mis\u001b[39;00m \u001b[38;5;129;01mnot\u001b[39;00m \u001b[38;5;28;01mNone\u001b[39;00m:\n\u001b[0;32m   4316\u001b[0m     \u001b[38;5;28mself\u001b[39m\u001b[38;5;241m.\u001b[39mprocessing_class\u001b[38;5;241m.\u001b[39msave_pretrained(output_dir)\n",
      "File \u001b[1;32md:\\Projects\\env_ml\\.venv\\Lib\\site-packages\\transformers\\modeling_utils.py:4292\u001b[0m, in \u001b[0;36mPreTrainedModel.save_pretrained\u001b[1;34m(self, save_directory, is_main_process, state_dict, save_function, push_to_hub, max_shard_size, safe_serialization, variant, token, save_peft_format, **kwargs)\u001b[0m\n\u001b[0;32m   4287\u001b[0m     gc\u001b[38;5;241m.\u001b[39mcollect()\n\u001b[0;32m   4289\u001b[0m \u001b[38;5;28;01mif\u001b[39;00m safe_serialization:\n\u001b[0;32m   4290\u001b[0m     \u001b[38;5;66;03m# At some point we will need to deal better with save_function (used for TPU and other distributed\u001b[39;00m\n\u001b[0;32m   4291\u001b[0m     \u001b[38;5;66;03m# joyfulness), but for now this enough.\u001b[39;00m\n\u001b[1;32m-> 4292\u001b[0m     \u001b[43msafe_save_file\u001b[49m\u001b[43m(\u001b[49m\u001b[43mshard\u001b[49m\u001b[43m,\u001b[49m\u001b[43m \u001b[49m\u001b[43mos\u001b[49m\u001b[38;5;241;43m.\u001b[39;49m\u001b[43mpath\u001b[49m\u001b[38;5;241;43m.\u001b[39;49m\u001b[43mjoin\u001b[49m\u001b[43m(\u001b[49m\u001b[43msave_directory\u001b[49m\u001b[43m,\u001b[49m\u001b[43m \u001b[49m\u001b[43mshard_file\u001b[49m\u001b[43m)\u001b[49m\u001b[43m,\u001b[49m\u001b[43m \u001b[49m\u001b[43mmetadata\u001b[49m\u001b[38;5;241;43m=\u001b[39;49m\u001b[43m{\u001b[49m\u001b[38;5;124;43m\"\u001b[39;49m\u001b[38;5;124;43mformat\u001b[39;49m\u001b[38;5;124;43m\"\u001b[39;49m\u001b[43m:\u001b[49m\u001b[43m \u001b[49m\u001b[38;5;124;43m\"\u001b[39;49m\u001b[38;5;124;43mpt\u001b[39;49m\u001b[38;5;124;43m\"\u001b[39;49m\u001b[43m}\u001b[49m\u001b[43m)\u001b[49m\n\u001b[0;32m   4293\u001b[0m \u001b[38;5;28;01melse\u001b[39;00m:\n\u001b[0;32m   4294\u001b[0m     save_function(shard, os\u001b[38;5;241m.\u001b[39mpath\u001b[38;5;241m.\u001b[39mjoin(save_directory, shard_file))\n",
      "File \u001b[1;32md:\\Projects\\env_ml\\.venv\\Lib\\site-packages\\safetensors\\torch.py:286\u001b[0m, in \u001b[0;36msave_file\u001b[1;34m(tensors, filename, metadata)\u001b[0m\n\u001b[0;32m    255\u001b[0m \u001b[38;5;28;01mdef\u001b[39;00m \u001b[38;5;21msave_file\u001b[39m(\n\u001b[0;32m    256\u001b[0m     tensors: Dict[\u001b[38;5;28mstr\u001b[39m, torch\u001b[38;5;241m.\u001b[39mTensor],\n\u001b[0;32m    257\u001b[0m     filename: Union[\u001b[38;5;28mstr\u001b[39m, os\u001b[38;5;241m.\u001b[39mPathLike],\n\u001b[0;32m    258\u001b[0m     metadata: Optional[Dict[\u001b[38;5;28mstr\u001b[39m, \u001b[38;5;28mstr\u001b[39m]] \u001b[38;5;241m=\u001b[39m \u001b[38;5;28;01mNone\u001b[39;00m,\n\u001b[0;32m    259\u001b[0m ):\n\u001b[0;32m    260\u001b[0m \u001b[38;5;250m    \u001b[39m\u001b[38;5;124;03m\"\"\"\u001b[39;00m\n\u001b[0;32m    261\u001b[0m \u001b[38;5;124;03m    Saves a dictionary of tensors into raw bytes in safetensors format.\u001b[39;00m\n\u001b[0;32m    262\u001b[0m \n\u001b[1;32m   (...)\u001b[0m\n\u001b[0;32m    284\u001b[0m \u001b[38;5;124;03m    ```\u001b[39;00m\n\u001b[0;32m    285\u001b[0m \u001b[38;5;124;03m    \"\"\"\u001b[39;00m\n\u001b[1;32m--> 286\u001b[0m     serialize_file(_flatten(tensors), filename, metadata\u001b[38;5;241m=\u001b[39mmetadata)\n",
      "\u001b[1;31mSafetensorError\u001b[0m: Error while serializing: IoError(Os { code: 1224, kind: Uncategorized, message: \"Запрошенную операцию нельзя выполнить для файла с открытой пользователем сопоставленной секцией.\" })"
     ]
    }
   ],
   "source": [
    "trainer.save_model(DATA_PATH_SAVE_MODELS / MODEL_NAME_SAVE)"
   ]
  },
  {
   "cell_type": "markdown",
   "id": "3ab6c60b",
   "metadata": {},
   "source": [
    "# Тестирование модели"
   ]
  },
  {
   "cell_type": "code",
   "execution_count": null,
   "id": "40422331",
   "metadata": {},
   "outputs": [],
   "source": [
    "from regex import D\n",
    "from transformers import AutoConfig\n",
    "from ml.model import AutoModelForTokenClassificationWithCRF, TokenClassifierCRFOutput\n",
    "\n",
    "num_labels = len(label2idx)\n",
    "\n",
    "config = AutoConfig.from_pretrained(\n",
    "    DATA_PATH_SAVE_MODELS / \"ner_x5\",\n",
    "    num_labels=num_labels,\n",
    "    id2label=idx2label,\n",
    "    label2id=label2idx,\n",
    "    cache_dir=DATA_CACHE,\n",
    ")\n",
    "\n",
    "model = AutoModelForTokenClassificationWithCRF.from_pretrained(\n",
    "    DATA_PATH_SAVE_MODELS / \"ner_x5\",\n",
    "    cache_dir=DATA_CACHE,\n",
    "    config=config,\n",
    "    ignore_mismatched_sizes=True,\n",
    ")\n",
    "\n",
    "# model.gradient_checkpointing_enable()"
   ]
  },
  {
   "cell_type": "code",
   "execution_count": null,
   "id": "79161a60",
   "metadata": {},
   "outputs": [
    {
     "data": {
      "text/html": [],
      "text/plain": [
       "<IPython.core.display.HTML object>"
      ]
     },
     "metadata": {},
     "output_type": "display_data"
    },
    {
     "name": "stdout",
     "output_type": "stream",
     "text": [
      "{'test_loss': 0.29373499751091003, 'test_model_preparation_time': 0.0025, 'test_precision': 0.7490208877284595, 'test_recall': 0.8439051296194153, 'test_f1_micro': 0.7936370709777816, 'test_f1_macro': 0.4159380573896039, 'test_accuracy': 0.9278381642512077, 'test_runtime': 9.2503, 'test_samples_per_second': 540.524, 'test_steps_per_second': 4.324}\n"
     ]
    }
   ],
   "source": [
    "trainer = CustomBaseTrainer(\n",
    "    model=model,\n",
    "    args=training_args,\n",
    "    train_dataset=train_dataset,\n",
    "    eval_dataset=val_dataset,\n",
    "    optimizers=(optimizer, scheduler),\n",
    "    compute_metrics=partial(compute_metrics, idx2label=idx2label),\n",
    "    processing_class=train_dataset.tokenizer,\n",
    "    preprocess_logits_for_metrics=preprocess_logits_for_metrics,\n",
    "    compute_loss_func=partial(weighted_loss, model=model, class_weights_tensor=class_weights_tensor, alpha=0.85)\n",
    ")\n",
    "\n",
    "test_results = trainer.predict(test_dataset)\n",
    "print(test_results.metrics)"
   ]
  },
  {
   "cell_type": "code",
   "execution_count": null,
   "id": "6605670b",
   "metadata": {},
   "outputs": [
    {
     "name": "stderr",
     "output_type": "stream",
     "text": [
      "Analyzing with model: 100%|█████████████████████████████████████████| 79/79 [00:19<00:00,  4.11it/s]\n"
     ]
    }
   ],
   "source": [
    "test_dataset.analyze_with_model(\n",
    "    model=model, \n",
    "    idx2label=idx2label, \n",
    "    batch_size=64, \n",
    "    device=\"cuda\" if torch.cuda.is_available() else \"cpu\", \n",
    "    layer=-1\n",
    ")"
   ]
  },
  {
   "cell_type": "code",
   "execution_count": null,
   "id": "66fa62f5",
   "metadata": {},
   "outputs": [],
   "source": [
    "# test_dataset.df.sample(10)"
   ]
  },
  {
   "cell_type": "code",
   "execution_count": null,
   "id": "203bf962",
   "metadata": {},
   "outputs": [
    {
     "name": "stdout",
     "output_type": "stream",
     "text": [
      "is_correct\n",
      "True     4271\n",
      "False     729\n",
      "Name: count, dtype: int64\n"
     ]
    }
   ],
   "source": [
    "print(test_dataset.df[\"is_correct\"].value_counts())"
   ]
  },
  {
   "cell_type": "code",
   "execution_count": null,
   "id": "f328aa7a",
   "metadata": {},
   "outputs": [
    {
     "data": {
      "text/html": [
       "<div>\n",
       "<style scoped>\n",
       "    .dataframe tbody tr th:only-of-type {\n",
       "        vertical-align: middle;\n",
       "    }\n",
       "\n",
       "    .dataframe tbody tr th {\n",
       "        vertical-align: top;\n",
       "    }\n",
       "\n",
       "    .dataframe thead th {\n",
       "        text-align: right;\n",
       "    }\n",
       "</style>\n",
       "<table border=\"1\" class=\"dataframe\">\n",
       "  <thead>\n",
       "    <tr style=\"text-align: right;\">\n",
       "      <th></th>\n",
       "      <th>sample</th>\n",
       "      <th>annotation</th>\n",
       "      <th>tokens_ids_debug</th>\n",
       "      <th>tokens_text_debug</th>\n",
       "      <th>labels_debug</th>\n",
       "      <th>pred_labels</th>\n",
       "      <th>entities</th>\n",
       "      <th>is_correct</th>\n",
       "    </tr>\n",
       "  </thead>\n",
       "  <tbody>\n",
       "    <tr>\n",
       "      <th>1649</th>\n",
       "      <td>заварные</td>\n",
       "      <td>[(0, 8, B-TYPE)]</td>\n",
       "      <td>[2, 77770, 1308, 3, 0, 0, 0, 0, 0, 0, 0, 0, 0, 0, 0, 0]</td>\n",
       "      <td>[[CLS], завар, ##ные, [SEP], [PAD], [PAD], [PAD], [PAD], [PAD], [PAD], [PAD], [PAD], [PAD], [PAD], [PAD], [PAD]]</td>\n",
       "      <td>[O, B-TYPE, I-TYPE, O, O, O, O, O, O, O, O, O, O, O, O, O]</td>\n",
       "      <td>[O, B-TYPE, I-TYPE, O, O, O, O, O, O, O, O, O, O, O, O, O]</td>\n",
       "      <td>[{'start_index': 0, 'end_index': 8, 'entity': 'B-TYPE', 'word': 'заварные'}]</td>\n",
       "      <td>True</td>\n",
       "    </tr>\n",
       "    <tr>\n",
       "      <th>1350</th>\n",
       "      <td>ояженка</td>\n",
       "      <td>[(0, 7, B-TYPE)]</td>\n",
       "      <td>[2, 326, 776, 79544, 3, 0, 0, 0, 0, 0, 0, 0, 0, 0, 0, 0]</td>\n",
       "      <td>[[CLS], о, ##я, ##женка, [SEP], [PAD], [PAD], [PAD], [PAD], [PAD], [PAD], [PAD], [PAD], [PAD], [PAD], [PAD]]</td>\n",
       "      <td>[O, B-TYPE, I-TYPE, I-TYPE, O, O, O, O, O, O, O, O, O, O, O, O]</td>\n",
       "      <td>[O, B-TYPE, I-TYPE, I-TYPE, O, O, O, O, O, O, O, O, O, O, O, O]</td>\n",
       "      <td>[{'start_index': 0, 'end_index': 7, 'entity': 'B-TYPE', 'word': 'ояженка'}]</td>\n",
       "      <td>True</td>\n",
       "    </tr>\n",
       "    <tr>\n",
       "      <th>353</th>\n",
       "      <td>пюре сухое</td>\n",
       "      <td>[(0, 4, B-TYPE), (5, 10, I-TYPE)]</td>\n",
       "      <td>[2, 72173, 34133, 626, 3, 0, 0, 0, 0, 0, 0, 0, 0, 0, 0, 0]</td>\n",
       "      <td>[[CLS], пюре, сухо, ##е, [SEP], [PAD], [PAD], [PAD], [PAD], [PAD], [PAD], [PAD], [PAD], [PAD], [PAD], [PAD]]</td>\n",
       "      <td>[O, B-TYPE, I-TYPE, I-TYPE, O, O, O, O, O, O, O, O, O, O, O, O]</td>\n",
       "      <td>[O, B-TYPE, I-TYPE, I-TYPE, O, O, O, O, O, O, O, O, O, O, O, O]</td>\n",
       "      <td>[{'start_index': 0, 'end_index': 4, 'entity': 'B-TYPE', 'word': 'пюре'}, {'start_index': 5, 'end_index': 10, 'entity': 'I-TYPE', 'word': 'сухое'}]</td>\n",
       "      <td>True</td>\n",
       "    </tr>\n",
       "    <tr>\n",
       "      <th>1524</th>\n",
       "      <td>зеле</td>\n",
       "      <td>[(0, 4, B-TYPE)]</td>\n",
       "      <td>[2, 43098, 626, 3, 0, 0, 0, 0, 0, 0, 0, 0, 0, 0, 0, 0]</td>\n",
       "      <td>[[CLS], зел, ##е, [SEP], [PAD], [PAD], [PAD], [PAD], [PAD], [PAD], [PAD], [PAD], [PAD], [PAD], [PAD], [PAD]]</td>\n",
       "      <td>[O, B-TYPE, I-TYPE, O, O, O, O, O, O, O, O, O, O, O, O, O]</td>\n",
       "      <td>[O, B-TYPE, I-TYPE, O, O, O, O, O, O, O, O, O, O, O, O, O]</td>\n",
       "      <td>[{'start_index': 0, 'end_index': 4, 'entity': 'B-TYPE', 'word': 'зеле'}]</td>\n",
       "      <td>True</td>\n",
       "    </tr>\n",
       "    <tr>\n",
       "      <th>2998</th>\n",
       "      <td>сгущек</td>\n",
       "      <td>[(0, 6, B-TYPE)]</td>\n",
       "      <td>[2, 49189, 6139, 865, 3, 0, 0, 0, 0, 0, 0, 0, 0, 0, 0, 0]</td>\n",
       "      <td>[[CLS], сгу, ##ще, ##к, [SEP], [PAD], [PAD], [PAD], [PAD], [PAD], [PAD], [PAD], [PAD], [PAD], [PAD], [PAD]]</td>\n",
       "      <td>[O, B-TYPE, I-TYPE, I-TYPE, O, O, O, O, O, O, O, O, O, O, O, O]</td>\n",
       "      <td>[O, B-TYPE, I-TYPE, I-TYPE, O, O, O, O, O, O, O, O, O, O, O, O]</td>\n",
       "      <td>[{'start_index': 0, 'end_index': 6, 'entity': 'B-TYPE', 'word': 'сгущек'}]</td>\n",
       "      <td>True</td>\n",
       "    </tr>\n",
       "  </tbody>\n",
       "</table>\n",
       "</div>"
      ],
      "text/plain": [
       "          sample                         annotation  \\\n",
       "1649    заварные                   [(0, 8, B-TYPE)]   \n",
       "1350     ояженка                   [(0, 7, B-TYPE)]   \n",
       "353   пюре сухое  [(0, 4, B-TYPE), (5, 10, I-TYPE)]   \n",
       "1524        зеле                   [(0, 4, B-TYPE)]   \n",
       "2998      сгущек                   [(0, 6, B-TYPE)]   \n",
       "\n",
       "                                                tokens_ids_debug  \\\n",
       "1649     [2, 77770, 1308, 3, 0, 0, 0, 0, 0, 0, 0, 0, 0, 0, 0, 0]   \n",
       "1350    [2, 326, 776, 79544, 3, 0, 0, 0, 0, 0, 0, 0, 0, 0, 0, 0]   \n",
       "353   [2, 72173, 34133, 626, 3, 0, 0, 0, 0, 0, 0, 0, 0, 0, 0, 0]   \n",
       "1524      [2, 43098, 626, 3, 0, 0, 0, 0, 0, 0, 0, 0, 0, 0, 0, 0]   \n",
       "2998   [2, 49189, 6139, 865, 3, 0, 0, 0, 0, 0, 0, 0, 0, 0, 0, 0]   \n",
       "\n",
       "                                                                                                     tokens_text_debug  \\\n",
       "1649  [[CLS], завар, ##ные, [SEP], [PAD], [PAD], [PAD], [PAD], [PAD], [PAD], [PAD], [PAD], [PAD], [PAD], [PAD], [PAD]]   \n",
       "1350      [[CLS], о, ##я, ##женка, [SEP], [PAD], [PAD], [PAD], [PAD], [PAD], [PAD], [PAD], [PAD], [PAD], [PAD], [PAD]]   \n",
       "353       [[CLS], пюре, сухо, ##е, [SEP], [PAD], [PAD], [PAD], [PAD], [PAD], [PAD], [PAD], [PAD], [PAD], [PAD], [PAD]]   \n",
       "1524      [[CLS], зел, ##е, [SEP], [PAD], [PAD], [PAD], [PAD], [PAD], [PAD], [PAD], [PAD], [PAD], [PAD], [PAD], [PAD]]   \n",
       "2998       [[CLS], сгу, ##ще, ##к, [SEP], [PAD], [PAD], [PAD], [PAD], [PAD], [PAD], [PAD], [PAD], [PAD], [PAD], [PAD]]   \n",
       "\n",
       "                                                         labels_debug  \\\n",
       "1649       [O, B-TYPE, I-TYPE, O, O, O, O, O, O, O, O, O, O, O, O, O]   \n",
       "1350  [O, B-TYPE, I-TYPE, I-TYPE, O, O, O, O, O, O, O, O, O, O, O, O]   \n",
       "353   [O, B-TYPE, I-TYPE, I-TYPE, O, O, O, O, O, O, O, O, O, O, O, O]   \n",
       "1524       [O, B-TYPE, I-TYPE, O, O, O, O, O, O, O, O, O, O, O, O, O]   \n",
       "2998  [O, B-TYPE, I-TYPE, I-TYPE, O, O, O, O, O, O, O, O, O, O, O, O]   \n",
       "\n",
       "                                                          pred_labels  \\\n",
       "1649       [O, B-TYPE, I-TYPE, O, O, O, O, O, O, O, O, O, O, O, O, O]   \n",
       "1350  [O, B-TYPE, I-TYPE, I-TYPE, O, O, O, O, O, O, O, O, O, O, O, O]   \n",
       "353   [O, B-TYPE, I-TYPE, I-TYPE, O, O, O, O, O, O, O, O, O, O, O, O]   \n",
       "1524       [O, B-TYPE, I-TYPE, O, O, O, O, O, O, O, O, O, O, O, O, O]   \n",
       "2998  [O, B-TYPE, I-TYPE, I-TYPE, O, O, O, O, O, O, O, O, O, O, O, O]   \n",
       "\n",
       "                                                                                                                                                entities  \\\n",
       "1649                                                                        [{'start_index': 0, 'end_index': 8, 'entity': 'B-TYPE', 'word': 'заварные'}]   \n",
       "1350                                                                         [{'start_index': 0, 'end_index': 7, 'entity': 'B-TYPE', 'word': 'ояженка'}]   \n",
       "353   [{'start_index': 0, 'end_index': 4, 'entity': 'B-TYPE', 'word': 'пюре'}, {'start_index': 5, 'end_index': 10, 'entity': 'I-TYPE', 'word': 'сухое'}]   \n",
       "1524                                                                            [{'start_index': 0, 'end_index': 4, 'entity': 'B-TYPE', 'word': 'зеле'}]   \n",
       "2998                                                                          [{'start_index': 0, 'end_index': 6, 'entity': 'B-TYPE', 'word': 'сгущек'}]   \n",
       "\n",
       "      is_correct  \n",
       "1649        True  \n",
       "1350        True  \n",
       "353         True  \n",
       "1524        True  \n",
       "2998        True  "
      ]
     },
     "execution_count": 126,
     "metadata": {},
     "output_type": "execute_result"
    }
   ],
   "source": [
    "df_true = test_dataset.df[test_dataset.df[\"is_correct\"] == True]\n",
    "df_true.sample(5)"
   ]
  },
  {
   "cell_type": "code",
   "execution_count": null,
   "id": "a61a5208",
   "metadata": {},
   "outputs": [
    {
     "data": {
      "text/html": [
       "<div>\n",
       "<style scoped>\n",
       "    .dataframe tbody tr th:only-of-type {\n",
       "        vertical-align: middle;\n",
       "    }\n",
       "\n",
       "    .dataframe tbody tr th {\n",
       "        vertical-align: top;\n",
       "    }\n",
       "\n",
       "    .dataframe thead th {\n",
       "        text-align: right;\n",
       "    }\n",
       "</style>\n",
       "<table border=\"1\" class=\"dataframe\">\n",
       "  <thead>\n",
       "    <tr style=\"text-align: right;\">\n",
       "      <th></th>\n",
       "      <th>sample</th>\n",
       "      <th>annotation</th>\n",
       "      <th>tokens_ids_debug</th>\n",
       "      <th>tokens_text_debug</th>\n",
       "      <th>labels_debug</th>\n",
       "      <th>pred_labels</th>\n",
       "      <th>entities</th>\n",
       "      <th>is_correct</th>\n",
       "    </tr>\n",
       "  </thead>\n",
       "  <tbody>\n",
       "    <tr>\n",
       "      <th>2750</th>\n",
       "      <td>сыр брест сливочный</td>\n",
       "      <td>[(0, 3, B-TYPE), (4, 9, I-TYPE), (10, 19, I-TYPE)]</td>\n",
       "      <td>[2, 30691, 78039, 43894, 8034, 3, 0, 0, 0, 0, 0, 0, 0, 0, 0, 0]</td>\n",
       "      <td>[[CLS], сыр, брест, сливо, ##чный, [SEP], [PAD], [PAD], [PAD], [PAD], [PAD], [PAD], [PAD], [PAD], [PAD], [PAD]]</td>\n",
       "      <td>[O, B-TYPE, I-TYPE, I-TYPE, I-TYPE, O, O, O, O, O, O, O, O, O, O, O]</td>\n",
       "      <td>[O, B-TYPE, B-BRAND, I-BRAND, I-BRAND, O, O, O, O, O, O, O, O, O, O, O]</td>\n",
       "      <td>[{'start_index': 0, 'end_index': 3, 'entity': 'B-TYPE', 'word': 'сыр'}, {'start_index': 4, 'end_index': 9, 'entity': 'B-BRAND', 'word': 'брест'}, {'start_index': 10, 'end_index': 19, 'entity': 'I-BRAND', 'word': 'сливочный'}]</td>\n",
       "      <td>False</td>\n",
       "    </tr>\n",
       "    <tr>\n",
       "      <th>4377</th>\n",
       "      <td>корзиночек кристалл</td>\n",
       "      <td>[(0, 10, B-TYPE), (11, 19, I-TYPE)]</td>\n",
       "      <td>[2, 38312, 32518, 75314, 3, 0, 0, 0, 0, 0, 0, 0, 0, 0, 0, 0]</td>\n",
       "      <td>[[CLS], корзин, ##очек, кристалл, [SEP], [PAD], [PAD], [PAD], [PAD], [PAD], [PAD], [PAD], [PAD], [PAD], [PAD], [PAD]]</td>\n",
       "      <td>[O, B-TYPE, I-TYPE, I-TYPE, O, O, O, O, O, O, O, O, O, O, O, O]</td>\n",
       "      <td>[O, B-TYPE, I-TYPE, B-BRAND, O, O, O, O, O, O, O, O, O, O, O, O]</td>\n",
       "      <td>[{'start_index': 0, 'end_index': 10, 'entity': 'B-TYPE', 'word': 'корзиночек'}, {'start_index': 11, 'end_index': 19, 'entity': 'B-BRAND', 'word': 'кристалл'}]</td>\n",
       "      <td>False</td>\n",
       "    </tr>\n",
       "    <tr>\n",
       "      <th>507</th>\n",
       "      <td>корицы пар</td>\n",
       "      <td>[(0, 6, B-TYPE), (7, 10, I-TYPE)]</td>\n",
       "      <td>[2, 78190, 2386, 20107, 3, 0, 0, 0, 0, 0, 0, 0, 0, 0, 0, 0]</td>\n",
       "      <td>[[CLS], кори, ##цы, пар, [SEP], [PAD], [PAD], [PAD], [PAD], [PAD], [PAD], [PAD], [PAD], [PAD], [PAD], [PAD]]</td>\n",
       "      <td>[O, B-TYPE, I-TYPE, I-TYPE, O, O, O, O, O, O, O, O, O, O, O, O]</td>\n",
       "      <td>[O, B-TYPE, I-TYPE, B-BRAND, O, O, O, O, O, O, O, O, O, O, O, O]</td>\n",
       "      <td>[{'start_index': 0, 'end_index': 6, 'entity': 'B-TYPE', 'word': 'корицы'}, {'start_index': 7, 'end_index': 10, 'entity': 'B-BRAND', 'word': 'пар'}]</td>\n",
       "      <td>False</td>\n",
       "    </tr>\n",
       "    <tr>\n",
       "      <th>4520</th>\n",
       "      <td>дрожжи производст</td>\n",
       "      <td>[(0, 6, B-TYPE), (7, 17, I-TYPE)]</td>\n",
       "      <td>[2, 45768, 3419, 29982, 1553, 3, 0, 0, 0, 0, 0, 0, 0, 0, 0, 0]</td>\n",
       "      <td>[[CLS], дрож, ##жи, производ, ##ст, [SEP], [PAD], [PAD], [PAD], [PAD], [PAD], [PAD], [PAD], [PAD], [PAD], [PAD]]</td>\n",
       "      <td>[O, B-TYPE, I-TYPE, I-TYPE, I-TYPE, O, O, O, O, O, O, O, O, O, O, O]</td>\n",
       "      <td>[O, B-TYPE, I-TYPE, B-BRAND, I-BRAND, O, O, O, O, O, O, O, O, O, O, O]</td>\n",
       "      <td>[{'start_index': 0, 'end_index': 6, 'entity': 'B-TYPE', 'word': 'дрожжи'}, {'start_index': 7, 'end_index': 17, 'entity': 'B-BRAND', 'word': 'производст'}]</td>\n",
       "      <td>False</td>\n",
       "    </tr>\n",
       "    <tr>\n",
       "      <th>4544</th>\n",
       "      <td>био картофел</td>\n",
       "      <td>[(0, 3, B-TYPE), (4, 12, I-TYPE)]</td>\n",
       "      <td>[2, 3168, 36596, 869, 3, 0, 0, 0, 0, 0, 0, 0, 0, 0, 0, 0]</td>\n",
       "      <td>[[CLS], био, картофе, ##л, [SEP], [PAD], [PAD], [PAD], [PAD], [PAD], [PAD], [PAD], [PAD], [PAD], [PAD], [PAD]]</td>\n",
       "      <td>[O, B-TYPE, I-TYPE, I-TYPE, O, O, O, O, O, O, O, O, O, O, O, O]</td>\n",
       "      <td>[O, B-BRAND, B-TYPE, I-TYPE, O, O, O, O, O, O, O, O, O, O, O, O]</td>\n",
       "      <td>[{'start_index': 0, 'end_index': 3, 'entity': 'B-BRAND', 'word': 'био'}, {'start_index': 4, 'end_index': 12, 'entity': 'B-TYPE', 'word': 'картофел'}]</td>\n",
       "      <td>False</td>\n",
       "    </tr>\n",
       "    <tr>\n",
       "      <th>4049</th>\n",
       "      <td>блокноты проф-пресс</td>\n",
       "      <td>[(0, 8, B-TYPE), (9, 19, I-TYPE)]</td>\n",
       "      <td>[2, 64588, 700, 17565, 17, 29676, 3, 0, 0, 0, 0, 0, 0, 0, 0, 0]</td>\n",
       "      <td>[[CLS], блокнот, ##ы, проф, -, пресс, [SEP], [PAD], [PAD], [PAD], [PAD], [PAD], [PAD], [PAD], [PAD], [PAD]]</td>\n",
       "      <td>[O, B-TYPE, I-TYPE, I-TYPE, I-TYPE, I-TYPE, O, O, O, O, O, O, O, O, O, O]</td>\n",
       "      <td>[O, B-TYPE, I-TYPE, B-BRAND, I-BRAND, I-BRAND, O, O, O, O, O, O, O, O, O, O]</td>\n",
       "      <td>[{'start_index': 0, 'end_index': 8, 'entity': 'B-TYPE', 'word': 'блокноты'}, {'start_index': 9, 'end_index': 19, 'entity': 'B-BRAND', 'word': 'проф-пресс'}]</td>\n",
       "      <td>False</td>\n",
       "    </tr>\n",
       "    <tr>\n",
       "      <th>3082</th>\n",
       "      <td>always ultra оран</td>\n",
       "      <td>[(0, 6, B-BRAND), (7, 12, I-BRAND), (13, 17, B-TYPE)]</td>\n",
       "      <td>[2, 5547, 21349, 36131, 3, 0, 0, 0, 0, 0, 0, 0, 0, 0, 0, 0]</td>\n",
       "      <td>[[CLS], always, ultra, оран, [SEP], [PAD], [PAD], [PAD], [PAD], [PAD], [PAD], [PAD], [PAD], [PAD], [PAD], [PAD]]</td>\n",
       "      <td>[O, B-BRAND, I-BRAND, B-TYPE, O, O, O, O, O, O, O, O, O, O, O, O]</td>\n",
       "      <td>[O, B-BRAND, I-BRAND, I-BRAND, O, O, O, O, O, O, O, O, O, O, O, O]</td>\n",
       "      <td>[{'start_index': 0, 'end_index': 6, 'entity': 'B-BRAND', 'word': 'always'}, {'start_index': 7, 'end_index': 12, 'entity': 'I-BRAND', 'word': 'ultra'}, {'start_index': 13, 'end_index': 17, 'entity': 'I-BRAND', 'word': 'оран'}]</td>\n",
       "      <td>False</td>\n",
       "    </tr>\n",
       "    <tr>\n",
       "      <th>3239</th>\n",
       "      <td>крекер вв</td>\n",
       "      <td>[(0, 6, B-TYPE), (7, 9, I-TYPE)]</td>\n",
       "      <td>[2, 30004, 11776, 18529, 3, 0, 0, 0, 0, 0, 0, 0, 0, 0, 0, 0]</td>\n",
       "      <td>[[CLS], кре, ##кер, вв, [SEP], [PAD], [PAD], [PAD], [PAD], [PAD], [PAD], [PAD], [PAD], [PAD], [PAD], [PAD]]</td>\n",
       "      <td>[O, B-TYPE, I-TYPE, I-TYPE, O, O, O, O, O, O, O, O, O, O, O, O]</td>\n",
       "      <td>[O, B-TYPE, I-TYPE, B-BRAND, O, O, O, O, O, O, O, O, O, O, O, O]</td>\n",
       "      <td>[{'start_index': 0, 'end_index': 6, 'entity': 'B-TYPE', 'word': 'крекер'}, {'start_index': 7, 'end_index': 9, 'entity': 'B-BRAND', 'word': 'вв'}]</td>\n",
       "      <td>False</td>\n",
       "    </tr>\n",
       "    <tr>\n",
       "      <th>3207</th>\n",
       "      <td>шпик рамфуд</td>\n",
       "      <td>[(0, 4, B-TYPE), (5, 11, I-TYPE)]</td>\n",
       "      <td>[2, 2690, 3126, 32774, 18160, 1023, 3, 0, 0, 0, 0, 0, 0, 0, 0, 0]</td>\n",
       "      <td>[[CLS], шп, ##ик, рам, ##фу, ##д, [SEP], [PAD], [PAD], [PAD], [PAD], [PAD], [PAD], [PAD], [PAD], [PAD]]</td>\n",
       "      <td>[O, B-TYPE, I-TYPE, I-TYPE, I-TYPE, I-TYPE, O, O, O, O, O, O, O, O, O, O]</td>\n",
       "      <td>[O, B-TYPE, I-TYPE, B-BRAND, I-BRAND, I-BRAND, O, O, O, O, O, O, O, O, O, O]</td>\n",
       "      <td>[{'start_index': 0, 'end_index': 4, 'entity': 'B-TYPE', 'word': 'шпик'}, {'start_index': 5, 'end_index': 11, 'entity': 'B-BRAND', 'word': 'рамфуд'}]</td>\n",
       "      <td>False</td>\n",
       "    </tr>\n",
       "    <tr>\n",
       "      <th>4309</th>\n",
       "      <td>пряников милагро</td>\n",
       "      <td>[(0, 8, B-TYPE), (9, 16, I-TYPE)]</td>\n",
       "      <td>[2, 53709, 20076, 11951, 17049, 3074, 3, 0, 0, 0, 0, 0, 0, 0, 0, 0]</td>\n",
       "      <td>[[CLS], прян, ##иков, ми, ##лаг, ##ро, [SEP], [PAD], [PAD], [PAD], [PAD], [PAD], [PAD], [PAD], [PAD], [PAD]]</td>\n",
       "      <td>[O, B-TYPE, I-TYPE, I-TYPE, I-TYPE, I-TYPE, O, O, O, O, O, O, O, O, O, O]</td>\n",
       "      <td>[O, B-TYPE, I-TYPE, B-BRAND, I-BRAND, I-BRAND, O, O, O, O, O, O, O, O, O, O]</td>\n",
       "      <td>[{'start_index': 0, 'end_index': 8, 'entity': 'B-TYPE', 'word': 'пряников'}, {'start_index': 9, 'end_index': 16, 'entity': 'B-BRAND', 'word': 'милагро'}]</td>\n",
       "      <td>False</td>\n",
       "    </tr>\n",
       "  </tbody>\n",
       "</table>\n",
       "</div>"
      ],
      "text/plain": [
       "                   sample  \\\n",
       "2750  сыр брест сливочный   \n",
       "4377  корзиночек кристалл   \n",
       "507            корицы пар   \n",
       "4520    дрожжи производст   \n",
       "4544         био картофел   \n",
       "4049  блокноты проф-пресс   \n",
       "3082    always ultra оран   \n",
       "3239            крекер вв   \n",
       "3207          шпик рамфуд   \n",
       "4309     пряников милагро   \n",
       "\n",
       "                                                 annotation  \\\n",
       "2750     [(0, 3, B-TYPE), (4, 9, I-TYPE), (10, 19, I-TYPE)]   \n",
       "4377                    [(0, 10, B-TYPE), (11, 19, I-TYPE)]   \n",
       "507                       [(0, 6, B-TYPE), (7, 10, I-TYPE)]   \n",
       "4520                      [(0, 6, B-TYPE), (7, 17, I-TYPE)]   \n",
       "4544                      [(0, 3, B-TYPE), (4, 12, I-TYPE)]   \n",
       "4049                      [(0, 8, B-TYPE), (9, 19, I-TYPE)]   \n",
       "3082  [(0, 6, B-BRAND), (7, 12, I-BRAND), (13, 17, B-TYPE)]   \n",
       "3239                       [(0, 6, B-TYPE), (7, 9, I-TYPE)]   \n",
       "3207                      [(0, 4, B-TYPE), (5, 11, I-TYPE)]   \n",
       "4309                      [(0, 8, B-TYPE), (9, 16, I-TYPE)]   \n",
       "\n",
       "                                                         tokens_ids_debug  \\\n",
       "2750      [2, 30691, 78039, 43894, 8034, 3, 0, 0, 0, 0, 0, 0, 0, 0, 0, 0]   \n",
       "4377         [2, 38312, 32518, 75314, 3, 0, 0, 0, 0, 0, 0, 0, 0, 0, 0, 0]   \n",
       "507           [2, 78190, 2386, 20107, 3, 0, 0, 0, 0, 0, 0, 0, 0, 0, 0, 0]   \n",
       "4520       [2, 45768, 3419, 29982, 1553, 3, 0, 0, 0, 0, 0, 0, 0, 0, 0, 0]   \n",
       "4544            [2, 3168, 36596, 869, 3, 0, 0, 0, 0, 0, 0, 0, 0, 0, 0, 0]   \n",
       "4049      [2, 64588, 700, 17565, 17, 29676, 3, 0, 0, 0, 0, 0, 0, 0, 0, 0]   \n",
       "3082          [2, 5547, 21349, 36131, 3, 0, 0, 0, 0, 0, 0, 0, 0, 0, 0, 0]   \n",
       "3239         [2, 30004, 11776, 18529, 3, 0, 0, 0, 0, 0, 0, 0, 0, 0, 0, 0]   \n",
       "3207    [2, 2690, 3126, 32774, 18160, 1023, 3, 0, 0, 0, 0, 0, 0, 0, 0, 0]   \n",
       "4309  [2, 53709, 20076, 11951, 17049, 3074, 3, 0, 0, 0, 0, 0, 0, 0, 0, 0]   \n",
       "\n",
       "                                                                                                          tokens_text_debug  \\\n",
       "2750        [[CLS], сыр, брест, сливо, ##чный, [SEP], [PAD], [PAD], [PAD], [PAD], [PAD], [PAD], [PAD], [PAD], [PAD], [PAD]]   \n",
       "4377  [[CLS], корзин, ##очек, кристалл, [SEP], [PAD], [PAD], [PAD], [PAD], [PAD], [PAD], [PAD], [PAD], [PAD], [PAD], [PAD]]   \n",
       "507            [[CLS], кори, ##цы, пар, [SEP], [PAD], [PAD], [PAD], [PAD], [PAD], [PAD], [PAD], [PAD], [PAD], [PAD], [PAD]]   \n",
       "4520       [[CLS], дрож, ##жи, производ, ##ст, [SEP], [PAD], [PAD], [PAD], [PAD], [PAD], [PAD], [PAD], [PAD], [PAD], [PAD]]   \n",
       "4544         [[CLS], био, картофе, ##л, [SEP], [PAD], [PAD], [PAD], [PAD], [PAD], [PAD], [PAD], [PAD], [PAD], [PAD], [PAD]]   \n",
       "4049            [[CLS], блокнот, ##ы, проф, -, пресс, [SEP], [PAD], [PAD], [PAD], [PAD], [PAD], [PAD], [PAD], [PAD], [PAD]]   \n",
       "3082       [[CLS], always, ultra, оран, [SEP], [PAD], [PAD], [PAD], [PAD], [PAD], [PAD], [PAD], [PAD], [PAD], [PAD], [PAD]]   \n",
       "3239            [[CLS], кре, ##кер, вв, [SEP], [PAD], [PAD], [PAD], [PAD], [PAD], [PAD], [PAD], [PAD], [PAD], [PAD], [PAD]]   \n",
       "3207                [[CLS], шп, ##ик, рам, ##фу, ##д, [SEP], [PAD], [PAD], [PAD], [PAD], [PAD], [PAD], [PAD], [PAD], [PAD]]   \n",
       "4309           [[CLS], прян, ##иков, ми, ##лаг, ##ро, [SEP], [PAD], [PAD], [PAD], [PAD], [PAD], [PAD], [PAD], [PAD], [PAD]]   \n",
       "\n",
       "                                                                   labels_debug  \\\n",
       "2750       [O, B-TYPE, I-TYPE, I-TYPE, I-TYPE, O, O, O, O, O, O, O, O, O, O, O]   \n",
       "4377            [O, B-TYPE, I-TYPE, I-TYPE, O, O, O, O, O, O, O, O, O, O, O, O]   \n",
       "507             [O, B-TYPE, I-TYPE, I-TYPE, O, O, O, O, O, O, O, O, O, O, O, O]   \n",
       "4520       [O, B-TYPE, I-TYPE, I-TYPE, I-TYPE, O, O, O, O, O, O, O, O, O, O, O]   \n",
       "4544            [O, B-TYPE, I-TYPE, I-TYPE, O, O, O, O, O, O, O, O, O, O, O, O]   \n",
       "4049  [O, B-TYPE, I-TYPE, I-TYPE, I-TYPE, I-TYPE, O, O, O, O, O, O, O, O, O, O]   \n",
       "3082          [O, B-BRAND, I-BRAND, B-TYPE, O, O, O, O, O, O, O, O, O, O, O, O]   \n",
       "3239            [O, B-TYPE, I-TYPE, I-TYPE, O, O, O, O, O, O, O, O, O, O, O, O]   \n",
       "3207  [O, B-TYPE, I-TYPE, I-TYPE, I-TYPE, I-TYPE, O, O, O, O, O, O, O, O, O, O]   \n",
       "4309  [O, B-TYPE, I-TYPE, I-TYPE, I-TYPE, I-TYPE, O, O, O, O, O, O, O, O, O, O]   \n",
       "\n",
       "                                                                       pred_labels  \\\n",
       "2750       [O, B-TYPE, B-BRAND, I-BRAND, I-BRAND, O, O, O, O, O, O, O, O, O, O, O]   \n",
       "4377              [O, B-TYPE, I-TYPE, B-BRAND, O, O, O, O, O, O, O, O, O, O, O, O]   \n",
       "507               [O, B-TYPE, I-TYPE, B-BRAND, O, O, O, O, O, O, O, O, O, O, O, O]   \n",
       "4520        [O, B-TYPE, I-TYPE, B-BRAND, I-BRAND, O, O, O, O, O, O, O, O, O, O, O]   \n",
       "4544              [O, B-BRAND, B-TYPE, I-TYPE, O, O, O, O, O, O, O, O, O, O, O, O]   \n",
       "4049  [O, B-TYPE, I-TYPE, B-BRAND, I-BRAND, I-BRAND, O, O, O, O, O, O, O, O, O, O]   \n",
       "3082            [O, B-BRAND, I-BRAND, I-BRAND, O, O, O, O, O, O, O, O, O, O, O, O]   \n",
       "3239              [O, B-TYPE, I-TYPE, B-BRAND, O, O, O, O, O, O, O, O, O, O, O, O]   \n",
       "3207  [O, B-TYPE, I-TYPE, B-BRAND, I-BRAND, I-BRAND, O, O, O, O, O, O, O, O, O, O]   \n",
       "4309  [O, B-TYPE, I-TYPE, B-BRAND, I-BRAND, I-BRAND, O, O, O, O, O, O, O, O, O, O]   \n",
       "\n",
       "                                                                                                                                                                                                                               entities  \\\n",
       "2750  [{'start_index': 0, 'end_index': 3, 'entity': 'B-TYPE', 'word': 'сыр'}, {'start_index': 4, 'end_index': 9, 'entity': 'B-BRAND', 'word': 'брест'}, {'start_index': 10, 'end_index': 19, 'entity': 'I-BRAND', 'word': 'сливочный'}]   \n",
       "4377                                                                     [{'start_index': 0, 'end_index': 10, 'entity': 'B-TYPE', 'word': 'корзиночек'}, {'start_index': 11, 'end_index': 19, 'entity': 'B-BRAND', 'word': 'кристалл'}]   \n",
       "507                                                                                 [{'start_index': 0, 'end_index': 6, 'entity': 'B-TYPE', 'word': 'корицы'}, {'start_index': 7, 'end_index': 10, 'entity': 'B-BRAND', 'word': 'пар'}]   \n",
       "4520                                                                         [{'start_index': 0, 'end_index': 6, 'entity': 'B-TYPE', 'word': 'дрожжи'}, {'start_index': 7, 'end_index': 17, 'entity': 'B-BRAND', 'word': 'производст'}]   \n",
       "4544                                                                              [{'start_index': 0, 'end_index': 3, 'entity': 'B-BRAND', 'word': 'био'}, {'start_index': 4, 'end_index': 12, 'entity': 'B-TYPE', 'word': 'картофел'}]   \n",
       "4049                                                                       [{'start_index': 0, 'end_index': 8, 'entity': 'B-TYPE', 'word': 'блокноты'}, {'start_index': 9, 'end_index': 19, 'entity': 'B-BRAND', 'word': 'проф-пресс'}]   \n",
       "3082  [{'start_index': 0, 'end_index': 6, 'entity': 'B-BRAND', 'word': 'always'}, {'start_index': 7, 'end_index': 12, 'entity': 'I-BRAND', 'word': 'ultra'}, {'start_index': 13, 'end_index': 17, 'entity': 'I-BRAND', 'word': 'оран'}]   \n",
       "3239                                                                                  [{'start_index': 0, 'end_index': 6, 'entity': 'B-TYPE', 'word': 'крекер'}, {'start_index': 7, 'end_index': 9, 'entity': 'B-BRAND', 'word': 'вв'}]   \n",
       "3207                                                                               [{'start_index': 0, 'end_index': 4, 'entity': 'B-TYPE', 'word': 'шпик'}, {'start_index': 5, 'end_index': 11, 'entity': 'B-BRAND', 'word': 'рамфуд'}]   \n",
       "4309                                                                          [{'start_index': 0, 'end_index': 8, 'entity': 'B-TYPE', 'word': 'пряников'}, {'start_index': 9, 'end_index': 16, 'entity': 'B-BRAND', 'word': 'милагро'}]   \n",
       "\n",
       "      is_correct  \n",
       "2750       False  \n",
       "4377       False  \n",
       "507        False  \n",
       "4520       False  \n",
       "4544       False  \n",
       "4049       False  \n",
       "3082       False  \n",
       "3239       False  \n",
       "3207       False  \n",
       "4309       False  "
      ]
     },
     "execution_count": 136,
     "metadata": {},
     "output_type": "execute_result"
    }
   ],
   "source": [
    "df_false = test_dataset.df[test_dataset.df[\"is_correct\"] == False]\n",
    "df_false.sample(10)"
   ]
  },
  {
   "cell_type": "code",
   "execution_count": null,
   "id": "c6f93572",
   "metadata": {},
   "outputs": [],
   "source": [
    "# test_dataset.visualize_embeddings(\n",
    "#     source=\"mean\",\n",
    "#     method='tsne', \n",
    "#     n_components=2,\n",
    "#     n_samples=1000,\n",
    "#     # cluster_method='kmeans',\n",
    "#     # n_clusters=10,\n",
    "#     # use_clusters=True,\n",
    "#     use_opacity=False,\n",
    "#     idx2label=idx2label,\n",
    "#     colorscale_name='rainbow',\n",
    "#     hover_columns=['sample', 'annotation'],\n",
    "#     plot_width=1800,\n",
    "#     plot_height=600,\n",
    "# )"
   ]
  },
  {
   "cell_type": "markdown",
   "id": "2f5d6a98",
   "metadata": {},
   "source": [
    "# Ручное тестирование"
   ]
  },
  {
   "cell_type": "code",
   "execution_count": null,
   "id": "0a303d9e",
   "metadata": {},
   "outputs": [],
   "source": [
    "import json\n",
    "from pathlib import Path\n",
    "\n",
    "from ml.pipline import NERPipelineCRF\n",
    "\n",
    "model_dir = DATA_PATH_SAVE_MODELS / \"ner_x5\"\n",
    "label2idx_path = DATA_PATH_SAVE_MODELS / \"label2idx.json\"\n",
    "idx2label_path = DATA_PATH_SAVE_MODELS / \"idx2label.json\"\n",
    "\n",
    "with open(label2idx_path, \"r\", encoding=\"utf-8\") as f:\n",
    "    label2idx = json.load(f)\n",
    "\n",
    "with open(idx2label_path, \"r\", encoding=\"utf-8\") as f:\n",
    "    idx2label = {int(k): v for k, v in json.load(f).items()}\n",
    "\n",
    "pipeline = NERPipelineCRF(\n",
    "    model_path=model_dir,\n",
    "    label2idx=label2idx,\n",
    "    idx2label=idx2label,\n",
    "    max_length=16\n",
    ")\n"
   ]
  },
  {
   "cell_type": "code",
   "execution_count": null,
   "id": "3670b02f",
   "metadata": {},
   "outputs": [
    {
     "name": "stdout",
     "output_type": "stream",
     "text": [
      "Текст: йогурт данисимо фантазия\n",
      "[{'start_index': 0, 'end_index': 6, 'entity': 'B-TYPE', 'word': 'йогурт'}, {'start_index': 7, 'end_index': 15, 'entity': 'B-BRAND', 'word': 'данисимо'}, {'start_index': 16, 'end_index': 24, 'entity': 'I-BRAND', 'word': 'фантазия'}]\n",
      "Текст: молоко простоквашино 3.2% 930г\n",
      "[{'start_index': 0, 'end_index': 6, 'entity': 'B-TYPE', 'word': 'молоко'}, {'start_index': 7, 'end_index': 20, 'entity': 'B-BRAND', 'word': 'простоквашино'}, {'start_index': 21, 'end_index': 25, 'entity': 'B-PERCENT', 'word': '3.2%'}, {'start_index': 26, 'end_index': 30, 'entity': 'B-VOLUME', 'word': '930г'}]\n",
      "Текст: хлеб бородинский нарезка 300г\n",
      "[{'start_index': 0, 'end_index': 4, 'entity': 'B-TYPE', 'word': 'хлеб'}, {'start_index': 5, 'end_index': 16, 'entity': 'B-BRAND', 'word': 'бородинский'}, {'start_index': 17, 'end_index': 24, 'entity': 'I-TYPE', 'word': 'нарезка'}, {'start_index': 25, 'end_index': 29, 'entity': 'B-VOLUME', 'word': '300г'}]\n",
      "Текст: мороженнае как бы его взтять\n",
      "[{'start_index': 0, 'end_index': 10, 'entity': 'B-TYPE', 'word': 'мороженнае'}, {'start_index': 11, 'end_index': 14, 'entity': 'I-TYPE', 'word': 'как'}, {'start_index': 15, 'end_index': 17, 'entity': 'I-TYPE', 'word': 'бы'}, {'start_index': 18, 'end_index': 21, 'entity': 'I-TYPE', 'word': 'его'}, {'start_index': 22, 'end_index': 28, 'entity': 'I-TYPE', 'word': 'взтять'}]\n",
      "Текст: молоко⁷ цельное\n",
      "[{'start_index': 8, 'end_index': 15, 'entity': 'I-TYPE', 'word': 'цельное'}]\n",
      "Текст: паштет для кошки\n",
      "[{'start_index': 0, 'end_index': 6, 'entity': 'B-TYPE', 'word': 'паштет'}, {'start_index': 7, 'end_index': 10, 'entity': 'I-TYPE', 'word': 'для'}, {'start_index': 11, 'end_index': 16, 'entity': 'I-TYPE', 'word': 'кошки'}]\n",
      "Текст: погремушки fisher-pri\n",
      "[{'start_index': 0, 'end_index': 10, 'entity': 'B-TYPE', 'word': 'погремушки'}, {'start_index': 11, 'end_index': 21, 'entity': 'B-BRAND', 'word': 'fisher-pri'}]\n",
      "Текст: сырокопченая-колбаск\n",
      "[{'start_index': 0, 'end_index': 20, 'entity': 'B-TYPE', 'word': 'сырокопченая-колбаск'}]\n",
      "Текст: мясное пюре для пупсов\n",
      "[{'start_index': 0, 'end_index': 6, 'entity': 'B-TYPE', 'word': 'мясное'}, {'start_index': 7, 'end_index': 11, 'entity': 'I-TYPE', 'word': 'пюре'}, {'start_index': 12, 'end_index': 15, 'entity': 'I-TYPE', 'word': 'для'}, {'start_index': 16, 'end_index': 22, 'entity': 'I-TYPE', 'word': 'пупсов'}]\n"
     ]
    }
   ],
   "source": [
    "text = [\n",
    "    \"йогурт данисимо фантазия\",\n",
    "    \"молоко простоквашино 3.2% 930г\",\n",
    "    \"хлеб бородинский нарезка 300г\",\n",
    "    \"мороженнае как бы его взтять\",\n",
    "    \"молоко⁷ цельное\",\n",
    "    \"паштет для кошки\",\n",
    "    \"погремушки fisher-pri\",   \n",
    "    \"сырокопченая-колбаск\",\n",
    "    \"мясное пюре для пупсов\"\n",
    "]\n",
    "entities = pipeline.predict(text, return_word=True)\n",
    "\n",
    "for i, entity in enumerate(entities):\n",
    "    print(f\"Текст: {text[i]}\")\n",
    "    print(entity)"
   ]
  },
  {
   "cell_type": "code",
   "execution_count": null,
   "id": "80260521",
   "metadata": {},
   "outputs": [],
   "source": [
    "import pandas as pd\n",
    "from tqdm import tqdm\n",
    "\n",
    "def run_inference_on_dataframe(\n",
    "    pipeline, \n",
    "    df: pd.DataFrame,\n",
    "    text_col: str = \"sample\", \n",
    "    batch_size: int = 64\n",
    ") -> pd.DataFrame:\n",
    "    \n",
    "    texts = df[text_col].tolist()\n",
    "    all_entities = []\n",
    "\n",
    "    for i in tqdm(range(0, len(texts), batch_size), desc=\"Running inference\", ncols=100):\n",
    "        batch_texts = texts[i:i+batch_size]\n",
    "        batch_entities = pipeline.predict(batch_texts, batch_size=batch_size)\n",
    "        all_entities.extend(batch_entities)\n",
    "\n",
    "    formatted_entities = [\n",
    "        [(ent[\"start_index\"], ent[\"end_index\"], ent[\"entity\"]) for ent in ents]\n",
    "        for ents in all_entities\n",
    "    ]\n",
    "\n",
    "    df_result = pd.DataFrame({\n",
    "        \"id\": range(1, len(texts) + 1),\n",
    "        \"search_query\": texts,\n",
    "        \"annotation\": formatted_entities\n",
    "    })\n",
    "\n",
    "    return df_result\n"
   ]
  },
  {
   "cell_type": "code",
   "execution_count": null,
   "id": "2d7e89c5",
   "metadata": {},
   "outputs": [
    {
     "name": "stderr",
     "output_type": "stream",
     "text": [
      "Running inference: 100%|████████████████████████████████████████████| 79/79 [00:10<00:00,  7.46it/s]\n"
     ]
    }
   ],
   "source": [
    "df_result = run_inference_on_dataframe(pipeline, df_submission, text_col=\"sample\", batch_size=64)\n"
   ]
  },
  {
   "cell_type": "code",
   "execution_count": null,
   "id": "4858d928",
   "metadata": {},
   "outputs": [
    {
     "data": {
      "text/html": [
       "<div>\n",
       "<style scoped>\n",
       "    .dataframe tbody tr th:only-of-type {\n",
       "        vertical-align: middle;\n",
       "    }\n",
       "\n",
       "    .dataframe tbody tr th {\n",
       "        vertical-align: top;\n",
       "    }\n",
       "\n",
       "    .dataframe thead th {\n",
       "        text-align: right;\n",
       "    }\n",
       "</style>\n",
       "<table border=\"1\" class=\"dataframe\">\n",
       "  <thead>\n",
       "    <tr style=\"text-align: right;\">\n",
       "      <th></th>\n",
       "      <th>id</th>\n",
       "      <th>search_query</th>\n",
       "      <th>annotation</th>\n",
       "    </tr>\n",
       "  </thead>\n",
       "  <tbody>\n",
       "    <tr>\n",
       "      <th>2840</th>\n",
       "      <td>2841</td>\n",
       "      <td>каша беллин</td>\n",
       "      <td>[(0, 4, B-TYPE), (5, 11, B-BRAND)]</td>\n",
       "    </tr>\n",
       "    <tr>\n",
       "      <th>1068</th>\n",
       "      <td>1069</td>\n",
       "      <td>югурт</td>\n",
       "      <td>[(0, 5, B-TYPE)]</td>\n",
       "    </tr>\n",
       "    <tr>\n",
       "      <th>4165</th>\n",
       "      <td>4166</td>\n",
       "      <td>темто для пе</td>\n",
       "      <td>[(0, 5, B-TYPE), (6, 9, I-TYPE), (10, 12, I-TYPE)]</td>\n",
       "    </tr>\n",
       "    <tr>\n",
       "      <th>4785</th>\n",
       "      <td>4786</td>\n",
       "      <td>моллао</td>\n",
       "      <td>[(0, 6, B-TYPE)]</td>\n",
       "    </tr>\n",
       "    <tr>\n",
       "      <th>3044</th>\n",
       "      <td>3045</td>\n",
       "      <td>огврцы</td>\n",
       "      <td>[(0, 6, B-TYPE)]</td>\n",
       "    </tr>\n",
       "  </tbody>\n",
       "</table>\n",
       "</div>"
      ],
      "text/plain": [
       "        id  search_query                                          annotation\n",
       "2840  2841   каша беллин                  [(0, 4, B-TYPE), (5, 11, B-BRAND)]\n",
       "1068  1069         югурт                                    [(0, 5, B-TYPE)]\n",
       "4165  4166  темто для пе  [(0, 5, B-TYPE), (6, 9, I-TYPE), (10, 12, I-TYPE)]\n",
       "4785  4786        моллао                                    [(0, 6, B-TYPE)]\n",
       "3044  3045        огврцы                                    [(0, 6, B-TYPE)]"
      ]
     },
     "execution_count": 133,
     "metadata": {},
     "output_type": "execute_result"
    }
   ],
   "source": [
    "df_result.sample(5)"
   ]
  },
  {
   "cell_type": "code",
   "execution_count": null,
   "id": "09516199",
   "metadata": {},
   "outputs": [],
   "source": [
    "df_result.to_csv(DATA_PATH_DOWNLOAD /  \"submission.csv\", index=False, sep=\";\")\n"
   ]
  }
 ],
 "metadata": {
  "kernelspec": {
   "display_name": ".venv",
   "language": "python",
   "name": "python3"
  },
  "language_info": {
   "codemirror_mode": {
    "name": "ipython",
    "version": 3
   },
   "file_extension": ".py",
   "mimetype": "text/x-python",
   "name": "python",
   "nbconvert_exporter": "python",
   "pygments_lexer": "ipython3",
   "version": "3.11.5"
  }
 },
 "nbformat": 4,
 "nbformat_minor": 5
}
