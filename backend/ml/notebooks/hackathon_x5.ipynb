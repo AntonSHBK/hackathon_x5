{
 "cells": [
  {
   "cell_type": "markdown",
   "id": "cce5d94a",
   "metadata": {},
   "source": [
    "# X5"
   ]
  },
  {
   "cell_type": "code",
   "execution_count": 167,
   "id": "837ebf48",
   "metadata": {},
   "outputs": [],
   "source": [
    "import random\n",
    "\n",
    "import numpy as np\n",
    "import pandas as pd\n",
    "\n",
    "import torch\n",
    "\n",
    "torch.cuda.empty_cache()\n",
    "\n",
    "def seed_all(seed: int) -> None:\n",
    "    np.random.seed(seed)\n",
    "    torch.manual_seed(seed)\n",
    "    torch.cuda.manual_seed(seed)\n",
    "    torch.cuda.manual_seed_all(seed)\n",
    "    torch.backends.cudnn.deterministic = True\n",
    "    torch.backends.cudnn.benchmark = False\n",
    "    random.seed(seed)"
   ]
  },
  {
   "cell_type": "code",
   "execution_count": 168,
   "id": "36e0b595",
   "metadata": {},
   "outputs": [],
   "source": [
    "SEED = 42\n",
    "# seed_all(SEED)"
   ]
  },
  {
   "cell_type": "code",
   "execution_count": 169,
   "id": "ed2f6b4c",
   "metadata": {},
   "outputs": [],
   "source": [
    "from pathlib import Path\n",
    "\n",
    "DATA_PATH = Path('../../../data/')\n",
    "DATA_PATH.mkdir(parents=True, exist_ok=True)\n",
    "\n",
    "DATA_PATH_DOWNLOAD = DATA_PATH / Path('download/')\n",
    "DATA_PATH_DOWNLOAD.mkdir(parents=True, exist_ok=True)\n",
    "\n",
    "DATA_PATH_DATASET = DATA_PATH / Path('datasets/')\n",
    "DATA_PATH_DATASET.mkdir(parents=True, exist_ok=True)\n",
    "\n",
    "DATA_SYNTHETICS = DATA_PATH / Path('synthetics/')\n",
    "DATA_PATH_DATASET.mkdir(parents=True, exist_ok=True)\n",
    "\n",
    "DATA_CACHE = DATA_PATH / Path('cache_dir/')\n",
    "DATA_CACHE.mkdir(parents=True, exist_ok=True)\n",
    "\n",
    "DATA_PATH_SAVE_MODELS = DATA_PATH / Path('models/')\n",
    "DATA_PATH_SAVE_MODELS.mkdir(parents=True, exist_ok=True)\n",
    "\n",
    "DATA_IMGS = DATA_PATH /  Path('imgs/')\n",
    "DATA_IMGS.mkdir(parents=True, exist_ok=True)\n",
    "\n",
    "import pandas as pd\n",
    "\n",
    "pd.set_option('display.max_colwidth', 500) "
   ]
  },
  {
   "cell_type": "code",
   "execution_count": 170,
   "id": "d7fcec7a",
   "metadata": {},
   "outputs": [],
   "source": [
    "import sys\n",
    "import os\n",
    "\n",
    "project_path = os.path.abspath(os.path.join(os.getcwd(), \"../../\"))\n",
    "sys.path.append(project_path)"
   ]
  },
  {
   "cell_type": "code",
   "execution_count": 171,
   "id": "db7ff8fb",
   "metadata": {},
   "outputs": [],
   "source": [
    "BASE_MODEL_NAME = 'cointegrated/rubert-tiny2'\n",
    "# BASE_MODEL_NAME = 'MoritzLaurer/mDeBERTa-v3-base-mnli-xnli'\n",
    "# BASE_MODEL_NAME = 'DeepPavlov/rubert-base-cased'\n",
    "MODEL_NAME_SAVE = \"ner_x5\"\n",
    "MODEL_CHECKPOINT_PATH = \"ner_x5_checkpoint\""
   ]
  },
  {
   "cell_type": "code",
   "execution_count": 172,
   "id": "66775d5f",
   "metadata": {},
   "outputs": [],
   "source": [
    "from datetime import datetime\n",
    "\n",
    "current_date = datetime.now().strftime(\"%d-%m-%Y\")\n",
    "DATA_LOG = DATA_PATH / Path(f'../logs/{MODEL_NAME_SAVE}_{current_date}')\n",
    "DATA_LOG.mkdir(parents=True, exist_ok=True)"
   ]
  },
  {
   "cell_type": "code",
   "execution_count": 173,
   "id": "5a7fed11",
   "metadata": {},
   "outputs": [],
   "source": [
    "MAX_LENGTH = 16\n",
    "BATCH_SIZE = 128"
   ]
  },
  {
   "cell_type": "markdown",
   "id": "a008b155",
   "metadata": {},
   "source": [
    "# Данные"
   ]
  },
  {
   "cell_type": "code",
   "execution_count": 174,
   "id": "4db66fba",
   "metadata": {},
   "outputs": [],
   "source": [
    "df_x5 = pd.read_csv(DATA_PATH_DATASET / \"train.csv\", sep=\";\")"
   ]
  },
  {
   "cell_type": "code",
   "execution_count": 175,
   "id": "462ecef9",
   "metadata": {},
   "outputs": [
    {
     "data": {
      "text/html": [
       "<div>\n",
       "<style scoped>\n",
       "    .dataframe tbody tr th:only-of-type {\n",
       "        vertical-align: middle;\n",
       "    }\n",
       "\n",
       "    .dataframe tbody tr th {\n",
       "        vertical-align: top;\n",
       "    }\n",
       "\n",
       "    .dataframe thead th {\n",
       "        text-align: right;\n",
       "    }\n",
       "</style>\n",
       "<table border=\"1\" class=\"dataframe\">\n",
       "  <thead>\n",
       "    <tr style=\"text-align: right;\">\n",
       "      <th></th>\n",
       "      <th>sample</th>\n",
       "      <th>annotation</th>\n",
       "    </tr>\n",
       "  </thead>\n",
       "  <tbody>\n",
       "    <tr>\n",
       "      <th>13439</th>\n",
       "      <td>морковь белоручк</td>\n",
       "      <td>[(0, 7, 'B-TYPE'), (8, 16, 'B-BRAND')]</td>\n",
       "    </tr>\n",
       "    <tr>\n",
       "      <th>14454</th>\n",
       "      <td>ноги свиные</td>\n",
       "      <td>[(0, 4, 'B-TYPE'), (5, 11, 'I-TYPE')]</td>\n",
       "    </tr>\n",
       "    <tr>\n",
       "      <th>14307</th>\n",
       "      <td>нарины</td>\n",
       "      <td>[(0, 6, 'O')]</td>\n",
       "    </tr>\n",
       "    <tr>\n",
       "      <th>9604</th>\n",
       "      <td>кондеционер для белья</td>\n",
       "      <td>[(0, 11, 'B-TYPE'), (12, 15, 'O'), (16, 21, 'O')]</td>\n",
       "    </tr>\n",
       "    <tr>\n",
       "      <th>11273</th>\n",
       "      <td>лавашки</td>\n",
       "      <td>[(0, 7, 'B-TYPE')]</td>\n",
       "    </tr>\n",
       "  </tbody>\n",
       "</table>\n",
       "</div>"
      ],
      "text/plain": [
       "                      sample  \\\n",
       "13439       морковь белоручк   \n",
       "14454            ноги свиные   \n",
       "14307                 нарины   \n",
       "9604   кондеционер для белья   \n",
       "11273                лавашки   \n",
       "\n",
       "                                              annotation  \n",
       "13439             [(0, 7, 'B-TYPE'), (8, 16, 'B-BRAND')]  \n",
       "14454              [(0, 4, 'B-TYPE'), (5, 11, 'I-TYPE')]  \n",
       "14307                                      [(0, 6, 'O')]  \n",
       "9604   [(0, 11, 'B-TYPE'), (12, 15, 'O'), (16, 21, 'O')]  \n",
       "11273                                 [(0, 7, 'B-TYPE')]  "
      ]
     },
     "execution_count": 175,
     "metadata": {},
     "output_type": "execute_result"
    }
   ],
   "source": [
    "df_x5.sample(5)"
   ]
  },
  {
   "cell_type": "code",
   "execution_count": 176,
   "id": "f19774fb",
   "metadata": {},
   "outputs": [],
   "source": [
    "def normalize_annotations(ann_list):\n",
    "    if isinstance(ann_list, str):\n",
    "        ann_list = eval(ann_list)\n",
    "    new_list = []\n",
    "    for start, end, label in ann_list:\n",
    "        if label == \"0\":\n",
    "            label = \"O\"\n",
    "        new_list.append((start, end, label))\n",
    "    return new_list\n",
    "\n",
    "df_x5[\"annotation\"] = df_x5[\"annotation\"].apply(normalize_annotations)"
   ]
  },
  {
   "cell_type": "code",
   "execution_count": 177,
   "id": "b0514259",
   "metadata": {},
   "outputs": [
    {
     "data": {
      "text/plain": [
       "['B-BRAND',\n",
       " 'B-PERCENT',\n",
       " 'B-TYPE',\n",
       " 'B-VOLUME',\n",
       " 'I-BRAND',\n",
       " 'I-PERCENT',\n",
       " 'I-TYPE',\n",
       " 'I-VOLUME',\n",
       " 'O']"
      ]
     },
     "execution_count": 177,
     "metadata": {},
     "output_type": "execute_result"
    }
   ],
   "source": [
    "all_labels = set()\n",
    "\n",
    "for ann_list in df_x5[\"annotation\"]:\n",
    "    if isinstance(ann_list, str):\n",
    "        ann_list = eval(ann_list)\n",
    "    for _, _, label in ann_list:\n",
    "        all_labels.add(label)\n",
    "\n",
    "unique_labels = sorted(all_labels)\n",
    "unique_labels"
   ]
  },
  {
   "cell_type": "code",
   "execution_count": 178,
   "id": "1bce1723",
   "metadata": {},
   "outputs": [],
   "source": [
    "import ast\n",
    "\n",
    "def fix_annotations(ann):\n",
    "    if isinstance(ann, str):\n",
    "        ann = ast.literal_eval(ann)\n",
    "\n",
    "    new_ann = []\n",
    "    prev_label = None\n",
    "\n",
    "    for start, end, label in ann:\n",
    "        if label == \"O\":\n",
    "            if prev_label is None:\n",
    "                new_label = \"B-TYPE\"\n",
    "            elif prev_label.startswith((\"B-\", \"I-\")):\n",
    "                ent_type = prev_label.split(\"-\", 1)[-1]\n",
    "                new_label = f\"I-{ent_type}\"\n",
    "            else:\n",
    "                new_label = \"B-TYPE\"\n",
    "        else:\n",
    "            new_label = label\n",
    "\n",
    "        new_ann.append((start, end, new_label))\n",
    "        prev_label = new_label\n",
    "\n",
    "    return new_ann\n"
   ]
  },
  {
   "cell_type": "code",
   "execution_count": 179,
   "id": "90aeb8ef",
   "metadata": {},
   "outputs": [],
   "source": [
    "\n",
    "\n",
    "df_x5[\"annotation\"] = df_x5[\"annotation\"].apply(fix_annotations)\n"
   ]
  },
  {
   "cell_type": "code",
   "execution_count": 180,
   "id": "27c13579",
   "metadata": {},
   "outputs": [
    {
     "data": {
      "text/html": [
       "<div>\n",
       "<style scoped>\n",
       "    .dataframe tbody tr th:only-of-type {\n",
       "        vertical-align: middle;\n",
       "    }\n",
       "\n",
       "    .dataframe tbody tr th {\n",
       "        vertical-align: top;\n",
       "    }\n",
       "\n",
       "    .dataframe thead th {\n",
       "        text-align: right;\n",
       "    }\n",
       "</style>\n",
       "<table border=\"1\" class=\"dataframe\">\n",
       "  <thead>\n",
       "    <tr style=\"text-align: right;\">\n",
       "      <th></th>\n",
       "      <th>sample</th>\n",
       "      <th>annotation</th>\n",
       "    </tr>\n",
       "  </thead>\n",
       "  <tbody>\n",
       "    <tr>\n",
       "      <th>19898</th>\n",
       "      <td>сельедка</td>\n",
       "      <td>[(0, 8, B-TYPE)]</td>\n",
       "    </tr>\n",
       "    <tr>\n",
       "      <th>10623</th>\n",
       "      <td>крема</td>\n",
       "      <td>[(0, 5, B-TYPE)]</td>\n",
       "    </tr>\n",
       "    <tr>\n",
       "      <th>10765</th>\n",
       "      <td>круасани</td>\n",
       "      <td>[(0, 8, B-TYPE)]</td>\n",
       "    </tr>\n",
       "    <tr>\n",
       "      <th>11516</th>\n",
       "      <td>ливерные</td>\n",
       "      <td>[(0, 8, B-TYPE)]</td>\n",
       "    </tr>\n",
       "    <tr>\n",
       "      <th>18183</th>\n",
       "      <td>пюре фруктовые</td>\n",
       "      <td>[(0, 4, B-TYPE), (5, 14, I-TYPE)]</td>\n",
       "    </tr>\n",
       "  </tbody>\n",
       "</table>\n",
       "</div>"
      ],
      "text/plain": [
       "               sample                         annotation\n",
       "19898        сельедка                   [(0, 8, B-TYPE)]\n",
       "10623           крема                   [(0, 5, B-TYPE)]\n",
       "10765        круасани                   [(0, 8, B-TYPE)]\n",
       "11516        ливерные                   [(0, 8, B-TYPE)]\n",
       "18183  пюре фруктовые  [(0, 4, B-TYPE), (5, 14, I-TYPE)]"
      ]
     },
     "execution_count": 180,
     "metadata": {},
     "output_type": "execute_result"
    }
   ],
   "source": [
    "df_x5.sample(5)"
   ]
  },
  {
   "cell_type": "code",
   "execution_count": 181,
   "id": "bb33251a",
   "metadata": {},
   "outputs": [],
   "source": [
    "df_submission = pd.read_csv(DATA_PATH_DATASET / \"submission.csv\", sep=\";\")\n",
    "df_submission[\"annotation\"] = df_submission[\"annotation\"].apply(normalize_annotations)"
   ]
  },
  {
   "cell_type": "code",
   "execution_count": 182,
   "id": "52c18957",
   "metadata": {},
   "outputs": [],
   "source": [
    "import pandas as pd\n",
    "from pathlib import Path\n",
    "import ast\n",
    "\n",
    "def load_synthetic_file(file_path: str | Path) -> pd.DataFrame:\n",
    "    file_path = Path(file_path)\n",
    "    data = []\n",
    "\n",
    "    with open(file_path, \"r\", encoding=\"utf-8\") as f:\n",
    "        for line in f:\n",
    "            line = line.strip()\n",
    "            if not line:\n",
    "                continue\n",
    "\n",
    "            try:\n",
    "                text, ann_str = line.split(\";\", 1)\n",
    "                text = text.strip()\n",
    "                annotation = ast.literal_eval(ann_str.strip())\n",
    "                data.append({\"sample\": text, \"annotation\": annotation})\n",
    "            except Exception as e:\n",
    "                print(f\"Ошибка при обработке строки в {file_path}: {line}\\n{e}\")\n",
    "\n",
    "    return pd.DataFrame(data)\n"
   ]
  },
  {
   "cell_type": "code",
   "execution_count": 183,
   "id": "71e4679c",
   "metadata": {},
   "outputs": [],
   "source": [
    "def load_synthetic_dataset(data_dir: str | Path) -> pd.DataFrame:\n",
    "    data_dir = Path(data_dir)\n",
    "    all_dfs = []\n",
    "\n",
    "    for file_path in data_dir.glob(\"*.txt\"):\n",
    "        df_file = load_synthetic_file(file_path)\n",
    "        all_dfs.append(df_file)\n",
    "\n",
    "    if all_dfs:\n",
    "        return pd.concat(all_dfs).reset_index(drop=True)\n",
    "    else:\n",
    "        return pd.DataFrame(columns=[\"sample\", \"annotation\"])\n"
   ]
  },
  {
   "cell_type": "code",
   "execution_count": 184,
   "id": "c6838138",
   "metadata": {},
   "outputs": [],
   "source": [
    "df_synthetic = load_synthetic_dataset(DATA_SYNTHETICS)"
   ]
  },
  {
   "cell_type": "code",
   "execution_count": 185,
   "id": "ce666f8a",
   "metadata": {},
   "outputs": [],
   "source": [
    "df_x5[\"df_label\"] = \"x5\"\n",
    "df_synthetic[\"df_label\"] = \"synthetic\"\n",
    "\n",
    "dfs = []\n",
    "dfs.append(df_x5)\n",
    "dfs.append(df_synthetic)"
   ]
  },
  {
   "cell_type": "code",
   "execution_count": 186,
   "id": "bcba52db",
   "metadata": {},
   "outputs": [
    {
     "name": "stdout",
     "output_type": "stream",
     "text": [
      "Размеры датафреймов. df_x5: (27251, 3) , df_synthetic: (4204, 3)\n"
     ]
    }
   ],
   "source": [
    "print(\"Размеры датафреймов. df_x5:\", df_x5.shape, \", df_synthetic:\", df_synthetic.shape)"
   ]
  },
  {
   "cell_type": "code",
   "execution_count": 187,
   "id": "0fe5c506",
   "metadata": {},
   "outputs": [],
   "source": [
    "df_train = pd.concat(dfs, ignore_index=True)\n",
    "# df_train = df_train.drop_duplicates(subset=[\"sample\"]).reset_index(drop=True)"
   ]
  },
  {
   "cell_type": "code",
   "execution_count": 188,
   "id": "b11f7180",
   "metadata": {},
   "outputs": [
    {
     "data": {
      "text/html": [
       "<div>\n",
       "<style scoped>\n",
       "    .dataframe tbody tr th:only-of-type {\n",
       "        vertical-align: middle;\n",
       "    }\n",
       "\n",
       "    .dataframe tbody tr th {\n",
       "        vertical-align: top;\n",
       "    }\n",
       "\n",
       "    .dataframe thead th {\n",
       "        text-align: right;\n",
       "    }\n",
       "</style>\n",
       "<table border=\"1\" class=\"dataframe\">\n",
       "  <thead>\n",
       "    <tr style=\"text-align: right;\">\n",
       "      <th></th>\n",
       "      <th>sample</th>\n",
       "      <th>annotation</th>\n",
       "      <th>df_label</th>\n",
       "    </tr>\n",
       "  </thead>\n",
       "  <tbody>\n",
       "    <tr>\n",
       "      <th>2729</th>\n",
       "      <td>паста с соусм</td>\n",
       "      <td>[(0, 5, B-TYPE), (6, 7, I-TYPE), (8, 13, I-TYPE)]</td>\n",
       "      <td>synthetic</td>\n",
       "    </tr>\n",
       "    <tr>\n",
       "      <th>3265</th>\n",
       "      <td>йогурт стакан музыка играла тихо за окном у соседей</td>\n",
       "      <td>[(0, 6, B-TYPE), (7, 13, E-TYPE), (14, 20, O), (21, 27, O), (28, 32, O), (33, 35, O), (36, 41, O), (42, 43, O), (44, 51, O), (52, 60, O)]</td>\n",
       "      <td>synthetic</td>\n",
       "    </tr>\n",
       "    <tr>\n",
       "      <th>3920</th>\n",
       "      <td>лимонад тархунчик ситро</td>\n",
       "      <td>[(0, 7, B-TYPE), (8, 17, B-TYPE), (18, 23, B-TYPE)]</td>\n",
       "      <td>synthetic</td>\n",
       "    </tr>\n",
       "    <tr>\n",
       "      <th>2499</th>\n",
       "      <td>кухонные-комбайны</td>\n",
       "      <td>[(0, 8, B-TYPE), (9, 16, I-TYPE)]</td>\n",
       "      <td>synthetic</td>\n",
       "    </tr>\n",
       "    <tr>\n",
       "      <th>1660</th>\n",
       "      <td>ноутбук игровй асус</td>\n",
       "      <td>[(0, 7, B-TYPE), (8, 15, I-TYPE), (16, 20, I-TYPE)]</td>\n",
       "      <td>synthetic</td>\n",
       "    </tr>\n",
       "  </tbody>\n",
       "</table>\n",
       "</div>"
      ],
      "text/plain": [
       "                                                   sample  \\\n",
       "2729                                        паста с соусм   \n",
       "3265  йогурт стакан музыка играла тихо за окном у соседей   \n",
       "3920                              лимонад тархунчик ситро   \n",
       "2499                                    кухонные-комбайны   \n",
       "1660                                  ноутбук игровй асус   \n",
       "\n",
       "                                                                                                                                     annotation  \\\n",
       "2729                                                                                          [(0, 5, B-TYPE), (6, 7, I-TYPE), (8, 13, I-TYPE)]   \n",
       "3265  [(0, 6, B-TYPE), (7, 13, E-TYPE), (14, 20, O), (21, 27, O), (28, 32, O), (33, 35, O), (36, 41, O), (42, 43, O), (44, 51, O), (52, 60, O)]   \n",
       "3920                                                                                        [(0, 7, B-TYPE), (8, 17, B-TYPE), (18, 23, B-TYPE)]   \n",
       "2499                                                                                                          [(0, 8, B-TYPE), (9, 16, I-TYPE)]   \n",
       "1660                                                                                        [(0, 7, B-TYPE), (8, 15, I-TYPE), (16, 20, I-TYPE)]   \n",
       "\n",
       "       df_label  \n",
       "2729  synthetic  \n",
       "3265  synthetic  \n",
       "3920  synthetic  \n",
       "2499  synthetic  \n",
       "1660  synthetic  "
      ]
     },
     "execution_count": 188,
     "metadata": {},
     "output_type": "execute_result"
    }
   ],
   "source": [
    "df_synthetic.sample(5)"
   ]
  },
  {
   "cell_type": "markdown",
   "id": "362e3993",
   "metadata": {},
   "source": [
    "# Словари"
   ]
  },
  {
   "cell_type": "code",
   "execution_count": 189,
   "id": "97c21ffd",
   "metadata": {},
   "outputs": [
    {
     "name": "stdout",
     "output_type": "stream",
     "text": [
      "label2idx: {'O': 0, 'B-BRAND': 1, 'I-BRAND': 2, 'B-PERCENT': 3, 'I-PERCENT': 4, 'B-TYPE': 5, 'I-TYPE': 6, 'B-VOLUME': 7, 'I-VOLUME': 8}\n",
      "idx2label: {0: 'O', 1: 'B-BRAND', 2: 'I-BRAND', 3: 'B-PERCENT', 4: 'I-PERCENT', 5: 'B-TYPE', 6: 'I-TYPE', 7: 'B-VOLUME', 8: 'I-VOLUME'}\n"
     ]
    }
   ],
   "source": [
    "unique_labels = {label for anns in df_train[\"annotation\"] for _, _, label in anns if label != \"O\"}\n",
    "\n",
    "b_labels = sorted([lbl for lbl in unique_labels if lbl.startswith(\"B-\")])\n",
    "i_labels = {lbl[2:]: lbl for lbl in unique_labels if lbl.startswith(\"I-\")}\n",
    "\n",
    "all_labels = [\"O\"]\n",
    "for b in b_labels:\n",
    "    all_labels.append(b)\n",
    "    base = b[2:]\n",
    "    if base in i_labels:\n",
    "        all_labels.append(i_labels[base])\n",
    "\n",
    "label2idx = {label: idx for idx, label in enumerate(all_labels)}\n",
    "idx2label = {idx: label for label, idx in label2idx.items()}\n",
    "\n",
    "print(\"label2idx:\", label2idx)\n",
    "print(\"idx2label:\", idx2label)\n"
   ]
  },
  {
   "cell_type": "code",
   "execution_count": 190,
   "id": "d4c72237",
   "metadata": {},
   "outputs": [
    {
     "name": "stdout",
     "output_type": "stream",
     "text": [
      "Словарь label2idx сохранён в ..\\..\\..\\data\\models\\label2idx.json\n",
      "Словарь idx2label сохранён в ..\\..\\..\\data\\models\\idx2label.json\n"
     ]
    }
   ],
   "source": [
    "import json\n",
    "\n",
    "label2idx_path = DATA_PATH_SAVE_MODELS / \"label2idx.json\"\n",
    "idx2label_path = DATA_PATH_SAVE_MODELS / \"idx2label.json\"\n",
    "\n",
    "with open(label2idx_path, \"w\", encoding=\"utf-8\") as f:\n",
    "    json.dump(label2idx, f, ensure_ascii=False, indent=4)\n",
    "\n",
    "with open(idx2label_path, \"w\", encoding=\"utf-8\") as f:\n",
    "    json.dump(idx2label, f, ensure_ascii=False, indent=4)\n",
    "\n",
    "print(f\"Словарь label2idx сохранён в {label2idx_path}\")\n",
    "print(f\"Словарь idx2label сохранён в {idx2label_path}\")"
   ]
  },
  {
   "cell_type": "markdown",
   "id": "d56d0c1a",
   "metadata": {},
   "source": [
    "# Датасет"
   ]
  },
  {
   "cell_type": "code",
   "execution_count": 191,
   "id": "3dc707e6",
   "metadata": {},
   "outputs": [],
   "source": [
    "import pandas as pd\n",
    "from sklearn.model_selection import train_test_split\n",
    "\n",
    "train_data: pd.DataFrame\n",
    "val_data: pd.DataFrame\n",
    "train_data, test_data = train_test_split(\n",
    "    df_train,\n",
    "    test_size=0.1,\n",
    "    shuffle=True,\n",
    "    random_state=42,\n",
    ")\n",
    "\n",
    "train_data, val_data = train_test_split(\n",
    "    train_data,\n",
    "    test_size=0.05,\n",
    "    shuffle=True,\n",
    "    random_state=42,\n",
    ")\n"
   ]
  },
  {
   "cell_type": "code",
   "execution_count": 192,
   "id": "0bd1735e",
   "metadata": {},
   "outputs": [
    {
     "data": {
      "text/html": [
       "<div>\n",
       "<style scoped>\n",
       "    .dataframe tbody tr th:only-of-type {\n",
       "        vertical-align: middle;\n",
       "    }\n",
       "\n",
       "    .dataframe tbody tr th {\n",
       "        vertical-align: top;\n",
       "    }\n",
       "\n",
       "    .dataframe thead th {\n",
       "        text-align: right;\n",
       "    }\n",
       "</style>\n",
       "<table border=\"1\" class=\"dataframe\">\n",
       "  <thead>\n",
       "    <tr style=\"text-align: right;\">\n",
       "      <th></th>\n",
       "      <th>sample</th>\n",
       "      <th>annotation</th>\n",
       "      <th>df_label</th>\n",
       "    </tr>\n",
       "  </thead>\n",
       "  <tbody>\n",
       "    <tr>\n",
       "      <th>23820</th>\n",
       "      <td>тройное</td>\n",
       "      <td>[(0, 7, B-TYPE)]</td>\n",
       "      <td>x5</td>\n",
       "    </tr>\n",
       "    <tr>\n",
       "      <th>23205</th>\n",
       "      <td>твороог</td>\n",
       "      <td>[(0, 7, B-TYPE)]</td>\n",
       "      <td>x5</td>\n",
       "    </tr>\n",
       "    <tr>\n",
       "      <th>20165</th>\n",
       "      <td>сирцыеды</td>\n",
       "      <td>[(0, 8, B-TYPE)]</td>\n",
       "      <td>x5</td>\n",
       "    </tr>\n",
       "    <tr>\n",
       "      <th>21094</th>\n",
       "      <td>соломка яшкино</td>\n",
       "      <td>[(0, 7, B-TYPE), (8, 14, B-BRAND)]</td>\n",
       "      <td>x5</td>\n",
       "    </tr>\n",
       "    <tr>\n",
       "      <th>26773</th>\n",
       "      <td>энергнти</td>\n",
       "      <td>[(0, 8, B-TYPE)]</td>\n",
       "      <td>x5</td>\n",
       "    </tr>\n",
       "    <tr>\n",
       "      <th>8099</th>\n",
       "      <td>кавказские травы</td>\n",
       "      <td>[(0, 10, B-TYPE), (11, 16, I-TYPE)]</td>\n",
       "      <td>x5</td>\n",
       "    </tr>\n",
       "    <tr>\n",
       "      <th>6767</th>\n",
       "      <td>дымка крекер</td>\n",
       "      <td>[(0, 5, B-BRAND), (6, 12, B-TYPE)]</td>\n",
       "      <td>x5</td>\n",
       "    </tr>\n",
       "    <tr>\n",
       "      <th>2173</th>\n",
       "      <td>tornado</td>\n",
       "      <td>[(0, 7, B-BRAND)]</td>\n",
       "      <td>x5</td>\n",
       "    </tr>\n",
       "    <tr>\n",
       "      <th>29028</th>\n",
       "      <td>батон белй нарезнй 400 гр</td>\n",
       "      <td>[(0, 5, B-TYPE), (6, 10, I-TYPE), (11, 19, I-TYPE), (20, 26, B-VOLUME)]</td>\n",
       "      <td>synthetic</td>\n",
       "    </tr>\n",
       "    <tr>\n",
       "      <th>20875</th>\n",
       "      <td>соивый</td>\n",
       "      <td>[(0, 6, B-TYPE)]</td>\n",
       "      <td>x5</td>\n",
       "    </tr>\n",
       "  </tbody>\n",
       "</table>\n",
       "</div>"
      ],
      "text/plain": [
       "                          sample  \\\n",
       "23820                    тройное   \n",
       "23205                    твороог   \n",
       "20165                   сирцыеды   \n",
       "21094             соломка яшкино   \n",
       "26773                   энергнти   \n",
       "8099            кавказские травы   \n",
       "6767                дымка крекер   \n",
       "2173                     tornado   \n",
       "29028  батон белй нарезнй 400 гр   \n",
       "20875                     соивый   \n",
       "\n",
       "                                                                    annotation  \\\n",
       "23820                                                         [(0, 7, B-TYPE)]   \n",
       "23205                                                         [(0, 7, B-TYPE)]   \n",
       "20165                                                         [(0, 8, B-TYPE)]   \n",
       "21094                                       [(0, 7, B-TYPE), (8, 14, B-BRAND)]   \n",
       "26773                                                         [(0, 8, B-TYPE)]   \n",
       "8099                                       [(0, 10, B-TYPE), (11, 16, I-TYPE)]   \n",
       "6767                                        [(0, 5, B-BRAND), (6, 12, B-TYPE)]   \n",
       "2173                                                         [(0, 7, B-BRAND)]   \n",
       "29028  [(0, 5, B-TYPE), (6, 10, I-TYPE), (11, 19, I-TYPE), (20, 26, B-VOLUME)]   \n",
       "20875                                                         [(0, 6, B-TYPE)]   \n",
       "\n",
       "        df_label  \n",
       "23820         x5  \n",
       "23205         x5  \n",
       "20165         x5  \n",
       "21094         x5  \n",
       "26773         x5  \n",
       "8099          x5  \n",
       "6767          x5  \n",
       "2173          x5  \n",
       "29028  synthetic  \n",
       "20875         x5  "
      ]
     },
     "execution_count": 192,
     "metadata": {},
     "output_type": "execute_result"
    }
   ],
   "source": [
    "train_data.sample(10)"
   ]
  },
  {
   "cell_type": "code",
   "execution_count": 193,
   "id": "b2696211",
   "metadata": {},
   "outputs": [
    {
     "data": {
      "text/html": [
       "<div>\n",
       "<style scoped>\n",
       "    .dataframe tbody tr th:only-of-type {\n",
       "        vertical-align: middle;\n",
       "    }\n",
       "\n",
       "    .dataframe tbody tr th {\n",
       "        vertical-align: top;\n",
       "    }\n",
       "\n",
       "    .dataframe thead th {\n",
       "        text-align: right;\n",
       "    }\n",
       "</style>\n",
       "<table border=\"1\" class=\"dataframe\">\n",
       "  <thead>\n",
       "    <tr style=\"text-align: right;\">\n",
       "      <th></th>\n",
       "      <th>sample</th>\n",
       "      <th>annotation</th>\n",
       "    </tr>\n",
       "  </thead>\n",
       "  <tbody>\n",
       "    <tr>\n",
       "      <th>0</th>\n",
       "      <td>форма для выпечки</td>\n",
       "      <td>[(0, 5, B-TYPE), (6, 9, I-TYPE), (10, 17, I-TYPE)]</td>\n",
       "    </tr>\n",
       "    <tr>\n",
       "      <th>1</th>\n",
       "      <td>фарш свиной</td>\n",
       "      <td>[(0, 4, B-TYPE), (5, 11, I-TYPE)]</td>\n",
       "    </tr>\n",
       "    <tr>\n",
       "      <th>2</th>\n",
       "      <td>сок ананасовый без сахара</td>\n",
       "      <td>[(0, 3, B-TYPE), (4, 14, I-TYPE), (15, 18, I-TYPE), (19, 25, I-TYPE)]</td>\n",
       "    </tr>\n",
       "    <tr>\n",
       "      <th>3</th>\n",
       "      <td>еринги</td>\n",
       "      <td>[(0, 6, B-TYPE)]</td>\n",
       "    </tr>\n",
       "    <tr>\n",
       "      <th>4</th>\n",
       "      <td>молооко</td>\n",
       "      <td>[(0, 7, B-TYPE)]</td>\n",
       "    </tr>\n",
       "  </tbody>\n",
       "</table>\n",
       "</div>"
      ],
      "text/plain": [
       "                      sample  \\\n",
       "0          форма для выпечки   \n",
       "1                фарш свиной   \n",
       "2  сок ананасовый без сахара   \n",
       "3                     еринги   \n",
       "4                    молооко   \n",
       "\n",
       "                                                              annotation  \n",
       "0                     [(0, 5, B-TYPE), (6, 9, I-TYPE), (10, 17, I-TYPE)]  \n",
       "1                                      [(0, 4, B-TYPE), (5, 11, I-TYPE)]  \n",
       "2  [(0, 3, B-TYPE), (4, 14, I-TYPE), (15, 18, I-TYPE), (19, 25, I-TYPE)]  \n",
       "3                                                       [(0, 6, B-TYPE)]  \n",
       "4                                                       [(0, 7, B-TYPE)]  "
      ]
     },
     "execution_count": 193,
     "metadata": {},
     "output_type": "execute_result"
    }
   ],
   "source": [
    "df_submission.head()"
   ]
  },
  {
   "cell_type": "code",
   "execution_count": 194,
   "id": "b253a6a4",
   "metadata": {},
   "outputs": [
    {
     "name": "stderr",
     "output_type": "stream",
     "text": [
      "Tokenizing data: 100%|██████████████████████████████████████| 26893/26893 [00:06<00:00, 3925.82it/s]\n",
      "Tokenizing data: 100%|████████████████████████████████████████| 1416/1416 [00:00<00:00, 4578.80it/s]\n",
      "Tokenizing data: 100%|████████████████████████████████████████| 3146/3146 [00:00<00:00, 4274.88it/s]\n"
     ]
    }
   ],
   "source": [
    "from ml.dataset import NerDataSet\n",
    "\n",
    "dtype_input = torch.long\n",
    "dtype_labels = torch.long\n",
    "\n",
    "train_dataset = NerDataSet(\n",
    "    df=train_data, \n",
    "    max_length=MAX_LENGTH, \n",
    "    tokenizer_path=BASE_MODEL_NAME,\n",
    "    cache_dir=DATA_CACHE,\n",
    "    label2idx=label2idx,\n",
    "    text_label='sample',\n",
    "    target_label='annotation',\n",
    "    dtype_input_ids=dtype_input,\n",
    "    dtype_token_type_ids=dtype_input,\n",
    "    dtype_attention_mask=dtype_input,\n",
    "    dtype_labels=dtype_labels,\n",
    "    debug=True    \n",
    ")\n",
    "\n",
    "val_dataset = NerDataSet(\n",
    "    df=val_data,\n",
    "    max_length=MAX_LENGTH, \n",
    "    tokenizer_path=BASE_MODEL_NAME,\n",
    "    cache_dir=DATA_CACHE,\n",
    "    label2idx=label2idx,\n",
    "    text_label='sample',\n",
    "    target_label='annotation',\n",
    "    dtype_input_ids=dtype_input,\n",
    "    dtype_token_type_ids=dtype_input,\n",
    "    dtype_attention_mask=dtype_input,\n",
    "    dtype_labels=dtype_labels,\n",
    "    debug=True\n",
    ")\n",
    "\n",
    "test_dataset = NerDataSet(\n",
    "    df=test_data, \n",
    "    max_length=MAX_LENGTH, \n",
    "    tokenizer_path=BASE_MODEL_NAME,\n",
    "    cache_dir=DATA_CACHE,\n",
    "    label2idx=label2idx,\n",
    "    text_label='sample',\n",
    "    target_label='annotation',\n",
    "    dtype_input_ids=dtype_input,\n",
    "    dtype_token_type_ids=dtype_input,\n",
    "    dtype_attention_mask=dtype_input,\n",
    "    dtype_labels=dtype_labels,\n",
    "    debug=True\n",
    ")\n"
   ]
  },
  {
   "cell_type": "code",
   "execution_count": 195,
   "id": "f4924c55",
   "metadata": {},
   "outputs": [
    {
     "name": "stdout",
     "output_type": "stream",
     "text": [
      "O               : 55453\n",
      "B-BRAND         : 8026\n",
      "I-BRAND         : 11667\n",
      "B-PERCENT       : 162\n",
      "I-PERCENT       : 178\n",
      "B-TYPE          : 25159\n",
      "I-TYPE          : 49608\n",
      "B-VOLUME        : 788\n",
      "I-VOLUME        : 738\n"
     ]
    }
   ],
   "source": [
    "import torch\n",
    "from collections import Counter\n",
    "import numpy as np\n",
    "\n",
    "def count_labels(dataset, idx2label):\n",
    "    all_labels = []\n",
    "    for labels in dataset.labels.tolist():\n",
    "        for l in labels:\n",
    "            if l != -100:\n",
    "                all_labels.append(l)\n",
    "    counts = Counter(all_labels)\n",
    "\n",
    "    label_counts = {idx2label[i]: counts.get(i, 0) for i in range(len(idx2label))}\n",
    "    return label_counts\n",
    "\n",
    "label_counts = count_labels(train_dataset, idx2label)\n",
    "for label, cnt in label_counts.items():\n",
    "    print(f\"{label:15s} : {cnt}\")\n"
   ]
  },
  {
   "cell_type": "code",
   "execution_count": 196,
   "id": "b39f90ab",
   "metadata": {},
   "outputs": [
    {
     "data": {
      "text/plain": [
       "{'input_ids': tensor([    2, 83595,  2702,     3,     0,     0,     0,     0,     0,     0,\n",
       "             0,     0,     0,     0,     0,     0]),\n",
       " 'attention_mask': tensor([1, 1, 1, 1, 0, 0, 0, 0, 0, 0, 0, 0, 0, 0, 0, 0]),\n",
       " 'token_type_ids': tensor([0, 0, 0, 0, 0, 0, 0, 0, 0, 0, 0, 0, 0, 0, 0, 0]),\n",
       " 'labels': tensor([   0,    5,    6,    0, -100, -100, -100, -100, -100, -100, -100, -100,\n",
       "         -100, -100, -100, -100])}"
      ]
     },
     "execution_count": 196,
     "metadata": {},
     "output_type": "execute_result"
    }
   ],
   "source": [
    "train_dataset[0]"
   ]
  },
  {
   "cell_type": "code",
   "execution_count": 197,
   "id": "0f0ff487",
   "metadata": {},
   "outputs": [
    {
     "data": {
      "text/html": [
       "<div>\n",
       "<style scoped>\n",
       "    .dataframe tbody tr th:only-of-type {\n",
       "        vertical-align: middle;\n",
       "    }\n",
       "\n",
       "    .dataframe tbody tr th {\n",
       "        vertical-align: top;\n",
       "    }\n",
       "\n",
       "    .dataframe thead th {\n",
       "        text-align: right;\n",
       "    }\n",
       "</style>\n",
       "<table border=\"1\" class=\"dataframe\">\n",
       "  <thead>\n",
       "    <tr style=\"text-align: right;\">\n",
       "      <th></th>\n",
       "      <th>sample</th>\n",
       "      <th>annotation</th>\n",
       "      <th>df_label</th>\n",
       "      <th>tokens_ids_debug</th>\n",
       "      <th>tokens_text_debug</th>\n",
       "      <th>labels_debug</th>\n",
       "    </tr>\n",
       "  </thead>\n",
       "  <tbody>\n",
       "    <tr>\n",
       "      <th>18266</th>\n",
       "      <td>сыр костромской традиционный 50% 200 г</td>\n",
       "      <td>[(0, 13, B-TYPE), (14, 27, B-BRAND), (28, 32, B-PERCENT), (33, 38, B-VOLUME)]</td>\n",
       "      <td>synthetic</td>\n",
       "      <td>[2, 30691, 39424, 6253, 1251, 48931, 833, 9, 1040, 315, 3, 0, 0, 0, 0, 0]</td>\n",
       "      <td>[[CLS], сыр, кост, ##ром, ##ской, традиционный, 50, %, 200, г, [SEP], [PAD], [PAD], [PAD], [PAD], [PAD]]</td>\n",
       "      <td>[O, B-TYPE, I-TYPE, I-TYPE, B-BRAND, I-BRAND, B-PERCENT, I-PERCENT, B-VOLUME, I-VOLUME, O, O, O, O, O, O]</td>\n",
       "    </tr>\n",
       "    <tr>\n",
       "      <th>26549</th>\n",
       "      <td>яйц0</td>\n",
       "      <td>[(0, 4, B-TYPE)]</td>\n",
       "      <td>x5</td>\n",
       "      <td>[2, 41220, 1941, 1140, 3, 0, 0, 0, 0, 0, 0, 0, 0, 0, 0, 0]</td>\n",
       "      <td>[[CLS], яй, ##ц, ##0, [SEP], [PAD], [PAD], [PAD], [PAD], [PAD], [PAD], [PAD], [PAD], [PAD], [PAD], [PAD]]</td>\n",
       "      <td>[O, B-TYPE, I-TYPE, I-TYPE, O, O, O, O, O, O, O, O, O, O, O, O]</td>\n",
       "    </tr>\n",
       "    <tr>\n",
       "      <th>16108</th>\n",
       "      <td>пятновыводители bagi</td>\n",
       "      <td>[(0, 15, B-TYPE), (16, 20, B-BRAND)]</td>\n",
       "      <td>x5</td>\n",
       "      <td>[2, 48473, 4960, 20806, 5041, 17482, 542, 3, 0, 0, 0, 0, 0, 0, 0, 0]</td>\n",
       "      <td>[[CLS], пятно, ##вы, ##водит, ##ели, bag, ##i, [SEP], [PAD], [PAD], [PAD], [PAD], [PAD], [PAD], [PAD], [PAD]]</td>\n",
       "      <td>[O, B-TYPE, I-TYPE, I-TYPE, I-TYPE, B-BRAND, I-BRAND, O, O, O, O, O, O, O, O, O]</td>\n",
       "    </tr>\n",
       "    <tr>\n",
       "      <th>5757</th>\n",
       "      <td>семеначиа</td>\n",
       "      <td>[(0, 9, B-TYPE)]</td>\n",
       "      <td>x5</td>\n",
       "      <td>[2, 41337, 3030, 603, 3, 0, 0, 0, 0, 0, 0, 0, 0, 0, 0, 0]</td>\n",
       "      <td>[[CLS], семена, ##чи, ##а, [SEP], [PAD], [PAD], [PAD], [PAD], [PAD], [PAD], [PAD], [PAD], [PAD], [PAD], [PAD]]</td>\n",
       "      <td>[O, B-TYPE, I-TYPE, I-TYPE, O, O, O, O, O, O, O, O, O, O, O, O]</td>\n",
       "    </tr>\n",
       "    <tr>\n",
       "      <th>10956</th>\n",
       "      <td>погурцы</td>\n",
       "      <td>[(0, 7, B-TYPE)]</td>\n",
       "      <td>x5</td>\n",
       "      <td>[2, 44533, 46985, 3, 0, 0, 0, 0, 0, 0, 0, 0, 0, 0, 0, 0]</td>\n",
       "      <td>[[CLS], погу, ##рцы, [SEP], [PAD], [PAD], [PAD], [PAD], [PAD], [PAD], [PAD], [PAD], [PAD], [PAD], [PAD], [PAD]]</td>\n",
       "      <td>[O, B-TYPE, I-TYPE, O, O, O, O, O, O, O, O, O, O, O, O, O]</td>\n",
       "    </tr>\n",
       "    <tr>\n",
       "      <th>15560</th>\n",
       "      <td>средсв</td>\n",
       "      <td>[(0, 6, B-TYPE)]</td>\n",
       "      <td>x5</td>\n",
       "      <td>[2, 14276, 866, 887, 3, 0, 0, 0, 0, 0, 0, 0, 0, 0, 0, 0]</td>\n",
       "      <td>[[CLS], сред, ##с, ##в, [SEP], [PAD], [PAD], [PAD], [PAD], [PAD], [PAD], [PAD], [PAD], [PAD], [PAD], [PAD]]</td>\n",
       "      <td>[O, B-TYPE, I-TYPE, I-TYPE, O, O, O, O, O, O, O, O, O, O, O, O]</td>\n",
       "    </tr>\n",
       "    <tr>\n",
       "      <th>18624</th>\n",
       "      <td>панировачные</td>\n",
       "      <td>[(0, 12, B-TYPE)]</td>\n",
       "      <td>x5</td>\n",
       "      <td>[2, 82180, 32140, 15169, 1308, 3, 0, 0, 0, 0, 0, 0, 0, 0, 0, 0]</td>\n",
       "      <td>[[CLS], пан, ##иров, ##ач, ##ные, [SEP], [PAD], [PAD], [PAD], [PAD], [PAD], [PAD], [PAD], [PAD], [PAD], [PAD]]</td>\n",
       "      <td>[O, B-TYPE, I-TYPE, I-TYPE, I-TYPE, O, O, O, O, O, O, O, O, O, O, O]</td>\n",
       "    </tr>\n",
       "    <tr>\n",
       "      <th>20683</th>\n",
       "      <td>смеикна</td>\n",
       "      <td>[(0, 7, B-TYPE)]</td>\n",
       "      <td>x5</td>\n",
       "      <td>[2, 38064, 3126, 794, 3, 0, 0, 0, 0, 0, 0, 0, 0, 0, 0, 0]</td>\n",
       "      <td>[[CLS], сме, ##ик, ##на, [SEP], [PAD], [PAD], [PAD], [PAD], [PAD], [PAD], [PAD], [PAD], [PAD], [PAD], [PAD]]</td>\n",
       "      <td>[O, B-TYPE, I-TYPE, I-TYPE, O, O, O, O, O, O, O, O, O, O, O, O]</td>\n",
       "    </tr>\n",
       "    <tr>\n",
       "      <th>13924</th>\n",
       "      <td>лимонад.</td>\n",
       "      <td>[(0, 8, B-TYPE)]</td>\n",
       "      <td>x5</td>\n",
       "      <td>[2, 83652, 1023, 18, 3, 0, 0, 0, 0, 0, 0, 0, 0, 0, 0, 0]</td>\n",
       "      <td>[[CLS], лимона, ##д, ., [SEP], [PAD], [PAD], [PAD], [PAD], [PAD], [PAD], [PAD], [PAD], [PAD], [PAD], [PAD]]</td>\n",
       "      <td>[O, B-TYPE, I-TYPE, I-TYPE, O, O, O, O, O, O, O, O, O, O, O, O]</td>\n",
       "    </tr>\n",
       "    <tr>\n",
       "      <th>337</th>\n",
       "      <td>капуста кислая</td>\n",
       "      <td>[(0, 7, B-TYPE), (8, 14, I-TYPE)]</td>\n",
       "      <td>x5</td>\n",
       "      <td>[2, 81494, 3283, 12217, 776, 3, 0, 0, 0, 0, 0, 0, 0, 0, 0, 0]</td>\n",
       "      <td>[[CLS], капуста, ки, ##сла, ##я, [SEP], [PAD], [PAD], [PAD], [PAD], [PAD], [PAD], [PAD], [PAD], [PAD], [PAD]]</td>\n",
       "      <td>[O, B-TYPE, I-TYPE, I-TYPE, I-TYPE, O, O, O, O, O, O, O, O, O, O, O]</td>\n",
       "    </tr>\n",
       "  </tbody>\n",
       "</table>\n",
       "</div>"
      ],
      "text/plain": [
       "                                       sample  \\\n",
       "18266  сыр костромской традиционный 50% 200 г   \n",
       "26549                                    яйц0   \n",
       "16108                    пятновыводители bagi   \n",
       "5757                                семеначиа   \n",
       "10956                                 погурцы   \n",
       "15560                                  средсв   \n",
       "18624                            панировачные   \n",
       "20683                                 смеикна   \n",
       "13924                                лимонад.   \n",
       "337                            капуста кислая   \n",
       "\n",
       "                                                                          annotation  \\\n",
       "18266  [(0, 13, B-TYPE), (14, 27, B-BRAND), (28, 32, B-PERCENT), (33, 38, B-VOLUME)]   \n",
       "26549                                                               [(0, 4, B-TYPE)]   \n",
       "16108                                           [(0, 15, B-TYPE), (16, 20, B-BRAND)]   \n",
       "5757                                                                [(0, 9, B-TYPE)]   \n",
       "10956                                                               [(0, 7, B-TYPE)]   \n",
       "15560                                                               [(0, 6, B-TYPE)]   \n",
       "18624                                                              [(0, 12, B-TYPE)]   \n",
       "20683                                                               [(0, 7, B-TYPE)]   \n",
       "13924                                                               [(0, 8, B-TYPE)]   \n",
       "337                                                [(0, 7, B-TYPE), (8, 14, I-TYPE)]   \n",
       "\n",
       "        df_label  \\\n",
       "18266  synthetic   \n",
       "26549         x5   \n",
       "16108         x5   \n",
       "5757          x5   \n",
       "10956         x5   \n",
       "15560         x5   \n",
       "18624         x5   \n",
       "20683         x5   \n",
       "13924         x5   \n",
       "337           x5   \n",
       "\n",
       "                                                                tokens_ids_debug  \\\n",
       "18266  [2, 30691, 39424, 6253, 1251, 48931, 833, 9, 1040, 315, 3, 0, 0, 0, 0, 0]   \n",
       "26549                 [2, 41220, 1941, 1140, 3, 0, 0, 0, 0, 0, 0, 0, 0, 0, 0, 0]   \n",
       "16108       [2, 48473, 4960, 20806, 5041, 17482, 542, 3, 0, 0, 0, 0, 0, 0, 0, 0]   \n",
       "5757                   [2, 41337, 3030, 603, 3, 0, 0, 0, 0, 0, 0, 0, 0, 0, 0, 0]   \n",
       "10956                   [2, 44533, 46985, 3, 0, 0, 0, 0, 0, 0, 0, 0, 0, 0, 0, 0]   \n",
       "15560                   [2, 14276, 866, 887, 3, 0, 0, 0, 0, 0, 0, 0, 0, 0, 0, 0]   \n",
       "18624            [2, 82180, 32140, 15169, 1308, 3, 0, 0, 0, 0, 0, 0, 0, 0, 0, 0]   \n",
       "20683                  [2, 38064, 3126, 794, 3, 0, 0, 0, 0, 0, 0, 0, 0, 0, 0, 0]   \n",
       "13924                   [2, 83652, 1023, 18, 3, 0, 0, 0, 0, 0, 0, 0, 0, 0, 0, 0]   \n",
       "337                [2, 81494, 3283, 12217, 776, 3, 0, 0, 0, 0, 0, 0, 0, 0, 0, 0]   \n",
       "\n",
       "                                                                                                     tokens_text_debug  \\\n",
       "18266         [[CLS], сыр, кост, ##ром, ##ской, традиционный, 50, %, 200, г, [SEP], [PAD], [PAD], [PAD], [PAD], [PAD]]   \n",
       "26549        [[CLS], яй, ##ц, ##0, [SEP], [PAD], [PAD], [PAD], [PAD], [PAD], [PAD], [PAD], [PAD], [PAD], [PAD], [PAD]]   \n",
       "16108    [[CLS], пятно, ##вы, ##водит, ##ели, bag, ##i, [SEP], [PAD], [PAD], [PAD], [PAD], [PAD], [PAD], [PAD], [PAD]]   \n",
       "5757    [[CLS], семена, ##чи, ##а, [SEP], [PAD], [PAD], [PAD], [PAD], [PAD], [PAD], [PAD], [PAD], [PAD], [PAD], [PAD]]   \n",
       "10956  [[CLS], погу, ##рцы, [SEP], [PAD], [PAD], [PAD], [PAD], [PAD], [PAD], [PAD], [PAD], [PAD], [PAD], [PAD], [PAD]]   \n",
       "15560      [[CLS], сред, ##с, ##в, [SEP], [PAD], [PAD], [PAD], [PAD], [PAD], [PAD], [PAD], [PAD], [PAD], [PAD], [PAD]]   \n",
       "18624   [[CLS], пан, ##иров, ##ач, ##ные, [SEP], [PAD], [PAD], [PAD], [PAD], [PAD], [PAD], [PAD], [PAD], [PAD], [PAD]]   \n",
       "20683     [[CLS], сме, ##ик, ##на, [SEP], [PAD], [PAD], [PAD], [PAD], [PAD], [PAD], [PAD], [PAD], [PAD], [PAD], [PAD]]   \n",
       "13924      [[CLS], лимона, ##д, ., [SEP], [PAD], [PAD], [PAD], [PAD], [PAD], [PAD], [PAD], [PAD], [PAD], [PAD], [PAD]]   \n",
       "337      [[CLS], капуста, ки, ##сла, ##я, [SEP], [PAD], [PAD], [PAD], [PAD], [PAD], [PAD], [PAD], [PAD], [PAD], [PAD]]   \n",
       "\n",
       "                                                                                                    labels_debug  \n",
       "18266  [O, B-TYPE, I-TYPE, I-TYPE, B-BRAND, I-BRAND, B-PERCENT, I-PERCENT, B-VOLUME, I-VOLUME, O, O, O, O, O, O]  \n",
       "26549                                            [O, B-TYPE, I-TYPE, I-TYPE, O, O, O, O, O, O, O, O, O, O, O, O]  \n",
       "16108                           [O, B-TYPE, I-TYPE, I-TYPE, I-TYPE, B-BRAND, I-BRAND, O, O, O, O, O, O, O, O, O]  \n",
       "5757                                             [O, B-TYPE, I-TYPE, I-TYPE, O, O, O, O, O, O, O, O, O, O, O, O]  \n",
       "10956                                                 [O, B-TYPE, I-TYPE, O, O, O, O, O, O, O, O, O, O, O, O, O]  \n",
       "15560                                            [O, B-TYPE, I-TYPE, I-TYPE, O, O, O, O, O, O, O, O, O, O, O, O]  \n",
       "18624                                       [O, B-TYPE, I-TYPE, I-TYPE, I-TYPE, O, O, O, O, O, O, O, O, O, O, O]  \n",
       "20683                                            [O, B-TYPE, I-TYPE, I-TYPE, O, O, O, O, O, O, O, O, O, O, O, O]  \n",
       "13924                                            [O, B-TYPE, I-TYPE, I-TYPE, O, O, O, O, O, O, O, O, O, O, O, O]  \n",
       "337                                         [O, B-TYPE, I-TYPE, I-TYPE, I-TYPE, O, O, O, O, O, O, O, O, O, O, O]  "
      ]
     },
     "execution_count": 197,
     "metadata": {},
     "output_type": "execute_result"
    }
   ],
   "source": [
    "train_dataset.df.sample(10)"
   ]
  },
  {
   "cell_type": "code",
   "execution_count": 198,
   "id": "af35ff9c",
   "metadata": {},
   "outputs": [],
   "source": [
    "# lolpop = train_dataset.df\n",
    "# lolpop[lolpop[\"df_label\"]==\"synthetic\"].sample(10)"
   ]
  },
  {
   "cell_type": "code",
   "execution_count": 199,
   "id": "12d39e8e",
   "metadata": {},
   "outputs": [
    {
     "data": {
      "image/png": "[encoded data removed]",
      "text/plain": [
       "<Figure size 1000x600 with 1 Axes>"
      ]
     },
     "metadata": {},
     "output_type": "display_data"
    }
   ],
   "source": [
    "train_dataset.plot_token_length_distribution()"
   ]
  },
  {
   "cell_type": "markdown",
   "id": "26f5b27d",
   "metadata": {},
   "source": [
    "# Модель"
   ]
  },
  {
   "cell_type": "code",
   "execution_count": 200,
   "id": "66d58953",
   "metadata": {},
   "outputs": [],
   "source": [
    "num_labels = len(label2idx)"
   ]
  },
  {
   "cell_type": "code",
   "execution_count": 201,
   "id": "fe9dc2de",
   "metadata": {},
   "outputs": [
    {
     "name": "stderr",
     "output_type": "stream",
     "text": [
      "Some weights of AutoModelForTokenClassificationWithCRF were not initialized from the model checkpoint at cointegrated/rubert-tiny2 and are newly initialized: ['backbone.embeddings.LayerNorm.bias', 'backbone.embeddings.LayerNorm.weight', 'backbone.embeddings.position_embeddings.weight', 'backbone.embeddings.token_type_embeddings.weight', 'backbone.embeddings.word_embeddings.weight', 'backbone.encoder.layer.0.attention.output.LayerNorm.bias', 'backbone.encoder.layer.0.attention.output.LayerNorm.weight', 'backbone.encoder.layer.0.attention.output.dense.bias', 'backbone.encoder.layer.0.attention.output.dense.weight', 'backbone.encoder.layer.0.attention.self.key.bias', 'backbone.encoder.layer.0.attention.self.key.weight', 'backbone.encoder.layer.0.attention.self.query.bias', 'backbone.encoder.layer.0.attention.self.query.weight', 'backbone.encoder.layer.0.attention.self.value.bias', 'backbone.encoder.layer.0.attention.self.value.weight', 'backbone.encoder.layer.0.intermediate.dense.bias', 'backbone.encoder.layer.0.intermediate.dense.weight', 'backbone.encoder.layer.0.output.LayerNorm.bias', 'backbone.encoder.layer.0.output.LayerNorm.weight', 'backbone.encoder.layer.0.output.dense.bias', 'backbone.encoder.layer.0.output.dense.weight', 'backbone.encoder.layer.1.attention.output.LayerNorm.bias', 'backbone.encoder.layer.1.attention.output.LayerNorm.weight', 'backbone.encoder.layer.1.attention.output.dense.bias', 'backbone.encoder.layer.1.attention.output.dense.weight', 'backbone.encoder.layer.1.attention.self.key.bias', 'backbone.encoder.layer.1.attention.self.key.weight', 'backbone.encoder.layer.1.attention.self.query.bias', 'backbone.encoder.layer.1.attention.self.query.weight', 'backbone.encoder.layer.1.attention.self.value.bias', 'backbone.encoder.layer.1.attention.self.value.weight', 'backbone.encoder.layer.1.intermediate.dense.bias', 'backbone.encoder.layer.1.intermediate.dense.weight', 'backbone.encoder.layer.1.output.LayerNorm.bias', 'backbone.encoder.layer.1.output.LayerNorm.weight', 'backbone.encoder.layer.1.output.dense.bias', 'backbone.encoder.layer.1.output.dense.weight', 'backbone.encoder.layer.2.attention.output.LayerNorm.bias', 'backbone.encoder.layer.2.attention.output.LayerNorm.weight', 'backbone.encoder.layer.2.attention.output.dense.bias', 'backbone.encoder.layer.2.attention.output.dense.weight', 'backbone.encoder.layer.2.attention.self.key.bias', 'backbone.encoder.layer.2.attention.self.key.weight', 'backbone.encoder.layer.2.attention.self.query.bias', 'backbone.encoder.layer.2.attention.self.query.weight', 'backbone.encoder.layer.2.attention.self.value.bias', 'backbone.encoder.layer.2.attention.self.value.weight', 'backbone.encoder.layer.2.intermediate.dense.bias', 'backbone.encoder.layer.2.intermediate.dense.weight', 'backbone.encoder.layer.2.output.LayerNorm.bias', 'backbone.encoder.layer.2.output.LayerNorm.weight', 'backbone.encoder.layer.2.output.dense.bias', 'backbone.encoder.layer.2.output.dense.weight', 'backbone.pooler.dense.bias', 'backbone.pooler.dense.weight', 'classifier.bias', 'classifier.weight', 'crf.end_transitions', 'crf.start_transitions', 'crf.transitions']\n",
      "You should probably TRAIN this model on a down-stream task to be able to use it for predictions and inference.\n"
     ]
    },
    {
     "data": {
      "text/plain": [
       "AutoModelForTokenClassificationWithCRF(\n",
       "  (backbone): BertModel(\n",
       "    (embeddings): BertEmbeddings(\n",
       "      (word_embeddings): Embedding(83828, 312, padding_idx=0)\n",
       "      (position_embeddings): Embedding(2048, 312)\n",
       "      (token_type_embeddings): Embedding(2, 312)\n",
       "      (LayerNorm): LayerNorm((312,), eps=1e-12, elementwise_affine=True)\n",
       "      (dropout): Dropout(p=0.1, inplace=False)\n",
       "    )\n",
       "    (encoder): BertEncoder(\n",
       "      (layer): ModuleList(\n",
       "        (0-2): 3 x BertLayer(\n",
       "          (attention): BertAttention(\n",
       "            (self): BertSelfAttention(\n",
       "              (query): Linear(in_features=312, out_features=312, bias=True)\n",
       "              (key): Linear(in_features=312, out_features=312, bias=True)\n",
       "              (value): Linear(in_features=312, out_features=312, bias=True)\n",
       "              (dropout): Dropout(p=0.1, inplace=False)\n",
       "            )\n",
       "            (output): BertSelfOutput(\n",
       "              (dense): Linear(in_features=312, out_features=312, bias=True)\n",
       "              (LayerNorm): LayerNorm((312,), eps=1e-12, elementwise_affine=True)\n",
       "              (dropout): Dropout(p=0.1, inplace=False)\n",
       "            )\n",
       "          )\n",
       "          (intermediate): BertIntermediate(\n",
       "            (dense): Linear(in_features=312, out_features=600, bias=True)\n",
       "            (intermediate_act_fn): GELUActivation()\n",
       "          )\n",
       "          (output): BertOutput(\n",
       "            (dense): Linear(in_features=600, out_features=312, bias=True)\n",
       "            (LayerNorm): LayerNorm((312,), eps=1e-12, elementwise_affine=True)\n",
       "            (dropout): Dropout(p=0.1, inplace=False)\n",
       "          )\n",
       "        )\n",
       "      )\n",
       "    )\n",
       "    (pooler): BertPooler(\n",
       "      (dense): Linear(in_features=312, out_features=312, bias=True)\n",
       "      (activation): Tanh()\n",
       "    )\n",
       "  )\n",
       "  (dropout): Dropout(p=0.1, inplace=False)\n",
       "  (classifier): Linear(in_features=312, out_features=9, bias=True)\n",
       "  (crf): CRF(num_tags=9)\n",
       ")"
      ]
     },
     "execution_count": 201,
     "metadata": {},
     "output_type": "execute_result"
    }
   ],
   "source": [
    "from transformers import AutoConfig\n",
    "from ml.model import AutoModelForTokenClassificationWithCRF, TokenClassifierCRFOutput\n",
    "\n",
    "config = AutoConfig.from_pretrained(\n",
    "    BASE_MODEL_NAME,\n",
    "    num_labels=num_labels,\n",
    "    id2label=idx2label,\n",
    "    label2id=label2idx,\n",
    "    cache_dir=DATA_CACHE,\n",
    ")\n",
    "\n",
    "model = AutoModelForTokenClassificationWithCRF.from_pretrained(\n",
    "    BASE_MODEL_NAME,\n",
    "    cache_dir=DATA_CACHE,\n",
    "    config=config,\n",
    "    ignore_mismatched_sizes=True,\n",
    ")\n",
    "\n",
    "model.reset_crf_parameters()\n",
    "# model.crf.init_bio_bias(label2idx, strength=0.7)\n",
    "model"
   ]
  },
  {
   "cell_type": "code",
   "execution_count": 202,
   "id": "94d0033c",
   "metadata": {},
   "outputs": [
    {
     "name": "stdout",
     "output_type": "stream",
     "text": [
      "CRF transitions nan? tensor(False)\n",
      "CRF transitions min/max: tensor(-0.0999, grad_fn=<MinBackward1>) tensor(0.0979, grad_fn=<MaxBackward1>)\n"
     ]
    }
   ],
   "source": [
    "print(\"CRF transitions nan?\", torch.isnan(model.crf.transitions).any())\n",
    "print(\"CRF transitions min/max:\", model.crf.transitions.min(), model.crf.transitions.max())"
   ]
  },
  {
   "cell_type": "markdown",
   "id": "3236b230",
   "metadata": {},
   "source": [
    "# Обучение"
   ]
  },
  {
   "cell_type": "code",
   "execution_count": null,
   "id": "4ec50deb",
   "metadata": {},
   "outputs": [],
   "source": [
    "from transformers import TrainingArguments\n",
    "\n",
    "training_args = TrainingArguments(\n",
    "    output_dir=DATA_PATH_SAVE_MODELS / MODEL_CHECKPOINT_PATH,\n",
    "    num_train_epochs=6,\n",
    "\n",
    "    eval_strategy=\"epoch\",\n",
    "    # eval_strategy=\"steps\",\n",
    "    # eval_steps=50,  # Оценка модели каждый шаг\n",
    "    logging_strategy=\"epoch\",\n",
    "    # logging_strategy=\"steps\",\n",
    "    # logging_steps=50,  # Как часто логировать\n",
    "    disable_tqdm=False,  # Отключить tqdm (нужно для работы в Colab/Kaggle)\n",
    "    report_to=\"tensorboard\",\n",
    "    logging_dir=DATA_LOG,\n",
    "\n",
    "    save_strategy=\"epoch\",\n",
    "    # save_strategy=\"steps\",\n",
    "    # save_steps=50, # Если save_strategy=\"steps\"\n",
    "    save_total_limit=2,\n",
    "    load_best_model_at_end=True,\n",
    "    metric_for_best_model=\"eval_f1_macro\",\n",
    "    greater_is_better=True,\n",
    "\n",
    "\n",
    "    per_device_train_batch_size=BATCH_SIZE,\n",
    "    per_device_eval_batch_size=BATCH_SIZE,\n",
    ")"
   ]
  },
  {
   "cell_type": "code",
   "execution_count": 204,
   "id": "f31cc7b9",
   "metadata": {},
   "outputs": [],
   "source": [
    "optimizer = torch.optim.AdamW(model.parameters(), lr=1e-4, weight_decay=1e-6)\n",
    "\n",
    "steps_per_epoch = len(train_dataset.df) // training_args.per_device_train_batch_size\n",
    "total_steps = steps_per_epoch * training_args.num_train_epochs\n"
   ]
  },
  {
   "cell_type": "code",
   "execution_count": 205,
   "id": "86d18ec2",
   "metadata": {},
   "outputs": [],
   "source": [
    "from transformers import get_cosine_schedule_with_warmup\n",
    "\n",
    "scheduler = get_cosine_schedule_with_warmup(\n",
    "    optimizer,\n",
    "    num_warmup_steps=int(0.2 * total_steps),\n",
    "    num_training_steps=total_steps \n",
    ")"
   ]
  },
  {
   "cell_type": "code",
   "execution_count": 206,
   "id": "43074382",
   "metadata": {},
   "outputs": [],
   "source": [
    "# from transformers import get_cosine_with_hard_restarts_schedule_with_warmup\n",
    "\n",
    "# scheduler = get_cosine_with_hard_restarts_schedule_with_warmup(\n",
    "#     optimizer,\n",
    "#     num_warmup_steps=int(0.1 * total_steps),\n",
    "#     num_training_steps=total_steps,\n",
    "#     num_cycles=2,\n",
    "# )\n"
   ]
  },
  {
   "cell_type": "code",
   "execution_count": 207,
   "id": "7d303396",
   "metadata": {},
   "outputs": [],
   "source": [
    "# from transformers import get_polynomial_decay_schedule_with_warmup\n",
    "\n",
    "# scheduler = get_polynomial_decay_schedule_with_warmup(\n",
    "#     optimizer,\n",
    "#     num_warmup_steps=int(0.1 * total_steps),\n",
    "#     num_training_steps=total_steps,\n",
    "#     lr_end=1e-6,\n",
    "#     power=2.0,\n",
    "# )\n"
   ]
  },
  {
   "cell_type": "code",
   "execution_count": 208,
   "id": "6e670f8e",
   "metadata": {},
   "outputs": [],
   "source": [
    "# from transformers import get_constant_schedule_with_warmup\n",
    "\n",
    "# scheduler = get_constant_schedule_with_warmup(\n",
    "#     optimizer,\n",
    "#     num_warmup_steps=int(0.1 * total_steps),\n",
    "# )\n"
   ]
  },
  {
   "cell_type": "code",
   "execution_count": 209,
   "id": "03d2cfaa",
   "metadata": {},
   "outputs": [],
   "source": [
    "def preprocess_logits_for_metrics(logits, labels):\n",
    "    if isinstance(logits, tuple):\n",
    "        logits = logits[0]\n",
    "    return torch.argmax(logits, dim=-1)"
   ]
  },
  {
   "cell_type": "code",
   "execution_count": 210,
   "id": "97371426",
   "metadata": {},
   "outputs": [],
   "source": [
    "from collections import Counter\n",
    "\n",
    "\n",
    "def compute_class_weights(train_dataset, num_labels):\n",
    "    all_labels = [l for labels in train_dataset.labels.tolist() for l in labels if l != -100]\n",
    "    counts = Counter(all_labels)\n",
    "    total = sum(counts.values())\n",
    "    class_weights = [total / (num_labels * counts.get(i, 1)) for i in range(num_labels)]\n",
    "    return torch.tensor(class_weights, dtype=torch.float32)\n"
   ]
  },
  {
   "cell_type": "code",
   "execution_count": 211,
   "id": "5b6b21ad",
   "metadata": {},
   "outputs": [
    {
     "data": {
      "text/plain": [
       "tensor([  0.3041,   2.1012,   1.4455, 104.1008,  94.7434,   0.6703,   0.3400,\n",
       "         21.4014,  22.8514])"
      ]
     },
     "execution_count": 211,
     "metadata": {},
     "output_type": "execute_result"
    }
   ],
   "source": [
    "class_weights_tensor = compute_class_weights(train_dataset, num_labels)\n",
    "class_weights_tensor"
   ]
  },
  {
   "cell_type": "code",
   "execution_count": 212,
   "id": "230cf5d1",
   "metadata": {},
   "outputs": [],
   "source": [
    "from collections import Counter\n",
    "\n",
    "def show_class_counts_and_ready_weights(train_dataset, idx2label, class_weights_tensor):\n",
    "    all_labels = []\n",
    "    for labels in train_dataset.labels.tolist():\n",
    "        for l in labels:\n",
    "            if l != -100:\n",
    "                all_labels.append(l)\n",
    "\n",
    "    counts = Counter(all_labels)\n",
    "\n",
    "    print(f\"{'Класс':20s} | {'Кол-во':10s} | {'Вес'}\")\n",
    "    print(\"-\"*50)\n",
    "    for i in range(len(class_weights_tensor)):\n",
    "        label = idx2label[i]\n",
    "        count = counts.get(i, 0)\n",
    "        weight = class_weights_tensor[i].item()\n",
    "        print(f\"{label:20s} | {count:<10d} | {weight:.6f}\")\n"
   ]
  },
  {
   "cell_type": "code",
   "execution_count": 213,
   "id": "88ce3ac6",
   "metadata": {},
   "outputs": [
    {
     "name": "stdout",
     "output_type": "stream",
     "text": [
      "Класс                | Кол-во     | Вес\n",
      "--------------------------------------------------\n",
      "O                    | 55453      | 0.304119\n",
      "B-BRAND              | 8026       | 2.101213\n",
      "I-BRAND              | 11667      | 1.445473\n",
      "B-PERCENT            | 162        | 104.100822\n",
      "I-PERCENT            | 178        | 94.743446\n",
      "B-TYPE               | 25159      | 0.670310\n",
      "I-TYPE               | 49608      | 0.339952\n",
      "B-VOLUME             | 788        | 21.401438\n",
      "I-VOLUME             | 738        | 22.851400\n"
     ]
    }
   ],
   "source": [
    "show_class_counts_and_ready_weights(train_dataset, idx2label, class_weights_tensor)\n"
   ]
  },
  {
   "cell_type": "code",
   "execution_count": 214,
   "id": "74d590b9",
   "metadata": {},
   "outputs": [],
   "source": [
    "from collections import Counter\n",
    "\n",
    "import numpy as np\n",
    "import torch\n",
    "from torch.nn import CrossEntropyLoss\n",
    "\n",
    "\n",
    "def weighted_crf_loss(\n",
    "    emissions,\n",
    "    labels,\n",
    "    attention_mask,\n",
    "    crf,\n",
    "    class_weights_tensor,\n",
    "    alpha=0.7,\n",
    "):\n",
    "    labels_for_crf = labels.clone().long()\n",
    "    labels_for_crf[labels_for_crf == -100] = 0\n",
    "\n",
    "    crf_loss = -crf(\n",
    "        emissions,\n",
    "        labels_for_crf,\n",
    "        mask=attention_mask.bool(),\n",
    "        reduction=\"token_mean\"\n",
    "    )\n",
    "\n",
    "    logits_flat = emissions.view(-1, emissions.size(-1))\n",
    "    labels_flat = labels.view(-1)\n",
    "    ce_loss_fn = CrossEntropyLoss(\n",
    "        weight=class_weights_tensor.to(emissions.device),\n",
    "        ignore_index=-100\n",
    "    )\n",
    "    ce_loss = ce_loss_fn(logits_flat, labels_flat)\n",
    "    total_loss = alpha * crf_loss + (1 - alpha) * ce_loss\n",
    "    return total_loss\n",
    "\n",
    "\n",
    "def weighted_loss(\n",
    "    outputs: \"TokenClassifierCRFOutput\",\n",
    "    labels,\n",
    "    model,\n",
    "    class_weights_tensor,\n",
    "    alpha=0.7,\n",
    "    num_items_in_batch=None,\n",
    "):\n",
    "    emissions = outputs.logits\n",
    "    loss = weighted_crf_loss(\n",
    "        emissions=emissions,\n",
    "        labels=labels,\n",
    "        attention_mask=outputs.attention_mask,\n",
    "        crf=model.crf,\n",
    "        class_weights_tensor=class_weights_tensor,\n",
    "        alpha=alpha,\n",
    "    )\n",
    "    return loss\n"
   ]
  },
  {
   "cell_type": "code",
   "execution_count": 215,
   "id": "68fbdea9",
   "metadata": {},
   "outputs": [],
   "source": [
    "from functools import partial\n",
    "\n",
    "from ml.trainer import CustomBaseTrainer\n",
    "from ml.metrics import compute_metrics\n",
    "\n",
    "trainer = CustomBaseTrainer(\n",
    "    model=model,\n",
    "    args=training_args,\n",
    "    train_dataset=train_dataset,\n",
    "    eval_dataset=val_dataset,\n",
    "    optimizers=(optimizer, scheduler),\n",
    "    compute_metrics=partial(compute_metrics, idx2label=idx2label),\n",
    "    processing_class=train_dataset.tokenizer,\n",
    "    preprocess_logits_for_metrics=preprocess_logits_for_metrics,\n",
    "    compute_loss_func=partial(weighted_loss, model=model, class_weights_tensor=class_weights_tensor, alpha=0.5)\n",
    ")"
   ]
  },
  {
   "cell_type": "code",
   "execution_count": 216,
   "id": "6f0de557",
   "metadata": {},
   "outputs": [
    {
     "name": "stderr",
     "output_type": "stream",
     "text": [
      "d:\\Projects\\env_ml\\.venv\\Lib\\site-packages\\torch\\utils\\data\\dataloader.py:666: UserWarning:\n",
      "\n",
      "'pin_memory' argument is set as true but no accelerator is found, then device pinned memory won't be used.\n",
      "\n"
     ]
    },
    {
     "data": {
      "text/html": [
       "\n",
       "    <div>\n",
       "      \n",
       "      <progress value='1266' max='1266' style='width:300px; height:20px; vertical-align: middle;'></progress>\n",
       "      [1266/1266 23:36, Epoch 6/6]\n",
       "    </div>\n",
       "    <table border=\"1\" class=\"dataframe\">\n",
       "  <thead>\n",
       " <tr style=\"text-align: left;\">\n",
       "      <th>Epoch</th>\n",
       "      <th>Training Loss</th>\n",
       "      <th>Validation Loss</th>\n",
       "      <th>Precision</th>\n",
       "      <th>Recall</th>\n",
       "      <th>F1 Micro</th>\n",
       "      <th>F1 Macro</th>\n",
       "      <th>Accuracy</th>\n",
       "    </tr>\n",
       "  </thead>\n",
       "  <tbody>\n",
       "    <tr>\n",
       "      <td>1</td>\n",
       "      <td>1.368800</td>\n",
       "      <td>0.674389</td>\n",
       "      <td>0.510452</td>\n",
       "      <td>0.581074</td>\n",
       "      <td>0.543478</td>\n",
       "      <td>0.285845</td>\n",
       "      <td>0.850200</td>\n",
       "    </tr>\n",
       "    <tr>\n",
       "      <td>2</td>\n",
       "      <td>0.460800</td>\n",
       "      <td>0.342605</td>\n",
       "      <td>0.692613</td>\n",
       "      <td>0.773105</td>\n",
       "      <td>0.730649</td>\n",
       "      <td>0.547236</td>\n",
       "      <td>0.924663</td>\n",
       "    </tr>\n",
       "    <tr>\n",
       "      <td>3</td>\n",
       "      <td>0.264300</td>\n",
       "      <td>0.279446</td>\n",
       "      <td>0.723982</td>\n",
       "      <td>0.796901</td>\n",
       "      <td>0.758693</td>\n",
       "      <td>0.619137</td>\n",
       "      <td>0.935032</td>\n",
       "    </tr>\n",
       "    <tr>\n",
       "      <td>4</td>\n",
       "      <td>0.197500</td>\n",
       "      <td>0.265179</td>\n",
       "      <td>0.758901</td>\n",
       "      <td>0.825678</td>\n",
       "      <td>0.790883</td>\n",
       "      <td>0.654682</td>\n",
       "      <td>0.941654</td>\n",
       "    </tr>\n",
       "    <tr>\n",
       "      <td>5</td>\n",
       "      <td>0.162400</td>\n",
       "      <td>0.276003</td>\n",
       "      <td>0.780992</td>\n",
       "      <td>0.836746</td>\n",
       "      <td>0.807908</td>\n",
       "      <td>0.679361</td>\n",
       "      <td>0.946152</td>\n",
       "    </tr>\n",
       "    <tr>\n",
       "      <td>6</td>\n",
       "      <td>0.148000</td>\n",
       "      <td>0.274776</td>\n",
       "      <td>0.778292</td>\n",
       "      <td>0.837299</td>\n",
       "      <td>0.806718</td>\n",
       "      <td>0.677549</td>\n",
       "      <td>0.945027</td>\n",
       "    </tr>\n",
       "  </tbody>\n",
       "</table><p>"
      ],
      "text/plain": [
       "<IPython.core.display.HTML object>"
      ]
     },
     "metadata": {},
     "output_type": "display_data"
    },
    {
     "name": "stderr",
     "output_type": "stream",
     "text": [
      "d:\\Projects\\env_ml\\.venv\\Lib\\site-packages\\torch\\utils\\data\\dataloader.py:666: UserWarning:\n",
      "\n",
      "'pin_memory' argument is set as true but no accelerator is found, then device pinned memory won't be used.\n",
      "\n",
      "d:\\Projects\\env_ml\\.venv\\Lib\\site-packages\\torch\\utils\\data\\dataloader.py:666: UserWarning:\n",
      "\n",
      "'pin_memory' argument is set as true but no accelerator is found, then device pinned memory won't be used.\n",
      "\n",
      "d:\\Projects\\env_ml\\.venv\\Lib\\site-packages\\torch\\utils\\data\\dataloader.py:666: UserWarning:\n",
      "\n",
      "'pin_memory' argument is set as true but no accelerator is found, then device pinned memory won't be used.\n",
      "\n",
      "d:\\Projects\\env_ml\\.venv\\Lib\\site-packages\\torch\\utils\\data\\dataloader.py:666: UserWarning:\n",
      "\n",
      "'pin_memory' argument is set as true but no accelerator is found, then device pinned memory won't be used.\n",
      "\n",
      "d:\\Projects\\env_ml\\.venv\\Lib\\site-packages\\torch\\utils\\data\\dataloader.py:666: UserWarning:\n",
      "\n",
      "'pin_memory' argument is set as true but no accelerator is found, then device pinned memory won't be used.\n",
      "\n"
     ]
    },
    {
     "data": {
      "text/plain": [
       "TrainOutput(global_step=1266, training_loss=0.4336212679484821, metrics={'train_runtime': 1417.3634, 'train_samples_per_second': 113.844, 'train_steps_per_second': 0.893, 'total_flos': 37219450731264.0, 'train_loss': 0.4336212679484821, 'epoch': 6.0})"
      ]
     },
     "execution_count": 216,
     "metadata": {},
     "output_type": "execute_result"
    }
   ],
   "source": [
    "trainer.train()"
   ]
  },
  {
   "cell_type": "code",
   "execution_count": null,
   "id": "33452675",
   "metadata": {},
   "outputs": [],
   "source": [
    "trainer.plot_results()"
   ]
  },
  {
   "cell_type": "code",
   "execution_count": 218,
   "id": "25824222",
   "metadata": {},
   "outputs": [
    {
     "name": "stderr",
     "output_type": "stream",
     "text": [
      "d:\\Projects\\env_ml\\.venv\\Lib\\site-packages\\torch\\utils\\data\\dataloader.py:666: UserWarning:\n",
      "\n",
      "'pin_memory' argument is set as true but no accelerator is found, then device pinned memory won't be used.\n",
      "\n"
     ]
    },
    {
     "data": {
      "text/html": [],
      "text/plain": [
       "<IPython.core.display.HTML object>"
      ]
     },
     "metadata": {},
     "output_type": "display_data"
    },
    {
     "name": "stdout",
     "output_type": "stream",
     "text": [
      "{'test_loss': 0.26219072937965393, 'test_precision': 0.7993326978074357, 'test_recall': 0.8461150353178607, 'test_f1_micro': 0.8220588235294117, 'test_f1_macro': 0.6498879956954309, 'test_accuracy': 0.9476574566672387, 'test_runtime': 7.5358, 'test_samples_per_second': 417.472, 'test_steps_per_second': 3.317}\n"
     ]
    }
   ],
   "source": [
    "test_results = trainer.predict(test_dataset)\n",
    "print(test_results.metrics)"
   ]
  },
  {
   "cell_type": "code",
   "execution_count": 221,
   "id": "c5b28b04",
   "metadata": {},
   "outputs": [],
   "source": [
    "trainer.save_model(DATA_PATH_SAVE_MODELS / MODEL_NAME_SAVE)"
   ]
  },
  {
   "cell_type": "markdown",
   "id": "3ab6c60b",
   "metadata": {},
   "source": [
    "# Тестирование модели"
   ]
  },
  {
   "cell_type": "code",
   "execution_count": 222,
   "id": "40422331",
   "metadata": {},
   "outputs": [],
   "source": [
    "from regex import D\n",
    "from transformers import AutoConfig\n",
    "from ml.model import AutoModelForTokenClassificationWithCRF, TokenClassifierCRFOutput\n",
    "\n",
    "num_labels = len(label2idx)\n",
    "\n",
    "config = AutoConfig.from_pretrained(\n",
    "    DATA_PATH_SAVE_MODELS / \"ner_x5\",\n",
    "    num_labels=num_labels,\n",
    "    id2label=idx2label,\n",
    "    label2id=label2idx,\n",
    "    cache_dir=DATA_CACHE,\n",
    ")\n",
    "\n",
    "model = AutoModelForTokenClassificationWithCRF.from_pretrained(\n",
    "    DATA_PATH_SAVE_MODELS / \"ner_x5\",\n",
    "    cache_dir=DATA_CACHE,\n",
    "    config=config,\n",
    "    ignore_mismatched_sizes=True,\n",
    ")"
   ]
  },
  {
   "cell_type": "code",
   "execution_count": 223,
   "id": "6605670b",
   "metadata": {},
   "outputs": [
    {
     "name": "stderr",
     "output_type": "stream",
     "text": [
      "Analyzing with model: 100%|█████████████████████████████████████████| 50/50 [00:06<00:00,  8.18it/s]\n"
     ]
    }
   ],
   "source": [
    "test_dataset.analyze_with_model(\n",
    "    model=model, \n",
    "    idx2label=idx2label, \n",
    "    batch_size=64, \n",
    "    device=\"cuda\" if torch.cuda.is_available() else \"cpu\", \n",
    "    layer=-1\n",
    ")"
   ]
  },
  {
   "cell_type": "code",
   "execution_count": 224,
   "id": "66fa62f5",
   "metadata": {},
   "outputs": [],
   "source": [
    "# test_dataset.df.sample(10)"
   ]
  },
  {
   "cell_type": "code",
   "execution_count": 225,
   "id": "203bf962",
   "metadata": {},
   "outputs": [
    {
     "name": "stdout",
     "output_type": "stream",
     "text": [
      "is_correct\n",
      "True     2630\n",
      "False     516\n",
      "Name: count, dtype: int64\n"
     ]
    }
   ],
   "source": [
    "print(test_dataset.df[\"is_correct\"].value_counts())"
   ]
  },
  {
   "cell_type": "code",
   "execution_count": 226,
   "id": "f328aa7a",
   "metadata": {},
   "outputs": [
    {
     "data": {
      "text/html": [
       "<div>\n",
       "<style scoped>\n",
       "    .dataframe tbody tr th:only-of-type {\n",
       "        vertical-align: middle;\n",
       "    }\n",
       "\n",
       "    .dataframe tbody tr th {\n",
       "        vertical-align: top;\n",
       "    }\n",
       "\n",
       "    .dataframe thead th {\n",
       "        text-align: right;\n",
       "    }\n",
       "</style>\n",
       "<table border=\"1\" class=\"dataframe\">\n",
       "  <thead>\n",
       "    <tr style=\"text-align: right;\">\n",
       "      <th></th>\n",
       "      <th>sample</th>\n",
       "      <th>annotation</th>\n",
       "      <th>df_label</th>\n",
       "      <th>tokens_ids_debug</th>\n",
       "      <th>tokens_text_debug</th>\n",
       "      <th>labels_debug</th>\n",
       "      <th>pred_labels</th>\n",
       "      <th>entities</th>\n",
       "      <th>is_correct</th>\n",
       "    </tr>\n",
       "  </thead>\n",
       "  <tbody>\n",
       "    <tr>\n",
       "      <th>277</th>\n",
       "      <td>огурйы</td>\n",
       "      <td>[(0, 6, B-TYPE)]</td>\n",
       "      <td>x5</td>\n",
       "      <td>[2, 46295, 870, 25416, 3, 0, 0, 0, 0, 0, 0, 0, 0, 0, 0, 0]</td>\n",
       "      <td>[[CLS], огу, ##р, ##йы, [SEP], [PAD], [PAD], [PAD], [PAD], [PAD], [PAD], [PAD], [PAD], [PAD], [PAD], [PAD]]</td>\n",
       "      <td>[O, B-TYPE, I-TYPE, I-TYPE, O, O, O, O, O, O, O, O, O, O, O, O]</td>\n",
       "      <td>[O, B-TYPE, I-TYPE, I-TYPE, O, O, O, O, O, O, O, O, O, O, O, O]</td>\n",
       "      <td>[{'start_index': 0, 'end_index': 6, 'entity': 'B-TYPE', 'word': 'огурйы'}]</td>\n",
       "      <td>True</td>\n",
       "    </tr>\n",
       "    <tr>\n",
       "      <th>397</th>\n",
       "      <td>см4танв</td>\n",
       "      <td>[(0, 7, B-TYPE)]</td>\n",
       "      <td>x5</td>\n",
       "      <td>[2, 4159, 1182, 3460, 887, 3, 0, 0, 0, 0, 0, 0, 0, 0, 0, 0]</td>\n",
       "      <td>[[CLS], см, ##4, ##тан, ##в, [SEP], [PAD], [PAD], [PAD], [PAD], [PAD], [PAD], [PAD], [PAD], [PAD], [PAD]]</td>\n",
       "      <td>[O, B-TYPE, I-TYPE, I-TYPE, I-TYPE, O, O, O, O, O, O, O, O, O, O, O]</td>\n",
       "      <td>[O, B-TYPE, I-TYPE, I-TYPE, I-TYPE, O, O, O, O, O, O, O, O, O, O, O]</td>\n",
       "      <td>[{'start_index': 0, 'end_index': 7, 'entity': 'B-TYPE', 'word': 'см4танв'}]</td>\n",
       "      <td>True</td>\n",
       "    </tr>\n",
       "    <tr>\n",
       "      <th>1115</th>\n",
       "      <td>бюстгальтера va</td>\n",
       "      <td>[(0, 12, B-TYPE), (13, 15, B-BRAND)]</td>\n",
       "      <td>x5</td>\n",
       "      <td>[2, 53708, 75335, 3414, 725, 3, 0, 0, 0, 0, 0, 0, 0, 0, 0, 0]</td>\n",
       "      <td>[[CLS], бюст, ##гальт, ##ера, va, [SEP], [PAD], [PAD], [PAD], [PAD], [PAD], [PAD], [PAD], [PAD], [PAD], [PAD]]</td>\n",
       "      <td>[O, B-TYPE, I-TYPE, I-TYPE, B-BRAND, O, O, O, O, O, O, O, O, O, O, O]</td>\n",
       "      <td>[O, B-TYPE, I-TYPE, I-TYPE, B-BRAND, O, O, O, O, O, O, O, O, O, O, O]</td>\n",
       "      <td>[{'start_index': 0, 'end_index': 12, 'entity': 'B-TYPE', 'word': 'бюстгальтера'}, {'start_index': 13, 'end_index': 15, 'entity': 'B-BRAND', 'word': 'va'}]</td>\n",
       "      <td>True</td>\n",
       "    </tr>\n",
       "    <tr>\n",
       "      <th>2974</th>\n",
       "      <td>нори с кимчи</td>\n",
       "      <td>[(0, 4, B-TYPE), (5, 6, I-TYPE), (7, 12, I-TYPE)]</td>\n",
       "      <td>x5</td>\n",
       "      <td>[2, 1363, 1690, 329, 3283, 656, 3030, 3, 0, 0, 0, 0, 0, 0, 0, 0]</td>\n",
       "      <td>[[CLS], но, ##ри, с, ки, ##м, ##чи, [SEP], [PAD], [PAD], [PAD], [PAD], [PAD], [PAD], [PAD], [PAD]]</td>\n",
       "      <td>[O, B-TYPE, I-TYPE, I-TYPE, I-TYPE, I-TYPE, I-TYPE, O, O, O, O, O, O, O, O, O]</td>\n",
       "      <td>[O, B-TYPE, I-TYPE, I-TYPE, I-TYPE, I-TYPE, I-TYPE, O, O, O, O, O, O, O, O, O]</td>\n",
       "      <td>[{'start_index': 0, 'end_index': 4, 'entity': 'B-TYPE', 'word': 'нори'}, {'start_index': 5, 'end_index': 6, 'entity': 'I-TYPE', 'word': 'с'}, {'start_index': 7, 'end_index': 12, 'entity': 'I-TYPE', 'word': 'кимчи'}]</td>\n",
       "      <td>True</td>\n",
       "    </tr>\n",
       "    <tr>\n",
       "      <th>1700</th>\n",
       "      <td>ацидофильн</td>\n",
       "      <td>[(0, 10, B-TYPE)]</td>\n",
       "      <td>x5</td>\n",
       "      <td>[2, 78031, 6762, 36548, 73558, 3, 0, 0, 0, 0, 0, 0, 0, 0, 0, 0]</td>\n",
       "      <td>[[CLS], ац, ##ид, ##офи, ##льн, [SEP], [PAD], [PAD], [PAD], [PAD], [PAD], [PAD], [PAD], [PAD], [PAD], [PAD]]</td>\n",
       "      <td>[O, B-TYPE, I-TYPE, I-TYPE, I-TYPE, O, O, O, O, O, O, O, O, O, O, O]</td>\n",
       "      <td>[O, B-TYPE, I-TYPE, I-TYPE, I-TYPE, O, O, O, O, O, O, O, O, O, O, O]</td>\n",
       "      <td>[{'start_index': 0, 'end_index': 10, 'entity': 'B-TYPE', 'word': 'ацидофильн'}]</td>\n",
       "      <td>True</td>\n",
       "    </tr>\n",
       "  </tbody>\n",
       "</table>\n",
       "</div>"
      ],
      "text/plain": [
       "               sample                                         annotation  \\\n",
       "277            огурйы                                   [(0, 6, B-TYPE)]   \n",
       "397           см4танв                                   [(0, 7, B-TYPE)]   \n",
       "1115  бюстгальтера va               [(0, 12, B-TYPE), (13, 15, B-BRAND)]   \n",
       "2974     нори с кимчи  [(0, 4, B-TYPE), (5, 6, I-TYPE), (7, 12, I-TYPE)]   \n",
       "1700       ацидофильн                                  [(0, 10, B-TYPE)]   \n",
       "\n",
       "     df_label  \\\n",
       "277        x5   \n",
       "397        x5   \n",
       "1115       x5   \n",
       "2974       x5   \n",
       "1700       x5   \n",
       "\n",
       "                                                      tokens_ids_debug  \\\n",
       "277         [2, 46295, 870, 25416, 3, 0, 0, 0, 0, 0, 0, 0, 0, 0, 0, 0]   \n",
       "397        [2, 4159, 1182, 3460, 887, 3, 0, 0, 0, 0, 0, 0, 0, 0, 0, 0]   \n",
       "1115     [2, 53708, 75335, 3414, 725, 3, 0, 0, 0, 0, 0, 0, 0, 0, 0, 0]   \n",
       "2974  [2, 1363, 1690, 329, 3283, 656, 3030, 3, 0, 0, 0, 0, 0, 0, 0, 0]   \n",
       "1700   [2, 78031, 6762, 36548, 73558, 3, 0, 0, 0, 0, 0, 0, 0, 0, 0, 0]   \n",
       "\n",
       "                                                                                                   tokens_text_debug  \\\n",
       "277      [[CLS], огу, ##р, ##йы, [SEP], [PAD], [PAD], [PAD], [PAD], [PAD], [PAD], [PAD], [PAD], [PAD], [PAD], [PAD]]   \n",
       "397        [[CLS], см, ##4, ##тан, ##в, [SEP], [PAD], [PAD], [PAD], [PAD], [PAD], [PAD], [PAD], [PAD], [PAD], [PAD]]   \n",
       "1115  [[CLS], бюст, ##гальт, ##ера, va, [SEP], [PAD], [PAD], [PAD], [PAD], [PAD], [PAD], [PAD], [PAD], [PAD], [PAD]]   \n",
       "2974              [[CLS], но, ##ри, с, ки, ##м, ##чи, [SEP], [PAD], [PAD], [PAD], [PAD], [PAD], [PAD], [PAD], [PAD]]   \n",
       "1700    [[CLS], ац, ##ид, ##офи, ##льн, [SEP], [PAD], [PAD], [PAD], [PAD], [PAD], [PAD], [PAD], [PAD], [PAD], [PAD]]   \n",
       "\n",
       "                                                                        labels_debug  \\\n",
       "277                  [O, B-TYPE, I-TYPE, I-TYPE, O, O, O, O, O, O, O, O, O, O, O, O]   \n",
       "397             [O, B-TYPE, I-TYPE, I-TYPE, I-TYPE, O, O, O, O, O, O, O, O, O, O, O]   \n",
       "1115           [O, B-TYPE, I-TYPE, I-TYPE, B-BRAND, O, O, O, O, O, O, O, O, O, O, O]   \n",
       "2974  [O, B-TYPE, I-TYPE, I-TYPE, I-TYPE, I-TYPE, I-TYPE, O, O, O, O, O, O, O, O, O]   \n",
       "1700            [O, B-TYPE, I-TYPE, I-TYPE, I-TYPE, O, O, O, O, O, O, O, O, O, O, O]   \n",
       "\n",
       "                                                                         pred_labels  \\\n",
       "277                  [O, B-TYPE, I-TYPE, I-TYPE, O, O, O, O, O, O, O, O, O, O, O, O]   \n",
       "397             [O, B-TYPE, I-TYPE, I-TYPE, I-TYPE, O, O, O, O, O, O, O, O, O, O, O]   \n",
       "1115           [O, B-TYPE, I-TYPE, I-TYPE, B-BRAND, O, O, O, O, O, O, O, O, O, O, O]   \n",
       "2974  [O, B-TYPE, I-TYPE, I-TYPE, I-TYPE, I-TYPE, I-TYPE, O, O, O, O, O, O, O, O, O]   \n",
       "1700            [O, B-TYPE, I-TYPE, I-TYPE, I-TYPE, O, O, O, O, O, O, O, O, O, O, O]   \n",
       "\n",
       "                                                                                                                                                                                                                     entities  \\\n",
       "277                                                                                                                                                [{'start_index': 0, 'end_index': 6, 'entity': 'B-TYPE', 'word': 'огурйы'}]   \n",
       "397                                                                                                                                               [{'start_index': 0, 'end_index': 7, 'entity': 'B-TYPE', 'word': 'см4танв'}]   \n",
       "1115                                                               [{'start_index': 0, 'end_index': 12, 'entity': 'B-TYPE', 'word': 'бюстгальтера'}, {'start_index': 13, 'end_index': 15, 'entity': 'B-BRAND', 'word': 'va'}]   \n",
       "2974  [{'start_index': 0, 'end_index': 4, 'entity': 'B-TYPE', 'word': 'нори'}, {'start_index': 5, 'end_index': 6, 'entity': 'I-TYPE', 'word': 'с'}, {'start_index': 7, 'end_index': 12, 'entity': 'I-TYPE', 'word': 'кимчи'}]   \n",
       "1700                                                                                                                                          [{'start_index': 0, 'end_index': 10, 'entity': 'B-TYPE', 'word': 'ацидофильн'}]   \n",
       "\n",
       "      is_correct  \n",
       "277         True  \n",
       "397         True  \n",
       "1115        True  \n",
       "2974        True  \n",
       "1700        True  "
      ]
     },
     "execution_count": 226,
     "metadata": {},
     "output_type": "execute_result"
    }
   ],
   "source": [
    "df_true = test_dataset.df[test_dataset.df[\"is_correct\"] == True]\n",
    "df_true.sample(5)"
   ]
  },
  {
   "cell_type": "code",
   "execution_count": 227,
   "id": "a61a5208",
   "metadata": {},
   "outputs": [
    {
     "data": {
      "text/html": [
       "<div>\n",
       "<style scoped>\n",
       "    .dataframe tbody tr th:only-of-type {\n",
       "        vertical-align: middle;\n",
       "    }\n",
       "\n",
       "    .dataframe tbody tr th {\n",
       "        vertical-align: top;\n",
       "    }\n",
       "\n",
       "    .dataframe thead th {\n",
       "        text-align: right;\n",
       "    }\n",
       "</style>\n",
       "<table border=\"1\" class=\"dataframe\">\n",
       "  <thead>\n",
       "    <tr style=\"text-align: right;\">\n",
       "      <th></th>\n",
       "      <th>sample</th>\n",
       "      <th>annotation</th>\n",
       "      <th>df_label</th>\n",
       "      <th>tokens_ids_debug</th>\n",
       "      <th>tokens_text_debug</th>\n",
       "      <th>labels_debug</th>\n",
       "      <th>pred_labels</th>\n",
       "      <th>entities</th>\n",
       "      <th>is_correct</th>\n",
       "    </tr>\n",
       "  </thead>\n",
       "  <tbody>\n",
       "    <tr>\n",
       "      <th>2259</th>\n",
       "      <td>прянк медвй тульскй</td>\n",
       "      <td>[(0, 6, B-TYPE), (7, 13, I-TYPE), (14, 22, B-BRAND)]</td>\n",
       "      <td>synthetic</td>\n",
       "      <td>[2, 53709, 865, 29881, 887, 775, 11997, 1903, 3413, 775, 3, 0, 0, 0, 0, 0]</td>\n",
       "      <td>[[CLS], прян, ##к, мед, ##в, ##й, ту, ##ль, ##ск, ##й, [SEP], [PAD], [PAD], [PAD], [PAD], [PAD]]</td>\n",
       "      <td>[O, B-TYPE, I-TYPE, I-TYPE, I-TYPE, I-TYPE, I-TYPE, B-BRAND, I-BRAND, I-BRAND, O, O, O, O, O, O]</td>\n",
       "      <td>[O, B-TYPE, I-TYPE, I-TYPE, I-TYPE, I-TYPE, I-TYPE, I-TYPE, I-TYPE, I-TYPE, O, O, O, O, O, O]</td>\n",
       "      <td>[{'start_index': 0, 'end_index': 5, 'entity': 'B-TYPE', 'word': 'прянк'}, {'start_index': 6, 'end_index': 11, 'entity': 'I-TYPE', 'word': 'медвй'}, {'start_index': 12, 'end_index': 19, 'entity': 'I-TYPE', 'word': 'тульскй'}]</td>\n",
       "      <td>False</td>\n",
       "    </tr>\n",
       "    <tr>\n",
       "      <th>944</th>\n",
       "      <td>зефир шармэль 280 gr</td>\n",
       "      <td>[(0, 5, B-TYPE), (6, 13, B-BRAND), (14, 20, B-VOLUME)]</td>\n",
       "      <td>synthetic</td>\n",
       "      <td>[2, 319, 16411, 7100, 29134, 656, 12242, 4770, 9708, 3, 0, 0, 0, 0, 0, 0]</td>\n",
       "      <td>[[CLS], з, ##еф, ##ир, шар, ##м, ##эль, 280, gr, [SEP], [PAD], [PAD], [PAD], [PAD], [PAD], [PAD]]</td>\n",
       "      <td>[O, B-TYPE, I-TYPE, I-TYPE, B-BRAND, I-BRAND, I-BRAND, B-VOLUME, I-VOLUME, O, O, O, O, O, O, O]</td>\n",
       "      <td>[O, B-TYPE, I-TYPE, I-TYPE, B-BRAND, I-BRAND, I-BRAND, B-VOLUME, I-VOLUME, O, O, O, O, O, O, O]</td>\n",
       "      <td>[{'start_index': 0, 'end_index': 5, 'entity': 'B-TYPE', 'word': 'зефир'}, {'start_index': 6, 'end_index': 13, 'entity': 'B-BRAND', 'word': 'шармэль'}, {'start_index': 14, 'end_index': 17, 'entity': 'B-VOLUME', 'word': '280'}, {'start_index': 18, 'end_index': 20, 'entity': 'I-VOLUME', 'word': 'gr'}]</td>\n",
       "      <td>False</td>\n",
       "    </tr>\n",
       "    <tr>\n",
       "      <th>2780</th>\n",
       "      <td>Швепс</td>\n",
       "      <td>[(0, 6, B-BRAND)]</td>\n",
       "      <td>synthetic</td>\n",
       "      <td>[2, 43527, 44092, 3, 0, 0, 0, 0, 0, 0, 0, 0, 0, 0, 0, 0]</td>\n",
       "      <td>[[CLS], Шве, ##пс, [SEP], [PAD], [PAD], [PAD], [PAD], [PAD], [PAD], [PAD], [PAD], [PAD], [PAD], [PAD], [PAD]]</td>\n",
       "      <td>[O, B-BRAND, I-BRAND, O, O, O, O, O, O, O, O, O, O, O, O, O]</td>\n",
       "      <td>[O, B-BRAND, I-BRAND, O, O, O, O, O, O, O, O, O, O, O, O, O]</td>\n",
       "      <td>[{'start_index': 0, 'end_index': 5, 'entity': 'B-BRAND', 'word': 'Швепс'}]</td>\n",
       "      <td>False</td>\n",
       "    </tr>\n",
       "    <tr>\n",
       "      <th>2195</th>\n",
       "      <td>куриное филе для салата</td>\n",
       "      <td>[(0, 13, B-TYPE), (14, 17, I-TYPE), (18, 24, I-TYPE)]</td>\n",
       "      <td>synthetic</td>\n",
       "      <td>[2, 31855, 2182, 74900, 871, 76688, 3, 0, 0, 0, 0, 0, 0, 0, 0, 0]</td>\n",
       "      <td>[[CLS], кури, ##ное, филе, для, салата, [SEP], [PAD], [PAD], [PAD], [PAD], [PAD], [PAD], [PAD], [PAD], [PAD]]</td>\n",
       "      <td>[O, B-TYPE, I-TYPE, I-TYPE, I-TYPE, I-TYPE, O, O, O, O, O, O, O, O, O, O]</td>\n",
       "      <td>[O, B-TYPE, I-TYPE, I-TYPE, I-TYPE, I-TYPE, O, O, O, O, O, O, O, O, O, O]</td>\n",
       "      <td>[{'start_index': 0, 'end_index': 7, 'entity': 'B-TYPE', 'word': 'куриное'}, {'start_index': 8, 'end_index': 12, 'entity': 'I-TYPE', 'word': 'филе'}, {'start_index': 13, 'end_index': 16, 'entity': 'I-TYPE', 'word': 'для'}, {'start_index': 17, 'end_index': 23, 'entity': 'I-TYPE', 'word': 'салата'}]</td>\n",
       "      <td>False</td>\n",
       "    </tr>\n",
       "    <tr>\n",
       "      <th>1744</th>\n",
       "      <td>мармелад haribo 100 g</td>\n",
       "      <td>[(0, 8, B-TYPE), (9, 15, B-BRAND), (16, 20, B-VOLUME)]</td>\n",
       "      <td>synthetic</td>\n",
       "      <td>[2, 33839, 3277, 15510, 827, 4670, 559, 793, 74, 3, 0, 0, 0, 0, 0, 0]</td>\n",
       "      <td>[[CLS], мар, ##ме, ##лад, har, ##ib, ##o, 100, g, [SEP], [PAD], [PAD], [PAD], [PAD], [PAD], [PAD]]</td>\n",
       "      <td>[O, B-TYPE, I-TYPE, I-TYPE, B-BRAND, I-BRAND, I-BRAND, B-VOLUME, O, O, O, O, O, O, O, O]</td>\n",
       "      <td>[O, B-TYPE, I-TYPE, I-TYPE, B-BRAND, I-BRAND, I-BRAND, B-VOLUME, I-VOLUME, O, O, O, O, O, O, O]</td>\n",
       "      <td>[{'start_index': 0, 'end_index': 8, 'entity': 'B-TYPE', 'word': 'мармелад'}, {'start_index': 9, 'end_index': 15, 'entity': 'B-BRAND', 'word': 'haribo'}, {'start_index': 16, 'end_index': 19, 'entity': 'B-VOLUME', 'word': '100'}, {'start_index': 20, 'end_index': 21, 'entity': 'I-VOLUME', 'word': 'g'}]</td>\n",
       "      <td>False</td>\n",
       "    </tr>\n",
       "    <tr>\n",
       "      <th>1161</th>\n",
       "      <td>libresse прокладки</td>\n",
       "      <td>[(0, 8, B-BRAND), (9, 18, B-TYPE)]</td>\n",
       "      <td>x5</td>\n",
       "      <td>[2, 27093, 9789, 538, 70533, 3, 0, 0, 0, 0, 0, 0, 0, 0, 0, 0]</td>\n",
       "      <td>[[CLS], lib, ##ress, ##e, прокладки, [SEP], [PAD], [PAD], [PAD], [PAD], [PAD], [PAD], [PAD], [PAD], [PAD], [PAD]]</td>\n",
       "      <td>[O, B-BRAND, I-BRAND, I-BRAND, B-TYPE, O, O, O, O, O, O, O, O, O, O, O]</td>\n",
       "      <td>[O, B-BRAND, I-BRAND, I-BRAND, I-BRAND, O, O, O, O, O, O, O, O, O, O, O]</td>\n",
       "      <td>[{'start_index': 0, 'end_index': 8, 'entity': 'B-BRAND', 'word': 'libresse'}, {'start_index': 9, 'end_index': 18, 'entity': 'I-BRAND', 'word': 'прокладки'}]</td>\n",
       "      <td>False</td>\n",
       "    </tr>\n",
       "    <tr>\n",
       "      <th>2499</th>\n",
       "      <td>бензин</td>\n",
       "      <td>[(0, 6, B-TYPE)]</td>\n",
       "      <td>x5</td>\n",
       "      <td>[2, 38390, 3, 0, 0, 0, 0, 0, 0, 0, 0, 0, 0, 0, 0, 0]</td>\n",
       "      <td>[[CLS], бензин, [SEP], [PAD], [PAD], [PAD], [PAD], [PAD], [PAD], [PAD], [PAD], [PAD], [PAD], [PAD], [PAD], [PAD]]</td>\n",
       "      <td>[O, B-TYPE, O, O, O, O, O, O, O, O, O, O, O, O, O, O]</td>\n",
       "      <td>[O, B-BRAND, O, O, O, O, O, O, O, O, O, O, O, O, O, O]</td>\n",
       "      <td>[{'start_index': 0, 'end_index': 6, 'entity': 'B-BRAND', 'word': 'бензин'}]</td>\n",
       "      <td>False</td>\n",
       "    </tr>\n",
       "    <tr>\n",
       "      <th>2078</th>\n",
       "      <td>мороженое чистая линия</td>\n",
       "      <td>[(0, 10, B-TYPE), (11, 17, B-BRAND), (18, 23, I-BRAND)]</td>\n",
       "      <td>synthetic</td>\n",
       "      <td>[2, 71647, 50820, 14037, 3, 0, 0, 0, 0, 0, 0, 0, 0, 0, 0, 0]</td>\n",
       "      <td>[[CLS], мороженое, чистая, линия, [SEP], [PAD], [PAD], [PAD], [PAD], [PAD], [PAD], [PAD], [PAD], [PAD], [PAD], [PAD]]</td>\n",
       "      <td>[O, B-TYPE, B-BRAND, I-BRAND, O, O, O, O, O, O, O, O, O, O, O, O]</td>\n",
       "      <td>[O, B-TYPE, B-BRAND, I-BRAND, O, O, O, O, O, O, O, O, O, O, O, O]</td>\n",
       "      <td>[{'start_index': 0, 'end_index': 9, 'entity': 'B-TYPE', 'word': 'мороженое'}, {'start_index': 10, 'end_index': 16, 'entity': 'B-BRAND', 'word': 'чистая'}, {'start_index': 17, 'end_index': 22, 'entity': 'I-BRAND', 'word': 'линия'}]</td>\n",
       "      <td>False</td>\n",
       "    </tr>\n",
       "    <tr>\n",
       "      <th>1726</th>\n",
       "      <td>дай морковь мытая пятёрочка 1 кг</td>\n",
       "      <td>[(4, 11, B-TYPE), (19, 28, B-BRAND), (29, 33, B-VOLUME)]</td>\n",
       "      <td>synthetic</td>\n",
       "      <td>[2, 38926, 62148, 11521, 16973, 82870, 27320, 21, 7295, 3, 0, 0, 0, 0, 0, 0]</td>\n",
       "      <td>[[CLS], дай, морковь, мы, ##тая, пятёр, ##очка, 1, кг, [SEP], [PAD], [PAD], [PAD], [PAD], [PAD], [PAD]]</td>\n",
       "      <td>[O, O, B-TYPE, O, O, B-BRAND, I-BRAND, O, B-VOLUME, O, O, O, O, O, O, O]</td>\n",
       "      <td>[O, O, B-TYPE, I-TYPE, I-TYPE, B-VOLUME, I-BRAND, B-VOLUME, I-VOLUME, O, O, O, O, O, O, O]</td>\n",
       "      <td>[{'start_index': 0, 'end_index': 3, 'entity': 'O', 'word': 'дай'}, {'start_index': 4, 'end_index': 11, 'entity': 'B-TYPE', 'word': 'морковь'}, {'start_index': 12, 'end_index': 17, 'entity': 'I-TYPE', 'word': 'мытая'}, {'start_index': 18, 'end_index': 27, 'entity': 'B-VOLUME', 'word': 'пятёрочка'}, {'start_index': 28, 'end_index': 29, 'entity': 'B-VOLUME', 'word': '1'}, {'start_index': 30, 'end_index': 32, 'entity': 'I-VOLUME', 'word': 'кг'}]</td>\n",
       "      <td>False</td>\n",
       "    </tr>\n",
       "    <tr>\n",
       "      <th>2953</th>\n",
       "      <td>wonder</td>\n",
       "      <td>[(0, 6, B-BRAND)]</td>\n",
       "      <td>synthetic</td>\n",
       "      <td>[2, 1427, 1382, 3, 0, 0, 0, 0, 0, 0, 0, 0, 0, 0, 0, 0]</td>\n",
       "      <td>[[CLS], won, ##der, [SEP], [PAD], [PAD], [PAD], [PAD], [PAD], [PAD], [PAD], [PAD], [PAD], [PAD], [PAD], [PAD]]</td>\n",
       "      <td>[O, B-BRAND, I-BRAND, O, O, O, O, O, O, O, O, O, O, O, O, O]</td>\n",
       "      <td>[O, B-TYPE, I-TYPE, O, O, O, O, O, O, O, O, O, O, O, O, O]</td>\n",
       "      <td>[{'start_index': 0, 'end_index': 6, 'entity': 'B-TYPE', 'word': 'wonder'}]</td>\n",
       "      <td>False</td>\n",
       "    </tr>\n",
       "  </tbody>\n",
       "</table>\n",
       "</div>"
      ],
      "text/plain": [
       "                                sample  \\\n",
       "2259               прянк медвй тульскй   \n",
       "944               зефир шармэль 280 gr   \n",
       "2780                             Швепс   \n",
       "2195           куриное филе для салата   \n",
       "1744             мармелад haribo 100 g   \n",
       "1161                libresse прокладки   \n",
       "2499                            бензин   \n",
       "2078            мороженое чистая линия   \n",
       "1726  дай морковь мытая пятёрочка 1 кг   \n",
       "2953                            wonder   \n",
       "\n",
       "                                                    annotation   df_label  \\\n",
       "2259      [(0, 6, B-TYPE), (7, 13, I-TYPE), (14, 22, B-BRAND)]  synthetic   \n",
       "944     [(0, 5, B-TYPE), (6, 13, B-BRAND), (14, 20, B-VOLUME)]  synthetic   \n",
       "2780                                         [(0, 6, B-BRAND)]  synthetic   \n",
       "2195     [(0, 13, B-TYPE), (14, 17, I-TYPE), (18, 24, I-TYPE)]  synthetic   \n",
       "1744    [(0, 8, B-TYPE), (9, 15, B-BRAND), (16, 20, B-VOLUME)]  synthetic   \n",
       "1161                        [(0, 8, B-BRAND), (9, 18, B-TYPE)]         x5   \n",
       "2499                                          [(0, 6, B-TYPE)]         x5   \n",
       "2078   [(0, 10, B-TYPE), (11, 17, B-BRAND), (18, 23, I-BRAND)]  synthetic   \n",
       "1726  [(4, 11, B-TYPE), (19, 28, B-BRAND), (29, 33, B-VOLUME)]  synthetic   \n",
       "2953                                         [(0, 6, B-BRAND)]  synthetic   \n",
       "\n",
       "                                                                  tokens_ids_debug  \\\n",
       "2259    [2, 53709, 865, 29881, 887, 775, 11997, 1903, 3413, 775, 3, 0, 0, 0, 0, 0]   \n",
       "944      [2, 319, 16411, 7100, 29134, 656, 12242, 4770, 9708, 3, 0, 0, 0, 0, 0, 0]   \n",
       "2780                      [2, 43527, 44092, 3, 0, 0, 0, 0, 0, 0, 0, 0, 0, 0, 0, 0]   \n",
       "2195             [2, 31855, 2182, 74900, 871, 76688, 3, 0, 0, 0, 0, 0, 0, 0, 0, 0]   \n",
       "1744         [2, 33839, 3277, 15510, 827, 4670, 559, 793, 74, 3, 0, 0, 0, 0, 0, 0]   \n",
       "1161                 [2, 27093, 9789, 538, 70533, 3, 0, 0, 0, 0, 0, 0, 0, 0, 0, 0]   \n",
       "2499                          [2, 38390, 3, 0, 0, 0, 0, 0, 0, 0, 0, 0, 0, 0, 0, 0]   \n",
       "2078                  [2, 71647, 50820, 14037, 3, 0, 0, 0, 0, 0, 0, 0, 0, 0, 0, 0]   \n",
       "1726  [2, 38926, 62148, 11521, 16973, 82870, 27320, 21, 7295, 3, 0, 0, 0, 0, 0, 0]   \n",
       "2953                        [2, 1427, 1382, 3, 0, 0, 0, 0, 0, 0, 0, 0, 0, 0, 0, 0]   \n",
       "\n",
       "                                                                                                          tokens_text_debug  \\\n",
       "2259                       [[CLS], прян, ##к, мед, ##в, ##й, ту, ##ль, ##ск, ##й, [SEP], [PAD], [PAD], [PAD], [PAD], [PAD]]   \n",
       "944                       [[CLS], з, ##еф, ##ир, шар, ##м, ##эль, 280, gr, [SEP], [PAD], [PAD], [PAD], [PAD], [PAD], [PAD]]   \n",
       "2780          [[CLS], Шве, ##пс, [SEP], [PAD], [PAD], [PAD], [PAD], [PAD], [PAD], [PAD], [PAD], [PAD], [PAD], [PAD], [PAD]]   \n",
       "2195          [[CLS], кури, ##ное, филе, для, салата, [SEP], [PAD], [PAD], [PAD], [PAD], [PAD], [PAD], [PAD], [PAD], [PAD]]   \n",
       "1744                     [[CLS], мар, ##ме, ##лад, har, ##ib, ##o, 100, g, [SEP], [PAD], [PAD], [PAD], [PAD], [PAD], [PAD]]   \n",
       "1161      [[CLS], lib, ##ress, ##e, прокладки, [SEP], [PAD], [PAD], [PAD], [PAD], [PAD], [PAD], [PAD], [PAD], [PAD], [PAD]]   \n",
       "2499      [[CLS], бензин, [SEP], [PAD], [PAD], [PAD], [PAD], [PAD], [PAD], [PAD], [PAD], [PAD], [PAD], [PAD], [PAD], [PAD]]   \n",
       "2078  [[CLS], мороженое, чистая, линия, [SEP], [PAD], [PAD], [PAD], [PAD], [PAD], [PAD], [PAD], [PAD], [PAD], [PAD], [PAD]]   \n",
       "1726                [[CLS], дай, морковь, мы, ##тая, пятёр, ##очка, 1, кг, [SEP], [PAD], [PAD], [PAD], [PAD], [PAD], [PAD]]   \n",
       "2953         [[CLS], won, ##der, [SEP], [PAD], [PAD], [PAD], [PAD], [PAD], [PAD], [PAD], [PAD], [PAD], [PAD], [PAD], [PAD]]   \n",
       "\n",
       "                                                                                          labels_debug  \\\n",
       "2259  [O, B-TYPE, I-TYPE, I-TYPE, I-TYPE, I-TYPE, I-TYPE, B-BRAND, I-BRAND, I-BRAND, O, O, O, O, O, O]   \n",
       "944    [O, B-TYPE, I-TYPE, I-TYPE, B-BRAND, I-BRAND, I-BRAND, B-VOLUME, I-VOLUME, O, O, O, O, O, O, O]   \n",
       "2780                                      [O, B-BRAND, I-BRAND, O, O, O, O, O, O, O, O, O, O, O, O, O]   \n",
       "2195                         [O, B-TYPE, I-TYPE, I-TYPE, I-TYPE, I-TYPE, O, O, O, O, O, O, O, O, O, O]   \n",
       "1744          [O, B-TYPE, I-TYPE, I-TYPE, B-BRAND, I-BRAND, I-BRAND, B-VOLUME, O, O, O, O, O, O, O, O]   \n",
       "1161                           [O, B-BRAND, I-BRAND, I-BRAND, B-TYPE, O, O, O, O, O, O, O, O, O, O, O]   \n",
       "2499                                             [O, B-TYPE, O, O, O, O, O, O, O, O, O, O, O, O, O, O]   \n",
       "2078                                 [O, B-TYPE, B-BRAND, I-BRAND, O, O, O, O, O, O, O, O, O, O, O, O]   \n",
       "1726                          [O, O, B-TYPE, O, O, B-BRAND, I-BRAND, O, B-VOLUME, O, O, O, O, O, O, O]   \n",
       "2953                                      [O, B-BRAND, I-BRAND, O, O, O, O, O, O, O, O, O, O, O, O, O]   \n",
       "\n",
       "                                                                                          pred_labels  \\\n",
       "2259    [O, B-TYPE, I-TYPE, I-TYPE, I-TYPE, I-TYPE, I-TYPE, I-TYPE, I-TYPE, I-TYPE, O, O, O, O, O, O]   \n",
       "944   [O, B-TYPE, I-TYPE, I-TYPE, B-BRAND, I-BRAND, I-BRAND, B-VOLUME, I-VOLUME, O, O, O, O, O, O, O]   \n",
       "2780                                     [O, B-BRAND, I-BRAND, O, O, O, O, O, O, O, O, O, O, O, O, O]   \n",
       "2195                        [O, B-TYPE, I-TYPE, I-TYPE, I-TYPE, I-TYPE, O, O, O, O, O, O, O, O, O, O]   \n",
       "1744  [O, B-TYPE, I-TYPE, I-TYPE, B-BRAND, I-BRAND, I-BRAND, B-VOLUME, I-VOLUME, O, O, O, O, O, O, O]   \n",
       "1161                         [O, B-BRAND, I-BRAND, I-BRAND, I-BRAND, O, O, O, O, O, O, O, O, O, O, O]   \n",
       "2499                                           [O, B-BRAND, O, O, O, O, O, O, O, O, O, O, O, O, O, O]   \n",
       "2078                                [O, B-TYPE, B-BRAND, I-BRAND, O, O, O, O, O, O, O, O, O, O, O, O]   \n",
       "1726       [O, O, B-TYPE, I-TYPE, I-TYPE, B-VOLUME, I-BRAND, B-VOLUME, I-VOLUME, O, O, O, O, O, O, O]   \n",
       "2953                                       [O, B-TYPE, I-TYPE, O, O, O, O, O, O, O, O, O, O, O, O, O]   \n",
       "\n",
       "                                                                                                                                                                                                                                                                                                                                                                                                                                                           entities  \\\n",
       "2259                                                                                                                                                                                                                               [{'start_index': 0, 'end_index': 5, 'entity': 'B-TYPE', 'word': 'прянк'}, {'start_index': 6, 'end_index': 11, 'entity': 'I-TYPE', 'word': 'медвй'}, {'start_index': 12, 'end_index': 19, 'entity': 'I-TYPE', 'word': 'тульскй'}]   \n",
       "944                                                                                                                                                     [{'start_index': 0, 'end_index': 5, 'entity': 'B-TYPE', 'word': 'зефир'}, {'start_index': 6, 'end_index': 13, 'entity': 'B-BRAND', 'word': 'шармэль'}, {'start_index': 14, 'end_index': 17, 'entity': 'B-VOLUME', 'word': '280'}, {'start_index': 18, 'end_index': 20, 'entity': 'I-VOLUME', 'word': 'gr'}]   \n",
       "2780                                                                                                                                                                                                                                                                                                                                                                                     [{'start_index': 0, 'end_index': 5, 'entity': 'B-BRAND', 'word': 'Швепс'}]   \n",
       "2195                                                                                                                                                      [{'start_index': 0, 'end_index': 7, 'entity': 'B-TYPE', 'word': 'куриное'}, {'start_index': 8, 'end_index': 12, 'entity': 'I-TYPE', 'word': 'филе'}, {'start_index': 13, 'end_index': 16, 'entity': 'I-TYPE', 'word': 'для'}, {'start_index': 17, 'end_index': 23, 'entity': 'I-TYPE', 'word': 'салата'}]   \n",
       "1744                                                                                                                                                   [{'start_index': 0, 'end_index': 8, 'entity': 'B-TYPE', 'word': 'мармелад'}, {'start_index': 9, 'end_index': 15, 'entity': 'B-BRAND', 'word': 'haribo'}, {'start_index': 16, 'end_index': 19, 'entity': 'B-VOLUME', 'word': '100'}, {'start_index': 20, 'end_index': 21, 'entity': 'I-VOLUME', 'word': 'g'}]   \n",
       "1161                                                                                                                                                                                                                                                                                                   [{'start_index': 0, 'end_index': 8, 'entity': 'B-BRAND', 'word': 'libresse'}, {'start_index': 9, 'end_index': 18, 'entity': 'I-BRAND', 'word': 'прокладки'}]   \n",
       "2499                                                                                                                                                                                                                                                                                                                                                                                    [{'start_index': 0, 'end_index': 6, 'entity': 'B-BRAND', 'word': 'бензин'}]   \n",
       "2078                                                                                                                                                                                                                         [{'start_index': 0, 'end_index': 9, 'entity': 'B-TYPE', 'word': 'мороженое'}, {'start_index': 10, 'end_index': 16, 'entity': 'B-BRAND', 'word': 'чистая'}, {'start_index': 17, 'end_index': 22, 'entity': 'I-BRAND', 'word': 'линия'}]   \n",
       "1726  [{'start_index': 0, 'end_index': 3, 'entity': 'O', 'word': 'дай'}, {'start_index': 4, 'end_index': 11, 'entity': 'B-TYPE', 'word': 'морковь'}, {'start_index': 12, 'end_index': 17, 'entity': 'I-TYPE', 'word': 'мытая'}, {'start_index': 18, 'end_index': 27, 'entity': 'B-VOLUME', 'word': 'пятёрочка'}, {'start_index': 28, 'end_index': 29, 'entity': 'B-VOLUME', 'word': '1'}, {'start_index': 30, 'end_index': 32, 'entity': 'I-VOLUME', 'word': 'кг'}]   \n",
       "2953                                                                                                                                                                                                                                                                                                                                                                                     [{'start_index': 0, 'end_index': 6, 'entity': 'B-TYPE', 'word': 'wonder'}]   \n",
       "\n",
       "      is_correct  \n",
       "2259       False  \n",
       "944        False  \n",
       "2780       False  \n",
       "2195       False  \n",
       "1744       False  \n",
       "1161       False  \n",
       "2499       False  \n",
       "2078       False  \n",
       "1726       False  \n",
       "2953       False  "
      ]
     },
     "execution_count": 227,
     "metadata": {},
     "output_type": "execute_result"
    }
   ],
   "source": [
    "df_false = test_dataset.df[test_dataset.df[\"is_correct\"] == False]\n",
    "df_false.sample(10)"
   ]
  },
  {
   "cell_type": "markdown",
   "id": "9564de35",
   "metadata": {},
   "source": [
    "# Визуализация по типам"
   ]
  },
  {
   "cell_type": "code",
   "execution_count": 228,
   "id": "fdea6a1e",
   "metadata": {},
   "outputs": [],
   "source": [
    "def aggregate_entities(dataset):\n",
    "    entity_embs = []\n",
    "    entity_labels = []\n",
    "    entity_texts = []\n",
    "\n",
    "    for i, row in dataset.df.iterrows():\n",
    "        words = dataset._embeddings[i][\"words\"]\n",
    "        entropies = dataset._entropies[i][\"words\"]\n",
    "        entities = row[\"entities\"]\n",
    "\n",
    "        for ent in entities:\n",
    "            if ent[\"entity\"] == \"O\":\n",
    "                continue\n",
    "\n",
    "            start, end = ent[\"start_index\"], ent[\"end_index\"]\n",
    "            ent_label = ent[\"entity\"].split(\"-\", 1)[-1]\n",
    "            ent_text = ent.get(\"word\", row[\"sample\"][start:end])\n",
    "\n",
    "            word_vecs = [w[\"emb\"] for w in words if w[\"start\"] >= start and w[\"end\"] <= end]\n",
    "            if not word_vecs:\n",
    "                continue\n",
    "\n",
    "            ent_vec = torch.stack(word_vecs).mean(dim=0).numpy()\n",
    "            entity_embs.append(ent_vec)\n",
    "            entity_labels.append(ent_label)\n",
    "            entity_texts.append(ent_text)\n",
    "\n",
    "    entity_df = pd.DataFrame({\n",
    "        \"entity_text\": entity_texts,\n",
    "        \"entity_label\": entity_labels\n",
    "    })\n",
    "    return np.stack(entity_embs), entity_df\n"
   ]
  },
  {
   "cell_type": "code",
   "execution_count": 229,
   "id": "b04df8f3",
   "metadata": {},
   "outputs": [
    {
     "name": "stdout",
     "output_type": "stream",
     "text": [
      "[t-SNE] Computing 91 nearest neighbors...\n",
      "[t-SNE] Indexed 5379 samples in 0.001s...\n",
      "[t-SNE] Computed neighbors for 5379 samples in 0.594s...\n",
      "[t-SNE] Computed conditional probabilities for sample 1000 / 5379\n",
      "[t-SNE] Computed conditional probabilities for sample 2000 / 5379\n",
      "[t-SNE] Computed conditional probabilities for sample 3000 / 5379\n",
      "[t-SNE] Computed conditional probabilities for sample 4000 / 5379\n",
      "[t-SNE] Computed conditional probabilities for sample 5000 / 5379\n",
      "[t-SNE] Computed conditional probabilities for sample 5379 / 5379\n",
      "[t-SNE] Mean sigma: 1.729720\n",
      "[t-SNE] KL divergence after 250 iterations with early exaggeration: 73.221306\n",
      "[t-SNE] KL divergence after 1000 iterations: 1.370677\n"
     ]
    },
    {
     "data": {
      "application/vnd.plotly.v1+json": {
       "config": {
        "plotlyServerURL": "https://plot.ly"
       },
       "data": [
        {
         "customdata": [
          [
           "селянский",
           "BRAND"
          ],
          [
           "пасты",
           "BRAND"
          ],
          [
           "кружки",
           "BRAND"
          ],
          [
           "apoll",
           "BRAND"
          ],
          [
           "nutrilac",
           "BRAND"
          ],
          [
           "станция",
           "BRAND"
          ],
          [
           "федикс",
           "BRAND"
          ],
          [
           "хрусteam",
           "BRAND"
          ],
          [
           "colag",
           "BRAND"
          ],
          [
           "красная",
           "BRAND"
          ],
          [
           "цена",
           "BRAND"
          ],
          [
           "фруто",
           "BRAND"
          ],
          [
           "няня",
           "BRAND"
          ],
          [
           "морозк",
           "BRAND"
          ],
          [
           "зерница",
           "BRAND"
          ],
          [
           "station",
           "BRAND"
          ],
          [
           "быстроразваривающееся",
           "BRAND"
          ],
          [
           "vision",
           "BRAND"
          ],
          [
           "слово",
           "BRAND"
          ],
          [
           "лейс",
           "BRAND"
          ],
          [
           "барбекю",
           "BRAND"
          ],
          [
           "pingvin",
           "BRAND"
          ],
          [
           "primani",
           "BRAND"
          ],
          [
           "си",
           "BRAND"
          ],
          [
           "бон",
           "BRAND"
          ],
          [
           "flale",
           "BRAND"
          ],
          [
           "самсунг",
           "BRAND"
          ],
          [
           "веле",
           "BRAND"
          ],
          [
           "растителтное",
           "BRAND"
          ],
          [
           "milkway",
           "BRAND"
          ],
          [
           "коллекци",
           "BRAND"
          ],
          [
           "lay",
           "BRAND"
          ],
          [
           "ros",
           "BRAND"
          ],
          [
           "славянский",
           "BRAND"
          ],
          [
           "дымов",
           "BRAND"
          ],
          [
           "мартин",
           "BRAND"
          ],
          [
           "снигири",
           "BRAND"
          ],
          [
           "limone",
           "BRAND"
          ],
          [
           "шишкин",
           "BRAND"
          ],
          [
           "petra",
           "BRAND"
          ],
          [
           "gudmix",
           "BRAND"
          ],
          [
           "melissa",
           "BRAND"
          ],
          [
           "еще",
           "BRAND"
          ],
          [
           "coca-cola",
           "BRAND"
          ],
          [
           "архимед",
           "BRAND"
          ],
          [
           "botani",
           "BRAND"
          ],
          [
           "berilla",
           "BRAND"
          ],
          [
           "джирандоле",
           "BRAND"
          ],
          [
           "lays",
           "BRAND"
          ],
          [
           "тихоокеанские",
           "BRAND"
          ],
          [
           "натуральные",
           "BRAND"
          ],
          [
           "aquaftesh",
           "BRAND"
          ],
          [
           "моя",
           "BRAND"
          ],
          [
           "семья",
           "BRAND"
          ],
          [
           "крушовице",
           "BRAND"
          ],
          [
           "marv",
           "BRAND"
          ],
          [
           "русская",
           "BRAND"
          ],
          [
           "феликс",
           "BRAND"
          ],
          [
           "vers",
           "BRAND"
          ],
          [
           "koni",
           "BRAND"
          ],
          [
           "bref",
           "BRAND"
          ],
          [
           "tami",
           "BRAND"
          ],
          [
           "larsen",
           "BRAND"
          ],
          [
           "маков",
           "BRAND"
          ],
          [
           "новая",
           "BRAND"
          ],
          [
           "заря",
           "BRAND"
          ],
          [
           "choho",
           "BRAND"
          ],
          [
           "nistogen",
           "BRAND"
          ],
          [
           "велком",
           "BRAND"
          ],
          [
           "копченый",
           "BRAND"
          ],
          [
           "tolly",
           "BRAND"
          ],
          [
           "пресидент",
           "BRAND"
          ],
          [
           "gla",
           "BRAND"
          ],
          [
           "kitelat",
           "BRAND"
          ],
          [
           "большой",
           "BRAND"
          ],
          [
           "вкус",
           "BRAND"
          ],
          [
           "н",
           "BRAND"
          ],
          [
           "garling",
           "BRAND"
          ],
          [
           "милки",
           "BRAND"
          ],
          [
           "titbit",
           "BRAND"
          ],
          [
           "эко",
           "BRAND"
          ],
          [
           "чу",
           "BRAND"
          ],
          [
           "passion",
           "BRAND"
          ],
          [
           "fruit",
           "BRAND"
          ],
          [
           "lavazza",
           "BRAND"
          ],
          [
           "кармаели",
           "BRAND"
          ],
          [
           "белая",
           "BRAND"
          ],
          [
           "линия",
           "BRAND"
          ],
          [
           "absolu",
           "BRAND"
          ],
          [
           "boyari",
           "BRAND"
          ],
          [
           "hort",
           "BRAND"
          ],
          [
           "marker",
           "BRAND"
          ],
          [
           "без",
           "BRAND"
          ],
          [
           "van",
           "BRAND"
          ],
          [
           "kot",
           "BRAND"
          ],
          [
           "spicexper",
           "BRAND"
          ],
          [
           "eld",
           "BRAND"
          ],
          [
           "шармэль",
           "BRAND"
          ],
          [
           "бабаевский",
           "BRAND"
          ],
          [
           "насыпью",
           "BRAND"
          ],
          [
           "makf",
           "BRAND"
          ],
          [
           "валио",
           "BRAND"
          ],
          [
           "сливочное",
           "BRAND"
          ],
          [
           "форва",
           "BRAND"
          ],
          [
           "lemonatti",
           "BRAND"
          ],
          [
           "колибри",
           "BRAND"
          ],
          [
           "если",
           "BRAND"
          ],
          [
           "ti",
           "BRAND"
          ],
          [
           "га",
           "BRAND"
          ],
          [
           "barni",
           "BRAND"
          ],
          [
           "с",
           "BRAND"
          ],
          [
           "мэт",
           "BRAND"
          ],
          [
           "bratz",
           "BRAND"
          ],
          [
           "тысяча",
           "BRAND"
          ],
          [
           "озёр",
           "BRAND"
          ],
          [
           "велком",
           "BRAND"
          ],
          [
           "korn",
           "BRAND"
          ],
          [
           "луч",
           "BRAND"
          ],
          [
           "увелка",
           "BRAND"
          ],
          [
           "palmolive",
           "BRAND"
          ],
          [
           "kozelki",
           "BRAND"
          ],
          [
           "болг",
           "BRAND"
          ],
          [
           "залапеньо",
           "BRAND"
          ],
          [
           "artfruit",
           "BRAND"
          ],
          [
           "активиа",
           "BRAND"
          ],
          [
           "фрутон",
           "BRAND"
          ],
          [
           "maxfan",
           "BRAND"
          ],
          [
           "fialco",
           "BRAND"
          ],
          [
           "огородников",
           "BRAND"
          ],
          [
           "monin",
           "BRAND"
          ],
          [
           "nordlan",
           "BRAND"
          ],
          [
           "э",
           "BRAND"
          ],
          [
           "производство",
           "BRAND"
          ],
          [
           "амперса",
           "BRAND"
          ],
          [
           "черемушки",
           "BRAND"
          ],
          [
           "du",
           "BRAND"
          ],
          [
           "gelios",
           "BRAND"
          ],
          [
           "эра",
           "BRAND"
          ],
          [
           "русалочка",
           "BRAND"
          ],
          [
           "siofor",
           "BRAND"
          ],
          [
           "snickers",
           "BRAND"
          ],
          [
           "cruncher",
           "BRAND"
          ],
          [
           "савушкин",
           "BRAND"
          ],
          [
           "романи",
           "BRAND"
          ],
          [
           "серну",
           "BRAND"
          ],
          [
           "epic",
           "BRAND"
          ],
          [
           "добрый",
           "BRAND"
          ],
          [
           "апельсин",
           "BRAND"
          ],
          [
           "добродел",
           "BRAND"
          ],
          [
           "хэзефир",
           "BRAND"
          ],
          [
           "стм",
           "BRAND"
          ],
          [
           "lenor",
           "BRAND"
          ],
          [
           "fresh",
           "BRAND"
          ],
          [
           "jelli",
           "BRAND"
          ],
          [
           "арктик",
           "BRAND"
          ],
          [
           "нескафе",
           "BRAND"
          ],
          [
           "золотой",
           "BRAND"
          ],
          [
           "рог",
           "BRAND"
          ],
          [
           "барное",
           "BRAND"
          ],
          [
           "hortex",
           "BRAND"
          ],
          [
           "узбек",
           "BRAND"
          ],
          [
           "naturella",
           "BRAND"
          ],
          [
           "origam",
           "BRAND"
          ],
          [
           "российск",
           "BRAND"
          ],
          [
           "domesti",
           "BRAND"
          ],
          [
           "coco",
           "BRAND"
          ],
          [
           "полимерб",
           "BRAND"
          ],
          [
           "inluenebeauty",
           "BRAND"
          ],
          [
           "белактозный",
           "BRAND"
          ],
          [
           "петрохлеб",
           "BRAND"
          ],
          [
           "pacl",
           "BRAND"
          ],
          [
           "cherkizovo",
           "BRAND"
          ],
          [
           "белый",
           "BRAND"
          ],
          [
           "биифдок",
           "BRAND"
          ],
          [
           "агрокомплекс",
           "BRAND"
          ],
          [
           "relance",
           "BRAND"
          ],
          [
           "speleno",
           "BRAND"
          ],
          [
           "salton",
           "BRAND"
          ],
          [
           "савушкин",
           "BRAND"
          ],
          [
           "продукт",
           "BRAND"
          ],
          [
           "монстрр",
           "BRAND"
          ],
          [
           "редбулл",
           "BRAND"
          ],
          [
           "биф",
           "BRAND"
          ],
          [
           "хрусteam",
           "BRAND"
          ],
          [
           "гале",
           "BRAND"
          ],
          [
           "sonne",
           "BRAND"
          ],
          [
           "черкизово",
           "BRAND"
          ],
          [
           "сливочые",
           "BRAND"
          ],
          [
           "collonil",
           "BRAND"
          ],
          [
           "агро-белогорье",
           "BRAND"
          ],
          [
           "атрасы",
           "BRAND"
          ],
          [
           "б.ю.алексанрв",
           "BRAND"
          ],
          [
           "колибри",
           "BRAND"
          ],
          [
           "bima",
           "BRAND"
          ],
          [
           "luxus",
           "BRAND"
          ],
          [
           "царицын",
           "BRAND"
          ],
          [
           "семиренко",
           "BRAND"
          ],
          [
           "перекресток",
           "BRAND"
          ],
          [
           "imunelle",
           "BRAND"
          ],
          [
           "союзмультфильм",
           "BRAND"
          ],
          [
           "золотой",
           "BRAND"
          ],
          [
           "петушок",
           "BRAND"
          ],
          [
           "ростительное",
           "BRAND"
          ],
          [
           "unic-toy",
           "BRAND"
          ],
          [
           "бекон",
           "BRAND"
          ],
          [
           "мираторг",
           "BRAND"
          ],
          [
           "cerve",
           "BRAND"
          ],
          [
           "экоптица",
           "BRAND"
          ],
          [
           "махеев",
           "BRAND"
          ],
          [
           "журавли",
           "BRAND"
          ],
          [
           "таврия",
           "BRAND"
          ],
          [
           "сызран",
           "BRAND"
          ],
          [
           "коровка",
           "BRAND"
          ],
          [
           "air",
           "BRAND"
          ],
          [
           "мальвина",
           "BRAND"
          ],
          [
           "добрый",
           "BRAND"
          ],
          [
           "biomio",
           "BRAND"
          ],
          [
           "бела",
           "BRAND"
          ],
          [
           "сады",
           "BRAND"
          ],
          [
           "придонья",
           "BRAND"
          ],
          [
           "kids",
           "BRAND"
          ],
          [
           "papadimitriou",
           "BRAND"
          ],
          [
           "зеленые",
           "BRAND"
          ],
          [
           "узбекистан",
           "BRAND"
          ],
          [
           "атру",
           "BRAND"
          ],
          [
           "oelki",
           "BRAND"
          ],
          [
           "milla",
           "BRAND"
          ],
          [
           "мэтр",
           "BRAND"
          ],
          [
           "hortex",
           "BRAND"
          ],
          [
           "mars",
           "BRAND"
          ],
          [
           "азовская",
           "BRAND"
          ],
          [
           "chappie",
           "BRAND"
          ],
          [
           "j7",
           "BRAND"
          ],
          [
           "слада",
           "BRAND"
          ],
          [
           "picknik",
           "BRAND"
          ],
          [
           "н",
           "BRAND"
          ],
          [
           "фруто",
           "BRAND"
          ],
          [
           "няня",
           "BRAND"
          ],
          [
           "тендер",
           "BRAND"
          ],
          [
           "агро-алья",
           "BRAND"
          ],
          [
           "setra",
           "BRAND"
          ],
          [
           "бон",
           "BRAND"
          ],
          [
           "пари",
           "BRAND"
          ],
          [
           "basilur",
           "BRAND"
          ],
          [
           "ча",
           "BRAND"
          ],
          [
           "агуша",
           "BRAND"
          ],
          [
           "призе",
           "BRAND"
          ],
          [
           "maree",
           "BRAND"
          ],
          [
           "иммунел",
           "BRAND"
          ],
          [
           "каждый",
           "BRAND"
          ],
          [
           "день",
           "BRAND"
          ],
          [
           "paclan",
           "BRAND"
          ],
          [
           "нф",
           "BRAND"
          ],
          [
           "ферреро",
           "BRAND"
          ],
          [
           "роше",
           "BRAND"
          ],
          [
           "sweza",
           "BRAND"
          ],
          [
           "panten",
           "BRAND"
          ],
          [
           "espeesso",
           "BRAND"
          ],
          [
           "bonneter",
           "BRAND"
          ],
          [
           "юбилейное",
           "BRAND"
          ],
          [
           "colloni",
           "BRAND"
          ],
          [
           "sunergeti",
           "BRAND"
          ],
          [
           "либхерр",
           "BRAND"
          ],
          [
           "Орео",
           "BRAND"
          ],
          [
           "н",
           "BRAND"
          ],
          [
           "барье",
           "BRAND"
          ],
          [
           "роти",
           "BRAND"
          ],
          [
           "botani",
           "BRAND"
          ],
          [
           "сладкий",
           "BRAND"
          ],
          [
           "scoch-brit",
           "BRAND"
          ],
          [
           "gillet",
           "BRAND"
          ],
          [
           "valio",
           "BRAND"
          ],
          [
           "фрутояння",
           "BRAND"
          ],
          [
           "деликат",
           "BRAND"
          ],
          [
           "стм",
           "BRAND"
          ],
          [
           "№1",
           "BRAND"
          ],
          [
           "лебец",
           "BRAND"
          ],
          [
           "unit",
           "BRAND"
          ],
          [
           "sanifor",
           "BRAND"
          ],
          [
           "жупиков",
           "BRAND"
          ],
          [
           "paclan",
           "BRAND"
          ],
          [
           "тор",
           "BRAND"
          ],
          [
           "rich",
           "BRAND"
          ],
          [
           "дома",
           "BRAND"
          ],
          [
           "nescafe",
           "BRAND"
          ],
          [
           "асто",
           "BRAND"
          ],
          [
           "торес",
           "BRAND"
          ],
          [
           "ДомикВДеревне",
           "BRAND"
          ],
          [
           "славянский",
           "BRAND"
          ],
          [
           "royal",
           "BRAND"
          ],
          [
           "хлебосольный",
           "BRAND"
          ],
          [
           "путина",
           "BRAND"
          ],
          [
           "pomsticks",
           "BRAND"
          ],
          [
           "ferplast",
           "BRAND"
          ],
          [
           "шармэль",
           "BRAND"
          ],
          [
           "glade",
           "BRAND"
          ],
          [
           "саше",
           "BRAND"
          ],
          [
           "royal",
           "BRAND"
          ],
          [
           "фрикадель",
           "BRAND"
          ],
          [
           "rokler",
           "BRAND"
          ],
          [
           "даниловский",
           "BRAND"
          ],
          [
           "миратор",
           "BRAND"
          ],
          [
           "energy",
           "BRAND"
          ],
          [
           "каранд",
           "BRAND"
          ],
          [
           "barbi",
           "BRAND"
          ],
          [
           "lipton",
           "BRAND"
          ],
          [
           "green",
           "BRAND"
          ],
          [
           "hatbe",
           "BRAND"
          ],
          [
           "миф",
           "BRAND"
          ],
          [
           "zoom",
           "BRAND"
          ],
          [
           "мурзик",
           "BRAND"
          ],
          [
           "пр!",
           "BRAND"
          ],
          [
           "кубанский",
           "BRAND"
          ],
          [
           "bled",
           "BRAND"
          ],
          [
           "милка",
           "BRAND"
          ],
          [
           "Юбилейное",
           "BRAND"
          ],
          [
           "mosselma",
           "BRAND"
          ],
          [
           "cameli",
           "BRAND"
          ],
          [
           "essa",
           "BRAND"
          ],
          [
           "черкизово",
           "BRAND"
          ],
          [
           "союзпищепром",
           "BRAND"
          ],
          [
           "производство",
           "BRAND"
          ],
          [
           "звездочка",
           "BRAND"
          ],
          [
           "акконд",
           "BRAND"
          ],
          [
           "huggies",
           "BRAND"
          ],
          [
           "felixp",
           "BRAND"
          ],
          [
           "nescaf",
           "BRAND"
          ],
          [
           "mirel",
           "BRAND"
          ],
          [
           "хоуланд",
           "BRAND"
          ],
          [
           "pr.choice",
           "BRAND"
          ],
          [
           "таврия",
           "BRAND"
          ],
          [
           "premial",
           "BRAND"
          ],
          [
           "махеев",
           "BRAND"
          ],
          [
           "berli",
           "BRAND"
          ],
          [
           "нпро",
           "BRAND"
          ],
          [
           "mif",
           "BRAND"
          ],
          [
           "кислародн",
           "BRAND"
          ],
          [
           "garnier",
           "BRAND"
          ],
          [
           "130",
           "BRAND"
          ],
          [
           "va",
           "BRAND"
          ],
          [
           "cherry",
           "BRAND"
          ],
          [
           "зеленая",
           "BRAND"
          ],
          [
           "марка",
           "BRAND"
          ],
          [
           "честный",
           "BRAND"
          ],
          [
           "состав",
           "BRAND"
          ],
          [
           "атрус",
           "BRAND"
          ],
          [
           "студн",
           "BRAND"
          ],
          [
           "haribo",
           "BRAND"
          ],
          [
           "бело",
           "BRAND"
          ],
          [
           "tond",
           "BRAND"
          ],
          [
           "альпен",
           "BRAND"
          ],
          [
           "голд",
           "BRAND"
          ],
          [
           "производство",
           "BRAND"
          ],
          [
           "риккота",
           "BRAND"
          ],
          [
           "штурвал",
           "BRAND"
          ],
          [
           "collonil",
           "BRAND"
          ],
          [
           "н",
           "BRAND"
          ],
          [
           "факелм",
           "BRAND"
          ],
          [
           "краснобор",
           "BRAND"
          ],
          [
           "челны-хлеб",
           "BRAND"
          ],
          [
           "libresse",
           "BRAND"
          ],
          [
           "прокладки",
           "BRAND"
          ],
          [
           "leberg",
           "BRAND"
          ],
          [
           "тольяттимолок",
           "BRAND"
          ],
          [
           "петелинка",
           "BRAND"
          ],
          [
           "crayola",
           "BRAND"
          ],
          [
           "ladograd",
           "BRAND"
          ],
          [
           "илецк",
           "BRAND"
          ],
          [
           "everes",
           "BRAND"
          ],
          [
           "нужна",
           "BRAND"
          ],
          [
           "мираторг",
           "BRAND"
          ],
          [
           "ладога",
           "BRAND"
          ],
          [
           "виталэнд",
           "BRAND"
          ],
          [
           "mo",
           "BRAND"
          ],
          [
           "nuttella",
           "BRAND"
          ],
          [
           "бкз",
           "BRAND"
          ],
          [
           "ex",
           "BRAND"
          ],
          [
           "фрутилки",
           "BRAND"
          ],
          [
           "эр",
           "BRAND"
          ],
          [
           "laplandia",
           "BRAND"
          ],
          [
           "prl",
           "BRAND"
          ],
          [
           "fishka",
           "BRAND"
          ],
          [
           "barrinof",
           "BRAND"
          ],
          [
           "fancy",
           "BRAND"
          ],
          [
           "сибирский",
           "BRAND"
          ],
          [
           "производство",
           "BRAND"
          ],
          [
           "yoplait",
           "BRAND"
          ],
          [
           "roya",
           "BRAND"
          ],
          [
           "crinkles",
           "BRAND"
          ],
          [
           "vici",
           "BRAND"
          ],
          [
           "jardin",
           "BRAND"
          ],
          [
           "сады",
           "BRAND"
          ],
          [
           "придонья",
           "BRAND"
          ],
          [
           "head",
           "BRAND"
          ],
          [
           "homepet",
           "BRAND"
          ],
          [
           "ариана",
           "BRAND"
          ],
          [
           "перекресток",
           "BRAND"
          ],
          [
           "беллини",
           "BRAND"
          ],
          [
           "эмкимо",
           "BRAND"
          ],
          [
           "русская",
           "BRAND"
          ],
          [
           "душа",
           "BRAND"
          ],
          [
           "botanica",
           "BRAND"
          ],
          [
           "chips",
           "BRAND"
          ],
          [
           "ahoy",
           "BRAND"
          ],
          [
           "байсад",
           "BRAND"
          ],
          [
           "toga",
           "BRAND"
          ],
          [
           "cykor",
           "BRAND"
          ],
          [
           "chooco",
           "BRAND"
          ],
          [
           "optioro",
           "BRAND"
          ],
          [
           "чистю",
           "BRAND"
          ],
          [
           "вкуснотее",
           "BRAND"
          ],
          [
           "окианская",
           "BRAND"
          ],
          [
           "exxe",
           "BRAND"
          ],
          [
           "sanpellegrino",
           "BRAND"
          ],
          [
           "cemo",
           "BRAND"
          ],
          [
           "крестьянское",
           "BRAND"
          ],
          [
           "dolce",
           "BRAND"
          ],
          [
           "milka",
           "BRAND"
          ],
          [
           "vicenzi",
           "BRAND"
          ],
          [
           "нф",
           "BRAND"
          ],
          [
           "vileda",
           "BRAND"
          ],
          [
           "chameleon",
           "BRAND"
          ],
          [
           "bi",
           "BRAND"
          ],
          [
           "сладко",
           "BRAND"
          ],
          [
           "б",
           "BRAND"
          ],
          [
           "ю",
           "BRAND"
          ],
          [
           "александров",
           "BRAND"
          ],
          [
           "простоквашино",
           "BRAND"
          ],
          [
           "русская",
           "BRAND"
          ],
          [
           "растишка",
           "BRAND"
          ],
          [
           "limonf",
           "BRAND"
          ],
          [
           "сызра",
           "BRAND"
          ],
          [
           "био",
           "BRAND"
          ],
          [
           "мистраль",
           "BRAND"
          ],
          [
           "мистраль",
           "BRAND"
          ],
          [
           "красавчи",
           "BRAND"
          ],
          [
           "salt",
           "BRAND"
          ],
          [
           "everve",
           "BRAND"
          ],
          [
           "большая",
           "BRAND"
          ],
          [
           "кружка",
           "BRAND"
          ],
          [
           "пестравк",
           "BRAND"
          ],
          [
           "русский",
           "BRAND"
          ],
          [
           "shvbr",
           "BRAND"
          ],
          [
           "myt",
           "BRAND"
          ],
          [
           "ahmad",
           "BRAND"
          ],
          [
           "tea",
           "BRAND"
          ],
          [
           "парфэ",
           "BRAND"
          ],
          [
           "малышо",
           "BRAND"
          ],
          [
           "fresco",
           "BRAND"
          ],
          [
           "реди",
           "BRAND"
          ],
          [
           "greent",
           "BRAND"
          ],
          [
           "дарница",
           "BRAND"
          ],
          [
           "соком",
           "BRAND"
          ],
          [
           "асус",
           "BRAND"
          ],
          [
           "боокколи",
           "BRAND"
          ],
          [
           "карава",
           "BRAND"
          ],
          [
           "белевсая",
           "BRAND"
          ],
          [
           "марк",
           "BRAND"
          ],
          [
           "berghof",
           "BRAND"
          ],
          [
           "happy",
           "BRAND"
          ],
          [
           "xlet",
           "BRAND"
          ],
          [
           "belvito",
           "BRAND"
          ],
          [
           "twisters",
           "BRAND"
          ],
          [
           "chudo",
           "BRAND"
          ],
          [
           "vasileosrovskoe",
           "BRAND"
          ],
          [
           "vol",
           "BRAND"
          ],
          [
           "globus",
           "BRAND"
          ],
          [
           "абрикосовое",
           "BRAND"
          ],
          [
           "унисон",
           "BRAND"
          ],
          [
           "тхк",
           "BRAND"
          ],
          [
           "ламбер",
           "BRAND"
          ],
          [
           "nutella",
           "BRAND"
          ],
          [
           "велком",
           "BRAND"
          ],
          [
           "си",
           "BRAND"
          ],
          [
           "бон",
           "BRAND"
          ],
          [
           "аня",
           "BRAND"
          ],
          [
           "тенде",
           "BRAND"
          ],
          [
           "сал",
           "BRAND"
          ],
          [
           "iberica",
           "BRAND"
          ],
          [
           "писка",
           "BRAND"
          ],
          [
           "ultra",
           "BRAND"
          ],
          [
           "КитКат",
           "BRAND"
          ],
          [
           "Баунти",
           "BRAND"
          ],
          [
           "Твикс",
           "BRAND"
          ],
          [
           "grazia",
           "BRAND"
          ],
          [
           "петрохле",
           "BRAND"
          ],
          [
           "symphon",
           "BRAND"
          ],
          [
           "mara",
           "BRAND"
          ],
          [
           "mivim",
           "BRAND"
          ],
          [
           "vanetto",
           "BRAND"
          ],
          [
           "ем",
           "BRAND"
          ],
          [
           "кинто",
           "BRAND"
          ],
          [
           "raindrop",
           "BRAND"
          ],
          [
           "тендер",
           "BRAND"
          ],
          [
           "cookies",
           "BRAND"
          ],
          [
           "эфес",
           "BRAND"
          ],
          [
           "пилснер",
           "BRAND"
          ],
          [
           "iska",
           "BRAND"
          ],
          [
           "basilur",
           "BRAND"
          ],
          [
           "производство",
           "BRAND"
          ],
          [
           "гиль",
           "BRAND"
          ],
          [
           "basillu",
           "BRAND"
          ],
          [
           "лондон",
           "BRAND"
          ],
          [
           "драй",
           "BRAND"
          ],
          [
           "gabriel",
           "BRAND"
          ],
          [
           "evian",
           "BRAND"
          ],
          [
           "natural",
           "BRAND"
          ],
          [
           "нф",
           "BRAND"
          ],
          [
           "vig",
           "BRAND"
          ],
          [
           "феликс",
           "BRAND"
          ],
          [
           "проф-пре",
           "BRAND"
          ],
          [
           "commodo",
           "BRAND"
          ],
          [
           "красная",
           "BRAND"
          ],
          [
           "цена",
           "BRAND"
          ],
          [
           "сам",
           "BRAND"
          ],
          [
           "leonord",
           "BRAND"
          ],
          [
           "Oreo",
           "BRAND"
          ],
          [
           "Milka",
           "BRAND"
          ],
          [
           "AlpenGold",
           "BRAND"
          ],
          [
           "растител",
           "BRAND"
          ],
          [
           "волжан",
           "BRAND"
          ],
          [
           "экопти",
           "BRAND"
          ],
          [
           "marta",
           "BRAND"
          ],
          [
           "барное",
           "BRAND"
          ],
          [
           "biomi",
           "BRAND"
          ],
          [
           "столична",
           "BRAND"
          ],
          [
           "hi",
           "BRAND"
          ],
          [
           "lioton",
           "BRAND"
          ],
          [
           "Tuborg",
           "BRAND"
          ],
          [
           "Guinness",
           "BRAND"
          ],
          [
           "Hoegaarden",
           "BRAND"
          ],
          [
           "черного",
           "BRAND"
          ],
          [
           "tef",
           "BRAND"
          ],
          [
           "беллин",
           "BRAND"
          ],
          [
           "пурин",
           "BRAND"
          ],
          [
           "данон",
           "BRAND"
          ],
          [
           "останкинская",
           "BRAND"
          ],
          [
           "нф",
           "BRAND"
          ],
          [
           "кристалл",
           "BRAND"
          ],
          [
           "colloni",
           "BRAND"
          ],
          [
           "чок",
           "BRAND"
          ],
          [
           "сады",
           "BRAND"
          ],
          [
           "придр",
           "BRAND"
          ],
          [
           "colgon",
           "BRAND"
          ],
          [
           "эдельвейс",
           "BRAND"
          ],
          [
           "colloni",
           "BRAND"
          ],
          [
           "curti",
           "BRAND"
          ],
          [
           "j7",
           "BRAND"
          ],
          [
           "миф",
           "BRAND"
          ],
          [
           "дружба",
           "BRAND"
          ],
          [
           "гурме",
           "BRAND"
          ],
          [
           "purederm",
           "BRAND"
          ],
          [
           "сейчас",
           "BRAND"
          ],
          [
           "сладк",
           "BRAND"
          ],
          [
           "кириешки",
           "BRAND"
          ],
          [
           "вкус",
           "BRAND"
          ],
          [
           "и",
           "BRAND"
          ],
          [
           "пр!ст",
           "BRAND"
          ],
          [
           "факелма",
           "BRAND"
          ],
          [
           "ремит",
           "BRAND"
          ],
          [
           "дарэл",
           "BRAND"
          ],
          [
           "националь",
           "BRAND"
          ],
          [
           "sanpellegri",
           "BRAND"
          ],
          [
           "neff",
           "BRAND"
          ],
          [
           "paclan",
           "BRAND"
          ],
          [
           "нф",
           "BRAND"
          ],
          [
           "kit",
           "BRAND"
          ],
          [
           "kat",
           "BRAND"
          ],
          [
           "corra",
           "BRAND"
          ],
          [
           "haribo",
           "BRAND"
          ],
          [
           "производство",
           "BRAND"
          ],
          [
           "starbucks",
           "BRAND"
          ],
          [
           "святой",
           "BRAND"
          ],
          [
           "фруто",
           "BRAND"
          ],
          [
           "няня",
           "BRAND"
          ],
          [
           "ка",
           "BRAND"
          ],
          [
           "гурме",
           "BRAND"
          ],
          [
           "pringles",
           "BRAND"
          ],
          [
           "delica",
           "BRAND"
          ],
          [
           "aplpen",
           "BRAND"
          ],
          [
           "ros",
           "BRAND"
          ],
          [
           "dee",
           "BRAND"
          ],
          [
           "greeno",
           "BRAND"
          ],
          [
           "велком",
           "BRAND"
          ],
          [
           "eco",
           "BRAND"
          ],
          [
           "pacl",
           "BRAND"
          ],
          [
           "zanussi",
           "BRAND"
          ],
          [
           "красная",
           "BRAND"
          ],
          [
           "цена",
           "BRAND"
          ],
          [
           "№1",
           "BRAND"
          ],
          [
           "газет",
           "BRAND"
          ],
          [
           "пекан",
           "BRAND"
          ],
          [
           "анко",
           "BRAND"
          ],
          [
           "mallony",
           "BRAND"
          ],
          [
           "eix",
           "BRAND"
          ],
          [
           "impor",
           "BRAND"
          ],
          [
           "bonarotte",
           "BRAND"
          ],
          [
           "danke",
           "BRAND"
          ],
          [
           "lays",
           "BRAND"
          ],
          [
           "мирато",
           "BRAND"
          ],
          [
           "iska",
           "BRAND"
          ],
          [
           "jacobs",
           "BRAND"
          ],
          [
           "botani",
           "BRAND"
          ],
          [
           "ри",
           "BRAND"
          ],
          [
           "алёнка",
           "BRAND"
          ],
          [
           "tamaki",
           "BRAND"
          ],
          [
           "пр!ст",
           "BRAND"
          ],
          [
           "зоо",
           "BRAND"
          ],
          [
           "bounty",
           "BRAND"
          ],
          [
           "mini",
           "BRAND"
          ],
          [
           "фреш",
           "BRAND"
          ],
          [
           "бар",
           "BRAND"
          ],
          [
           "тенд",
           "BRAND"
          ],
          [
           "gal",
           "BRAND"
          ],
          [
           "аак",
           "BRAND"
          ],
          [
           "lacalut",
           "BRAND"
          ],
          [
           "priman",
           "BRAND"
          ],
          [
           "doralisse",
           "BRAND"
          ],
          [
           "ключ",
           "BRAND"
          ],
          [
           "eco",
           "BRAND"
          ],
          [
           "джульвита",
           "BRAND"
          ],
          [
           "glob",
           "BRAND"
          ],
          [
           "серн",
           "BRAND"
          ],
          [
           "kotanyi",
           "BRAND"
          ],
          [
           "tefal",
           "BRAND"
          ],
          [
           "black",
           "BRAND"
          ],
          [
           "gold",
           "BRAND"
          ],
          [
           "maggi",
           "BRAND"
          ],
          [
           "парфэ",
           "BRAND"
          ],
          [
           "dr.bakers",
           "BRAND"
          ],
          [
           "бисокс",
           "BRAND"
          ],
          [
           "mif",
           "BRAND"
          ],
          [
           "belvita",
           "BRAND"
          ],
          [
           "красная",
           "BRAND"
          ],
          [
           "цена",
           "BRAND"
          ],
          [
           "массандра",
           "BRAND"
          ],
          [
           "badyart",
           "BRAND"
          ],
          [
           "нутрилон",
           "BRAND"
          ],
          [
           "essen",
           "BRAND"
          ],
          [
           "nest",
           "BRAND"
          ],
          [
           "дюни",
           "BRAND"
          ],
          [
           "attache",
           "BRAND"
          ],
          [
           "kami",
           "BRAND"
          ],
          [
           "royal",
           "BRAND"
          ],
          [
           "си",
           "BRAND"
          ],
          [
           "росжиг",
           "BRAND"
          ],
          [
           "коло",
           "BRAND"
          ],
          [
           "здрайверы",
           "BRAND"
          ],
          [
           "нф",
           "BRAND"
          ],
          [
           "ремит",
           "BRAND"
          ],
          [
           "станция",
           "BRAND"
          ],
          [
           "ладога",
           "BRAND"
          ],
          [
           "н",
           "BRAND"
          ],
          [
           "производство",
           "BRAND"
          ],
          [
           "ясно",
           "BRAND"
          ],
          [
           "солнышко",
           "BRAND"
          ],
          [
           "lowr",
           "BRAND"
          ],
          [
           "duni",
           "BRAND"
          ],
          [
           "perrier",
           "BRAND"
          ],
          [
           "морозко",
           "BRAND"
          ],
          [
           "недалеко",
           "BRAND"
          ],
          [
           "dolcetta",
           "BRAND"
          ],
          [
           "marlbor",
           "BRAND"
          ],
          [
           "milford",
           "BRAND"
          ],
          [
           "самсон",
           "BRAND"
          ],
          [
           "янта",
           "BRAND"
          ],
          [
           "dr.oetke",
           "BRAND"
          ],
          [
           "мойонкз",
           "BRAND"
          ],
          [
           "массандра",
           "BRAND"
          ],
          [
           "наутил",
           "BRAND"
          ],
          [
           "senergeti",
           "BRAND"
          ],
          [
           "thermos",
           "BRAND"
          ],
          [
           "кто-нибудь",
           "BRAND"
          ],
          [
           "парфэ",
           "BRAND"
          ],
          [
           "фрутоняня",
           "BRAND"
          ],
          [
           "cykoria",
           "BRAND"
          ],
          [
           "мистраль",
           "BRAND"
          ],
          [
           "чистая",
           "BRAND"
          ],
          [
           "линия",
           "BRAND"
          ],
          [
           "midori",
           "BRAND"
          ],
          [
           "borg",
           "BRAND"
          ],
          [
           "бежин",
           "BRAND"
          ],
          [
           "луг",
           "BRAND"
          ],
          [
           "стрекоза",
           "BRAND"
          ],
          [
           "pringles",
           "BRAND"
          ],
          [
           "vici",
           "BRAND"
          ],
          [
           "boyscout",
           "BRAND"
          ],
          [
           "мясная",
           "BRAND"
          ],
          [
           "ферма",
           "BRAND"
          ],
          [
           "а.ростагрокомпле",
           "BRAND"
          ],
          [
           "нумик",
           "BRAND"
          ],
          [
           "flors",
           "BRAND"
          ],
          [
           "презиндент",
           "BRAND"
          ],
          [
           "martin",
           "BRAND"
          ],
          [
           "milk",
           "BRAND"
          ],
          [
           "melle",
           "BRAND"
          ],
          [
           "оскорбинка",
           "BRAND"
          ],
          [
           "никольск",
           "BRAND"
          ],
          [
           "нф",
           "BRAND"
          ],
          [
           "tampax",
           "BRAND"
          ],
          [
           "мистраль",
           "BRAND"
          ],
          [
           "делатика",
           "BRAND"
          ],
          [
           "сникерс",
           "BRAND"
          ],
          [
           "всеслав",
           "BRAND"
          ],
          [
           "abtoys",
           "BRAND"
          ],
          [
           "sensoden",
           "BRAND"
          ],
          [
           "азелит0х",
           "BRAND"
          ],
          [
           "twiggi",
           "BRAND"
          ],
          [
           "nouvelle",
           "BRAND"
          ],
          [
           "Добрый",
           "BRAND"
          ],
          [
           "Рич",
           "BRAND"
          ],
          [
           "Джей7",
           "BRAND"
          ],
          [
           "стандарт",
           "BRAND"
          ],
          [
           "viole",
           "BRAND"
          ],
          [
           "junfa",
           "BRAND"
          ],
          [
           "я",
           "BRAND"
          ],
          [
           "люблю",
           "BRAND"
          ],
          [
           "готовить",
           "BRAND"
          ],
          [
           "добрый",
           "BRAND"
          ],
          [
           "delph",
           "BRAND"
          ],
          [
           "vell",
           "BRAND"
          ],
          [
           "sladk",
           "BRAND"
          ],
          [
           "биг",
           "BRAND"
          ],
          [
           "бон",
           "BRAND"
          ],
          [
           "аоа",
           "BRAND"
          ],
          [
           "Sprite",
           "BRAND"
          ],
          [
           "Schweppes",
           "BRAND"
          ],
          [
           "Mirinda",
           "BRAND"
          ],
          [
           "doshirakk",
           "BRAND"
          ],
          [
           "беллин",
           "BRAND"
          ],
          [
           "fsherpric",
           "BRAND"
          ],
          [
           "гелиос-м",
           "BRAND"
          ],
          [
           "данисси",
           "BRAND"
          ],
          [
           "рублёвский",
           "BRAND"
          ],
          [
           "маркет",
           "BRAND"
          ],
          [
           "филипс",
           "BRAND"
          ],
          [
           "scandics",
           "BRAND"
          ],
          [
           "baik",
           "BRAND"
          ],
          [
           "большой",
           "BRAND"
          ],
          [
           "о",
           "BRAND"
          ],
          [
           "рой",
           "BRAND"
          ],
          [
           "petra",
           "BRAND"
          ],
          [
           "yelli",
           "BRAND"
          ],
          [
           "от",
           "BRAND"
          ],
          [
           "мартина",
           "BRAND"
          ],
          [
           "wiska",
           "BRAND"
          ],
          [
           "whiskas",
           "BRAND"
          ],
          [
           "kotan",
           "BRAND"
          ],
          [
           "greenfiel",
           "BRAND"
          ],
          [
           "дядя",
           "BRAND"
          ],
          [
           "plolive",
           "BRAND"
          ],
          [
           "79",
           "BRAND"
          ],
          [
           "мираторг",
           "BRAND"
          ],
          [
           "gustarelle",
           "BRAND"
          ],
          [
           "celesta",
           "BRAND"
          ],
          [
           "золотой",
           "BRAND"
          ],
          [
           "петушок",
           "BRAND"
          ],
          [
           "mymuse",
           "BRAND"
          ],
          [
           "global",
           "BRAND"
          ],
          [
           "мясослав",
           "BRAND"
          ],
          [
           "тавр",
           "BRAND"
          ],
          [
           "greenfield",
           "BRAND"
          ],
          [
           "hitt",
           "BRAND"
          ],
          [
           "мечта",
           "BRAND"
          ],
          [
           "apy",
           "BRAND"
          ],
          [
           "ople",
           "BRAND"
          ],
          [
           "garnie",
           "BRAND"
          ],
          [
           "степь",
           "BRAND"
          ],
          [
           "н",
           "BRAND"
          ],
          [
           "glade",
           "BRAND"
          ],
          [
           "саш",
           "BRAND"
          ],
          [
           "бородинский",
           "BRAND"
          ],
          [
           "дарницкий",
           "BRAND"
          ],
          [
           "xturbo",
           "BRAND"
          ],
          [
           "kitikat",
           "BRAND"
          ],
          [
           "старрая",
           "BRAND"
          ],
          [
           "бытпласт",
           "BRAND"
          ],
          [
           "bucher",
           "BRAND"
          ],
          [
           "nivea",
           "BRAND"
          ],
          [
           "men",
           "BRAND"
          ],
          [
           "сладкая",
           "BRAND"
          ],
          [
           "слобода",
           "BRAND"
          ],
          [
           "chocc",
           "BRAND"
          ],
          [
           "нивеа",
           "BRAND"
          ],
          [
           "ВиммБилльДанн",
           "BRAND"
          ],
          [
           "мистраль",
           "BRAND"
          ],
          [
           "nescafe",
           "BRAND"
          ],
          [
           "gold",
           "BRAND"
          ],
          [
           "атрус",
           "BRAND"
          ],
          [
           "илецкая",
           "BRAND"
          ],
          [
           "dirol",
           "BRAND"
          ],
          [
           "dream",
           "BRAND"
          ],
          [
           "chips",
           "BRAND"
          ],
          [
           "ahoy",
           "BRAND"
          ],
          [
           "асессуары",
           "BRAND"
          ],
          [
           "ilka",
           "BRAND"
          ],
          [
           "велком",
           "BRAND"
          ],
          [
           "пятерочка",
           "BRAND"
          ],
          [
           "огороднико",
           "BRAND"
          ],
          [
           "hohland",
           "BRAND"
          ],
          [
           "synergetic",
           "BRAND"
          ],
          [
           "evo",
           "BRAND"
          ],
          [
           "arcopal",
           "BRAND"
          ],
          [
           "omequee",
           "BRAND"
          ],
          [
           "domesto",
           "BRAND"
          ],
          [
           "skittles",
           "BRAND"
          ],
          [
           "россиский",
           "BRAND"
          ],
          [
           "инмарко",
           "BRAND"
          ],
          [
           "Кампомос",
           "BRAND"
          ],
          [
           "omsa",
           "BRAND"
          ],
          [
           "буздякский",
           "BRAND"
          ],
          [
           "если",
           "BRAND"
          ],
          [
           "акти",
           "BRAND"
          ],
          [
           "iri",
           "BRAND"
          ],
          [
           "холодуш",
           "BRAND"
          ],
          [
           "равиоли",
           "BRAND"
          ],
          [
           "бисквит",
           "BRAND"
          ],
          [
           "№1",
           "BRAND"
          ],
          [
           "маркет",
           "BRAND"
          ],
          [
           "президент",
           "BRAND"
          ],
          [
           "гауда",
           "BRAND"
          ],
          [
           "lovular",
           "BRAND"
          ],
          [
           "линд",
           "BRAND"
          ],
          [
           "тендер",
           "BRAND"
          ],
          [
           "бензин",
           "BRAND"
          ],
          [
           "альтернатив",
           "BRAND"
          ],
          [
           "бондуеллль",
           "BRAND"
          ],
          [
           "syra",
           "BRAND"
          ],
          [
           "шлейак",
           "BRAND"
          ],
          [
           "prima",
           "BRAND"
          ],
          [
           "данон",
           "BRAND"
          ],
          [
           "brayer",
           "BRAND"
          ],
          [
           "grange",
           "BRAND"
          ],
          [
           "елене",
           "BRAND"
          ],
          [
           "xoney",
           "BRAND"
          ],
          [
           "sheda",
           "BRAND"
          ],
          [
           "афанаси",
           "BRAND"
          ],
          [
           "ама",
           "BRAND"
          ],
          [
           "аст",
           "BRAND"
          ],
          [
           "петелина",
           "BRAND"
          ],
          [
           "фруто",
           "BRAND"
          ],
          [
           "няня",
           "BRAND"
          ],
          [
           "kotanyi",
           "BRAND"
          ],
          [
           "кара",
           "BRAND"
          ],
          [
           "портативный",
           "BRAND"
          ],
          [
           "старый",
           "BRAND"
          ],
          [
           "юбилейно",
           "BRAND"
          ],
          [
           "drive",
           "BRAND"
          ],
          [
           "нф",
           "BRAND"
          ],
          [
           "liberhaus",
           "BRAND"
          ],
          [
           "atmospher",
           "BRAND"
          ],
          [
           "унисо",
           "BRAND"
          ],
          [
           "волжаночка",
           "BRAND"
          ],
          [
           "maxwell",
           "BRAND"
          ],
          [
           "marti",
           "BRAND"
          ],
          [
           "яшкино",
           "BRAND"
          ],
          [
           "тенде",
           "BRAND"
          ],
          [
           "milkyway",
           "BRAND"
          ],
          [
           "univers",
           "BRAND"
          ],
          [
           "trilobit",
           "BRAND"
          ],
          [
           "сады",
           "BRAND"
          ],
          [
           "аридонья",
           "BRAND"
          ],
          [
           "fru",
           "BRAND"
          ],
          [
           "lor",
           "BRAND"
          ],
          [
           "varta",
           "BRAND"
          ],
          [
           "ред",
           "BRAND"
          ],
          [
           "чиф",
           "BRAND"
          ],
          [
           "vilor",
           "BRAND"
          ],
          [
           "Danone",
           "BRAND"
          ],
          [
           "Чудо",
           "BRAND"
          ],
          [
           "Активиа",
           "BRAND"
          ],
          [
           "бежицкий",
           "BRAND"
          ],
          [
           "harrye",
           "BRAND"
          ],
          [
           "bonfet",
           "BRAND"
          ],
          [
           "up",
           "BRAND"
          ],
          [
           "производст",
           "BRAND"
          ],
          [
           "петрохл",
           "BRAND"
          ],
          [
           "marc&фи",
           "BRAND"
          ],
          [
           "слово",
           "BRAND"
          ],
          [
           "мясника",
           "BRAND"
          ],
          [
           "clipstudio",
           "BRAND"
          ],
          [
           "альб",
           "BRAND"
          ],
          [
           "вологодское",
           "BRAND"
          ],
          [
           "валио",
           "BRAND"
          ],
          [
           "vic",
           "BRAND"
          ],
          [
           "золотой",
           "BRAND"
          ],
          [
           "яо",
           "BRAND"
          ],
          [
           "слав",
           "BRAND"
          ],
          [
           "familia",
           "BRAND"
          ],
          [
           "whitewater",
           "BRAND"
          ],
          [
           "ладога",
           "BRAND"
          ],
          [
           "коломенский",
           "BRAND"
          ],
          [
           "бабушка",
           "BRAND"
          ],
          [
           "агафья",
           "BRAND"
          ],
          [
           "бора",
           "BRAND"
          ],
          [
           "econiva",
           "BRAND"
          ],
          [
           "лазовское",
           "BRAND"
          ],
          [
           "бабушка",
           "BRAND"
          ],
          [
           "агафья",
           "BRAND"
          ],
          [
           "unic",
           "BRAND"
          ],
          [
           "недалеко",
           "BRAND"
          ],
          [
           "delphi",
           "BRAND"
          ],
          [
           "актуаль",
           "BRAND"
          ],
          [
           "кто-нибудь",
           "BRAND"
          ],
          [
           "авангар",
           "BRAND"
          ],
          [
           "славяновская",
           "BRAND"
          ],
          [
           "фритэкс",
           "BRAND"
          ],
          [
           "pet",
           "BRAND"
          ],
          [
           "royal",
           "BRAND"
          ],
          [
           "canin",
           "BRAND"
          ],
          [
           "12",
           "BRAND"
          ],
          [
           "захвати",
           "BRAND"
          ],
          [
           "плетёная",
           "BRAND"
          ],
          [
           "милка",
           "BRAND"
          ],
          [
           "макфа",
           "BRAND"
          ],
          [
           "fusion",
           "BRAND"
          ],
          [
           "селяночка",
           "BRAND"
          ],
          [
           "аст",
           "BRAND"
          ],
          [
           "аги",
           "BRAND"
          ],
          [
           "Мистраль",
           "BRAND"
          ],
          [
           "midor",
           "BRAND"
          ],
          [
           "frutees",
           "BRAND"
          ],
          [
           "megel",
           "BRAND"
          ],
          [
           "paclan",
           "BRAND"
          ],
          [
           "Швепс",
           "BRAND"
          ],
          [
           "Danone",
           "BRAND"
          ],
          [
           "Valio",
           "BRAND"
          ],
          [
           "President",
           "BRAND"
          ],
          [
           "марк",
           "BRAND"
          ],
          [
           "звездочки",
           "BRAND"
          ],
          [
           "econta",
           "BRAND"
          ],
          [
           "вкус&польза",
           "BRAND"
          ],
          [
           "маркет",
           "BRAND"
          ],
          [
           "прастаквашино",
           "BRAND"
          ],
          [
           "пармещан",
           "BRAND"
          ],
          [
           "flex",
           "BRAND"
          ],
          [
           "fruittella",
           "BRAND"
          ],
          [
           "garlin",
           "BRAND"
          ],
          [
           "ahmad",
           "BRAND"
          ],
          [
           "bormio",
           "BRAND"
          ],
          [
           "cit",
           "BRAND"
          ],
          [
           "леейс",
           "BRAND"
          ],
          [
           "чудохлеб",
           "BRAND"
          ],
          [
           "эко",
           "BRAND"
          ],
          [
           "белевска",
           "BRAND"
          ],
          [
           "synergeti",
           "BRAND"
          ],
          [
           "botanica",
           "BRAND"
          ],
          [
           "red",
           "BRAND"
          ],
          [
           "bull",
           "BRAND"
          ],
          [
           "biomi",
           "BRAND"
          ],
          [
           "милково",
           "BRAND"
          ],
          [
           "мери",
           "BRAND"
          ],
          [
           "slak",
           "BRAND"
          ],
          [
           "сады",
           "BRAND"
          ],
          [
           "придонья",
           "BRAND"
          ],
          [
           "мультифрукт",
           "BRAND"
          ],
          [
           "nadin",
           "BRAND"
          ],
          [
           "останкинск",
           "BRAND"
          ],
          [
           "multidom",
           "BRAND"
          ],
          [
           "удмуртрыба",
           "BRAND"
          ],
          [
           "lunarette",
           "BRAND"
          ],
          [
           "архыз",
           "BRAND"
          ],
          [
           "красная",
           "BRAND"
          ],
          [
           "цена",
           "BRAND"
          ],
          [
           "бона",
           "BRAND"
          ],
          [
           "fres",
           "BRAND"
          ],
          [
           "clipstudio",
           "BRAND"
          ],
          [
           "сытый",
           "BRAND"
          ],
          [
           "папа",
           "BRAND"
          ],
          [
           "зерни",
           "BRAND"
          ],
          [
           "gerb",
           "BRAND"
          ],
          [
           "klet",
           "BRAND"
          ],
          [
           "maccofee",
           "BRAND"
          ],
          [
           "lindt",
           "BRAND"
          ],
          [
           "orion",
           "BRAND"
          ],
          [
           "nestle",
           "BRAND"
          ],
          [
           "симба",
           "BRAND"
          ],
          [
           "президент",
           "BRAND"
          ],
          [
           "fish",
           "BRAND"
          ],
          [
           "house",
           "BRAND"
          ],
          [
           "солнечный",
           "BRAND"
          ],
          [
           "корона",
           "BRAND"
          ],
          [
           "экстра",
           "BRAND"
          ],
          [
           "irit",
           "BRAND"
          ],
          [
           "elled",
           "BRAND"
          ],
          [
           "Lays",
           "BRAND"
          ],
          [
           "Pringles",
           "BRAND"
          ],
          [
           "Estrella",
           "BRAND"
          ],
          [
           "нф",
           "BRAND"
          ],
          [
           "merries",
           "BRAND"
          ],
          [
           "sonnentor",
           "BRAND"
          ],
          [
           "перекрест",
           "BRAND"
          ],
          [
           "naturfoods",
           "BRAND"
          ],
          [
           "например",
           "BRAND"
          ],
          [
           "папа",
           "BRAND"
          ],
          [
           "twix",
           "BRAND"
          ],
          [
           "pupa",
           "BRAND"
          ],
          [
           "маркет",
           "BRAND"
          ],
          [
           "царицы",
           "BRAND"
          ],
          [
           "вастэ",
           "BRAND"
          ],
          [
           "yoya",
           "BRAND"
          ],
          [
           "pro",
           "BRAND"
          ],
          [
           "аккон",
           "BRAND"
          ],
          [
           "cara",
           "BRAND"
          ],
          [
           "salt",
           "BRAND"
          ],
          [
           "бэрэкэтле",
           "BRAND"
          ],
          [
           "айра",
           "BRAND"
          ],
          [
           "бел",
           "BRAND"
          ],
          [
           "марк",
           "BRAND"
          ],
          [
           "shnga",
           "BRAND"
          ],
          [
           "mallony",
           "BRAND"
          ],
          [
           "клинские",
           "BRAND"
          ],
          [
           "cykoria",
           "BRAND"
          ],
          [
           "маркет",
           "BRAND"
          ],
          [
           "лакомка",
           "BRAND"
          ],
          [
           "окраина",
           "BRAND"
          ],
          [
           "барники",
           "BRAND"
          ],
          [
           "nuttilak",
           "BRAND"
          ],
          [
           "волжаночка",
           "BRAND"
          ],
          [
           "рио",
           "BRAND"
          ],
          [
           "saltle",
           "BRAND"
          ],
          [
           "ro",
           "BRAND"
          ],
          [
           "батоша",
           "BRAND"
          ],
          [
           "белоручка",
           "BRAND"
          ],
          [
           "lnd",
           "BRAND"
          ],
          [
           "lav",
           "BRAND"
          ],
          [
           "марк",
           "BRAND"
          ],
          [
           "оско",
           "BRAND"
          ],
          [
           "almetta",
           "BRAND"
          ],
          [
           "окмкое",
           "BRAND"
          ],
          [
           "дарэлл",
           "BRAND"
          ],
          [
           "dr.oetke",
           "BRAND"
          ],
          [
           "rich",
           "BRAND"
          ],
          [
           "мираторг",
           "BRAND"
          ],
          [
           "красная",
           "BRAND"
          ],
          [
           "цена",
           "BRAND"
          ],
          [
           "нежный",
           "BRAND"
          ],
          [
           "cityk",
           "BRAND"
          ],
          [
           "colcola",
           "BRAND"
          ],
          [
           "дар",
           "BRAND"
          ],
          [
           "мойв",
           "BRAND"
          ],
          [
           "siner",
           "BRAND"
          ],
          [
           "окраина",
           "BRAND"
          ],
          [
           "брауншвейгская",
           "BRAND"
          ],
          [
           "e",
           "BRAND"
          ],
          [
           "galaxy",
           "BRAND"
          ],
          [
           "нф",
           "BRAND"
          ],
          [
           "спорт",
           "BRAND"
          ],
          [
           "актиф",
           "BRAND"
          ],
          [
           "золушка",
           "BRAND"
          ],
          [
           "простоквашино",
           "BRAND"
          ],
          [
           "карра",
           "BRAND"
          ],
          [
           "технические",
           "BRAND"
          ],
          [
           "№1",
           "BRAND"
          ],
          [
           "Балтика",
           "BRAND"
          ],
          [
           "Хайнекен",
           "BRAND"
          ],
          [
           "Буд",
           "BRAND"
          ],
          [
           "асто",
           "BRAND"
          ],
          [
           "ламьер",
           "BRAND"
          ]
         ],
         "hovertemplate": "<b>entity_text:</b> %{customdata[0]}<br><b>entity_label:</b> %{customdata[1]}",
         "marker": {
          "color": "rgb(127, 60, 141)",
          "opacity": 1,
          "size": 8
         },
         "mode": "markers",
         "name": "BRAND",
         "type": "scatter",
         "x": {
          "bdata": "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",
          "dtype": "f4"
         },
         "y": {
          "bdata": "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",
          "dtype": "f4"
         }
        },
        {
         "customdata": [
          [
           "45%",
           "PERCENT"
          ],
          [
           "экстра",
           "PERCENT"
          ],
          [
           "82%",
           "PERCENT"
          ],
          [
           "200",
           "PERCENT"
          ],
          [
           "40",
           "PERCENT"
          ],
          [
           "23%",
           "PERCENT"
          ],
          [
           "3",
           "PERCENT"
          ],
          [
           "20%",
           "PERCENT"
          ],
          [
           "300",
           "PERCENT"
          ],
          [
           "освежающий",
           "PERCENT"
          ],
          [
           "1%",
           "PERCENT"
          ],
          [
           "галбани",
           "PERCENT"
          ],
          [
           "шарики",
           "PERCENT"
          ],
          [
           "45%",
           "PERCENT"
          ],
          [
           "1.5",
           "PERCENT"
          ],
          [
           "%",
           "PERCENT"
          ],
          [
           "20%",
           "PERCENT"
          ],
          [
           "0",
           "PERCENT"
          ],
          [
           "%",
           "PERCENT"
          ],
          [
           "45%",
           "PERCENT"
          ],
          [
           "плавленый",
           "PERCENT"
          ],
          [
           "60%",
           "PERCENT"
          ],
          [
           "400",
           "PERCENT"
          ],
          [
           "72.5%",
           "PERCENT"
          ],
          [
           "топлёная",
           "PERCENT"
          ],
          [
           "3.2%",
           "PERCENT"
          ],
          [
           "55%",
           "PERCENT"
          ],
          [
           "процентов",
           "PERCENT"
          ],
          [
           "3,2",
           "PERCENT"
          ],
          [
           "6",
           "PERCENT"
          ],
          [
           "%",
           "PERCENT"
          ],
          [
           "2.5%",
           "PERCENT"
          ],
          [
           "безлактозный",
           "PERCENT"
          ],
          [
           "1%",
           "PERCENT"
          ],
          [
           "3.2%",
           "PERCENT"
          ],
          [
           "45%",
           "PERCENT"
          ],
          [
           "2.5%",
           "PERCENT"
          ],
          [
           "1",
           "PERCENT"
          ],
          [
           "л",
           "PERCENT"
          ]
         ],
         "hovertemplate": "<b>entity_text:</b> %{customdata[0]}<br><b>entity_label:</b> %{customdata[1]}",
         "marker": {
          "color": "rgb(17, 165, 121)",
          "opacity": 1,
          "size": 8
         },
         "mode": "markers",
         "name": "PERCENT",
         "type": "scatter",
         "x": {
          "bdata": "HNzlQYJVgsDzGuVBL+voQVXnjcDHwttBnHwLwb4p5EFLc+hBZA7JQQVR6UGYVshBFUHVQaKL40FPYexBb8XpQaGb4kELa+NBtDrpQdiN4kFPHMlBkB3nQcMa5EHfPOtB7Y/IQZpb6UF7xeJB7GyJwH+Z1kE2YNxBsQPrQVxH7EHEQMhBtd7nQZnu6UGJU+NBUIHtQQ5z60GmG/lB",
          "dtype": "f4"
         },
         "y": {
          "bdata": "06c7wnH7B8K/YzzCDx1FwlYfBsKhxj3CtM12wsH9O8JklETCOjc+wluEQMLp3j7CLRtIwvqoP8JN7T3C6fs5wu9dPcIL1EbCuBg6wtv+PMIKQD7CTjw/wsU1RcIlCj3CGYE+wslsP8LtCz7CfcAgwoWeS8K3qDnC5WQ5wu90PMLsTD7C6Kg/wrfNPMIJCj3CNqA8whZGQsIvVkHC",
          "dtype": "f4"
         }
        },
        {
         "customdata": [
          [
           "семечн",
           "TYPE"
          ],
          [
           "журналы",
           "TYPE"
          ],
          [
           "конфты",
           "TYPE"
          ],
          [
           "капченая",
           "TYPE"
          ],
          [
           "слоенное",
           "TYPE"
          ],
          [
           "тесто",
           "TYPE"
          ],
          [
           "салфеток",
           "TYPE"
          ],
          [
           "пломбир",
           "TYPE"
          ],
          [
           "молочна",
           "TYPE"
          ],
          [
           "аннанасы",
           "TYPE"
          ],
          [
           "сыр",
           "TYPE"
          ],
          [
           "колбасный",
           "TYPE"
          ],
          [
           "сред",
           "TYPE"
          ],
          [
           "ийегурт",
           "TYPE"
          ],
          [
           "чтобы",
           "TYPE"
          ],
          [
           "florale",
           "TYPE"
          ],
          [
           "фарш",
           "TYPE"
          ],
          [
           "свной",
           "TYPE"
          ],
          [
           "домашнй",
           "TYPE"
          ],
          [
           "тик",
           "TYPE"
          ],
          [
           "так",
           "TYPE"
          ],
          [
           "рычал",
           "TYPE"
          ],
          [
           "су",
           "TYPE"
          ],
          [
           "камембер",
           "TYPE"
          ],
          [
           "творожное",
           "TYPE"
          ],
          [
           "виногоа",
           "TYPE"
          ],
          [
           "овощная",
           "TYPE"
          ],
          [
           "смесь",
           "TYPE"
          ],
          [
           "плавленый",
           "TYPE"
          ],
          [
           "сыр",
           "TYPE"
          ],
          [
           "ломтики",
           "TYPE"
          ],
          [
           "быстродействующие",
           "TYPE"
          ],
          [
           "вялиные",
           "TYPE"
          ],
          [
           "дошырак",
           "TYPE"
          ],
          [
           "пшенные",
           "TYPE"
          ],
          [
           "хлопья",
           "TYPE"
          ],
          [
           "креветки",
           "TYPE"
          ],
          [
           "каши",
           "TYPE"
          ],
          [
           "моло",
           "TYPE"
          ],
          [
           "мексиканска",
           "TYPE"
          ],
          [
           "малика",
           "TYPE"
          ],
          [
           "то",
           "TYPE"
          ],
          [
           "сок",
           "TYPE"
          ],
          [
           "со",
           "TYPE"
          ],
          [
           "свеклой",
           "TYPE"
          ],
          [
           "вишня",
           "TYPE"
          ],
          [
           "сдоба",
           "TYPE"
          ],
          [
           "карпачч",
           "TYPE"
          ],
          [
           "вязанкка",
           "TYPE"
          ],
          [
           "смазке",
           "TYPE"
          ],
          [
           "сахр",
           "TYPE"
          ],
          [
           "д",
           "TYPE"
          ],
          [
           "крем",
           "TYPE"
          ],
          [
           "кусочкт",
           "TYPE"
          ],
          [
           "мячи",
           "TYPE"
          ],
          [
           "вареники",
           "TYPE"
          ],
          [
           "с",
           "TYPE"
          ],
          [
           "сырой",
           "TYPE"
          ],
          [
           "зерновр",
           "TYPE"
          ],
          [
           "виногрпд",
           "TYPE"
          ],
          [
           "колбаса",
           "TYPE"
          ],
          [
           "любительская",
           "TYPE"
          ],
          [
           "нарезка",
           "TYPE"
          ],
          [
           "пшено",
           "TYPE"
          ],
          [
           "дроблёное",
           "TYPE"
          ],
          [
           "агуркц",
           "TYPE"
          ],
          [
           "корицв",
           "TYPE"
          ],
          [
           "ролл",
           "TYPE"
          ],
          [
           "семечки",
           "TYPE"
          ],
          [
           "очи",
           "TYPE"
          ],
          [
           "рыба",
           "TYPE"
          ],
          [
           "рис",
           "TYPE"
          ],
          [
           "настойки",
           "TYPE"
          ],
          [
           "горькие",
           "TYPE"
          ],
          [
           "карп",
           "TYPE"
          ],
          [
           "шашлык",
           "TYPE"
          ],
          [
           "мясника",
           "TYPE"
          ],
          [
           "мыло",
           "TYPE"
          ],
          [
           "дл",
           "TYPE"
          ],
          [
           "кухни",
           "TYPE"
          ],
          [
           "чипсы",
           "TYPE"
          ],
          [
           "ароматизатор",
           "TYPE"
          ],
          [
           "для",
           "TYPE"
          ],
          [
           "унитаза",
           "TYPE"
          ],
          [
           "ультрадпастеризованное",
           "TYPE"
          ],
          [
           "мыло",
           "TYPE"
          ],
          [
           "жидко",
           "TYPE"
          ],
          [
           "детсое",
           "TYPE"
          ],
          [
           "дезодаратн",
           "TYPE"
          ],
          [
           "малоешка",
           "TYPE"
          ],
          [
           "форель",
           "TYPE"
          ],
          [
           "крышки",
           "TYPE"
          ],
          [
           "граанатовый",
           "TYPE"
          ],
          [
           "переяц",
           "TYPE"
          ],
          [
           "мохито",
           "TYPE"
          ],
          [
           "в",
           "TYPE"
          ],
          [
           "банке",
           "TYPE"
          ],
          [
           "пельмени",
           "TYPE"
          ],
          [
           "перц",
           "TYPE"
          ],
          [
           "сладк",
           "TYPE"
          ],
          [
           "помидоры",
           "TYPE"
          ],
          [
           "палчки",
           "TYPE"
          ],
          [
           "гркечка",
           "TYPE"
          ],
          [
           "газировку",
           "TYPE"
          ],
          [
           "телевизор",
           "TYPE"
          ],
          [
           "смарт",
           "TYPE"
          ],
          [
           "макароны",
           "TYPE"
          ],
          [
           "улитки",
           "TYPE"
          ],
          [
           "колбаски",
           "TYPE"
          ],
          [
           "тунецо",
           "TYPE"
          ],
          [
           "сулунгуни",
           "TYPE"
          ],
          [
           "набор",
           "TYPE"
          ],
          [
           "конфетн",
           "TYPE"
          ],
          [
           "творог",
           "TYPE"
          ],
          [
           "мягкий",
           "TYPE"
          ],
          [
           "чай",
           "TYPE"
          ],
          [
           "зеленый",
           "TYPE"
          ],
          [
           "крупнолистовой",
           "TYPE"
          ],
          [
           "рис",
           "TYPE"
          ],
          [
           "янтарь",
           "TYPE"
          ],
          [
           "черная",
           "TYPE"
          ],
          [
           "йогурт0",
           "TYPE"
          ],
          [
           "ананасы",
           "TYPE"
          ],
          [
           "салт",
           "TYPE"
          ],
          [
           "цезр",
           "TYPE"
          ],
          [
           "куриц",
           "TYPE"
          ],
          [
           "дрожи",
           "TYPE"
          ],
          [
           "соус",
           "TYPE"
          ],
          [
           "доя",
           "TYPE"
          ],
          [
           "цезаря",
           "TYPE"
          ],
          [
           "перчатки",
           "TYPE"
          ],
          [
           "мюсли",
           "TYPE"
          ],
          [
           "тарелка",
           "TYPE"
          ],
          [
           "пастеризованная",
           "TYPE"
          ],
          [
           "супы",
           "TYPE"
          ],
          [
           "замороженные",
           "TYPE"
          ],
          [
           "молокуша",
           "TYPE"
          ],
          [
           "копчёная",
           "TYPE"
          ],
          [
           "паприка",
           "TYPE"
          ],
          [
           "сыровялен",
           "TYPE"
          ],
          [
           "сосискии",
           "TYPE"
          ],
          [
           "молоко",
           "TYPE"
          ],
          [
           "свежее",
           "TYPE"
          ],
          [
           "семечки",
           "TYPE"
          ],
          [
           "солью",
           "TYPE"
          ],
          [
           "кефирная",
           "TYPE"
          ],
          [
           "морженное",
           "TYPE"
          ],
          [
           "шоки",
           "TYPE"
          ],
          [
           "вода",
           "TYPE"
          ],
          [
           "сырлк",
           "TYPE"
          ],
          [
           "сыр",
           "TYPE"
          ],
          [
           "сли",
           "TYPE"
          ],
          [
           "сгущенкв",
           "TYPE"
          ],
          [
           "пахла",
           "TYPE"
          ],
          [
           "нори",
           "TYPE"
          ],
          [
           "для",
           "TYPE"
          ],
          [
           "суши",
           "TYPE"
          ],
          [
           "паштет.",
           "TYPE"
          ],
          [
           "напиток",
           "TYPE"
          ],
          [
           "миски",
           "TYPE"
          ],
          [
           "пеаенье",
           "TYPE"
          ],
          [
           "оливки",
           "TYPE"
          ],
          [
           "лавр",
           "TYPE"
          ],
          [
           "лист",
           "TYPE"
          ],
          [
           "к",
           "TYPE"
          ],
          [
           "похлёбк",
           "TYPE"
          ],
          [
           "грушу",
           "TYPE"
          ],
          [
           "фарш",
           "TYPE"
          ],
          [
           "для",
           "TYPE"
          ],
          [
           "лазаньи",
           "TYPE"
          ],
          [
           "банананы",
           "TYPE"
          ],
          [
           "макароны",
           "TYPE"
          ],
          [
           "кондицттнер",
           "TYPE"
          ],
          [
           "империя",
           "TYPE"
          ],
          [
           "шампильоны",
           "TYPE"
          ],
          [
           "медведка",
           "TYPE"
          ],
          [
           "хлопь",
           "TYPE"
          ],
          [
           "маш",
           "TYPE"
          ],
          [
           "зелёы",
           "TYPE"
          ],
          [
           "цельный",
           "TYPE"
          ],
          [
           "ссетан",
           "TYPE"
          ],
          [
           "ярхлеб",
           "TYPE"
          ],
          [
           "сардины",
           "TYPE"
          ],
          [
           "порошок",
           "TYPE"
          ],
          [
           "билецное",
           "TYPE"
          ],
          [
           "пиво",
           "TYPE"
          ],
          [
           "мандарин",
           "TYPE"
          ],
          [
           "для",
           "TYPE"
          ],
          [
           "компота",
           "TYPE"
          ],
          [
           "дезедорант",
           "TYPE"
          ],
          [
           "шпитаг",
           "TYPE"
          ],
          [
           "кукурузв",
           "TYPE"
          ],
          [
           "редиака",
           "TYPE"
          ],
          [
           "вода",
           "TYPE"
          ],
          [
           "питьевая",
           "TYPE"
          ],
          [
           "свёкла",
           "TYPE"
          ],
          [
           "отварная",
           "TYPE"
          ],
          [
           "цветочки",
           "TYPE"
          ],
          [
           "пастилы",
           "TYPE"
          ],
          [
           "ветчит",
           "TYPE"
          ],
          [
           "тан",
           "TYPE"
          ],
          [
           "свитлогорь",
           "TYPE"
          ],
          [
           "сущенное",
           "TYPE"
          ],
          [
           "корм",
           "TYPE"
          ],
          [
           "кошачий",
           "TYPE"
          ],
          [
           "слива",
           "TYPE"
          ],
          [
           "для",
           "TYPE"
          ],
          [
           "варенья",
           "TYPE"
          ],
          [
           "кокосовые",
           "TYPE"
          ],
          [
           "сливки",
           "TYPE"
          ],
          [
           "сардельку",
           "TYPE"
          ],
          [
           "очки",
           "TYPE"
          ],
          [
           "мьло",
           "TYPE"
          ],
          [
           "колбаса",
           "TYPE"
          ],
          [
           "сырокопч",
           "TYPE"
          ],
          [
           "стике",
           "TYPE"
          ],
          [
           "щницел",
           "TYPE"
          ],
          [
           "котлеты",
           "TYPE"
          ],
          [
           "в",
           "TYPE"
          ],
          [
           "судк",
           "TYPE"
          ],
          [
           "кукуруза",
           "TYPE"
          ],
          [
           "сладкая",
           "TYPE"
          ],
          [
           "консервированная",
           "TYPE"
          ],
          [
           "сыровяленые",
           "TYPE"
          ],
          [
           "р",
           "TYPE"
          ],
          [
           "хен",
           "TYPE"
          ],
          [
           "готов",
           "TYPE"
          ],
          [
           "мяч",
           "TYPE"
          ],
          [
           "овсяные",
           "TYPE"
          ],
          [
           "йег",
           "TYPE"
          ],
          [
           "сушки",
           "TYPE"
          ],
          [
           "подсолнухов",
           "TYPE"
          ],
          [
           "коорм",
           "TYPE"
          ],
          [
           "средство",
           "TYPE"
          ],
          [
           "для",
           "TYPE"
          ],
          [
           "мытья",
           "TYPE"
          ],
          [
           "пос",
           "TYPE"
          ],
          [
           "порошок",
           "TYPE"
          ],
          [
           "компотты",
           "TYPE"
          ],
          [
           "перепелин",
           "TYPE"
          ],
          [
           "прочая",
           "TYPE"
          ],
          [
           "крупа",
           "TYPE"
          ],
          [
           "крестьянский",
           "TYPE"
          ],
          [
           "скумбоия",
           "TYPE"
          ],
          [
           "овощной",
           "TYPE"
          ],
          [
           "пюре",
           "TYPE"
          ],
          [
           "немолокт",
           "TYPE"
          ],
          [
           "кисломолочные",
           "TYPE"
          ],
          [
           "сме",
           "TYPE"
          ],
          [
           "средство",
           "TYPE"
          ],
          [
           "против",
           "TYPE"
          ],
          [
           "жира",
           "TYPE"
          ],
          [
           "черносливом",
           "TYPE"
          ],
          [
           "кефири",
           "TYPE"
          ],
          [
           "краетки",
           "TYPE"
          ],
          [
           "бекон",
           "TYPE"
          ],
          [
           "гел",
           "TYPE"
          ],
          [
           "для",
           "TYPE"
          ],
          [
           "душа",
           "TYPE"
          ],
          [
           "освежающ",
           "TYPE"
          ],
          [
           "сирр",
           "TYPE"
          ],
          [
           "сухой",
           "TYPE"
          ],
          [
           "корм",
           "TYPE"
          ],
          [
           "для",
           "TYPE"
          ],
          [
           "кота",
           "TYPE"
          ],
          [
           "диффузор",
           "TYPE"
          ],
          [
           "свкл",
           "TYPE"
          ],
          [
           "на",
           "TYPE"
          ],
          [
           "борш",
           "TYPE"
          ],
          [
           "екапуста",
           "TYPE"
          ],
          [
           "акрдамон",
           "TYPE"
          ],
          [
           "газироку",
           "TYPE"
          ],
          [
           "лакомство",
           "TYPE"
          ],
          [
           "для",
           "TYPE"
          ],
          [
           "собак",
           "TYPE"
          ],
          [
           "манная",
           "TYPE"
          ],
          [
           "кру",
           "TYPE"
          ],
          [
           "овощей",
           "TYPE"
          ],
          [
           "крабоа",
           "TYPE"
          ],
          [
           "топлён",
           "TYPE"
          ],
          [
           "сливки",
           "TYPE"
          ],
          [
           "кондицио",
           "TYPE"
          ],
          [
           "палетт",
           "TYPE"
          ],
          [
           "нренки",
           "TYPE"
          ],
          [
           "колбаса",
           "TYPE"
          ],
          [
           "крол",
           "TYPE"
          ],
          [
           "саженец",
           "TYPE"
          ],
          [
           "конья",
           "TYPE"
          ],
          [
           "специи",
           "TYPE"
          ],
          [
           "кавказские",
           "TYPE"
          ],
          [
           "острые",
           "TYPE"
          ],
          [
           "шоколад",
           "TYPE"
          ],
          [
           "вей",
           "TYPE"
          ],
          [
           "ябооко",
           "TYPE"
          ],
          [
           "сливочный",
           "TYPE"
          ],
          [
           "олимп",
           "TYPE"
          ],
          [
           "переноска",
           "TYPE"
          ],
          [
           "гольфы",
           "TYPE"
          ],
          [
           "молокоо",
           "TYPE"
          ],
          [
           "булочки",
           "TYPE"
          ],
          [
           "на",
           "TYPE"
          ],
          [
           "бургеры",
           "TYPE"
          ],
          [
           "овсн",
           "TYPE"
          ],
          [
           "каша",
           "TYPE"
          ],
          [
           "сухаррки",
           "TYPE"
          ],
          [
           "солямчики",
           "TYPE"
          ],
          [
           "ароматные",
           "TYPE"
          ],
          [
           "груши",
           "TYPE"
          ],
          [
           "эпика",
           "TYPE"
          ],
          [
           "борщщ",
           "TYPE"
          ],
          [
           "масло",
           "TYPE"
          ],
          [
           "компоты",
           "TYPE"
          ],
          [
           "смесь",
           "TYPE"
          ],
          [
           "овощн",
           "TYPE"
          ],
          [
           "сок",
           "TYPE"
          ],
          [
           "вишня",
           "TYPE"
          ],
          [
           "яблоко",
           "TYPE"
          ],
          [
           "кресс-салата",
           "TYPE"
          ],
          [
           "лн",
           "TYPE"
          ],
          [
           "шпинт",
           "TYPE"
          ],
          [
           "к",
           "TYPE"
          ],
          [
           "салату",
           "TYPE"
          ],
          [
           "маракуйя",
           "TYPE"
          ],
          [
           "для",
           "TYPE"
          ],
          [
           "десерта",
           "TYPE"
          ],
          [
           "колаг",
           "TYPE"
          ],
          [
           "грбуша",
           "TYPE"
          ],
          [
           "миниралбная",
           "TYPE"
          ],
          [
           "йошта",
           "TYPE"
          ],
          [
           "билакт",
           "TYPE"
          ],
          [
           "нагетсв",
           "TYPE"
          ],
          [
           "лосьон",
           "TYPE"
          ],
          [
           "масло",
           "TYPE"
          ],
          [
           "сливовное",
           "TYPE"
          ],
          [
           "сушкию",
           "TYPE"
          ],
          [
           "джин",
           "TYPE"
          ],
          [
           "чебурег",
           "TYPE"
          ],
          [
           "сахарная",
           "TYPE"
          ],
          [
           "пу",
           "TYPE"
          ],
          [
           "цикорич",
           "TYPE"
          ],
          [
           "конфеты",
           "TYPE"
          ],
          [
           "maltesers",
           "TYPE"
          ],
          [
           "вязанка.",
           "TYPE"
          ],
          [
           "патиссоны",
           "TYPE"
          ],
          [
           "фруктоз",
           "TYPE"
          ],
          [
           "пюре",
           "TYPE"
          ],
          [
           "фруктовое",
           "TYPE"
          ],
          [
           "с",
           "TYPE"
          ],
          [
           "печеньем",
           "TYPE"
          ],
          [
           "либрес",
           "TYPE"
          ],
          [
           "облепиха",
           "TYPE"
          ],
          [
           "сушеная",
           "TYPE"
          ],
          [
           "рыб",
           "TYPE"
          ],
          [
           "зонтик",
           "TYPE"
          ],
          [
           "крабобы",
           "TYPE"
          ],
          [
           "палочки",
           "TYPE"
          ],
          [
           "au",
           "TYPE"
          ],
          [
           "кильк",
           "TYPE"
          ],
          [
           "зеелень",
           "TYPE"
          ],
          [
           "белый",
           "TYPE"
          ],
          [
           "йогурт",
           "TYPE"
          ],
          [
           "бадьян",
           "TYPE"
          ],
          [
           "икра",
           "TYPE"
          ],
          [
           "копченая",
           "TYPE"
          ],
          [
           "рюм",
           "TYPE"
          ],
          [
           "хлопуш",
           "TYPE"
          ],
          [
           "бюстгальтера",
           "TYPE"
          ],
          [
           "пичёние",
           "TYPE"
          ],
          [
           "огурйы",
           "TYPE"
          ],
          [
           "хлопьяв",
           "TYPE"
          ],
          [
           "трансформер",
           "TYPE"
          ],
          [
           "зефир",
           "TYPE"
          ],
          [
           "мармелад",
           "TYPE"
          ],
          [
           "мыльнай",
           "TYPE"
          ],
          [
           "булка",
           "TYPE"
          ],
          [
           "со",
           "TYPE"
          ],
          [
           "сгущёнкой",
           "TYPE"
          ],
          [
           "рис",
           "TYPE"
          ],
          [
           "масло",
           "TYPE"
          ],
          [
           "утюгг",
           "TYPE"
          ],
          [
           "кольраби",
           "TYPE"
          ],
          [
           "моркрвт",
           "TYPE"
          ],
          [
           "толстовки",
           "TYPE"
          ],
          [
           "масло",
           "TYPE"
          ],
          [
           "сливочные",
           "TYPE"
          ],
          [
           "томтоввй",
           "TYPE"
          ],
          [
           "мухенская",
           "TYPE"
          ],
          [
           "таб.",
           "TYPE"
          ],
          [
           "я",
           "TYPE"
          ],
          [
           "если",
           "TYPE"
          ],
          [
           "сулугуни",
           "TYPE"
          ],
          [
           "сыр",
           "TYPE"
          ],
          [
           "1000",
           "TYPE"
          ],
          [
           "озер",
           "TYPE"
          ],
          [
           "сырко",
           "TYPE"
          ],
          [
           "сметанае",
           "TYPE"
          ],
          [
           "роликовый",
           "TYPE"
          ],
          [
           "антиперспирант",
           "TYPE"
          ],
          [
           "долгийй",
           "TYPE"
          ],
          [
           "шпинаи",
           "TYPE"
          ],
          [
           "бирсая",
           "TYPE"
          ],
          [
           "торт3",
           "TYPE"
          ],
          [
           "плавленный",
           "TYPE"
          ],
          [
           "сыр",
           "TYPE"
          ],
          [
           "для",
           "TYPE"
          ],
          [
           "супа",
           "TYPE"
          ],
          [
           "вода",
           "TYPE"
          ],
          [
           "коз",
           "TYPE"
          ],
          [
           "колбаскюа",
           "TYPE"
          ],
          [
           "маршмела",
           "TYPE"
          ],
          [
           "паста",
           "TYPE"
          ],
          [
           "для",
           "TYPE"
          ],
          [
           "зубов",
           "TYPE"
          ],
          [
           "облимиха",
           "TYPE"
          ],
          [
           "соты",
           "TYPE"
          ],
          [
           "селедка",
           "TYPE"
          ],
          [
           "под",
           "TYPE"
          ],
          [
           "хубой",
           "TYPE"
          ],
          [
           "пончики",
           "TYPE"
          ],
          [
           "чипсы",
           "TYPE"
          ],
          [
           "розмарином",
           "TYPE"
          ],
          [
           "чернослив",
           "TYPE"
          ],
          [
           "журнал",
           "TYPE"
          ],
          [
           "масло",
           "TYPE"
          ],
          [
           "балыек",
           "TYPE"
          ],
          [
           "гантели,",
           "TYPE"
          ],
          [
           "гир",
           "TYPE"
          ],
          [
           "перци",
           "TYPE"
          ],
          [
           "сосиски",
           "TYPE"
          ],
          [
           "води",
           "TYPE"
          ],
          [
           "стекломой",
           "TYPE"
          ],
          [
           "мородкное",
           "TYPE"
          ],
          [
           "твердое",
           "TYPE"
          ],
          [
           "мыл",
           "TYPE"
          ],
          [
           "голубика.",
           "TYPE"
          ],
          [
           "перец",
           "TYPE"
          ],
          [
           "в",
           "TYPE"
          ],
          [
           "банках",
           "TYPE"
          ],
          [
           "ячневая",
           "TYPE"
          ],
          [
           "крупа",
           "TYPE"
          ],
          [
           "скумбри",
           "TYPE"
          ],
          [
           "огуречик",
           "TYPE"
          ],
          [
           "крупы",
           "TYPE"
          ],
          [
           "гречнево",
           "TYPE"
          ],
          [
           "родгузник",
           "TYPE"
          ],
          [
           "хоеб",
           "TYPE"
          ],
          [
           "с",
           "TYPE"
          ],
          [
           "семечками",
           "TYPE"
          ],
          [
           "редбу",
           "TYPE"
          ],
          [
           "варено-копчен",
           "TYPE"
          ],
          [
           "сырок",
           "TYPE"
          ],
          [
           "глазр",
           "TYPE"
          ],
          [
           "гель",
           "TYPE"
          ],
          [
           "инсектицид",
           "TYPE"
          ],
          [
           "перец",
           "TYPE"
          ],
          [
           "шоколад",
           "TYPE"
          ],
          [
           "без",
           "TYPE"
          ],
          [
           "сахара",
           "TYPE"
          ],
          [
           "хлеб",
           "TYPE"
          ],
          [
           "тост",
           "TYPE"
          ],
          [
           "губка",
           "TYPE"
          ],
          [
           "мочалка",
           "TYPE"
          ],
          [
           "для",
           "TYPE"
          ],
          [
           "тела",
           "TYPE"
          ],
          [
           "груша",
           "TYPE"
          ],
          [
           "огкоцы",
           "TYPE"
          ],
          [
           "тампоня",
           "TYPE"
          ],
          [
           "тарелка",
           "TYPE"
          ],
          [
           "водка",
           "TYPE"
          ],
          [
           "боилакт",
           "TYPE"
          ],
          [
           "цикорич",
           "TYPE"
          ],
          [
           "леов",
           "TYPE"
          ],
          [
           "крабоавые",
           "TYPE"
          ],
          [
           "капуста",
           "TYPE"
          ],
          [
           "белокочанная",
           "TYPE"
          ],
          [
           "уксус",
           "TYPE"
          ],
          [
           "сир",
           "TYPE"
          ],
          [
           "порошка",
           "TYPE"
          ],
          [
           "кефирр",
           "TYPE"
          ],
          [
           "спагетиз",
           "TYPE"
          ],
          [
           "жевательная",
           "TYPE"
          ],
          [
           "конфета",
           "TYPE"
          ],
          [
           "паприк",
           "TYPE"
          ],
          [
           "крабовые",
           "TYPE"
          ],
          [
           "палочки",
           "TYPE"
          ],
          [
           "за",
           "TYPE"
          ],
          [
           "питьевая",
           "TYPE"
          ],
          [
           "вода",
           "TYPE"
          ],
          [
           "без",
           "TYPE"
          ],
          [
           "газа",
           "TYPE"
          ],
          [
           "малн",
           "TYPE"
          ],
          [
           "улитка",
           "TYPE"
          ],
          [
           "греческая",
           "TYPE"
          ],
          [
           "ореха",
           "TYPE"
          ],
          [
           "молклвь",
           "TYPE"
          ],
          [
           "касулы",
           "TYPE"
          ],
          [
           "паста",
           "TYPE"
          ],
          [
           "шоко",
           "TYPE"
          ],
          [
           "фужеры,",
           "TYPE"
          ],
          [
           "бокал",
           "TYPE"
          ],
          [
           "ссушки",
           "TYPE"
          ],
          [
           "зубных",
           "TYPE"
          ],
          [
           "па",
           "TYPE"
          ],
          [
           "прркладки",
           "TYPE"
          ],
          [
           "агурца",
           "TYPE"
          ],
          [
           "чернослив",
           "TYPE"
          ],
          [
           "пита",
           "TYPE"
          ],
          [
           "нож",
           "TYPE"
          ],
          [
           "халво",
           "TYPE"
          ],
          [
           "халвой",
           "TYPE"
          ],
          [
           "сосиски",
           "TYPE"
          ],
          [
           "фонарь",
           "TYPE"
          ],
          [
           "творобушкис",
           "TYPE"
          ],
          [
           "каппуста",
           "TYPE"
          ],
          [
           "n1ce",
           "TYPE"
          ],
          [
           "брусничн",
           "TYPE"
          ],
          [
           "горчице",
           "TYPE"
          ],
          [
           "трубочки",
           "TYPE"
          ],
          [
           "со",
           "TYPE"
          ],
          [
           "сгушенкой",
           "TYPE"
          ],
          [
           "порошеу",
           "TYPE"
          ],
          [
           "лисички",
           "TYPE"
          ],
          [
           "горчица.",
           "TYPE"
          ],
          [
           "рулетка",
           "TYPE"
          ],
          [
           "яблрки",
           "TYPE"
          ],
          [
           "см4танв",
           "TYPE"
          ],
          [
           "слойкэ",
           "TYPE"
          ],
          [
           "перэц",
           "TYPE"
          ],
          [
           "зубочистка",
           "TYPE"
          ],
          [
           "эогурцв",
           "TYPE"
          ],
          [
           "чистящее",
           "TYPE"
          ],
          [
           "средство",
           "TYPE"
          ],
          [
           "для",
           "TYPE"
          ],
          [
           "перецбо",
           "TYPE"
          ],
          [
           "пружинка",
           "TYPE"
          ],
          [
           "ряэенка",
           "TYPE"
          ],
          [
           "к",
           "TYPE"
          ],
          [
           "чаю",
           "TYPE"
          ],
          [
           "кекс",
           "TYPE"
          ],
          [
           "булк",
           "TYPE"
          ],
          [
           "столчн",
           "TYPE"
          ],
          [
           "пышнй",
           "TYPE"
          ],
          [
           "тампоты",
           "TYPE"
          ],
          [
           "гречнский",
           "TYPE"
          ],
          [
           "помидрры",
           "TYPE"
          ],
          [
           "зелень",
           "TYPE"
          ],
          [
           "для",
           "TYPE"
          ],
          [
           "сала",
           "TYPE"
          ],
          [
           "батончик",
           "TYPE"
          ],
          [
           "кукуруза",
           "TYPE"
          ],
          [
           "в",
           "TYPE"
          ],
          [
           "вакууме",
           "TYPE"
          ],
          [
           "сметанка",
           "TYPE"
          ],
          [
           "капуста",
           "TYPE"
          ],
          [
           "квашеная",
           "TYPE"
          ],
          [
           "чрнослив",
           "TYPE"
          ],
          [
           "безлактознон",
           "TYPE"
          ],
          [
           "корзиночка",
           "TYPE"
          ],
          [
           "тратолетки",
           "TYPE"
          ],
          [
           "мука",
           "TYPE"
          ],
          [
           "кукурузн",
           "TYPE"
          ],
          [
           "скоровар",
           "TYPE"
          ],
          [
           "ряжкнк",
           "TYPE"
          ],
          [
           "каба",
           "TYPE"
          ],
          [
           "ливерна",
           "TYPE"
          ],
          [
           "винегр",
           "TYPE"
          ],
          [
           "сухапики",
           "TYPE"
          ],
          [
           "филейн",
           "TYPE"
          ],
          [
           "сметана",
           "TYPE"
          ],
          [
           "низкокаллорийная",
           "TYPE"
          ],
          [
           "лёгкая",
           "TYPE"
          ],
          [
           "вареники",
           "TYPE"
          ],
          [
           "сливы",
           "TYPE"
          ],
          [
           "колбаса",
           "TYPE"
          ],
          [
           "сервилат",
           "TYPE"
          ],
          [
           "копчоныйй",
           "TYPE"
          ],
          [
           "рыбный",
           "TYPE"
          ],
          [
           "фар",
           "TYPE"
          ],
          [
           "брогс",
           "TYPE"
          ],
          [
           "маандарины",
           "TYPE"
          ],
          [
           "соленык",
           "TYPE"
          ],
          [
           "соквфй",
           "TYPE"
          ],
          [
           "цикоррий",
           "TYPE"
          ],
          [
           "плащ",
           "TYPE"
          ],
          [
           "дождевик",
           "TYPE"
          ],
          [
           "арбузы",
           "TYPE"
          ],
          [
           "ополаскиватель",
           "TYPE"
          ],
          [
           "для",
           "TYPE"
          ],
          [
           "белья",
           "TYPE"
          ],
          [
           "хлебная",
           "TYPE"
          ],
          [
           "палочка",
           "TYPE"
          ],
          [
           "медвеж",
           "TYPE"
          ],
          [
           "конфитре",
           "TYPE"
          ],
          [
           "корм",
           "TYPE"
          ],
          [
           "сухой",
           "TYPE"
          ],
          [
           "для",
           "TYPE"
          ],
          [
           "стерил",
           "TYPE"
          ],
          [
           "салат>",
           "TYPE"
          ],
          [
           "форшмак",
           "TYPE"
          ],
          [
           "сахарозаменителт",
           "TYPE"
          ],
          [
           "ое",
           "TYPE"
          ],
          [
           "мылож",
           "TYPE"
          ],
          [
           "смузи",
           "TYPE"
          ],
          [
           "коктейльчик",
           "TYPE"
          ],
          [
           "шейкк",
           "TYPE"
          ],
          [
           "индейуа",
           "TYPE"
          ],
          [
           "корнишонф",
           "TYPE"
          ],
          [
           "кросс",
           "TYPE"
          ],
          [
           "гель",
           "TYPE"
          ],
          [
           "умыван",
           "TYPE"
          ],
          [
           "жирнй",
           "TYPE"
          ],
          [
           "кофемашина",
           "TYPE"
          ],
          [
           "капсульная",
           "TYPE"
          ],
          [
           "колбаса",
           "TYPE"
          ],
          [
           "овощные",
           "TYPE"
          ],
          [
           "ветчинные",
           "TYPE"
          ],
          [
           "зубнаяпа",
           "TYPE"
          ],
          [
           "жиггггули",
           "TYPE"
          ],
          [
           "облепихи",
           "TYPE"
          ],
          [
           "греческийй",
           "TYPE"
          ],
          [
           "кета",
           "TYPE"
          ],
          [
           "зчай",
           "TYPE"
          ],
          [
           "вода",
           "TYPE"
          ],
          [
           "проч",
           "TYPE"
          ],
          [
           "щетка",
           "TYPE"
          ],
          [
           "для",
           "TYPE"
          ],
          [
           "посуды",
           "TYPE"
          ],
          [
           "сэндвич",
           "TYPE"
          ],
          [
           "сырки",
           "TYPE"
          ],
          [
           "творожн",
           "TYPE"
          ],
          [
           "подсоднечное",
           "TYPE"
          ],
          [
           "энергте",
           "TYPE"
          ],
          [
           "помиддоры",
           "TYPE"
          ],
          [
           "сливка",
           "TYPE"
          ],
          [
           "ремни,",
           "TYPE"
          ],
          [
           "подтяжк",
           "TYPE"
          ],
          [
           "сельди",
           "TYPE"
          ],
          [
           "слабосоленой",
           "TYPE"
          ],
          [
           "мексиканскя",
           "TYPE"
          ],
          [
           "куриные",
           "TYPE"
          ],
          [
           "яйца",
           "TYPE"
          ],
          [
           "журоудалитель",
           "TYPE"
          ],
          [
           "сгуженка",
           "TYPE"
          ],
          [
           "блокнот",
           "TYPE"
          ],
          [
           "болоньезен",
           "TYPE"
          ],
          [
           "красное",
           "TYPE"
          ],
          [
           "чарка",
           "TYPE"
          ],
          [
           "кренделки",
           "TYPE"
          ],
          [
           "рышек",
           "TYPE"
          ],
          [
           "белковая",
           "TYPE"
          ],
          [
           "продукция",
           "TYPE"
          ],
          [
           "кофе",
           "TYPE"
          ],
          [
           "растворимы",
           "TYPE"
          ],
          [
           "чай",
           "TYPE"
          ],
          [
           "черный",
           "TYPE"
          ],
          [
           "в",
           "TYPE"
          ],
          [
           "па",
           "TYPE"
          ],
          [
           "манты",
           "TYPE"
          ],
          [
           "баранн",
           "TYPE"
          ],
          [
           "остры",
           "TYPE"
          ],
          [
           "капсульный",
           "TYPE"
          ],
          [
           "красха",
           "TYPE"
          ],
          [
           "таз",
           "TYPE"
          ],
          [
           "слоеное",
           "TYPE"
          ],
          [
           "тесто",
           "TYPE"
          ],
          [
           "минеральная",
           "TYPE"
          ],
          [
           "вода",
           "TYPE"
          ],
          [
           "ясн",
           "TYPE"
          ],
          [
           "душистый",
           "TYPE"
          ],
          [
           "пер",
           "TYPE"
          ],
          [
           "мрамор",
           "TYPE"
          ],
          [
           "резиновые",
           "TYPE"
          ],
          [
           "сгущёнко",
           "TYPE"
          ],
          [
           "сухорики",
           "TYPE"
          ],
          [
           "калач",
           "TYPE"
          ],
          [
           "люляки",
           "TYPE"
          ],
          [
           "ополаскиватель",
           "TYPE"
          ],
          [
           "майк",
           "TYPE"
          ],
          [
           "сырокопчены",
           "TYPE"
          ],
          [
           "эскимоо",
           "TYPE"
          ],
          [
           "мохит",
           "TYPE"
          ],
          [
           "виноград",
           "TYPE"
          ],
          [
           "топтышк",
           "TYPE"
          ],
          [
           "огурцы́",
           "TYPE"
          ],
          [
           "терряки",
           "TYPE"
          ],
          [
           "корзинка",
           "TYPE"
          ],
          [
           "сосист",
           "TYPE"
          ],
          [
           "зельц",
           "TYPE"
          ],
          [
           "пакетики",
           "TYPE"
          ],
          [
           "для",
           "TYPE"
          ],
          [
           "мусора",
           "TYPE"
          ],
          [
           "лапша",
           "TYPE"
          ],
          [
           "залить",
           "TYPE"
          ],
          [
           "кипятком",
           "TYPE"
          ],
          [
           "кастрюли",
           "TYPE"
          ],
          [
           "морс",
           "TYPE"
          ],
          [
           "кукурзные",
           "TYPE"
          ],
          [
           "шпинвт",
           "TYPE"
          ],
          [
           "корюшка",
           "TYPE"
          ],
          [
           "вяденая",
           "TYPE"
          ],
          [
           "маккроны",
           "TYPE"
          ],
          [
           "щетки",
           "TYPE"
          ],
          [
           "морковь",
           "TYPE"
          ],
          [
           "белое",
           "TYPE"
          ],
          [
           "виноградное",
           "TYPE"
          ],
          [
           "хоеб",
           "TYPE"
          ],
          [
           "белый",
           "TYPE"
          ],
          [
           "коктель",
           "TYPE"
          ],
          [
           "молочн",
           "TYPE"
          ],
          [
           "хлеб",
           "TYPE"
          ],
          [
           "звездный",
           "TYPE"
          ],
          [
           "том",
           "TYPE"
          ],
          [
           "ям",
           "TYPE"
          ],
          [
           "айран",
           "TYPE"
          ],
          [
           "суп",
           "TYPE"
          ],
          [
           "звездочки",
           "TYPE"
          ],
          [
           "энергетик",
           "TYPE"
          ],
          [
           "халодец",
           "TYPE"
          ],
          [
           "сосисо",
           "TYPE"
          ],
          [
           "слабосолёная",
           "TYPE"
          ],
          [
           "тирамиссо",
           "TYPE"
          ],
          [
           "кабачковпя",
           "TYPE"
          ],
          [
           "бабулин",
           "TYPE"
          ],
          [
           "продукт",
           "TYPE"
          ],
          [
           "огурец",
           "TYPE"
          ],
          [
           "соле",
           "TYPE"
          ],
          [
           "удлинители",
           "TYPE"
          ],
          [
           "сосиски",
           "TYPE"
          ],
          [
           "бефстро",
           "TYPE"
          ],
          [
           "закуска",
           "TYPE"
          ],
          [
           "по",
           "TYPE"
          ],
          [
           "венгерски",
           "TYPE"
          ],
          [
           "гусиные",
           "TYPE"
          ],
          [
           "лапки",
           "TYPE"
          ],
          [
           "горчичнре",
           "TYPE"
          ],
          [
           "морковь",
           "TYPE"
          ],
          [
           "свежяя",
           "TYPE"
          ],
          [
           "крупная",
           "TYPE"
          ],
          [
           "рожок",
           "TYPE"
          ],
          [
           "бублйки",
           "TYPE"
          ],
          [
           "пельмени",
           "TYPE"
          ],
          [
           "из",
           "TYPE"
          ],
          [
           "курицы",
           "TYPE"
          ],
          [
           "овсянка",
           "TYPE"
          ],
          [
           "хлопья",
           "TYPE"
          ],
          [
           "быстрого",
           "TYPE"
          ],
          [
           "приготовления",
           "TYPE"
          ],
          [
           "сырго",
           "TYPE"
          ],
          [
           "арбузин",
           "TYPE"
          ],
          [
           "ячневая",
           "TYPE"
          ],
          [
           "крупа",
           "TYPE"
          ],
          [
           "вибомассажеры",
           "TYPE"
          ],
          [
           "приправа",
           "TYPE"
          ],
          [
           "паприка",
           "TYPE"
          ],
          [
           "копчёная",
           "TYPE"
          ],
          [
           "иахито",
           "TYPE"
          ],
          [
           "мужскии",
           "TYPE"
          ],
          [
           "зарядные",
           "TYPE"
          ],
          [
           "устройства",
           "TYPE"
          ],
          [
           "семена",
           "TYPE"
          ],
          [
           "чиа",
           "TYPE"
          ],
          [
           "сервировочная",
           "TYPE"
          ],
          [
           "посуд",
           "TYPE"
          ],
          [
           "морс",
           "TYPE"
          ],
          [
           "детский",
           "TYPE"
          ],
          [
           "кофейня",
           "TYPE"
          ],
          [
           "помидьры",
           "TYPE"
          ],
          [
           "тортыю",
           "TYPE"
          ],
          [
           "капуччино",
           "TYPE"
          ],
          [
           "ковшик",
           "TYPE"
          ],
          [
           "для",
           "TYPE"
          ],
          [
           "молока",
           "TYPE"
          ],
          [
           "салат",
           "TYPE"
          ],
          [
           "зеленый",
           "TYPE"
          ],
          [
           "питьевые",
           "TYPE"
          ],
          [
           "нитки",
           "TYPE"
          ],
          [
           "трубочка",
           "TYPE"
          ],
          [
           "кислая",
           "TYPE"
          ],
          [
           "капуста",
           "TYPE"
          ],
          [
           "йогур",
           "TYPE"
          ],
          [
           "без",
           "TYPE"
          ],
          [
           "локтозы",
           "TYPE"
          ],
          [
           "спрея",
           "TYPE"
          ],
          [
           "полукопченые",
           "TYPE"
          ],
          [
           "колбаск",
           "TYPE"
          ],
          [
           "купат",
           "TYPE"
          ],
          [
           "фунчаза",
           "TYPE"
          ],
          [
           "гречка",
           "TYPE"
          ],
          [
           "зелн",
           "TYPE"
          ],
          [
           "естесв",
           "TYPE"
          ],
          [
           "тан",
           "TYPE"
          ],
          [
           "крылышки",
           "TYPE"
          ],
          [
           "куриные",
           "TYPE"
          ],
          [
           "фитики",
           "TYPE"
          ],
          [
           "одноразовая",
           "TYPE"
          ],
          [
           "посуда",
           "TYPE"
          ],
          [
           "жюльен",
           "TYPE"
          ],
          [
           "яблоки",
           "TYPE"
          ],
          [
           "буже",
           "TYPE"
          ],
          [
           "благояр",
           "TYPE"
          ],
          [
           "кукурузой",
           "TYPE"
          ],
          [
           "тропический",
           "TYPE"
          ],
          [
           "бумага",
           "TYPE"
          ],
          [
           "туалетная",
           "TYPE"
          ],
          [
           "краски",
           "TYPE"
          ],
          [
           "мандарины",
           "TYPE"
          ],
          [
           "в",
           "TYPE"
          ],
          [
           "се",
           "TYPE"
          ],
          [
           "сок",
           "TYPE"
          ],
          [
           "апельсиновый",
           "TYPE"
          ],
          [
           "любимчик",
           "TYPE"
          ],
          [
           "свртаки",
           "TYPE"
          ],
          [
           "тербуренка",
           "TYPE"
          ],
          [
           "омидор",
           "TYPE"
          ],
          [
           "коктейль",
           "TYPE"
          ],
          [
           "детский",
           "TYPE"
          ],
          [
           "фрутела",
           "TYPE"
          ],
          [
           "тыквяный",
           "TYPE"
          ],
          [
           "аральян",
           "TYPE"
          ],
          [
           "трюфелем",
           "TYPE"
          ],
          [
           "маска",
           "TYPE"
          ],
          [
           "тканевая",
           "TYPE"
          ],
          [
           "декоративная",
           "TYPE"
          ],
          [
           "космети",
           "TYPE"
          ],
          [
           "понировачные",
           "TYPE"
          ],
          [
           "одеколон",
           "TYPE"
          ],
          [
           "масло",
           "TYPE"
          ],
          [
           "язычлк",
           "TYPE"
          ],
          [
           "мяч",
           "TYPE"
          ],
          [
           "сливовиднве",
           "TYPE"
          ],
          [
           "горощок",
           "TYPE"
          ],
          [
           "стак",
           "TYPE"
          ],
          [
           "жидкос",
           "TYPE"
          ],
          [
           "халапиньо",
           "TYPE"
          ],
          [
           "хинкалл",
           "TYPE"
          ],
          [
           "с",
           "TYPE"
          ],
          [
           "говдиной",
           "TYPE"
          ],
          [
           "чай",
           "TYPE"
          ],
          [
           "майский",
           "TYPE"
          ],
          [
           "торт1",
           "TYPE"
          ],
          [
           "энергиль",
           "TYPE"
          ],
          [
           "депешка",
           "TYPE"
          ],
          [
           "с",
           "TYPE"
          ],
          [
           "свром",
           "TYPE"
          ],
          [
           "колечки",
           "TYPE"
          ],
          [
           "лимонсо",
           "TYPE"
          ],
          [
           "апетитка",
           "TYPE"
          ],
          [
           "для",
           "TYPE"
          ],
          [
           "бур",
           "TYPE"
          ],
          [
           "усово",
           "TYPE"
          ],
          [
           "водк",
           "TYPE"
          ],
          [
           "онтик",
           "TYPE"
          ],
          [
           "тесто",
           "TYPE"
          ],
          [
           "пицца",
           "TYPE"
          ],
          [
           "филе",
           "TYPE"
          ],
          [
           "бедра",
           "TYPE"
          ],
          [
           "курицы",
           "TYPE"
          ],
          [
           "шпик",
           "TYPE"
          ],
          [
           "ufe",
           "TYPE"
          ],
          [
           "сыр",
           "TYPE"
          ],
          [
           "моцарелла",
           "TYPE"
          ],
          [
           "чистящие",
           "TYPE"
          ],
          [
           "средст",
           "TYPE"
          ],
          [
           "апельсины",
           "TYPE"
          ],
          [
           "блинчик",
           "TYPE"
          ],
          [
           "из",
           "TYPE"
          ],
          [
           "кор",
           "TYPE"
          ],
          [
           "конфертики",
           "TYPE"
          ],
          [
           "с",
           "TYPE"
          ],
          [
           "ветчиной",
           "TYPE"
          ],
          [
           "майонез",
           "TYPE"
          ],
          [
           "салатный",
           "TYPE"
          ],
          [
           "печенья",
           "TYPE"
          ],
          [
           "пирожоне",
           "TYPE"
          ],
          [
           "льняна",
           "TYPE"
          ],
          [
           "молоко",
           "TYPE"
          ],
          [
           "сгущенное",
           "TYPE"
          ],
          [
           "без",
           "TYPE"
          ],
          [
           "сахара",
           "TYPE"
          ],
          [
           "средства",
           "TYPE"
          ],
          [
           "для",
           "TYPE"
          ],
          [
           "кухни",
           "TYPE"
          ],
          [
           "сметанковы",
           "TYPE"
          ],
          [
           "сок",
           "TYPE"
          ],
          [
           "томат",
           "TYPE"
          ],
          [
           "донат",
           "TYPE"
          ],
          [
           "чия",
           "TYPE"
          ],
          [
           "семна",
           "TYPE"
          ],
          [
           "аюпорошок",
           "TYPE"
          ],
          [
           "масловы",
           "TYPE"
          ],
          [
           "сливочная",
           "TYPE"
          ],
          [
           "зкфир",
           "TYPE"
          ],
          [
           "прованск",
           "TYPE"
          ],
          [
           "печения",
           "TYPE"
          ],
          [
           "панкейкм",
           "TYPE"
          ],
          [
           "курица",
           "TYPE"
          ],
          [
           "бедро",
           "TYPE"
          ],
          [
           "груши",
           "TYPE"
          ],
          [
           "паста",
           "TYPE"
          ],
          [
           "с",
           "TYPE"
          ],
          [
           "кальмаром",
           "TYPE"
          ],
          [
           "киви",
           "TYPE"
          ],
          [
           "лаваши",
           "TYPE"
          ],
          [
           "чернослив",
           "TYPE"
          ],
          [
           "сыр",
           "TYPE"
          ],
          [
           "тертый",
           "TYPE"
          ],
          [
           "сулугуни",
           "TYPE"
          ],
          [
           "айран",
           "TYPE"
          ],
          [
           "тан",
           "TYPE"
          ],
          [
           "черешня",
           "TYPE"
          ],
          [
           "туалетная",
           "TYPE"
          ],
          [
           "бумаг",
           "TYPE"
          ],
          [
           "батончик",
           "TYPE"
          ],
          [
           "корм",
           "TYPE"
          ],
          [
           "сухой",
           "TYPE"
          ],
          [
           "собачий",
           "TYPE"
          ],
          [
           "онигори",
           "TYPE"
          ],
          [
           "хаждеый",
           "TYPE"
          ],
          [
           "конфеты",
           "TYPE"
          ],
          [
           "лукумом",
           "TYPE"
          ],
          [
           "в",
           "TYPE"
          ],
          [
           "крикет",
           "TYPE"
          ],
          [
           "твороюная",
           "TYPE"
          ],
          [
           "компоь",
           "TYPE"
          ],
          [
           "маковы",
           "TYPE"
          ],
          [
           "картоф",
           "TYPE"
          ],
          [
           "ирис",
           "TYPE"
          ],
          [
           "корм",
           "TYPE"
          ],
          [
           "влажный",
           "TYPE"
          ],
          [
           "соус",
           "TYPE"
          ],
          [
           "протеиновый",
           "TYPE"
          ],
          [
           "пудинг",
           "TYPE"
          ],
          [
           "сухармки",
           "TYPE"
          ],
          [
           "сафлетки",
           "TYPE"
          ],
          [
           "тыква",
           "TYPE"
          ],
          [
           "на",
           "TYPE"
          ],
          [
           "кремсуп",
           "TYPE"
          ],
          [
           "саженцы",
           "TYPE"
          ],
          [
           "клубника",
           "TYPE"
          ],
          [
           "овсянкп",
           "TYPE"
          ],
          [
           "яблоко",
           "TYPE"
          ],
          [
           "кроха",
           "TYPE"
          ],
          [
           "кукурузой",
           "TYPE"
          ],
          [
           "грейфпфрут",
           "TYPE"
          ],
          [
           "сосиски",
           "TYPE"
          ],
          [
           "филе",
           "TYPE"
          ],
          [
           "яйщо",
           "TYPE"
          ],
          [
           "млавленный",
           "TYPE"
          ],
          [
           "укроп",
           "TYPE"
          ],
          [
           "сушеный",
           "TYPE"
          ],
          [
           "сухари",
           "TYPE"
          ],
          [
           "ванильные",
           "TYPE"
          ],
          [
           "с",
           "TYPE"
          ],
          [
           "изюмом",
           "TYPE"
          ],
          [
           "сыр",
           "TYPE"
          ],
          [
           "шоколадный",
           "TYPE"
          ],
          [
           "айсбеог",
           "TYPE"
          ],
          [
           "кальмаровый",
           "TYPE"
          ],
          [
           "помодоры",
           "TYPE"
          ],
          [
           "бакалея",
           "TYPE"
          ],
          [
           "капсулах",
           "TYPE"
          ],
          [
           "цвекла",
           "TYPE"
          ],
          [
           "солоь",
           "TYPE"
          ],
          [
           "чибупхели",
           "TYPE"
          ],
          [
           "рис",
           "TYPE"
          ],
          [
           "кголень",
           "TYPE"
          ],
          [
           "фрутво-овощые",
           "TYPE"
          ],
          [
           "золотое",
           "TYPE"
          ],
          [
           "карты",
           "TYPE"
          ],
          [
           "памя",
           "TYPE"
          ],
          [
           "макароно",
           "TYPE"
          ],
          [
           "тушка",
           "TYPE"
          ],
          [
           "цыпленка",
           "TYPE"
          ],
          [
           "пттица",
           "TYPE"
          ],
          [
           "бананаааа",
           "TYPE"
          ],
          [
           "бюльмени",
           "TYPE"
          ],
          [
           "баллзамический",
           "TYPE"
          ],
          [
           "карпа",
           "TYPE"
          ],
          [
           "рассольный",
           "TYPE"
          ],
          [
           "майанез",
           "TYPE"
          ],
          [
           "игиеничсая",
           "TYPE"
          ],
          [
           "майонея",
           "TYPE"
          ],
          [
           "маслиг",
           "TYPE"
          ],
          [
           "кефир",
           "TYPE"
          ],
          [
           "детский",
           "TYPE"
          ],
          [
           "чеснрк",
           "TYPE"
          ],
          [
           "хлеб",
           "TYPE"
          ],
          [
           "с",
           "TYPE"
          ],
          [
           "куку",
           "TYPE"
          ],
          [
           "масло",
           "TYPE"
          ],
          [
           "длы",
           "TYPE"
          ],
          [
           "каши",
           "TYPE"
          ],
          [
           "яблоки",
           "TYPE"
          ],
          [
           "груши",
           "TYPE"
          ],
          [
           "бананы",
           "TYPE"
          ],
          [
           "блины,",
           "TYPE"
          ],
          [
           "блинчики",
           "TYPE"
          ],
          [
           "времут",
           "TYPE"
          ],
          [
           "панама",
           "TYPE"
          ],
          [
           "шампионьоны",
           "TYPE"
          ],
          [
           "волоросли",
           "TYPE"
          ],
          [
           "пшюшки",
           "TYPE"
          ],
          [
           "геркулес",
           "TYPE"
          ],
          [
           "быстрого",
           "TYPE"
          ],
          [
           "приготовления",
           "TYPE"
          ],
          [
           "колбаса",
           "TYPE"
          ],
          [
           "варе",
           "TYPE"
          ],
          [
           "спортик",
           "TYPE"
          ],
          [
           "колбаа",
           "TYPE"
          ],
          [
           "прокладки",
           "TYPE"
          ],
          [
           "ьворогг",
           "TYPE"
          ],
          [
           "порош",
           "TYPE"
          ],
          [
           "имасло",
           "TYPE"
          ],
          [
           "спич",
           "TYPE"
          ],
          [
           "картоыелт",
           "TYPE"
          ],
          [
           "конфеты",
           "TYPE"
          ],
          [
           "секщенка",
           "TYPE"
          ],
          [
           "малоко",
           "TYPE"
          ],
          [
           "ацид",
           "TYPE"
          ],
          [
           "аогурцы",
           "TYPE"
          ],
          [
           "слайм",
           "TYPE"
          ],
          [
           "ацидоефилин",
           "TYPE"
          ],
          [
           "печенье",
           "TYPE"
          ],
          [
           "с",
           "TYPE"
          ],
          [
           "шог",
           "TYPE"
          ],
          [
           "рилок",
           "TYPE"
          ],
          [
           "разрышлитель",
           "TYPE"
          ],
          [
           "одноразовые",
           "TYPE"
          ],
          [
           "пеленк",
           "TYPE"
          ],
          [
           "кефир",
           "TYPE"
          ],
          [
           "для",
           "TYPE"
          ],
          [
           "детей",
           "TYPE"
          ],
          [
           "трюфельные",
           "TYPE"
          ],
          [
           "сосискию",
           "TYPE"
          ],
          [
           "украшения,",
           "TYPE"
          ],
          [
           "ароматизация",
           "TYPE"
          ],
          [
           "ролики",
           "TYPE"
          ],
          [
           "голландские",
           "TYPE"
          ],
          [
           "салфетки",
           "TYPE"
          ],
          [
           "для",
           "TYPE"
          ],
          [
           "детей",
           "TYPE"
          ],
          [
           "губк",
           "TYPE"
          ],
          [
           "д",
           "TYPE"
          ],
          [
           "пcд",
           "TYPE"
          ],
          [
           "кислель",
           "TYPE"
          ],
          [
           "взбитый",
           "TYPE"
          ],
          [
           "икра",
           "TYPE"
          ],
          [
           "баклажанная",
           "TYPE"
          ],
          [
           "острая",
           "TYPE"
          ],
          [
           "мюсли",
           "TYPE"
          ],
          [
           "печенье",
           "TYPE"
          ],
          [
           "пельмених",
           "TYPE"
          ],
          [
           "спагнети",
           "TYPE"
          ],
          [
           "порошок",
           "TYPE"
          ],
          [
           "для",
           "TYPE"
          ],
          [
           "стрики",
           "TYPE"
          ],
          [
           "макароныш",
           "TYPE"
          ],
          [
           "кускус",
           "TYPE"
          ],
          [
           "для",
           "TYPE"
          ],
          [
           "гарнира",
           "TYPE"
          ],
          [
           "фичташки",
           "TYPE"
          ],
          [
           "туорог",
           "TYPE"
          ],
          [
           "сливовные",
           "TYPE"
          ],
          [
           "йогк",
           "TYPE"
          ],
          [
           "соль",
           "TYPE"
          ],
          [
           "каменая",
           "TYPE"
          ],
          [
           "нудинг",
           "TYPE"
          ],
          [
           "смесь",
           "TYPE"
          ],
          [
           "пряност",
           "TYPE"
          ],
          [
           "рожок",
           "TYPE"
          ],
          [
           "протеино",
           "TYPE"
          ],
          [
           "волчёк",
           "TYPE"
          ],
          [
           "холодильник",
           "TYPE"
          ],
          [
           "двухкамерный",
           "TYPE"
          ],
          [
           "морков",
           "TYPE"
          ],
          [
           "к",
           "TYPE"
          ],
          [
           "борщ",
           "TYPE"
          ],
          [
           "запекнк",
           "TYPE"
          ],
          [
           "творг",
           "TYPE"
          ],
          [
           "изюм",
           "TYPE"
          ],
          [
           "сковороды,",
           "TYPE"
          ],
          [
           "сотейни",
           "TYPE"
          ],
          [
           "торилья",
           "TYPE"
          ],
          [
           "протеиновы",
           "TYPE"
          ],
          [
           "брокколи",
           "TYPE"
          ],
          [
           "пюре",
           "TYPE"
          ],
          [
           "жвачкп",
           "TYPE"
          ],
          [
           "сыокоченый",
           "TYPE"
          ],
          [
           "конфнренция",
           "TYPE"
          ],
          [
           "кукуроза",
           "TYPE"
          ],
          [
           "прг",
           "TYPE"
          ],
          [
           "томатный",
           "TYPE"
          ],
          [
           "соус",
           "TYPE"
          ],
          [
           "ошейники",
           "TYPE"
          ],
          [
           "квашенн",
           "TYPE"
          ],
          [
           "горбушка",
           "TYPE"
          ],
          [
           "картошка",
           "TYPE"
          ],
          [
           "к",
           "TYPE"
          ],
          [
           "пюре",
           "TYPE"
          ],
          [
           "чак",
           "TYPE"
          ],
          [
           "ч",
           "TYPE"
          ],
          [
           "семечкт",
           "TYPE"
          ],
          [
           "устричный",
           "TYPE"
          ],
          [
           "сыроку",
           "TYPE"
          ],
          [
           "портвейны",
           "TYPE"
          ],
          [
           "зувочистки",
           "TYPE"
          ],
          [
           "самса",
           "TYPE"
          ],
          [
           "с",
           "TYPE"
          ],
          [
           "куриц",
           "TYPE"
          ],
          [
           "уксуса",
           "TYPE"
          ],
          [
           "крабоаые",
           "TYPE"
          ],
          [
           "молочный",
           "TYPE"
          ],
          [
           "коктейль",
           "TYPE"
          ],
          [
           "томленое",
           "TYPE"
          ],
          [
           "хлебцы",
           "TYPE"
          ],
          [
           "карамельные",
           "TYPE"
          ],
          [
           "сметн",
           "TYPE"
          ],
          [
           "густ",
           "TYPE"
          ],
          [
           "сытна",
           "TYPE"
          ],
          [
           "бритва",
           "TYPE"
          ],
          [
           "мочвлка",
           "TYPE"
          ],
          [
           "вырезка",
           "TYPE"
          ],
          [
           "бальзам",
           "TYPE"
          ],
          [
           "для",
           "TYPE"
          ],
          [
           "губ",
           "TYPE"
          ],
          [
           "кефир",
           "TYPE"
          ],
          [
           "шпагки",
           "TYPE"
          ],
          [
           "коксовая",
           "TYPE"
          ],
          [
           "клртофель",
           "TYPE"
          ],
          [
           "сспагетти",
           "TYPE"
          ],
          [
           "приправа",
           "TYPE"
          ],
          [
           "сое",
           "TYPE"
          ],
          [
           "лимона",
           "TYPE"
          ],
          [
           "бананц",
           "TYPE"
          ],
          [
           "чип",
           "TYPE"
          ],
          [
           "курага",
           "TYPE"
          ],
          [
           "аорошок",
           "TYPE"
          ],
          [
           "снкжный",
           "TYPE"
          ],
          [
           "перец",
           "TYPE"
          ],
          [
           "болгарский",
           "TYPE"
          ],
          [
           "чеюупицца",
           "TYPE"
          ],
          [
           "арбуз",
           "TYPE"
          ],
          [
           "пудинг",
           "TYPE"
          ],
          [
           "патчи",
           "TYPE"
          ],
          [
           "для",
           "TYPE"
          ],
          [
           "глаз",
           "TYPE"
          ],
          [
           "посуда",
           "TYPE"
          ],
          [
           "кофейник",
           "TYPE"
          ],
          [
           "напиток",
           "TYPE"
          ],
          [
           "овсяный",
           "TYPE"
          ],
          [
           "ясн",
           "TYPE"
          ],
          [
           "торт",
           "TYPE"
          ],
          [
           "птичка",
           "TYPE"
          ],
          [
           "фены",
           "TYPE"
          ],
          [
           "соус",
           "TYPE"
          ],
          [
           "чили",
           "TYPE"
          ],
          [
           "ряенка",
           "TYPE"
          ],
          [
           "сгущенка",
           "TYPE"
          ],
          [
           "вареная",
           "TYPE"
          ],
          [
           "осетри",
           "TYPE"
          ],
          [
           "круглый",
           "TYPE"
          ],
          [
           "рис",
           "TYPE"
          ],
          [
           "горошеа",
           "TYPE"
          ],
          [
           "бриджи,",
           "TYPE"
          ],
          [
           "шорты",
           "TYPE"
          ],
          [
           "холодцы",
           "TYPE"
          ],
          [
           "средство",
           "TYPE"
          ],
          [
           "для",
           "TYPE"
          ],
          [
           "зеркал",
           "TYPE"
          ],
          [
           "бумажный",
           "TYPE"
          ],
          [
           "салфетки",
           "TYPE"
          ],
          [
           "палочка",
           "TYPE"
          ],
          [
           "пиццетта",
           "TYPE"
          ],
          [
           "замороженный",
           "TYPE"
          ],
          [
           "малика",
           "TYPE"
          ],
          [
           "йогурт",
           "TYPE"
          ],
          [
           "питьивой",
           "TYPE"
          ],
          [
           "клубничный",
           "TYPE"
          ],
          [
           "компоа",
           "TYPE"
          ],
          [
           "мылоз",
           "TYPE"
          ],
          [
           "салями",
           "TYPE"
          ],
          [
           "солы",
           "TYPE"
          ],
          [
           "сок",
           "TYPE"
          ],
          [
           "буше",
           "TYPE"
          ],
          [
           "копченость",
           "TYPE"
          ],
          [
           "фульон",
           "TYPE"
          ],
          [
           "пельмешата",
           "TYPE"
          ],
          [
           "бумажные",
           "TYPE"
          ],
          [
           "скатерт",
           "TYPE"
          ],
          [
           "кофе",
           "TYPE"
          ],
          [
           "с",
           "TYPE"
          ],
          [
           "сахаром",
           "TYPE"
          ],
          [
           "мтлоко",
           "TYPE"
          ],
          [
           "сухариеи",
           "TYPE"
          ],
          [
           "пельмени",
           "TYPE"
          ],
          [
           "халяль",
           "TYPE"
          ],
          [
           "вода",
           "TYPE"
          ],
          [
           "не",
           "TYPE"
          ],
          [
           "газир",
           "TYPE"
          ],
          [
           "чеснос",
           "TYPE"
          ],
          [
           "грчка",
           "TYPE"
          ],
          [
           "дл",
           "TYPE"
          ],
          [
           "гарнр",
           "TYPE"
          ],
          [
           "нарезной",
           "TYPE"
          ],
          [
           "хлеб",
           "TYPE"
          ],
          [
           "оливка",
           "TYPE"
          ],
          [
           "кусочки",
           "TYPE"
          ],
          [
           "ватружки",
           "TYPE"
          ],
          [
           "сельд",
           "TYPE"
          ],
          [
           "перловка",
           "TYPE"
          ],
          [
           "запеченное",
           "TYPE"
          ],
          [
           "напитки",
           "TYPE"
          ],
          [
           "слабоалкогольн",
           "TYPE"
          ],
          [
           "спрей",
           "TYPE"
          ],
          [
           "от",
           "TYPE"
          ],
          [
           "клещ",
           "TYPE"
          ],
          [
           "бат",
           "TYPE"
          ],
          [
           "творог",
           "TYPE"
          ],
          [
           "обезжиренный",
           "TYPE"
          ],
          [
           "корм",
           "TYPE"
          ],
          [
           "для",
           "TYPE"
          ],
          [
           "кошеу",
           "TYPE"
          ],
          [
           "тирамиму",
           "TYPE"
          ],
          [
           "сухерики",
           "TYPE"
          ],
          [
           "филе",
           "TYPE"
          ],
          [
           "курицы",
           "TYPE"
          ],
          [
           "прокладеи",
           "TYPE"
          ],
          [
           "шея",
           "TYPE"
          ],
          [
           "свиная",
           "TYPE"
          ],
          [
           "яболоко",
           "TYPE"
          ],
          [
           "творлжки",
           "TYPE"
          ],
          [
           "ккртошка",
           "TYPE"
          ],
          [
           "кухонной",
           "TYPE"
          ],
          [
           "вытяжки",
           "TYPE"
          ],
          [
           "мороженной",
           "TYPE"
          ],
          [
           "баранки",
           "TYPE"
          ],
          [
           "слоёные",
           "TYPE"
          ],
          [
           "кша",
           "TYPE"
          ],
          [
           "чсосиски",
           "TYPE"
          ],
          [
           "охлажденное",
           "TYPE"
          ],
          [
           "макаргны",
           "TYPE"
          ],
          [
           "варенникм",
           "TYPE"
          ],
          [
           "ряжежнка",
           "TYPE"
          ],
          [
           "мандарины",
           "TYPE"
          ],
          [
           "яйцф",
           "TYPE"
          ],
          [
           "мисок",
           "TYPE"
          ],
          [
           "зефир",
           "TYPE"
          ],
          [
           "сгущее",
           "TYPE"
          ],
          [
           "сидр",
           "TYPE"
          ],
          [
           "арахис",
           "TYPE"
          ],
          [
           "в",
           "TYPE"
          ],
          [
           "панировке",
           "TYPE"
          ],
          [
           "горчицв",
           "TYPE"
          ],
          [
           "чипсых",
           "TYPE"
          ],
          [
           "набор",
           "TYPE"
          ],
          [
           "чйых",
           "TYPE"
          ],
          [
           "горчитца",
           "TYPE"
          ],
          [
           "шрколад",
           "TYPE"
          ],
          [
           "огуруы",
           "TYPE"
          ],
          [
           "hinz",
           "TYPE"
          ],
          [
           "хлеббцы",
           "TYPE"
          ],
          [
           "уарбонат",
           "TYPE"
          ],
          [
           "суп",
           "TYPE"
          ],
          [
           "грибной",
           "TYPE"
          ],
          [
           "рукколан",
           "TYPE"
          ],
          [
           "хлеб",
           "TYPE"
          ],
          [
           "пайонез",
           "TYPE"
          ],
          [
           "мясо",
           "TYPE"
          ],
          [
           "свинина",
           "TYPE"
          ],
          [
           "сыв",
           "TYPE"
          ],
          [
           "удлинители",
           "TYPE"
          ],
          [
           "подова",
           "TYPE"
          ],
          [
           "хинкалм",
           "TYPE"
          ],
          [
           "пищевая",
           "TYPE"
          ],
          [
           "пленка",
           "TYPE"
          ],
          [
           "картошечка",
           "TYPE"
          ],
          [
           "укроп",
           "TYPE"
          ],
          [
           "лук",
           "TYPE"
          ],
          [
           "шампунь",
           "TYPE"
          ],
          [
           "тесто",
           "TYPE"
          ],
          [
           "замороженное",
           "TYPE"
          ],
          [
           "чай",
           "TYPE"
          ],
          [
           "степлеры",
           "TYPE"
          ],
          [
           "аблепиха",
           "TYPE"
          ],
          [
           "яйца",
           "TYPE"
          ],
          [
           "куриные",
           "TYPE"
          ],
          [
           "концентрированный",
           "TYPE"
          ],
          [
           "с",
           "TYPE"
          ],
          [
           "рыбное",
           "TYPE"
          ],
          [
           "сегция",
           "TYPE"
          ],
          [
           "сельдь",
           "TYPE"
          ],
          [
           "рогалики",
           "TYPE"
          ],
          [
           "тарел",
           "TYPE"
          ],
          [
           "календари",
           "TYPE"
          ],
          [
           "нагетсч",
           "TYPE"
          ],
          [
           "докторска",
           "TYPE"
          ],
          [
           "ипроги",
           "TYPE"
          ],
          [
           "ромовая",
           "TYPE"
          ],
          [
           "краск",
           "TYPE"
          ],
          [
           "салми",
           "TYPE"
          ],
          [
           "смесь",
           "TYPE"
          ],
          [
           "перцев",
           "TYPE"
          ],
          [
           "острых",
           "TYPE"
          ],
          [
           "гаполнитель",
           "TYPE"
          ],
          [
           "корм",
           "TYPE"
          ],
          [
           "гигиеническая",
           "TYPE"
          ],
          [
           "йогур",
           "TYPE"
          ],
          [
           "греческий",
           "TYPE"
          ],
          [
           "лочо",
           "TYPE"
          ],
          [
           "крекеты",
           "TYPE"
          ],
          [
           "пасны",
           "TYPE"
          ],
          [
           "сыр",
           "TYPE"
          ],
          [
           "адыгейский",
           "TYPE"
          ],
          [
           "охотничьм",
           "TYPE"
          ],
          [
           "мылоэ",
           "TYPE"
          ],
          [
           "средство",
           "TYPE"
          ],
          [
           "для",
           "TYPE"
          ],
          [
           "окон",
           "TYPE"
          ],
          [
           "селёдк",
           "TYPE"
          ],
          [
           "озерк",
           "TYPE"
          ],
          [
           "иоллко",
           "TYPE"
          ],
          [
           "средство",
           "TYPE"
          ],
          [
           "для",
           "TYPE"
          ],
          [
           "мытья",
           "TYPE"
          ],
          [
           "сантехники",
           "TYPE"
          ],
          [
           "тешонка",
           "TYPE"
          ],
          [
           "каши",
           "TYPE"
          ],
          [
           "йогуртовы",
           "TYPE"
          ],
          [
           "ерстов",
           "TYPE"
          ],
          [
           "бадьян",
           "TYPE"
          ],
          [
           "чтобы",
           "TYPE"
          ],
          [
           "шоколадв",
           "TYPE"
          ],
          [
           "мыльные",
           "TYPE"
          ],
          [
           "пузыри",
           "TYPE"
          ],
          [
           "маринованве",
           "TYPE"
          ],
          [
           "медову",
           "TYPE"
          ],
          [
           "пенка",
           "TYPE"
          ],
          [
           "для",
           "TYPE"
          ],
          [
           "бритья",
           "TYPE"
          ],
          [
           "шампиньоня",
           "TYPE"
          ],
          [
           "сарафано",
           "TYPE"
          ],
          [
           "энергиик",
           "TYPE"
          ],
          [
           "окун",
           "TYPE"
          ],
          [
           "щетка",
           "TYPE"
          ],
          [
           "для",
           "TYPE"
          ],
          [
           "ванны",
           "TYPE"
          ],
          [
           "огурец",
           "TYPE"
          ],
          [
           "маринованный",
           "TYPE"
          ],
          [
           "твррожки",
           "TYPE"
          ],
          [
           "рис",
           "TYPE"
          ],
          [
           "пропа",
           "TYPE"
          ],
          [
           "шоколад",
           "TYPE"
          ],
          [
           "сыруи",
           "TYPE"
          ],
          [
           "рыба",
           "TYPE"
          ],
          [
           "сушеная",
           "TYPE"
          ],
          [
           "свечек",
           "TYPE"
          ],
          [
           "саженец",
           "TYPE"
          ],
          [
           "наполнители",
           "TYPE"
          ],
          [
           "для",
           "TYPE"
          ],
          [
           "туалетов",
           "TYPE"
          ],
          [
           "мыло",
           "TYPE"
          ],
          [
           "весна",
           "TYPE"
          ],
          [
           "аромат",
           "TYPE"
          ],
          [
           "смакароны",
           "TYPE"
          ],
          [
           "котлет",
           "TYPE"
          ],
          [
           "рупеты",
           "TYPE"
          ],
          [
           "шампунь",
           "TYPE"
          ],
          [
           "д",
           "TYPE"
          ],
          [
           "дтск",
           "TYPE"
          ],
          [
           "гигн",
           "TYPE"
          ],
          [
           "изюмка",
           "TYPE"
          ],
          [
           "овся",
           "TYPE"
          ],
          [
           "blade",
           "TYPE"
          ],
          [
           "бумаг",
           "TYPE"
          ],
          [
           "шоколадка",
           "TYPE"
          ],
          [
           "без",
           "TYPE"
          ],
          [
           "сахара",
           "TYPE"
          ],
          [
           "птица",
           "TYPE"
          ],
          [
           "охлажденн",
           "TYPE"
          ],
          [
           "батарейка",
           "TYPE"
          ],
          [
           "пиво",
           "TYPE"
          ],
          [
           "колбаса",
           "TYPE"
          ],
          [
           "огурцв",
           "TYPE"
          ],
          [
           "бат",
           "TYPE"
          ],
          [
           "иегурт",
           "TYPE"
          ],
          [
           "без",
           "TYPE"
          ],
          [
           "дрожжевой",
           "TYPE"
          ],
          [
           "хлеб",
           "TYPE"
          ],
          [
           "хсемечки",
           "TYPE"
          ],
          [
           "маннюка",
           "TYPE"
          ],
          [
           "сок",
           "TYPE"
          ],
          [
           "мультифрук",
           "TYPE"
          ],
          [
           "ричь",
           "TYPE"
          ],
          [
           "конти",
           "TYPE"
          ],
          [
           "морковк",
           "TYPE"
          ],
          [
           "с",
           "TYPE"
          ],
          [
           "мидиями",
           "TYPE"
          ],
          [
           "паста",
           "TYPE"
          ],
          [
           "груши",
           "TYPE"
          ],
          [
           "кола",
           "TYPE"
          ],
          [
           "приправв",
           "TYPE"
          ],
          [
           "пена",
           "TYPE"
          ],
          [
           "для",
           "TYPE"
          ],
          [
           "бритя",
           "TYPE"
          ],
          [
           "медвиа",
           "TYPE"
          ],
          [
           "коница",
           "TYPE"
          ],
          [
           "помидорные",
           "TYPE"
          ],
          [
           "нуга",
           "TYPE"
          ],
          [
           "хлеб",
           "TYPE"
          ],
          [
           "бороднскй",
           "TYPE"
          ],
          [
           "нарез",
           "TYPE"
          ],
          [
           "без",
           "TYPE"
          ],
          [
           "сахара",
           "TYPE"
          ],
          [
           "мафйин",
           "TYPE"
          ],
          [
           "подгузники",
           "TYPE"
          ],
          [
           "печеньяя",
           "TYPE"
          ],
          [
           "помидоры.",
           "TYPE"
          ],
          [
           "бедро",
           "TYPE"
          ],
          [
           "усксус",
           "TYPE"
          ],
          [
           "стручков",
           "TYPE"
          ],
          [
           "суфле",
           "TYPE"
          ],
          [
           "сыр",
           "TYPE"
          ],
          [
           "орехи",
           "TYPE"
          ],
          [
           "мапормелад",
           "TYPE"
          ],
          [
           "шп",
           "TYPE"
          ],
          [
           "палочка",
           "TYPE"
          ],
          [
           "детски",
           "TYPE"
          ],
          [
           "стейк",
           "TYPE"
          ],
          [
           "говяжий",
           "TYPE"
          ],
          [
           "марин",
           "TYPE"
          ],
          [
           "лук",
           "TYPE"
          ],
          [
           "зеленый",
           "TYPE"
          ],
          [
           "горчица",
           "TYPE"
          ],
          [
           "губок",
           "TYPE"
          ],
          [
           "календарь",
           "TYPE"
          ],
          [
           "отблевтель",
           "TYPE"
          ],
          [
           "мощн",
           "TYPE"
          ],
          [
           "лось",
           "TYPE"
          ],
          [
           "мармелад",
           "TYPE"
          ],
          [
           "жевательным",
           "TYPE"
          ],
          [
           "вбтесливки",
           "TYPE"
          ],
          [
           "пакеты",
           "TYPE"
          ],
          [
           "для",
           "TYPE"
          ],
          [
           "льда",
           "TYPE"
          ],
          [
           "ййяйцо",
           "TYPE"
          ],
          [
           "сосочиски",
           "TYPE"
          ],
          [
           "мариновонные",
           "TYPE"
          ],
          [
           "орехи",
           "TYPE"
          ],
          [
           "джаз",
           "TYPE"
          ],
          [
           "макаран",
           "TYPE"
          ],
          [
           "штопоры",
           "TYPE"
          ],
          [
           "электрическ",
           "TYPE"
          ],
          [
           "белое",
           "TYPE"
          ],
          [
           "груудка",
           "TYPE"
          ],
          [
           "тнигири",
           "TYPE"
          ],
          [
           "скубрия",
           "TYPE"
          ],
          [
           "ржаные",
           "TYPE"
          ],
          [
           "хлебцы",
           "TYPE"
          ],
          [
           "артишок",
           "TYPE"
          ],
          [
           "фермерск",
           "TYPE"
          ],
          [
           "посула",
           "TYPE"
          ],
          [
           "кечуп",
           "TYPE"
          ],
          [
           "для",
           "TYPE"
          ],
          [
           "гриля",
           "TYPE"
          ],
          [
           "икра",
           "TYPE"
          ],
          [
           "кабачковая",
           "TYPE"
          ],
          [
           "домашняя",
           "TYPE"
          ],
          [
           "котлет",
           "TYPE"
          ],
          [
           "пюре",
           "TYPE"
          ],
          [
           "огрец",
           "TYPE"
          ],
          [
           "бюстгальтера",
           "TYPE"
          ],
          [
           "макаронных",
           "TYPE"
          ],
          [
           "чай",
           "TYPE"
          ],
          [
           "конфеьы",
           "TYPE"
          ],
          [
           "батон",
           "TYPE"
          ],
          [
           "говядина",
           "TYPE"
          ],
          [
           "стейк",
           "TYPE"
          ],
          [
           "с",
           "TYPE"
          ],
          [
           "киноа",
           "TYPE"
          ],
          [
           "салат",
           "TYPE"
          ],
          [
           "листья",
           "TYPE"
          ],
          [
           "нори",
           "TYPE"
          ],
          [
           "с",
           "TYPE"
          ],
          [
           "креветками",
           "TYPE"
          ],
          [
           "паэлья",
           "TYPE"
          ],
          [
           "лапшв",
           "TYPE"
          ],
          [
           "бользам",
           "TYPE"
          ],
          [
           "мармелад",
           "TYPE"
          ],
          [
           "с",
           "TYPE"
          ],
          [
           "й",
           "TYPE"
          ],
          [
           "мармелад",
           "TYPE"
          ],
          [
           "сметаг",
           "TYPE"
          ],
          [
           "сопьо",
           "TYPE"
          ],
          [
           "мороженое",
           "TYPE"
          ],
          [
           "в",
           "TYPE"
          ],
          [
           "ст",
           "TYPE"
          ],
          [
           "минерлка",
           "TYPE"
          ],
          [
           "силна",
           "TYPE"
          ],
          [
           "игристая",
           "TYPE"
          ],
          [
           "котячья",
           "TYPE"
          ],
          [
           "еда",
           "TYPE"
          ],
          [
           "заливн",
           "TYPE"
          ],
          [
           "шпро",
           "TYPE"
          ],
          [
           "сорковьь",
           "TYPE"
          ],
          [
           "рожки",
           "TYPE"
          ],
          [
           "блины",
           "TYPE"
          ],
          [
           "с",
           "TYPE"
          ],
          [
           "мяс",
           "TYPE"
          ],
          [
           "вода",
           "TYPE"
          ],
          [
           "фруате",
           "TYPE"
          ],
          [
           "сухой",
           "TYPE"
          ],
          [
           "корм",
           "TYPE"
          ],
          [
           "кошке",
           "TYPE"
          ],
          [
           "шашык",
           "TYPE"
          ],
          [
           "мороженоеу",
           "TYPE"
          ],
          [
           "спички",
           "TYPE"
          ],
          [
           "степлер",
           "TYPE"
          ],
          [
           "кружек",
           "TYPE"
          ],
          [
           "пельмн",
           "TYPE"
          ],
          [
           "злаки",
           "TYPE"
          ],
          [
           "пшеничные",
           "TYPE"
          ],
          [
           "воздушные",
           "TYPE"
          ],
          [
           "приправы",
           "TYPE"
          ],
          [
           "для",
           "TYPE"
          ],
          [
           "подливы",
           "TYPE"
          ],
          [
           "пельмеш",
           "TYPE"
          ],
          [
           "гр",
           "TYPE"
          ],
          [
           "чзбурегр",
           "TYPE"
          ],
          [
           "хлебцы",
           "TYPE"
          ],
          [
           "масл",
           "TYPE"
          ],
          [
           "топлн",
           "TYPE"
          ],
          [
           "ополаскмватель",
           "TYPE"
          ],
          [
           "для",
           "TYPE"
          ],
          [
           "белья",
           "TYPE"
          ],
          [
           "лапка",
           "TYPE"
          ],
          [
           "кондинционер",
           "TYPE"
          ],
          [
           "для",
           "TYPE"
          ],
          [
           "белья",
           "TYPE"
          ],
          [
           "пирожное",
           "TYPE"
          ],
          [
           "снежок",
           "TYPE"
          ],
          [
           "зы",
           "TYPE"
          ],
          [
           "таблект",
           "TYPE"
          ],
          [
           "курица",
           "TYPE"
          ],
          [
           "охлажденная",
           "TYPE"
          ],
          [
           "скумря",
           "TYPE"
          ],
          [
           "пассатижи,",
           "TYPE"
          ],
          [
           "пинце",
           "TYPE"
          ],
          [
           "шпиг",
           "TYPE"
          ],
          [
           "купаты",
           "TYPE"
          ],
          [
           "бизе",
           "TYPE"
          ],
          [
           "замородзка",
           "TYPE"
          ],
          [
           "зель",
           "TYPE"
          ],
          [
           "топатная",
           "TYPE"
          ],
          [
           "паста",
           "TYPE"
          ],
          [
           "йогурт",
           "TYPE"
          ],
          [
           "со",
           "TYPE"
          ],
          [
           "злаков",
           "TYPE"
          ],
          [
           "сепечки",
           "TYPE"
          ],
          [
           "гречка",
           "TYPE"
          ],
          [
           "д",
           "TYPE"
          ],
          [
           "супчика",
           "TYPE"
          ],
          [
           "вляеное",
           "TYPE"
          ],
          [
           "чиаба",
           "TYPE"
          ],
          [
           "ветчина",
           "TYPE"
          ],
          [
           "традиционная",
           "TYPE"
          ],
          [
           "буьгур",
           "TYPE"
          ],
          [
           "кревето",
           "TYPE"
          ],
          [
           "горчичное",
           "TYPE"
          ],
          [
           "масло",
           "TYPE"
          ],
          [
           "вермут",
           "TYPE"
          ],
          [
           "зелен",
           "TYPE"
          ],
          [
           "плрошок",
           "TYPE"
          ],
          [
           "для",
           "TYPE"
          ],
          [
           "стирки",
           "TYPE"
          ],
          [
           "макароны",
           "TYPE"
          ],
          [
           "для",
           "TYPE"
          ],
          [
           "малышей",
           "TYPE"
          ],
          [
           "оливки",
           "TYPE"
          ],
          [
           "шашлк",
           "TYPE"
          ],
          [
           "с",
           "TYPE"
          ],
          [
           "овощми",
           "TYPE"
          ],
          [
           "молоок",
           "TYPE"
          ],
          [
           "компот",
           "TYPE"
          ],
          [
           "говдина",
           "TYPE"
          ],
          [
           "бедро",
           "TYPE"
          ],
          [
           "курицы",
           "TYPE"
          ],
          [
           "вермишеоь",
           "TYPE"
          ],
          [
           "трюфели",
           "TYPE"
          ],
          [
           "купата",
           "TYPE"
          ],
          [
           "сливки",
           "TYPE"
          ],
          [
           "село",
           "TYPE"
          ],
          [
           "зеленое",
           "TYPE"
          ],
          [
           "кола",
           "TYPE"
          ],
          [
           "сахара",
           "TYPE"
          ],
          [
           "смеси",
           "TYPE"
          ],
          [
           "овощн",
           "TYPE"
          ],
          [
           "ыасоль",
           "TYPE"
          ],
          [
           "бритья",
           "TYPE"
          ],
          [
           "фонари",
           "TYPE"
          ],
          [
           "рулеты",
           "TYPE"
          ],
          [
           "молоко",
           "TYPE"
          ],
          [
           "пастеризованное",
           "TYPE"
          ],
          [
           "lack",
           "TYPE"
          ],
          [
           "трески",
           "TYPE"
          ],
          [
           "мука",
           "TYPE"
          ],
          [
           "из",
           "TYPE"
          ],
          [
           "твё",
           "TYPE"
          ],
          [
           "сахарный",
           "TYPE"
          ],
          [
           "песок",
           "TYPE"
          ],
          [
           "хлеб",
           "TYPE"
          ],
          [
           "по",
           "TYPE"
          ],
          [
           "купечески",
           "TYPE"
          ],
          [
           "руколл",
           "TYPE"
          ],
          [
           "подушки",
           "TYPE"
          ],
          [
           "хлеб",
           "TYPE"
          ],
          [
           "укроп",
           "TYPE"
          ],
          [
           "капуста",
           "TYPE"
          ],
          [
           "для",
           "TYPE"
          ],
          [
           "борш",
           "TYPE"
          ],
          [
           "йогурт",
           "TYPE"
          ],
          [
           "суп",
           "TYPE"
          ],
          [
           "по",
           "TYPE"
          ],
          [
           "италь",
           "TYPE"
          ],
          [
           "голубикха",
           "TYPE"
          ],
          [
           "сидр",
           "TYPE"
          ],
          [
           "грановый",
           "TYPE"
          ],
          [
           "рубашки,",
           "TYPE"
          ],
          [
           "сорочки",
           "TYPE"
          ],
          [
           "мятные",
           "TYPE"
          ],
          [
           "пряники",
           "TYPE"
          ],
          [
           "торес",
           "TYPE"
          ],
          [
           "молочнасмесь",
           "TYPE"
          ],
          [
           "чипсы",
           "TYPE"
          ],
          [
           "в",
           "TYPE"
          ],
          [
           "печи",
           "TYPE"
          ],
          [
           "скумбрия",
           "TYPE"
          ],
          [
           "выпеяка",
           "TYPE"
          ],
          [
           "яйсо",
           "TYPE"
          ],
          [
           "сметанино",
           "TYPE"
          ],
          [
           "индкейка",
           "TYPE"
          ],
          [
           "фитнес",
           "TYPE"
          ],
          [
           "бройлер",
           "TYPE"
          ],
          [
           "сок",
           "TYPE"
          ],
          [
           "кефил",
           "TYPE"
          ],
          [
           "пелленки",
           "TYPE"
          ],
          [
           "мрмеад",
           "TYPE"
          ],
          [
           "жевательым",
           "TYPE"
          ],
          [
           "пшено",
           "TYPE"
          ],
          [
           "зотистое",
           "TYPE"
          ],
          [
           "очишенное",
           "TYPE"
          ],
          [
           "крёкер",
           "TYPE"
          ],
          [
           "капустный",
           "TYPE"
          ],
          [
           "марковка",
           "TYPE"
          ],
          [
           "по",
           "TYPE"
          ],
          [
           "корейски",
           "TYPE"
          ],
          [
           "пюре",
           "TYPE"
          ],
          [
           "с",
           "TYPE"
          ],
          [
           "черно",
           "TYPE"
          ],
          [
           "поводки",
           "TYPE"
          ],
          [
           "крабо",
           "TYPE"
          ],
          [
           "диетице",
           "TYPE"
          ],
          [
           "м&m",
           "TYPE"
          ],
          [
           "краска",
           "TYPE"
          ],
          [
           "жля",
           "TYPE"
          ],
          [
           "волос",
           "TYPE"
          ],
          [
           "кшачй",
           "TYPE"
          ],
          [
           "крм",
           "TYPE"
          ],
          [
           "снедок",
           "TYPE"
          ],
          [
           "охлажденны",
           "TYPE"
          ],
          [
           "мармелад",
           "TYPE"
          ],
          [
           "чан",
           "TYPE"
          ],
          [
           "рамен",
           "TYPE"
          ],
          [
           "эрегетик",
           "TYPE"
          ],
          [
           "хлеб",
           "TYPE"
          ],
          [
           "тверской",
           "TYPE"
          ],
          [
           "лосось",
           "TYPE"
          ],
          [
           "атлантический",
           "TYPE"
          ],
          [
           "в",
           "TYPE"
          ],
          [
           "собственном",
           "TYPE"
          ],
          [
           "соку",
           "TYPE"
          ],
          [
           "корм",
           "TYPE"
          ],
          [
           "паштет",
           "TYPE"
          ],
          [
           "апельсиновые",
           "TYPE"
          ],
          [
           "пельмени",
           "TYPE"
          ],
          [
           "приправа",
           "TYPE"
          ],
          [
           "д",
           "TYPE"
          ],
          [
           "плова",
           "TYPE"
          ],
          [
           "оливки",
           "TYPE"
          ],
          [
           "мешки",
           "TYPE"
          ],
          [
           "для",
           "TYPE"
          ],
          [
           "стирки",
           "TYPE"
          ],
          [
           "облепйха",
           "TYPE"
          ],
          [
           "приправа",
           "TYPE"
          ],
          [
           "доя",
           "TYPE"
          ],
          [
           "картофеля",
           "TYPE"
          ],
          [
           "жедатин",
           "TYPE"
          ],
          [
           "городская",
           "TYPE"
          ],
          [
           "булка",
           "TYPE"
          ],
          [
           "творог",
           "TYPE"
          ],
          [
           "село",
           "TYPE"
          ],
          [
           "з",
           "TYPE"
          ],
          [
           "кастрю",
           "TYPE"
          ],
          [
           "сыр",
           "TYPE"
          ],
          [
           "тер",
           "TYPE"
          ],
          [
           "печенье",
           "TYPE"
          ],
          [
           "томатная",
           "TYPE"
          ],
          [
           "паста",
           "TYPE"
          ],
          [
           "фруктовая",
           "TYPE"
          ],
          [
           "пю",
           "TYPE"
          ],
          [
           "одеяла",
           "TYPE"
          ],
          [
           "сельдрей",
           "TYPE"
          ],
          [
           "к",
           "TYPE"
          ],
          [
           "смузи",
           "TYPE"
          ],
          [
           "пргтеин",
           "TYPE"
          ],
          [
           "мини",
           "TYPE"
          ],
          [
           "маф",
           "TYPE"
          ],
          [
           "лимонн",
           "TYPE"
          ],
          [
           "яйцо",
           "TYPE"
          ],
          [
           "с0",
           "TYPE"
          ],
          [
           "поматная",
           "TYPE"
          ],
          [
           "сок",
           "TYPE"
          ],
          [
           "анасовый",
           "TYPE"
          ],
          [
           "шампунь",
           "TYPE"
          ],
          [
           "для",
           "TYPE"
          ],
          [
           "объема",
           "TYPE"
          ],
          [
           "дифхузора",
           "TYPE"
          ],
          [
           "спагетты",
           "TYPE"
          ],
          [
           "тмин",
           "TYPE"
          ],
          [
           "чиз",
           "TYPE"
          ],
          [
           "мороженное",
           "TYPE"
          ],
          [
           "усфле",
           "TYPE"
          ],
          [
           "ветчи",
           "TYPE"
          ],
          [
           "бытовые",
           "TYPE"
          ],
          [
           "принадлежности",
           "TYPE"
          ],
          [
           "дикий",
           "TYPE"
          ],
          [
           "апельсин",
           "TYPE"
          ],
          [
           "сырокапченая",
           "TYPE"
          ],
          [
           "бриошь",
           "TYPE"
          ],
          [
           "смягчители",
           "TYPE"
          ],
          [
           "во",
           "TYPE"
          ],
          [
           "зубочистка",
           "TYPE"
          ],
          [
           "сметана",
           "TYPE"
          ],
          [
           "крем-мыле",
           "TYPE"
          ],
          [
           "шампунъ",
           "TYPE"
          ],
          [
           "черный",
           "TYPE"
          ],
          [
           "хлеб",
           "TYPE"
          ],
          [
           "молоко",
           "TYPE"
          ],
          [
           "для",
           "TYPE"
          ],
          [
           "закваски",
           "TYPE"
          ],
          [
           "рыба",
           "TYPE"
          ],
          [
           "морожна",
           "TYPE"
          ],
          [
           "конопляная",
           "TYPE"
          ],
          [
           "соцебели",
           "TYPE"
          ],
          [
           "брит",
           "TYPE"
          ],
          [
           "посмидоры",
           "TYPE"
          ],
          [
           "сухи",
           "TYPE"
          ],
          [
           "майки",
           "TYPE"
          ],
          [
           "точтовый",
           "TYPE"
          ],
          [
           "ручгa",
           "TYPE"
          ],
          [
           "пастилка",
           "TYPE"
          ],
          [
           "краборые",
           "TYPE"
          ],
          [
           "кровяна",
           "TYPE"
          ],
          [
           "тесто",
           "TYPE"
          ],
          [
           "дл",
           "TYPE"
          ],
          [
           "пельменей",
           "TYPE"
          ],
          [
           "кальвадо",
           "TYPE"
          ],
          [
           "масло",
           "TYPE"
          ],
          [
           "наполнителт",
           "TYPE"
          ],
          [
           "галоши",
           "TYPE"
          ],
          [
           "защитны",
           "TYPE"
          ],
          [
           "йогйрт",
           "TYPE"
          ],
          [
           "фольга",
           "TYPE"
          ],
          [
           "для",
           "TYPE"
          ],
          [
           "вып",
           "TYPE"
          ],
          [
           "индйка",
           "TYPE"
          ],
          [
           "сацибел",
           "TYPE"
          ],
          [
           "лаиит",
           "TYPE"
          ],
          [
           "шмпиньоны",
           "TYPE"
          ],
          [
           "укроп",
           "TYPE"
          ],
          [
           "свеж",
           "TYPE"
          ],
          [
           "грибыо",
           "TYPE"
          ],
          [
           "картоыель",
           "TYPE"
          ],
          [
           "для",
           "TYPE"
          ],
          [
           "жарки",
           "TYPE"
          ],
          [
           "вафельные",
           "TYPE"
          ],
          [
           "хлебцы",
           "TYPE"
          ],
          [
           "кабачаовая",
           "TYPE"
          ],
          [
           "гречневая",
           "TYPE"
          ],
          [
           "каша",
           "TYPE"
          ],
          [
           "сввекла",
           "TYPE"
          ],
          [
           "перловкан",
           "TYPE"
          ],
          [
           "трубочк",
           "TYPE"
          ],
          [
           "утка",
           "TYPE"
          ],
          [
           "для",
           "TYPE"
          ],
          [
           "запеканки",
           "TYPE"
          ],
          [
           "салфетк",
           "TYPE"
          ],
          [
           "сметана",
           "TYPE"
          ],
          [
           "на",
           "TYPE"
          ],
          [
           "топленом",
           "TYPE"
          ],
          [
           "очк",
           "TYPE"
          ],
          [
           "совк",
           "TYPE"
          ],
          [
           "пельмеени",
           "TYPE"
          ],
          [
           "тарелки",
           "TYPE"
          ],
          [
           "йогуртт",
           "TYPE"
          ],
          [
           "ы",
           "TYPE"
          ],
          [
           "плень",
           "TYPE"
          ],
          [
           "зажигалки",
           "TYPE"
          ],
          [
           "минирали",
           "TYPE"
          ],
          [
           "тарияки",
           "TYPE"
          ],
          [
           "баклажаны",
           "TYPE"
          ],
          [
           "винрграл",
           "TYPE"
          ],
          [
           "помидорц",
           "TYPE"
          ],
          [
           "вареньн",
           "TYPE"
          ],
          [
           "яблоки",
           "TYPE"
          ],
          [
           "свежие",
           "TYPE"
          ],
          [
           "кукурузные",
           "TYPE"
          ],
          [
           "палоч",
           "TYPE"
          ],
          [
           "соль",
           "TYPE"
          ],
          [
           "для",
           "TYPE"
          ],
          [
           "посудомое",
           "TYPE"
          ],
          [
           "конфет",
           "TYPE"
          ],
          [
           "гуляшш",
           "TYPE"
          ],
          [
           "чнежок",
           "TYPE"
          ],
          [
           "чач",
           "TYPE"
          ],
          [
           "совки",
           "TYPE"
          ],
          [
           "шрколад",
           "TYPE"
          ],
          [
           "без",
           "TYPE"
          ],
          [
           "сахара",
           "TYPE"
          ],
          [
           "хлебницы",
           "TYPE"
          ],
          [
           "сок",
           "TYPE"
          ],
          [
           "хал",
           "TYPE"
          ],
          [
           "тн",
           "TYPE"
          ],
          [
           "ряженка",
           "TYPE"
          ],
          [
           "бумажные",
           "TYPE"
          ],
          [
           "подсолнечно",
           "TYPE"
          ],
          [
           "мороженна",
           "TYPE"
          ],
          [
           "грушовый",
           "TYPE"
          ],
          [
           "чипсы",
           "TYPE"
          ],
          [
           "для",
           "TYPE"
          ],
          [
           "стирки",
           "TYPE"
          ],
          [
           "кондиционер",
           "TYPE"
          ],
          [
           "пастилка",
           "TYPE"
          ],
          [
           "шпин",
           "TYPE"
          ],
          [
           "глаеты",
           "TYPE"
          ],
          [
           "пасха",
           "TYPE"
          ],
          [
           "лоломтик",
           "TYPE"
          ],
          [
           "чистящее",
           "TYPE"
          ],
          [
           "напитки",
           "TYPE"
          ],
          [
           "сокосодержащи",
           "TYPE"
          ],
          [
           "ьунец",
           "TYPE"
          ],
          [
           "салфет",
           "TYPE"
          ],
          [
           "минералке",
           "TYPE"
          ],
          [
           "пашетет",
           "TYPE"
          ],
          [
           "корм",
           "TYPE"
          ],
          [
           "для",
           "TYPE"
          ],
          [
           "собак",
           "TYPE"
          ],
          [
           "ложка",
           "TYPE"
          ],
          [
           "печеньег",
           "TYPE"
          ],
          [
           "блинчик",
           "TYPE"
          ],
          [
           "телятина",
           "TYPE"
          ],
          [
           "морожен",
           "TYPE"
          ],
          [
           "йогурт",
           "TYPE"
          ],
          [
           "молоо",
           "TYPE"
          ],
          [
           "язык",
           "TYPE"
          ],
          [
           "карамельны",
           "TYPE"
          ],
          [
           "календари",
           "TYPE"
          ],
          [
           "череи",
           "TYPE"
          ],
          [
           "рис",
           "TYPE"
          ],
          [
           "рис",
           "TYPE"
          ],
          [
           "морс",
           "TYPE"
          ],
          [
           "безглютеновый",
           "TYPE"
          ],
          [
           "специ",
           "TYPE"
          ],
          [
           "для",
           "TYPE"
          ],
          [
           "рибы",
           "TYPE"
          ],
          [
           "молоко",
           "TYPE"
          ],
          [
           "топл",
           "TYPE"
          ],
          [
           "водпа",
           "TYPE"
          ],
          [
           "мой",
           "TYPE"
          ],
          [
           "с",
           "TYPE"
          ],
          [
           "пирозжные",
           "TYPE"
          ],
          [
           "курциа",
           "TYPE"
          ],
          [
           "брокколл",
           "TYPE"
          ],
          [
           "растяжитель",
           "TYPE"
          ],
          [
           "тампон",
           "TYPE"
          ],
          [
           "кефир",
           "TYPE"
          ],
          [
           "тло",
           "TYPE"
          ],
          [
           "каротшка",
           "TYPE"
          ],
          [
           "бананыц",
           "TYPE"
          ],
          [
           "сачок",
           "TYPE"
          ],
          [
           "губка",
           "TYPE"
          ],
          [
           "для",
           "TYPE"
          ],
          [
           "посуды",
           "TYPE"
          ],
          [
           "топленое",
           "TYPE"
          ],
          [
           "пкльмен",
           "TYPE"
          ],
          [
           "черногоовка",
           "TYPE"
          ],
          [
           "сахар",
           "TYPE"
          ],
          [
           "d",
           "TYPE"
          ],
          [
           "стейк",
           "TYPE"
          ],
          [
           "шубки",
           "TYPE"
          ],
          [
           "взбитые",
           "TYPE"
          ],
          [
           "сливки",
           "TYPE"
          ],
          [
           "вермишпль",
           "TYPE"
          ],
          [
           "обрикос",
           "TYPE"
          ],
          [
           "желатин",
           "TYPE"
          ],
          [
           "айз",
           "TYPE"
          ],
          [
           "соус",
           "TYPE"
          ],
          [
           "к",
           "TYPE"
          ],
          [
           "мясу",
           "TYPE"
          ],
          [
           "салат",
           "TYPE"
          ],
          [
           "краковск",
           "TYPE"
          ],
          [
           "шоколдаки",
           "TYPE"
          ],
          [
           "конфеты",
           "TYPE"
          ],
          [
           "кочет",
           "TYPE"
          ],
          [
           "кочеток",
           "TYPE"
          ],
          [
           "сывороика",
           "TYPE"
          ],
          [
           "вода",
           "TYPE"
          ],
          [
           "минерал",
           "TYPE"
          ],
          [
           "с",
           "TYPE"
          ],
          [
           "газом",
           "TYPE"
          ],
          [
           "дезодора",
           "TYPE"
          ],
          [
           "пицца",
           "TYPE"
          ],
          [
           "асорти",
           "TYPE"
          ],
          [
           "сырокопче",
           "TYPE"
          ],
          [
           "руле",
           "TYPE"
          ],
          [
           "вязпнка",
           "TYPE"
          ],
          [
           "моянез",
           "TYPE"
          ],
          [
           "ноутбуки-ультрабуки",
           "TYPE"
          ],
          [
           "сушёный",
           "TYPE"
          ],
          [
           "лук",
           "TYPE"
          ],
          [
           "саженцы",
           "TYPE"
          ],
          [
           "соуа",
           "TYPE"
          ],
          [
           "кефие",
           "TYPE"
          ],
          [
           "пельменм",
           "TYPE"
          ],
          [
           "молочный",
           "TYPE"
          ],
          [
           "коктель",
           "TYPE"
          ],
          [
           "индейк",
           "TYPE"
          ],
          [
           "вариники",
           "TYPE"
          ],
          [
           "хлеб",
           "TYPE"
          ],
          [
           "с",
           "TYPE"
          ],
          [
           "отрубями",
           "TYPE"
          ],
          [
           "перловпя",
           "TYPE"
          ],
          [
           "ноутбук",
           "TYPE"
          ],
          [
           "игровой",
           "TYPE"
          ],
          [
           "пемечки",
           "TYPE"
          ],
          [
           "сушка",
           "TYPE"
          ],
          [
           "пастла",
           "TYPE"
          ],
          [
           "яблоч",
           "TYPE"
          ],
          [
           "клюква",
           "TYPE"
          ],
          [
           "минералка",
           "TYPE"
          ],
          [
           "без",
           "TYPE"
          ],
          [
           "газа",
           "TYPE"
          ],
          [
           "подсолнечгое",
           "TYPE"
          ],
          [
           "сгежок",
           "TYPE"
          ],
          [
           "крышек",
           "TYPE"
          ],
          [
           "баранки.",
           "TYPE"
          ],
          [
           "грушевы",
           "TYPE"
          ],
          [
           "яблоки²",
           "TYPE"
          ],
          [
           "карташка",
           "TYPE"
          ],
          [
           "кеббб",
           "TYPE"
          ],
          [
           "мясн",
           "TYPE"
          ],
          [
           "пикнт",
           "TYPE"
          ],
          [
           "кефиир",
           "TYPE"
          ],
          [
           "карнавальные",
           "TYPE"
          ],
          [
           "аксессуары",
           "TYPE"
          ],
          [
           "нашей",
           "TYPE"
          ],
          [
           "дойки",
           "TYPE"
          ],
          [
           "кофе0",
           "TYPE"
          ],
          [
           "nemoloki",
           "TYPE"
          ],
          [
           "колготки",
           "TYPE"
          ],
          [
           "4",
           "TYPE"
          ],
          [
           "размер",
           "TYPE"
          ],
          [
           "мышка",
           "TYPE"
          ],
          [
           "манная",
           "TYPE"
          ],
          [
           "крупа",
           "TYPE"
          ],
          [
           "печеночные",
           "TYPE"
          ],
          [
           "клубничнцй",
           "TYPE"
          ],
          [
           "айбкрг",
           "TYPE"
          ],
          [
           "жироудал",
           "TYPE"
          ],
          [
           "бальзам",
           "TYPE"
          ],
          [
           "для",
           "TYPE"
          ],
          [
           "бритья",
           "TYPE"
          ],
          [
           "топленочка",
           "TYPE"
          ],
          [
           "печенье",
           "TYPE"
          ],
          [
           "пчыж",
           "TYPE"
          ],
          [
           "миндаль",
           "TYPE"
          ],
          [
           "протеиноаы",
           "TYPE"
          ],
          [
           "постный",
           "TYPE"
          ],
          [
           "аджига",
           "TYPE"
          ],
          [
           "рроки",
           "TYPE"
          ],
          [
           "ква",
           "TYPE"
          ],
          [
           "кисломоло",
           "TYPE"
          ],
          [
           "сидр",
           "TYPE"
          ],
          [
           "смеьан",
           "TYPE"
          ],
          [
           "дойки",
           "TYPE"
          ],
          [
           "варенье",
           "TYPE"
          ],
          [
           "уксусс",
           "TYPE"
          ],
          [
           "наволочка",
           "TYPE"
          ],
          [
           "всулугуни",
           "TYPE"
          ],
          [
           "цкиорий",
           "TYPE"
          ],
          [
           "молоко",
           "TYPE"
          ],
          [
           "сгущённое",
           "TYPE"
          ],
          [
           "с",
           "TYPE"
          ],
          [
           "рнирм",
           "TYPE"
          ],
          [
           "подов",
           "TYPE"
          ],
          [
           "сардельки",
           "TYPE"
          ],
          [
           "дектские",
           "TYPE"
          ],
          [
           "мармелаж",
           "TYPE"
          ],
          [
           "йгурт",
           "TYPE"
          ],
          [
           "трусы",
           "TYPE"
          ],
          [
           "для",
           "TYPE"
          ],
          [
           "взрослых",
           "TYPE"
          ],
          [
           "пельмени",
           "TYPE"
          ],
          [
           "вареники",
           "TYPE"
          ],
          [
           "базилик",
           "TYPE"
          ],
          [
           "йогур",
           "TYPE"
          ],
          [
           "жупиков",
           "TYPE"
          ],
          [
           "желейка",
           "TYPE"
          ],
          [
           "маринованны",
           "TYPE"
          ],
          [
           "врн",
           "TYPE"
          ],
          [
           "прочее",
           "TYPE"
          ],
          [
           "мы",
           "TYPE"
          ],
          [
           "яаца",
           "TYPE"
          ],
          [
           "сырой",
           "TYPE"
          ],
          [
           "корм",
           "TYPE"
          ],
          [
           "каша",
           "TYPE"
          ],
          [
           "гречневая",
           "TYPE"
          ],
          [
           "яблочки",
           "TYPE"
          ],
          [
           "батон",
           "TYPE"
          ],
          [
           "утренй",
           "TYPE"
          ],
          [
           "клубуника",
           "TYPE"
          ],
          [
           "молоко",
           "TYPE"
          ],
          [
           "плав",
           "TYPE"
          ],
          [
           "пылесосо",
           "TYPE"
          ],
          [
           "сок",
           "TYPE"
          ],
          [
           "любимый",
           "TYPE"
          ],
          [
           "апельсиновое",
           "TYPE"
          ],
          [
           "манго",
           "TYPE"
          ],
          [
           "булочки",
           "TYPE"
          ],
          [
           "аэрозоль",
           "TYPE"
          ],
          [
           "трусики",
           "TYPE"
          ],
          [
           "полукопченое",
           "TYPE"
          ],
          [
           "колбаск",
           "TYPE"
          ],
          [
           "капуста",
           "TYPE"
          ],
          [
           "жрунал",
           "TYPE"
          ],
          [
           "чац",
           "TYPE"
          ],
          [
           "зонты",
           "TYPE"
          ],
          [
           "варенки",
           "TYPE"
          ],
          [
           "картош",
           "TYPE"
          ],
          [
           "творг",
           "TYPE"
          ],
          [
           "морковь",
           "TYPE"
          ],
          [
           "леденцыл",
           "TYPE"
          ],
          [
           "пиво",
           "TYPE"
          ],
          [
           "батон",
           "TYPE"
          ],
          [
           "с",
           "TYPE"
          ],
          [
           "маслом",
           "TYPE"
          ],
          [
           "бородинский",
           "TYPE"
          ],
          [
           "компоты",
           "TYPE"
          ],
          [
           "шашлык",
           "TYPE"
          ],
          [
           "из",
           "TYPE"
          ],
          [
           "свинины",
           "TYPE"
          ],
          [
           "чай",
           "TYPE"
          ],
          [
           "охлажденноё",
           "TYPE"
          ],
          [
           "дыня",
           "TYPE"
          ],
          [
           "таелки",
           "TYPE"
          ],
          [
           "чнснок",
           "TYPE"
          ],
          [
           "сардедьки",
           "TYPE"
          ],
          [
           "копченый",
           "TYPE"
          ],
          [
           "окорочок",
           "TYPE"
          ],
          [
           "булг",
           "TYPE"
          ],
          [
           "кукуруза",
           "TYPE"
          ],
          [
           "ромашки",
           "TYPE"
          ],
          [
           "канцелярские",
           "TYPE"
          ],
          [
           "наборы",
           "TYPE"
          ],
          [
           "майонез",
           "TYPE"
          ],
          [
           "лёгкий",
           "TYPE"
          ],
          [
           "кабачркы́",
           "TYPE"
          ],
          [
           "якцо",
           "TYPE"
          ],
          [
           "маслины.",
           "TYPE"
          ],
          [
           "кетчуп",
           "TYPE"
          ],
          [
           "острый",
           "TYPE"
          ],
          [
           "конфеты",
           "TYPE"
          ],
          [
           "суфле",
           "TYPE"
          ],
          [
           "лук",
           "TYPE"
          ],
          [
           "для",
           "TYPE"
          ],
          [
           "жарки",
           "TYPE"
          ],
          [
           "мармелад",
           "TYPE"
          ],
          [
           "желейный",
           "TYPE"
          ],
          [
           "манты",
           "TYPE"
          ],
          [
           "с",
           "TYPE"
          ],
          [
           "зелнью",
           "TYPE"
          ],
          [
           "джин",
           "TYPE"
          ],
          [
           "гордонс",
           "TYPE"
          ],
          [
           "консервы",
           "TYPE"
          ],
          [
           "рыбные",
           "TYPE"
          ],
          [
           "мука",
           "TYPE"
          ],
          [
           "кукурузная",
           "TYPE"
          ],
          [
           "колгот.",
           "TYPE"
          ],
          [
           "вода",
           "TYPE"
          ],
          [
           "куирца",
           "TYPE"
          ],
          [
           "сухараки",
           "TYPE"
          ],
          [
           "бездрожевой",
           "TYPE"
          ],
          [
           "поенка",
           "TYPE"
          ],
          [
           "масло",
           "TYPE"
          ],
          [
           "русское",
           "TYPE"
          ],
          [
           "поле",
           "TYPE"
          ],
          [
           "греческт",
           "TYPE"
          ],
          [
           "фркуты",
           "TYPE"
          ],
          [
           "калькляторы",
           "TYPE"
          ],
          [
           "подсвечнико",
           "TYPE"
          ],
          [
           "тостер",
           "TYPE"
          ],
          [
           "зелень.",
           "TYPE"
          ],
          [
           "множитель",
           "TYPE"
          ],
          [
           "огрцы",
           "TYPE"
          ],
          [
           "к",
           "TYPE"
          ],
          [
           "окрошк",
           "TYPE"
          ],
          [
           "пьтчье",
           "TYPE"
          ],
          [
           "электрчиеской",
           "TYPE"
          ],
          [
           "чнбупицца",
           "TYPE"
          ],
          [
           "прочие",
           "TYPE"
          ],
          [
           "овощ",
           "TYPE"
          ],
          [
           "сэндвич",
           "TYPE"
          ],
          [
           "блокноты",
           "TYPE"
          ],
          [
           "яийо",
           "TYPE"
          ],
          [
           "мочалка",
           "TYPE"
          ],
          [
           "для",
           "TYPE"
          ],
          [
           "посуды",
           "TYPE"
          ],
          [
           "сырокопчён",
           "TYPE"
          ],
          [
           "торны",
           "TYPE"
          ],
          [
           "куры",
           "TYPE"
          ],
          [
           "м",
           "TYPE"
          ],
          [
           "средствт",
           "TYPE"
          ],
          [
           "сумка",
           "TYPE"
          ],
          [
           "портов",
           "TYPE"
          ],
          [
           "лимоном",
           "TYPE"
          ],
          [
           "пицца",
           "TYPE"
          ],
          [
           "хлеб",
           "TYPE"
          ],
          [
           "на",
           "TYPE"
          ],
          [
           "закв",
           "TYPE"
          ],
          [
           "одежд",
           "TYPE"
          ],
          [
           "кофенйик",
           "TYPE"
          ],
          [
           "морсь",
           "TYPE"
          ],
          [
           "тортилия",
           "TYPE"
          ],
          [
           "майзонез",
           "TYPE"
          ],
          [
           "твороженое",
           "TYPE"
          ],
          [
           "кеф",
           "TYPE"
          ],
          [
           "чечевицца",
           "TYPE"
          ],
          [
           "нагетчы",
           "TYPE"
          ],
          [
           "туристический",
           "TYPE"
          ],
          [
           "кепчуп",
           "TYPE"
          ],
          [
           "сыровялепое",
           "TYPE"
          ],
          [
           "карамели",
           "TYPE"
          ],
          [
           "фены",
           "TYPE"
          ],
          [
           "пирог",
           "TYPE"
          ],
          [
           "яблочный",
           "TYPE"
          ],
          [
           "пиво",
           "TYPE"
          ],
          [
           "жиггули",
           "TYPE"
          ],
          [
           "тортн",
           "TYPE"
          ],
          [
           "пятновыводитель",
           "TYPE"
          ],
          [
           "сырокопчена",
           "TYPE"
          ],
          [
           "крышки",
           "TYPE"
          ],
          [
           "хагис",
           "TYPE"
          ],
          [
           "гель",
           "TYPE"
          ],
          [
           "для",
           "TYPE"
          ],
          [
           "стирки",
           "TYPE"
          ],
          [
           "фен",
           "TYPE"
          ],
          [
           "гелт",
           "TYPE"
          ],
          [
           "для",
           "TYPE"
          ],
          [
           "стирки",
           "TYPE"
          ],
          [
           "осветлитель",
           "TYPE"
          ],
          [
           "хбатон",
           "TYPE"
          ],
          [
           "колго",
           "TYPE"
          ],
          [
           "сырокопченая",
           "TYPE"
          ],
          [
           "колбаски",
           "TYPE"
          ],
          [
           "гель",
           "TYPE"
          ],
          [
           "длч",
           "TYPE"
          ],
          [
           "стирки",
           "TYPE"
          ],
          [
           "хлеб",
           "TYPE"
          ],
          [
           "цельно",
           "TYPE"
          ],
          [
           "тонкий",
           "TYPE"
          ],
          [
           "лаваш",
           "TYPE"
          ],
          [
           "качотта",
           "TYPE"
          ],
          [
           "томатов",
           "TYPE"
          ],
          [
           "дуршлаг",
           "TYPE"
          ],
          [
           "мармелад",
           "TYPE"
          ],
          [
           "банани",
           "TYPE"
          ],
          [
           "кексы",
           "TYPE"
          ],
          [
           "с",
           "TYPE"
          ],
          [
           "кремом",
           "TYPE"
          ],
          [
           "хлеб.",
           "TYPE"
          ],
          [
           "чаш",
           "TYPE"
          ],
          [
           "бульмень",
           "TYPE"
          ],
          [
           "рисовая",
           "TYPE"
          ],
          [
           "с",
           "TYPE"
          ],
          [
           "малиной",
           "TYPE"
          ],
          [
           "колбас,",
           "TYPE"
          ],
          [
           "деликатес",
           "TYPE"
          ],
          [
           "картоыель",
           "TYPE"
          ],
          [
           "корзиночки",
           "TYPE"
          ],
          [
           "щетка",
           "TYPE"
          ],
          [
           "минеральная",
           "TYPE"
          ],
          [
           "вода",
           "TYPE"
          ],
          [
           "куриная",
           "TYPE"
          ],
          [
           "грудк",
           "TYPE"
          ],
          [
           "рожки",
           "TYPE"
          ],
          [
           "ломтишк",
           "TYPE"
          ],
          [
           "огогорн",
           "TYPE"
          ],
          [
           "сухоц",
           "TYPE"
          ],
          [
           "моркво",
           "TYPE"
          ],
          [
           "огигири",
           "TYPE"
          ],
          [
           "калмар",
           "TYPE"
          ],
          [
           "запеченные",
           "TYPE"
          ],
          [
           "ацидобифилин",
           "TYPE"
          ],
          [
           "сок",
           "TYPE"
          ],
          [
           "календар",
           "TYPE"
          ],
          [
           "жевачки",
           "TYPE"
          ],
          [
           "рыба",
           "TYPE"
          ],
          [
           "стейк",
           "TYPE"
          ],
          [
           "бекону",
           "TYPE"
          ],
          [
           "сыр",
           "TYPE"
          ],
          [
           "плавленый",
           "TYPE"
          ],
          [
           "масса",
           "TYPE"
          ],
          [
           "творожна",
           "TYPE"
          ],
          [
           "тартал",
           "TYPE"
          ],
          [
           "ацидофильн",
           "TYPE"
          ],
          [
           "ботинки",
           "TYPE"
          ],
          [
           "gezer",
           "TYPE"
          ],
          [
           "тврелк",
           "TYPE"
          ],
          [
           "слива",
           "TYPE"
          ],
          [
           "салфтк",
           "TYPE"
          ],
          [
           "дл",
           "TYPE"
          ],
          [
           "дтск",
           "TYPE"
          ],
          [
           "гигиены",
           "TYPE"
          ],
          [
           "торт",
           "TYPE"
          ],
          [
           "медов",
           "TYPE"
          ],
          [
           "масло",
           "TYPE"
          ],
          [
           "расти",
           "TYPE"
          ],
          [
           "чипсы",
           "TYPE"
          ],
          [
           "ветчина",
           "TYPE"
          ],
          [
           "империя",
           "TYPE"
          ],
          [
           "чиабата",
           "TYPE"
          ],
          [
           "тагилхл",
           "TYPE"
          ],
          [
           "чай",
           "TYPE"
          ],
          [
           "листовой",
           "TYPE"
          ],
          [
           "стерилизованный",
           "TYPE"
          ],
          [
           "молочны",
           "TYPE"
          ],
          [
           "творог",
           "TYPE"
          ],
          [
           "тарелки",
           "TYPE"
          ],
          [
           "кружек",
           "TYPE"
          ],
          [
           "вареники",
           "TYPE"
          ],
          [
           "мидии",
           "TYPE"
          ],
          [
           "с",
           "TYPE"
          ],
          [
           "томатами",
           "TYPE"
          ],
          [
           "соленные",
           "TYPE"
          ],
          [
           "мвло",
           "TYPE"
          ],
          [
           "для",
           "TYPE"
          ],
          [
           "дам",
           "TYPE"
          ],
          [
           "сало",
           "TYPE"
          ],
          [
           "терамису",
           "TYPE"
          ],
          [
           "мармелад",
           "TYPE"
          ],
          [
           "фруктово-ягодный",
           "TYPE"
          ],
          [
           "свермишель",
           "TYPE"
          ],
          [
           "переноски",
           "TYPE"
          ],
          [
           "рис",
           "TYPE"
          ],
          [
           "круглозерный",
           "TYPE"
          ],
          [
           "морковь",
           "TYPE"
          ],
          [
           "мытая",
           "TYPE"
          ],
          [
           "напиток",
           "TYPE"
          ],
          [
           "тальяте",
           "TYPE"
          ],
          [
           "вода",
           "TYPE"
          ],
          [
           "не",
           "TYPE"
          ],
          [
           "газ",
           "TYPE"
          ],
          [
           "альбом",
           "TYPE"
          ],
          [
           "щаурма",
           "TYPE"
          ],
          [
           "варенная",
           "TYPE"
          ],
          [
           "колбаса",
           "TYPE"
          ],
          [
           "багеь",
           "TYPE"
          ],
          [
           "рис",
           "TYPE"
          ],
          [
           "в",
           "TYPE"
          ],
          [
           "пакет",
           "TYPE"
          ],
          [
           "капс",
           "TYPE"
          ],
          [
           "масло",
           "TYPE"
          ],
          [
           "наршараб",
           "TYPE"
          ],
          [
           "зотка",
           "TYPE"
          ],
          [
           "приправа",
           "TYPE"
          ],
          [
           "итальянская",
           "TYPE"
          ],
          [
           "для",
           "TYPE"
          ],
          [
           "пасты",
           "TYPE"
          ],
          [
           "батончик",
           "TYPE"
          ],
          [
           "яйца.",
           "TYPE"
          ],
          [
           "овсянкн",
           "TYPE"
          ],
          [
           "соленые",
           "TYPE"
          ],
          [
           "мармелад",
           "TYPE"
          ],
          [
           "иасло",
           "TYPE"
          ],
          [
           "сливочное",
           "TYPE"
          ],
          [
           "смородинка",
           "TYPE"
          ],
          [
           "раф",
           "TYPE"
          ],
          [
           "рубаши,",
           "TYPE"
          ],
          [
           "срок",
           "TYPE"
          ],
          [
           "масляная",
           "TYPE"
          ],
          [
           "рыба",
           "TYPE"
          ],
          [
           "вода",
           "TYPE"
          ],
          [
           "питьевая",
           "TYPE"
          ],
          [
           "ампиньоны",
           "TYPE"
          ],
          [
           "хлеб",
           "TYPE"
          ],
          [
           "отрубнй",
           "TYPE"
          ],
          [
           "здровый",
           "TYPE"
          ],
          [
           "фунчозан",
           "TYPE"
          ],
          [
           "шпик",
           "TYPE"
          ],
          [
           "йогурты",
           "TYPE"
          ],
          [
           "питьев",
           "TYPE"
          ],
          [
           "зелит",
           "TYPE"
          ],
          [
           "нектарин",
           "TYPE"
          ],
          [
           "красны",
           "TYPE"
          ],
          [
           "слдкий",
           "TYPE"
          ],
          [
           "чай",
           "TYPE"
          ],
          [
           "зеленый",
           "TYPE"
          ],
          [
           "в",
           "TYPE"
          ],
          [
           "пакетиках",
           "TYPE"
          ],
          [
           "картошках",
           "TYPE"
          ],
          [
           "сырок",
           "TYPE"
          ],
          [
           "творожный",
           "TYPE"
          ],
          [
           "ребрышки",
           "TYPE"
          ],
          [
           "копченые",
           "TYPE"
          ],
          [
           "сливы",
           "TYPE"
          ],
          [
           "рис",
           "TYPE"
          ],
          [
           "круглозерный",
           "TYPE"
          ],
          [
           "сухарики",
           "TYPE"
          ],
          [
           "капченые",
           "TYPE"
          ],
          [
           "вырезк",
           "TYPE"
          ],
          [
           "йошурт",
           "TYPE"
          ],
          [
           "бмй",
           "TYPE"
          ],
          [
           "рулетик",
           "TYPE"
          ],
          [
           "дашик",
           "TYPE"
          ],
          [
           "пороошок",
           "TYPE"
          ],
          [
           "тертадей",
           "TYPE"
          ],
          [
           "варено",
           "TYPE"
          ],
          [
           "туатет",
           "TYPE"
          ],
          [
           "томаты",
           "TYPE"
          ],
          [
           "моенез",
           "TYPE"
          ],
          [
           "сыань",
           "TYPE"
          ],
          [
           "апельснин",
           "TYPE"
          ],
          [
           "томмат",
           "TYPE"
          ],
          [
           "варенье",
           "TYPE"
          ],
          [
           "рамбутан",
           "TYPE"
          ],
          [
           "корнишоны",
           "TYPE"
          ],
          [
           "маринованные",
           "TYPE"
          ],
          [
           "булуа",
           "TYPE"
          ],
          [
           "черный",
           "TYPE"
          ],
          [
           "чай",
           "TYPE"
          ],
          [
           "листовой",
           "TYPE"
          ],
          [
           "творожники",
           "TYPE"
          ],
          [
           "свежие",
           "TYPE"
          ],
          [
           "огурцы",
           "TYPE"
          ],
          [
           "лапшу",
           "TYPE"
          ],
          [
           "паста",
           "TYPE"
          ],
          [
           "томат",
           "TYPE"
          ],
          [
           "сосиски",
           "TYPE"
          ],
          [
           "молочные",
           "TYPE"
          ],
          [
           "ячневая",
           "TYPE"
          ],
          [
           "крупа",
           "TYPE"
          ],
          [
           "рассыпчатая",
           "TYPE"
          ],
          [
           "металлически",
           "TYPE"
          ],
          [
           "кинзу",
           "TYPE"
          ],
          [
           "фрут",
           "TYPE"
          ],
          [
           "колбаса",
           "TYPE"
          ],
          [
           "из",
           "TYPE"
          ],
          [
           "индейки",
           "TYPE"
          ],
          [
           "лечо",
           "TYPE"
          ],
          [
           "тряпок",
           "TYPE"
          ],
          [
           "сава",
           "TYPE"
          ],
          [
           "кисло-сладки",
           "TYPE"
          ],
          [
           "аэрозо",
           "TYPE"
          ],
          [
           "пылесо",
           "TYPE"
          ],
          [
           "батончик",
           "TYPE"
          ],
          [
           "протеиновый",
           "TYPE"
          ],
          [
           "крекер",
           "TYPE"
          ],
          [
           "тоф",
           "TYPE"
          ],
          [
           "сырокопченых",
           "TYPE"
          ],
          [
           "нектаин",
           "TYPE"
          ],
          [
           "крыш",
           "TYPE"
          ],
          [
           "пмидор",
           "TYPE"
          ],
          [
           "чак",
           "TYPE"
          ],
          [
           "ча",
           "TYPE"
          ],
          [
           "вяблоки",
           "TYPE"
          ],
          [
           "туалеты",
           "TYPE"
          ],
          [
           "хлеб",
           "TYPE"
          ],
          [
           "без",
           "TYPE"
          ],
          [
           "дрожжевой",
           "TYPE"
          ],
          [
           "юбийное",
           "TYPE"
          ],
          [
           "веган",
           "TYPE"
          ],
          [
           "капусто",
           "TYPE"
          ],
          [
           "зубные",
           "TYPE"
          ],
          [
           "щет",
           "TYPE"
          ],
          [
           "подушк",
           "TYPE"
          ],
          [
           "зефиры",
           "TYPE"
          ],
          [
           "мороженное",
           "TYPE"
          ],
          [
           "в",
           "TYPE"
          ],
          [
           "стакан",
           "TYPE"
          ],
          [
           "помидор.",
           "TYPE"
          ],
          [
           "норчица",
           "TYPE"
          ],
          [
           "совк",
           "TYPE"
          ],
          [
           "чипсы",
           "TYPE"
          ],
          [
           "с",
           "TYPE"
          ],
          [
           "луком",
           "TYPE"
          ],
          [
           "куриа",
           "TYPE"
          ],
          [
           "супна",
           "TYPE"
          ],
          [
           "шейка",
           "TYPE"
          ],
          [
           "зоохрум",
           "TYPE"
          ],
          [
           "наггетмы",
           "TYPE"
          ],
          [
           "сырники",
           "TYPE"
          ],
          [
           "блко",
           "TYPE"
          ],
          [
           "на",
           "TYPE"
          ],
          [
           "пирг",
           "TYPE"
          ],
          [
           "маслосл",
           "TYPE"
          ],
          [
           "сыворотка",
           "TYPE"
          ],
          [
           "питьев",
           "TYPE"
          ],
          [
           "маслины",
           "TYPE"
          ],
          [
           "капускта",
           "TYPE"
          ],
          [
           "моркоыка",
           "TYPE"
          ],
          [
           "мусс",
           "TYPE"
          ],
          [
           "для",
           "TYPE"
          ],
          [
           "укоалки",
           "TYPE"
          ],
          [
           "уриный",
           "TYPE"
          ],
          [
           "кофе",
           "TYPE"
          ],
          [
           "окорк",
           "TYPE"
          ],
          [
           "блинчики",
           "TYPE"
          ],
          [
           "цельнозерновой",
           "TYPE"
          ],
          [
           "хлеб",
           "TYPE"
          ],
          [
           "мягкие",
           "TYPE"
          ],
          [
           "вафли",
           "TYPE"
          ],
          [
           "злаковое",
           "TYPE"
          ],
          [
           "уксус",
           "TYPE"
          ],
          [
           "мармелад",
           "TYPE"
          ],
          [
           "консервированны",
           "TYPE"
          ],
          [
           "варены",
           "TYPE"
          ],
          [
           "колбаса",
           "TYPE"
          ],
          [
           "яичная",
           "TYPE"
          ],
          [
           "тефтельки",
           "TYPE"
          ],
          [
           "сметане",
           "TYPE"
          ],
          [
           "броколт",
           "TYPE"
          ],
          [
           "огкрцы",
           "TYPE"
          ],
          [
           "пшенно",
           "TYPE"
          ],
          [
           "малоежкп",
           "TYPE"
          ],
          [
           "шоколад",
           "TYPE"
          ],
          [
           "карпаччо",
           "TYPE"
          ],
          [
           "ткшенка",
           "TYPE"
          ],
          [
           "хлебцв",
           "TYPE"
          ],
          [
           "воздухоочистители",
           "TYPE"
          ],
          [
           "переносные",
           "TYPE"
          ],
          [
           "ежедневник",
           "TYPE"
          ],
          [
           "випечка",
           "TYPE"
          ],
          [
           "кисел",
           "TYPE"
          ],
          [
           "мисо",
           "TYPE"
          ],
          [
           "пицета",
           "TYPE"
          ],
          [
           "картофелль",
           "TYPE"
          ],
          [
           "египпет",
           "TYPE"
          ],
          [
           "молодой",
           "TYPE"
          ],
          [
           "ореххи",
           "TYPE"
          ],
          [
           "батончик",
           "TYPE"
          ],
          [
           "лимонад",
           "TYPE"
          ],
          [
           "хачапкри",
           "TYPE"
          ],
          [
           "фунч",
           "TYPE"
          ],
          [
           "сельдерец",
           "TYPE"
          ],
          [
           "индилвйт",
           "TYPE"
          ],
          [
           "фасол",
           "TYPE"
          ],
          [
           "таматн",
           "TYPE"
          ],
          [
           "яблоко",
           "TYPE"
          ],
          [
           "тхоарк",
           "TYPE"
          ],
          [
           "салаетки",
           "TYPE"
          ],
          [
           "ектарины",
           "TYPE"
          ],
          [
           "пломбир",
           "TYPE"
          ],
          [
           "с",
           "TYPE"
          ],
          [
           "изю",
           "TYPE"
          ],
          [
           "помидоры",
           "TYPE"
          ],
          [
           "огурцы",
           "TYPE"
          ],
          [
           "перец",
           "TYPE"
          ],
          [
           "болгарский",
           "TYPE"
          ],
          [
           "печегь",
           "TYPE"
          ],
          [
           "орахи",
           "TYPE"
          ],
          [
           "тесто",
           "TYPE"
          ],
          [
           "для",
           "TYPE"
          ],
          [
           "чеб",
           "TYPE"
          ],
          [
           "сосисб",
           "TYPE"
          ],
          [
           "филе",
           "TYPE"
          ],
          [
           "семги",
           "TYPE"
          ],
          [
           "губок",
           "TYPE"
          ],
          [
           "филео",
           "TYPE"
          ],
          [
           "мороженлн",
           "TYPE"
          ],
          [
           "жвач4а",
           "TYPE"
          ],
          [
           "скатерть",
           "TYPE"
          ],
          [
           "доктарская",
           "TYPE"
          ],
          [
           "кпоейка",
           "TYPE"
          ],
          [
           "быстрозамороженн",
           "TYPE"
          ],
          [
           "паниров",
           "TYPE"
          ],
          [
           "оусы",
           "TYPE"
          ],
          [
           "носки",
           "TYPE"
          ],
          [
           "средство",
           "TYPE"
          ],
          [
           "для",
           "TYPE"
          ],
          [
           "устранения",
           "TYPE"
          ],
          [
           "засоров",
           "TYPE"
          ],
          [
           "охлаждна",
           "TYPE"
          ],
          [
           "кренделбки",
           "TYPE"
          ],
          [
           "солен",
           "TYPE"
          ],
          [
           "птичьн",
           "TYPE"
          ],
          [
           "грушк",
           "TYPE"
          ],
          [
           "масло",
           "TYPE"
          ],
          [
           "п",
           "TYPE"
          ],
          [
           "об",
           "TYPE"
          ],
          [
           "корзиночек",
           "TYPE"
          ],
          [
           "кардамон",
           "TYPE"
          ],
          [
           "багет",
           "TYPE"
          ],
          [
           "олони",
           "TYPE"
          ],
          [
           "фен",
           "TYPE"
          ],
          [
           "кальмаров",
           "TYPE"
          ],
          [
           "творржки",
           "TYPE"
          ],
          [
           "моё",
           "TYPE"
          ],
          [
           "средство",
           "TYPE"
          ],
          [
           "для",
           "TYPE"
          ],
          [
           "пола",
           "TYPE"
          ],
          [
           "совк",
           "TYPE"
          ],
          [
           "муср",
           "TYPE"
          ],
          [
           "больой",
           "TYPE"
          ],
          [
           "средств",
           "TYPE"
          ],
          [
           "дл",
           "TYPE"
          ],
          [
           "малышей",
           "TYPE"
          ],
          [
           "гиген",
           "TYPE"
          ],
          [
           "трюфель",
           "TYPE"
          ],
          [
           "для",
           "TYPE"
          ],
          [
           "пасты",
           "TYPE"
          ],
          [
           "европром",
           "TYPE"
          ],
          [
           "суп",
           "TYPE"
          ],
          [
           "солнка",
           "TYPE"
          ],
          [
           "копчн",
           "TYPE"
          ],
          [
           "салфетких",
           "TYPE"
          ],
          [
           "ежэдневные",
           "TYPE"
          ],
          [
           "бритва",
           "TYPE"
          ],
          [
           "мужск",
           "TYPE"
          ],
          [
           "одноразов",
           "TYPE"
          ],
          [
           "сыро",
           "TYPE"
          ],
          [
           "дрожжи",
           "TYPE"
          ],
          [
           "будочки",
           "TYPE"
          ],
          [
           "доя",
           "TYPE"
          ],
          [
           "бур",
           "TYPE"
          ],
          [
           "разрыхлите",
           "TYPE"
          ],
          [
           "бюстгальте",
           "TYPE"
          ],
          [
           "календари",
           "TYPE"
          ],
          [
           "мармеладные",
           "TYPE"
          ],
          [
           "нагет",
           "TYPE"
          ],
          [
           "бурый",
           "TYPE"
          ],
          [
           "ри",
           "TYPE"
          ],
          [
           "гречка",
           "TYPE"
          ],
          [
           "м",
           "TYPE"
          ],
          [
           "рис",
           "TYPE"
          ],
          [
           "глазурь",
           "TYPE"
          ],
          [
           "пюре",
           "TYPE"
          ],
          [
           "яблоко",
           "TYPE"
          ],
          [
           "банан",
           "TYPE"
          ],
          [
           "фуджи",
           "TYPE"
          ],
          [
           "вода",
           "TYPE"
          ],
          [
           "в",
           "TYPE"
          ],
          [
           "бу",
           "TYPE"
          ],
          [
           "плавки",
           "TYPE"
          ],
          [
           "very",
           "TYPE"
          ],
          [
           "шоколад",
           "TYPE"
          ],
          [
           "мясника",
           "TYPE"
          ],
          [
           "медовы",
           "TYPE"
          ],
          [
           "фунд",
           "TYPE"
          ],
          [
           "вода",
           "TYPE"
          ],
          [
           "газировпнная",
           "TYPE"
          ],
          [
           "розовый",
           "TYPE"
          ],
          [
           "коул",
           "TYPE"
          ],
          [
           "сок",
           "TYPE"
          ],
          [
           "апельсиновый",
           "TYPE"
          ],
          [
           "с",
           "TYPE"
          ],
          [
           "мыкотью",
           "TYPE"
          ],
          [
           "багет.",
           "TYPE"
          ],
          [
           "рыба",
           "TYPE"
          ],
          [
           "филе",
           "TYPE"
          ],
          [
           "плавленый",
           "TYPE"
          ],
          [
           "сырок",
           "TYPE"
          ],
          [
           "коотлета",
           "TYPE"
          ],
          [
           "яблоко",
           "TYPE"
          ],
          [
           "пюре",
           "TYPE"
          ],
          [
           "с",
           "TYPE"
          ],
          [
           "мясом",
           "TYPE"
          ],
          [
           "лук",
           "TYPE"
          ],
          [
           "дл",
           "TYPE"
          ],
          [
           "салат",
           "TYPE"
          ],
          [
           "подушечки",
           "TYPE"
          ],
          [
           "вилка",
           "TYPE"
          ],
          [
           "сладсти",
           "TYPE"
          ],
          [
           "сгущённое",
           "TYPE"
          ],
          [
           "бумаг",
           "TYPE"
          ],
          [
           "корица",
           "TYPE"
          ],
          [
           "вфарш",
           "TYPE"
          ],
          [
           "ацидофил",
           "TYPE"
          ],
          [
           "яйцо",
           "TYPE"
          ],
          [
           "куриное",
           "TYPE"
          ],
          [
           "со",
           "TYPE"
          ],
          [
           "овсянные",
           "TYPE"
          ],
          [
           "хлопья",
           "TYPE"
          ],
          [
           "яцо",
           "TYPE"
          ],
          [
           "курне",
           "TYPE"
          ],
          [
           "огоурц",
           "TYPE"
          ],
          [
           "водка",
           "TYPE"
          ],
          [
           "бртв",
           "TYPE"
          ],
          [
           "стан",
           "TYPE"
          ],
          [
           "прочие",
           "TYPE"
          ],
          [
           "консерв",
           "TYPE"
          ],
          [
           "хлопья",
           "TYPE"
          ],
          [
           "овсчные",
           "TYPE"
          ],
          [
           "дезодорант",
           "TYPE"
          ],
          [
           "компакный",
           "TYPE"
          ],
          [
           "мини",
           "TYPE"
          ],
          [
           "крпы",
           "TYPE"
          ],
          [
           "сок",
           "TYPE"
          ],
          [
           "арбуз",
           "TYPE"
          ],
          [
           "пудинги",
           "TYPE"
          ],
          [
           "юрокколи",
           "TYPE"
          ],
          [
           "томаты",
           "TYPE"
          ],
          [
           "розовые",
           "TYPE"
          ],
          [
           "тубус",
           "TYPE"
          ],
          [
           "сапоги",
           "TYPE"
          ],
          [
           "масло",
           "TYPE"
          ],
          [
           "для",
           "TYPE"
          ],
          [
           "волос",
           "TYPE"
          ],
          [
           "сосиськт",
           "TYPE"
          ],
          [
           "колбаса",
           "TYPE"
          ],
          [
           "докторская",
           "TYPE"
          ],
          [
           "сок",
           "TYPE"
          ],
          [
           "тыквенный",
           "TYPE"
          ],
          [
           "овсянка",
           "TYPE"
          ],
          [
           "для",
           "TYPE"
          ],
          [
           "завтрака",
           "TYPE"
          ],
          [
           "яйцоф",
           "TYPE"
          ],
          [
           "лимонна",
           "TYPE"
          ],
          [
           "масло",
           "TYPE"
          ],
          [
           "сливочное",
           "TYPE"
          ],
          [
           "ром",
           "TYPE"
          ],
          [
           "газеты",
           "TYPE"
          ],
          [
           "колбача",
           "TYPE"
          ],
          [
           "тлц",
           "TYPE"
          ],
          [
           "хлопь",
           "TYPE"
          ],
          [
           "шаколадк",
           "TYPE"
          ],
          [
           "геркулес",
           "TYPE"
          ],
          [
           "руко",
           "TYPE"
          ],
          [
           "плавки",
           "TYPE"
          ],
          [
           "пешьмен",
           "TYPE"
          ],
          [
           "нож",
           "TYPE"
          ],
          [
           "сыр",
           "TYPE"
          ],
          [
           "мягки",
           "TYPE"
          ],
          [
           "вода",
           "TYPE"
          ],
          [
           "злн",
           "TYPE"
          ],
          [
           "на",
           "TYPE"
          ],
          [
           "суп",
           "TYPE"
          ],
          [
           "фруктовые",
           "TYPE"
          ],
          [
           "чипсы",
           "TYPE"
          ],
          [
           "содовая",
           "TYPE"
          ],
          [
           "йогурт",
           "TYPE"
          ],
          [
           "золотый",
           "TYPE"
          ],
          [
           "луга",
           "TYPE"
          ],
          [
           "сосиски",
           "TYPE"
          ],
          [
           "детские",
           "TYPE"
          ],
          [
           "с",
           "TYPE"
          ],
          [
           "свром",
           "TYPE"
          ],
          [
           "греческ",
           "TYPE"
          ],
          [
           "сигареты",
           "TYPE"
          ],
          [
           "сыр",
           "TYPE"
          ],
          [
           "с",
           "TYPE"
          ],
          [
           "плесенью",
           "TYPE"
          ],
          [
           "dorblu",
           "TYPE"
          ],
          [
           "свечки",
           "TYPE"
          ],
          [
           "для",
           "TYPE"
          ],
          [
           "торта",
           "TYPE"
          ],
          [
           "пупкорн",
           "TYPE"
          ],
          [
           "мандрарины",
           "TYPE"
          ],
          [
           "укро",
           "TYPE"
          ],
          [
           "ча",
           "TYPE"
          ],
          [
           "овсяная",
           "TYPE"
          ],
          [
           "каша",
           "TYPE"
          ],
          [
           "пирожных",
           "TYPE"
          ],
          [
           "бренди",
           "TYPE"
          ],
          [
           "форель",
           "TYPE"
          ],
          [
           "amore",
           "TYPE"
          ],
          [
           "бана",
           "TYPE"
          ],
          [
           "яйца\\ud83c\\udf73",
           "TYPE"
          ],
          [
           "ромкор",
           "TYPE"
          ],
          [
           "приправа",
           "TYPE"
          ],
          [
           "травы",
           "TYPE"
          ],
          [
           "труcы",
           "TYPE"
          ],
          [
           "моложеное",
           "TYPE"
          ],
          [
           "одноразовые",
           "TYPE"
          ],
          [
           "пакеты",
           "TYPE"
          ],
          [
           "топинамбура",
           "TYPE"
          ],
          [
           "мыло",
           "TYPE"
          ],
          [
           "дет",
           "TYPE"
          ],
          [
           "моцарела",
           "TYPE"
          ],
          [
           "ведро",
           "TYPE"
          ],
          [
           "д",
           "TYPE"
          ],
          [
           "уборки",
           "TYPE"
          ],
          [
           "тыквау",
           "TYPE"
          ],
          [
           "медальены",
           "TYPE"
          ],
          [
           "мусс",
           "TYPE"
          ],
          [
           "смесь",
           "TYPE"
          ],
          [
           "перцев",
           "TYPE"
          ],
          [
           "молта",
           "TYPE"
          ],
          [
           "розов",
           "TYPE"
          ],
          [
           "пышечка",
           "TYPE"
          ],
          [
           "хек",
           "TYPE"
          ],
          [
           "слабосоленные",
           "TYPE"
          ],
          [
           "макарано",
           "TYPE"
          ],
          [
           "груши",
           "TYPE"
          ],
          [
           "на",
           "TYPE"
          ],
          [
           "варенье",
           "TYPE"
          ],
          [
           "мешки",
           "TYPE"
          ],
          [
           "могурт",
           "TYPE"
          ],
          [
           "пеленка",
           "TYPE"
          ],
          [
           "ванильный",
           "TYPE"
          ],
          [
           "ставридка",
           "TYPE"
          ],
          [
           "вода",
           "TYPE"
          ],
          [
           "детская",
           "TYPE"
          ],
          [
           "носк",
           "TYPE"
          ],
          [
           "ванильные",
           "TYPE"
          ],
          [
           "основа",
           "TYPE"
          ],
          [
           "детско",
           "TYPE"
          ],
          [
           "перец",
           "TYPE"
          ],
          [
           "мельница",
           "TYPE"
          ],
          [
           "орехи",
           "TYPE"
          ],
          [
           "с",
           "TYPE"
          ],
          [
           "медом",
           "TYPE"
          ],
          [
           "джаз",
           "TYPE"
          ],
          [
           "тарталеьки",
           "TYPE"
          ],
          [
           "шоколадки",
           "TYPE"
          ],
          [
           "моикоаь",
           "TYPE"
          ],
          [
           "блины",
           "TYPE"
          ],
          [
           "с",
           "TYPE"
          ],
          [
           "клубникой",
           "TYPE"
          ],
          [
           "рис",
           "TYPE"
          ],
          [
           "бурый",
           "TYPE"
          ],
          [
           "булочное",
           "TYPE"
          ],
          [
           "булко",
           "TYPE"
          ],
          [
           "сливыч",
           "TYPE"
          ],
          [
           "мороженое",
           "TYPE"
          ],
          [
           "бальян",
           "TYPE"
          ],
          [
           "густые",
           "TYPE"
          ],
          [
           "медъ",
           "TYPE"
          ],
          [
           "рыба",
           "TYPE"
          ],
          [
           "дл",
           "TYPE"
          ],
          [
           "ухи",
           "TYPE"
          ],
          [
           "вермишкль",
           "TYPE"
          ],
          [
           "замороженные",
           "TYPE"
          ],
          [
           "фрукты",
           "TYPE"
          ],
          [
           "яйца",
           "TYPE"
          ],
          [
           "куриные",
           "TYPE"
          ],
          [
           "со",
           "TYPE"
          ],
          [
           "дамплинг",
           "TYPE"
          ],
          [
           "щюки",
           "TYPE"
          ],
          [
           "безлакиозное",
           "TYPE"
          ],
          [
           "кофе",
           "TYPE"
          ],
          [
           "растворимом",
           "TYPE"
          ],
          [
           "горная",
           "TYPE"
          ],
          [
           "поляна",
           "TYPE"
          ],
          [
           "щтка",
           "TYPE"
          ],
          [
           "д",
           "TYPE"
          ],
          [
           "обув",
           "TYPE"
          ],
          [
           "масло",
           "TYPE"
          ],
          [
           "котлеты",
           "TYPE"
          ],
          [
           "для",
           "TYPE"
          ],
          [
           "гамбургер",
           "TYPE"
          ],
          [
           "омлет",
           "TYPE"
          ],
          [
           "с",
           "TYPE"
          ],
          [
           "сыром",
           "TYPE"
          ],
          [
           "майонне",
           "TYPE"
          ],
          [
           "книги",
           "TYPE"
          ],
          [
           "комот",
           "TYPE"
          ],
          [
           "вишневй",
           "TYPE"
          ],
          [
           "я",
           "TYPE"
          ],
          [
           "колбасы",
           "TYPE"
          ],
          [
           "рм",
           "TYPE"
          ],
          [
           "лосьон",
           "TYPE"
          ],
          [
           "длы",
           "TYPE"
          ],
          [
           "малышей",
           "TYPE"
          ],
          [
           "гигиен",
           "TYPE"
          ],
          [
           "чипсы",
           "TYPE"
          ],
          [
           "мороженный",
           "TYPE"
          ],
          [
           "спичк",
           "TYPE"
          ],
          [
           "спирт",
           "TYPE"
          ],
          [
           "батон",
           "TYPE"
          ],
          [
           "с",
           "TYPE"
          ],
          [
           "печи",
           "TYPE"
          ],
          [
           "наггетсы",
           "TYPE"
          ],
          [
           "рыбные",
           "TYPE"
          ],
          [
           "салями",
           "TYPE"
          ],
          [
           "пудинги",
           "TYPE"
          ],
          [
           "варены",
           "TYPE"
          ],
          [
           "постное",
           "TYPE"
          ],
          [
           "детский",
           "TYPE"
          ],
          [
           "чай",
           "TYPE"
          ],
          [
           "абрикоша",
           "TYPE"
          ],
          [
           "вермут",
           "TYPE"
          ],
          [
           "судак",
           "TYPE"
          ],
          [
           "замороженно",
           "TYPE"
          ],
          [
           "конвертик",
           "TYPE"
          ],
          [
           "моркову",
           "TYPE"
          ],
          [
           "кукурузная",
           "TYPE"
          ],
          [
           "витчин",
           "TYPE"
          ],
          [
           "сырникр",
           "TYPE"
          ],
          [
           "мвндарины",
           "TYPE"
          ],
          [
           "йогурт",
           "TYPE"
          ],
          [
           "клубн",
           "TYPE"
          ],
          [
           "п/д",
           "TYPE"
          ],
          [
           "малино",
           "TYPE"
          ],
          [
           "котлеты",
           "TYPE"
          ],
          [
           "че",
           "TYPE"
          ],
          [
           "верг",
           "TYPE"
          ],
          [
           "блокноты",
           "TYPE"
          ],
          [
           "молочным",
           "TYPE"
          ],
          [
           "коктейл",
           "TYPE"
          ],
          [
           "артишок",
           "TYPE"
          ],
          [
           "фенхель",
           "TYPE"
          ],
          [
           "калас",
           "TYPE"
          ],
          [
           "смешанный",
           "TYPE"
          ],
          [
           "р",
           "TYPE"
          ],
          [
           "морка",
           "TYPE"
          ],
          [
           "по",
           "TYPE"
          ],
          [
           "корейски",
           "TYPE"
          ],
          [
           "минераль",
           "TYPE"
          ],
          [
           "туплетная",
           "TYPE"
          ],
          [
           "крахма",
           "TYPE"
          ],
          [
           "бумжй",
           "TYPE"
          ],
          [
           "подарочный",
           "TYPE"
          ],
          [
           "соусом",
           "TYPE"
          ],
          [
           "каша",
           "TYPE"
          ],
          [
           "рисо",
           "TYPE"
          ],
          [
           "сырнички",
           "TYPE"
          ],
          [
           "калькулято",
           "TYPE"
          ],
          [
           "сгорох",
           "TYPE"
          ],
          [
           "яйцо",
           "TYPE"
          ],
          [
           "перепелиное",
           "TYPE"
          ],
          [
           "бужаные",
           "TYPE"
          ],
          [
           "рис",
           "TYPE"
          ],
          [
           "пастмила",
           "TYPE"
          ],
          [
           "керьешки",
           "TYPE"
          ],
          [
           "яаблоко",
           "TYPE"
          ],
          [
           "капуаоа",
           "TYPE"
          ],
          [
           "печепые",
           "TYPE"
          ],
          [
           "субпродукт",
           "TYPE"
          ],
          [
           "суши",
           "TYPE"
          ],
          [
           "сет",
           "TYPE"
          ],
          [
           "сгущенные",
           "TYPE"
          ],
          [
           "молочны",
           "TYPE"
          ],
          [
           "смеси",
           "TYPE"
          ],
          [
           "овощные",
           "TYPE"
          ],
          [
           "морс4ач",
           "TYPE"
          ],
          [
           "соломкащ",
           "TYPE"
          ],
          [
           "сардин",
           "TYPE"
          ],
          [
           "батончик",
           "TYPE"
          ],
          [
           "шоколадный",
           "TYPE"
          ],
          [
           "сырнмки",
           "TYPE"
          ],
          [
           "клубничный",
           "TYPE"
          ],
          [
           "джем",
           "TYPE"
          ],
          [
           "пенка",
           "TYPE"
          ],
          [
           "для",
           "TYPE"
          ],
          [
           "лица",
           "TYPE"
          ],
          [
           "хлеб",
           "TYPE"
          ],
          [
           "по",
           "TYPE"
          ],
          [
           "ук",
           "TYPE"
          ],
          [
           "кухоная",
           "TYPE"
          ],
          [
           "вытяжка",
           "TYPE"
          ],
          [
           "арахисы",
           "TYPE"
          ],
          [
           "гале",
           "TYPE"
          ],
          [
           "игрушк",
           "TYPE"
          ],
          [
           "муравейн",
           "TYPE"
          ],
          [
           "обувь",
           "TYPE"
          ],
          [
           "спортивн",
           "TYPE"
          ],
          [
           "руаса",
           "TYPE"
          ],
          [
           "носокв",
           "TYPE"
          ],
          [
           "куринный",
           "TYPE"
          ],
          [
           "бульон",
           "TYPE"
          ],
          [
           "фарфа",
           "TYPE"
          ],
          [
           "фруктовый",
           "TYPE"
          ],
          [
           "батончик",
           "TYPE"
          ],
          [
           "орехи",
           "TYPE"
          ],
          [
           "грецкие",
           "TYPE"
          ],
          [
           "яблоки",
           "TYPE"
          ],
          [
           "оггурц",
           "TYPE"
          ],
          [
           "таматна",
           "TYPE"
          ],
          [
           "лозанья",
           "TYPE"
          ],
          [
           "зубны",
           "TYPE"
          ],
          [
           "бритвенные",
           "TYPE"
          ],
          [
           "станк",
           "TYPE"
          ],
          [
           "воздушный",
           "TYPE"
          ],
          [
           "рис",
           "TYPE"
          ],
          [
           "пельмени",
           "TYPE"
          ],
          [
           "мини",
           "TYPE"
          ],
          [
           "чашки",
           "TYPE"
          ],
          [
           "соленой",
           "TYPE"
          ],
          [
           "квашены",
           "TYPE"
          ],
          [
           "ливерные",
           "TYPE"
          ],
          [
           "дс",
           "TYPE"
          ],
          [
           "куриное",
           "TYPE"
          ],
          [
           "филе",
           "TYPE"
          ],
          [
           "для",
           "TYPE"
          ],
          [
           "салата",
           "TYPE"
          ],
          [
           "сосиски",
           "TYPE"
          ],
          [
           "владимирский",
           "TYPE"
          ],
          [
           "студн",
           "TYPE"
          ],
          [
           "бад",
           "TYPE"
          ],
          [
           "чай",
           "TYPE"
          ],
          [
           "зеленый",
           "TYPE"
          ],
          [
           "с",
           "TYPE"
          ],
          [
           "консервы",
           "TYPE"
          ],
          [
           "скумбрия",
           "TYPE"
          ],
          [
           "соевыц",
           "TYPE"
          ],
          [
           "ссалат",
           "TYPE"
          ],
          [
           "одноразовые",
           "TYPE"
          ],
          [
           "плат",
           "TYPE"
          ],
          [
           "сслфетки",
           "TYPE"
          ],
          [
           "узвары",
           "TYPE"
          ],
          [
           "allen",
           "TYPE"
          ],
          [
           "дрип",
           "TYPE"
          ],
          [
           "кофе",
           "TYPE"
          ],
          [
           "вермишкл",
           "TYPE"
          ],
          [
           "одеяла",
           "TYPE"
          ],
          [
           "конструкторы",
           "TYPE"
          ],
          [
           "марселадки",
           "TYPE"
          ],
          [
           "майонез",
           "TYPE"
          ],
          [
           "помядоры",
           "TYPE"
          ],
          [
           "батарнйки",
           "TYPE"
          ],
          [
           "яицв",
           "TYPE"
          ],
          [
           "медиа",
           "TYPE"
          ],
          [
           "периферийные",
           "TYPE"
          ],
          [
           "устройст",
           "TYPE"
          ],
          [
           "сок",
           "TYPE"
          ],
          [
           "апельсииновый",
           "TYPE"
          ],
          [
           "маслины",
           "TYPE"
          ],
          [
           "воск",
           "TYPE"
          ],
          [
           "мусс",
           "TYPE"
          ],
          [
           "коетчатка",
           "TYPE"
          ],
          [
           "бедро",
           "TYPE"
          ],
          [
           "ципленка",
           "TYPE"
          ],
          [
           "бананы",
           "TYPE"
          ],
          [
           "плющка",
           "TYPE"
          ],
          [
           "ацидофильны",
           "TYPE"
          ],
          [
           "баклажаны",
           "TYPE"
          ],
          [
           "шпинат",
           "TYPE"
          ],
          [
           "для",
           "TYPE"
          ],
          [
           "салата",
           "TYPE"
          ],
          [
           "орхиде",
           "TYPE"
          ],
          [
           "сельдеоей",
           "TYPE"
          ],
          [
           "салыетка",
           "TYPE"
          ],
          [
           "черносливйч",
           "TYPE"
          ],
          [
           "сардель",
           "TYPE"
          ],
          [
           "халва",
           "TYPE"
          ],
          [
           "бмк",
           "TYPE"
          ],
          [
           "варено-копчены",
           "TYPE"
          ],
          [
           "сахар",
           "TYPE"
          ],
          [
           "тростниковый",
           "TYPE"
          ],
          [
           "курккма",
           "TYPE"
          ],
          [
           "тесто",
           "TYPE"
          ],
          [
           "для",
           "TYPE"
          ],
          [
           "лагман",
           "TYPE"
          ],
          [
           "вторые",
           "TYPE"
          ],
          [
           "блюда",
           "TYPE"
          ],
          [
           "огурыы",
           "TYPE"
          ],
          [
           "рыба",
           "TYPE"
          ],
          [
           "копчёная",
           "TYPE"
          ],
          [
           "гарчица",
           "TYPE"
          ],
          [
           "варено-копчен",
           "TYPE"
          ],
          [
           "творогаый",
           "TYPE"
          ],
          [
           "порционые",
           "TYPE"
          ],
          [
           "слики",
           "TYPE"
          ],
          [
           "кусоч",
           "TYPE"
          ],
          [
           "пудинги",
           "TYPE"
          ],
          [
           "сжк",
           "TYPE"
          ],
          [
           "соус",
           "TYPE"
          ],
          [
           "грибной",
           "TYPE"
          ],
          [
           "сливочный",
           "TYPE"
          ],
          [
           "казенак",
           "TYPE"
          ],
          [
           "бритья",
           "TYPE"
          ],
          [
           "печенье",
           "TYPE"
          ],
          [
           "пряники",
           "TYPE"
          ],
          [
           "вафли",
           "TYPE"
          ],
          [
           "колбаса",
           "TYPE"
          ],
          [
           "соль",
           "TYPE"
          ],
          [
           "прянк",
           "TYPE"
          ],
          [
           "медвй",
           "TYPE"
          ],
          [
           "тульскй",
           "TYPE"
          ],
          [
           "хлебцы",
           "TYPE"
          ],
          [
           "рисовые",
           "TYPE"
          ],
          [
           "белое",
           "TYPE"
          ],
          [
           "плодово",
           "TYPE"
          ],
          [
           "шоолад",
           "TYPE"
          ],
          [
           "прой",
           "TYPE"
          ],
          [
           "ис",
           "TYPE"
          ],
          [
           "лрожди",
           "TYPE"
          ],
          [
           "cnorr",
           "TYPE"
          ],
          [
           "соседдушка",
           "TYPE"
          ],
          [
           "трубочк",
           "TYPE"
          ],
          [
           "фены",
           "TYPE"
          ],
          [
           "вада",
           "TYPE"
          ],
          [
           "тряаки",
           "TYPE"
          ],
          [
           "печенье",
           "TYPE"
          ],
          [
           "роб",
           "TYPE"
          ],
          [
           "батончик",
           "TYPE"
          ],
          [
           "lion",
           "TYPE"
          ],
          [
           "смесь",
           "TYPE"
          ],
          [
           "для",
           "TYPE"
          ],
          [
           "бес",
           "TYPE"
          ],
          [
           "басманти",
           "TYPE"
          ],
          [
           "нуга",
           "TYPE"
          ],
          [
           "йокупт",
           "TYPE"
          ],
          [
           "семчки",
           "TYPE"
          ],
          [
           "жарн",
           "TYPE"
          ],
          [
           "корм",
           "TYPE"
          ],
          [
           "влажный",
           "TYPE"
          ],
          [
           "мвффин",
           "TYPE"
          ],
          [
           "перцев",
           "TYPE"
          ],
          [
           "мешки",
           "TYPE"
          ],
          [
           "длч",
           "TYPE"
          ],
          [
           "мумора",
           "TYPE"
          ],
          [
           "солена",
           "TYPE"
          ],
          [
           "огурцы",
           "TYPE"
          ],
          [
           "маринованные",
           "TYPE"
          ],
          [
           "ваня",
           "TYPE"
          ],
          [
           "паловник",
           "TYPE"
          ],
          [
           "пищевые",
           "TYPE"
          ],
          [
           "ингредиен",
           "TYPE"
          ],
          [
           "суп",
           "TYPE"
          ],
          [
           "масло",
           "TYPE"
          ],
          [
           "сливочное",
           "TYPE"
          ],
          [
           "оргурцы",
           "TYPE"
          ],
          [
           "мешок",
           "TYPE"
          ],
          [
           "муки",
           "TYPE"
          ],
          [
           "селень",
           "TYPE"
          ],
          [
           "сухой",
           "TYPE"
          ],
          [
           "корм",
           "TYPE"
          ],
          [
           "сметана",
           "TYPE"
          ],
          [
           "молоко",
           "TYPE"
          ],
          [
           "сгущенк",
           "TYPE"
          ],
          [
           "пергаме",
           "TYPE"
          ],
          [
           "зернистая",
           "TYPE"
          ],
          [
           "горчица",
           "TYPE"
          ],
          [
           "капуста",
           "TYPE"
          ],
          [
           "пекинская",
           "TYPE"
          ],
          [
           "свежая",
           "TYPE"
          ],
          [
           "каша",
           "TYPE"
          ],
          [
           "зупальца",
           "TYPE"
          ],
          [
           "зелень",
           "TYPE"
          ],
          [
           "сушёная",
           "TYPE"
          ],
          [
           "клюквен",
           "TYPE"
          ],
          [
           "молоко",
           "TYPE"
          ],
          [
           "банановы",
           "TYPE"
          ],
          [
           "батон",
           "TYPE"
          ],
          [
           "ацетон",
           "TYPE"
          ],
          [
           "капуста",
           "TYPE"
          ],
          [
           "тушеная",
           "TYPE"
          ],
          [
           "картофельк",
           "TYPE"
          ],
          [
           "легки",
           "TYPE"
          ],
          [
           "средство",
           "TYPE"
          ],
          [
           "для",
           "TYPE"
          ],
          [
           "очистки",
           "TYPE"
          ],
          [
           "стиральной",
           "TYPE"
          ],
          [
           "голубцы",
           "TYPE"
          ],
          [
           "шпи",
           "TYPE"
          ],
          [
           "чай",
           "TYPE"
          ],
          [
           "мелисса",
           "TYPE"
          ],
          [
           "тряпок",
           "TYPE"
          ],
          [
           "зефир",
           "TYPE"
          ],
          [
           "сладкая",
           "TYPE"
          ],
          [
           "баклажан",
           "TYPE"
          ],
          [
           "для",
           "TYPE"
          ],
          [
           "соте",
           "TYPE"
          ],
          [
           "майонещ",
           "TYPE"
          ],
          [
           "груд",
           "TYPE"
          ],
          [
           "огкоец",
           "TYPE"
          ],
          [
           "гриля",
           "TYPE"
          ],
          [
           "авгкадо",
           "TYPE"
          ],
          [
           "скрабы",
           "TYPE"
          ],
          [
           "черный",
           "TYPE"
          ],
          [
           "чай",
           "TYPE"
          ],
          [
           "с",
           "TYPE"
          ],
          [
           "бер",
           "TYPE"
          ],
          [
           "буз",
           "TYPE"
          ],
          [
           "хлеб",
           "TYPE"
          ],
          [
           "ггранатовый",
           "TYPE"
          ],
          [
           "рулетки",
           "TYPE"
          ],
          [
           "средствоо",
           "TYPE"
          ],
          [
           "фокачча",
           "TYPE"
          ],
          [
           "тросниковый",
           "TYPE"
          ],
          [
           "на",
           "TYPE"
          ],
          [
           "миндале",
           "TYPE"
          ],
          [
           "печенье",
           "TYPE"
          ],
          [
           "дневники,",
           "TYPE"
          ],
          [
           "органайзер",
           "TYPE"
          ],
          [
           "чикорий",
           "TYPE"
          ],
          [
           "кукурул",
           "TYPE"
          ],
          [
           "баранк",
           "TYPE"
          ],
          [
           "сеть",
           "TYPE"
          ],
          [
           "рыбацкая",
           "TYPE"
          ],
          [
           "пончикп",
           "TYPE"
          ],
          [
           "блинчики",
           "TYPE"
          ],
          [
           "св",
           "TYPE"
          ],
          [
           "таз",
           "TYPE"
          ],
          [
           "спирит",
           "TYPE"
          ],
          [
           "саль",
           "TYPE"
          ],
          [
           "макароныю",
           "TYPE"
          ],
          [
           "айсюерг",
           "TYPE"
          ],
          [
           "шрейпфрут",
           "TYPE"
          ],
          [
           "гель",
           "TYPE"
          ],
          [
           "печенье",
           "TYPE"
          ],
          [
           "видеокамэры",
           "TYPE"
          ],
          [
           "брикеты",
           "TYPE"
          ],
          [
           "айсбрг",
           "TYPE"
          ],
          [
           "творожки",
           "TYPE"
          ],
          [
           "детские",
           "TYPE"
          ],
          [
           "панамы",
           "TYPE"
          ],
          [
           "аартофель",
           "TYPE"
          ],
          [
           "йогурт",
           "TYPE"
          ],
          [
           "густой",
           "TYPE"
          ],
          [
           "бритвы,",
           "TYPE"
          ],
          [
           "триммеры",
           "TYPE"
          ],
          [
           "гель",
           "TYPE"
          ],
          [
           "для",
           "TYPE"
          ],
          [
           "душа",
           "TYPE"
          ],
          [
           "хлеб",
           "TYPE"
          ],
          [
           "зерново",
           "TYPE"
          ],
          [
           "ассорти",
           "TYPE"
          ],
          [
           "из",
           "TYPE"
          ],
          [
           "рыбы",
           "TYPE"
          ],
          [
           "суп",
           "TYPE"
          ],
          [
           "из",
           "TYPE"
          ],
          [
           "тыквы",
           "TYPE"
          ],
          [
           "корм",
           "TYPE"
          ],
          [
           "для",
           "TYPE"
          ],
          [
           "колек",
           "TYPE"
          ],
          [
           "кофе",
           "TYPE"
          ],
          [
           "хачапуп",
           "TYPE"
          ],
          [
           "бублики",
           "TYPE"
          ],
          [
           "соль",
           "TYPE"
          ],
          [
           "маринованная",
           "TYPE"
          ],
          [
           "молочным",
           "TYPE"
          ],
          [
           "коктейль",
           "TYPE"
          ],
          [
           "маска",
           "TYPE"
          ],
          [
           "лиц",
           "TYPE"
          ],
          [
           "питатн",
           "TYPE"
          ],
          [
           "ночн",
           "TYPE"
          ],
          [
           "шоколад",
           "TYPE"
          ],
          [
           "плиточный",
           "TYPE"
          ],
          [
           "папирос",
           "TYPE"
          ],
          [
           "шпинат",
           "TYPE"
          ],
          [
           "печенье",
           "TYPE"
          ],
          [
           "цукаты",
           "TYPE"
          ],
          [
           "галантеейные",
           "TYPE"
          ],
          [
           "плавленый",
           "TYPE"
          ],
          [
           "с",
           "TYPE"
          ],
          [
           "шрибами",
           "TYPE"
          ],
          [
           "компот",
           "TYPE"
          ],
          [
           "детский",
           "TYPE"
          ],
          [
           "канцтова",
           "TYPE"
          ],
          [
           "уконфеты",
           "TYPE"
          ],
          [
           "зель",
           "TYPE"
          ],
          [
           "ветчина",
           "TYPE"
          ],
          [
           "из",
           "TYPE"
          ],
          [
           "свинины",
           "TYPE"
          ],
          [
           "без",
           "TYPE"
          ],
          [
           "добавок",
           "TYPE"
          ],
          [
           "сок",
           "TYPE"
          ],
          [
           "галст",
           "TYPE"
          ],
          [
           "мыло.",
           "TYPE"
          ],
          [
           "книги",
           "TYPE"
          ],
          [
           "лечо",
           "TYPE"
          ],
          [
           "самса",
           "TYPE"
          ],
          [
           "с",
           "TYPE"
          ],
          [
           "говяд",
           "TYPE"
          ],
          [
           "сок",
           "TYPE"
          ],
          [
           "без",
           "TYPE"
          ],
          [
           "мякоти",
           "TYPE"
          ],
          [
           "паштет",
           "TYPE"
          ],
          [
           "с",
           "TYPE"
          ],
          [
           "булгур",
           "TYPE"
          ],
          [
           "по",
           "TYPE"
          ],
          [
           "турецки",
           "TYPE"
          ],
          [
           "смесь",
           "TYPE"
          ],
          [
           "мексиканская",
           "TYPE"
          ],
          [
           "крахмар",
           "TYPE"
          ],
          [
           "зерниста",
           "TYPE"
          ],
          [
           "ополаскиватель",
           "TYPE"
          ],
          [
           "петрушкп",
           "TYPE"
          ],
          [
           "конфеты",
           "TYPE"
          ],
          [
           "желейные",
           "TYPE"
          ],
          [
           "кокосово",
           "TYPE"
          ],
          [
           "масло",
           "TYPE"
          ],
          [
           "твородныф",
           "TYPE"
          ],
          [
           "хлеб",
           "TYPE"
          ],
          [
           "коломенский",
           "TYPE"
          ],
          [
           "с",
           "TYPE"
          ],
          [
           "отрубями",
           "TYPE"
          ],
          [
           "печенть",
           "TYPE"
          ],
          [
           "кукурица",
           "TYPE"
          ],
          [
           "манкую",
           "TYPE"
          ],
          [
           "яицр",
           "TYPE"
          ],
          [
           "салатники",
           "TYPE"
          ],
          [
           "печенеье",
           "TYPE"
          ],
          [
           "бптарейк",
           "TYPE"
          ],
          [
           "рл",
           "TYPE"
          ],
          [
           "морковы",
           "TYPE"
          ],
          [
           "хлеб",
           "TYPE"
          ],
          [
           "подовый",
           "TYPE"
          ],
          [
           "с",
           "TYPE"
          ],
          [
           "зернами",
           "TYPE"
          ],
          [
           "вода",
           "TYPE"
          ],
          [
           "креке",
           "TYPE"
          ],
          [
           "антепеспирант",
           "TYPE"
          ],
          [
           "икра",
           "TYPE"
          ],
          [
           "трески",
           "TYPE"
          ],
          [
           "пряности",
           "TYPE"
          ],
          [
           "тортилл",
           "TYPE"
          ],
          [
           "чай",
           "TYPE"
          ],
          [
           "зе",
           "TYPE"
          ],
          [
           "стиральных",
           "TYPE"
          ],
          [
           "машин",
           "TYPE"
          ],
          [
           "гоенки",
           "TYPE"
          ],
          [
           "драники",
           "TYPE"
          ],
          [
           "зерненнвй",
           "TYPE"
          ],
          [
           "водк",
           "TYPE"
          ],
          [
           "без",
           "TYPE"
          ],
          [
           "газа",
           "TYPE"
          ],
          [
           "мсухарики",
           "TYPE"
          ],
          [
           "овсянка",
           "TYPE"
          ],
          [
           "хлопья",
           "TYPE"
          ],
          [
           "тонкие",
           "TYPE"
          ],
          [
           "слоенлн",
           "TYPE"
          ],
          [
           "сир",
           "TYPE"
          ],
          [
           "твёрдый",
           "TYPE"
          ],
          [
           "творг",
           "TYPE"
          ],
          [
           "зернёный",
           "TYPE"
          ],
          [
           "кормр",
           "TYPE"
          ],
          [
           "вэнергетик",
           "TYPE"
          ],
          [
           "розовый",
           "TYPE"
          ],
          [
           "плодовый",
           "TYPE"
          ],
          [
           "сахарна",
           "TYPE"
          ],
          [
           "труcы",
           "TYPE"
          ],
          [
           "йогурт",
           "TYPE"
          ],
          [
           "пылесос",
           "TYPE"
          ],
          [
           "лезвия",
           "TYPE"
          ],
          [
           "заливное",
           "TYPE"
          ],
          [
           "телячьи",
           "TYPE"
          ],
          [
           "лук",
           "TYPE"
          ],
          [
           "к",
           "TYPE"
          ],
          [
           "жарк",
           "TYPE"
          ],
          [
           "воды",
           "TYPE"
          ],
          [
           "минеральной",
           "TYPE"
          ],
          [
           "макарогы",
           "TYPE"
          ],
          [
           "торт",
           "TYPE"
          ],
          [
           "пирожное",
           "TYPE"
          ],
          [
           "саш",
           "TYPE"
          ],
          [
           "мед",
           "TYPE"
          ],
          [
           "сырокопченый",
           "TYPE"
          ],
          [
           "колба",
           "TYPE"
          ],
          [
           "кондиционер",
           "TYPE"
          ],
          [
           "доя",
           "TYPE"
          ],
          [
           "волос",
           "TYPE"
          ],
          [
           "стиральных",
           "TYPE"
          ],
          [
           "порош",
           "TYPE"
          ],
          [
           "хдлпья",
           "TYPE"
          ],
          [
           "сыр",
           "TYPE"
          ],
          [
           "спагетти",
           "TYPE"
          ],
          [
           "сырок",
           "TYPE"
          ],
          [
           "салата",
           "TYPE"
          ],
          [
           "имбиря",
           "TYPE"
          ],
          [
           "йооурты",
           "TYPE"
          ],
          [
           "ромашка",
           "TYPE"
          ],
          [
           "конфеты",
           "TYPE"
          ],
          [
           "рыбоовощнье",
           "TYPE"
          ],
          [
           "малако",
           "TYPE"
          ],
          [
           "кефирр",
           "TYPE"
          ],
          [
           "творожек",
           "TYPE"
          ],
          [
           "анагасы",
           "TYPE"
          ],
          [
           "татарские",
           "TYPE"
          ],
          [
           "топтоежка",
           "TYPE"
          ],
          [
           "молютка",
           "TYPE"
          ],
          [
           "консервированный",
           "TYPE"
          ],
          [
           "краситель",
           "TYPE"
          ],
          [
           "яждень",
           "TYPE"
          ],
          [
           "трусики",
           "TYPE"
          ],
          [
           "чуг",
           "TYPE"
          ],
          [
           "яблоко",
           "TYPE"
          ],
          [
           "эо",
           "TYPE"
          ],
          [
           "видеокамер",
           "TYPE"
          ],
          [
           "ежелееь",
           "TYPE"
          ],
          [
           "какао",
           "TYPE"
          ],
          [
           "порошок",
           "TYPE"
          ],
          [
           "лапша",
           "TYPE"
          ],
          [
           "быстрого",
           "TYPE"
          ],
          [
           "приготрвления",
           "TYPE"
          ],
          [
           "капуста",
           "TYPE"
          ],
          [
           "детмкий",
           "TYPE"
          ],
          [
           "морржное",
           "TYPE"
          ],
          [
           "печень",
           "TYPE"
          ],
          [
           "минтая",
           "TYPE"
          ],
          [
           "шашлые",
           "TYPE"
          ],
          [
           "очист",
           "TYPE"
          ],
          [
           "пксто",
           "TYPE"
          ],
          [
           "sortex",
           "TYPE"
          ],
          [
           "одеял",
           "TYPE"
          ],
          [
           "салатники",
           "TYPE"
          ],
          [
           "крестьянское",
           "TYPE"
          ],
          [
           "гранд",
           "TYPE"
          ],
          [
           "гомоенизированные",
           "TYPE"
          ],
          [
           "корм",
           "TYPE"
          ],
          [
           "бля",
           "TYPE"
          ],
          [
           "собак",
           "TYPE"
          ],
          [
           "средство",
           "TYPE"
          ],
          [
           "для",
           "TYPE"
          ],
          [
           "мыться",
           "TYPE"
          ],
          [
           "полов",
           "TYPE"
          ],
          [
           "маонез",
           "TYPE"
          ],
          [
           "губок",
           "TYPE"
          ],
          [
           "макова",
           "TYPE"
          ],
          [
           "сыр",
           "TYPE"
          ],
          [
           "без",
           "TYPE"
          ],
          [
           "соли",
           "TYPE"
          ],
          [
           "фоль",
           "TYPE"
          ],
          [
           "йогурт",
           "TYPE"
          ],
          [
           "ципоенок",
           "TYPE"
          ],
          [
           "сметара",
           "TYPE"
          ],
          [
           "немлоко",
           "TYPE"
          ],
          [
           "кофеварок",
           "TYPE"
          ],
          [
           "хлебце",
           "TYPE"
          ],
          [
           "одекол",
           "TYPE"
          ],
          [
           "марелад",
           "TYPE"
          ],
          [
           "корн",
           "TYPE"
          ],
          [
           "томаты",
           "TYPE"
          ],
          [
           "коктейльные",
           "TYPE"
          ],
          [
           "онфты",
           "TYPE"
          ],
          [
           "шоколница",
           "TYPE"
          ],
          [
           "щажарка",
           "TYPE"
          ],
          [
           "чечвица",
           "TYPE"
          ],
          [
           "микрволнка",
           "TYPE"
          ],
          [
           "медовуха",
           "TYPE"
          ],
          [
           "халопенья",
           "TYPE"
          ],
          [
           "пирожное",
           "TYPE"
          ],
          [
           "портвей",
           "TYPE"
          ],
          [
           "бренди",
           "TYPE"
          ],
          [
           "мароженное",
           "TYPE"
          ],
          [
           "вафельнвй",
           "TYPE"
          ],
          [
           "перенос",
           "TYPE"
          ],
          [
           "сахаесок",
           "TYPE"
          ],
          [
           "вяленая",
           "TYPE"
          ],
          [
           "ры",
           "TYPE"
          ],
          [
           "приправа",
           "TYPE"
          ],
          [
           "для",
           "TYPE"
          ],
          [
           "бульон",
           "TYPE"
          ],
          [
           "белй",
           "TYPE"
          ],
          [
           "мвдь",
           "TYPE"
          ],
          [
           "фарш",
           "TYPE"
          ],
          [
           "ростишка",
           "TYPE"
          ],
          [
           "сок",
           "TYPE"
          ],
          [
           "интенсив",
           "TYPE"
          ],
          [
           "карамели",
           "TYPE"
          ],
          [
           "маска",
           "TYPE"
          ],
          [
           "для",
           "TYPE"
          ],
          [
           "волос",
           "TYPE"
          ],
          [
           "крупзетт",
           "TYPE"
          ],
          [
           "сухпоики",
           "TYPE"
          ],
          [
           "чесночны",
           "TYPE"
          ],
          [
           "кофе",
           "TYPE"
          ],
          [
           "чеичевица",
           "TYPE"
          ],
          [
           "радиоприёмник",
           "TYPE"
          ],
          [
           "салак",
           "TYPE"
          ],
          [
           "тропическыйй",
           "TYPE"
          ],
          [
           "ры",
           "TYPE"
          ],
          [
           "скумрия",
           "TYPE"
          ],
          [
           "капусные",
           "TYPE"
          ],
          [
           "морепродук",
           "TYPE"
          ],
          [
           "тарелка",
           "TYPE"
          ],
          [
           "десертная",
           "TYPE"
          ],
          [
           "соусо",
           "TYPE"
          ],
          [
           "еченье",
           "TYPE"
          ],
          [
           "хозяйствкнное",
           "TYPE"
          ],
          [
           "очки",
           "TYPE"
          ],
          [
           "селедки",
           "TYPE"
          ],
          [
           "хот-дог",
           "TYPE"
          ],
          [
           "степле",
           "TYPE"
          ],
          [
           "айсбеп",
           "TYPE"
          ],
          [
           "салфетки",
           "TYPE"
          ],
          [
           "бумажные",
           "TYPE"
          ],
          [
           "кофейник",
           "TYPE"
          ],
          [
           "маффи",
           "TYPE"
          ],
          [
           "вода",
           "TYPE"
          ],
          [
           "ароматизированная",
           "TYPE"
          ],
          [
           "паштетов",
           "TYPE"
          ],
          [
           "лонганища",
           "TYPE"
          ],
          [
           "сплат",
           "TYPE"
          ],
          [
           "полотнце",
           "TYPE"
          ],
          [
           "кухонное",
           "TYPE"
          ],
          [
           "сушк",
           "TYPE"
          ],
          [
           "шиповни",
           "TYPE"
          ],
          [
           "тбатое",
           "TYPE"
          ],
          [
           "мясной",
           "TYPE"
          ],
          [
           "огурцы2",
           "TYPE"
          ],
          [
           "абрикосовый",
           "TYPE"
          ],
          [
           "рис",
           "TYPE"
          ],
          [
           "для",
           "TYPE"
          ],
          [
           "плова",
           "TYPE"
          ],
          [
           "огурцыц",
           "TYPE"
          ],
          [
           "совок",
           "TYPE"
          ],
          [
           "спагеттти",
           "TYPE"
          ],
          [
           "свиные",
           "TYPE"
          ],
          [
           "ножки",
           "TYPE"
          ],
          [
           "копченос",
           "TYPE"
          ],
          [
           "сырокж",
           "TYPE"
          ],
          [
           "егурт",
           "TYPE"
          ],
          [
           "маеароны",
           "TYPE"
          ],
          [
           "топинамбу",
           "TYPE"
          ],
          [
           "наволочка",
           "TYPE"
          ],
          [
           "топленное",
           "TYPE"
          ],
          [
           "фены",
           "TYPE"
          ],
          [
           "майонед",
           "TYPE"
          ],
          [
           "чаабата",
           "TYPE"
          ],
          [
           "детское",
           "TYPE"
          ],
          [
           "питан",
           "TYPE"
          ],
          [
           "кертошка",
           "TYPE"
          ],
          [
           "ежедневки",
           "TYPE"
          ],
          [
           "шампунь",
           "TYPE"
          ],
          [
           "для",
           "TYPE"
          ],
          [
           "кошек",
           "TYPE"
          ],
          [
           "тряпка",
           "TYPE"
          ],
          [
           "для",
           "TYPE"
          ],
          [
           "стек",
           "TYPE"
          ],
          [
           "винные",
           "TYPE"
          ],
          [
           "лампочеи",
           "TYPE"
          ],
          [
           "ьелизна",
           "TYPE"
          ],
          [
           "вафли",
           "TYPE"
          ],
          [
           "ветчинс",
           "TYPE"
          ],
          [
           "сухарикм",
           "TYPE"
          ],
          [
           "обжарка",
           "TYPE"
          ],
          [
           "средство",
           "TYPE"
          ],
          [
           "для",
           "TYPE"
          ],
          [
           "посуды",
           "TYPE"
          ],
          [
           "лимоны",
           "TYPE"
          ],
          [
           "рублего",
           "TYPE"
          ],
          [
           "яблоко",
           "TYPE"
          ],
          [
           "д",
           "TYPE"
          ],
          [
           "пирога",
           "TYPE"
          ],
          [
           "наволочк",
           "TYPE"
          ],
          [
           "красок",
           "TYPE"
          ],
          [
           "абрикосы",
           "TYPE"
          ],
          [
           "кодиционер",
           "TYPE"
          ],
          [
           "вибромассажеры",
           "TYPE"
          ],
          [
           "ручки",
           "TYPE"
          ],
          [
           "сок",
           "TYPE"
          ],
          [
           "чиабата",
           "TYPE"
          ],
          [
           "разрыхлытель",
           "TYPE"
          ],
          [
           "батарей",
           "TYPE"
          ],
          [
           "колбаса",
           "TYPE"
          ],
          [
           "филейная",
           "TYPE"
          ],
          [
           "наполнитель",
           "TYPE"
          ],
          [
           "для",
           "TYPE"
          ],
          [
           "гры",
           "TYPE"
          ],
          [
           "яблоки",
           "TYPE"
          ],
          [
           "сэндвич",
           "TYPE"
          ],
          [
           "с",
           "TYPE"
          ],
          [
           "цельными",
           "TYPE"
          ],
          [
           "сырки",
           "TYPE"
          ],
          [
           "глаз",
           "TYPE"
          ],
          [
           "помидоры",
           "TYPE"
          ],
          [
           "свеж",
           "TYPE"
          ],
          [
           "полотеец",
           "TYPE"
          ],
          [
           "зеленн",
           "TYPE"
          ],
          [
           "щубная",
           "TYPE"
          ],
          [
           "снежчкая",
           "TYPE"
          ],
          [
           "глрошек",
           "TYPE"
          ],
          [
           "борш",
           "TYPE"
          ],
          [
           "кршью",
           "TYPE"
          ],
          [
           "восточные",
           "TYPE"
          ],
          [
           "сладос",
           "TYPE"
          ],
          [
           "икра",
           "TYPE"
          ],
          [
           "для",
           "TYPE"
          ],
          [
           "ро",
           "TYPE"
          ],
          [
           "кур",
           "TYPE"
          ],
          [
           "о",
           "TYPE"
          ],
          [
           "детское",
           "TYPE"
          ],
          [
           "питание",
           "TYPE"
          ],
          [
           "цыпленок",
           "TYPE"
          ],
          [
           "шпикачки",
           "TYPE"
          ],
          [
           "тыквенные",
           "TYPE"
          ],
          [
           "кувшины,",
           "TYPE"
          ],
          [
           "графин",
           "TYPE"
          ],
          [
           "коуассан",
           "TYPE"
          ],
          [
           "оладьиы",
           "TYPE"
          ],
          [
           "кукурузные",
           "TYPE"
          ],
          [
           "палочк",
           "TYPE"
          ],
          [
           "консерва",
           "TYPE"
          ],
          [
           "дезедарант",
           "TYPE"
          ],
          [
           "корм",
           "TYPE"
          ],
          [
           "для",
           "TYPE"
          ],
          [
           "собак",
           "TYPE"
          ],
          [
           "влаж",
           "TYPE"
          ],
          [
           "кориандр",
           "TYPE"
          ],
          [
           "яйю",
           "TYPE"
          ],
          [
           "ярмолпрод",
           "TYPE"
          ],
          [
           "калачик",
           "TYPE"
          ],
          [
           "снэки",
           "TYPE"
          ],
          [
           "окорок",
           "TYPE"
          ],
          [
           "масло",
           "TYPE"
          ],
          [
           "сливочное",
           "TYPE"
          ],
          [
           "сметнав",
           "TYPE"
          ],
          [
           "кефир",
           "TYPE"
          ],
          [
           "рак",
           "TYPE"
          ],
          [
           "помидоры",
           "TYPE"
          ],
          [
           "чери",
           "TYPE"
          ],
          [
           "треска",
           "TYPE"
          ],
          [
           "какао",
           "TYPE"
          ],
          [
           "морса",
           "TYPE"
          ],
          [
           "серд",
           "TYPE"
          ],
          [
           "сельдь",
           "TYPE"
          ],
          [
           "замороженная",
           "TYPE"
          ],
          [
           "дражж",
           "TYPE"
          ],
          [
           "мафинн",
           "TYPE"
          ],
          [
           "приправа",
           "TYPE"
          ],
          [
           "доя",
           "TYPE"
          ],
          [
           "курицы",
           "TYPE"
          ],
          [
           "нерафинироввнное",
           "TYPE"
          ],
          [
           "пироэки",
           "TYPE"
          ],
          [
           "узваеры",
           "TYPE"
          ],
          [
           "кофты",
           "TYPE"
          ],
          [
           "верму",
           "TYPE"
          ],
          [
           "проудадки",
           "TYPE"
          ],
          [
           "квас",
           "TYPE"
          ],
          [
           "баранина",
           "TYPE"
          ],
          [
           "мороженая",
           "TYPE"
          ],
          [
           "сахарная",
           "TYPE"
          ],
          [
           "пудра",
           "TYPE"
          ],
          [
           "кукруз",
           "TYPE"
          ],
          [
           "сырники",
           "TYPE"
          ],
          [
           "хлеб",
           "TYPE"
          ],
          [
           "каклеты",
           "TYPE"
          ],
          [
           "шампунь",
           "TYPE"
          ],
          [
           "сыр",
           "TYPE"
          ],
          [
           "а",
           "TYPE"
          ],
          [
           "подвсечники",
           "TYPE"
          ],
          [
           "мяфл",
           "TYPE"
          ],
          [
           "конфеты",
           "TYPE"
          ],
          [
           "бора",
           "TYPE"
          ],
          [
           "бальзам",
           "TYPE"
          ],
          [
           "для",
           "TYPE"
          ],
          [
           "деснр",
           "TYPE"
          ],
          [
           "яецо",
           "TYPE"
          ],
          [
           "кесс-салата",
           "TYPE"
          ],
          [
           "стеик",
           "TYPE"
          ],
          [
           "гель",
           "TYPE"
          ],
          [
           "скороварак",
           "TYPE"
          ],
          [
           "бедра",
           "TYPE"
          ],
          [
           "куриные",
           "TYPE"
          ],
          [
           "маслины",
           "TYPE"
          ],
          [
           "маринованное",
           "TYPE"
          ],
          [
           "гвоздика",
           "TYPE"
          ],
          [
           "морвков",
           "TYPE"
          ],
          [
           "чиабатта",
           "TYPE"
          ],
          [
           "толаты",
           "TYPE"
          ],
          [
           "водичка",
           "TYPE"
          ],
          [
           "с",
           "TYPE"
          ],
          [
           "лимоном",
           "TYPE"
          ],
          [
           "фет",
           "TYPE"
          ],
          [
           "срество",
           "TYPE"
          ],
          [
           "огурецы",
           "TYPE"
          ],
          [
           "моющие",
           "TYPE"
          ],
          [
           "для",
           "TYPE"
          ],
          [
           "пасуды",
           "TYPE"
          ],
          [
           "макароныы",
           "TYPE"
          ],
          [
           "оливо",
           "TYPE"
          ],
          [
           "петрушка",
           "TYPE"
          ],
          [
           "сушеная",
           "TYPE"
          ],
          [
           "айх",
           "TYPE"
          ],
          [
           "блузк",
           "TYPE"
          ],
          [
           "манг",
           "TYPE"
          ],
          [
           "пемалюкс",
           "TYPE"
          ],
          [
           "наполнитель",
           "TYPE"
          ],
          [
           "для",
           "TYPE"
          ],
          [
           "коша",
           "TYPE"
          ],
          [
           "втчина",
           "TYPE"
          ],
          [
           "газировка",
           "TYPE"
          ],
          [
           "халва",
           "TYPE"
          ],
          [
           "кинуа",
           "TYPE"
          ],
          [
           "смесь",
           "TYPE"
          ],
          [
           "пперцев",
           "TYPE"
          ],
          [
           "молотаая",
           "TYPE"
          ],
          [
           "корм",
           "TYPE"
          ],
          [
           "мыло",
           "TYPE"
          ],
          [
           "для",
           "TYPE"
          ],
          [
           "рук",
           "TYPE"
          ],
          [
           "чиесы",
           "TYPE"
          ],
          [
           "тушонка",
           "TYPE"
          ],
          [
           "сырник",
           "TYPE"
          ],
          [
           "корзинка",
           "TYPE"
          ],
          [
           "оматы",
           "TYPE"
          ],
          [
           "кола",
           "TYPE"
          ],
          [
           "без",
           "TYPE"
          ],
          [
           "схаара",
           "TYPE"
          ],
          [
           "немолпко",
           "TYPE"
          ],
          [
           "растишкка",
           "TYPE"
          ],
          [
           "бблины",
           "TYPE"
          ],
          [
           "тущеная",
           "TYPE"
          ],
          [
           "тыорожак",
           "TYPE"
          ],
          [
           "моровь",
           "TYPE"
          ],
          [
           "лимонщ",
           "TYPE"
          ],
          [
           "молочное",
           "TYPE"
          ],
          [
           "коктейл",
           "TYPE"
          ],
          [
           "сельдь",
           "TYPE"
          ],
          [
           "соус",
           "TYPE"
          ],
          [
           "для",
           "TYPE"
          ],
          [
           "бу",
           "TYPE"
          ],
          [
           "помтжоры",
           "TYPE"
          ],
          [
           "эколь",
           "TYPE"
          ],
          [
           "сейчас",
           "TYPE"
          ],
          [
           "слойки",
           "TYPE"
          ],
          [
           "с",
           "TYPE"
          ],
          [
           "сыром",
           "TYPE"
          ],
          [
           "порошк",
           "TYPE"
          ],
          [
           "дл",
           "TYPE"
          ],
          [
           "пола",
           "TYPE"
          ],
          [
           "срлоко",
           "TYPE"
          ],
          [
           "обложкя",
           "TYPE"
          ],
          [
           "майва",
           "TYPE"
          ],
          [
           "морковку",
           "TYPE"
          ],
          [
           "сливкшки",
           "TYPE"
          ],
          [
           "горохо",
           "TYPE"
          ],
          [
           "ополаскиватель",
           "TYPE"
          ],
          [
           "сардел",
           "TYPE"
          ],
          [
           "хлеб",
           "TYPE"
          ],
          [
           "с",
           "TYPE"
          ],
          [
           "из",
           "TYPE"
          ],
          [
           "гайкеверты",
           "TYPE"
          ],
          [
           "полуфабрекаты",
           "TYPE"
          ],
          [
           "картофель.",
           "TYPE"
          ],
          [
           "орзотто",
           "TYPE"
          ],
          [
           "подушек",
           "TYPE"
          ],
          [
           "корюш",
           "TYPE"
          ],
          [
           "прочие",
           "TYPE"
          ],
          [
           "каши",
           "TYPE"
          ],
          [
           "свр",
           "TYPE"
          ],
          [
           "творож",
           "TYPE"
          ],
          [
           "колбас",
           "TYPE"
          ],
          [
           "гранулы",
           "TYPE"
          ],
          [
           "сырокоп",
           "TYPE"
          ],
          [
           "пастила",
           "TYPE"
          ],
          [
           "хлопьяов",
           "TYPE"
          ],
          [
           "зерненеый",
           "TYPE"
          ],
          [
           "пато",
           "TYPE"
          ],
          [
           "мацарелла",
           "TYPE"
          ],
          [
           "шшлик",
           "TYPE"
          ],
          [
           "картош",
           "TYPE"
          ],
          [
           "пмидр",
           "TYPE"
          ],
          [
           "луц",
           "TYPE"
          ],
          [
           "краск",
           "TYPE"
          ],
          [
           "малака",
           "TYPE"
          ],
          [
           "драже",
           "TYPE"
          ],
          [
           "коньяка",
           "TYPE"
          ],
          [
           "присыпка",
           "TYPE"
          ],
          [
           "молоко",
           "TYPE"
          ],
          [
           "без",
           "TYPE"
          ],
          [
           "лактозы",
           "TYPE"
          ],
          [
           "салат",
           "TYPE"
          ],
          [
           "зонты",
           "TYPE"
          ],
          [
           "сооеные",
           "TYPE"
          ],
          [
           "крендельуи",
           "TYPE"
          ],
          [
           "суп",
           "TYPE"
          ],
          [
           "со",
           "TYPE"
          ],
          [
           "свездочками",
           "TYPE"
          ],
          [
           "члеб",
           "TYPE"
          ],
          [
           "сыр",
           "TYPE"
          ],
          [
           "легкий",
           "TYPE"
          ],
          [
           "чипссы",
           "TYPE"
          ],
          [
           "крабб",
           "TYPE"
          ],
          [
           "дранисимо",
           "TYPE"
          ],
          [
           "морс",
           "TYPE"
          ],
          [
           "спелено",
           "TYPE"
          ],
          [
           "арбуз",
           "TYPE"
          ],
          [
           "катлеты",
           "TYPE"
          ],
          [
           "локолад",
           "TYPE"
          ],
          [
           "листы",
           "TYPE"
          ],
          [
           "для",
           "TYPE"
          ],
          [
           "суши",
           "TYPE"
          ],
          [
           "ватруш",
           "TYPE"
          ],
          [
           "пивные",
           "TYPE"
          ],
          [
           "коктей",
           "TYPE"
          ],
          [
           "суп",
           "TYPE"
          ],
          [
           "куринный",
           "TYPE"
          ],
          [
           "батон",
           "TYPE"
          ],
          [
           "солнышко",
           "TYPE"
          ],
          [
           "огурей",
           "TYPE"
          ],
          [
           "шоколадная",
           "TYPE"
          ],
          [
           "пиосуда",
           "TYPE"
          ],
          [
           "шокладня",
           "TYPE"
          ],
          [
           "фиуное",
           "TYPE"
          ],
          [
           "чай",
           "TYPE"
          ],
          [
           "с",
           "TYPE"
          ],
          [
           "шип",
           "TYPE"
          ],
          [
           "семеяяки",
           "TYPE"
          ],
          [
           "сосис.",
           "TYPE"
          ],
          [
           "шоколадн",
           "TYPE"
          ],
          [
           "печенье",
           "TYPE"
          ],
          [
           "хека",
           "TYPE"
          ],
          [
           "пастила",
           "TYPE"
          ],
          [
           "ванилная",
           "TYPE"
          ],
          [
           "шппинат",
           "TYPE"
          ],
          [
           "пергамент",
           "TYPE"
          ],
          [
           "гель",
           "TYPE"
          ],
          [
           "уксус",
           "TYPE"
          ],
          [
           "пудра",
           "TYPE"
          ],
          [
           "д",
           "TYPE"
          ],
          [
           "малышей",
           "TYPE"
          ],
          [
           "гигены",
           "TYPE"
          ],
          [
           "булочка",
           "TYPE"
          ],
          [
           "с",
           "TYPE"
          ],
          [
           "корицц",
           "TYPE"
          ],
          [
           "хрупка",
           "TYPE"
          ],
          [
           "напиток",
           "TYPE"
          ],
          [
           "пиротехника",
           "TYPE"
          ],
          [
           "томат",
           "TYPE"
          ],
          [
           "к",
           "TYPE"
          ],
          [
           "соус",
           "TYPE"
          ],
          [
           "пятновыводители",
           "TYPE"
          ],
          [
           "колбаса",
           "TYPE"
          ],
          [
           "док",
           "TYPE"
          ],
          [
           "тан",
           "TYPE"
          ],
          [
           "трусики",
           "TYPE"
          ],
          [
           "лепелка",
           "TYPE"
          ],
          [
           "масло",
           "TYPE"
          ],
          [
           "раф",
           "TYPE"
          ],
          [
           "сушка",
           "TYPE"
          ],
          [
           "malky",
           "TYPE"
          ],
          [
           "перепелино",
           "TYPE"
          ],
          [
           "кабачик",
           "TYPE"
          ],
          [
           "чашки",
           "TYPE"
          ],
          [
           "брльшой",
           "TYPE"
          ],
          [
           "варенец",
           "TYPE"
          ],
          [
           "свкюекла",
           "TYPE"
          ],
          [
           "молр",
           "TYPE"
          ],
          [
           "сгоны",
           "TYPE"
          ],
          [
           "морковь",
           "TYPE"
          ],
          [
           "капуста",
           "TYPE"
          ],
          [
           "салат",
           "TYPE"
          ],
          [
           "трияки",
           "TYPE"
          ],
          [
           "алтн",
           "TYPE"
          ],
          [
           "й",
           "TYPE"
          ],
          [
           "заточные",
           "TYPE"
          ],
          [
           "станки",
           "TYPE"
          ],
          [
           "гнез",
           "TYPE"
          ],
          [
           "мини",
           "TYPE"
          ],
          [
           "кексы",
           "TYPE"
          ],
          [
           "вода",
           "TYPE"
          ],
          [
           "кремабо",
           "TYPE"
          ],
          [
           "душистый",
           "TYPE"
          ],
          [
           "пере",
           "TYPE"
          ],
          [
           "холва",
           "TYPE"
          ],
          [
           "сливы",
           "TYPE"
          ],
          [
           "венгеррка",
           "TYPE"
          ],
          [
           "сладк",
           "TYPE"
          ],
          [
           "super",
           "TYPE"
          ],
          [
           "рязык",
           "TYPE"
          ],
          [
           "горчичный",
           "TYPE"
          ],
          [
           "порош",
           "TYPE"
          ],
          [
           "золоостадарт",
           "TYPE"
          ],
          [
           "бепая",
           "TYPE"
          ],
          [
           "вода",
           "TYPE"
          ],
          [
           "газ",
           "TYPE"
          ],
          [
           "слабаа",
           "TYPE"
          ],
          [
           "мандарины",
           "TYPE"
          ],
          [
           "горьк",
           "TYPE"
          ],
          [
           "колбаса",
           "TYPE"
          ],
          [
           "варёная",
           "TYPE"
          ],
          [
           "мяй",
           "TYPE"
          ],
          [
           "каранда",
           "TYPE"
          ],
          [
           "вареники",
           "TYPE"
          ],
          [
           "куркссан",
           "TYPE"
          ],
          [
           "крекеры",
           "TYPE"
          ],
          [
           "газированная",
           "TYPE"
          ],
          [
           "вода",
           "TYPE"
          ],
          [
           "тресковые",
           "TYPE"
          ],
          [
           "энергн",
           "TYPE"
          ],
          [
           "сырокопченые",
           "TYPE"
          ],
          [
           "колбаски",
           "TYPE"
          ],
          [
           "консервы",
           "TYPE"
          ],
          [
           "из",
           "TYPE"
          ],
          [
           "рыбы",
           "TYPE"
          ],
          [
           "шоколад",
           "TYPE"
          ],
          [
           "мюсли",
           "TYPE"
          ],
          [
           "с",
           "TYPE"
          ],
          [
           "орехами",
           "TYPE"
          ],
          [
           "ополаскиватель",
           "TYPE"
          ],
          [
           "для",
           "TYPE"
          ],
          [
           "рта",
           "TYPE"
          ],
          [
           "сушёные",
           "TYPE"
          ],
          [
           "финики",
           "TYPE"
          ],
          [
           "смесь",
           "TYPE"
          ],
          [
           "овощна",
           "TYPE"
          ],
          [
           "вода",
           "TYPE"
          ],
          [
           "газир",
           "TYPE"
          ],
          [
           "бужениной",
           "TYPE"
          ],
          [
           "ермкая",
           "TYPE"
          ],
          [
           "кф",
           "TYPE"
          ],
          [
           "мячи",
           "TYPE"
          ],
          [
           "бумажные",
           "TYPE"
          ],
          [
           "полотен",
           "TYPE"
          ],
          [
           "купи",
           "TYPE"
          ],
          [
           "сыр",
           "TYPE"
          ],
          [
           "хлеб",
           "TYPE"
          ],
          [
           "майонез",
           "TYPE"
          ],
          [
           "на",
           "TYPE"
          ],
          [
           "переп",
           "TYPE"
          ],
          [
           "соки",
           "TYPE"
          ],
          [
           "орешек",
           "TYPE"
          ],
          [
           "огурцй",
           "TYPE"
          ],
          [
           "хлор",
           "TYPE"
          ],
          [
           "багетв",
           "TYPE"
          ],
          [
           "тебе",
           "TYPE"
          ],
          [
           "темп",
           "TYPE"
          ],
          [
           "пиво",
           "TYPE"
          ],
          [
           "кофевар",
           "TYPE"
          ],
          [
           "носки",
           "TYPE"
          ],
          [
           "охлажденные",
           "TYPE"
          ],
          [
           "полуфабрика",
           "TYPE"
          ],
          [
           "лейкопластыр",
           "TYPE"
          ],
          [
           "саженец",
           "TYPE"
          ],
          [
           "колбаски",
           "TYPE"
          ],
          [
           "суп",
           "TYPE"
          ],
          [
           "с",
           "TYPE"
          ],
          [
           "белыми",
           "TYPE"
          ],
          [
           "нивея",
           "TYPE"
          ],
          [
           "рисовые",
           "TYPE"
          ],
          [
           "хлопья",
           "TYPE"
          ],
          [
           "одеколоны",
           "TYPE"
          ],
          [
           "подгузники",
           "TYPE"
          ],
          [
           "высокогорн",
           "TYPE"
          ],
          [
           "печеная",
           "TYPE"
          ],
          [
           "пылесос",
           "TYPE"
          ],
          [
           "желта",
           "TYPE"
          ],
          [
           "эгергетик",
           "TYPE"
          ],
          [
           "жевател",
           "TYPE"
          ],
          [
           "немоолко",
           "TYPE"
          ],
          [
           "лайма",
           "TYPE"
          ],
          [
           "фасоли",
           "TYPE"
          ],
          [
           "оидор",
           "TYPE"
          ],
          [
           "консервированые",
           "TYPE"
          ],
          [
           "ванили",
           "TYPE"
          ],
          [
           "карпофеля",
           "TYPE"
          ],
          [
           "салат",
           "TYPE"
          ],
          [
           "с",
           "TYPE"
          ],
          [
           "печенью",
           "TYPE"
          ],
          [
           "фасоль",
           "TYPE"
          ],
          [
           "ванидин",
           "TYPE"
          ],
          [
           "орешки",
           "TYPE"
          ],
          [
           "жарнные",
           "TYPE"
          ],
          [
           "солёны",
           "TYPE"
          ],
          [
           "ананасовая",
           "TYPE"
          ],
          [
           "разрыхлиьель",
           "TYPE"
          ],
          [
           "тесто",
           "TYPE"
          ],
          [
           "для",
           "TYPE"
          ],
          [
           "пе",
           "TYPE"
          ],
          [
           "wonder",
           "TYPE"
          ],
          [
           "колбаса",
           "TYPE"
          ],
          [
           "шоколад",
           "TYPE"
          ],
          [
           "энергос",
           "TYPE"
          ],
          [
           "ветчмна",
           "TYPE"
          ],
          [
           "фасол",
           "TYPE"
          ],
          [
           "каламбер",
           "TYPE"
          ],
          [
           "тан",
           "TYPE"
          ],
          [
           "завтраки",
           "TYPE"
          ],
          [
           "смородинa",
           "TYPE"
          ],
          [
           "на",
           "TYPE"
          ],
          [
           "морс",
           "TYPE"
          ],
          [
           "черный",
           "TYPE"
          ],
          [
           "ри",
           "TYPE"
          ],
          [
           "сельдь",
           "TYPE"
          ],
          [
           "слабосолено",
           "TYPE"
          ],
          [
           "сыра",
           "TYPE"
          ],
          [
           "плавленый",
           "TYPE"
          ],
          [
           "ржаный",
           "TYPE"
          ],
          [
           "топленое",
           "TYPE"
          ],
          [
           "молочная",
           "TYPE"
          ],
          [
           "смесь",
           "TYPE"
          ],
          [
           "паста",
           "TYPE"
          ],
          [
           "шокола",
           "TYPE"
          ],
          [
           "диолакт",
           "TYPE"
          ],
          [
           "нори",
           "TYPE"
          ],
          [
           "с",
           "TYPE"
          ],
          [
           "кимчи",
           "TYPE"
          ],
          [
           "пирожные",
           "TYPE"
          ],
          [
           "огурцы",
           "TYPE"
          ],
          [
           "свежи",
           "TYPE"
          ],
          [
           "тортиоья",
           "TYPE"
          ],
          [
           "янодное",
           "TYPE"
          ],
          [
           "грчнеский",
           "TYPE"
          ],
          [
           "торти",
           "TYPE"
          ],
          [
           "мороженно",
           "TYPE"
          ],
          [
           "коктей",
           "TYPE"
          ],
          [
           "колбаса",
           "TYPE"
          ],
          [
           "языковая",
           "TYPE"
          ],
          [
           "чксночный",
           "TYPE"
          ],
          [
           "картожель",
           "TYPE"
          ],
          [
           "стелька",
           "TYPE"
          ],
          [
           "детская",
           "TYPE"
          ],
          [
           "овсная",
           "TYPE"
          ],
          [
           "наггеты",
           "TYPE"
          ],
          [
           "колбасы",
           "TYPE"
          ],
          [
           "р",
           "TYPE"
          ],
          [
           "омичеа",
           "TYPE"
          ],
          [
           "сыр",
           "TYPE"
          ],
          [
           "мягк",
           "TYPE"
          ],
          [
           "пл",
           "TYPE"
          ],
          [
           "агуш",
           "TYPE"
          ],
          [
           "сеедвич",
           "TYPE"
          ],
          [
           "мандаринф",
           "TYPE"
          ],
          [
           "витаминная",
           "TYPE"
          ],
          [
           "лук",
           "TYPE"
          ],
          [
           "очиститель",
           "TYPE"
          ],
          [
           "грибы",
           "TYPE"
          ],
          [
           "консервированн",
           "TYPE"
          ],
          [
           "помидор\\ud83d\\ude18",
           "TYPE"
          ],
          [
           "таз",
           "TYPE"
          ],
          [
           "тыква",
           "TYPE"
          ],
          [
           "пюре",
           "TYPE"
          ],
          [
           "мермеладки",
           "TYPE"
          ],
          [
           "паперсы",
           "TYPE"
          ],
          [
           "пек",
           "TYPE"
          ],
          [
           "тмин",
           "TYPE"
          ],
          [
           "снек",
           "TYPE"
          ],
          [
           "рыбн",
           "TYPE"
          ],
          [
           "остры",
           "TYPE"
          ],
          [
           "окрош",
           "TYPE"
          ],
          [
           "молоко",
           "TYPE"
          ],
          [
           "растительное",
           "TYPE"
          ],
          [
           "ризотто",
           "TYPE"
          ],
          [
           "повидло",
           "TYPE"
          ],
          [
           "гель",
           "TYPE"
          ],
          [
           "отбеливате",
           "TYPE"
          ],
          [
           "мёд",
           "TYPE"
          ],
          [
           "торт",
           "TYPE"
          ],
          [
           "батончики.",
           "TYPE"
          ],
          [
           "цыпле",
           "TYPE"
          ],
          [
           "котмаркот",
           "TYPE"
          ],
          [
           "оладьи",
           "TYPE"
          ],
          [
           "салфекти",
           "TYPE"
          ],
          [
           "колбасок",
           "TYPE"
          ],
          [
           "эклеро",
           "TYPE"
          ],
          [
           "белковая",
           "TYPE"
          ],
          [
           "продукци",
           "TYPE"
          ],
          [
           "приправа",
           "TYPE"
          ],
          [
           "для",
           "TYPE"
          ],
          [
           "картошки",
           "TYPE"
          ],
          [
           "жареной",
           "TYPE"
          ],
          [
           "варене",
           "TYPE"
          ],
          [
           "свекла",
           "TYPE"
          ],
          [
           "отварная",
           "TYPE"
          ],
          [
           "бклжан",
           "TYPE"
          ],
          [
           "кбчёк",
           "TYPE"
          ],
          [
           "вингрд",
           "TYPE"
          ],
          [
           "апельсинф",
           "TYPE"
          ],
          [
           "саеокс",
           "TYPE"
          ],
          [
           "хлеб",
           "TYPE"
          ],
          [
           "для",
           "TYPE"
          ],
          [
           "фитнеса",
           "TYPE"
          ],
          [
           "черногооовкк",
           "TYPE"
          ],
          [
           "чио",
           "TYPE"
          ],
          [
           "торелка",
           "TYPE"
          ],
          [
           "с",
           "TYPE"
          ],
          [
           "крышкой",
           "TYPE"
          ],
          [
           "смесь",
           "TYPE"
          ],
          [
           "протеиновая",
           "TYPE"
          ],
          [
           "свас",
           "TYPE"
          ],
          [
           "нагетсс",
           "TYPE"
          ],
          [
           "баклажан.",
           "TYPE"
          ],
          [
           "красители",
           "TYPE"
          ],
          [
           "томат",
           "TYPE"
          ],
          [
           "сдобы",
           "TYPE"
          ],
          [
           "чесьнок",
           "TYPE"
          ],
          [
           "сгцщенкп",
           "TYPE"
          ],
          [
           "хлорья",
           "TYPE"
          ],
          [
           "морков",
           "TYPE"
          ],
          [
           "баунт",
           "TYPE"
          ],
          [
           "поммиидоры",
           "TYPE"
          ],
          [
           "vлаваш",
           "TYPE"
          ],
          [
           "сырокрпченнй",
           "TYPE"
          ],
          [
           "одноразовые",
           "TYPE"
          ],
          [
           "платки",
           "TYPE"
          ],
          [
           "блокнотоф",
           "TYPE"
          ],
          [
           "замороженные",
           "TYPE"
          ],
          [
           "полуфабрика",
           "TYPE"
          ],
          [
           "окорок",
           "TYPE"
          ],
          [
           "клеенка",
           "TYPE"
          ],
          [
           "сахар",
           "TYPE"
          ],
          [
           "трост",
           "TYPE"
          ],
          [
           "крыжовник",
           "TYPE"
          ],
          [
           "пирожннве",
           "TYPE"
          ],
          [
           "сидр",
           "TYPE"
          ],
          [
           "лукумом",
           "TYPE"
          ],
          [
           "ред",
           "TYPE"
          ],
          [
           "булл",
           "TYPE"
          ],
          [
           "чай",
           "TYPE"
          ],
          [
           "шах",
           "TYPE"
          ],
          [
           "стиральный.",
           "TYPE"
          ],
          [
           "вата",
           "TYPE"
          ],
          [
           "поводки",
           "TYPE"
          ],
          [
           "з",
           "TYPE"
          ],
          [
           "макароны",
           "TYPE"
          ],
          [
           "лазанья",
           "TYPE"
          ],
          [
           "листы",
           "TYPE"
          ],
          [
           "подушек",
           "TYPE"
          ],
          [
           "id",
           "TYPE"
          ],
          [
           "переноски",
           "TYPE"
          ],
          [
           "броколл",
           "TYPE"
          ],
          [
           "суховфрукты",
           "TYPE"
          ],
          [
           "пюрешки",
           "TYPE"
          ],
          [
           "копченче",
           "TYPE"
          ],
          [
           "багет",
           "TYPE"
          ],
          [
           "майннез",
           "TYPE"
          ],
          [
           "сеь",
           "TYPE"
          ],
          [
           "ечей",
           "TYPE"
          ],
          [
           "морч",
           "TYPE"
          ],
          [
           "ванильный",
           "TYPE"
          ],
          [
           "сппгетти",
           "TYPE"
          ],
          [
           "сок",
           "TYPE"
          ],
          [
           "апельсиновый",
           "TYPE"
          ],
          [
           "ваиные",
           "TYPE"
          ],
          [
           "корм",
           "TYPE"
          ],
          [
           "кошачий",
           "TYPE"
          ],
          [
           "сельдь",
           "TYPE"
          ],
          [
           "какао",
           "TYPE"
          ],
          [
           "молочко",
           "TYPE"
          ],
          [
           "смузи",
           "TYPE"
          ],
          [
           "йогурт",
           "TYPE"
          ],
          [
           "завтрак",
           "TYPE"
          ],
          [
           "зонты",
           "TYPE"
          ],
          [
           "булочки",
           "TYPE"
          ],
          [
           "для",
           "TYPE"
          ],
          [
           "хот-догов",
           "TYPE"
          ],
          [
           "сырки",
           "TYPE"
          ],
          [
           "глазированные",
           "TYPE"
          ],
          [
           "хлеб",
           "TYPE"
          ],
          [
           "украинский",
           "TYPE"
          ],
          [
           "пшеничная",
           "TYPE"
          ],
          [
           "в",
           "TYPE"
          ],
          [
           "пакетиках",
           "TYPE"
          ],
          [
           "мтинералка",
           "TYPE"
          ],
          [
           "творг",
           "TYPE"
          ],
          [
           "яйу",
           "TYPE"
          ],
          [
           "мак",
           "TYPE"
          ],
          [
           "морс",
           "TYPE"
          ],
          [
           "ягодный",
           "TYPE"
          ],
          [
           "икра",
           "TYPE"
          ],
          [
           "варенка",
           "TYPE"
          ],
          [
           "бренд",
           "TYPE"
          ],
          [
           "хлэб",
           "TYPE"
          ],
          [
           "ловушке",
           "TYPE"
          ],
          [
           "майская",
           "TYPE"
          ],
          [
           "млзито",
           "TYPE"
          ],
          [
           "сливу",
           "TYPE"
          ],
          [
           "сырокопчетное",
           "TYPE"
          ],
          [
           "курица",
           "TYPE"
          ],
          [
           "гриль",
           "TYPE"
          ],
          [
           "копчн",
           "TYPE"
          ],
          [
           "вода",
           "TYPE"
          ],
          [
           "колбаса",
           "TYPE"
          ],
          [
           "стельки",
           "TYPE"
          ],
          [
           "апеоьсины",
           "TYPE"
          ],
          [
           "имбирт",
           "TYPE"
          ],
          [
           "фен",
           "TYPE"
          ],
          [
           "пищевая",
           "TYPE"
          ],
          [
           "сода",
           "TYPE"
          ],
          [
           "йоурпитьевое",
           "TYPE"
          ],
          [
           "журн",
           "TYPE"
          ],
          [
           "дезодорант",
           "TYPE"
          ],
          [
           "творог",
           "TYPE"
          ],
          [
           "станцыя",
           "TYPE"
          ],
          [
           "молочная",
           "TYPE"
          ],
          [
           "рис",
           "TYPE"
          ],
          [
           "круглозерый",
           "TYPE"
          ],
          [
           "сироп",
           "TYPE"
          ],
          [
           "кленовый",
           "TYPE"
          ],
          [
           "филейна",
           "TYPE"
          ],
          [
           "порошк",
           "TYPE"
          ],
          [
           "шоколад³",
           "TYPE"
          ],
          [
           "молоко",
           "TYPE"
          ],
          [
           "кофе",
           "TYPE"
          ],
          [
           "растворимй",
           "TYPE"
          ],
          [
           "чёрная",
           "TYPE"
          ],
          [
           "бунаны",
           "TYPE"
          ],
          [
           "сухарику",
           "TYPE"
          ],
          [
           "коуассаны",
           "TYPE"
          ],
          [
           "фены",
           "TYPE"
          ],
          [
           "чипсы",
           "TYPE"
          ],
          [
           "острые",
           "TYPE"
          ],
          [
           "\\ud83c\\",
           "TYPE"
          ],
          [
           "спрей",
           "TYPE"
          ],
          [
           "для",
           "TYPE"
          ],
          [
           "стекол",
           "TYPE"
          ],
          [
           "газеты",
           "TYPE"
          ],
          [
           "сель",
           "TYPE"
          ],
          [
           "майоенез",
           "TYPE"
          ],
          [
           "горошек",
           "TYPE"
          ],
          [
           "консервированный",
           "TYPE"
          ],
          [
           "субпробукты",
           "TYPE"
          ],
          [
           "дикий",
           "TYPE"
          ],
          [
           "рис",
           "TYPE"
          ],
          [
           "морколь",
           "TYPE"
          ],
          [
           "по",
           "TYPE"
          ],
          [
           "ой",
           "TYPE"
          ]
         ],
         "hovertemplate": "<b>entity_text:</b> %{customdata[0]}<br><b>entity_label:</b> %{customdata[1]}",
         "marker": {
          "color": "rgb(57, 105, 172)",
          "opacity": 1,
          "size": 8
         },
         "mode": "markers",
         "name": "TYPE",
         "type": "scatter",
         "x": {
          "bdata": "EUaiwV+LhUKmMA9CP7QCwlsTakCmJFbCr0EOQUrSHcLca6fBkIXRwYslkEI3X2TCyTePQqmVHcLsa3lCPa//wIJU0EAomjTCnbIJwnVcKcGdmkTCV8EQwfiJTMAagjnAY8f1wajRoEHiVRNA73RdwoED4cG8bRjCXXcRwqIBqcAoOgvCVXl4wTRe/EGmyO7BzwRtQTF7hUL0cotCNJnDQFylHkJy0NrBj8llQrSQXsLmdz3C3OdcQdFaBEL3x0HBbHypQaSut0EhdFPBtKcmwrcOksH1swzC2v5HQUkW4UEvOR/Cje32wYfwUkBJ2O3BGCyCQKrpRcKb3u7Btp2HQcEBB8L5nAnBi4i/wU8HD8EpakRBdRVtwrT8h0K8UyrCy1rPQe0FFcI4MItBNY4OwcTYw7+VS2tCR6MjwmeNcsI3a4LA5jESwo0oiMKq3ifCivYlwunTakIE6nnCYp0swhIwAcJ27adAcaPRQY1qe0KZojrCy5pGQIRGuUAEfUTCvalEwnuPCEI1HV5BdQcIwvwbkUJYljJBr3M4wvOB9UHSfmxCtpPowJ2W7UBFpjvCVoTVQTry7cFyn9zADSpzQlcKY8IbsYZCj8B/wr0GjUJEWIjC5sArwpyVhUJlDFLCnI6LQor04MFX2T/BYnJXQTrNFMLlCx/CbcTcQBUGgEKtol7CuEElwo5oekKS+/tBu1ImQqtdq8DmV1dAfsdmwrgPmcGRQQ/CpUcTwidfo8Avc+tBKoSWQpQlX8IEDvBB1h/9wG5M8MGgfJ1BqTuJQipbZUL5VztBkr+QQkvLe8IxOSjC0vj6vGJ1eEGQlnnCHZ5RwkqrCcJV3GhCuoeXQAbqFsKFduhBcpCNQlN6acJbDRnCrOf8wTPPZ0E2lNFA5/J4wqq56sE/SSpBsUh0Qd1c7cHA4IVChhgmwryCSEEdxkhBPQyAQeRiFsIRCQfCTAEGwnjhE8F/URzBaW9xQhg+qcGV/HRCFGHRQRpscsK7CBzCC4Erwj0TYsFlCVBBR6a5v9XpW0JNj4TCc3cNwoolNcK6YeNBjU0MQmBB7kH9S6NBEhLtwdWghUGdSHxCFIxWwpyqgEJQgorCZtM4wnFzvEE2gyfC5aLSweAlfEKbrcvBmzRuQBTXEsK6IEZBSDk4wr91kUFbUULC4zQBwgDER0Hv4EXClBoAwvrswsEBUC7CNi6/Qd0eW8ICz4BCgKfGvswlJEF9VnZCrGf9wLhQssEDm4hCW3uIwmd6asIuuy/CME1xQjxpHMJwNqjBzTyCQLLsNcJq+9VB8bGnwaoeDEH4v0LCykUqwgWDvsFQ9zzCgCKKQhQpfcIyDX3CYV+fwcHFtkHuQrZB4G0uQUDn+EAr13jCKo1Ewrr2A8JqvMFBEONuQpyqCMJuTnjCLnv3wXPOAULzCZlAYX4HwvY528Fc7KjBJPo5we2RHMKW1ZVBN2qBwvU3AsKA7DdBpyIbwq+2jUIjJALCTyReQaiOJ8JGjrlBrF7PQcQrtcDovl5BKbn4QK7T90HjRz5BcCmPQsileMLhDDbCa7KEQhZNccEzb/fBw6yeQcY4vUEzfCBCK38IQqVmwEE9Ez1BT+kFwixyJcJ86c7BMvk6wquswMFXCSHCzgYhwFqsLcL7OCBCvQMNwtf3nEKrIBtCxJ6UQsEPZcLUEWZC2k15wrPKHUAxkLHBgAH8wOaGaMHE4xfCMmCfwW48icESI4jCtI20wRwUX8GwajjC3jgOwj0QccDQj+9Ay/h9wQql9EG1N55C4G5dwgBniEFWin1CuKb8weDUKkGJYknC0BirweN0akKF6QnBNlmUwdTRk8EUdZzBcy+DQgVWXMKlADHCqBKWwauy5kESfqHB7VcZQSbWX8L07AVCupQEwgpldEJN6mDCZBfZwEw/7cEUvpFClJvXwVedl8FV11BAa6dBwpwztEFCydxB0kmywa6tBsK/khDCubh7wYSnTEEPTYQ8X9fFQFFWHcLzJ0w/6lFcwmrRI8LKijtBQZmdQsBk8UHJew3CPM4owsRHUMGMyZ5C1O13wq9U7sH+pORBH7WWwfPCgkBUq3dC0RsDwnstj0J2GDjCzpxHwQK6qkGAdR5CXQGwPuDsEMKNyA7CK8XwPfKFYcGlN+ZBGoktQXZsGMKAP4jChNkNwp3IZEI2Wo9CEBgcwiHlDMKwyYU/z3Z4wgfrLsIZczTBH99FQdXR4UBXRx/CywwbwqlgLMLiVnnAWaGtwBL7ncEXqYJCy1SdQg1/8MFnx0DCXNAYwnkEwkCrVI/BpT6OQlPbzUHVECXCnxsqQXCPM8KqNJrBcXqNQsTPQsJ/33/CxomPwfqrpsErk6bBITzlwYAEhULkVVLCc1j1wRRLrEGosSPC4OuowQAApUEuuxjAL3uSQXCnCsLJmnVCqVYDwmNmhEKYsYdCiOqHwnlpgcKKMIFCJrj6wTzQIEK0Ub7BiJyHwusC4cHAuGlB9YrIwYS0AsK5mCJC8F8cQom1BsGgNqrBTySEwfQEFMJhD4lC+KuAwpGkKEHAvR1BTRyAQnOV68HEwdLBuZg8QK+uOsIDcVdBmzuRwVePKMJU36/BRXfBQTKzTsJ664rChQ4IwsP0rEEQDenBAtkTwroo8EEhkiPCSjzbwYrzij/3xkHC435DwqRCLMJ5a8pBMhBzQciAw8Fzl+fB6X9hwBXAnMGkeH9CpTF4QuGh8kGf9J1BxnfhQeGBgEKNIxLBBsEHwjZoNcCG1gLChz2YQRPHSkGNOlzCR6QCwqhLC0EW1u9BX+WfwZuJvEHtDwvCeiVIwQKvk0EMuIjBS4iGwbiH6MGhu5xBc49JwoVOh8KZlZ5AnkMeQsewCcKwzJxCtbC2wdZousEs3gLBPMS3wTrExMEdn4zBI22OQcYPYcHBq4xCDV2Gwo2pR8IHb+PAGUxHQXwfRMKnSCPCdUUdQguFhEIO4EHCxinOwdS748F9NONBEK5lwa56c0IlT0bC7RuVQaU5AMK6iHBBliMJv3VUiUFhUoTB30qkQW8IIkKQzb7BAQLJwQTnDD+X+FpBPbBpQEeL+cGzWwzCYvA/P1GYLsJg6Ru919AbQVry9MF19QfCgyKrwYexgEIizDrCcPhIv8IDosF3fobCJuntwVldO0GoXUbCPV4yQdJL3EHjhX1CrHZxwlGncMKG+zHCWh6CQR6UuMAiUirC8lGcQVhGrEFZejLAKTc5wsO93sE6EqBBvnUXwtiFjkL5GHZC/l5hwhMW/MGSQyNAykSwwNatYEF26Jc+u0YIwsOXy8GTImTBv16hwVK7mUAYzJxBuFjIQTX0WkJR23LCN4ZjQLi5d8KiPFTCrLocQN3KTUFYbTvC8kMKwXSNCMLlHWPB1/2nwURaRsLX1f3Bm67bQDKwKsJ+2QLCyE8SwEAdNsIKExjC63ILQXsFfkKnNR/BdFB1QvNYCEFLA4VBwbvPQXB2dUGJkXHCVd6GQjX0ccJV4IxCn0VuwpYYQ8Jr9rXBArxRQfUQxMEh2uDBtbbcQc2r8EH1KbJBTJNiQA4lVsIb0gBC36pOwiKqFsFS73BBk5uPwahOkkJL9o5C2OIAwil8lkDCj+A/8VYTwXeFpsHcHBTBMwCcwU+se8ExWQ9BKit5QnE8M8IZHilBiC4owpPNIEIUOLZBgTvjQSSJV0FW7HHCmNo5wqVNWEGh3UzCbYUbwgh+7UHtBwBCnE0PwqFGtsH524LBVKBHQXSpGMEwybZBJrZ3QjOhcEJUq3vCvsysQQBqNcKSriDCi5S0wWnBgEJGJ0/CcOmRQjmOWMKiEi9B6OOKQsAhT8JdV9dBSVMCwi0ztkEqEfXBu5uUwd7nHcIJ5edB+FRRwHb3nUFFazfCx3IFQgxn5UEHAwbBoyeKQMPpjsLMyerBCtwgwp7BIcIEjgLCMY9vQs+/TsKE2yjCeaIKQm7LA8KQnW1Be9JwwjTWK8K61tBAaWzuwWCn3MFcEcjBcKosQcp3h0EL3I7BAAemwbX3+sGpd5xAoWcTwlyXDMK8ihjCTpb6wWOBor8bM2bC1eR8QnBpWsLXvWQ/Ur65wWVv/kFz5FnCS+elQXuYR8FrEpDBTbAJwnAj0MCRFojCbQYfwlJXiUJSZYjCJr0GQYumskH7bs5BeHXcwKmt+8DE4hVB8uSEwj6pQcJH0uzAmCMwws+DJsJpaLdBTpUmwn1zqT9K1fzB42Kmwc9enEH9aN3BfbEdwuhS7UGcnNdA+8p1wuYxScGzeIFChgDYQcU41kGXyrJBPYGuQPhPZkIJk2nC2gt/QkeFN0FV4kPCuKIWwr+bZUIfmIXCXqzrQe1bJsIvjxPCV4kNQWT2dUJH+YTCwlAXwcASI8JaOUHBm31EwMJodUJj4ITCfcKvQRiJKcLzhVDBcTYWwaIznkKZpybCB/2AQgDN7sG6TgnCOnIRwSQwAEIOugLCwtTFwX3CL8KVxQnCZH6MQkEnk8HqFAFCcH+5QV+sfEEnsibCe9YMwnnj70ElSU9BHzmJwXgrPsDsptXBut6SQUFmer86D9ZBsRJ+Qs2pSMK2QJJCWJ1gwqGgLMIw6fM/IT6sQccmkELU6AbC/XYAQtvsLsLUOmFBKZPTQSzpUMEfdvvA8oyWwdGSMMJIeuXBKTq4QXw7IcLsy41B6wzawbV2J0LxIJZCBAtwwu3SisLM6BfCqyaCQtnIh8IHFHPCZNquwfoHNEJk1dK+tNm4QemxzEFjJSrBT4gbwRBzn0E+qVrChATTwc6Yh8FfV4xBdlUBwvFyGMBXxD/C9TlRQWG4gT8YmSXC8RULwiJ6SUFr/TnBx0uewY2PkEJhWnLCELwmwli2L0HPTqrALueAQaSNYEEiMSTCP2xYwZrQe0JZaXHCEkdGwmCNFDwQR6fBqA9wQvCPp0G8DELCOlyyQVZX0ME/konB7mitQWBowECOTB3B6Bp9QlLvdsKrdTLCrB8ewqX4gsHJTsHB7XtCwVpgH0E5JwbCkhUdwrHeDEKKxQhC9SYWwvYVf0JTrA1BrTqyQbuN9MGuuXFBm/BqwhaKBkE8eDvCCQ7xQN7YX8JrxZ3BzofFwQFCLsLQtQvCiDmRQofWZMINLf7A3V7wwdCiAsID98dBRYncQb9JEcKzzkdBrqIYwgaJhUJ7Ez3Cu6enwfGHi0KSZIBCRcNZwgC/dUHqc6dAanwTwnr538H+x9vBRxbpwfgr3b9ChOFBvzgiwkPNDMGSxvLBKDSNQdOgZMFMH+JBtNRZwjoM/8F/6YFCytUuwo+KScJ/JJ9CIyF1wtn5ZsIvJo1CVjAswuO2JcL9uEbC1PMuwiIBDcJE2N1BfjAmwuhvEsIk7vLBcMJ1wT+Z3cGKXcjBiCZ+QGtzTcKVtt1Bs55NwAFKd0IkkwjCE7aUQbxV+EHW2/y946slwprZeUKEjyvCYVPaQdMWy0EHQ//BuYOlQdBUxsC6Z3hCGy8uwhdu+8FlKdpBCGoLwjPFk0Khh3nCYLWRQROWcsLOt1DC37QhwpaMC0Jb/AhBY4pGwr/BhULc3NVBIb8MQbGqcsKuvFDCNR4LwS/MJMK39enBZMfSwIKsh0EislVA5MQWwhAIDMJLNPxBecp1QtxLCcIJ3DvBzxN4QmFojMKwwjnCXBgEwj5FU0F7fnXCbXMbwg5v/sCcbC/CiMjKQV292sC/qYVC8HFTwnqZzUGFqpZCCbcLwsa1CkIwnZZB2LY5wd01fEKme9bBxzCZQSHvGMI0QtzBfRb8wa1ZF8ItfAPCOzlHwgkYKMJtd2XBEGAJwnYcnUEGxELCB9EkwqKzWMFAkKXBpDGrQQacX8Ekb4RBNL4ywhyTzkEQbgDC33ggwpEnIkJI6RjCgiZEwri/W0L+oLHBeQn1wRJhwED2BDBBjHIdwWzXA8KzzOxBIx0kwjtYDMLWGmhB5tEXwmKlnkGXImDCODMTwoA3t0F/fXbB/J9KQevJGsIhtgRC2HikQQAZRsEJtxxC6g12Qor2hsJFtCPCYB7hQeYKY8Fdy+NAu4kzwgkZyMHAKKBAaWs/wkdKyj08byxBqjq7QF81h0H6mxPCO/MGwmL+jUKIlXHC8lXTwUXKO7/usc5BpeTDQJaHdcKGc1TCJ7GPQoGsmEAwN4pCpOFlwsnMFMHbaXZCiJNdwsK3CELWbYNCfs1Zwjr+okGKgSrCDq0qwpWpa8F+FJRCNT0pwk2klcHV90DCBo7swVGbDkKIdohC0DKHwoXfbMKGooBAA7RRwrvIy0EzTxDCzhMnwn8aHkJidbNBm7REwnIX0cGxqqFB652wQaSslEGH4GRBKHVsQrKi00FXTg7CXp32QG40lcFTB4FC+NtywrXghkLxQS7CnipWwuESPsH81h/CahdtQXDtPMJM0FpCfHb1walVaMJUKQFCPkTawDqXHsI2HqbBprkLQcWSt8FVyBpChC6MQvi3HcK2vRtBhP5IwZZiA0LrcG9Cwbtawo681kDaNHbCRc8cwlyoNEDd1YZC5BB0wqs3fkLIQInCR14wwjOytr6+klLAsPxjQorMKsJbTqJBYPGBQgx0YMJOEfbB3Skgwh0HM8I5yZxAemBLwtL9rEHrEwBCjZj5QF0CV0FQQg3C8x7iQemLMMIXO6nBKw8twgp7OEH/Wf/BZkDDQQNto74p3glB1GSwQGYPusFc90HCfWSzwW57v8EpM8LBXfFyQoulRcJ6i9bB6lMTwvTpA8KoPMFB3vulwbDR5MFM/4dCw0ZqwuFpA8I18oNCL+IUwsUehELWwbnBYhfJQR3BBUKxE/ZBHH7qwYjUXkI5hGXCLqprQahX9kCm5E3CA/EUQYQjgEKx627CzkWAQqFmAkL9pfnAsBBZQkvqf8K5f4pA6dUnwjn2Oz/2j9lBO+c3QZMI5UEjC41C/izuQI66f8HAaI1A5A0/wWzZ80ConSHBrT8owV9UlkIudmjCpKA4whai/sAfswhB1q1HQcBHFUEROWfCltO+QXp/ssFb9PNB2zaQQp6GBMKGtq/BKiytQezkiEJvYYfCwmt9wpbr+cE/hSvBqHHzwOIFiUJMZInCXIdqwsl+NMIL/OzBkHSRQjrGUMJoFsRAr1abwUD7MMIRjz9B+39iQWSAK8IY38vBqBeHQaTBBUH2ln/CM0sjwi5WJsJws4PBkL4awX7uz0HxQWVAzQp2wlhELcJaGp5B+noBwrmiD8LLRYZCmM1uwmWghEI3TzRBy96HQv0rYsInwaxAVBj6QXGfGkHU8nLCirsfwmK9akIbyIHCmLoUwm8Gy8CEAbJBaG+8QOB540DwZyXCr1nDwRmB28Fd1O7B676QQi7KikJGwopC1vjHP5nfhMJYKBrCE5WCQnT9SMIh5CBCFEA2QSQnWEEgsfLBa7ksQAswtsCHYJtC0SZIwjZ9vcH9+aDBLUubwTjwZkKHGdrBgaGAwYzzy0FbaPbBwZ+cQlPULMHCibXB9JhMQYb0hkJzH6S/X4IBQVCVf8JgzSPCgPCTwaAny0FmQshB+En4QTC7f0LjGuDBSqXswZxgm0JHDlvCyBUKwQuVhcHWv41BasIdQnOvgkFd0kzB5n1cQGzshD/QJ5BCcpaFQtJwt8HmGTxBENvMQYWOXUFb9JFBX366wcATy8FYnopCwWmIwn4aNkHzMQtC6H5BQbzZn8F379DB5mksQeUAm8GghCvCZgbpwS0Si0I98ITC9OpuwuK3HsLM5QPC8eSzwUqOjUK4jXnCeBR7Qaaxf0FRjzHCvEGJQiDIOcLPBQ3BdVekwZApJcEtpL/BPsD2wDlFjkGeivk+ViefwWAdiMKnOBLCuUZWQJV9UMIhAhXC1UayQQ6PQsLMPzXCz3CywRuNfUGZXIBCntKXwbJytkGKV4RA69wKwvfom0J6kyXCwhYLwhEklEK6WfrBnV6cQvVW88EH1OnANUGvwZHZqUFIhJrBtmkwwqzz+cGpqrBA12ZiwbWbpkEsn4lCjfg+wum9VsES0mvBaUrvwew9osGF6aRBOU2Owebbq0CtwNI/JPAdwgK/5kHxdVBBYDYiwiP83cG6imFCUMaNwDejbkKSpQjCkpg1wjEl8MGuxWlBManwQQByz0E7XyfB62+qwR/YOEDLbEzC558fwqA3HMCZKojCFHKgwZfxjMAhU4tCx1/Owc7arcBWRpZChF52wlAeG8LiP4TCuj/wwS3kIUJQKDXBa56FwpGt78F5VetBKk3hQbRRcUFJ28xB3M2iQOFk+EB0UfPBRiBCwgQbHsJPU85BTfsHQvYivkFH3vbBMR9OQkSjzMHPcCDC7EWxQbxLXMJzdR7Cbm/vQXglrj86BybCrXAgwo1kDMIl6MxBDph+wbDHrMHKvvLAbhFtQbmDg0FuPxXC2VPqwJeujkLedBjCoFiIws+rKcIgeN1Ay450wtKXPcIn6arAZGGvwe5RMMLYlQjCd38NQtjP5UGM67PBZnWCQRTcLMLfJqzBKSxCwPz+00HlV3FCn3GzwZUuBMLeAmxCs9gXwsopfELCeGTCnD0iwvHFG0EaEoFCiPacQd5PlkKDqI7BSJ6DQqLX3kHSvHNCN210wtoDtMEtH2ZCXYFdwhylgkJP0YzCvkBCwuvTPsIPB35CfqGEQmWVG0BTgoRCwrmIwibe2sG90MBBpuSHQiu2jMI/zj/C+D65wVkjfUERjkFBldYIQRdtP8LjKYO/kHsvwjvf6EHz9BbCrKl3wDeMQ8K1hCbCQbOiwOnb70HpIgVBy1F1wUE/MsHWnJJCczbPQT3BbUJ7q7ZB7P4bwgQ8lcGPLgLCOnGHQQrztsEy3NTBUlkqwdGWhkH+d5JBUGKPwu8+L8KxLINCD3Iuwtk+E8IM3N1BGYWvQHfDikFkLNtBSeuAQoHGXsI9KE3CfkDFwYvIxcFxvOBBmoOhwblRjMBXq4dBG0wmweInJ8GXNIBCGqAJweaJGkHUjfzB+M5Bwjmk+8H58dPBQKp8QnH0G8Lz/JRAUjtyQdmdokDZuCbCxVwhwusu6EFd8WxCHnuJwrVrPMKaAx3CHuqjQNqPRsLJjybCJ5cDwtFzhUIUJRjCJpmGQrIVs8HJ+mHAP32NQky2kEJc04bCAIF1QtF5dEGyhyLC1P13QE7hTcIRg5pB+rA0QcwCGcJF5fTB3KPpwT+SnEJ1JdnB4NBKQVCBikKMhXvCDGrLweuJZkJKF0bCvfjmQCsCcsK0wBnCzRqQP2IIEMKLEbhBWFC3Qf6YpUEmS0/BFYuRQddClkJIxDrCNjqXQhXOlMGCKiDCdB5TwUWunsHBYTbCvsOGwWmtI0L7SFfBH4yRwauNZ0JhdrXBgxCWQvG8jcKNbDnBzIGJQkCtgcHAfx/C/aDQwAkxRj96+/nBnfLZQH0p50F++97B13tlwUlk2UFv/WXAnnTDQSJqf0Jh6yPCJ00gwiHJ3cEtNp5CAyAbQXCItkG85gPCpKz3wWxeh0GA+HXC9rdJwqHOMsFtHuLBm+YKwYM+BsIW7vJAUrBQwiVTk0F9Zx7CpheEwvksVcK3liHCEs0iwhskBMLTdRHChvg6woZYEcJb2IzBCyz2wBAjTT9vr2/CFFUkwqgqDUG2HiJCe6sFwq6OC8JDe9TAxWXRvwAIC8Li82tCKcfhwUC2hUImV2bCrKfXQUbBDUJnIadBndImQJayH8JbFrnBzpuTwc0WjUJmbnDCxkrDQHY6R8LP04tCiyyIwi0DKsKP7I9CpCiCwZNA8cA9TwhBM6LWQcpfE8LRzYrCAX8YwjKwtkFoIWxCf2qIQhMKsUHeZYdBaNiUQrVb20C0Z9nBEmhCQYPolEBy5oBCMgZawvrWQMIrcMRBCXHSQZVcR8EeSPNBfpEpwRiGnUHYY29CkKDuwRzLhsDpexdBtEZKQU9hy8HORX5CmNuHwrMjRcKBl9RB4xRjwZ+h00FN6g/CvOYswg5/vUG+375BxiKPQiCulEFv/e5AH95hQXguAEHLmYVCDxX/QYG0IcJOdIRC3fGGwq2O2sH6cZZCStJOwm5lGEIL2pRCoc0hwq00JcJE9ATCiGLbwZcDwkFxDOBAd6XhQcUcrkGEA5nBvvcBwgsPqkFCHwlAVtl0wntCVML/eZXB83/uweiDz0GwCnlCXDkHwdx0kUGD9tVBhViVQSaIJ8Jbn+zBbGK5wNZSo8AOELpBWWJ/Qtz8GcITo97Bu2CEQs0wh8HLwN7Bcv9pQujl8sFFKxXClw8SwZv0W0JjhE7CKPwzwpJWA8JGYijCNgM2QZWx0sEqxyXCi1mCQjmJy8E+rynAUx8SwVm4B8I1uU3CSOkMQkzBo0FjW5NBR/epwagTnUFuZjXCReMLwZeMyEGmT4FCP4kuwuaUDMEV3LTBjsR9QgJVesIfx+bBuFl4QRqBJT8LdLLB1ifJQd0TwUEO44TCHrkJwrSgJcLrjQjC348wwUwmmsEzafBBYJVHQXbKp0CgA5XBMJyYwUgjDcEnz+nBUsPGQVqSZMKBfHxCa2hhwvPaJUE3FGPAPiX2wayYpUGnF+nBEwEbQma8N0EgzjXCbzMWwiWL8cHBhNnBWPA5wlMtdkIPcYjCcW5GwpIRMsIhbYlCzh3fwXyURkGbBfzBoHKDP0DLMMIt8rNBpcTJvxTIc8HNgXxBHVkKwrSP4kDY0cpB1bD/QQ3rLsEgzNzA2/Hzwd8klkI3bG/Cg2CcQnEMvsFas8lB2zqSwZuIxMEsK1TB7iu2wAl7gEIqNorCafZ3wlq7CELNfM69Mvb3QbwNF0HxALrAB5jgQbZf6MBDufBAT+GFQgWqhsKUogbBQwlmQimInz1qQotCxtZLwrxBEkAaarJBfF4GwrdbBEJoZJZCM6knQai5EsARVWZCsvB5wo2SMsIYpybCnf7wQQiXEkIgBexBpkUwwguYJsJ3vohCQ6RAwoBhiUFO3wdCH/fhQZvIq8HqPBbClZ/QQLWJ7cF7iXVCtPCwQcsmI8INk+zBq87/wAwwG0IYPgrBxMJwwjogPsIIWoBCBssjwlGEFEBRHrPB993VwJVSDMKxDA/CxO0Mwr4BZcFMJUlBALPTwa1Kn0CJ1E/ChMW4QaSybsJYfxnCrhdvQdcqocFW68fBP0wawi5YaUItySPCDR2OQpWnh8JoBHPC5E6YwQjXC8LILlFBIigkwr8IBsJCu3tCXmJBwf3qsT9mVRTC+oVzQnG1bsK0sgjCACJlQrRk4MEpLsvB/8UmwuQOaUDn4Z5CIul7wp3Hf8L0bPVA9UoOwbC8CcID1I/AqVrKQT6+HUK/p8FBPc+0QfO9GMKLNQHBlSnjwRuHq8FKNKfBNwOFQif7acKsuhxAEzBwQatle8GfUfTA38iHwvsWVMJdZiTCWbfnQRkaSEFK7VjC+c20QZytfEJ5VopCHN1OQc//NkHKYYFCAWAEwmoMPcGKusVAdzbvwfq8mkGiFhBClf65QUI1H8Lp6ItCb2oiwlnk28HbaYNCGBHMwXpUDsIFKexBuCZ4QbyiikKllhTCKfx1Qj/9ZsHoHKpB/dekwZ5gwcG6vntC33KEPcKNdkKkm4zCTQs8whfIgUK4/RpBeV93wtNiKsIrd4VBRooxwZgT9EBqWCPC2qojwslddkKtBSTCiEkpwhtTgkI2FFrCj62FQlYgXcJB3tnBYE6FQVAwycGIW5TB6yfcQNRPg8GZ9C7CQL2UwaJQIUJceTZBpaEXwnIZ0UBTaybCkAwawoI3CUFJ5ORBcUEewilH5EH2v71BzIIBQijfTsJ31vm/lQczwmdp50Eze9nBLcr+vePjmkBHMptBPXPJwQmp5EG06QJCz0rEwJOsbEKH7o5AOmInwrDYiELDKwvC7H6dQeVFkEKkKwfCaoVmQonR6T9OND/CpgV5wa7BfkKehVPBALPfwZEOdEK2CvrBIoccwhDrxcE5ZybCMgd2QkLRksHIhZ1CqEmWwUSnlUBdaopBYpF6wpAwWcAVoKHAAv6MQlafc8Km1CHCzQURwuLBfEK6JmxCyk0nwYWh4kE/votBJCUkwgOAEcIxFEJB0+/KwVFMiMJNDRLCVEg9wFOhcsCkfZbB+xekwR/o6cEl4d5BZ7KFQrvpucE+7AlC++3LwcLuaEI2uuTAxa5aQpl49cFOXGfCMjkOQUkT+sHKaTpBH4g6wv/WkcFWOoRCKsdCwlrJbsJUzrbAUnadQmowpMCdg3dBfX6hQH7dOMLZEIjCLRMowjFD28AmviJCLtUVwlNuIMHLRbBAVHHRwb8YRsKbEqPB64HKQU5HRcKTJPnBec9+QNGwZMK7zVtCFbyEwmvyFcI45H9CTVIGwih2vcGGr/zBsEvdQcefqkFWrjTCmg2gQWaA0kEjSgvCo6ECwlMbjULyV4jCoWVDwphsIML+ZdpAkJBIQR3oPMKswtDBqqgVwi8fZUG25oZC7Xc4wkTZLMBWwAnCRkgcwe1xYMHkYAvB+SjWQRtWysAXJUzB8D+ewbb5uUGZoufBXpyeQaoZFcFGSbBBPxDxwcOHwUF3kstBNNjHwVp/CcKeLhjCsWKgQYB7ZUJfg0XCSvlEwmYjIMKPEY9CQL2NwmX617/NbIo/M/5Dwsz94kH3kLrBOyISwnIeIMKdmCnCk5CHQTdVzkFqD71BVyZ2QA/fcML9ayHCxe++QeUACkJqsaFBO+u9wU1Pt0EVRnDAEbpkwTWnIsIxElg/X/PJQUbov8GJP97AC5ctQd2x58EpxFtCxSCzwUW86UGWE1dAkIKBQghXiMJD40XCHzKjwTXmwEFaI8tBpLjlvyz6QsKwBRfBMglkv++ppUETz0HCANyewc9jnMEMOozBKvWxvx3hfMDy2R3C//UQwVAxCEFzHSdCnLohQsmX/8CYRS/CnqDFQY/C2kFqGwnCOFv2waIuoEHZ0iNCp4w0wjAd90Ec3/lBUk+zwf6KNkFaDnXCS64NwqtVxsFL3/ZAgh6QQQhNRkGhHgrCaKm6wXDKg0IDdAbCnISmQOiHeUKm3ZrBJckgwkb7ckHzl4FAyrhAwsU51MFNgx1CPRs9wrrzMMJl0gzCUnL+weZo7EC+EkPBXWv5was9p8H17xnCRswhws9gikHP6j/BbOUOQeT7jkAA3J5ByEf4QT1y7MFXyvLB76z/wQgi28C9hYJBooUjwjyG9kAMHInB6dzhwVG3IEGlIaLBQ0x/QgaA3cH2N+XBtMpCwUjFHcKosDDCvZYMwicJjkIevI3CM3dLwoKicMJVxjHCJvoXwjYWgEKiBIfCQNJGwk3Ze0Gn7WNCNwAAwRDlCkLro6tBJTMhwsE2H8IgtSHCYb75wBCRAsLo7uLBph61QbP1mkGv4nFCfrGJQg8KisLm63jCB+viwWnv28E1ljDCt+LCQTrtqMGfRBbBhOieQhu5GcI3J8PBDqzsQZskAELo5MFBYOhzwe++gUJkBm3BHFIewioNfEJ7l0nCZHOAwsWnO8LCCw/BM/LMwdK3CcIpdIpCzeQjwppxPcK7mBnCM049QY37fcLIB0rBdAn5QdTih0IQdjjCUgkTwuoUCMJsSBDCNJMnQRJSOsKFg+PBikuTQXiaxcHyXMBB6LzCwZK11cFYwMDAMjlEwCNy8UDoGx7CWeS/QQ3ZGUE1DJfBqH2qP7f7WMJRLyjC+XfEQeQWg0IRRihAHW8zQQaExkCtWFpCOcw+wg0TWcLr6NlBuYbBwTjThULdigRC//ihQYwf9kCoz1tC0+I3wh61w8FCHLtBsHZmQtSjhcJ51zHC8KwAwm8XnsGg+IdCejVrwi3+4MGa7x/Ca2UdwtTKhELnm0DCvPubQsO9VsI5eo5Ctq8jwm0oC8Jw8vNBtIbSQY4ZvEG9+SXCmiMmQRWLNkFpCYDB7oQewQ7GikLun3zCBcdXwkj7B0GHrjjCXD1uQcKNRcI8JgDCzkodQpB5BEJ76wLCEwGFQhrdZsIztBhBVr0pwhayLsJNCQvCHH+BwkFAAsJQGWZCTN0HwrK7Ej8k2ovB+7eaQeSrgcJr7NRBk4A3QZkyn0IBU4jC2wx+wj33CMIgN2JBsxg9wPnKZUKRRm/CTLrMQISqdMLtfzrC4NSXQRmCJ0KUQZ5CLvSHwt0Kf0I+cIFCy3g0waRAJ8Fdxx5A0sT6wSde38ADKrFBgb7bQd3tpcEBB3hCvSGRQrdRecKfN2RCX4OsQOIoBsJzcyDC8NJgQIhsNcL726dBjoqxQW4wc8IObBTCak9xQQZTasL8+zHC7I4Mwr/VFMExgX1CEDORQiYWLsKCwAfCT7d5wP4TsEB8r3DCngREws1nksHGdQzCLGG3QcG04T/cnCxBoWo7wk1e5kFqdEtBCf24QXtuJcFQwydCLk6SwWw7o0HqU6RASxtMwsgSh8EjhWFBYcyTQqICd8JuTdXBbf1qQr7nccJOMpHA1xGDQoDnKcLxmUjCXJvcwYH+iEGo0JBBNeeVQviOaMJuxRbCj+bywGrNakFtegBCjCn1wSyriUGNGd5Au8gFwplmocFIXHFCySrEQcm2IkJhFFRBCTbpwQR0ZUJ4i4PCGMNmP8wCIcJyFo5CizeGQvAbjkI2qHHC9LaNQuJLLsIsWWfCKyngwbYiG8J1imNBitgQwVFGUUF7KSLC17/lwXTHhUJzjDfCC70+QaHjVcGY/3FBM3B+QteEnkFgVPxAu227QRvjh0LTTyTCG6Iowo1v68HAbw2/hk9gwpMcWUKHkX3CgNpXwobjT8HcmixBBILiwVz7hkKq8nLCsbA5Qdb9LcHikKm/Gk0mwlmqNMJ0z5xCwySQQamqfMJw4RjCw6vxQLabJ8JgQjbCHkMewbeFc0L+RbhBoTACwhFLPcLDMIBCHsg2wuDML0H+jCTCDQQ9wg4oBsI0/YPAfSr8QVgm9L8vNotCWvmMQeIYJ8J1hybCRVwswv75EcJhwZJBgoWcPx9anD5Gs3Q/kjyQQiSGRcJZGLrAcpsKQoKQDsE0lFPCtMvcQc1Eh0HEyUxBHc22wSzVEMIQcgTCNhWwQXn4TcK4ESzCqAq2QdtwlEH/H/rB23cVwgQLc0HNM/xBGCA0wkp9+cCZbmLAwi2nQbLgAEDXxy/CGnJzQJgIjsJ7kS/CP/m5QdMgzcFzAjRBZlbBwRofG8LrLIdCXzOLQtXXEcIh+gtCMWUuP947eUFyuopCJ3VZwhpYNL/TZQBB2AuUwTOiZcHR6QvCMV32wQtaIsLJDw3BafKNQoCXW8KEdg5Bl9MQwtRTfELxcmjC5SnNwfRoDML59ovA0H/rwCaxosHhwQTCvho4QIu2PcL3kAVBaUd/wqyoGcLif4JC/8OMwr2PFcKk54LBt8vwwd98HMK8HstAUWrywDUlG0G2Io5CZRMwwllsuUEAivDBWXADQd1nL8JzKPJB5XekPtXu68Ejto1CFS9AwkiKgUK9vfDBA7GewUJChsBsvXVB8HAmQYsxA8JPGIBCLBEpwplZbEFmsoDCK1d4QjYXQkGrDATCO8lgwer+vcES3wjAVw5rwpxLiMJNFxvCsgblQVPnIMFonQ/BrRasQUAvjUJSVojCFDMmwup05j/mniXCbPb+wYYCB8IDzpNCXNlfwkc35MH/OAbCuQjhQRuhi0Gd6rY9UT/swY64mkERzD3BJcEcwdvHuUFcRQTCE8QDwkcoPEG3x4pCRBCvQQhUMMLkt2xCEHkiwcS890Fkh4hCrq2QQalTHcJWGYFBp/gSwt1UzUFnqyrCIT14wa1T2EHmC8xBlfhywgMtG8KfCCXCH2jlweFxiMGmGRnC8ns0wd4a+kE176HAcbOhwdFskEKrHF3CPhkVwoS3f0IVkonCCar7wZDzcUL4dGDC2kflwY2+h0LUKGDCYE+LwZPDF8AiBwfCuhMbwmulHsJcOIDBTMLMPvWbpMGooX9CuD5qwh0JG8KXbPPB1n8bQVr1d0IIJC/ChGUFwkwlYEFgpodC48EKwQEFAsJCBtDB0Ju1QQFGSsLusXBCxYlRwrH3ysAm/KFADpR3wu4ZNMIVLEpBM21gwLp/+sBqgwhChRX6QXwQgkGVxHdCcHU1wgWCWsEKjZjBeTuUQsDHh8L2uHjCxsNywUM1+EGtp5DAgi/wQef7HsEIbXtC6KZ2wvMwBMIqX19BmsRsQvN3I8Ibg83BdUZKQaMLkkJrj/7Bn1NCwOFkiUEw5HxCgwNTwthUi0IDlZ5CQO2HwuhEqMEBQnZCVvy3wb/8+kBWb3JCMWrpPS6qI0IMgSdBkMoqwt7omj6q3cpBt4ESwkHniEI8cFTCFA7hwQGGf0J7BCnBzMWMQsGQUsI6gSrCiaKWQqn2oEHosLNB/UO2Qd+BhELX21zCR2cYwTj10UFRlIlC3yyKwkDBbMLjgi7CiDENQs448j/FVoBC/jbowH0RCkJq9hG/O9qFwdOhFkHJ7nXCeIsiwvQ0VEG7MJJCIzgBwjBho0G4TTDC55VcwUaSZULmiUXCVaUkwv5G1MFx37hBvSqIQQr4XsGpPbZBcQeTQWpkJsLVlAfCq6iaQgcOS8KlgeDBuBkJQQlNKMJfoZDB7634QHo9jEGZ2mdCIpmwwMEFLMLGXEZBQJVKwu7Kq8Bd+6VB0CeSQtm9BcJJkr2/xlDmwb+WeUJ4D3hCQBvzvk188r/IchPBCQn1wfYiJsKBemNBjbrPwdOBvEF+4n/C2EtGwrYWHMLxEXZChamNwkLrRcL0qYFCRwRjwmU/X0ET7lHBNvdMwlTjh0J9cHTC0l/JwZEsfkII74jCh9xNwn+agkJPZPXB3tMYwTqVhUJO6IhBXTT8QdoYYMKptHVCvkdVwjsi8sGWT93B+5WHQs2Ne8K1sthBMUDNQVd/dUINq/xAozJiwf704MHNhTDCy2ULwuyz5UF48VnCkdfMQTA2CMIJA05CJS2KQRrRcMJlKT7CxmCbQgN9YsK2KizCx7i2QehhIkLJGERBSPO/QTuh7EEWESTC5D25wTIlZkK76IfCICRXwsTyx8F4qzTCcVeowQwJj8J58uHBdMuUQpLQWcIs1eVBO1jKQX2mo8ECttnBLEJqQr1RecLQ6/PB6x6dQj4BCcI4a4BCbNwWwX1hKsI4tQbBVL0Vwq8czUDuhpZBPHIlQRVJyMCpGBTChTzZwfjACsEj1p9BxGKAQo2rG8KGKzDCLzYIwkzBYELJgbhB4Hg+we/CVEB7FUXCpGidQfV2AULXy4xCfY9cwh7ZuEAgX2vC+OMoQdgJzEGb367BrhkNwfLchMLungnCkTYaws/Mz0Ajn+7BJvUqwq+FKcKNLYJBL/8CwiK0a8FF/AXChgskQdroesHAEYlCV4l7wq2YJkKNExXBTQ+/Qdnu2EFOCrdBcmAGQmDoDcKtqY5CauEZwiYlA8IHmIlCTCp/wkv2k8HpHXZCiccowgNBQ8C1N4ZCDfUkwp9e9MGyaIJCOIJgwtI2TcKS0bhAX89UwhQO4MHOzJBC8ShQwgNcDUKzE45CnECOQXcd/MECxHVBVwfbPk6YFcLnPttBB5rRwRJpG8IjX6LAE/aZQclKNsJQWubBXOGBQE+s8EFVdPrBHT3rQXGdX8EcZH9CYWjXQVEz5kHAF5DBfVp7QqLkU8IbAFlB1JPdwXFsm8HHxIhCkrj2wUnD8sHnjYlCcJJtwhu6K0HNKqFBSkf0QE1w9UF/SCPBMTjOQfg320G8p4ZCfJqwwaX0fEJBQYzCFxRFwu3RiEI4sonCvwhawmrROcKVWRXBNuAKQjUYkUH2rZBC6PqHwqkibsJsV4xCWq6+QeE5OD/DPB1CH3Xywe6ULMAHfYpBB0fewXN6HsHpaa1BX4yZQat5asJuLQ5CUTYkwVEHMcI557HBeO/lwVISp8EWUibCHAvqQfri00E1HUtBt9ckwsYHHMJgBo5CivlnwQuSosEVAkLCGYOnQJg+fsKp4i7C3aezQST+AMKTjndBOVv3wF0vNEJ3SJpCkWXrQY+QfUI2ZYfCh/N9wiss2MHKry7BN/3zPYqYgkJK4SLCYok8wYkslUG2fQjC6I2TQobYqMF7mdG+EnKPQgOjJkLkWTTC0t6vQfjDEsKO6PnBOQS/QJmR4UBJuo7B/w8cQD4DBcGtZQ5Bl/JpwrFA7UFFO/VAYepaQr+dYcKtrPTBZ9mAwbrXxEGe1L5BNRIlwZhJ9MDsgmtBn7gxwUC7ikKVmilBhAXawEwvhEKDjojCgyE8wgSsKUF9VgxCetPSwRMmCL9Jo1/Cx10Owj3t3MHxJ7bAf5q6wddvAMK/cC/BGVcPQhpheEG/4YZBKcXWwCQWhkJu4YPCuvMYwkNPkkEUTOZAKQp0wpMVPsKbhLVA6CZ1widRO8JNyCHAa2YNwq3Al8FWyfJBQQggwWIRicH2Rdg+sjKIQsMEh8LJkHDCEltsQUsZ8r+o+IRCTzYpwjWmJMKuIfnBGiCAQlS63MCnE+PAhVL/wRjLe0LMjG1C1tJQwFdwC8KTcS9BKwd5QFzgRcIDBLFAUoNvwmveLcIak4FCYxMQQGiaJsKrz+/BBhpMQTVkW8LKy41CKhZTwjkBicHVikNB0kExwhqNHcGtRrfBTyanQTnFG8JJcoNC2E9TwiV4T0DNyXXCp/Qxwjc8lkIOQE3BVQSGQk8OZMJOiTHCiEdewd9cIkHobkbC5zAwwizJA8JekRrB9+/CQKNmMcLZXRVBOrUqwp7afUIVg4nCaxBFwkRYfcG3j6nBbVEEQTJUZcFN9njANJc2wdwr1UHG9Z1C5PeHwgY6YEHr6sI+XqKPQnnOh0JOrlTCZzIgQpdefEI5+e1Bbo6KQhInNkH/cGTCaDPawfofwkAThqRAEKVGwvGWK8KXdezBNaLmQcihUcFeLw5CbZFIQAFLKcKRqYJCinO8QOptQcJf3ypBTnKCwbEsCMEgt8JBQzyAQn/vj0H0WxRBwxCQQo4BlsF3cQLCbJjewZHqakIuTG/B0kZ2QrquicLpnxXCLdDQwUljsMF/38HA8oF4QiFgFsFJ6YdCVoJswpGN90GG6IhBq/wgQkYii8Fn21LAfsXdQXN1NUHzgyLCaKAjwmwuskFgY+hANOQHwtH2/kCEjXHCBawmwg+TBcKtntZBN06EwWi0GMJWI89Bv6r0wPbpZcHWy9DA/ByxQLSadMJg9D3CDigLwmlR/0BoVPpBp9/PQULglUJMr/jBA8euwXPigEKV6mtCzUyHwmseYMKfdojBwjntwXUnOkFvsyBCJuf1QPbDa0KCi4nC38rywX54+MFr+k7BE50UwVTCZ8GLFTHCrIIaQbPuUkGN6CtBMkQ0wsvuNkHm4X9CFFWGwo0GWMIArQvC6c45QYq5UsJwv1VB5KolwiJBNsK6DQvBtMofwpxXLML/EHXBieP1wXTMmkEutuVBoKXywZ6vk0FgUKTBAJ/dwTfwgUJxAC/Cmchwwv/xUjzzqO/BcgMiQpSlF8K0Bd5BlbSBwaoEhUKi02fCmQUbQZ1ePMLQTpBCEpYMQr+sEcKUqJtBW5N0wfH9BsJvTZNBXTu9weue68HokrrBcrEHwiRa0kGSQ6hA2bokQjZ80cA99R9CBA/BQaExlkLQv4fCDXI+wnykhEJGYAdCyqomwumHVcHS8IdCzHdewlWgFcIZ/fvAiS2TQvjXLsKQZgJCO3cVwLWNTMFQTP5BYrXpwWm0tUGua9nBB8gxwfSvg0LrlIbCHepRwvRxG8Jqlq6/OKVcwsEaiELlDHDCSFa2QZdj6MFZIDRBhGgmQbJL40EkPxLCK6z5wVc1jUJV/y3CQCRmwuHO8MFOySJCPthJQQeH4MHZpItBqUaaQSqhq8GQ8dLB92laQY/KeUIvfXlCyAOlQZ4aJcIIgD3C4QUZwlc7N0HM3CHCnt0MwlymHELCG2lCQ50PQt0WckEIFBnCXY4ywp/Xo8E5KYJAmrNOwoRQrMAcmO1BWrPFQbgonkLuVFjC2kB4QRdwDULOF6jBVhrdQdIAeUKlFbdBNhf3QdkKG8JWxRFB2lllwQHVb0IYhfrAwpyEQueAp0FiShTBUr/5wX+tN0CPhUTCvXLbQeiRnELHLkTCJXplQqHUk0FvzHBB4PwWwtTP8EGr0V9BU8rmwRP4jMFBtYxC6Y8zwlR7m0Fz1VTCXP6vwBYr/cGlpltCruVqwkG2y8Fi+zlBXfH6wcs2cUBlf03CX16kQNMxmsAP3+ZBlA6PwH8t70EqZP9BHsROwq5uV0GdnjHCdCEmwuSHI8Kw2vg/Y8lwwtT6TMKinoRCvfH6Qa9hHsIFiGPBEUQawlduhMKDORrCbhLHwX5m+sFdKJVC/XZnwulQW0IplGrCn5d6wbwQuMHFa73BzaRPQWIBgUIYW1nCPugrQa+lRUJDf4RCYY5dQUajBcLDgT3CbAXgQJ440EGhtxvCiEqRQi9UVMEeHnVCWIKOweK+dEKQrijAJ/hxQh0MZEEukTHCcVygwZIT+UH4u1lB1c+HQq3rLsKxCGbCLk7fQeVGyUBy4zjC8QMXweatl8HA5uFBvBUaQBbw2EF8AslBqFDpwYnHP0DIjfHBm0XYQY7PekEWAGLBNon9wb//TUFjSSvBXVqJQqeILsLHZEPC9o0SQrGskcEVpJtB+4REwuXQB8K0Oz/BHN2OwWotgEKnD4bCY+1Owg4apkH6WAtB1L+EQq+NkkKE6KzBQmobQAr8IkFtRJxBDCZeQZXzr8EPnArCDIypwdfAZ0IeH5bBpXM1QYyPKsK8z5RCY5xiwjpdw8EAVzHCbx+/QbZCXcIrQog/os43wqg0+r+t1HhBsHcjwitl5MHRq+lBaCGSQsyDZ8IEt1TBlO7HQXo9N8InIUlBKoe8QW/Xk0KB14RAySBIwpnZwMCOtunB6AncQZr3jEIVDalBRmYswqNEgEI4rS/CDcQcwu4YkUJPmXnCIGwvwiHuXcDXDf3B4vpEwS7hFUFwcopCY4+aQZ6ViEJcI0fC5hyXwYPWskHCpCBBst5BwrGauMG0dy7Ax4laQVH0t0E9aCPBqtgRwrYx4cGDI5XAqkyWQrg2gcK/f5vB1l/JwaPudUKpEU/C3BeGQvmJQkHPxwnCP8dGQaZ8vcDHnKDBASEUQX9ykb9/5pZBpzx1QU3gSMKyxZ5A0TR+wlBUFsK+AAvCx4xQwIjUWEG2zDXCH9WBwZ+Yw8FL8tHBq0SXQbszkcBguoFCoKKHwny6OcLC3wfB6v/NQTi8SMEkSi/Cnm8FwkFulUKx1U3CH6OgQAYmQMHYNpvBlSTxQTWstkEQ5gRC0jL7wZOaJ8KpzhVBstYtvtND7EH61PrBL23DwHjFHcJhrpNCtohfwnzAekEcaEe/Bb0xwp2f1EHbGZ9BB3OQQmfnWsIgSSXC3uQrwmqYfEEl5AtCKp1nQsiaJUC2hIxCRR7xwaMFosEK2alBdrjYQXMqY8DuGW1BG+7nwbd41cABXd1BNzQCwqDKxb825TzCbZEbwn0hnUFUUA7CZy3BQcbID8FUX0VB8IsQwjJqmUFaXVRBa8zRwV+uZUKvrYXCLRkjwltKBEGyp+vBfd35P3wJfEJ9lFvCnJD0wSPZu0H5Pt7ArrwHQlyWOUHCuHLCs/EEwkkzTUHAQ1rCXAaBQgpXYMKqaJtAXwpEwqN7IMJztkTBuxlowYvgA0GFG4tCzgr/QVGaH8G4K11A7iYgQhyZikJ+t9bB7MfvQELOxkG9Z+vBgf1kQe4jJsLklCHAg+L2wVxW/sEpa2NCPVJaQeDD20GHpPPBDGK9QeiagUJ/115CZP1UwqxVpMH7varBcCEvwtmKhkLOL1XCqeSmwXT1hkLX+jfCJQZxQe/2V8IkSqpBsUMav5G3qUBKxCdBNJmGQo7fPcKu4YnBClOKweyDwMHdlATCw5YIQjcmesCFT3vCrT+ZwQZE1ECyBnjCq/06ws5zgUJMFSZBzLMnwmPbWkE8/EfCdWMawr45l0KX2CjCgUsVQbbujcIzzlPC",
          "dtype": "f4"
         },
         "y": {
          "bdata": "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",
          "dtype": "f4"
         }
        },
        {
         "customdata": [
          [
           "1t",
           "VOLUME"
          ],
          [
           "150",
           "VOLUME"
          ],
          [
           "г",
           "VOLUME"
          ],
          [
           "900",
           "VOLUME"
          ],
          [
           "г",
           "VOLUME"
          ],
          [
           "0.5",
           "VOLUME"
          ],
          [
           "л",
           "VOLUME"
          ],
          [
           "6л",
           "VOLUME"
          ],
          [
           "180",
           "VOLUME"
          ],
          [
           "г",
           "VOLUME"
          ],
          [
           "4",
           "VOLUME"
          ],
          [
           "кг",
           "VOLUME"
          ],
          [
           "250",
           "VOLUME"
          ],
          [
           "г",
           "VOLUME"
          ],
          [
           "5",
           "VOLUME"
          ],
          [
           "кг",
           "VOLUME"
          ],
          [
           "г",
           "VOLUME"
          ],
          [
           "340",
           "VOLUME"
          ],
          [
           "г",
           "VOLUME"
          ],
          [
           "700",
           "VOLUME"
          ],
          [
           "г",
           "VOLUME"
          ],
          [
           "г",
           "VOLUME"
          ],
          [
           "3",
           "VOLUME"
          ],
          [
           "кг",
           "VOLUME"
          ],
          [
           "300г",
           "VOLUME"
          ],
          [
           "2.5",
           "VOLUME"
          ],
          [
           "кг",
           "VOLUME"
          ],
          [
           "6",
           "VOLUME"
          ],
          [
           "кг",
           "VOLUME"
          ],
          [
           "200",
           "VOLUME"
          ],
          [
           "мл",
           "VOLUME"
          ],
          [
           "500",
           "VOLUME"
          ],
          [
           "мл",
           "VOLUME"
          ],
          [
           "450",
           "VOLUME"
          ],
          [
           "г",
           "VOLUME"
          ],
          [
           "700",
           "VOLUME"
          ],
          [
           "г",
           "VOLUME"
          ],
          [
           "4",
           "VOLUME"
          ],
          [
           "200",
           "VOLUME"
          ],
          [
           "г",
           "VOLUME"
          ],
          [
           "125",
           "VOLUME"
          ],
          [
           "г",
           "VOLUME"
          ],
          [
           "2",
           "VOLUME"
          ],
          [
           "л",
           "VOLUME"
          ],
          [
           "500",
           "VOLUME"
          ],
          [
           "г",
           "VOLUME"
          ],
          [
           "(ml)",
           "VOLUME"
          ],
          [
           "250",
           "VOLUME"
          ],
          [
           "г",
           "VOLUME"
          ],
          [
           "200",
           "VOLUME"
          ],
          [
           "г",
           "VOLUME"
          ],
          [
           "300",
           "VOLUME"
          ],
          [
           "г",
           "VOLUME"
          ],
          [
           "2кг",
           "VOLUME"
          ],
          [
           "330г",
           "VOLUME"
          ],
          [
           "500",
           "VOLUME"
          ],
          [
           "г",
           "VOLUME"
          ],
          [
           "800",
           "VOLUME"
          ],
          [
           "г",
           "VOLUME"
          ],
          [
           "280",
           "VOLUME"
          ],
          [
           "gr",
           "VOLUME"
          ],
          [
           "1",
           "VOLUME"
          ],
          [
           "кг",
           "VOLUME"
          ],
          [
           "10",
           "VOLUME"
          ],
          [
           "шт",
           "VOLUME"
          ],
          [
           "300",
           "VOLUME"
          ],
          [
           "г",
           "VOLUME"
          ],
          [
           "600",
           "VOLUME"
          ],
          [
           "г",
           "VOLUME"
          ],
          [
           "700гр",
           "VOLUME"
          ],
          [
           "г",
           "VOLUME"
          ],
          [
           "g",
           "VOLUME"
          ],
          [
           "150",
           "VOLUME"
          ],
          [
           "g",
           "VOLUME"
          ],
          [
           "0.5",
           "VOLUME"
          ],
          [
           "200",
           "VOLUME"
          ],
          [
           "г",
           "VOLUME"
          ],
          [
           "99%",
           "VOLUME"
          ],
          [
           "1.2",
           "VOLUME"
          ],
          [
           "кг",
           "VOLUME"
          ],
          [
           "320",
           "VOLUME"
          ],
          [
           "г",
           "VOLUME"
          ],
          [
           "1",
           "VOLUME"
          ],
          [
           "л",
           "VOLUME"
          ],
          [
           "930",
           "VOLUME"
          ],
          [
           "г",
           "VOLUME"
          ],
          [
           "140",
           "VOLUME"
          ],
          [
           "г",
           "VOLUME"
          ],
          [
           "900",
           "VOLUME"
          ],
          [
           "г",
           "VOLUME"
          ],
          [
           "900",
           "VOLUME"
          ],
          [
           "г",
           "VOLUME"
          ],
          [
           "1000",
           "VOLUME"
          ],
          [
           "г",
           "VOLUME"
          ],
          [
           "450",
           "VOLUME"
          ],
          [
           "г",
           "VOLUME"
          ],
          [
           "900",
           "VOLUME"
          ],
          [
           "г",
           "VOLUME"
          ],
          [
           "800",
           "VOLUME"
          ],
          [
           "мсквскй",
           "VOLUME"
          ],
          [
           "450",
           "VOLUME"
          ],
          [
           "г",
           "VOLUME"
          ],
          [
           "0.5",
           "VOLUME"
          ],
          [
           "л",
           "VOLUME"
          ],
          [
           "0.7",
           "VOLUME"
          ],
          [
           "л",
           "VOLUME"
          ],
          [
           "250",
           "VOLUME"
          ],
          [
           "г",
           "VOLUME"
          ],
          [
           "450",
           "VOLUME"
          ],
          [
           "г",
           "VOLUME"
          ],
          [
           "90",
           "VOLUME"
          ],
          [
           "г",
           "VOLUME"
          ],
          [
           "60",
           "VOLUME"
          ],
          [
           "г",
           "VOLUME"
          ],
          [
           "900",
           "VOLUME"
          ],
          [
           "г",
           "VOLUME"
          ],
          [
           "пятёрочка",
           "VOLUME"
          ],
          [
           "1",
           "VOLUME"
          ],
          [
           "кг",
           "VOLUME"
          ],
          [
           "100",
           "VOLUME"
          ],
          [
           "g",
           "VOLUME"
          ],
          [
           "550",
           "VOLUME"
          ],
          [
           "г",
           "VOLUME"
          ],
          [
           "100",
           "VOLUME"
          ],
          [
           "г",
           "VOLUME"
          ],
          [
           "450",
           "VOLUME"
          ],
          [
           "г",
           "VOLUME"
          ],
          [
           "60",
           "VOLUME"
          ],
          [
           "л",
           "VOLUME"
          ],
          [
           "500",
           "VOLUME"
          ],
          [
           "г",
           "VOLUME"
          ],
          [
           "пакчой",
           "VOLUME"
          ],
          [
           "900",
           "VOLUME"
          ],
          [
           "г",
           "VOLUME"
          ],
          [
           "джонаголд",
           "VOLUME"
          ],
          [
           "1",
           "VOLUME"
          ],
          [
           "кг",
           "VOLUME"
          ],
          [
           "1.5",
           "VOLUME"
          ],
          [
           "кг",
           "VOLUME"
          ],
          [
           "25",
           "VOLUME"
          ],
          [
           "кг",
           "VOLUME"
          ],
          [
           "400",
           "VOLUME"
          ],
          [
           "г",
           "VOLUME"
          ],
          [
           "250",
           "VOLUME"
          ],
          [
           "мл",
           "VOLUME"
          ],
          [
           "500",
           "VOLUME"
          ],
          [
           "грамма",
           "VOLUME"
          ],
          [
           "г",
           "VOLUME"
          ],
          [
           "5",
           "VOLUME"
          ],
          [
           "литров",
           "VOLUME"
          ],
          [
           "200",
           "VOLUME"
          ],
          [
           "900",
           "VOLUME"
          ],
          [
           "г",
           "VOLUME"
          ],
          [
           "200",
           "VOLUME"
          ],
          [
           "гр",
           "VOLUME"
          ],
          [
           "1",
           "VOLUME"
          ],
          [
           "кг",
           "VOLUME"
          ],
          [
           "930",
           "VOLUME"
          ],
          [
           "г",
           "VOLUME"
          ],
          [
           "репейный",
           "VOLUME"
          ],
          [
           "350",
           "VOLUME"
          ],
          [
           "мл",
           "VOLUME"
          ],
          [
           "kg",
           "VOLUME"
          ],
          [
           "1,5",
           "VOLUME"
          ],
          [
           "л",
           "VOLUME"
          ],
          [
           "300",
           "VOLUME"
          ],
          [
           "г",
           "VOLUME"
          ],
          [
           "200",
           "VOLUME"
          ],
          [
           "г",
           "VOLUME"
          ],
          [
           "0.33",
           "VOLUME"
          ],
          [
           "л",
           "VOLUME"
          ]
         ],
         "hovertemplate": "<b>entity_text:</b> %{customdata[0]}<br><b>entity_label:</b> %{customdata[1]}",
         "marker": {
          "color": "rgb(242, 183, 1)",
          "opacity": 1,
          "size": 8
         },
         "mode": "markers",
         "name": "VOLUME",
         "type": "scatter",
         "x": {
          "bdata": "HdWgv0yOw0FB5SpCOGvOQUS4I0I1sAJCm4gaQgBIAULN8MVBq9AqQr0140GtwBJCt9rRQTLuKEL2aPpBQngVQq+fLEJ349NBQeMnQuElvkHvOCtCW5coQrk7w0GXaBNCT8T8Qbky/kG7CRRCf8G6QX2aE0KYwslBBlIsQtNOzkGrQytCEnfUQUjZJ0LtGrpBLlYxQvtipkHoKdlBKWguQjdBx0FZdDFCLsn6Qc05GUL23MtBZMclQj6ZA0IX8sVB5W8hQqpb2UHdMyhCJbfMQRD1IkKwqP5BRkvVQX6oyEFLQylCTGHDQVTGIUIiIeVBL/YkQq1220EEsxVCo/jCQcNdGELHZddBgHwsQtvX0UEzjCNCJsL9QRgjL0L4djVAdDXhQT3yJEJYOgJCT6bCQbOIJ0IGYt1BW9UAQg/8D0LePr5B7U4rQv2A2EGttBdCTeTFQQhZMULsEdxBAa8uQoADx0HtnytCOhPPQauAKEK+aKi/UE8hQsx/0kFs2y5CK2rOQUIYJEKh6dRBEPa7wfpC0kGmkCdCQhICQortGkIlTgJCuW4aQrQ/yEH7ciVCq7DKQbNuI0I64tdBO6YsQojN10GY1idC/oDGQRf7KkJxzeC/UNjeQVdmE0L7JOlBBfQkQpTXwkHh2SpCuH7nQTmrKEIDLstBSgkjQipuvEEftRdCGf/RQbaDKEKf7tnB3GDOQX7fI0Jmuem/6HvdQeO5FULNr/1BFSUUQsBmxUExuRNChXfcQcBeKELphNJBGNMrQiW2z0EWDRdCvighQvSS/kHwaxJCYa7ZQWSixkECZitCVn7XQZ7HHkKs9tpB7EETQtkoxUHFLC9CZMvEwUMm1UGa6C1CFsARQoEu/EHiMxlC5f3NQb6cI0KWf8VBFTopQtHFAkI7BRpC",
          "dtype": "f4"
         },
         "y": {
          "bdata": "IacPwpZbgcK4gmTC+1WAwk12acLHnHXCdjJywn7jbcIZqILCxTZkwl92dsLyVm3C0858wv3obcJX/HfCAzNtwvA3WsKcHnHCpLNnwj95gMLt3WPCd6Jcwq6zcsL24m3C4DVtwl23dsJ5N27CoHJ3wq2FccLoEX3CB25zwpRlaMJ9RFbC+StywgBOaMKZLX/CqXdmwts3cMLlr4DCa+RpwsZsZ8JF6VvCpnN1wp5/csJWs3rCg05kwktOcMK76XjCqT1lwtVfgMLq9G3CSFR4wjSXY8K2OG3CsNhLwkAUesL8LFzCoWV4wmsNZcIcH4HCayd4wpI4ecIR427CVzh1wniFaMKmfm7Cdqlbwqg6gsL26mnChAptwr9eV8KWvlPCgPd+wsa2eMKkBnjCJqF7wt3IW8LmTEDCqql2whAOb8KmSYLC/o1kwqOQeMJtpHXCcJBnwnetW8Kct3TCndFpwgMUgcLqNWXCi05/wrWNbcLHsevBL+RkwrDVdMJmq2nCuLyAwn8oasKH0H7CurbPwaj4csJIBmfC6BF2wl6adMJKy3TCIzlzwkFsecKpWmPCUSh2woSGYsKEtmzCyypbwi4GcsLS62fC//aAwk4oZMIVIAXCrjt6wmlob8LBH33C1q94wvKsg8JxyWPCTRZ9whVybcL/F3bCS+ViwsDmd8LMVXbCfnV8wvOabcLOYtbBJXmAwk6zacIbfQHCl1t5wnP8bsK5n3bCVg5uwvH6ccIVKm/CERR+wom5bcLovHzC+zRzwlAWe8KxmGnC9TdgwpJEesI4q3TCmHGCwuMIgcJdKWTCDZWBwtHdbMLR+XjCNQ5twgaQZ8JgZlfCV3fWwaNGdsLrB3PCMolnwpNkdMJiPnLCXlh4wi3SZ8LFknzCF15cwsKLc8KaKHLC",
          "dtype": "f4"
         }
        }
       ],
       "layout": {
        "height": 800,
        "legend": {
         "title": {
          "text": "Class Labels"
         }
        },
        "template": {
         "data": {
          "bar": [
           {
            "error_x": {
             "color": "#2a3f5f"
            },
            "error_y": {
             "color": "#2a3f5f"
            },
            "marker": {
             "line": {
              "color": "white",
              "width": 0.5
             },
             "pattern": {
              "fillmode": "overlay",
              "size": 10,
              "solidity": 0.2
             }
            },
            "type": "bar"
           }
          ],
          "barpolar": [
           {
            "marker": {
             "line": {
              "color": "white",
              "width": 0.5
             },
             "pattern": {
              "fillmode": "overlay",
              "size": 10,
              "solidity": 0.2
             }
            },
            "type": "barpolar"
           }
          ],
          "carpet": [
           {
            "aaxis": {
             "endlinecolor": "#2a3f5f",
             "gridcolor": "#C8D4E3",
             "linecolor": "#C8D4E3",
             "minorgridcolor": "#C8D4E3",
             "startlinecolor": "#2a3f5f"
            },
            "baxis": {
             "endlinecolor": "#2a3f5f",
             "gridcolor": "#C8D4E3",
             "linecolor": "#C8D4E3",
             "minorgridcolor": "#C8D4E3",
             "startlinecolor": "#2a3f5f"
            },
            "type": "carpet"
           }
          ],
          "choropleth": [
           {
            "colorbar": {
             "outlinewidth": 0,
             "ticks": ""
            },
            "type": "choropleth"
           }
          ],
          "contour": [
           {
            "colorbar": {
             "outlinewidth": 0,
             "ticks": ""
            },
            "colorscale": [
             [
              0,
              "#0d0887"
             ],
             [
              0.1111111111111111,
              "#46039f"
             ],
             [
              0.2222222222222222,
              "#7201a8"
             ],
             [
              0.3333333333333333,
              "#9c179e"
             ],
             [
              0.4444444444444444,
              "#bd3786"
             ],
             [
              0.5555555555555556,
              "#d8576b"
             ],
             [
              0.6666666666666666,
              "#ed7953"
             ],
             [
              0.7777777777777778,
              "#fb9f3a"
             ],
             [
              0.8888888888888888,
              "#fdca26"
             ],
             [
              1,
              "#f0f921"
             ]
            ],
            "type": "contour"
           }
          ],
          "contourcarpet": [
           {
            "colorbar": {
             "outlinewidth": 0,
             "ticks": ""
            },
            "type": "contourcarpet"
           }
          ],
          "heatmap": [
           {
            "colorbar": {
             "outlinewidth": 0,
             "ticks": ""
            },
            "colorscale": [
             [
              0,
              "#0d0887"
             ],
             [
              0.1111111111111111,
              "#46039f"
             ],
             [
              0.2222222222222222,
              "#7201a8"
             ],
             [
              0.3333333333333333,
              "#9c179e"
             ],
             [
              0.4444444444444444,
              "#bd3786"
             ],
             [
              0.5555555555555556,
              "#d8576b"
             ],
             [
              0.6666666666666666,
              "#ed7953"
             ],
             [
              0.7777777777777778,
              "#fb9f3a"
             ],
             [
              0.8888888888888888,
              "#fdca26"
             ],
             [
              1,
              "#f0f921"
             ]
            ],
            "type": "heatmap"
           }
          ],
          "histogram": [
           {
            "marker": {
             "pattern": {
              "fillmode": "overlay",
              "size": 10,
              "solidity": 0.2
             }
            },
            "type": "histogram"
           }
          ],
          "histogram2d": [
           {
            "colorbar": {
             "outlinewidth": 0,
             "ticks": ""
            },
            "colorscale": [
             [
              0,
              "#0d0887"
             ],
             [
              0.1111111111111111,
              "#46039f"
             ],
             [
              0.2222222222222222,
              "#7201a8"
             ],
             [
              0.3333333333333333,
              "#9c179e"
             ],
             [
              0.4444444444444444,
              "#bd3786"
             ],
             [
              0.5555555555555556,
              "#d8576b"
             ],
             [
              0.6666666666666666,
              "#ed7953"
             ],
             [
              0.7777777777777778,
              "#fb9f3a"
             ],
             [
              0.8888888888888888,
              "#fdca26"
             ],
             [
              1,
              "#f0f921"
             ]
            ],
            "type": "histogram2d"
           }
          ],
          "histogram2dcontour": [
           {
            "colorbar": {
             "outlinewidth": 0,
             "ticks": ""
            },
            "colorscale": [
             [
              0,
              "#0d0887"
             ],
             [
              0.1111111111111111,
              "#46039f"
             ],
             [
              0.2222222222222222,
              "#7201a8"
             ],
             [
              0.3333333333333333,
              "#9c179e"
             ],
             [
              0.4444444444444444,
              "#bd3786"
             ],
             [
              0.5555555555555556,
              "#d8576b"
             ],
             [
              0.6666666666666666,
              "#ed7953"
             ],
             [
              0.7777777777777778,
              "#fb9f3a"
             ],
             [
              0.8888888888888888,
              "#fdca26"
             ],
             [
              1,
              "#f0f921"
             ]
            ],
            "type": "histogram2dcontour"
           }
          ],
          "mesh3d": [
           {
            "colorbar": {
             "outlinewidth": 0,
             "ticks": ""
            },
            "type": "mesh3d"
           }
          ],
          "parcoords": [
           {
            "line": {
             "colorbar": {
              "outlinewidth": 0,
              "ticks": ""
             }
            },
            "type": "parcoords"
           }
          ],
          "pie": [
           {
            "automargin": true,
            "type": "pie"
           }
          ],
          "scatter": [
           {
            "fillpattern": {
             "fillmode": "overlay",
             "size": 10,
             "solidity": 0.2
            },
            "type": "scatter"
           }
          ],
          "scatter3d": [
           {
            "line": {
             "colorbar": {
              "outlinewidth": 0,
              "ticks": ""
             }
            },
            "marker": {
             "colorbar": {
              "outlinewidth": 0,
              "ticks": ""
             }
            },
            "type": "scatter3d"
           }
          ],
          "scattercarpet": [
           {
            "marker": {
             "colorbar": {
              "outlinewidth": 0,
              "ticks": ""
             }
            },
            "type": "scattercarpet"
           }
          ],
          "scattergeo": [
           {
            "marker": {
             "colorbar": {
              "outlinewidth": 0,
              "ticks": ""
             }
            },
            "type": "scattergeo"
           }
          ],
          "scattergl": [
           {
            "marker": {
             "colorbar": {
              "outlinewidth": 0,
              "ticks": ""
             }
            },
            "type": "scattergl"
           }
          ],
          "scattermap": [
           {
            "marker": {
             "colorbar": {
              "outlinewidth": 0,
              "ticks": ""
             }
            },
            "type": "scattermap"
           }
          ],
          "scattermapbox": [
           {
            "marker": {
             "colorbar": {
              "outlinewidth": 0,
              "ticks": ""
             }
            },
            "type": "scattermapbox"
           }
          ],
          "scatterpolar": [
           {
            "marker": {
             "colorbar": {
              "outlinewidth": 0,
              "ticks": ""
             }
            },
            "type": "scatterpolar"
           }
          ],
          "scatterpolargl": [
           {
            "marker": {
             "colorbar": {
              "outlinewidth": 0,
              "ticks": ""
             }
            },
            "type": "scatterpolargl"
           }
          ],
          "scatterternary": [
           {
            "marker": {
             "colorbar": {
              "outlinewidth": 0,
              "ticks": ""
             }
            },
            "type": "scatterternary"
           }
          ],
          "surface": [
           {
            "colorbar": {
             "outlinewidth": 0,
             "ticks": ""
            },
            "colorscale": [
             [
              0,
              "#0d0887"
             ],
             [
              0.1111111111111111,
              "#46039f"
             ],
             [
              0.2222222222222222,
              "#7201a8"
             ],
             [
              0.3333333333333333,
              "#9c179e"
             ],
             [
              0.4444444444444444,
              "#bd3786"
             ],
             [
              0.5555555555555556,
              "#d8576b"
             ],
             [
              0.6666666666666666,
              "#ed7953"
             ],
             [
              0.7777777777777778,
              "#fb9f3a"
             ],
             [
              0.8888888888888888,
              "#fdca26"
             ],
             [
              1,
              "#f0f921"
             ]
            ],
            "type": "surface"
           }
          ],
          "table": [
           {
            "cells": {
             "fill": {
              "color": "#EBF0F8"
             },
             "line": {
              "color": "white"
             }
            },
            "header": {
             "fill": {
              "color": "#C8D4E3"
             },
             "line": {
              "color": "white"
             }
            },
            "type": "table"
           }
          ]
         },
         "layout": {
          "annotationdefaults": {
           "arrowcolor": "#2a3f5f",
           "arrowhead": 0,
           "arrowwidth": 1
          },
          "autotypenumbers": "strict",
          "coloraxis": {
           "colorbar": {
            "outlinewidth": 0,
            "ticks": ""
           }
          },
          "colorscale": {
           "diverging": [
            [
             0,
             "#8e0152"
            ],
            [
             0.1,
             "#c51b7d"
            ],
            [
             0.2,
             "#de77ae"
            ],
            [
             0.3,
             "#f1b6da"
            ],
            [
             0.4,
             "#fde0ef"
            ],
            [
             0.5,
             "#f7f7f7"
            ],
            [
             0.6,
             "#e6f5d0"
            ],
            [
             0.7,
             "#b8e186"
            ],
            [
             0.8,
             "#7fbc41"
            ],
            [
             0.9,
             "#4d9221"
            ],
            [
             1,
             "#276419"
            ]
           ],
           "sequential": [
            [
             0,
             "#0d0887"
            ],
            [
             0.1111111111111111,
             "#46039f"
            ],
            [
             0.2222222222222222,
             "#7201a8"
            ],
            [
             0.3333333333333333,
             "#9c179e"
            ],
            [
             0.4444444444444444,
             "#bd3786"
            ],
            [
             0.5555555555555556,
             "#d8576b"
            ],
            [
             0.6666666666666666,
             "#ed7953"
            ],
            [
             0.7777777777777778,
             "#fb9f3a"
            ],
            [
             0.8888888888888888,
             "#fdca26"
            ],
            [
             1,
             "#f0f921"
            ]
           ],
           "sequentialminus": [
            [
             0,
             "#0d0887"
            ],
            [
             0.1111111111111111,
             "#46039f"
            ],
            [
             0.2222222222222222,
             "#7201a8"
            ],
            [
             0.3333333333333333,
             "#9c179e"
            ],
            [
             0.4444444444444444,
             "#bd3786"
            ],
            [
             0.5555555555555556,
             "#d8576b"
            ],
            [
             0.6666666666666666,
             "#ed7953"
            ],
            [
             0.7777777777777778,
             "#fb9f3a"
            ],
            [
             0.8888888888888888,
             "#fdca26"
            ],
            [
             1,
             "#f0f921"
            ]
           ]
          },
          "colorway": [
           "#636efa",
           "#EF553B",
           "#00cc96",
           "#ab63fa",
           "#FFA15A",
           "#19d3f3",
           "#FF6692",
           "#B6E880",
           "#FF97FF",
           "#FECB52"
          ],
          "font": {
           "color": "#2a3f5f"
          },
          "geo": {
           "bgcolor": "white",
           "lakecolor": "white",
           "landcolor": "white",
           "showlakes": true,
           "showland": true,
           "subunitcolor": "#C8D4E3"
          },
          "hoverlabel": {
           "align": "left"
          },
          "hovermode": "closest",
          "mapbox": {
           "style": "light"
          },
          "paper_bgcolor": "white",
          "plot_bgcolor": "white",
          "polar": {
           "angularaxis": {
            "gridcolor": "#EBF0F8",
            "linecolor": "#EBF0F8",
            "ticks": ""
           },
           "bgcolor": "white",
           "radialaxis": {
            "gridcolor": "#EBF0F8",
            "linecolor": "#EBF0F8",
            "ticks": ""
           }
          },
          "scene": {
           "xaxis": {
            "backgroundcolor": "white",
            "gridcolor": "#DFE8F3",
            "gridwidth": 2,
            "linecolor": "#EBF0F8",
            "showbackground": true,
            "ticks": "",
            "zerolinecolor": "#EBF0F8"
           },
           "yaxis": {
            "backgroundcolor": "white",
            "gridcolor": "#DFE8F3",
            "gridwidth": 2,
            "linecolor": "#EBF0F8",
            "showbackground": true,
            "ticks": "",
            "zerolinecolor": "#EBF0F8"
           },
           "zaxis": {
            "backgroundcolor": "white",
            "gridcolor": "#DFE8F3",
            "gridwidth": 2,
            "linecolor": "#EBF0F8",
            "showbackground": true,
            "ticks": "",
            "zerolinecolor": "#EBF0F8"
           }
          },
          "shapedefaults": {
           "line": {
            "color": "#2a3f5f"
           }
          },
          "ternary": {
           "aaxis": {
            "gridcolor": "#DFE8F3",
            "linecolor": "#A2B1C6",
            "ticks": ""
           },
           "baxis": {
            "gridcolor": "#DFE8F3",
            "linecolor": "#A2B1C6",
            "ticks": ""
           },
           "bgcolor": "white",
           "caxis": {
            "gridcolor": "#DFE8F3",
            "linecolor": "#A2B1C6",
            "ticks": ""
           }
          },
          "title": {
           "x": 0.05
          },
          "xaxis": {
           "automargin": true,
           "gridcolor": "#EBF0F8",
           "linecolor": "#EBF0F8",
           "ticks": "",
           "title": {
            "standoff": 15
           },
           "zerolinecolor": "#EBF0F8",
           "zerolinewidth": 2
          },
          "yaxis": {
           "automargin": true,
           "gridcolor": "#EBF0F8",
           "linecolor": "#EBF0F8",
           "ticks": "",
           "title": {
            "standoff": 15
           },
           "zerolinecolor": "#EBF0F8",
           "zerolinewidth": 2
          }
         }
        },
        "title": {
         "text": "Entity-level Embeddings"
        },
        "width": 1200,
        "xaxis": {
         "gridcolor": "lightgray",
         "gridwidth": 0.5,
         "linecolor": "black",
         "linewidth": 2,
         "mirror": true,
         "showline": true,
         "title": {
          "text": "TSNE 1 →"
         },
         "zeroline": true,
         "zerolinecolor": "black",
         "zerolinewidth": 1.2
        },
        "yaxis": {
         "gridcolor": "lightgray",
         "gridwidth": 0.5,
         "linecolor": "black",
         "linewidth": 2,
         "mirror": true,
         "showline": true,
         "title": {
          "text": "TSNE 2 →"
         },
         "zeroline": true,
         "zerolinecolor": "black",
         "zerolinewidth": 1.2
        }
       }
      }
     },
     "metadata": {},
     "output_type": "display_data"
    }
   ],
   "source": [
    "from sklearn.preprocessing import LabelEncoder\n",
    "\n",
    "from ml.visualizer import DynamicEmbeddingVisualizer\n",
    "\n",
    "entity_embs, entity_df = aggregate_entities(test_dataset)\n",
    "\n",
    "le = LabelEncoder()\n",
    "labels = le.fit_transform(entity_df[\"entity_label\"].tolist())\n",
    "\n",
    "vis = DynamicEmbeddingVisualizer(entity_embs, entity_df, labels=labels)\n",
    "\n",
    "vis.reduce_dimensionality(method=\"tsne\", n_components=2)\n",
    "\n",
    "vis.visualize(\n",
    "    method=\"tsne\",\n",
    "    title=\"Entity-level Embeddings\",\n",
    "    hover_columns=[\"entity_text\", \"entity_label\"],\n",
    "    idx2label={i: lbl for i, lbl in enumerate(le.classes_)}\n",
    ")\n"
   ]
  },
  {
   "cell_type": "markdown",
   "id": "125053f8",
   "metadata": {},
   "source": [
    "# Энтропии"
   ]
  },
  {
   "cell_type": "code",
   "execution_count": null,
   "id": "b223e9c8",
   "metadata": {},
   "outputs": [],
   "source": [
    "thresholds = test_dataset.compute_entropy_thresholds(\n",
    "    idx2label=idx2label,\n",
    "    method=\"prc\"\n",
    ")\n",
    "\n"
   ]
  },
  {
   "cell_type": "code",
   "execution_count": 231,
   "id": "bd02605d",
   "metadata": {},
   "outputs": [
    {
     "name": "stdout",
     "output_type": "stream",
     "text": [
      "Entropy thresholds per class:\n",
      "B-BRAND: 0.0253\n",
      "I-BRAND: 0.0324\n",
      "B-PERCENT: 0.1591\n",
      "I-PERCENT: 0.2872\n",
      "B-TYPE: 0.0104\n",
      "I-TYPE: 0.0174\n",
      "B-VOLUME: 0.0407\n",
      "I-VOLUME: 0.0704\n"
     ]
    }
   ],
   "source": [
    "print(\"Entropy thresholds per class:\")\n",
    "for k, v in thresholds.items():\n",
    "    print(f\"{k}: {v:.4f}\")"
   ]
  },
  {
   "cell_type": "code",
   "execution_count": 232,
   "id": "e44ea002",
   "metadata": {},
   "outputs": [
    {
     "name": "stdout",
     "output_type": "stream",
     "text": [
      "Samples selected: 2839\n",
      "Accuracy (confident): 94.12%\n",
      "Coverage: 90.24%\n",
      "\n",
      "=== Уверенные предсказания ===\n",
      "Точность: 94.12%\n"
     ]
    }
   ],
   "source": [
    "avg_threshold = np.mean(list(thresholds.values()))\n",
    "\n",
    "results_confident = test_dataset.evaluate_accuracy_by_entropy_thresholds(\n",
    "    thresholds=thresholds,\n",
    "    avg_threshold=avg_threshold,\n",
    "    confident=True,\n",
    "    idx2label=idx2label\n",
    ")\n",
    "print(\"\\n=== Уверенные предсказания ===\")\n",
    "print(f\"Точность: {results_confident['accuracy']:.2%}\")\n"
   ]
  },
  {
   "cell_type": "code",
   "execution_count": 248,
   "id": "e1b59afa",
   "metadata": {},
   "outputs": [
    {
     "data": {
      "text/html": [
       "<div>\n",
       "<style scoped>\n",
       "    .dataframe tbody tr th:only-of-type {\n",
       "        vertical-align: middle;\n",
       "    }\n",
       "\n",
       "    .dataframe tbody tr th {\n",
       "        vertical-align: top;\n",
       "    }\n",
       "\n",
       "    .dataframe thead th {\n",
       "        text-align: right;\n",
       "    }\n",
       "</style>\n",
       "<table border=\"1\" class=\"dataframe\">\n",
       "  <thead>\n",
       "    <tr style=\"text-align: right;\">\n",
       "      <th></th>\n",
       "      <th>text</th>\n",
       "      <th>entity_text</th>\n",
       "      <th>true_entities</th>\n",
       "      <th>pred_entity</th>\n",
       "      <th>entropy</th>\n",
       "      <th>threshold</th>\n",
       "      <th>correct</th>\n",
       "    </tr>\n",
       "  </thead>\n",
       "  <tbody>\n",
       "    <tr>\n",
       "      <th>1929</th>\n",
       "      <td>витчин</td>\n",
       "      <td>витчин</td>\n",
       "      <td>[(0, 6, B-TYPE)]</td>\n",
       "      <td>B-TYPE</td>\n",
       "      <td>0.039429</td>\n",
       "      <td>0.080367</td>\n",
       "      <td>1</td>\n",
       "    </tr>\n",
       "    <tr>\n",
       "      <th>1199</th>\n",
       "      <td>тесто дл пельменей</td>\n",
       "      <td>дл</td>\n",
       "      <td>[(9, 18, I-TYPE), (0, 5, B-TYPE), (6, 8, I-TYPE)]</td>\n",
       "      <td>I-TYPE</td>\n",
       "      <td>0.071702</td>\n",
       "      <td>0.080367</td>\n",
       "      <td>1</td>\n",
       "    </tr>\n",
       "    <tr>\n",
       "      <th>269</th>\n",
       "      <td>роликовый антиперспирант долгийй</td>\n",
       "      <td>долгийй</td>\n",
       "      <td>[(11, 26, I-TYPE), (27, 34, I-TYPE), (0, 10, B-TYPE)]</td>\n",
       "      <td>I-TYPE</td>\n",
       "      <td>0.070966</td>\n",
       "      <td>0.080367</td>\n",
       "      <td>0</td>\n",
       "    </tr>\n",
       "    <tr>\n",
       "      <th>1334</th>\n",
       "      <td>грушевы</td>\n",
       "      <td>грушевы</td>\n",
       "      <td>[(0, 7, B-TYPE)]</td>\n",
       "      <td>B-TYPE</td>\n",
       "      <td>0.053099</td>\n",
       "      <td>0.080367</td>\n",
       "      <td>1</td>\n",
       "    </tr>\n",
       "    <tr>\n",
       "      <th>483</th>\n",
       "      <td>слабосолёная</td>\n",
       "      <td>слабосолёная</td>\n",
       "      <td>[(0, 12, B-TYPE)]</td>\n",
       "      <td>B-TYPE</td>\n",
       "      <td>0.033280</td>\n",
       "      <td>0.080367</td>\n",
       "      <td>1</td>\n",
       "    </tr>\n",
       "    <tr>\n",
       "      <th>1188</th>\n",
       "      <td>молоко для закваски</td>\n",
       "      <td>молоко</td>\n",
       "      <td>[(11, 19, I-TYPE), (7, 10, I-TYPE), (0, 6, B-TYPE)]</td>\n",
       "      <td>B-TYPE</td>\n",
       "      <td>0.015985</td>\n",
       "      <td>0.080367</td>\n",
       "      <td>1</td>\n",
       "    </tr>\n",
       "    <tr>\n",
       "      <th>1</th>\n",
       "      <td>капченая</td>\n",
       "      <td>капченая</td>\n",
       "      <td>[(0, 8, B-TYPE)]</td>\n",
       "      <td>B-TYPE</td>\n",
       "      <td>0.025153</td>\n",
       "      <td>0.080367</td>\n",
       "      <td>1</td>\n",
       "    </tr>\n",
       "    <tr>\n",
       "      <th>2333</th>\n",
       "      <td>лонганища</td>\n",
       "      <td>лонганища</td>\n",
       "      <td>[(0, 9, B-TYPE)]</td>\n",
       "      <td>B-TYPE</td>\n",
       "      <td>0.050219</td>\n",
       "      <td>0.080367</td>\n",
       "      <td>1</td>\n",
       "    </tr>\n",
       "    <tr>\n",
       "      <th>2201</th>\n",
       "      <td>масло evo</td>\n",
       "      <td>масло</td>\n",
       "      <td>[(6, 9, B-BRAND), (0, 5, B-TYPE)]</td>\n",
       "      <td>B-TYPE</td>\n",
       "      <td>0.031497</td>\n",
       "      <td>0.080367</td>\n",
       "      <td>1</td>\n",
       "    </tr>\n",
       "    <tr>\n",
       "      <th>1899</th>\n",
       "      <td>щтка д обув</td>\n",
       "      <td>щтка</td>\n",
       "      <td>[(8, 13, I-TYPE), (0, 5, B-TYPE), (6, 7, I-TYPE)]</td>\n",
       "      <td>B-TYPE</td>\n",
       "      <td>0.033972</td>\n",
       "      <td>0.080367</td>\n",
       "      <td>0</td>\n",
       "    </tr>\n",
       "  </tbody>\n",
       "</table>\n",
       "</div>"
      ],
      "text/plain": [
       "                                  text   entity_text  \\\n",
       "1929                            витчин        витчин   \n",
       "1199                тесто дл пельменей            дл   \n",
       "269   роликовый антиперспирант долгийй       долгийй   \n",
       "1334                           грушевы       грушевы   \n",
       "483                       слабосолёная  слабосолёная   \n",
       "1188               молоко для закваски        молоко   \n",
       "1                             капченая      капченая   \n",
       "2333                         лонганища     лонганища   \n",
       "2201                         масло evo         масло   \n",
       "1899                       щтка д обув          щтка   \n",
       "\n",
       "                                              true_entities pred_entity  \\\n",
       "1929                                       [(0, 6, B-TYPE)]      B-TYPE   \n",
       "1199      [(9, 18, I-TYPE), (0, 5, B-TYPE), (6, 8, I-TYPE)]      I-TYPE   \n",
       "269   [(11, 26, I-TYPE), (27, 34, I-TYPE), (0, 10, B-TYPE)]      I-TYPE   \n",
       "1334                                       [(0, 7, B-TYPE)]      B-TYPE   \n",
       "483                                       [(0, 12, B-TYPE)]      B-TYPE   \n",
       "1188    [(11, 19, I-TYPE), (7, 10, I-TYPE), (0, 6, B-TYPE)]      B-TYPE   \n",
       "1                                          [(0, 8, B-TYPE)]      B-TYPE   \n",
       "2333                                       [(0, 9, B-TYPE)]      B-TYPE   \n",
       "2201                      [(6, 9, B-BRAND), (0, 5, B-TYPE)]      B-TYPE   \n",
       "1899      [(8, 13, I-TYPE), (0, 5, B-TYPE), (6, 7, I-TYPE)]      B-TYPE   \n",
       "\n",
       "       entropy  threshold  correct  \n",
       "1929  0.039429   0.080367        1  \n",
       "1199  0.071702   0.080367        1  \n",
       "269   0.070966   0.080367        0  \n",
       "1334  0.053099   0.080367        1  \n",
       "483   0.033280   0.080367        1  \n",
       "1188  0.015985   0.080367        1  \n",
       "1     0.025153   0.080367        1  \n",
       "2333  0.050219   0.080367        1  \n",
       "2201  0.031497   0.080367        1  \n",
       "1899  0.033972   0.080367        0  "
      ]
     },
     "execution_count": 248,
     "metadata": {},
     "output_type": "execute_result"
    }
   ],
   "source": [
    "results_confident[\"predictions_df\"].sample(10)"
   ]
  },
  {
   "cell_type": "code",
   "execution_count": 234,
   "id": "615b1341",
   "metadata": {},
   "outputs": [
    {
     "name": "stdout",
     "output_type": "stream",
     "text": [
      "Samples selected: 2540\n",
      "Accuracy (uncertain): 71.30%\n",
      "Coverage: 80.74%\n",
      "\n",
      "=== Неуверенные предсказания ===\n",
      "Точность: 71.30%\n"
     ]
    }
   ],
   "source": [
    "results_uncertain = test_dataset.evaluate_accuracy_by_entropy_thresholds(\n",
    "    thresholds=thresholds,\n",
    "    avg_threshold=avg_threshold,\n",
    "    confident=False,\n",
    "    idx2label=idx2label\n",
    ")\n",
    "\n",
    "print(\"\\n=== Неуверенные предсказания ===\")\n",
    "print(f\"Точность: {results_uncertain['accuracy']:.2%}\")"
   ]
  },
  {
   "cell_type": "code",
   "execution_count": 235,
   "id": "61da4435",
   "metadata": {},
   "outputs": [
    {
     "data": {
      "text/html": [
       "<div>\n",
       "<style scoped>\n",
       "    .dataframe tbody tr th:only-of-type {\n",
       "        vertical-align: middle;\n",
       "    }\n",
       "\n",
       "    .dataframe tbody tr th {\n",
       "        vertical-align: top;\n",
       "    }\n",
       "\n",
       "    .dataframe thead th {\n",
       "        text-align: right;\n",
       "    }\n",
       "</style>\n",
       "<table border=\"1\" class=\"dataframe\">\n",
       "  <thead>\n",
       "    <tr style=\"text-align: right;\">\n",
       "      <th></th>\n",
       "      <th>text</th>\n",
       "      <th>entity_text</th>\n",
       "      <th>true_entities</th>\n",
       "      <th>pred_entity</th>\n",
       "      <th>entropy</th>\n",
       "      <th>threshold</th>\n",
       "      <th>correct</th>\n",
       "    </tr>\n",
       "  </thead>\n",
       "  <tbody>\n",
       "    <tr>\n",
       "      <th>2009</th>\n",
       "      <td>лук к жарк</td>\n",
       "      <td>к</td>\n",
       "      <td>[(4, 5, I-TYPE), (6, 10, I-TYPE), (0, 3, B-TYPE)]</td>\n",
       "      <td>I-TYPE</td>\n",
       "      <td>0.181972</td>\n",
       "      <td>0.080367</td>\n",
       "      <td>1</td>\n",
       "    </tr>\n",
       "    <tr>\n",
       "      <th>2459</th>\n",
       "      <td>lav</td>\n",
       "      <td>lav</td>\n",
       "      <td>[(0, 3, B-BRAND)]</td>\n",
       "      <td>B-BRAND</td>\n",
       "      <td>0.225920</td>\n",
       "      <td>0.080367</td>\n",
       "      <td>1</td>\n",
       "    </tr>\n",
       "    <tr>\n",
       "      <th>1569</th>\n",
       "      <td>средств дл малышей гиген</td>\n",
       "      <td>дл</td>\n",
       "      <td>[(11, 18, I-TYPE), (0, 7, B-TYPE), (8, 10, I-TYPE), (19, 24, I-TYPE)]</td>\n",
       "      <td>I-TYPE</td>\n",
       "      <td>0.083989</td>\n",
       "      <td>0.080367</td>\n",
       "      <td>1</td>\n",
       "    </tr>\n",
       "    <tr>\n",
       "      <th>2406</th>\n",
       "      <td>торти cara</td>\n",
       "      <td>торти</td>\n",
       "      <td>[(6, 10, B-BRAND), (0, 5, B-TYPE)]</td>\n",
       "      <td>B-TYPE</td>\n",
       "      <td>0.090895</td>\n",
       "      <td>0.080367</td>\n",
       "      <td>1</td>\n",
       "    </tr>\n",
       "    <tr>\n",
       "      <th>1127</th>\n",
       "      <td>пасха растишка</td>\n",
       "      <td>растишка</td>\n",
       "      <td>[(6, 14, B-BRAND), (0, 5, B-TYPE)]</td>\n",
       "      <td>B-BRAND</td>\n",
       "      <td>0.563129</td>\n",
       "      <td>0.080367</td>\n",
       "      <td>1</td>\n",
       "    </tr>\n",
       "    <tr>\n",
       "      <th>1898</th>\n",
       "      <td>степь н</td>\n",
       "      <td>н</td>\n",
       "      <td>[(6, 7, B-TYPE), (0, 5, B-BRAND)]</td>\n",
       "      <td>I-BRAND</td>\n",
       "      <td>0.771589</td>\n",
       "      <td>0.080367</td>\n",
       "      <td>0</td>\n",
       "    </tr>\n",
       "    <tr>\n",
       "      <th>671</th>\n",
       "      <td>спагнети</td>\n",
       "      <td>спагнети</td>\n",
       "      <td>[(0, 8, B-TYPE)]</td>\n",
       "      <td>B-TYPE</td>\n",
       "      <td>0.103290</td>\n",
       "      <td>0.080367</td>\n",
       "      <td>1</td>\n",
       "    </tr>\n",
       "    <tr>\n",
       "      <th>1713</th>\n",
       "      <td>лосьон длы малышей гигиен</td>\n",
       "      <td>гигиен</td>\n",
       "      <td>[(20, 26, I-TYPE), (11, 19, I-TYPE), (7, 10, I-TYPE), (0, 6, B-TYPE)]</td>\n",
       "      <td>I-TYPE</td>\n",
       "      <td>0.092372</td>\n",
       "      <td>0.080367</td>\n",
       "      <td>0</td>\n",
       "    </tr>\n",
       "    <tr>\n",
       "      <th>1438</th>\n",
       "      <td>мармелад haribo 100 g</td>\n",
       "      <td>100</td>\n",
       "      <td>[(16, 20, B-VOLUME), (9, 15, B-BRAND), (0, 8, B-TYPE)]</td>\n",
       "      <td>B-VOLUME</td>\n",
       "      <td>0.233006</td>\n",
       "      <td>0.080367</td>\n",
       "      <td>0</td>\n",
       "    </tr>\n",
       "    <tr>\n",
       "      <th>2056</th>\n",
       "      <td>brayer кофеварок</td>\n",
       "      <td>кофеварок</td>\n",
       "      <td>[(7, 16, B-TYPE), (0, 6, B-BRAND)]</td>\n",
       "      <td>B-TYPE</td>\n",
       "      <td>0.217527</td>\n",
       "      <td>0.080367</td>\n",
       "      <td>1</td>\n",
       "    </tr>\n",
       "  </tbody>\n",
       "</table>\n",
       "</div>"
      ],
      "text/plain": [
       "                           text entity_text  \\\n",
       "2009                 лук к жарк           к   \n",
       "2459                        lav         lav   \n",
       "1569   средств дл малышей гиген          дл   \n",
       "2406                 торти cara       торти   \n",
       "1127             пасха растишка    растишка   \n",
       "1898                    степь н           н   \n",
       "671                    спагнети    спагнети   \n",
       "1713  лосьон длы малышей гигиен      гигиен   \n",
       "1438      мармелад haribo 100 g         100   \n",
       "2056           brayer кофеварок   кофеварок   \n",
       "\n",
       "                                                              true_entities  \\\n",
       "2009                      [(4, 5, I-TYPE), (6, 10, I-TYPE), (0, 3, B-TYPE)]   \n",
       "2459                                                      [(0, 3, B-BRAND)]   \n",
       "1569  [(11, 18, I-TYPE), (0, 7, B-TYPE), (8, 10, I-TYPE), (19, 24, I-TYPE)]   \n",
       "2406                                     [(6, 10, B-BRAND), (0, 5, B-TYPE)]   \n",
       "1127                                     [(6, 14, B-BRAND), (0, 5, B-TYPE)]   \n",
       "1898                                      [(6, 7, B-TYPE), (0, 5, B-BRAND)]   \n",
       "671                                                        [(0, 8, B-TYPE)]   \n",
       "1713  [(20, 26, I-TYPE), (11, 19, I-TYPE), (7, 10, I-TYPE), (0, 6, B-TYPE)]   \n",
       "1438                 [(16, 20, B-VOLUME), (9, 15, B-BRAND), (0, 8, B-TYPE)]   \n",
       "2056                                     [(7, 16, B-TYPE), (0, 6, B-BRAND)]   \n",
       "\n",
       "     pred_entity   entropy  threshold  correct  \n",
       "2009      I-TYPE  0.181972   0.080367        1  \n",
       "2459     B-BRAND  0.225920   0.080367        1  \n",
       "1569      I-TYPE  0.083989   0.080367        1  \n",
       "2406      B-TYPE  0.090895   0.080367        1  \n",
       "1127     B-BRAND  0.563129   0.080367        1  \n",
       "1898     I-BRAND  0.771589   0.080367        0  \n",
       "671       B-TYPE  0.103290   0.080367        1  \n",
       "1713      I-TYPE  0.092372   0.080367        0  \n",
       "1438    B-VOLUME  0.233006   0.080367        0  \n",
       "2056      B-TYPE  0.217527   0.080367        1  "
      ]
     },
     "execution_count": 235,
     "metadata": {},
     "output_type": "execute_result"
    }
   ],
   "source": [
    "results_uncertain[\"predictions_df\"].sample(10)"
   ]
  },
  {
   "cell_type": "markdown",
   "id": "2f5d6a98",
   "metadata": {},
   "source": [
    "# Ручное тестирование"
   ]
  },
  {
   "cell_type": "code",
   "execution_count": 236,
   "id": "0a303d9e",
   "metadata": {},
   "outputs": [],
   "source": [
    "import json\n",
    "from pathlib import Path\n",
    "\n",
    "from ml.pipline import NERPipelineCRF\n",
    "\n",
    "model_dir = DATA_PATH_SAVE_MODELS / \"ner_x5\"\n",
    "label2idx_path = DATA_PATH_SAVE_MODELS / \"label2idx.json\"\n",
    "idx2label_path = DATA_PATH_SAVE_MODELS / \"idx2label.json\"\n",
    "\n",
    "with open(label2idx_path, \"r\", encoding=\"utf-8\") as f:\n",
    "    label2idx = json.load(f)\n",
    "\n",
    "with open(idx2label_path, \"r\", encoding=\"utf-8\") as f:\n",
    "    idx2label = {int(k): v for k, v in json.load(f).items()}\n",
    "\n",
    "pipeline = NERPipelineCRF(\n",
    "    model_path=model_dir,\n",
    "    label2idx=label2idx,\n",
    "    idx2label=idx2label,\n",
    "    max_length=16\n",
    ")\n"
   ]
  },
  {
   "cell_type": "code",
   "execution_count": 237,
   "id": "3670b02f",
   "metadata": {},
   "outputs": [
    {
     "name": "stdout",
     "output_type": "stream",
     "text": [
      "Текст: йогурт данисимо фантазия\n",
      "[{'start_index': 0, 'end_index': 6, 'entity': 'B-TYPE', 'word': 'йогурт'}, {'start_index': 7, 'end_index': 15, 'entity': 'B-BRAND', 'word': 'данисимо'}, {'start_index': 16, 'end_index': 24, 'entity': 'I-BRAND', 'word': 'фантазия'}]\n",
      "Текст: молоко простоквашино 3.2% 930г\n",
      "[{'start_index': 0, 'end_index': 6, 'entity': 'B-TYPE', 'word': 'молоко'}, {'start_index': 7, 'end_index': 20, 'entity': 'B-BRAND', 'word': 'простоквашино'}, {'start_index': 21, 'end_index': 25, 'entity': 'B-PERCENT', 'word': '3.2%'}, {'start_index': 26, 'end_index': 30, 'entity': 'B-VOLUME', 'word': '930г'}]\n",
      "Текст: хлеб бородинский нарезка 300г\n",
      "[{'start_index': 0, 'end_index': 4, 'entity': 'B-TYPE', 'word': 'хлеб'}, {'start_index': 5, 'end_index': 16, 'entity': 'I-TYPE', 'word': 'бородинский'}, {'start_index': 17, 'end_index': 24, 'entity': 'I-TYPE', 'word': 'нарезка'}, {'start_index': 25, 'end_index': 29, 'entity': 'B-VOLUME', 'word': '300г'}]\n",
      "Текст: мороженнае как бы его взтять\n",
      "[{'start_index': 0, 'end_index': 10, 'entity': 'B-TYPE', 'word': 'мороженнае'}, {'start_index': 11, 'end_index': 14, 'entity': 'I-TYPE', 'word': 'как'}, {'start_index': 15, 'end_index': 17, 'entity': 'O', 'word': 'бы'}, {'start_index': 18, 'end_index': 21, 'entity': 'I-TYPE', 'word': 'его'}, {'start_index': 22, 'end_index': 28, 'entity': 'I-TYPE', 'word': 'взтять'}]\n",
      "Текст: молоко⁷ цельное\n",
      "[{'start_index': 8, 'end_index': 15, 'entity': 'I-TYPE', 'word': 'цельное'}]\n",
      "Текст: паштет для кошки\n",
      "[{'start_index': 0, 'end_index': 6, 'entity': 'B-TYPE', 'word': 'паштет'}, {'start_index': 7, 'end_index': 10, 'entity': 'I-TYPE', 'word': 'для'}, {'start_index': 11, 'end_index': 16, 'entity': 'I-TYPE', 'word': 'кошки'}]\n",
      "Текст: погремушки fisher-pri\n",
      "[{'start_index': 0, 'end_index': 10, 'entity': 'B-TYPE', 'word': 'погремушки'}, {'start_index': 11, 'end_index': 21, 'entity': 'B-BRAND', 'word': 'fisher-pri'}]\n",
      "Текст: сырокопченая-колбаск\n",
      "[{'start_index': 0, 'end_index': 20, 'entity': 'B-TYPE', 'word': 'сырокопченая-колбаск'}]\n",
      "Текст: мясное пюре для пупсов, 250г,\n",
      "[{'start_index': 0, 'end_index': 6, 'entity': 'B-TYPE', 'word': 'мясное'}, {'start_index': 7, 'end_index': 11, 'entity': 'I-TYPE', 'word': 'пюре'}, {'start_index': 12, 'end_index': 15, 'entity': 'I-TYPE', 'word': 'для'}, {'start_index': 16, 'end_index': 23, 'entity': 'I-TYPE', 'word': 'пупсов,'}, {'start_index': 24, 'end_index': 29, 'entity': 'B-VOLUME', 'word': '250г,'}]\n"
     ]
    }
   ],
   "source": [
    "text = [\n",
    "    \"йогурт данисимо фантазия\",\n",
    "    \"молоко простоквашино 3.2% 930г\",\n",
    "    \"хлеб бородинский нарезка 300г\",\n",
    "    \"мороженнае как бы его взтять\",\n",
    "    \"молоко⁷ цельное\",\n",
    "    \"паштет для кошки\",\n",
    "    \"погремушки fisher-pri\",   \n",
    "    \"сырокопченая-колбаск\",\n",
    "    \"мясное пюре для пупсов, 250г,\",\n",
    "]\n",
    "entities = pipeline.predict(text, return_word=True)\n",
    "\n",
    "for i, entity in enumerate(entities):\n",
    "    print(f\"Текст: {text[i]}\")\n",
    "    print(entity)"
   ]
  },
  {
   "cell_type": "code",
   "execution_count": 238,
   "id": "80260521",
   "metadata": {},
   "outputs": [],
   "source": [
    "import pandas as pd\n",
    "from tqdm import tqdm\n",
    "\n",
    "def run_inference_on_dataframe(\n",
    "    pipeline, \n",
    "    df: pd.DataFrame,\n",
    "    text_col: str = \"sample\", \n",
    "    batch_size: int = 64\n",
    ") -> pd.DataFrame:\n",
    "    \n",
    "    texts = df[text_col].tolist()\n",
    "    all_entities = []\n",
    "\n",
    "    for i in tqdm(range(0, len(texts), batch_size), desc=\"Running inference\", ncols=100):\n",
    "        batch_texts = texts[i:i+batch_size]\n",
    "        batch_entities = pipeline.predict(batch_texts, batch_size=batch_size)\n",
    "        all_entities.extend(batch_entities)\n",
    "\n",
    "    formatted_entities = [\n",
    "        [(ent[\"start_index\"], ent[\"end_index\"], ent[\"entity\"]) for ent in ents]\n",
    "        for ents in all_entities\n",
    "    ]\n",
    "\n",
    "    df_result = pd.DataFrame({\n",
    "        \"id\": range(1, len(texts) + 1),\n",
    "        \"search_query\": texts,\n",
    "        \"annotation\": formatted_entities\n",
    "    })\n",
    "\n",
    "    return df_result\n"
   ]
  },
  {
   "cell_type": "code",
   "execution_count": 239,
   "id": "2d7e89c5",
   "metadata": {},
   "outputs": [
    {
     "name": "stderr",
     "output_type": "stream",
     "text": [
      "Running inference: 100%|████████████████████████████████████████████| 79/79 [00:05<00:00, 13.23it/s]\n"
     ]
    }
   ],
   "source": [
    "df_result = run_inference_on_dataframe(pipeline, df_submission, text_col=\"sample\", batch_size=64)\n"
   ]
  },
  {
   "cell_type": "code",
   "execution_count": 240,
   "id": "4858d928",
   "metadata": {},
   "outputs": [
    {
     "data": {
      "text/html": [
       "<div>\n",
       "<style scoped>\n",
       "    .dataframe tbody tr th:only-of-type {\n",
       "        vertical-align: middle;\n",
       "    }\n",
       "\n",
       "    .dataframe tbody tr th {\n",
       "        vertical-align: top;\n",
       "    }\n",
       "\n",
       "    .dataframe thead th {\n",
       "        text-align: right;\n",
       "    }\n",
       "</style>\n",
       "<table border=\"1\" class=\"dataframe\">\n",
       "  <thead>\n",
       "    <tr style=\"text-align: right;\">\n",
       "      <th></th>\n",
       "      <th>id</th>\n",
       "      <th>search_query</th>\n",
       "      <th>annotation</th>\n",
       "    </tr>\n",
       "  </thead>\n",
       "  <tbody>\n",
       "    <tr>\n",
       "      <th>1778</th>\n",
       "      <td>1779</td>\n",
       "      <td>торт прага</td>\n",
       "      <td>[(0, 4, B-TYPE), (5, 10, I-TYPE)]</td>\n",
       "    </tr>\n",
       "    <tr>\n",
       "      <th>1448</th>\n",
       "      <td>1449</td>\n",
       "      <td>перец острый молотый</td>\n",
       "      <td>[(0, 5, B-TYPE), (6, 12, I-TYPE), (13, 20, I-TYPE)]</td>\n",
       "    </tr>\n",
       "    <tr>\n",
       "      <th>1445</th>\n",
       "      <td>1446</td>\n",
       "      <td>сахарная</td>\n",
       "      <td>[(0, 8, B-TYPE)]</td>\n",
       "    </tr>\n",
       "    <tr>\n",
       "      <th>2560</th>\n",
       "      <td>2561</td>\n",
       "      <td>яблоко персик</td>\n",
       "      <td>[(0, 6, B-TYPE), (7, 13, I-TYPE)]</td>\n",
       "    </tr>\n",
       "    <tr>\n",
       "      <th>1925</th>\n",
       "      <td>1926</td>\n",
       "      <td>печенье сдобное</td>\n",
       "      <td>[(0, 7, B-TYPE), (8, 15, I-TYPE)]</td>\n",
       "    </tr>\n",
       "  </tbody>\n",
       "</table>\n",
       "</div>"
      ],
      "text/plain": [
       "        id          search_query  \\\n",
       "1778  1779            торт прага   \n",
       "1448  1449  перец острый молотый   \n",
       "1445  1446              сахарная   \n",
       "2560  2561         яблоко персик   \n",
       "1925  1926       печенье сдобное   \n",
       "\n",
       "                                               annotation  \n",
       "1778                    [(0, 4, B-TYPE), (5, 10, I-TYPE)]  \n",
       "1448  [(0, 5, B-TYPE), (6, 12, I-TYPE), (13, 20, I-TYPE)]  \n",
       "1445                                     [(0, 8, B-TYPE)]  \n",
       "2560                    [(0, 6, B-TYPE), (7, 13, I-TYPE)]  \n",
       "1925                    [(0, 7, B-TYPE), (8, 15, I-TYPE)]  "
      ]
     },
     "execution_count": 240,
     "metadata": {},
     "output_type": "execute_result"
    }
   ],
   "source": [
    "df_result.sample(5)"
   ]
  },
  {
   "cell_type": "code",
   "execution_count": 241,
   "id": "09516199",
   "metadata": {},
   "outputs": [],
   "source": [
    "df_result.to_csv(DATA_PATH_DOWNLOAD /  \"submission.csv\", index=False, sep=\";\")\n"
   ]
  }
 ],
 "metadata": {
  "kernelspec": {
   "display_name": ".venv",
   "language": "python",
   "name": "python3"
  },
  "language_info": {
   "codemirror_mode": {
    "name": "ipython",
    "version": 3
   },
   "file_extension": ".py",
   "mimetype": "text/x-python",
   "name": "python",
   "nbconvert_exporter": "python",
   "pygments_lexer": "ipython3",
   "version": "3.11.5"
  }
 },
 "nbformat": 4,
 "nbformat_minor": 5
}
